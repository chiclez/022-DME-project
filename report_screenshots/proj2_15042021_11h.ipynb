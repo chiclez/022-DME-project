{
  "cells": [
    {
      "cell_type": "markdown",
      "source": "# Machine Learning in Python Project 2 \n\nDue Friday, April 16th by 5 pm UK local time.",
      "metadata": {
        "cell_id": "00000-51f7e826-444b-41b1-8f36-5850c8ca593e",
        "deepnote_cell_type": "markdown"
      }
    },
    {
      "cell_type": "markdown",
      "source": "Stephen Gallagher, Ishaan S Jolly, Mariel Reyes-Salazar, Julia Stachurska",
      "metadata": {
        "cell_id": "00001-1a091913-40c4-4549-b2b5-64da3db26972",
        "deepnote_cell_type": "markdown"
      }
    },
    {
      "cell_type": "markdown",
      "source": "## 0. Setup",
      "metadata": {
        "cell_id": "00002-f12ce9bf-c70a-41cc-8370-b3af06d0e805",
        "deepnote_cell_type": "markdown"
      }
    },
    {
      "cell_type": "code",
      "metadata": {
        "cell_id": "00003-5646c45e-61da-4a68-a49d-aa904c1e88a1",
        "deepnote_to_be_reexecuted": false,
        "source_hash": "8fb45546",
        "execution_millis": 4896,
        "output_cleared": false,
        "execution_start": 1618471137570,
        "deepnote_cell_type": "code"
      },
      "source": "# Install required packages\n!pip install -q -r requirements.txt",
      "execution_count": null,
      "outputs": []
    },
    {
      "cell_type": "code",
      "metadata": {
        "cell_id": "00004-0a076864-9204-45d9-b716-90011cd142da",
        "deepnote_to_be_reexecuted": false,
        "source_hash": "3734064b",
        "execution_millis": 4297,
        "execution_start": 1618471142472,
        "deepnote_cell_type": "code"
      },
      "source": "# Add any additional libraries or submodules below\n\n# Display plots inline\n%matplotlib inline\n\n# Data libraries\nimport pandas as pd\nimport numpy as np\n\n# Plotting libraries\nimport matplotlib.pyplot as plt\nfrom matplotlib import pyplot\nimport seaborn as sns\n\n# Plotting defaults\nplt.rcParams['figure.figsize'] = (8,5)\nplt.rcParams['figure.dpi'] = 80\n\n# sklearn modules\nimport sklearn\nimport sklearn.tree\nimport sklearn.cluster\nimport sklearn.ensemble \nimport sklearn.neighbors\nfrom sklearn.utils import resample\nfrom sklearn.model_selection import train_test_split\nfrom sklearn.linear_model import LogisticRegression, LogisticRegressionCV\nfrom sklearn.manifold import TSNE, Isomap, MDS\nfrom sklearn.preprocessing import StandardScaler\nfrom sklearn.decomposition import PCA, KernelPCA\nfrom sklearn.feature_selection import SelectKBest, VarianceThreshold\nfrom sklearn.pipeline import make_pipeline\nfrom sklearn.compose import make_column_transformer\nfrom scipy.cluster.hierarchy import dendrogram\nfrom sklearn.pipeline import make_pipeline\nfrom sklearn.metrics import mean_squared_error, roc_curve, roc_auc_score\nfrom sklearn.tree import DecisionTreeClassifier\nfrom sklearn.model_selection import GridSearchCV, RandomizedSearchCV, KFold, StratifiedKFold\n\nimport itertools\nfrom time import time\nimport joblib\nimport warnings\nwarnings.filterwarnings('ignore')\n\n#helper function \nfrom helper import *\n\n# Scipy\nimport scipy.cluster",
      "execution_count": null,
      "outputs": []
    },
    {
      "cell_type": "code",
      "metadata": {
        "cell_id": "00005-2cfd269a-e091-4397-a3fb-ca561705453e",
        "deepnote_to_be_reexecuted": false,
        "source_hash": "a02a3f38",
        "execution_millis": 427,
        "execution_start": 1618471146777,
        "deepnote_cell_type": "code"
      },
      "source": "# Load data\nd = pd.read_csv(\"hotel.csv\")",
      "execution_count": null,
      "outputs": []
    },
    {
      "cell_type": "markdown",
      "source": "## 1. Introduction\nIn this project, we help hotel operators understand patterns in their customers' bookings and the reasons why customers cancel their reservations. We referenced the dataset by Antonio, Almeida and Nunes. This data set contains information collected from two hotels located in Portugal: a resort hotel and a city hotel situated in Lisbon. We noticed that similar features were reported, such as the total number of special requests, the number of adults, children and babies. In addition to these features, because the dataset provided to us differs from Antonio et al (2019), our feature section included additional features for efficacy and to ensure better predictions are rendered. \n\nBefore exploring the data, we first divided the data into three sets: test, train and validation. We also realised that the dataset lacked several values for children, country, agent and company. Our team assumed that those missing values are a result of human error and thus chose to impute the values for these variables based on median and mode. Following data were explored through a series of figures and the importance of each variable was noted to affirm our feature selection. \n\nAfter feature engineering, our team trained the model, multiple models, on our training set and tested it on the validation set and then on the testing set, respectively. Moreover, the Logistic Regression model is our baseline model. Our models were compared by a,b,c and which comparisons were better than others. \n\n",
      "metadata": {
        "cell_id": "00006-11e0046c-691d-4cb7-a499-ebf0f922e91e",
        "deepnote_cell_type": "markdown"
      }
    },
    {
      "cell_type": "code",
      "metadata": {
        "tags": [],
        "cell_id": "00007-f4cc32dd-0995-470e-8d99-f449cab2b595",
        "deepnote_to_be_reexecuted": false,
        "source_hash": "938a17d7",
        "execution_millis": 12,
        "is_code_hidden": true,
        "output_cleared": false,
        "execution_start": 1618471147208,
        "deepnote_cell_type": "code"
      },
      "source": "# Descriptive information\nheader = \"Dataset information\"\nprint(header)\nprint(\"=\"*len(header))\n\nprint(\"Number of rows: \", d.shape[0])\nprint(\"Number of columns: \", d.shape[1])\nprint(\"Column names:\", )\nfor i in d.columns:\n    print(i, end = \",\")\n",
      "execution_count": null,
      "outputs": [
        {
          "name": "stdout",
          "text": "Dataset information\n===================\nNumber of rows:  119390\nNumber of columns:  30\nColumn names:\nis_canceled,hotel,lead_time,arrival_date_year,arrival_date_month,arrival_date_week_number,arrival_date_day_of_month,stays_in_weekend_nights,stays_in_week_nights,adults,children,babies,meal,country,market_segment,distribution_channel,is_repeated_guest,previous_cancellations,previous_bookings_not_canceled,reserved_room_type,assigned_room_type,booking_changes,deposit_type,agent,company,days_in_waiting_list,customer_type,adr,required_car_parking_spaces,total_of_special_requests,",
          "output_type": "stream"
        }
      ]
    },
    {
      "cell_type": "code",
      "metadata": {
        "tags": [],
        "cell_id": "00008-51803358-613a-49d2-908c-79ae4b48c427",
        "deepnote_to_be_reexecuted": false,
        "source_hash": "2e42a506",
        "execution_millis": 167,
        "is_code_hidden": true,
        "output_cleared": false,
        "execution_start": 1618471147233,
        "deepnote_cell_type": "code"
      },
      "source": "# Descriptive statistics\nd.describe()",
      "execution_count": null,
      "outputs": [
        {
          "output_type": "execute_result",
          "execution_count": 5,
          "data": {
            "application/vnd.deepnote.dataframe.v2+json": {
              "row_count": 8,
              "column_count": 20,
              "columns": [
                {
                  "name": "is_canceled",
                  "dtype": "float64",
                  "stats": {
                    "unique_count": 5,
                    "nan_count": 0,
                    "min": "0.0",
                    "max": "119390.0",
                    "histogram": [
                      {
                        "bin_start": 0,
                        "bin_end": 11939,
                        "count": 7
                      },
                      {
                        "bin_start": 11939,
                        "bin_end": 23878,
                        "count": 0
                      },
                      {
                        "bin_start": 23878,
                        "bin_end": 35817,
                        "count": 0
                      },
                      {
                        "bin_start": 35817,
                        "bin_end": 47756,
                        "count": 0
                      },
                      {
                        "bin_start": 47756,
                        "bin_end": 59695,
                        "count": 0
                      },
                      {
                        "bin_start": 59695,
                        "bin_end": 71634,
                        "count": 0
                      },
                      {
                        "bin_start": 71634,
                        "bin_end": 83573,
                        "count": 0
                      },
                      {
                        "bin_start": 83573,
                        "bin_end": 95512,
                        "count": 0
                      },
                      {
                        "bin_start": 95512,
                        "bin_end": 107451,
                        "count": 0
                      },
                      {
                        "bin_start": 107451,
                        "bin_end": 119390,
                        "count": 1
                      }
                    ]
                  }
                },
                {
                  "name": "lead_time",
                  "dtype": "float64",
                  "stats": {
                    "unique_count": 8,
                    "nan_count": 0,
                    "min": "0.0",
                    "max": "119390.0",
                    "histogram": [
                      {
                        "bin_start": 0,
                        "bin_end": 11939,
                        "count": 7
                      },
                      {
                        "bin_start": 11939,
                        "bin_end": 23878,
                        "count": 0
                      },
                      {
                        "bin_start": 23878,
                        "bin_end": 35817,
                        "count": 0
                      },
                      {
                        "bin_start": 35817,
                        "bin_end": 47756,
                        "count": 0
                      },
                      {
                        "bin_start": 47756,
                        "bin_end": 59695,
                        "count": 0
                      },
                      {
                        "bin_start": 59695,
                        "bin_end": 71634,
                        "count": 0
                      },
                      {
                        "bin_start": 71634,
                        "bin_end": 83573,
                        "count": 0
                      },
                      {
                        "bin_start": 83573,
                        "bin_end": 95512,
                        "count": 0
                      },
                      {
                        "bin_start": 95512,
                        "bin_end": 107451,
                        "count": 0
                      },
                      {
                        "bin_start": 107451,
                        "bin_end": 119390,
                        "count": 1
                      }
                    ]
                  }
                },
                {
                  "name": "arrival_date_year",
                  "dtype": "float64",
                  "stats": {
                    "unique_count": 6,
                    "nan_count": 0,
                    "min": "0.7074759445203559",
                    "max": "119390.0",
                    "histogram": [
                      {
                        "bin_start": 0.7074759445203559,
                        "bin_end": 11939.636728350068,
                        "count": 7
                      },
                      {
                        "bin_start": 11939.636728350068,
                        "bin_end": 23878.565980755615,
                        "count": 0
                      },
                      {
                        "bin_start": 23878.565980755615,
                        "bin_end": 35817.49523316116,
                        "count": 0
                      },
                      {
                        "bin_start": 35817.49523316116,
                        "bin_end": 47756.424485566706,
                        "count": 0
                      },
                      {
                        "bin_start": 47756.424485566706,
                        "bin_end": 59695.353737972255,
                        "count": 0
                      },
                      {
                        "bin_start": 59695.353737972255,
                        "bin_end": 71634.2829903778,
                        "count": 0
                      },
                      {
                        "bin_start": 71634.2829903778,
                        "bin_end": 83573.21224278335,
                        "count": 0
                      },
                      {
                        "bin_start": 83573.21224278335,
                        "bin_end": 95512.1414951889,
                        "count": 0
                      },
                      {
                        "bin_start": 95512.1414951889,
                        "bin_end": 107451.07074759445,
                        "count": 0
                      },
                      {
                        "bin_start": 107451.07074759445,
                        "bin_end": 119390,
                        "count": 1
                      }
                    ]
                  }
                },
                {
                  "name": "arrival_date_week_number",
                  "dtype": "float64",
                  "stats": {
                    "unique_count": 8,
                    "nan_count": 0,
                    "min": "1.0",
                    "max": "119390.0",
                    "histogram": [
                      {
                        "bin_start": 1,
                        "bin_end": 11939.9,
                        "count": 7
                      },
                      {
                        "bin_start": 11939.9,
                        "bin_end": 23878.8,
                        "count": 0
                      },
                      {
                        "bin_start": 23878.8,
                        "bin_end": 35817.7,
                        "count": 0
                      },
                      {
                        "bin_start": 35817.7,
                        "bin_end": 47756.6,
                        "count": 0
                      },
                      {
                        "bin_start": 47756.6,
                        "bin_end": 59695.5,
                        "count": 0
                      },
                      {
                        "bin_start": 59695.5,
                        "bin_end": 71634.4,
                        "count": 0
                      },
                      {
                        "bin_start": 71634.4,
                        "bin_end": 83573.3,
                        "count": 0
                      },
                      {
                        "bin_start": 83573.3,
                        "bin_end": 95512.2,
                        "count": 0
                      },
                      {
                        "bin_start": 95512.2,
                        "bin_end": 107451.09999999999,
                        "count": 0
                      },
                      {
                        "bin_start": 107451.09999999999,
                        "bin_end": 119390,
                        "count": 1
                      }
                    ]
                  }
                },
                {
                  "name": "arrival_date_day_of_month",
                  "dtype": "float64",
                  "stats": {
                    "unique_count": 8,
                    "nan_count": 0,
                    "min": "1.0",
                    "max": "119390.0",
                    "histogram": [
                      {
                        "bin_start": 1,
                        "bin_end": 11939.9,
                        "count": 7
                      },
                      {
                        "bin_start": 11939.9,
                        "bin_end": 23878.8,
                        "count": 0
                      },
                      {
                        "bin_start": 23878.8,
                        "bin_end": 35817.7,
                        "count": 0
                      },
                      {
                        "bin_start": 35817.7,
                        "bin_end": 47756.6,
                        "count": 0
                      },
                      {
                        "bin_start": 47756.6,
                        "bin_end": 59695.5,
                        "count": 0
                      },
                      {
                        "bin_start": 59695.5,
                        "bin_end": 71634.4,
                        "count": 0
                      },
                      {
                        "bin_start": 71634.4,
                        "bin_end": 83573.3,
                        "count": 0
                      },
                      {
                        "bin_start": 83573.3,
                        "bin_end": 95512.2,
                        "count": 0
                      },
                      {
                        "bin_start": 95512.2,
                        "bin_end": 107451.09999999999,
                        "count": 0
                      },
                      {
                        "bin_start": 107451.09999999999,
                        "bin_end": 119390,
                        "count": 1
                      }
                    ]
                  }
                },
                {
                  "name": "stays_in_weekend_nights",
                  "dtype": "float64",
                  "stats": {
                    "unique_count": 7,
                    "nan_count": 0,
                    "min": "0.0",
                    "max": "119390.0",
                    "histogram": [
                      {
                        "bin_start": 0,
                        "bin_end": 11939,
                        "count": 7
                      },
                      {
                        "bin_start": 11939,
                        "bin_end": 23878,
                        "count": 0
                      },
                      {
                        "bin_start": 23878,
                        "bin_end": 35817,
                        "count": 0
                      },
                      {
                        "bin_start": 35817,
                        "bin_end": 47756,
                        "count": 0
                      },
                      {
                        "bin_start": 47756,
                        "bin_end": 59695,
                        "count": 0
                      },
                      {
                        "bin_start": 59695,
                        "bin_end": 71634,
                        "count": 0
                      },
                      {
                        "bin_start": 71634,
                        "bin_end": 83573,
                        "count": 0
                      },
                      {
                        "bin_start": 83573,
                        "bin_end": 95512,
                        "count": 0
                      },
                      {
                        "bin_start": 95512,
                        "bin_end": 107451,
                        "count": 0
                      },
                      {
                        "bin_start": 107451,
                        "bin_end": 119390,
                        "count": 1
                      }
                    ]
                  }
                },
                {
                  "name": "stays_in_week_nights",
                  "dtype": "float64",
                  "stats": {
                    "unique_count": 8,
                    "nan_count": 0,
                    "min": "0.0",
                    "max": "119390.0",
                    "histogram": [
                      {
                        "bin_start": 0,
                        "bin_end": 11939,
                        "count": 7
                      },
                      {
                        "bin_start": 11939,
                        "bin_end": 23878,
                        "count": 0
                      },
                      {
                        "bin_start": 23878,
                        "bin_end": 35817,
                        "count": 0
                      },
                      {
                        "bin_start": 35817,
                        "bin_end": 47756,
                        "count": 0
                      },
                      {
                        "bin_start": 47756,
                        "bin_end": 59695,
                        "count": 0
                      },
                      {
                        "bin_start": 59695,
                        "bin_end": 71634,
                        "count": 0
                      },
                      {
                        "bin_start": 71634,
                        "bin_end": 83573,
                        "count": 0
                      },
                      {
                        "bin_start": 83573,
                        "bin_end": 95512,
                        "count": 0
                      },
                      {
                        "bin_start": 95512,
                        "bin_end": 107451,
                        "count": 0
                      },
                      {
                        "bin_start": 107451,
                        "bin_end": 119390,
                        "count": 1
                      }
                    ]
                  }
                },
                {
                  "name": "adults",
                  "dtype": "float64",
                  "stats": {
                    "unique_count": 6,
                    "nan_count": 0,
                    "min": "0.0",
                    "max": "119390.0",
                    "histogram": [
                      {
                        "bin_start": 0,
                        "bin_end": 11939,
                        "count": 7
                      },
                      {
                        "bin_start": 11939,
                        "bin_end": 23878,
                        "count": 0
                      },
                      {
                        "bin_start": 23878,
                        "bin_end": 35817,
                        "count": 0
                      },
                      {
                        "bin_start": 35817,
                        "bin_end": 47756,
                        "count": 0
                      },
                      {
                        "bin_start": 47756,
                        "bin_end": 59695,
                        "count": 0
                      },
                      {
                        "bin_start": 59695,
                        "bin_end": 71634,
                        "count": 0
                      },
                      {
                        "bin_start": 71634,
                        "bin_end": 83573,
                        "count": 0
                      },
                      {
                        "bin_start": 83573,
                        "bin_end": 95512,
                        "count": 0
                      },
                      {
                        "bin_start": 95512,
                        "bin_end": 107451,
                        "count": 0
                      },
                      {
                        "bin_start": 107451,
                        "bin_end": 119390,
                        "count": 1
                      }
                    ]
                  }
                },
                {
                  "name": "children",
                  "dtype": "float64",
                  "stats": {
                    "unique_count": 5,
                    "nan_count": 0,
                    "min": "0.0",
                    "max": "119386.0",
                    "histogram": [
                      {
                        "bin_start": 0,
                        "bin_end": 11938.6,
                        "count": 7
                      },
                      {
                        "bin_start": 11938.6,
                        "bin_end": 23877.2,
                        "count": 0
                      },
                      {
                        "bin_start": 23877.2,
                        "bin_end": 35815.8,
                        "count": 0
                      },
                      {
                        "bin_start": 35815.8,
                        "bin_end": 47754.4,
                        "count": 0
                      },
                      {
                        "bin_start": 47754.4,
                        "bin_end": 59693,
                        "count": 0
                      },
                      {
                        "bin_start": 59693,
                        "bin_end": 71631.6,
                        "count": 0
                      },
                      {
                        "bin_start": 71631.6,
                        "bin_end": 83570.2,
                        "count": 0
                      },
                      {
                        "bin_start": 83570.2,
                        "bin_end": 95508.8,
                        "count": 0
                      },
                      {
                        "bin_start": 95508.8,
                        "bin_end": 107447.40000000001,
                        "count": 0
                      },
                      {
                        "bin_start": 107447.40000000001,
                        "bin_end": 119386,
                        "count": 1
                      }
                    ]
                  }
                },
                {
                  "name": "babies",
                  "dtype": "float64",
                  "stats": {
                    "unique_count": 5,
                    "nan_count": 0,
                    "min": "0.0",
                    "max": "119390.0",
                    "histogram": [
                      {
                        "bin_start": 0,
                        "bin_end": 11939,
                        "count": 7
                      },
                      {
                        "bin_start": 11939,
                        "bin_end": 23878,
                        "count": 0
                      },
                      {
                        "bin_start": 23878,
                        "bin_end": 35817,
                        "count": 0
                      },
                      {
                        "bin_start": 35817,
                        "bin_end": 47756,
                        "count": 0
                      },
                      {
                        "bin_start": 47756,
                        "bin_end": 59695,
                        "count": 0
                      },
                      {
                        "bin_start": 59695,
                        "bin_end": 71634,
                        "count": 0
                      },
                      {
                        "bin_start": 71634,
                        "bin_end": 83573,
                        "count": 0
                      },
                      {
                        "bin_start": 83573,
                        "bin_end": 95512,
                        "count": 0
                      },
                      {
                        "bin_start": 95512,
                        "bin_end": 107451,
                        "count": 0
                      },
                      {
                        "bin_start": 107451,
                        "bin_end": 119390,
                        "count": 1
                      }
                    ]
                  }
                },
                {
                  "name": "is_repeated_guest",
                  "dtype": "float64",
                  "stats": {
                    "unique_count": 5,
                    "nan_count": 0,
                    "min": "0.0",
                    "max": "119390.0",
                    "histogram": [
                      {
                        "bin_start": 0,
                        "bin_end": 11939,
                        "count": 7
                      },
                      {
                        "bin_start": 11939,
                        "bin_end": 23878,
                        "count": 0
                      },
                      {
                        "bin_start": 23878,
                        "bin_end": 35817,
                        "count": 0
                      },
                      {
                        "bin_start": 35817,
                        "bin_end": 47756,
                        "count": 0
                      },
                      {
                        "bin_start": 47756,
                        "bin_end": 59695,
                        "count": 0
                      },
                      {
                        "bin_start": 59695,
                        "bin_end": 71634,
                        "count": 0
                      },
                      {
                        "bin_start": 71634,
                        "bin_end": 83573,
                        "count": 0
                      },
                      {
                        "bin_start": 83573,
                        "bin_end": 95512,
                        "count": 0
                      },
                      {
                        "bin_start": 95512,
                        "bin_end": 107451,
                        "count": 0
                      },
                      {
                        "bin_start": 107451,
                        "bin_end": 119390,
                        "count": 1
                      }
                    ]
                  }
                },
                {
                  "name": "previous_cancellations",
                  "dtype": "float64",
                  "stats": {
                    "unique_count": 5,
                    "nan_count": 0,
                    "min": "0.0",
                    "max": "119390.0",
                    "histogram": [
                      {
                        "bin_start": 0,
                        "bin_end": 11939,
                        "count": 7
                      },
                      {
                        "bin_start": 11939,
                        "bin_end": 23878,
                        "count": 0
                      },
                      {
                        "bin_start": 23878,
                        "bin_end": 35817,
                        "count": 0
                      },
                      {
                        "bin_start": 35817,
                        "bin_end": 47756,
                        "count": 0
                      },
                      {
                        "bin_start": 47756,
                        "bin_end": 59695,
                        "count": 0
                      },
                      {
                        "bin_start": 59695,
                        "bin_end": 71634,
                        "count": 0
                      },
                      {
                        "bin_start": 71634,
                        "bin_end": 83573,
                        "count": 0
                      },
                      {
                        "bin_start": 83573,
                        "bin_end": 95512,
                        "count": 0
                      },
                      {
                        "bin_start": 95512,
                        "bin_end": 107451,
                        "count": 0
                      },
                      {
                        "bin_start": 107451,
                        "bin_end": 119390,
                        "count": 1
                      }
                    ]
                  }
                },
                {
                  "name": "previous_bookings_not_canceled",
                  "dtype": "float64",
                  "stats": {
                    "unique_count": 5,
                    "nan_count": 0,
                    "min": "0.0",
                    "max": "119390.0",
                    "histogram": [
                      {
                        "bin_start": 0,
                        "bin_end": 11939,
                        "count": 7
                      },
                      {
                        "bin_start": 11939,
                        "bin_end": 23878,
                        "count": 0
                      },
                      {
                        "bin_start": 23878,
                        "bin_end": 35817,
                        "count": 0
                      },
                      {
                        "bin_start": 35817,
                        "bin_end": 47756,
                        "count": 0
                      },
                      {
                        "bin_start": 47756,
                        "bin_end": 59695,
                        "count": 0
                      },
                      {
                        "bin_start": 59695,
                        "bin_end": 71634,
                        "count": 0
                      },
                      {
                        "bin_start": 71634,
                        "bin_end": 83573,
                        "count": 0
                      },
                      {
                        "bin_start": 83573,
                        "bin_end": 95512,
                        "count": 0
                      },
                      {
                        "bin_start": 95512,
                        "bin_end": 107451,
                        "count": 0
                      },
                      {
                        "bin_start": 107451,
                        "bin_end": 119390,
                        "count": 1
                      }
                    ]
                  }
                },
                {
                  "name": "booking_changes",
                  "dtype": "float64",
                  "stats": {
                    "unique_count": 5,
                    "nan_count": 0,
                    "min": "0.0",
                    "max": "119390.0",
                    "histogram": [
                      {
                        "bin_start": 0,
                        "bin_end": 11939,
                        "count": 7
                      },
                      {
                        "bin_start": 11939,
                        "bin_end": 23878,
                        "count": 0
                      },
                      {
                        "bin_start": 23878,
                        "bin_end": 35817,
                        "count": 0
                      },
                      {
                        "bin_start": 35817,
                        "bin_end": 47756,
                        "count": 0
                      },
                      {
                        "bin_start": 47756,
                        "bin_end": 59695,
                        "count": 0
                      },
                      {
                        "bin_start": 59695,
                        "bin_end": 71634,
                        "count": 0
                      },
                      {
                        "bin_start": 71634,
                        "bin_end": 83573,
                        "count": 0
                      },
                      {
                        "bin_start": 83573,
                        "bin_end": 95512,
                        "count": 0
                      },
                      {
                        "bin_start": 95512,
                        "bin_end": 107451,
                        "count": 0
                      },
                      {
                        "bin_start": 107451,
                        "bin_end": 119390,
                        "count": 1
                      }
                    ]
                  }
                },
                {
                  "name": "agent",
                  "dtype": "float64",
                  "stats": {
                    "unique_count": 8,
                    "nan_count": 0,
                    "min": "1.0",
                    "max": "103050.0",
                    "histogram": [
                      {
                        "bin_start": 1,
                        "bin_end": 10305.9,
                        "count": 7
                      },
                      {
                        "bin_start": 10305.9,
                        "bin_end": 20610.8,
                        "count": 0
                      },
                      {
                        "bin_start": 20610.8,
                        "bin_end": 30915.699999999997,
                        "count": 0
                      },
                      {
                        "bin_start": 30915.699999999997,
                        "bin_end": 41220.6,
                        "count": 0
                      },
                      {
                        "bin_start": 41220.6,
                        "bin_end": 51525.5,
                        "count": 0
                      },
                      {
                        "bin_start": 51525.5,
                        "bin_end": 61830.399999999994,
                        "count": 0
                      },
                      {
                        "bin_start": 61830.399999999994,
                        "bin_end": 72135.3,
                        "count": 0
                      },
                      {
                        "bin_start": 72135.3,
                        "bin_end": 82440.2,
                        "count": 0
                      },
                      {
                        "bin_start": 82440.2,
                        "bin_end": 92745.09999999999,
                        "count": 0
                      },
                      {
                        "bin_start": 92745.09999999999,
                        "bin_end": 103050,
                        "count": 1
                      }
                    ]
                  }
                },
                {
                  "name": "company",
                  "dtype": "float64",
                  "stats": {
                    "unique_count": 8,
                    "nan_count": 0,
                    "min": "6.0",
                    "max": "6797.0",
                    "histogram": [
                      {
                        "bin_start": 6,
                        "bin_end": 685.1,
                        "count": 7
                      },
                      {
                        "bin_start": 685.1,
                        "bin_end": 1364.2,
                        "count": 0
                      },
                      {
                        "bin_start": 1364.2,
                        "bin_end": 2043.3000000000002,
                        "count": 0
                      },
                      {
                        "bin_start": 2043.3000000000002,
                        "bin_end": 2722.4,
                        "count": 0
                      },
                      {
                        "bin_start": 2722.4,
                        "bin_end": 3401.5,
                        "count": 0
                      },
                      {
                        "bin_start": 3401.5,
                        "bin_end": 4080.6000000000004,
                        "count": 0
                      },
                      {
                        "bin_start": 4080.6000000000004,
                        "bin_end": 4759.7,
                        "count": 0
                      },
                      {
                        "bin_start": 4759.7,
                        "bin_end": 5438.8,
                        "count": 0
                      },
                      {
                        "bin_start": 5438.8,
                        "bin_end": 6117.900000000001,
                        "count": 0
                      },
                      {
                        "bin_start": 6117.900000000001,
                        "bin_end": 6797,
                        "count": 1
                      }
                    ]
                  }
                },
                {
                  "name": "days_in_waiting_list",
                  "dtype": "float64",
                  "stats": {
                    "unique_count": 5,
                    "nan_count": 0,
                    "min": "0.0",
                    "max": "119390.0",
                    "histogram": [
                      {
                        "bin_start": 0,
                        "bin_end": 11939,
                        "count": 7
                      },
                      {
                        "bin_start": 11939,
                        "bin_end": 23878,
                        "count": 0
                      },
                      {
                        "bin_start": 23878,
                        "bin_end": 35817,
                        "count": 0
                      },
                      {
                        "bin_start": 35817,
                        "bin_end": 47756,
                        "count": 0
                      },
                      {
                        "bin_start": 47756,
                        "bin_end": 59695,
                        "count": 0
                      },
                      {
                        "bin_start": 59695,
                        "bin_end": 71634,
                        "count": 0
                      },
                      {
                        "bin_start": 71634,
                        "bin_end": 83573,
                        "count": 0
                      },
                      {
                        "bin_start": 83573,
                        "bin_end": 95512,
                        "count": 0
                      },
                      {
                        "bin_start": 95512,
                        "bin_end": 107451,
                        "count": 0
                      },
                      {
                        "bin_start": 107451,
                        "bin_end": 119390,
                        "count": 1
                      }
                    ]
                  }
                },
                {
                  "name": "adr",
                  "dtype": "float64",
                  "stats": {
                    "unique_count": 8,
                    "nan_count": 0,
                    "min": "-6.38",
                    "max": "119390.0",
                    "histogram": [
                      {
                        "bin_start": -6.38,
                        "bin_end": 11933.258000000002,
                        "count": 7
                      },
                      {
                        "bin_start": 11933.258000000002,
                        "bin_end": 23872.896,
                        "count": 0
                      },
                      {
                        "bin_start": 23872.896,
                        "bin_end": 35812.53400000001,
                        "count": 0
                      },
                      {
                        "bin_start": 35812.53400000001,
                        "bin_end": 47752.172000000006,
                        "count": 0
                      },
                      {
                        "bin_start": 47752.172000000006,
                        "bin_end": 59691.810000000005,
                        "count": 0
                      },
                      {
                        "bin_start": 59691.810000000005,
                        "bin_end": 71631.448,
                        "count": 0
                      },
                      {
                        "bin_start": 71631.448,
                        "bin_end": 83571.086,
                        "count": 0
                      },
                      {
                        "bin_start": 83571.086,
                        "bin_end": 95510.724,
                        "count": 0
                      },
                      {
                        "bin_start": 95510.724,
                        "bin_end": 107450.36200000001,
                        "count": 0
                      },
                      {
                        "bin_start": 107450.36200000001,
                        "bin_end": 119390,
                        "count": 1
                      }
                    ]
                  }
                },
                {
                  "name": "required_car_parking_spaces",
                  "dtype": "float64",
                  "stats": {
                    "unique_count": 5,
                    "nan_count": 0,
                    "min": "0.0",
                    "max": "119390.0",
                    "histogram": [
                      {
                        "bin_start": 0,
                        "bin_end": 11939,
                        "count": 7
                      },
                      {
                        "bin_start": 11939,
                        "bin_end": 23878,
                        "count": 0
                      },
                      {
                        "bin_start": 23878,
                        "bin_end": 35817,
                        "count": 0
                      },
                      {
                        "bin_start": 35817,
                        "bin_end": 47756,
                        "count": 0
                      },
                      {
                        "bin_start": 47756,
                        "bin_end": 59695,
                        "count": 0
                      },
                      {
                        "bin_start": 59695,
                        "bin_end": 71634,
                        "count": 0
                      },
                      {
                        "bin_start": 71634,
                        "bin_end": 83573,
                        "count": 0
                      },
                      {
                        "bin_start": 83573,
                        "bin_end": 95512,
                        "count": 0
                      },
                      {
                        "bin_start": 95512,
                        "bin_end": 107451,
                        "count": 0
                      },
                      {
                        "bin_start": 107451,
                        "bin_end": 119390,
                        "count": 1
                      }
                    ]
                  }
                },
                {
                  "name": "total_of_special_requests",
                  "dtype": "float64",
                  "stats": {
                    "unique_count": 6,
                    "nan_count": 0,
                    "min": "0.0",
                    "max": "119390.0",
                    "histogram": [
                      {
                        "bin_start": 0,
                        "bin_end": 11939,
                        "count": 7
                      },
                      {
                        "bin_start": 11939,
                        "bin_end": 23878,
                        "count": 0
                      },
                      {
                        "bin_start": 23878,
                        "bin_end": 35817,
                        "count": 0
                      },
                      {
                        "bin_start": 35817,
                        "bin_end": 47756,
                        "count": 0
                      },
                      {
                        "bin_start": 47756,
                        "bin_end": 59695,
                        "count": 0
                      },
                      {
                        "bin_start": 59695,
                        "bin_end": 71634,
                        "count": 0
                      },
                      {
                        "bin_start": 71634,
                        "bin_end": 83573,
                        "count": 0
                      },
                      {
                        "bin_start": 83573,
                        "bin_end": 95512,
                        "count": 0
                      },
                      {
                        "bin_start": 95512,
                        "bin_end": 107451,
                        "count": 0
                      },
                      {
                        "bin_start": 107451,
                        "bin_end": 119390,
                        "count": 1
                      }
                    ]
                  }
                },
                {
                  "name": "_deepnote_index_column",
                  "dtype": "object"
                }
              ],
              "rows_top": [
                {
                  "is_canceled": 119390,
                  "lead_time": 119390,
                  "arrival_date_year": 119390,
                  "arrival_date_week_number": 119390,
                  "arrival_date_day_of_month": 119390,
                  "stays_in_weekend_nights": 119390,
                  "stays_in_week_nights": 119390,
                  "adults": 119390,
                  "children": 119386,
                  "babies": 119390,
                  "is_repeated_guest": 119390,
                  "previous_cancellations": 119390,
                  "previous_bookings_not_canceled": 119390,
                  "booking_changes": 119390,
                  "agent": 103050,
                  "company": 6797,
                  "days_in_waiting_list": 119390,
                  "adr": 119390,
                  "required_car_parking_spaces": 119390,
                  "total_of_special_requests": 119390,
                  "_deepnote_index_column": "count"
                },
                {
                  "is_canceled": 0.37041628277075134,
                  "lead_time": 104.01141636652986,
                  "arrival_date_year": 2016.156554150264,
                  "arrival_date_week_number": 27.16517296255968,
                  "arrival_date_day_of_month": 15.798241058715135,
                  "stays_in_weekend_nights": 0.9275986263506156,
                  "stays_in_week_nights": 2.500301532791691,
                  "adults": 1.8564033838679956,
                  "children": 0.10388990333874994,
                  "babies": 0.007948739425412514,
                  "is_repeated_guest": 0.03191222045397437,
                  "previous_cancellations": 0.08711784906608594,
                  "previous_bookings_not_canceled": 0.13709690928888515,
                  "booking_changes": 0.22112404724013737,
                  "agent": 86.69338185346919,
                  "company": 189.26673532440782,
                  "days_in_waiting_list": 2.321149174972778,
                  "adr": 101.83112153446686,
                  "required_car_parking_spaces": 0.06251779881062065,
                  "total_of_special_requests": 0.5713627607002262,
                  "_deepnote_index_column": "mean"
                },
                {
                  "is_canceled": 0.4829182265925984,
                  "lead_time": 106.86309704798794,
                  "arrival_date_year": 0.7074759445203559,
                  "arrival_date_week_number": 13.60513835549767,
                  "arrival_date_day_of_month": 8.780829470578345,
                  "stays_in_weekend_nights": 0.9986134945978767,
                  "stays_in_week_nights": 1.9082856150479095,
                  "adults": 0.5792609988327557,
                  "children": 0.3985614447864417,
                  "babies": 0.09743619130126437,
                  "is_repeated_guest": 0.17576714541065658,
                  "previous_cancellations": 0.8443363841545105,
                  "previous_bookings_not_canceled": 1.4974368477076776,
                  "booking_changes": 0.6523055726747721,
                  "agent": 110.77454764295149,
                  "company": 131.65501463851223,
                  "days_in_waiting_list": 17.594720878776215,
                  "adr": 50.535790285548714,
                  "required_car_parking_spaces": 0.2452911474674936,
                  "total_of_special_requests": 0.7927984228094114,
                  "_deepnote_index_column": "std"
                },
                {
                  "is_canceled": 0,
                  "lead_time": 0,
                  "arrival_date_year": 2015,
                  "arrival_date_week_number": 1,
                  "arrival_date_day_of_month": 1,
                  "stays_in_weekend_nights": 0,
                  "stays_in_week_nights": 0,
                  "adults": 0,
                  "children": 0,
                  "babies": 0,
                  "is_repeated_guest": 0,
                  "previous_cancellations": 0,
                  "previous_bookings_not_canceled": 0,
                  "booking_changes": 0,
                  "agent": 1,
                  "company": 6,
                  "days_in_waiting_list": 0,
                  "adr": -6.38,
                  "required_car_parking_spaces": 0,
                  "total_of_special_requests": 0,
                  "_deepnote_index_column": "min"
                },
                {
                  "is_canceled": 0,
                  "lead_time": 18,
                  "arrival_date_year": 2016,
                  "arrival_date_week_number": 16,
                  "arrival_date_day_of_month": 8,
                  "stays_in_weekend_nights": 0,
                  "stays_in_week_nights": 1,
                  "adults": 2,
                  "children": 0,
                  "babies": 0,
                  "is_repeated_guest": 0,
                  "previous_cancellations": 0,
                  "previous_bookings_not_canceled": 0,
                  "booking_changes": 0,
                  "agent": 9,
                  "company": 62,
                  "days_in_waiting_list": 0,
                  "adr": 69.29,
                  "required_car_parking_spaces": 0,
                  "total_of_special_requests": 0,
                  "_deepnote_index_column": "25%"
                },
                {
                  "is_canceled": 0,
                  "lead_time": 69,
                  "arrival_date_year": 2016,
                  "arrival_date_week_number": 28,
                  "arrival_date_day_of_month": 16,
                  "stays_in_weekend_nights": 1,
                  "stays_in_week_nights": 2,
                  "adults": 2,
                  "children": 0,
                  "babies": 0,
                  "is_repeated_guest": 0,
                  "previous_cancellations": 0,
                  "previous_bookings_not_canceled": 0,
                  "booking_changes": 0,
                  "agent": 14,
                  "company": 179,
                  "days_in_waiting_list": 0,
                  "adr": 94.575,
                  "required_car_parking_spaces": 0,
                  "total_of_special_requests": 0,
                  "_deepnote_index_column": "50%"
                },
                {
                  "is_canceled": 1,
                  "lead_time": 160,
                  "arrival_date_year": 2017,
                  "arrival_date_week_number": 38,
                  "arrival_date_day_of_month": 23,
                  "stays_in_weekend_nights": 2,
                  "stays_in_week_nights": 3,
                  "adults": 2,
                  "children": 0,
                  "babies": 0,
                  "is_repeated_guest": 0,
                  "previous_cancellations": 0,
                  "previous_bookings_not_canceled": 0,
                  "booking_changes": 0,
                  "agent": 229,
                  "company": 270,
                  "days_in_waiting_list": 0,
                  "adr": 126,
                  "required_car_parking_spaces": 0,
                  "total_of_special_requests": 1,
                  "_deepnote_index_column": "75%"
                },
                {
                  "is_canceled": 1,
                  "lead_time": 737,
                  "arrival_date_year": 2017,
                  "arrival_date_week_number": 53,
                  "arrival_date_day_of_month": 31,
                  "stays_in_weekend_nights": 19,
                  "stays_in_week_nights": 50,
                  "adults": 55,
                  "children": 10,
                  "babies": 10,
                  "is_repeated_guest": 1,
                  "previous_cancellations": 26,
                  "previous_bookings_not_canceled": 72,
                  "booking_changes": 21,
                  "agent": 535,
                  "company": 543,
                  "days_in_waiting_list": 391,
                  "adr": 5400,
                  "required_car_parking_spaces": 8,
                  "total_of_special_requests": 5,
                  "_deepnote_index_column": "max"
                }
              ],
              "rows_bottom": null
            },
            "text/plain": "         is_canceled      lead_time  arrival_date_year  \\\ncount  119390.000000  119390.000000      119390.000000   \nmean        0.370416     104.011416        2016.156554   \nstd         0.482918     106.863097           0.707476   \nmin         0.000000       0.000000        2015.000000   \n25%         0.000000      18.000000        2016.000000   \n50%         0.000000      69.000000        2016.000000   \n75%         1.000000     160.000000        2017.000000   \nmax         1.000000     737.000000        2017.000000   \n\n       arrival_date_week_number  arrival_date_day_of_month  \\\ncount             119390.000000              119390.000000   \nmean                  27.165173                  15.798241   \nstd                   13.605138                   8.780829   \nmin                    1.000000                   1.000000   \n25%                   16.000000                   8.000000   \n50%                   28.000000                  16.000000   \n75%                   38.000000                  23.000000   \nmax                   53.000000                  31.000000   \n\n       stays_in_weekend_nights  stays_in_week_nights         adults  \\\ncount            119390.000000         119390.000000  119390.000000   \nmean                  0.927599              2.500302       1.856403   \nstd                   0.998613              1.908286       0.579261   \nmin                   0.000000              0.000000       0.000000   \n25%                   0.000000              1.000000       2.000000   \n50%                   1.000000              2.000000       2.000000   \n75%                   2.000000              3.000000       2.000000   \nmax                  19.000000             50.000000      55.000000   \n\n            children         babies  is_repeated_guest  \\\ncount  119386.000000  119390.000000      119390.000000   \nmean        0.103890       0.007949           0.031912   \nstd         0.398561       0.097436           0.175767   \nmin         0.000000       0.000000           0.000000   \n25%         0.000000       0.000000           0.000000   \n50%         0.000000       0.000000           0.000000   \n75%         0.000000       0.000000           0.000000   \nmax        10.000000      10.000000           1.000000   \n\n       previous_cancellations  previous_bookings_not_canceled  \\\ncount           119390.000000                   119390.000000   \nmean                 0.087118                        0.137097   \nstd                  0.844336                        1.497437   \nmin                  0.000000                        0.000000   \n25%                  0.000000                        0.000000   \n50%                  0.000000                        0.000000   \n75%                  0.000000                        0.000000   \nmax                 26.000000                       72.000000   \n\n       booking_changes          agent      company  days_in_waiting_list  \\\ncount    119390.000000  103050.000000  6797.000000         119390.000000   \nmean          0.221124      86.693382   189.266735              2.321149   \nstd           0.652306     110.774548   131.655015             17.594721   \nmin           0.000000       1.000000     6.000000              0.000000   \n25%           0.000000       9.000000    62.000000              0.000000   \n50%           0.000000      14.000000   179.000000              0.000000   \n75%           0.000000     229.000000   270.000000              0.000000   \nmax          21.000000     535.000000   543.000000            391.000000   \n\n                 adr  required_car_parking_spaces  total_of_special_requests  \ncount  119390.000000                119390.000000              119390.000000  \nmean      101.831122                     0.062518                   0.571363  \nstd        50.535790                     0.245291                   0.792798  \nmin        -6.380000                     0.000000                   0.000000  \n25%        69.290000                     0.000000                   0.000000  \n50%        94.575000                     0.000000                   0.000000  \n75%       126.000000                     0.000000                   1.000000  \nmax      5400.000000                     8.000000                   5.000000  ",
            "text/html": "<div>\n<style scoped>\n    .dataframe tbody tr th:only-of-type {\n        vertical-align: middle;\n    }\n\n    .dataframe tbody tr th {\n        vertical-align: top;\n    }\n\n    .dataframe thead th {\n        text-align: right;\n    }\n</style>\n<table border=\"1\" class=\"dataframe\">\n  <thead>\n    <tr style=\"text-align: right;\">\n      <th></th>\n      <th>is_canceled</th>\n      <th>lead_time</th>\n      <th>arrival_date_year</th>\n      <th>arrival_date_week_number</th>\n      <th>arrival_date_day_of_month</th>\n      <th>stays_in_weekend_nights</th>\n      <th>stays_in_week_nights</th>\n      <th>adults</th>\n      <th>children</th>\n      <th>babies</th>\n      <th>is_repeated_guest</th>\n      <th>previous_cancellations</th>\n      <th>previous_bookings_not_canceled</th>\n      <th>booking_changes</th>\n      <th>agent</th>\n      <th>company</th>\n      <th>days_in_waiting_list</th>\n      <th>adr</th>\n      <th>required_car_parking_spaces</th>\n      <th>total_of_special_requests</th>\n    </tr>\n  </thead>\n  <tbody>\n    <tr>\n      <th>count</th>\n      <td>119390.000000</td>\n      <td>119390.000000</td>\n      <td>119390.000000</td>\n      <td>119390.000000</td>\n      <td>119390.000000</td>\n      <td>119390.000000</td>\n      <td>119390.000000</td>\n      <td>119390.000000</td>\n      <td>119386.000000</td>\n      <td>119390.000000</td>\n      <td>119390.000000</td>\n      <td>119390.000000</td>\n      <td>119390.000000</td>\n      <td>119390.000000</td>\n      <td>103050.000000</td>\n      <td>6797.000000</td>\n      <td>119390.000000</td>\n      <td>119390.000000</td>\n      <td>119390.000000</td>\n      <td>119390.000000</td>\n    </tr>\n    <tr>\n      <th>mean</th>\n      <td>0.370416</td>\n      <td>104.011416</td>\n      <td>2016.156554</td>\n      <td>27.165173</td>\n      <td>15.798241</td>\n      <td>0.927599</td>\n      <td>2.500302</td>\n      <td>1.856403</td>\n      <td>0.103890</td>\n      <td>0.007949</td>\n      <td>0.031912</td>\n      <td>0.087118</td>\n      <td>0.137097</td>\n      <td>0.221124</td>\n      <td>86.693382</td>\n      <td>189.266735</td>\n      <td>2.321149</td>\n      <td>101.831122</td>\n      <td>0.062518</td>\n      <td>0.571363</td>\n    </tr>\n    <tr>\n      <th>std</th>\n      <td>0.482918</td>\n      <td>106.863097</td>\n      <td>0.707476</td>\n      <td>13.605138</td>\n      <td>8.780829</td>\n      <td>0.998613</td>\n      <td>1.908286</td>\n      <td>0.579261</td>\n      <td>0.398561</td>\n      <td>0.097436</td>\n      <td>0.175767</td>\n      <td>0.844336</td>\n      <td>1.497437</td>\n      <td>0.652306</td>\n      <td>110.774548</td>\n      <td>131.655015</td>\n      <td>17.594721</td>\n      <td>50.535790</td>\n      <td>0.245291</td>\n      <td>0.792798</td>\n    </tr>\n    <tr>\n      <th>min</th>\n      <td>0.000000</td>\n      <td>0.000000</td>\n      <td>2015.000000</td>\n      <td>1.000000</td>\n      <td>1.000000</td>\n      <td>0.000000</td>\n      <td>0.000000</td>\n      <td>0.000000</td>\n      <td>0.000000</td>\n      <td>0.000000</td>\n      <td>0.000000</td>\n      <td>0.000000</td>\n      <td>0.000000</td>\n      <td>0.000000</td>\n      <td>1.000000</td>\n      <td>6.000000</td>\n      <td>0.000000</td>\n      <td>-6.380000</td>\n      <td>0.000000</td>\n      <td>0.000000</td>\n    </tr>\n    <tr>\n      <th>25%</th>\n      <td>0.000000</td>\n      <td>18.000000</td>\n      <td>2016.000000</td>\n      <td>16.000000</td>\n      <td>8.000000</td>\n      <td>0.000000</td>\n      <td>1.000000</td>\n      <td>2.000000</td>\n      <td>0.000000</td>\n      <td>0.000000</td>\n      <td>0.000000</td>\n      <td>0.000000</td>\n      <td>0.000000</td>\n      <td>0.000000</td>\n      <td>9.000000</td>\n      <td>62.000000</td>\n      <td>0.000000</td>\n      <td>69.290000</td>\n      <td>0.000000</td>\n      <td>0.000000</td>\n    </tr>\n    <tr>\n      <th>50%</th>\n      <td>0.000000</td>\n      <td>69.000000</td>\n      <td>2016.000000</td>\n      <td>28.000000</td>\n      <td>16.000000</td>\n      <td>1.000000</td>\n      <td>2.000000</td>\n      <td>2.000000</td>\n      <td>0.000000</td>\n      <td>0.000000</td>\n      <td>0.000000</td>\n      <td>0.000000</td>\n      <td>0.000000</td>\n      <td>0.000000</td>\n      <td>14.000000</td>\n      <td>179.000000</td>\n      <td>0.000000</td>\n      <td>94.575000</td>\n      <td>0.000000</td>\n      <td>0.000000</td>\n    </tr>\n    <tr>\n      <th>75%</th>\n      <td>1.000000</td>\n      <td>160.000000</td>\n      <td>2017.000000</td>\n      <td>38.000000</td>\n      <td>23.000000</td>\n      <td>2.000000</td>\n      <td>3.000000</td>\n      <td>2.000000</td>\n      <td>0.000000</td>\n      <td>0.000000</td>\n      <td>0.000000</td>\n      <td>0.000000</td>\n      <td>0.000000</td>\n      <td>0.000000</td>\n      <td>229.000000</td>\n      <td>270.000000</td>\n      <td>0.000000</td>\n      <td>126.000000</td>\n      <td>0.000000</td>\n      <td>1.000000</td>\n    </tr>\n    <tr>\n      <th>max</th>\n      <td>1.000000</td>\n      <td>737.000000</td>\n      <td>2017.000000</td>\n      <td>53.000000</td>\n      <td>31.000000</td>\n      <td>19.000000</td>\n      <td>50.000000</td>\n      <td>55.000000</td>\n      <td>10.000000</td>\n      <td>10.000000</td>\n      <td>1.000000</td>\n      <td>26.000000</td>\n      <td>72.000000</td>\n      <td>21.000000</td>\n      <td>535.000000</td>\n      <td>543.000000</td>\n      <td>391.000000</td>\n      <td>5400.000000</td>\n      <td>8.000000</td>\n      <td>5.000000</td>\n    </tr>\n  </tbody>\n</table>\n</div>"
          },
          "metadata": {}
        }
      ]
    },
    {
      "cell_type": "markdown",
      "source": "Firstly, let us find any \"NaN\" values in the data and what propotion of the data it takes. ",
      "metadata": {
        "tags": [],
        "cell_id": "00009-0f14a6d4-7869-4bf3-ba62-f33cdd7ab79a",
        "deepnote_cell_type": "markdown"
      }
    },
    {
      "cell_type": "code",
      "metadata": {
        "tags": [],
        "cell_id": "00009-97fb3b25-b788-4769-86b8-1512c7976db2",
        "deepnote_to_be_reexecuted": false,
        "source_hash": "fc53f96e",
        "execution_millis": 127,
        "execution_start": 1618471147395,
        "deepnote_cell_type": "code"
      },
      "source": "# Find NaN in the data\nd_na = find_na(d)\nd_na\n",
      "execution_count": null,
      "outputs": [
        {
          "output_type": "execute_result",
          "execution_count": 6,
          "data": {
            "application/vnd.deepnote.dataframe.v2+json": {
              "row_count": 4,
              "column_count": 5,
              "columns": [
                {
                  "name": "column_name",
                  "dtype": "object",
                  "stats": {
                    "unique_count": 4,
                    "nan_count": 0,
                    "categories": [
                      {
                        "name": "children",
                        "count": 1
                      },
                      {
                        "name": "country",
                        "count": 1
                      },
                      {
                        "name": "2 others",
                        "count": 2
                      }
                    ]
                  }
                },
                {
                  "name": "na_values",
                  "dtype": "int64",
                  "stats": {
                    "unique_count": 4,
                    "nan_count": 0,
                    "min": "4",
                    "max": "112593",
                    "histogram": [
                      {
                        "bin_start": 4,
                        "bin_end": 11262.9,
                        "count": 2
                      },
                      {
                        "bin_start": 11262.9,
                        "bin_end": 22521.8,
                        "count": 1
                      },
                      {
                        "bin_start": 22521.8,
                        "bin_end": 33780.7,
                        "count": 0
                      },
                      {
                        "bin_start": 33780.7,
                        "bin_end": 45039.6,
                        "count": 0
                      },
                      {
                        "bin_start": 45039.6,
                        "bin_end": 56298.5,
                        "count": 0
                      },
                      {
                        "bin_start": 56298.5,
                        "bin_end": 67557.4,
                        "count": 0
                      },
                      {
                        "bin_start": 67557.4,
                        "bin_end": 78816.3,
                        "count": 0
                      },
                      {
                        "bin_start": 78816.3,
                        "bin_end": 90075.2,
                        "count": 0
                      },
                      {
                        "bin_start": 90075.2,
                        "bin_end": 101334.09999999999,
                        "count": 0
                      },
                      {
                        "bin_start": 101334.09999999999,
                        "bin_end": 112593,
                        "count": 1
                      }
                    ]
                  }
                },
                {
                  "name": "not_na",
                  "dtype": "int64",
                  "stats": {
                    "unique_count": 4,
                    "nan_count": 0,
                    "min": "6797",
                    "max": "119386",
                    "histogram": [
                      {
                        "bin_start": 6797,
                        "bin_end": 18055.9,
                        "count": 1
                      },
                      {
                        "bin_start": 18055.9,
                        "bin_end": 29314.8,
                        "count": 0
                      },
                      {
                        "bin_start": 29314.8,
                        "bin_end": 40573.7,
                        "count": 0
                      },
                      {
                        "bin_start": 40573.7,
                        "bin_end": 51832.6,
                        "count": 0
                      },
                      {
                        "bin_start": 51832.6,
                        "bin_end": 63091.5,
                        "count": 0
                      },
                      {
                        "bin_start": 63091.5,
                        "bin_end": 74350.4,
                        "count": 0
                      },
                      {
                        "bin_start": 74350.4,
                        "bin_end": 85609.3,
                        "count": 0
                      },
                      {
                        "bin_start": 85609.3,
                        "bin_end": 96868.2,
                        "count": 0
                      },
                      {
                        "bin_start": 96868.2,
                        "bin_end": 108127.09999999999,
                        "count": 1
                      },
                      {
                        "bin_start": 108127.09999999999,
                        "bin_end": 119386,
                        "count": 2
                      }
                    ]
                  }
                },
                {
                  "name": "proportion_na",
                  "dtype": "float64",
                  "stats": {
                    "unique_count": 4,
                    "nan_count": 0,
                    "min": "3.350364352123293e-05",
                    "max": "0.943068933746545",
                    "histogram": [
                      {
                        "bin_start": 0.00003350364352123293,
                        "bin_end": 0.0943370466538236,
                        "count": 2
                      },
                      {
                        "bin_start": 0.0943370466538236,
                        "bin_end": 0.18864058966412597,
                        "count": 1
                      },
                      {
                        "bin_start": 0.18864058966412597,
                        "bin_end": 0.28294413267442836,
                        "count": 0
                      },
                      {
                        "bin_start": 0.28294413267442836,
                        "bin_end": 0.3772476756847307,
                        "count": 0
                      },
                      {
                        "bin_start": 0.3772476756847307,
                        "bin_end": 0.4715512186950331,
                        "count": 0
                      },
                      {
                        "bin_start": 0.4715512186950331,
                        "bin_end": 0.5658547617053356,
                        "count": 0
                      },
                      {
                        "bin_start": 0.5658547617053356,
                        "bin_end": 0.6601583047156379,
                        "count": 0
                      },
                      {
                        "bin_start": 0.6601583047156379,
                        "bin_end": 0.7544618477259403,
                        "count": 0
                      },
                      {
                        "bin_start": 0.7544618477259403,
                        "bin_end": 0.8487653907362427,
                        "count": 0
                      },
                      {
                        "bin_start": 0.8487653907362427,
                        "bin_end": 0.943068933746545,
                        "count": 1
                      }
                    ]
                  }
                },
                {
                  "name": "propotion_not_na",
                  "dtype": "float64",
                  "stats": {
                    "unique_count": 4,
                    "nan_count": 0,
                    "min": "0.056931066253455065",
                    "max": "0.9999664963564787",
                    "histogram": [
                      {
                        "bin_start": 0.056931066253455065,
                        "bin_end": 0.15123460926375742,
                        "count": 1
                      },
                      {
                        "bin_start": 0.15123460926375742,
                        "bin_end": 0.2455381522740598,
                        "count": 0
                      },
                      {
                        "bin_start": 0.2455381522740598,
                        "bin_end": 0.3398416952843622,
                        "count": 0
                      },
                      {
                        "bin_start": 0.3398416952843622,
                        "bin_end": 0.43414523829466456,
                        "count": 0
                      },
                      {
                        "bin_start": 0.43414523829466456,
                        "bin_end": 0.528448781304967,
                        "count": 0
                      },
                      {
                        "bin_start": 0.528448781304967,
                        "bin_end": 0.6227523243152693,
                        "count": 0
                      },
                      {
                        "bin_start": 0.6227523243152693,
                        "bin_end": 0.7170558673255716,
                        "count": 0
                      },
                      {
                        "bin_start": 0.7170558673255716,
                        "bin_end": 0.8113594103358741,
                        "count": 0
                      },
                      {
                        "bin_start": 0.8113594103358741,
                        "bin_end": 0.9056629533461764,
                        "count": 1
                      },
                      {
                        "bin_start": 0.9056629533461764,
                        "bin_end": 0.9999664963564787,
                        "count": 2
                      }
                    ]
                  }
                },
                {
                  "name": "_deepnote_index_column",
                  "dtype": "int64"
                }
              ],
              "rows_top": [
                {
                  "column_name": "children",
                  "na_values": 4,
                  "not_na": 119386,
                  "proportion_na": 0.00003350364352123293,
                  "propotion_not_na": 0.9999664963564787,
                  "_deepnote_index_column": 0
                },
                {
                  "column_name": "country",
                  "na_values": 488,
                  "not_na": 118902,
                  "proportion_na": 0.004087444509590418,
                  "propotion_not_na": 0.9959125554904096,
                  "_deepnote_index_column": 1
                },
                {
                  "column_name": "agent",
                  "na_values": 16340,
                  "not_na": 103050,
                  "proportion_na": 0.13686238378423654,
                  "propotion_not_na": 0.8631376162157635,
                  "_deepnote_index_column": 2
                },
                {
                  "column_name": "company",
                  "na_values": 112593,
                  "not_na": 6797,
                  "proportion_na": 0.943068933746545,
                  "propotion_not_na": 0.056931066253455065,
                  "_deepnote_index_column": 3
                }
              ],
              "rows_bottom": null
            },
            "text/plain": "  column_name  na_values  not_na  proportion_na  propotion_not_na\n0    children          4  119386       0.000034          0.999966\n1     country        488  118902       0.004087          0.995913\n2       agent      16340  103050       0.136862          0.863138\n3     company     112593    6797       0.943069          0.056931",
            "text/html": "<div>\n<style scoped>\n    .dataframe tbody tr th:only-of-type {\n        vertical-align: middle;\n    }\n\n    .dataframe tbody tr th {\n        vertical-align: top;\n    }\n\n    .dataframe thead th {\n        text-align: right;\n    }\n</style>\n<table border=\"1\" class=\"dataframe\">\n  <thead>\n    <tr style=\"text-align: right;\">\n      <th></th>\n      <th>column_name</th>\n      <th>na_values</th>\n      <th>not_na</th>\n      <th>proportion_na</th>\n      <th>propotion_not_na</th>\n    </tr>\n  </thead>\n  <tbody>\n    <tr>\n      <th>0</th>\n      <td>children</td>\n      <td>4</td>\n      <td>119386</td>\n      <td>0.000034</td>\n      <td>0.999966</td>\n    </tr>\n    <tr>\n      <th>1</th>\n      <td>country</td>\n      <td>488</td>\n      <td>118902</td>\n      <td>0.004087</td>\n      <td>0.995913</td>\n    </tr>\n    <tr>\n      <th>2</th>\n      <td>agent</td>\n      <td>16340</td>\n      <td>103050</td>\n      <td>0.136862</td>\n      <td>0.863138</td>\n    </tr>\n    <tr>\n      <th>3</th>\n      <td>company</td>\n      <td>112593</td>\n      <td>6797</td>\n      <td>0.943069</td>\n      <td>0.056931</td>\n    </tr>\n  </tbody>\n</table>\n</div>"
          },
          "metadata": {}
        }
      ]
    },
    {
      "cell_type": "markdown",
      "source": "There are 4 variables that contain \"NaN\" values. In particular, we can see that the company column contains 112,593 \"NaN\" values, comprising 94.31% of the variables observations, hence it doesn't provide us with any information.  \nLet us investigate the balance of the classes. ",
      "metadata": {
        "tags": [],
        "cell_id": "00010-176f3ffe-0567-475d-aa65-0a8634a9ecf8",
        "deepnote_cell_type": "markdown"
      }
    },
    {
      "cell_type": "code",
      "metadata": {
        "tags": [],
        "cell_id": "00011-b6d43a57-8e44-464d-a4d9-33e32055b9ee",
        "deepnote_to_be_reexecuted": false,
        "source_hash": "50fe3a7d",
        "execution_millis": 279,
        "execution_start": 1618471147515,
        "deepnote_cell_type": "code"
      },
      "source": "# Looking at the balance of the two classes:\n\nsns.histplot(d[\"is_canceled\"])\nplt.show()",
      "execution_count": null,
      "outputs": [
        {
          "data": {
            "text/plain": "<Figure size 640x400 with 1 Axes>",
            "image/png": "[encoded data removed]"
          },
          "metadata": {
            "needs_background": "light"
          },
          "output_type": "display_data"
        }
      ]
    },
    {
      "cell_type": "markdown",
      "source": "We can see that the count of the two classes, canceled and not-canceled bookings, differ significantly. We will resample the dataset to balance the classes for two following reasons: to get a sufficient look at the underlying class (here not-canceled), and to avoid problems in making a test validation or test sample due to underrepresentation of a class. Now, we will replace all the \"NaN\" values with zeros. \n\nIn the next section, we will fix this issue. ",
      "metadata": {
        "tags": [],
        "cell_id": "00013-30e944ee-3bad-4742-9a73-5a456a262c44",
        "deepnote_cell_type": "markdown"
      }
    },
    {
      "cell_type": "code",
      "metadata": {
        "tags": [],
        "cell_id": "00020-b6679aa5-a911-417c-b423-f97efb8c4464",
        "deepnote_to_be_reexecuted": false,
        "source_hash": "40890f25",
        "execution_millis": 62,
        "execution_start": 1618471147789,
        "deepnote_cell_type": "code"
      },
      "source": "# Imputing values function\nd_clean = impute_values(d)",
      "execution_count": null,
      "outputs": []
    },
    {
      "cell_type": "markdown",
      "source": "## Resampling the dataset to balance the classes\nWe can see that that the classes right now are not balanced, their seems to be a lopsided issue in classes where one can see that people who have booked are over 70,000 and cancelations are over 40,000. In order to have balanced results, we chose to balance the classes first. Having imbalanced classes can lead to biased data and subsequently biased predictions. \nWe decided to solve this issue by performing undersampling.",
      "metadata": {
        "tags": [],
        "cell_id": "00012-1292dda1-c369-4b00-8be0-cbe86d538814",
        "deepnote_cell_type": "markdown"
      }
    },
    {
      "cell_type": "code",
      "metadata": {
        "tags": [],
        "cell_id": "00014-29fbe8b1-faff-42cb-a1dd-73b6f175c3c7",
        "deepnote_to_be_reexecuted": false,
        "source_hash": "3802f929",
        "execution_millis": 44,
        "execution_start": 1618471147898,
        "deepnote_cell_type": "code"
      },
      "source": "noncanceled_class = d_clean[d_clean[\"is_canceled\"] == 0]\ncanceled_class = d_clean[d_clean[\"is_canceled\"]==1]\n\nsamples = canceled_class.shape[0]\n\n# Undersample the leading class (non_canceled)\n\nnoncanceled_class_undersampled = resample(\n    noncanceled_class, \n    replace= False,\n    n_samples=samples, \n    random_state=123)\n\nd_balanced = pd.concat([noncanceled_class_undersampled, canceled_class])",
      "execution_count": null,
      "outputs": []
    },
    {
      "cell_type": "markdown",
      "source": "Now, we can see from the plot below that our data is balanced and we can start preparing the data for the exploratory data analysis.",
      "metadata": {
        "tags": [],
        "cell_id": "00017-ee193abb-a36e-4e0a-89b4-5eeff7537589",
        "deepnote_cell_type": "markdown"
      }
    },
    {
      "cell_type": "code",
      "metadata": {
        "tags": [],
        "cell_id": "00021-62703f0e-2db3-4254-8386-869abaea82d6",
        "deepnote_to_be_reexecuted": false,
        "source_hash": "b937ca33",
        "execution_millis": 227,
        "execution_start": 1618471147986,
        "deepnote_cell_type": "code"
      },
      "source": "sns.histplot(d_balanced[\"is_canceled\"])\nplt.show()",
      "execution_count": null,
      "outputs": [
        {
          "data": {
            "text/plain": "<Figure size 640x400 with 1 Axes>",
            "image/png": "[encoded data removed]"
          },
          "metadata": {
            "needs_background": "light"
          },
          "output_type": "display_data"
        }
      ]
    },
    {
      "cell_type": "markdown",
      "source": "## Converting country names\nThe country names are in abbreviated format which is hard to discern. We convert the country abbreviations to actual country names for better visual aid.",
      "metadata": {
        "tags": [],
        "cell_id": "00019-136f1473-11d3-415a-97e1-0b8178e31ae8",
        "deepnote_cell_type": "markdown"
      }
    },
    {
      "cell_type": "code",
      "metadata": {
        "tags": [],
        "cell_id": "00020-c82cb67d-23ed-4a27-b4aa-8e85efee2950",
        "deepnote_to_be_reexecuted": false,
        "source_hash": "e65088e4",
        "execution_millis": 64,
        "execution_start": 1618471148198,
        "deepnote_cell_type": "code"
      },
      "source": "d_balanced = add_country_names(d_balanced)",
      "execution_count": null,
      "outputs": []
    },
    {
      "cell_type": "markdown",
      "source": "### Binary variables",
      "metadata": {
        "tags": [],
        "cell_id": "00021-4759f12a-9f0f-42b5-aefb-4e3518d6522d",
        "deepnote_cell_type": "markdown"
      }
    },
    {
      "cell_type": "code",
      "metadata": {
        "tags": [],
        "cell_id": "00023-e48ef71b-e11b-423f-98b4-72b17724cf2c",
        "deepnote_to_be_reexecuted": false,
        "source_hash": "2326fa29",
        "execution_millis": 8,
        "execution_start": 1618471148267,
        "deepnote_cell_type": "code"
      },
      "source": "var = [\"babies\", \"children\", \"total_of_special_requests\", \n\"required_car_parking_spaces\", \"previous_cancellations\"]\nd_balanced = create_binaries(d_balanced, var)",
      "execution_count": null,
      "outputs": []
    },
    {
      "cell_type": "code",
      "metadata": {
        "tags": [],
        "cell_id": "00025-da37e096-f316-40e9-a42c-99a9dd27144e",
        "deepnote_to_be_reexecuted": false,
        "source_hash": "c464c95f",
        "execution_millis": 12,
        "execution_start": 1618471148278,
        "deepnote_cell_type": "code"
      },
      "source": "d_balanced = d_balanced.rename(\n    columns={\n        \n        \"binary_required_car_parking_spaces\": \"binary_car_park\",\n        \"binary_babies\": \"binary_babes\", \n        \"binary_total_of_special_requests\": \"special_requests\"\n        }\n        )",
      "execution_count": null,
      "outputs": []
    },
    {
      "cell_type": "code",
      "metadata": {
        "tags": [],
        "cell_id": "00028-6e38b6ee-1392-41cc-9e21-448633a7f675",
        "deepnote_to_be_reexecuted": false,
        "source_hash": "de15f557",
        "execution_millis": 5,
        "execution_start": 1618471148295,
        "deepnote_cell_type": "code"
      },
      "source": "d_balanced['stays_nights_total'] = d_balanced['stays_in_week_nights'] + d_balanced['stays_in_weekend_nights']\nd_balanced['previous_cancellation_rate'] = d_balanced['previous_cancellations'] / (d_balanced['previous_cancellations'] + d_balanced['previous_bookings_not_canceled'])",
      "execution_count": null,
      "outputs": []
    },
    {
      "cell_type": "markdown",
      "source": "## Splitting data",
      "metadata": {
        "tags": [],
        "cell_id": "00021-b7578ded-b307-482c-85c0-857ac1d28818",
        "deepnote_cell_type": "markdown"
      }
    },
    {
      "cell_type": "markdown",
      "source": "In here, we split the data in 3 sets: train, validation and test set. A \"Holdout\" temporary\nset is created to aid in holding out 40% of the initial data, than will then be splitted\ninto validation and test set. Holdout is not to be used for any other purpose. ",
      "metadata": {
        "tags": [],
        "cell_id": "00026-1b13a08a-8fcb-4e2c-bac8-eda628d0228b",
        "deepnote_cell_type": "markdown"
      }
    },
    {
      "cell_type": "code",
      "metadata": {
        "tags": [],
        "cell_id": "00021-c10c6476-2660-402d-9308-c033761ec91b",
        "deepnote_to_be_reexecuted": false,
        "source_hash": "e3c0d6e3",
        "execution_millis": 62,
        "execution_start": 1618471148303,
        "deepnote_cell_type": "code"
      },
      "source": "#train_set, val = train_test_split(d_balanced, test_size=0.25, random_state = 0)\n#val_set, test_set = train_test_split(val, test_size=0.25, random_state = 0)\n\ntrain_set, holdout = train_test_split(d_balanced, test_size=0.4, random_state=123)  # 60 - 40 split \nval_set, test_set = train_test_split(holdout, test_size=0.5, random_state=123)      #50 - 50 split",
      "execution_count": null,
      "outputs": []
    },
    {
      "cell_type": "code",
      "metadata": {
        "tags": [],
        "cell_id": "00023-7648e32f-de3b-4006-98c2-490f4750d328",
        "deepnote_to_be_reexecuted": false,
        "source_hash": "e5a4001c",
        "execution_millis": 26,
        "execution_start": 1618471148367,
        "deepnote_cell_type": "code"
      },
      "source": "print(len(train_set), 'train samples')\nprint(len(val_set), 'validation samples')\nprint(len(test_set), 'test samples')\nprint(f'Percentage of train samples: {round(len(train_set) / len(d_balanced)*100)}%')\nprint(f'Percentage of validation samples: {round(len(val_set) / len(d_balanced)*100)}%')\nprint(f'Percentage of test samples: {round(len(test_set) / len(d_balanced)*100)}%')",
      "execution_count": null,
      "outputs": [
        {
          "name": "stdout",
          "text": "53068 train samples\n17690 validation samples\n17690 test samples\nPercentage of train samples: 60%\nPercentage of validation samples: 20%\nPercentage of test samples: 20%\n",
          "output_type": "stream"
        }
      ]
    },
    {
      "cell_type": "code",
      "metadata": {
        "tags": [],
        "cell_id": "00015-671fa12e-2392-4c53-97ec-a2afb1bc0f22",
        "deepnote_to_be_reexecuted": false,
        "source_hash": "8d0bc7e8",
        "execution_millis": 3,
        "output_cleared": false,
        "execution_start": 1618471148378,
        "deepnote_cell_type": "code"
      },
      "source": "#train_set['trip_type'] = np.where(train_set['company'].isnull(), 'Personal', 'Business')\n#train_set['binary_previous_cancellation'] = np.where(train_set['previous_cancellations']>0, 1,0)\n#train_set['binary_babes'] = np.where(train_set['babies'] >0, 1, 0 ) \n#train_set['binary_children'] = np.where(train_set['children']>0,1,0 )\n#train_set['special_requests'] = np.where(train_set['total_of_special_requests']>0, 1, 0)\n#train_set['binary_car_park'] = np.where(train_set['required_car_parking_spaces']>0,1,0)\n#train_set['binary_booking_changes'] = np.where(train_set['booking_changes']>0,1,0 )\n",
      "execution_count": null,
      "outputs": []
    },
    {
      "cell_type": "markdown",
      "source": "## 2. Exploratory Data Analysis and Feature Engineering",
      "metadata": {
        "cell_id": "00007-7ae72913-4349-43a2-979c-165cea11d281",
        "deepnote_cell_type": "markdown"
      }
    },
    {
      "cell_type": "markdown",
      "source": "Introduction to EDA & Feature engineering\n\nIn the data set we now have 53068 data points with (?) columns. ",
      "metadata": {
        "cell_id": "00008-b1cd4f85-b68a-4732-a239-6cabdbe4da8b",
        "deepnote_cell_type": "markdown"
      }
    },
    {
      "cell_type": "code",
      "metadata": {
        "tags": [],
        "cell_id": "00033-5f57f74d-fd26-4f11-969a-10d240b01d68",
        "deepnote_to_be_reexecuted": false,
        "source_hash": "c6beb5a",
        "execution_millis": 10,
        "execution_start": 1618471148430,
        "deepnote_cell_type": "code"
      },
      "source": "header = \"Dataset information\"\nprint(header)\nprint(\"=\"*len(header))\n\nprint(\"Number of rows: \", train_set.shape[0])\nprint(\"Number of columns: \", train_set.shape[1])\nprint(\"Column names:\", )\nfor i in train_set.columns:\n    print(i, end = \",\")",
      "execution_count": null,
      "outputs": [
        {
          "name": "stdout",
          "text": "Dataset information\n===================\nNumber of rows:  53068\nNumber of columns:  38\nColumn names:\ncountry,is_canceled,hotel,lead_time,arrival_date_year,arrival_date_month,arrival_date_week_number,arrival_date_day_of_month,stays_in_weekend_nights,stays_in_week_nights,adults,children,babies,meal,market_segment,distribution_channel,is_repeated_guest,previous_cancellations,previous_bookings_not_canceled,reserved_room_type,assigned_room_type,booking_changes,deposit_type,agent,company,days_in_waiting_list,customer_type,adr,required_car_parking_spaces,total_of_special_requests,country_name,binary_babes,binary_children,special_requests,binary_car_park,binary_previous_cancellations,stays_nights_total,previous_cancellation_rate,",
          "output_type": "stream"
        }
      ]
    },
    {
      "cell_type": "markdown",
      "source": "### Feature selection\nIn this section, we investigate the features of the data set, and make the decisions on which features to include.\nThis is a short summary of the features we decided not to include and why: \n\n1. `arrival_date_week_number`: \n2. `company`: 5.69% of the data consists of non-N/A values. Thus, we will not use this feature.\n3. `arrival_date_month`: fairly uniform throughout the months. \n4. `arrival_date_year`: The ratio seems to be the same for the years. \n5. `children`: not impacting the cancelations \n6. `babies`: not impacting the cancelations significantly\n7. `binary_car_park` unsure about this one\n8. `deposit_type_Refundable` unsure about this one\n9. `is_repeated_guest`\n10. `market_segment_Complementary`\n11. `market_segment_Corporate`\n12. `market_segment_Undefined`\n13. `required_car_parking_spaces`\nNote: non zero variance features: variances across all columns given, gives which one has the least variance.\n\nHave to give justification for 6-13 as quoting non zero variance is not enough proof. \n",
      "metadata": {
        "tags": [],
        "cell_id": "00033-11dec66f-3319-4b84-bc69-bd9411ae7e5c",
        "deepnote_cell_type": "markdown"
      }
    },
    {
      "cell_type": "markdown",
      "source": "Let us start with finding what features have variance less than 0.05 to get a better idea which features might be less relevant in our model. If a feature exhibits a variance lower than the chosen threshold, it will be removed.",
      "metadata": {
        "tags": [],
        "cell_id": "00035-f5be4adb-00da-419b-a13a-5f2d5ef45c1b",
        "deepnote_cell_type": "markdown"
      }
    },
    {
      "cell_type": "code",
      "metadata": {
        "tags": [],
        "cell_id": "00032-468c23e8-1bf8-4693-8861-3bf15e899b8f",
        "deepnote_to_be_reexecuted": false,
        "source_hash": "a3a6c883",
        "execution_millis": 0,
        "execution_start": 1618471148431,
        "deepnote_cell_type": "code"
      },
      "source": "# Get all string columns \nnon_numerical_vars = [i for i in train_set.columns if train_set[i].dtype == \"object\"]\n\n# Drop string columns, the outcome variable and \"company\" (too many NA)\nall_feats = train_set.drop(columns = non_numerical_vars) \nall_feats = all_feats.drop(columns = [\"is_canceled\", \"company\"])",
      "execution_count": null,
      "outputs": []
    },
    {
      "cell_type": "code",
      "metadata": {
        "tags": [],
        "cell_id": "00032-fe444ac8-8692-4688-a4d3-75d1b5f9f17d",
        "deepnote_to_be_reexecuted": false,
        "source_hash": "50d03832",
        "execution_millis": 51,
        "execution_start": 1618471148431,
        "deepnote_cell_type": "code"
      },
      "source": "# Set threshold to 0.05. \n\nfeat_select = VarianceThreshold(threshold = 0.05)\nfeat_select.fit_transform(all_feats)",
      "execution_count": null,
      "outputs": [
        {
          "output_type": "execute_result",
          "execution_count": 20,
          "data": {
            "text/plain": "array([[7.400e+01, 2.016e+03, 1.800e+01, ..., 0.000e+00, 2.000e+00,\n              nan],\n       [1.300e+02, 2.017e+03, 1.600e+01, ..., 0.000e+00, 2.000e+00,\n              nan],\n       [1.100e+01, 2.016e+03, 4.700e+01, ..., 0.000e+00, 3.000e+00,\n              nan],\n       ...,\n       [8.400e+01, 2.017e+03, 3.000e+01, ..., 0.000e+00, 8.000e+00,\n              nan],\n       [1.000e+00, 2.016e+03, 9.000e+00, ..., 0.000e+00, 1.000e+00,\n              nan],\n       [0.000e+00, 2.017e+03, 6.000e+00, ..., 0.000e+00, 1.000e+00,\n              nan]])"
          },
          "metadata": {}
        }
      ]
    },
    {
      "cell_type": "markdown",
      "source": "The new \"all_feats\" is a dataframe after near-zero variance feature removal. It only contains the numerical variables and not string variables. Thus, although only 21 features remained, there are still 12 categorical variables.",
      "metadata": {
        "tags": [],
        "cell_id": "00037-3e610da5-8974-472c-b142-870b110c4207",
        "deepnote_cell_type": "markdown"
      }
    },
    {
      "cell_type": "code",
      "metadata": {
        "tags": [],
        "cell_id": "00032-c962fbe2-cfc4-456c-84cf-854aa0c4b477",
        "deepnote_to_be_reexecuted": false,
        "source_hash": "1bec0d1f",
        "execution_millis": 41,
        "execution_start": 1618471148489,
        "deepnote_cell_type": "code"
      },
      "source": "nonzerovariance_feats = all_feats[all_feats.columns[feat_select.get_support(indices=True)]]\nnonzerovariance_feats.head()",
      "execution_count": null,
      "outputs": [
        {
          "output_type": "execute_result",
          "execution_count": 21,
          "data": {
            "application/vnd.deepnote.dataframe.v2+json": {
              "row_count": 5,
              "column_count": 20,
              "columns": [
                {
                  "name": "lead_time",
                  "dtype": "int64",
                  "stats": {
                    "unique_count": 5,
                    "nan_count": 0,
                    "min": "11",
                    "max": "418",
                    "histogram": [
                      {
                        "bin_start": 11,
                        "bin_end": 51.7,
                        "count": 1
                      },
                      {
                        "bin_start": 51.7,
                        "bin_end": 92.4,
                        "count": 1
                      },
                      {
                        "bin_start": 92.4,
                        "bin_end": 133.10000000000002,
                        "count": 1
                      },
                      {
                        "bin_start": 133.10000000000002,
                        "bin_end": 173.8,
                        "count": 1
                      },
                      {
                        "bin_start": 173.8,
                        "bin_end": 214.5,
                        "count": 0
                      },
                      {
                        "bin_start": 214.5,
                        "bin_end": 255.20000000000002,
                        "count": 0
                      },
                      {
                        "bin_start": 255.20000000000002,
                        "bin_end": 295.90000000000003,
                        "count": 0
                      },
                      {
                        "bin_start": 295.90000000000003,
                        "bin_end": 336.6,
                        "count": 0
                      },
                      {
                        "bin_start": 336.6,
                        "bin_end": 377.3,
                        "count": 0
                      },
                      {
                        "bin_start": 377.3,
                        "bin_end": 418,
                        "count": 1
                      }
                    ]
                  }
                },
                {
                  "name": "arrival_date_year",
                  "dtype": "int64",
                  "stats": {
                    "unique_count": 2,
                    "nan_count": 0,
                    "min": "2016",
                    "max": "2017",
                    "histogram": [
                      {
                        "bin_start": 2016,
                        "bin_end": 2016.1,
                        "count": 3
                      },
                      {
                        "bin_start": 2016.1,
                        "bin_end": 2016.2,
                        "count": 0
                      },
                      {
                        "bin_start": 2016.2,
                        "bin_end": 2016.3,
                        "count": 0
                      },
                      {
                        "bin_start": 2016.3,
                        "bin_end": 2016.4,
                        "count": 0
                      },
                      {
                        "bin_start": 2016.4,
                        "bin_end": 2016.5,
                        "count": 0
                      },
                      {
                        "bin_start": 2016.5,
                        "bin_end": 2016.6,
                        "count": 0
                      },
                      {
                        "bin_start": 2016.6,
                        "bin_end": 2016.7,
                        "count": 0
                      },
                      {
                        "bin_start": 2016.7,
                        "bin_end": 2016.8,
                        "count": 0
                      },
                      {
                        "bin_start": 2016.8,
                        "bin_end": 2016.9,
                        "count": 0
                      },
                      {
                        "bin_start": 2016.9,
                        "bin_end": 2017,
                        "count": 2
                      }
                    ]
                  }
                },
                {
                  "name": "arrival_date_week_number",
                  "dtype": "int64",
                  "stats": {
                    "unique_count": 5,
                    "nan_count": 0,
                    "min": "15",
                    "max": "47",
                    "histogram": [
                      {
                        "bin_start": 15,
                        "bin_end": 18.2,
                        "count": 3
                      },
                      {
                        "bin_start": 18.2,
                        "bin_end": 21.4,
                        "count": 0
                      },
                      {
                        "bin_start": 21.4,
                        "bin_end": 24.6,
                        "count": 0
                      },
                      {
                        "bin_start": 24.6,
                        "bin_end": 27.8,
                        "count": 0
                      },
                      {
                        "bin_start": 27.8,
                        "bin_end": 31,
                        "count": 0
                      },
                      {
                        "bin_start": 31,
                        "bin_end": 34.2,
                        "count": 0
                      },
                      {
                        "bin_start": 34.2,
                        "bin_end": 37.400000000000006,
                        "count": 0
                      },
                      {
                        "bin_start": 37.400000000000006,
                        "bin_end": 40.6,
                        "count": 1
                      },
                      {
                        "bin_start": 40.6,
                        "bin_end": 43.8,
                        "count": 0
                      },
                      {
                        "bin_start": 43.8,
                        "bin_end": 47,
                        "count": 1
                      }
                    ]
                  }
                },
                {
                  "name": "arrival_date_day_of_month",
                  "dtype": "int64",
                  "stats": {
                    "unique_count": 5,
                    "nan_count": 0,
                    "min": "13",
                    "max": "28",
                    "histogram": [
                      {
                        "bin_start": 13,
                        "bin_end": 14.5,
                        "count": 2
                      },
                      {
                        "bin_start": 14.5,
                        "bin_end": 16,
                        "count": 0
                      },
                      {
                        "bin_start": 16,
                        "bin_end": 17.5,
                        "count": 0
                      },
                      {
                        "bin_start": 17.5,
                        "bin_end": 19,
                        "count": 0
                      },
                      {
                        "bin_start": 19,
                        "bin_end": 20.5,
                        "count": 0
                      },
                      {
                        "bin_start": 20.5,
                        "bin_end": 22,
                        "count": 1
                      },
                      {
                        "bin_start": 22,
                        "bin_end": 23.5,
                        "count": 0
                      },
                      {
                        "bin_start": 23.5,
                        "bin_end": 25,
                        "count": 0
                      },
                      {
                        "bin_start": 25,
                        "bin_end": 26.5,
                        "count": 1
                      },
                      {
                        "bin_start": 26.5,
                        "bin_end": 28,
                        "count": 1
                      }
                    ]
                  }
                },
                {
                  "name": "stays_in_weekend_nights",
                  "dtype": "int64",
                  "stats": {
                    "unique_count": 2,
                    "nan_count": 0,
                    "min": "0",
                    "max": "1",
                    "histogram": [
                      {
                        "bin_start": 0,
                        "bin_end": 0.1,
                        "count": 2
                      },
                      {
                        "bin_start": 0.1,
                        "bin_end": 0.2,
                        "count": 0
                      },
                      {
                        "bin_start": 0.2,
                        "bin_end": 0.30000000000000004,
                        "count": 0
                      },
                      {
                        "bin_start": 0.30000000000000004,
                        "bin_end": 0.4,
                        "count": 0
                      },
                      {
                        "bin_start": 0.4,
                        "bin_end": 0.5,
                        "count": 0
                      },
                      {
                        "bin_start": 0.5,
                        "bin_end": 0.6000000000000001,
                        "count": 0
                      },
                      {
                        "bin_start": 0.6000000000000001,
                        "bin_end": 0.7000000000000001,
                        "count": 0
                      },
                      {
                        "bin_start": 0.7000000000000001,
                        "bin_end": 0.8,
                        "count": 0
                      },
                      {
                        "bin_start": 0.8,
                        "bin_end": 0.9,
                        "count": 0
                      },
                      {
                        "bin_start": 0.9,
                        "bin_end": 1,
                        "count": 3
                      }
                    ]
                  }
                },
                {
                  "name": "stays_in_week_nights",
                  "dtype": "int64",
                  "stats": {
                    "unique_count": 2,
                    "nan_count": 0,
                    "min": "2",
                    "max": "3",
                    "histogram": [
                      {
                        "bin_start": 2,
                        "bin_end": 2.1,
                        "count": 4
                      },
                      {
                        "bin_start": 2.1,
                        "bin_end": 2.2,
                        "count": 0
                      },
                      {
                        "bin_start": 2.2,
                        "bin_end": 2.3,
                        "count": 0
                      },
                      {
                        "bin_start": 2.3,
                        "bin_end": 2.4,
                        "count": 0
                      },
                      {
                        "bin_start": 2.4,
                        "bin_end": 2.5,
                        "count": 0
                      },
                      {
                        "bin_start": 2.5,
                        "bin_end": 2.6,
                        "count": 0
                      },
                      {
                        "bin_start": 2.6,
                        "bin_end": 2.7,
                        "count": 0
                      },
                      {
                        "bin_start": 2.7,
                        "bin_end": 2.8,
                        "count": 0
                      },
                      {
                        "bin_start": 2.8,
                        "bin_end": 2.9,
                        "count": 0
                      },
                      {
                        "bin_start": 2.9,
                        "bin_end": 3,
                        "count": 1
                      }
                    ]
                  }
                },
                {
                  "name": "adults",
                  "dtype": "int64",
                  "stats": {
                    "unique_count": 1,
                    "nan_count": 0,
                    "min": "2",
                    "max": "2",
                    "histogram": [
                      {
                        "bin_start": 1.5,
                        "bin_end": 1.6,
                        "count": 0
                      },
                      {
                        "bin_start": 1.6,
                        "bin_end": 1.7,
                        "count": 0
                      },
                      {
                        "bin_start": 1.7,
                        "bin_end": 1.8,
                        "count": 0
                      },
                      {
                        "bin_start": 1.8,
                        "bin_end": 1.9,
                        "count": 0
                      },
                      {
                        "bin_start": 1.9,
                        "bin_end": 2,
                        "count": 0
                      },
                      {
                        "bin_start": 2,
                        "bin_end": 2.1,
                        "count": 5
                      },
                      {
                        "bin_start": 2.1,
                        "bin_end": 2.2,
                        "count": 0
                      },
                      {
                        "bin_start": 2.2,
                        "bin_end": 2.3,
                        "count": 0
                      },
                      {
                        "bin_start": 2.3,
                        "bin_end": 2.4,
                        "count": 0
                      },
                      {
                        "bin_start": 2.4,
                        "bin_end": 2.5,
                        "count": 0
                      }
                    ]
                  }
                },
                {
                  "name": "children",
                  "dtype": "float64",
                  "stats": {
                    "unique_count": 1,
                    "nan_count": 0,
                    "min": "0.0",
                    "max": "0.0",
                    "histogram": [
                      {
                        "bin_start": -0.5,
                        "bin_end": -0.4,
                        "count": 0
                      },
                      {
                        "bin_start": -0.4,
                        "bin_end": -0.3,
                        "count": 0
                      },
                      {
                        "bin_start": -0.3,
                        "bin_end": -0.19999999999999996,
                        "count": 0
                      },
                      {
                        "bin_start": -0.19999999999999996,
                        "bin_end": -0.09999999999999998,
                        "count": 0
                      },
                      {
                        "bin_start": -0.09999999999999998,
                        "bin_end": 0,
                        "count": 0
                      },
                      {
                        "bin_start": 0,
                        "bin_end": 0.10000000000000009,
                        "count": 5
                      },
                      {
                        "bin_start": 0.10000000000000009,
                        "bin_end": 0.20000000000000007,
                        "count": 0
                      },
                      {
                        "bin_start": 0.20000000000000007,
                        "bin_end": 0.30000000000000004,
                        "count": 0
                      },
                      {
                        "bin_start": 0.30000000000000004,
                        "bin_end": 0.4,
                        "count": 0
                      },
                      {
                        "bin_start": 0.4,
                        "bin_end": 0.5,
                        "count": 0
                      }
                    ]
                  }
                },
                {
                  "name": "previous_cancellations",
                  "dtype": "int64",
                  "stats": {
                    "unique_count": 1,
                    "nan_count": 0,
                    "min": "0",
                    "max": "0",
                    "histogram": [
                      {
                        "bin_start": -0.5,
                        "bin_end": -0.4,
                        "count": 0
                      },
                      {
                        "bin_start": -0.4,
                        "bin_end": -0.3,
                        "count": 0
                      },
                      {
                        "bin_start": -0.3,
                        "bin_end": -0.19999999999999996,
                        "count": 0
                      },
                      {
                        "bin_start": -0.19999999999999996,
                        "bin_end": -0.09999999999999998,
                        "count": 0
                      },
                      {
                        "bin_start": -0.09999999999999998,
                        "bin_end": 0,
                        "count": 0
                      },
                      {
                        "bin_start": 0,
                        "bin_end": 0.10000000000000009,
                        "count": 5
                      },
                      {
                        "bin_start": 0.10000000000000009,
                        "bin_end": 0.20000000000000007,
                        "count": 0
                      },
                      {
                        "bin_start": 0.20000000000000007,
                        "bin_end": 0.30000000000000004,
                        "count": 0
                      },
                      {
                        "bin_start": 0.30000000000000004,
                        "bin_end": 0.4,
                        "count": 0
                      },
                      {
                        "bin_start": 0.4,
                        "bin_end": 0.5,
                        "count": 0
                      }
                    ]
                  }
                },
                {
                  "name": "previous_bookings_not_canceled",
                  "dtype": "int64",
                  "stats": {
                    "unique_count": 1,
                    "nan_count": 0,
                    "min": "0",
                    "max": "0",
                    "histogram": [
                      {
                        "bin_start": -0.5,
                        "bin_end": -0.4,
                        "count": 0
                      },
                      {
                        "bin_start": -0.4,
                        "bin_end": -0.3,
                        "count": 0
                      },
                      {
                        "bin_start": -0.3,
                        "bin_end": -0.19999999999999996,
                        "count": 0
                      },
                      {
                        "bin_start": -0.19999999999999996,
                        "bin_end": -0.09999999999999998,
                        "count": 0
                      },
                      {
                        "bin_start": -0.09999999999999998,
                        "bin_end": 0,
                        "count": 0
                      },
                      {
                        "bin_start": 0,
                        "bin_end": 0.10000000000000009,
                        "count": 5
                      },
                      {
                        "bin_start": 0.10000000000000009,
                        "bin_end": 0.20000000000000007,
                        "count": 0
                      },
                      {
                        "bin_start": 0.20000000000000007,
                        "bin_end": 0.30000000000000004,
                        "count": 0
                      },
                      {
                        "bin_start": 0.30000000000000004,
                        "bin_end": 0.4,
                        "count": 0
                      },
                      {
                        "bin_start": 0.4,
                        "bin_end": 0.5,
                        "count": 0
                      }
                    ]
                  }
                },
                {
                  "name": "booking_changes",
                  "dtype": "int64",
                  "stats": {
                    "unique_count": 1,
                    "nan_count": 0,
                    "min": "0",
                    "max": "0",
                    "histogram": [
                      {
                        "bin_start": -0.5,
                        "bin_end": -0.4,
                        "count": 0
                      },
                      {
                        "bin_start": -0.4,
                        "bin_end": -0.3,
                        "count": 0
                      },
                      {
                        "bin_start": -0.3,
                        "bin_end": -0.19999999999999996,
                        "count": 0
                      },
                      {
                        "bin_start": -0.19999999999999996,
                        "bin_end": -0.09999999999999998,
                        "count": 0
                      },
                      {
                        "bin_start": -0.09999999999999998,
                        "bin_end": 0,
                        "count": 0
                      },
                      {
                        "bin_start": 0,
                        "bin_end": 0.10000000000000009,
                        "count": 5
                      },
                      {
                        "bin_start": 0.10000000000000009,
                        "bin_end": 0.20000000000000007,
                        "count": 0
                      },
                      {
                        "bin_start": 0.20000000000000007,
                        "bin_end": 0.30000000000000004,
                        "count": 0
                      },
                      {
                        "bin_start": 0.30000000000000004,
                        "bin_end": 0.4,
                        "count": 0
                      },
                      {
                        "bin_start": 0.4,
                        "bin_end": 0.5,
                        "count": 0
                      }
                    ]
                  }
                },
                {
                  "name": "agent",
                  "dtype": "float64",
                  "stats": {
                    "unique_count": 3,
                    "nan_count": 0,
                    "min": "7.0",
                    "max": "286.0",
                    "histogram": [
                      {
                        "bin_start": 7,
                        "bin_end": 34.9,
                        "count": 3
                      },
                      {
                        "bin_start": 34.9,
                        "bin_end": 62.8,
                        "count": 0
                      },
                      {
                        "bin_start": 62.8,
                        "bin_end": 90.69999999999999,
                        "count": 0
                      },
                      {
                        "bin_start": 90.69999999999999,
                        "bin_end": 118.6,
                        "count": 0
                      },
                      {
                        "bin_start": 118.6,
                        "bin_end": 146.5,
                        "count": 1
                      },
                      {
                        "bin_start": 146.5,
                        "bin_end": 174.39999999999998,
                        "count": 0
                      },
                      {
                        "bin_start": 174.39999999999998,
                        "bin_end": 202.29999999999998,
                        "count": 0
                      },
                      {
                        "bin_start": 202.29999999999998,
                        "bin_end": 230.2,
                        "count": 0
                      },
                      {
                        "bin_start": 230.2,
                        "bin_end": 258.1,
                        "count": 0
                      },
                      {
                        "bin_start": 258.1,
                        "bin_end": 286,
                        "count": 1
                      }
                    ]
                  }
                },
                {
                  "name": "days_in_waiting_list",
                  "dtype": "int64",
                  "stats": {
                    "unique_count": 2,
                    "nan_count": 0,
                    "min": "0",
                    "max": "223",
                    "histogram": [
                      {
                        "bin_start": 0,
                        "bin_end": 22.3,
                        "count": 4
                      },
                      {
                        "bin_start": 22.3,
                        "bin_end": 44.6,
                        "count": 0
                      },
                      {
                        "bin_start": 44.6,
                        "bin_end": 66.9,
                        "count": 0
                      },
                      {
                        "bin_start": 66.9,
                        "bin_end": 89.2,
                        "count": 0
                      },
                      {
                        "bin_start": 89.2,
                        "bin_end": 111.5,
                        "count": 0
                      },
                      {
                        "bin_start": 111.5,
                        "bin_end": 133.8,
                        "count": 0
                      },
                      {
                        "bin_start": 133.8,
                        "bin_end": 156.1,
                        "count": 0
                      },
                      {
                        "bin_start": 156.1,
                        "bin_end": 178.4,
                        "count": 0
                      },
                      {
                        "bin_start": 178.4,
                        "bin_end": 200.70000000000002,
                        "count": 0
                      },
                      {
                        "bin_start": 200.70000000000002,
                        "bin_end": 223,
                        "count": 1
                      }
                    ]
                  }
                },
                {
                  "name": "adr",
                  "dtype": "float64",
                  "stats": {
                    "unique_count": 5,
                    "nan_count": 0,
                    "min": "65.1",
                    "max": "107.0",
                    "histogram": [
                      {
                        "bin_start": 65.1,
                        "bin_end": 69.28999999999999,
                        "count": 1
                      },
                      {
                        "bin_start": 69.28999999999999,
                        "bin_end": 73.47999999999999,
                        "count": 0
                      },
                      {
                        "bin_start": 73.47999999999999,
                        "bin_end": 77.66999999999999,
                        "count": 1
                      },
                      {
                        "bin_start": 77.66999999999999,
                        "bin_end": 81.86,
                        "count": 0
                      },
                      {
                        "bin_start": 81.86,
                        "bin_end": 86.05,
                        "count": 0
                      },
                      {
                        "bin_start": 86.05,
                        "bin_end": 90.24,
                        "count": 0
                      },
                      {
                        "bin_start": 90.24,
                        "bin_end": 94.42999999999999,
                        "count": 0
                      },
                      {
                        "bin_start": 94.42999999999999,
                        "bin_end": 98.62,
                        "count": 2
                      },
                      {
                        "bin_start": 98.62,
                        "bin_end": 102.81,
                        "count": 0
                      },
                      {
                        "bin_start": 102.81,
                        "bin_end": 107,
                        "count": 1
                      }
                    ]
                  }
                },
                {
                  "name": "total_of_special_requests",
                  "dtype": "int64",
                  "stats": {
                    "unique_count": 3,
                    "nan_count": 0,
                    "min": "0",
                    "max": "3",
                    "histogram": [
                      {
                        "bin_start": 0,
                        "bin_end": 0.3,
                        "count": 3
                      },
                      {
                        "bin_start": 0.3,
                        "bin_end": 0.6,
                        "count": 0
                      },
                      {
                        "bin_start": 0.6,
                        "bin_end": 0.8999999999999999,
                        "count": 0
                      },
                      {
                        "bin_start": 0.8999999999999999,
                        "bin_end": 1.2,
                        "count": 1
                      },
                      {
                        "bin_start": 1.2,
                        "bin_end": 1.5,
                        "count": 0
                      },
                      {
                        "bin_start": 1.5,
                        "bin_end": 1.7999999999999998,
                        "count": 0
                      },
                      {
                        "bin_start": 1.7999999999999998,
                        "bin_end": 2.1,
                        "count": 0
                      },
                      {
                        "bin_start": 2.1,
                        "bin_end": 2.4,
                        "count": 0
                      },
                      {
                        "bin_start": 2.4,
                        "bin_end": 2.6999999999999997,
                        "count": 0
                      },
                      {
                        "bin_start": 2.6999999999999997,
                        "bin_end": 3,
                        "count": 1
                      }
                    ]
                  }
                },
                {
                  "name": "binary_children",
                  "dtype": "int64",
                  "stats": {
                    "unique_count": 1,
                    "nan_count": 0,
                    "min": "0",
                    "max": "0",
                    "histogram": [
                      {
                        "bin_start": -0.5,
                        "bin_end": -0.4,
                        "count": 0
                      },
                      {
                        "bin_start": -0.4,
                        "bin_end": -0.3,
                        "count": 0
                      },
                      {
                        "bin_start": -0.3,
                        "bin_end": -0.19999999999999996,
                        "count": 0
                      },
                      {
                        "bin_start": -0.19999999999999996,
                        "bin_end": -0.09999999999999998,
                        "count": 0
                      },
                      {
                        "bin_start": -0.09999999999999998,
                        "bin_end": 0,
                        "count": 0
                      },
                      {
                        "bin_start": 0,
                        "bin_end": 0.10000000000000009,
                        "count": 5
                      },
                      {
                        "bin_start": 0.10000000000000009,
                        "bin_end": 0.20000000000000007,
                        "count": 0
                      },
                      {
                        "bin_start": 0.20000000000000007,
                        "bin_end": 0.30000000000000004,
                        "count": 0
                      },
                      {
                        "bin_start": 0.30000000000000004,
                        "bin_end": 0.4,
                        "count": 0
                      },
                      {
                        "bin_start": 0.4,
                        "bin_end": 0.5,
                        "count": 0
                      }
                    ]
                  }
                },
                {
                  "name": "special_requests",
                  "dtype": "int64",
                  "stats": {
                    "unique_count": 2,
                    "nan_count": 0,
                    "min": "0",
                    "max": "1",
                    "histogram": [
                      {
                        "bin_start": 0,
                        "bin_end": 0.1,
                        "count": 3
                      },
                      {
                        "bin_start": 0.1,
                        "bin_end": 0.2,
                        "count": 0
                      },
                      {
                        "bin_start": 0.2,
                        "bin_end": 0.30000000000000004,
                        "count": 0
                      },
                      {
                        "bin_start": 0.30000000000000004,
                        "bin_end": 0.4,
                        "count": 0
                      },
                      {
                        "bin_start": 0.4,
                        "bin_end": 0.5,
                        "count": 0
                      },
                      {
                        "bin_start": 0.5,
                        "bin_end": 0.6000000000000001,
                        "count": 0
                      },
                      {
                        "bin_start": 0.6000000000000001,
                        "bin_end": 0.7000000000000001,
                        "count": 0
                      },
                      {
                        "bin_start": 0.7000000000000001,
                        "bin_end": 0.8,
                        "count": 0
                      },
                      {
                        "bin_start": 0.8,
                        "bin_end": 0.9,
                        "count": 0
                      },
                      {
                        "bin_start": 0.9,
                        "bin_end": 1,
                        "count": 2
                      }
                    ]
                  }
                },
                {
                  "name": "binary_previous_cancellations",
                  "dtype": "int64",
                  "stats": {
                    "unique_count": 1,
                    "nan_count": 0,
                    "min": "0",
                    "max": "0",
                    "histogram": [
                      {
                        "bin_start": -0.5,
                        "bin_end": -0.4,
                        "count": 0
                      },
                      {
                        "bin_start": -0.4,
                        "bin_end": -0.3,
                        "count": 0
                      },
                      {
                        "bin_start": -0.3,
                        "bin_end": -0.19999999999999996,
                        "count": 0
                      },
                      {
                        "bin_start": -0.19999999999999996,
                        "bin_end": -0.09999999999999998,
                        "count": 0
                      },
                      {
                        "bin_start": -0.09999999999999998,
                        "bin_end": 0,
                        "count": 0
                      },
                      {
                        "bin_start": 0,
                        "bin_end": 0.10000000000000009,
                        "count": 5
                      },
                      {
                        "bin_start": 0.10000000000000009,
                        "bin_end": 0.20000000000000007,
                        "count": 0
                      },
                      {
                        "bin_start": 0.20000000000000007,
                        "bin_end": 0.30000000000000004,
                        "count": 0
                      },
                      {
                        "bin_start": 0.30000000000000004,
                        "bin_end": 0.4,
                        "count": 0
                      },
                      {
                        "bin_start": 0.4,
                        "bin_end": 0.5,
                        "count": 0
                      }
                    ]
                  }
                },
                {
                  "name": "stays_nights_total",
                  "dtype": "int64",
                  "stats": {
                    "unique_count": 3,
                    "nan_count": 0,
                    "min": "2",
                    "max": "4",
                    "histogram": [
                      {
                        "bin_start": 2,
                        "bin_end": 2.2,
                        "count": 2
                      },
                      {
                        "bin_start": 2.2,
                        "bin_end": 2.4,
                        "count": 0
                      },
                      {
                        "bin_start": 2.4,
                        "bin_end": 2.6,
                        "count": 0
                      },
                      {
                        "bin_start": 2.6,
                        "bin_end": 2.8,
                        "count": 0
                      },
                      {
                        "bin_start": 2.8,
                        "bin_end": 3,
                        "count": 0
                      },
                      {
                        "bin_start": 3,
                        "bin_end": 3.2,
                        "count": 2
                      },
                      {
                        "bin_start": 3.2,
                        "bin_end": 3.4000000000000004,
                        "count": 0
                      },
                      {
                        "bin_start": 3.4000000000000004,
                        "bin_end": 3.6,
                        "count": 0
                      },
                      {
                        "bin_start": 3.6,
                        "bin_end": 3.8,
                        "count": 0
                      },
                      {
                        "bin_start": 3.8,
                        "bin_end": 4,
                        "count": 1
                      }
                    ]
                  }
                },
                {
                  "name": "previous_cancellation_rate",
                  "dtype": "float64",
                  "stats": {
                    "unique_count": 0,
                    "nan_count": 5,
                    "min": null,
                    "max": null,
                    "histogram": [
                      {
                        "bin_start": 0,
                        "bin_end": 0.1,
                        "count": 0
                      },
                      {
                        "bin_start": 0.1,
                        "bin_end": 0.2,
                        "count": 0
                      },
                      {
                        "bin_start": 0.2,
                        "bin_end": 0.30000000000000004,
                        "count": 0
                      },
                      {
                        "bin_start": 0.30000000000000004,
                        "bin_end": 0.4,
                        "count": 0
                      },
                      {
                        "bin_start": 0.4,
                        "bin_end": 0.5,
                        "count": 0
                      },
                      {
                        "bin_start": 0.5,
                        "bin_end": 0.6000000000000001,
                        "count": 0
                      },
                      {
                        "bin_start": 0.6000000000000001,
                        "bin_end": 0.7000000000000001,
                        "count": 0
                      },
                      {
                        "bin_start": 0.7000000000000001,
                        "bin_end": 0.8,
                        "count": 0
                      },
                      {
                        "bin_start": 0.8,
                        "bin_end": 0.9,
                        "count": 0
                      },
                      {
                        "bin_start": 0.9,
                        "bin_end": 1,
                        "count": 0
                      }
                    ]
                  }
                },
                {
                  "name": "_deepnote_index_column",
                  "dtype": "int64"
                }
              ],
              "rows_top": [
                {
                  "lead_time": 74,
                  "arrival_date_year": 2016,
                  "arrival_date_week_number": 18,
                  "arrival_date_day_of_month": 28,
                  "stays_in_weekend_nights": 0,
                  "stays_in_week_nights": 2,
                  "adults": 2,
                  "children": 0,
                  "previous_cancellations": 0,
                  "previous_bookings_not_canceled": 0,
                  "booking_changes": 0,
                  "agent": 7,
                  "days_in_waiting_list": 0,
                  "adr": 77.62,
                  "total_of_special_requests": 0,
                  "binary_children": 0,
                  "special_requests": 0,
                  "binary_previous_cancellations": 0,
                  "stays_nights_total": 2,
                  "previous_cancellation_rate": "nan",
                  "_deepnote_index_column": 46456
                },
                {
                  "lead_time": 130,
                  "arrival_date_year": 2017,
                  "arrival_date_week_number": 16,
                  "arrival_date_day_of_month": 21,
                  "stays_in_weekend_nights": 0,
                  "stays_in_week_nights": 2,
                  "adults": 2,
                  "children": 0,
                  "previous_cancellations": 0,
                  "previous_bookings_not_canceled": 0,
                  "booking_changes": 0,
                  "agent": 286,
                  "days_in_waiting_list": 0,
                  "adr": 95,
                  "total_of_special_requests": 0,
                  "binary_children": 0,
                  "special_requests": 0,
                  "binary_previous_cancellations": 0,
                  "stays_nights_total": 2,
                  "previous_cancellation_rate": "nan",
                  "_deepnote_index_column": 76275
                },
                {
                  "lead_time": 11,
                  "arrival_date_year": 2016,
                  "arrival_date_week_number": 47,
                  "arrival_date_day_of_month": 14,
                  "stays_in_weekend_nights": 1,
                  "stays_in_week_nights": 2,
                  "adults": 2,
                  "children": 0,
                  "previous_cancellations": 0,
                  "previous_bookings_not_canceled": 0,
                  "booking_changes": 0,
                  "agent": 7,
                  "days_in_waiting_list": 0,
                  "adr": 65.1,
                  "total_of_special_requests": 1,
                  "binary_children": 0,
                  "special_requests": 1,
                  "binary_previous_cancellations": 0,
                  "stays_nights_total": 3,
                  "previous_cancellation_rate": "nan",
                  "_deepnote_index_column": 430
                },
                {
                  "lead_time": 418,
                  "arrival_date_year": 2016,
                  "arrival_date_week_number": 40,
                  "arrival_date_day_of_month": 26,
                  "stays_in_weekend_nights": 1,
                  "stays_in_week_nights": 2,
                  "adults": 2,
                  "children": 0,
                  "previous_cancellations": 0,
                  "previous_bookings_not_canceled": 0,
                  "booking_changes": 0,
                  "agent": 132,
                  "days_in_waiting_list": 223,
                  "adr": 107,
                  "total_of_special_requests": 0,
                  "binary_children": 0,
                  "special_requests": 0,
                  "binary_previous_cancellations": 0,
                  "stays_nights_total": 3,
                  "previous_cancellation_rate": "nan",
                  "_deepnote_index_column": 55720
                },
                {
                  "lead_time": 158,
                  "arrival_date_year": 2017,
                  "arrival_date_week_number": 15,
                  "arrival_date_day_of_month": 13,
                  "stays_in_weekend_nights": 1,
                  "stays_in_week_nights": 3,
                  "adults": 2,
                  "children": 0,
                  "previous_cancellations": 0,
                  "previous_bookings_not_canceled": 0,
                  "booking_changes": 0,
                  "agent": 7,
                  "days_in_waiting_list": 0,
                  "adr": 95.29,
                  "total_of_special_requests": 3,
                  "binary_children": 0,
                  "special_requests": 1,
                  "binary_previous_cancellations": 0,
                  "stays_nights_total": 4,
                  "previous_cancellation_rate": "nan",
                  "_deepnote_index_column": 24537
                }
              ],
              "rows_bottom": null
            },
            "text/plain": "       lead_time  arrival_date_year  arrival_date_week_number  \\\n46456         74               2016                        18   \n76275        130               2017                        16   \n430           11               2016                        47   \n55720        418               2016                        40   \n24537        158               2017                        15   \n\n       arrival_date_day_of_month  stays_in_weekend_nights  \\\n46456                         28                        0   \n76275                         21                        0   \n430                           14                        1   \n55720                         26                        1   \n24537                         13                        1   \n\n       stays_in_week_nights  adults  children  previous_cancellations  \\\n46456                     2       2       0.0                       0   \n76275                     2       2       0.0                       0   \n430                       2       2       0.0                       0   \n55720                     2       2       0.0                       0   \n24537                     3       2       0.0                       0   \n\n       previous_bookings_not_canceled  booking_changes  agent  \\\n46456                               0                0    7.0   \n76275                               0                0  286.0   \n430                                 0                0    7.0   \n55720                               0                0  132.0   \n24537                               0                0    7.0   \n\n       days_in_waiting_list     adr  total_of_special_requests  \\\n46456                     0   77.62                          0   \n76275                     0   95.00                          0   \n430                       0   65.10                          1   \n55720                   223  107.00                          0   \n24537                     0   95.29                          3   \n\n       binary_children  special_requests  binary_previous_cancellations  \\\n46456                0                 0                              0   \n76275                0                 0                              0   \n430                  0                 1                              0   \n55720                0                 0                              0   \n24537                0                 1                              0   \n\n       stays_nights_total  previous_cancellation_rate  \n46456                   2                         NaN  \n76275                   2                         NaN  \n430                     3                         NaN  \n55720                   3                         NaN  \n24537                   4                         NaN  ",
            "text/html": "<div>\n<style scoped>\n    .dataframe tbody tr th:only-of-type {\n        vertical-align: middle;\n    }\n\n    .dataframe tbody tr th {\n        vertical-align: top;\n    }\n\n    .dataframe thead th {\n        text-align: right;\n    }\n</style>\n<table border=\"1\" class=\"dataframe\">\n  <thead>\n    <tr style=\"text-align: right;\">\n      <th></th>\n      <th>lead_time</th>\n      <th>arrival_date_year</th>\n      <th>arrival_date_week_number</th>\n      <th>arrival_date_day_of_month</th>\n      <th>stays_in_weekend_nights</th>\n      <th>stays_in_week_nights</th>\n      <th>adults</th>\n      <th>children</th>\n      <th>previous_cancellations</th>\n      <th>previous_bookings_not_canceled</th>\n      <th>booking_changes</th>\n      <th>agent</th>\n      <th>days_in_waiting_list</th>\n      <th>adr</th>\n      <th>total_of_special_requests</th>\n      <th>binary_children</th>\n      <th>special_requests</th>\n      <th>binary_previous_cancellations</th>\n      <th>stays_nights_total</th>\n      <th>previous_cancellation_rate</th>\n    </tr>\n  </thead>\n  <tbody>\n    <tr>\n      <th>46456</th>\n      <td>74</td>\n      <td>2016</td>\n      <td>18</td>\n      <td>28</td>\n      <td>0</td>\n      <td>2</td>\n      <td>2</td>\n      <td>0.0</td>\n      <td>0</td>\n      <td>0</td>\n      <td>0</td>\n      <td>7.0</td>\n      <td>0</td>\n      <td>77.62</td>\n      <td>0</td>\n      <td>0</td>\n      <td>0</td>\n      <td>0</td>\n      <td>2</td>\n      <td>NaN</td>\n    </tr>\n    <tr>\n      <th>76275</th>\n      <td>130</td>\n      <td>2017</td>\n      <td>16</td>\n      <td>21</td>\n      <td>0</td>\n      <td>2</td>\n      <td>2</td>\n      <td>0.0</td>\n      <td>0</td>\n      <td>0</td>\n      <td>0</td>\n      <td>286.0</td>\n      <td>0</td>\n      <td>95.00</td>\n      <td>0</td>\n      <td>0</td>\n      <td>0</td>\n      <td>0</td>\n      <td>2</td>\n      <td>NaN</td>\n    </tr>\n    <tr>\n      <th>430</th>\n      <td>11</td>\n      <td>2016</td>\n      <td>47</td>\n      <td>14</td>\n      <td>1</td>\n      <td>2</td>\n      <td>2</td>\n      <td>0.0</td>\n      <td>0</td>\n      <td>0</td>\n      <td>0</td>\n      <td>7.0</td>\n      <td>0</td>\n      <td>65.10</td>\n      <td>1</td>\n      <td>0</td>\n      <td>1</td>\n      <td>0</td>\n      <td>3</td>\n      <td>NaN</td>\n    </tr>\n    <tr>\n      <th>55720</th>\n      <td>418</td>\n      <td>2016</td>\n      <td>40</td>\n      <td>26</td>\n      <td>1</td>\n      <td>2</td>\n      <td>2</td>\n      <td>0.0</td>\n      <td>0</td>\n      <td>0</td>\n      <td>0</td>\n      <td>132.0</td>\n      <td>223</td>\n      <td>107.00</td>\n      <td>0</td>\n      <td>0</td>\n      <td>0</td>\n      <td>0</td>\n      <td>3</td>\n      <td>NaN</td>\n    </tr>\n    <tr>\n      <th>24537</th>\n      <td>158</td>\n      <td>2017</td>\n      <td>15</td>\n      <td>13</td>\n      <td>1</td>\n      <td>3</td>\n      <td>2</td>\n      <td>0.0</td>\n      <td>0</td>\n      <td>0</td>\n      <td>0</td>\n      <td>7.0</td>\n      <td>0</td>\n      <td>95.29</td>\n      <td>3</td>\n      <td>0</td>\n      <td>1</td>\n      <td>0</td>\n      <td>4</td>\n      <td>NaN</td>\n    </tr>\n  </tbody>\n</table>\n</div>"
          },
          "metadata": {}
        }
      ]
    },
    {
      "cell_type": "markdown",
      "source": "Below we see what numerical features were removed. ",
      "metadata": {
        "tags": [],
        "cell_id": "00039-3cc1bed1-91a3-492b-b21a-0690a163afcc",
        "deepnote_cell_type": "markdown"
      }
    },
    {
      "cell_type": "code",
      "metadata": {
        "tags": [],
        "cell_id": "00033-832dc1b9-9119-45bb-9d0f-aefbf1754a81",
        "deepnote_to_be_reexecuted": false,
        "source_hash": "2eca09d8",
        "execution_millis": 23,
        "execution_start": 1618471148507,
        "deepnote_cell_type": "code"
      },
      "source": "# Find the removed variables after VarianceThreshold()\n\nremoved_vars = set([i for i in all_feats.columns]) ^ set([i for i in nonzerovariance_feats.columns])\nremoved_vars",
      "execution_count": null,
      "outputs": [
        {
          "output_type": "execute_result",
          "execution_count": 22,
          "data": {
            "text/plain": "{'babies',\n 'binary_babes',\n 'binary_car_park',\n 'is_repeated_guest',\n 'required_car_parking_spaces'}"
          },
          "metadata": {}
        }
      ]
    },
    {
      "cell_type": "markdown",
      "source": "Since the predictors should have some variation in value, we wish to include those features that satisfy this criterion. The list above shows the features that have less than 0.05 variance. This gives us a ground to investigate those features to find further evidence for their removal. ",
      "metadata": {
        "tags": [],
        "cell_id": "00040-3deec293-dcec-453c-9994-8ed70d3c788e",
        "deepnote_cell_type": "markdown"
      }
    },
    {
      "cell_type": "code",
      "metadata": {
        "tags": [],
        "cell_id": "00033-c755670b-25f4-445c-83bd-1258eed9ae34",
        "deepnote_to_be_reexecuted": false,
        "source_hash": "377d6f13",
        "execution_millis": 5,
        "execution_start": 1618471148514,
        "deepnote_cell_type": "code"
      },
      "source": "# Company wide cancelation rate:\ncx_rate = train_set['is_canceled'].sum()/d.shape[0] ",
      "execution_count": null,
      "outputs": []
    },
    {
      "cell_type": "code",
      "metadata": {
        "tags": [],
        "cell_id": "00020-3c9d09f4-b7e4-4950-b94c-32810104a70b",
        "deepnote_to_be_reexecuted": false,
        "source_hash": "21eddb68",
        "execution_millis": 656,
        "execution_start": 1618471148527,
        "deepnote_cell_type": "code"
      },
      "source": "can_ax = sns.catplot(\n        x ='arrival_date_year', \n        col = 'hotel', \n        hue = 'is_canceled', \n        kind = 'count', \n        palette = sns.color_palette(\"Paired\",2),\n        data = train_set.sort_values('hotel', ascending= True)\n        )\ncan_ax.set_titles(\n        col_template = \"{col_name}\", \n        fontweight ='bold'\n        )\ncan_ax.set(\n        ylabel = 'Bookings', \n        xlabel = '')\ncan_ax.fig.suptitle(\n        'Figure(s) 1: Booking Bolume by Year'\n        )\nplt.show()",
      "execution_count": null,
      "outputs": [
        {
          "data": {
            "text/plain": "<Figure size 873.639x400 with 2 Axes>",
            "image/png": "[encoded data removed]"
          },
          "metadata": {
            "needs_background": "light"
          },
          "output_type": "display_data"
        }
      ]
    },
    {
      "cell_type": "markdown",
      "source": "We can see that the City Hotel is more popular, but the number of cancelations are greater than the number of occured bookings. \nThe Resort Hotel has less cancelations than the bookings that occured. \nIn both cases, we see the increase in booking volume, however the ratio of the cancelations to the bookings occured throughout the years seem the same. We note that the ratio of cancelation to bookings for City hotel is the same for Resort Hotel as well. Thus, we can exclude arrival_date_year as a feature because it would not provide much variability to our results. \n",
      "metadata": {
        "tags": [],
        "cell_id": "00033-7b3c866c-5b49-4a77-bbed-e77635d66675",
        "deepnote_cell_type": "markdown"
      }
    },
    {
      "cell_type": "code",
      "metadata": {
        "tags": [],
        "cell_id": "00044-ae812b33-8a38-4ae8-a4e9-2463ba48a5b3",
        "deepnote_to_be_reexecuted": false,
        "source_hash": "61d94a3d",
        "execution_millis": 32,
        "execution_start": 1618471149176,
        "deepnote_cell_type": "code"
      },
      "source": "# Reordering of the month\nmonths = [\"January\", \"February\", \"March\", \"April\", \"May\", \"June\", \n          \"July\", \"August\", \"September\", \"October\", \"November\", \"December\"]\n\ndef cancel_rate(x, feature, dataset, category_sort):\n    cancelation_rate = dataset[['is_canceled',feature, x]].groupby(\n        [feature, x, 'is_canceled']).size().reset_index(name ='count')\n    cancelation_rate = cancelation_rate.pivot_table(\n        index = [feature, x], \n        columns ='is_canceled', \n        values = 'count').reset_index().rename(columns = {0:'not_canceled' ,1: 'canceled'})\n    cancelation_rate['cancelation_rate'] = cancelation_rate.canceled/ (cancelation_rate.canceled + cancelation_rate.not_canceled)\n    cancelation_rate[x] = pd.Categorical(cancelation_rate[x], categories = category_sort, ordered =True)\n    \n    \n    return cancelation_rate\n\nh_cr = cancel_rate('arrival_date_month','hotel',train_set,months)\n",
      "execution_count": null,
      "outputs": []
    },
    {
      "cell_type": "code",
      "metadata": {
        "tags": [],
        "cell_id": "00024-95147ce8-67bf-4c75-b560-a79a7fc8eb8c",
        "deepnote_to_be_reexecuted": false,
        "source_hash": "2cb40115",
        "execution_millis": 4,
        "is_code_hidden": true,
        "execution_start": 1618471149208,
        "deepnote_cell_type": "code"
      },
      "source": "# # Cancelation rate by hotel and month\n\n# cancelation_rate = train_set[['is_canceled', 'hotel_Resort Hotel','arrival_date_month']].groupby(\n#     ['hotel_Resort Hotel', 'arrival_date_month', 'is_canceled']).size().reset_index(name ='count')\n\n# cancelation_rate = cancelation_rate.pivot_table(\n#         index = ['hotel_Resort Hotel', 'arrival_date_month'], \n#         columns ='is_canceled', \n#         values = 'count').reset_index().rename(columns = {0:'not_canceled' ,1: 'canceled'})\n\n# cancelation_rate['cancelation_rate'] = cancelation_rate.canceled/ (cancelation_rate.canceled + cancelation_rate.booked)\n\n# # Reordering of the month\n\n# months = [\"January\", \"February\", \"March\", \"April\", \"May\", \"June\", \n#           \"July\", \"August\", \"September\", \"October\", \"November\", \"December\"]\n\n# # Idea inspired by: https://stackoverflow.com/questions/48042915/sort-a-pandass-dataframe-series-by-month-name\n\n# cancelation_rate['arrival_date_month'] = pd.Categorical(cancelation_rate['arrival_date_month'], categories = months, ordered =True)\n",
      "execution_count": null,
      "outputs": []
    },
    {
      "cell_type": "code",
      "metadata": {
        "tags": [],
        "cell_id": "00025-5dfcd73a-8e69-464b-8f88-798d5a9f07df",
        "deepnote_to_be_reexecuted": false,
        "source_hash": "ba706c61",
        "execution_millis": 487,
        "execution_start": 1618471149233,
        "deepnote_cell_type": "code"
      },
      "source": "can_rate_ax = sns.barplot(\n    x = 'arrival_date_month', \n    hue ='hotel',\n    y ='cancelation_rate',\n    palette = sns.color_palette(\"Paired\",2),\n    data = h_cr\n)\n\nplt.xticks(rotation = 60)\nplt.show()",
      "execution_count": null,
      "outputs": [
        {
          "data": {
            "text/plain": "<Figure size 640x400 with 1 Axes>",
            "image/png": "[encoded data removed]"
          },
          "metadata": {
            "needs_background": "light"
          },
          "output_type": "display_data"
        }
      ]
    },
    {
      "cell_type": "markdown",
      "source": "We can see that the cancelation rate per month for City hotel appears to be approximately uniform throughout the year. We can see a slight variation in the cancellation rate for the Resort Hotel, with a significant drop in cancellation rate for the month of January. The difference in cancellation rates for both hotels between different months of the year does not appear to be a significant predictor of the cancellation rate. Thus, we will not include this feature in the model.\n\nNow, let us see the cancelations from  perspective of the country of origin of the clients. \n",
      "metadata": {
        "tags": [],
        "cell_id": "00036-2b61e5e6-0385-439e-bbf6-4b598f4b7989",
        "deepnote_cell_type": "markdown"
      }
    },
    {
      "cell_type": "code",
      "metadata": {
        "tags": [],
        "cell_id": "00024-e0da65c9-6888-4fa2-8fbb-f1cbee307780",
        "deepnote_to_be_reexecuted": false,
        "source_hash": "21b5284e",
        "execution_millis": 5,
        "execution_start": 1618471149616,
        "deepnote_cell_type": "code"
      },
      "source": "# A dataframe of the countries and number of bookings\ncountry_df = train_set[['is_canceled', 'country_name']].groupby( \n    ['is_canceled', 'country_name']).size().reset_index(name ='count')\n\n# Counting how many were canceled and not canceled\ncountry_df = country_df.pivot_table(\n    index = ['country_name'], columns = 'is_canceled', values = 'count').reset_index().rename(\n        columns = {0:'not_canceled', 1:'canceled'}).fillna(0)\n\n# Finding the cancelation rate per country\ncountry_df['cancelation_rate'] = country_df.canceled/(country_df.canceled + country_df.not_canceled)\n\n# Influx and outflux - Volume ? \ncountry_df['flux'] = country_df['not_canceled'] + country_df['canceled']\n\n#d.shape[0] : https://stackoverflow.com/questions/10200268/what-does-shape-do-in-for-i-in-rangey-shape0/21200291\n\n#Share of flux in the data set\ncountry_df['share'] = country_df['flux']/d.shape[0]\ncountry_df\n\n#Top 10 countries by flux canceled and non_canceled bookings: \ncountry_top  = country_df.sort_values('flux', ascending = False).head(10).country_name.unique()\n\n# Dataframe containing Top 10 countries Volume\ncountry_top_df = country_df[country_df['country_name'].isin(country_top)].copy().drop(\n    ['flux','cancelation_rate','share'],axis=1).melt(\n        id_vars = ['country_name']).rename(\n            columns={'value': 'count'})\n\n# What does it do? Idk how to comment it >.<\ncountry_top_df['country_name'] = pd.Categorical(\n    country_top_df['country_name'], categories=country_top, ordered=True)\n\n# Sorting \ncountry_top_cancelation_rate = country_df.sort_values('cancelation_rate', ascending=False).head(10).country_name.unique()",
      "execution_count": null,
      "outputs": []
    },
    {
      "cell_type": "code",
      "metadata": {
        "tags": [],
        "cell_id": "00025-a5aecfc3-e038-4b21-823f-ef8708327227",
        "deepnote_to_be_reexecuted": false,
        "source_hash": "a5a67f2d",
        "execution_millis": 27,
        "execution_start": 1618471149699,
        "deepnote_cell_type": "code"
      },
      "source": "country_top_cancelation_rate_df = country_df[ country_df['country_name'].isin(country_top)].copy()\ncountry_top_cancelation_rate_df['country_name'] = pd.Categorical(\n    country_top_cancelation_rate_df['country_name'], categories=country_top, ordered= True\n)\n\ncountry_top_cancelation_rate_df.sort_values(by = 'cancelation_rate', ascending = False)\n",
      "execution_count": null,
      "outputs": [
        {
          "output_type": "execute_result",
          "execution_count": 29,
          "data": {
            "application/vnd.deepnote.dataframe.v2+json": {
              "row_count": 10,
              "column_count": 6,
              "columns": [
                {
                  "name": "country_name",
                  "dtype": "category",
                  "stats": {
                    "unique_count": 10,
                    "nan_count": 0,
                    "categories": [
                      {
                        "name": "Portugal",
                        "count": 1
                      },
                      {
                        "name": "Brazil",
                        "count": 1
                      },
                      {
                        "name": "8 others",
                        "count": 8
                      }
                    ]
                  }
                },
                {
                  "name": "not_canceled",
                  "dtype": "float64",
                  "stats": {
                    "unique_count": 10,
                    "nan_count": 0,
                    "min": "473.0",
                    "max": "7606.0",
                    "histogram": [
                      {
                        "bin_start": 473,
                        "bin_end": 1186.3,
                        "count": 5
                      },
                      {
                        "bin_start": 1186.3,
                        "bin_end": 1899.6,
                        "count": 0
                      },
                      {
                        "bin_start": 1899.6,
                        "bin_end": 2612.8999999999996,
                        "count": 2
                      },
                      {
                        "bin_start": 2612.8999999999996,
                        "bin_end": 3326.2,
                        "count": 1
                      },
                      {
                        "bin_start": 3326.2,
                        "bin_end": 4039.5,
                        "count": 1
                      },
                      {
                        "bin_start": 4039.5,
                        "bin_end": 4752.799999999999,
                        "count": 0
                      },
                      {
                        "bin_start": 4752.799999999999,
                        "bin_end": 5466.099999999999,
                        "count": 0
                      },
                      {
                        "bin_start": 5466.099999999999,
                        "bin_end": 6179.4,
                        "count": 0
                      },
                      {
                        "bin_start": 6179.4,
                        "bin_end": 6892.7,
                        "count": 0
                      },
                      {
                        "bin_start": 6892.7,
                        "bin_end": 7606,
                        "count": 1
                      }
                    ]
                  }
                },
                {
                  "name": "canceled",
                  "dtype": "float64",
                  "stats": {
                    "unique_count": 10,
                    "nan_count": 0,
                    "min": "289.0",
                    "max": "16584.0",
                    "histogram": [
                      {
                        "bin_start": 289,
                        "bin_end": 1918.5,
                        "count": 9
                      },
                      {
                        "bin_start": 1918.5,
                        "bin_end": 3548,
                        "count": 0
                      },
                      {
                        "bin_start": 3548,
                        "bin_end": 5177.5,
                        "count": 0
                      },
                      {
                        "bin_start": 5177.5,
                        "bin_end": 6807,
                        "count": 0
                      },
                      {
                        "bin_start": 6807,
                        "bin_end": 8436.5,
                        "count": 0
                      },
                      {
                        "bin_start": 8436.5,
                        "bin_end": 10066,
                        "count": 0
                      },
                      {
                        "bin_start": 10066,
                        "bin_end": 11695.5,
                        "count": 0
                      },
                      {
                        "bin_start": 11695.5,
                        "bin_end": 13325,
                        "count": 0
                      },
                      {
                        "bin_start": 13325,
                        "bin_end": 14954.5,
                        "count": 0
                      },
                      {
                        "bin_start": 14954.5,
                        "bin_end": 16584,
                        "count": 1
                      }
                    ]
                  }
                },
                {
                  "name": "cancelation_rate",
                  "dtype": "float64",
                  "stats": {
                    "unique_count": 10,
                    "nan_count": 0,
                    "min": "0.2535112359550562",
                    "max": "0.6855725506407606",
                    "histogram": [
                      {
                        "bin_start": 0.2535112359550562,
                        "bin_end": 0.29671736742362664,
                        "count": 2
                      },
                      {
                        "bin_start": 0.29671736742362664,
                        "bin_end": 0.3399234988921971,
                        "count": 2
                      },
                      {
                        "bin_start": 0.3399234988921971,
                        "bin_end": 0.3831296303607675,
                        "count": 3
                      },
                      {
                        "bin_start": 0.3831296303607675,
                        "bin_end": 0.42633576182933797,
                        "count": 0
                      },
                      {
                        "bin_start": 0.42633576182933797,
                        "bin_end": 0.4695418932979084,
                        "count": 0
                      },
                      {
                        "bin_start": 0.4695418932979084,
                        "bin_end": 0.5127480247664788,
                        "count": 2
                      },
                      {
                        "bin_start": 0.5127480247664788,
                        "bin_end": 0.5559541562350493,
                        "count": 0
                      },
                      {
                        "bin_start": 0.5559541562350493,
                        "bin_end": 0.5991602877036197,
                        "count": 0
                      },
                      {
                        "bin_start": 0.5991602877036197,
                        "bin_end": 0.6423664191721902,
                        "count": 0
                      },
                      {
                        "bin_start": 0.6423664191721902,
                        "bin_end": 0.6855725506407606,
                        "count": 1
                      }
                    ]
                  }
                },
                {
                  "name": "flux",
                  "dtype": "float64",
                  "stats": {
                    "unique_count": 10,
                    "nan_count": 0,
                    "min": "851.0",
                    "max": "24190.0",
                    "histogram": [
                      {
                        "bin_start": 851,
                        "bin_end": 3184.9,
                        "count": 6
                      },
                      {
                        "bin_start": 3184.9,
                        "bin_end": 5518.8,
                        "count": 3
                      },
                      {
                        "bin_start": 5518.8,
                        "bin_end": 7852.700000000001,
                        "count": 0
                      },
                      {
                        "bin_start": 7852.700000000001,
                        "bin_end": 10186.6,
                        "count": 0
                      },
                      {
                        "bin_start": 10186.6,
                        "bin_end": 12520.5,
                        "count": 0
                      },
                      {
                        "bin_start": 12520.5,
                        "bin_end": 14854.400000000001,
                        "count": 0
                      },
                      {
                        "bin_start": 14854.400000000001,
                        "bin_end": 17188.300000000003,
                        "count": 0
                      },
                      {
                        "bin_start": 17188.300000000003,
                        "bin_end": 19522.2,
                        "count": 0
                      },
                      {
                        "bin_start": 19522.2,
                        "bin_end": 21856.100000000002,
                        "count": 0
                      },
                      {
                        "bin_start": 21856.100000000002,
                        "bin_end": 24190,
                        "count": 1
                      }
                    ]
                  }
                },
                {
                  "name": "share",
                  "dtype": "float64",
                  "stats": {
                    "unique_count": 10,
                    "nan_count": 0,
                    "min": "0.0071279001591423065",
                    "max": "0.20261328419465616",
                    "histogram": [
                      {
                        "bin_start": 0.0071279001591423065,
                        "bin_end": 0.02667643856269369,
                        "count": 6
                      },
                      {
                        "bin_start": 0.02667643856269369,
                        "bin_end": 0.04622497696624507,
                        "count": 3
                      },
                      {
                        "bin_start": 0.04622497696624507,
                        "bin_end": 0.06577351536979646,
                        "count": 0
                      },
                      {
                        "bin_start": 0.06577351536979646,
                        "bin_end": 0.08532205377334784,
                        "count": 0
                      },
                      {
                        "bin_start": 0.08532205377334784,
                        "bin_end": 0.10487059217689923,
                        "count": 0
                      },
                      {
                        "bin_start": 0.10487059217689923,
                        "bin_end": 0.12441913058045061,
                        "count": 0
                      },
                      {
                        "bin_start": 0.12441913058045061,
                        "bin_end": 0.14396766898400198,
                        "count": 0
                      },
                      {
                        "bin_start": 0.14396766898400198,
                        "bin_end": 0.16351620738755338,
                        "count": 0
                      },
                      {
                        "bin_start": 0.16351620738755338,
                        "bin_end": 0.18306474579110477,
                        "count": 0
                      },
                      {
                        "bin_start": 0.18306474579110477,
                        "bin_end": 0.20261328419465616,
                        "count": 1
                      }
                    ]
                  }
                },
                {
                  "name": "_deepnote_index_column",
                  "dtype": "int64"
                }
              ],
              "rows_top": [
                {
                  "country_name": "Portugal",
                  "not_canceled": 7606,
                  "canceled": 16584,
                  "cancelation_rate": 0.6855725506407606,
                  "flux": 24190,
                  "share": 0.20261328419465616,
                  "_deepnote_index_column": 107
                },
                {
                  "country_name": "Brazil",
                  "not_canceled": 473,
                  "canceled": 473,
                  "cancelation_rate": 0.5,
                  "flux": 946,
                  "share": 0.007923611692771589,
                  "_deepnote_index_column": 18
                },
                {
                  "country_name": "Italy",
                  "not_canceled": 861,
                  "canceled": 824,
                  "cancelation_rate": 0.4890207715133531,
                  "flux": 1685,
                  "share": 0.014113409833319374,
                  "_deepnote_index_column": 66
                },
                {
                  "country_name": "Spain",
                  "not_canceled": 2282,
                  "canceled": 1331,
                  "cancelation_rate": 0.36839191807362304,
                  "flux": 3613,
                  "share": 0.03026216601055365,
                  "_deepnote_index_column": 123
                },
                {
                  "country_name": "Ireland",
                  "not_canceled": 929,
                  "canceled": 536,
                  "cancelation_rate": 0.3658703071672355,
                  "flux": 1465,
                  "share": 0.012270709439651563,
                  "_deepnote_index_column": 63
                },
                {
                  "country_name": "United States",
                  "not_canceled": 557,
                  "canceled": 294,
                  "cancelation_rate": 0.345475910693302,
                  "flux": 851,
                  "share": 0.0071279001591423065,
                  "_deepnote_index_column": 138
                },
                {
                  "country_name": "United Kingdom",
                  "not_canceled": 3358,
                  "canceled": 1488,
                  "cancelation_rate": 0.30705736690053653,
                  "flux": 4846,
                  "share": 0.0405896641259737,
                  "_deepnote_index_column": 137
                },
                {
                  "country_name": "Belgium",
                  "not_canceled": 655,
                  "canceled": 289,
                  "cancelation_rate": 0.3061440677966102,
                  "flux": 944,
                  "share": 0.007906859871010972,
                  "_deepnote_index_column": 14
                },
                {
                  "country_name": "France",
                  "not_canceled": 2981,
                  "canceled": 1162,
                  "cancelation_rate": 0.28047308713492636,
                  "flux": 4143,
                  "share": 0.03470139877711701,
                  "_deepnote_index_column": 44
                },
                {
                  "country_name": "Germany",
                  "not_canceled": 2126,
                  "canceled": 722,
                  "cancelation_rate": 0.2535112359550562,
                  "flux": 2848,
                  "share": 0.02385459418711785,
                  "_deepnote_index_column": 48
                }
              ],
              "rows_bottom": null
            },
            "text/plain": "is_canceled    country_name  not_canceled  canceled  cancelation_rate  \\\n107                Portugal        7606.0   16584.0          0.685573   \n18                   Brazil         473.0     473.0          0.500000   \n66                    Italy         861.0     824.0          0.489021   \n123                   Spain        2282.0    1331.0          0.368392   \n63                  Ireland         929.0     536.0          0.365870   \n138           United States         557.0     294.0          0.345476   \n137          United Kingdom        3358.0    1488.0          0.307057   \n14                  Belgium         655.0     289.0          0.306144   \n44                   France        2981.0    1162.0          0.280473   \n48                  Germany        2126.0     722.0          0.253511   \n\nis_canceled     flux     share  \n107          24190.0  0.202613  \n18             946.0  0.007924  \n66            1685.0  0.014113  \n123           3613.0  0.030262  \n63            1465.0  0.012271  \n138            851.0  0.007128  \n137           4846.0  0.040590  \n14             944.0  0.007907  \n44            4143.0  0.034701  \n48            2848.0  0.023855  ",
            "text/html": "<div>\n<style scoped>\n    .dataframe tbody tr th:only-of-type {\n        vertical-align: middle;\n    }\n\n    .dataframe tbody tr th {\n        vertical-align: top;\n    }\n\n    .dataframe thead th {\n        text-align: right;\n    }\n</style>\n<table border=\"1\" class=\"dataframe\">\n  <thead>\n    <tr style=\"text-align: right;\">\n      <th>is_canceled</th>\n      <th>country_name</th>\n      <th>not_canceled</th>\n      <th>canceled</th>\n      <th>cancelation_rate</th>\n      <th>flux</th>\n      <th>share</th>\n    </tr>\n  </thead>\n  <tbody>\n    <tr>\n      <th>107</th>\n      <td>Portugal</td>\n      <td>7606.0</td>\n      <td>16584.0</td>\n      <td>0.685573</td>\n      <td>24190.0</td>\n      <td>0.202613</td>\n    </tr>\n    <tr>\n      <th>18</th>\n      <td>Brazil</td>\n      <td>473.0</td>\n      <td>473.0</td>\n      <td>0.500000</td>\n      <td>946.0</td>\n      <td>0.007924</td>\n    </tr>\n    <tr>\n      <th>66</th>\n      <td>Italy</td>\n      <td>861.0</td>\n      <td>824.0</td>\n      <td>0.489021</td>\n      <td>1685.0</td>\n      <td>0.014113</td>\n    </tr>\n    <tr>\n      <th>123</th>\n      <td>Spain</td>\n      <td>2282.0</td>\n      <td>1331.0</td>\n      <td>0.368392</td>\n      <td>3613.0</td>\n      <td>0.030262</td>\n    </tr>\n    <tr>\n      <th>63</th>\n      <td>Ireland</td>\n      <td>929.0</td>\n      <td>536.0</td>\n      <td>0.365870</td>\n      <td>1465.0</td>\n      <td>0.012271</td>\n    </tr>\n    <tr>\n      <th>138</th>\n      <td>United States</td>\n      <td>557.0</td>\n      <td>294.0</td>\n      <td>0.345476</td>\n      <td>851.0</td>\n      <td>0.007128</td>\n    </tr>\n    <tr>\n      <th>137</th>\n      <td>United Kingdom</td>\n      <td>3358.0</td>\n      <td>1488.0</td>\n      <td>0.307057</td>\n      <td>4846.0</td>\n      <td>0.040590</td>\n    </tr>\n    <tr>\n      <th>14</th>\n      <td>Belgium</td>\n      <td>655.0</td>\n      <td>289.0</td>\n      <td>0.306144</td>\n      <td>944.0</td>\n      <td>0.007907</td>\n    </tr>\n    <tr>\n      <th>44</th>\n      <td>France</td>\n      <td>2981.0</td>\n      <td>1162.0</td>\n      <td>0.280473</td>\n      <td>4143.0</td>\n      <td>0.034701</td>\n    </tr>\n    <tr>\n      <th>48</th>\n      <td>Germany</td>\n      <td>2126.0</td>\n      <td>722.0</td>\n      <td>0.253511</td>\n      <td>2848.0</td>\n      <td>0.023855</td>\n    </tr>\n  </tbody>\n</table>\n</div>"
          },
          "metadata": {}
        }
      ]
    },
    {
      "cell_type": "markdown",
      "source": "Looking at the top ten countries that cancel, we see that there is a variance between different countries and their respective cancelation rates. From the figure above we can see that 68.56% clients from Portugal cancel in comparison to US where the cancelation rate is 34%. Moreover the top countries account for more than 80 percent of the data set. Therefore, countries are definitely an important feature. ",
      "metadata": {
        "tags": [],
        "cell_id": "00039-484f473a-5f5a-47b2-b5f3-22253c7dcb45",
        "deepnote_cell_type": "markdown"
      }
    },
    {
      "cell_type": "code",
      "metadata": {
        "tags": [],
        "cell_id": "00025-2a753f7d-2917-4f7d-9cb7-0459e469f660",
        "deepnote_to_be_reexecuted": false,
        "source_hash": "9536b031",
        "execution_millis": 471,
        "execution_start": 1618471149699,
        "deepnote_cell_type": "code"
      },
      "source": "# fig 3, can we remove it? - I suggest not, figure 3 shows that Portugal's cancelation rate is higher \n#than many countries' cancelation rate combined as such it would make sense should we remove \n#country as a feature and keep portugal as a feature.. \n# Fig 4 also shows that as well as the dataframe above, and I also mention this in the\n# paragraph above. Don't we show the same thing? \nplt.figure(figsize = (7,12))\nplt.subplot(2,1,2)\ncountry_ax = sns.histplot(country_top_df, \n            x ='country_name',\n            hue = 'is_canceled',\n            weights = 'count', \n            multiple = 'stack',\n            shrink = 0.8,\n            palette = sns.color_palette(\"Paired\",2)\n)\nplt.xticks(rotation = 70)\ncountry_ax.set_title('Figure 3: Top 10 country share of total bookings and canceled')\n\n\ncountry_ax.set(\n    ylabel = 'Bookings', \n    xlabel = ''\n)\n\nplt.subplot(2,1,1)\ncountry_cancel_ax = sns.barplot(\n    data = country_top_cancelation_rate_df, \n    y = 'cancelation_rate',\n    x = 'country_name', \n    palette = sns.color_palette(\"Paired\",2)\n\n)\n\nplt.xticks(rotation = 70)\ncountry_cancel_ax.set_title('Figure 4: Top 10 countries cancelation rates')\n\ncountry_cancel_ax.set(\n    ylabel = 'Cancelation Rate',\n    xlabel = ''\n)\ncountry_cancel_ax.axhline(cx_rate, ls='--',color='#3b9de5',label='Average Cancellation Rate')\nplt.subplots_adjust(hspace=0.5)\nplt.show()\n",
      "execution_count": null,
      "outputs": [
        {
          "data": {
            "text/plain": "<Figure size 560x960 with 2 Axes>",
            "image/png": "[encoded data removed]"
          },
          "metadata": {
            "needs_background": "light"
          },
          "output_type": "display_data"
        }
      ]
    },
    {
      "cell_type": "markdown",
      "source": "Figure 4 visualises the results mentioned. Again, we can see Portugal has the highest cancelation rates, then Brazil and Italy. Spain, Ireland and Belgium, United States and the UK have very similar cancelation rates, not exceeding 37%. Belgium, Germany and France are a group of countries with the least cancelation rates in the top 10 country cancelations. ",
      "metadata": {
        "tags": [],
        "cell_id": "00053-c30569e3-a036-4c86-ae4a-5fbb9fafc48e",
        "deepnote_cell_type": "markdown"
      }
    },
    {
      "cell_type": "markdown",
      "source": "Now, let us investigate the cancelations considering the deposit type. ",
      "metadata": {
        "tags": [],
        "cell_id": "00029-1abc4b01-382f-46d3-8ed3-bfd1ea48f533",
        "deepnote_cell_type": "text-cell-p"
      }
    },
    {
      "cell_type": "code",
      "metadata": {
        "tags": [],
        "cell_id": "00029-9b5115ac-06d4-4e1a-af64-1171bdb2528b",
        "deepnote_to_be_reexecuted": false,
        "source_hash": "9494ae74",
        "execution_millis": 183,
        "execution_start": 1618471150164,
        "deepnote_cell_type": "code"
      },
      "source": "deposit = train_set.groupby('deposit_type')['is_canceled'].value_counts(\n    normalize = True).unstack('is_canceled').plot.bar(\n    stacked=True, edgecolor = 'black', color = sns.color_palette(\"Paired\",2))\n\ndeposit.set_title(\n    'Figure 4: Cancelation based on refund policy'\n    )\ndeposit.set(\n    xlabel='', \n    ylabel='Cancelation Rate')\n\nplt.xticks(rotation = 360)\nplt.show()",
      "execution_count": null,
      "outputs": [
        {
          "data": {
            "text/plain": "<Figure size 640x400 with 1 Axes>",
            "image/png": "[encoded data removed]"
          },
          "metadata": {
            "needs_background": "light"
          },
          "output_type": "display_data"
        }
      ]
    },
    {
      "cell_type": "markdown",
      "source": "The above result is surprising. Intuitively, having no deposit or refundable deposit, would encourage the cancelations, however according to the plot above, we see that non refundable trips are always canceled.\n\nNow, let us consider other interesting features.",
      "metadata": {
        "tags": [],
        "cell_id": "00056-dd5a46cf-2b17-4c4b-bea8-77a2d239bd63",
        "deepnote_cell_type": "markdown"
      }
    },
    {
      "cell_type": "code",
      "metadata": {
        "tags": [],
        "cell_id": "00031-4e95b6ee-457c-4661-a524-8128f8784d40",
        "deepnote_to_be_reexecuted": false,
        "source_hash": "94824180",
        "execution_millis": 1601,
        "execution_start": 1618472686642,
        "deepnote_cell_type": "code"
      },
      "source": "plt.figure(figsize = (14,7.5))\n\n# Market Segmentation\nMarket = train_set[['is_canceled', 'market_segment']].groupby( \n    ['is_canceled', 'market_segment']).size().reset_index(name = 'count')\n\n# Note we don't have a binary variable for market_segment.. \n\nMarket = Market.pivot_table(\n        index = ['market_segment'], \n        columns = 'is_canceled', \n        values = 'count').reset_index().fillna(0).rename(columns = {0:'booked', 1: 'canceled' })\nMarket['cancelation_rate'] = Market.canceled/(Market.canceled + Market.booked)\nplt.subplot(2,3,1)\nMarket_ax = sns.barplot( \n    x = 'market_segment', \n    y = 'cancelation_rate', \n    palette = sns.color_palette(\"Paired\",2),\n    data = Market.sort_values('cancelation_rate', ascending=False),\n)\nMarket_ax.set_title('Figure 7: Market segmentation and cancelation rates' )\nMarket_ax.set(\n    xlabel = '', \n    ylabel = 'Cancelation Rate')\n\nMarket_ax.axhline(cx_rate, ls='--',label='Average Cancellation Rate')\nplt.xticks(rotation = 60)\n\n# Distribution channel \ndistribution_rate = train_set[['is_canceled', 'distribution_channel']].groupby( \n    ['is_canceled', 'distribution_channel']).size().reset_index(name = 'count')\ndistribution_rate = distribution_rate.pivot_table(\n    index = ['distribution_channel'], \n    columns ='is_canceled', \n    values = 'count').reset_index().fillna(0).rename(\n        columns ={0:'booked', 1:'canceled'}\n    )\ndistribution_rate\ndistribution_rate['cancelation_rate'] = distribution_rate.canceled/ (distribution_rate.canceled + distribution_rate.booked)\nplt.subplot(2,3,2)\ndistribution_rate_ax = sns.barplot(\n    x ='distribution_channel', \n    y = 'cancelation_rate', \n    palette = sns.color_palette(\"Paired\",2),\n    data = distribution_rate.sort_values('cancelation_rate', ascending=False), \n    alpha = 0.8, \n\n\n)\ndistribution_rate_ax.set(ylabel = 'Cancelation Rate')\n\ndistribution_rate_ax.axhline(cx_rate, ls='--',label='Average Cancellation Rate')\ndistribution_rate_ax.set_title('Figure 8: Distribution channel')\n\nmeal_rate = train_set[['is_canceled', 'meal']].groupby( \n    ['is_canceled', 'meal']).size().reset_index(name = 'count')\n\n# Meal \n\nmeal_rate = meal_rate.pivot_table(\n    index = ['meal'], \n    columns ='is_canceled', \n    values = 'count').reset_index().fillna(0).rename(\n        columns ={0:'booked', 1:'canceled'}\n    )\n\nmeal_rate['cancelation_rate'] = meal_rate.canceled/ (meal_rate.canceled + meal_rate.booked)\nplt.subplot(2,3,3)\nmeal_rate_ax = sns.barplot(\n    x ='meal', \n    y = 'cancelation_rate', \n    palette = sns.color_palette(\"Paired\",2),\n    data = meal_rate.sort_values('cancelation_rate', ascending=False), \n    alpha = 0.8, \n\n\n)\nmeal_rate_ax.set(ylabel = 'Cancelation Rate')\nmeal_rate_ax.axhline(cx_rate, ls='--',label='Average Cancellation Rate')\nmeal_rate_ax.set_title('Figure 9: Meal Cancelation Rate')\n\n#Reservation Type\n\nreserved_rate = train_set[['is_canceled', 'reserved_room_type']].groupby( \n    ['is_canceled', 'reserved_room_type']).size().reset_index(name = 'count')\nreserved_rate  = reserved_rate.pivot_table(\n    index = ['reserved_room_type'], \n    columns = 'is_canceled', \n    values ='count').reset_index().rename(columns = {0:'booked', 1: 'canceled'}).fillna(0)\nreserved_rate['cancelation_rate'] = reserved_rate.canceled/(reserved_rate.canceled + reserved_rate.booked)\n\nplt.subplot(2,3,4)\nreserved_rate_ax = sns.barplot(\n    x ='reserved_room_type', \n    y = 'cancelation_rate', \n    data = reserved_rate.sort_values('cancelation_rate', ascending=False), \n    palette = sns.color_palette(\"Paired\",2),\n    alpha = 0.8, \n)\nreserved_rate_ax.set_title(\n    'Figure 10: Reserved Room Type'\n)\nreserved_rate_ax.axhline(cx_rate, ls='--',label='Average Cancellation Rate')\nreserved_rate_ax.set(ylabel = 'Cancelation Rate')\n\n#Assigned room \nassigned_rate = train_set[['is_canceled', 'assigned_room_type']].groupby( \n    ['is_canceled', 'assigned_room_type']).size().reset_index(name = 'count')\nassigned_rate  = assigned_rate.pivot_table(\n    index = ['assigned_room_type'], \n    columns = 'is_canceled', \n    values ='count').reset_index().rename(columns = {0:'booked', 1: 'canceled'}).fillna(0)\nassigned_rate['cancelation_rate'] = assigned_rate.canceled/(assigned_rate.canceled + assigned_rate.booked)\nplt.subplot(2,3,5)\nassinged_rate_ax = sns.barplot(\n    x ='assigned_room_type', \n    y = 'cancelation_rate', \n    data = assigned_rate.sort_values('cancelation_rate', ascending=False), \n    palette = sns.color_palette(\"Paired\",2),\n    alpha = 0.8, \n)\n\nassinged_rate_ax.set(ylabel = 'Cancelation Rate')\n\nassinged_rate_ax.axhline(cx_rate, ls='--',label='Average Cancellation Rate')\n\nassinged_rate_ax.set_title(\n    'Figure 11: Assigned Room Type'\n)\n\ncustomer = train_set[['is_canceled', 'customer_type']].groupby( \n    ['is_canceled', 'customer_type']).size().reset_index(name = 'count')\n\ncustomer  = customer.pivot_table(\n    index = ['customer_type'], \n    columns = 'is_canceled', \n    values ='count').reset_index().rename(columns = {0:'booked', 1: 'canceled'}).fillna(0)\ncustomer['cancelation_rate'] = customer.canceled/(customer.canceled + customer.booked)\nplt.subplot(2,3,6)\ncustomer_ax = sns.barplot(\n    x ='customer_type', \n    y = 'cancelation_rate', \n    data = customer.sort_values('cancelation_rate', ascending=False), \n    palette = sns.color_palette(\"Paired\",2),\n    alpha = 0.8)\n\ncustomer_ax.set(ylabel = 'Cancelation Rate')\n\ncustomer_ax.axhline(cx_rate, ls='--',label='Average Cancellation Rate')\n\n\ncustomer_ax.set_title(\n    'Figure 12: Customer Type'\n)\n\n\nplt.subplots_adjust(hspace=0.7)\n\n#Add legends \n\nplt.show()",
      "execution_count": null,
      "outputs": [
        {
          "data": {
            "text/plain": "<Figure size 1120x600 with 6 Axes>",
            "image/png": "[encoded data removed]"
          },
          "metadata": {
            "needs_background": "light"
          },
          "output_type": "display_data"
        }
      ]
    },
    {
      "cell_type": "markdown",
      "source": "Market segmentation: --\nWhat are those \"groups\",\"aviation\" etc? I can't find the descriptions in README.md\n\nDistribution channel: --\n\nMeal Cancelation Rate: Not considering the undefined meal, half board, bed and breakfast and no-meal package have the same or very close cancelation rate. We can see that the clients cancel full board most often. (decision: will we include this?)\n\nReserved Room type: We can see that the cancelation rates for the reserved room types are fairly uniform. However room type P always gets canceled. (decision: will we include this?) \n\nAssigned room type: I guess I have issued with coming up with something for this one, because I thought if you reserve a room of type a, you get room of type a. If that was the case those diagrams would be the same, but I think it is not. So not, sure how to go around it. Help?\n\nCustomer: The result we can see in Figure 12 is quite interesting. We can see that the groups cancel least often. The variability of the results is signiciant, therefore it is a good idea to include the customer type as a feature in the model. (decision: are we?)",
      "metadata": {
        "tags": [],
        "cell_id": "00049-a3c9d862-c01b-4626-8443-eda4b988a5a6",
        "deepnote_cell_type": "markdown"
      }
    },
    {
      "cell_type": "markdown",
      "source": "Now, let us consider the parking. ",
      "metadata": {
        "tags": [],
        "cell_id": "00059-82d00146-de9c-4e99-bad0-f08e3514af1c",
        "deepnote_cell_type": "markdown"
      }
    },
    {
      "cell_type": "code",
      "metadata": {
        "tags": [],
        "cell_id": "00049-9a784e51-78f3-4c31-a54b-a913439d9197",
        "deepnote_to_be_reexecuted": false,
        "source_hash": "b5035e1c",
        "execution_millis": 254,
        "execution_start": 1618471151932,
        "deepnote_cell_type": "code"
      },
      "source": "parking = train_set.groupby('binary_car_park')['is_canceled'].value_counts(normalize=True).unstack('is_canceled').plot.bar(\n    stacked=True, \n    edgecolor = 'black',color = sns.color_palette(\"Paired\",2))\nparking.set_title(\n    'Fig X: Cancellation Behaviour: Car Parking Required as a Predictor'\n    )\nparking.set(\n    xlabel='', \n    ylabel='Cancelation Rate')\n\nparking.set_xticklabels( ('No Parking Required', 'Parking Required') )\n\nplt.xticks(rotation = 360)\nplt.show()",
      "execution_count": null,
      "outputs": [
        {
          "data": {
            "text/plain": "<Figure size 640x400 with 1 Axes>",
            "image/png": "[encoded data removed]"
          },
          "metadata": {
            "needs_background": "light"
          },
          "output_type": "display_data"
        }
      ]
    },
    {
      "cell_type": "markdown",
      "source": "Another unexpected and interesting result. When parking is required, the cancelations never occur, and with no parking, there is a 50-50 chance they will. (Decision?) ",
      "metadata": {
        "tags": [],
        "cell_id": "00051-e4ed0e7e-3bbb-4716-9d5b-580a68bfa5a5",
        "deepnote_cell_type": "markdown"
      }
    },
    {
      "cell_type": "code",
      "metadata": {
        "tags": [],
        "cell_id": "00050-4249fe4e-f727-458f-b93a-0654976be9c5",
        "deepnote_to_be_reexecuted": false,
        "source_hash": "1af2e5",
        "execution_millis": 1172,
        "execution_start": 1618471152189,
        "deepnote_cell_type": "code"
      },
      "source": "plt.figure(figsize = (14,5))\nplt.subplot(1, 2, 2)\nLead_time_ax = sns.violinplot(\n    x='hotel', \n    y='lead_time', \n    hue='Canceled',\n    palette = sns.color_palette(\"Paired\",2),\n    data=train_set.rename(columns={'is_canceled': 'Canceled'}).sort_values('hotel', ascending=True)\n    )\nLead_time_ax.set(\n    ylabel='Lead time (Days)', \n    xlabel='')\nLead_time_ax.set_title(\n    'Figure 11: Lead Time Distributions'\n    )\n\nplt.subplot(1, 2, 1) \nLead_time_ax = sns.histplot(\n    hue='Canceled', \n    x='lead_time', \n    stat='density',\n    palette = sns.color_palette(\"Paired\",2),\n    data=train_set.rename(columns={'is_canceled': 'Canceled'}).sort_values('hotel', ascending=True)\n    )\nLead_time_ax.set(\n    xlabel='Lead Time (Days)')\nLead_time_ax.set_title(\n    'Figure 11: Lead Time Distributions'\n    )\nplt.show()",
      "execution_count": null,
      "outputs": [
        {
          "data": {
            "text/plain": "<Figure size 1120x400 with 2 Axes>",
            "image/png": "[encoded data removed]"
          },
          "metadata": {
            "needs_background": "light"
          },
          "output_type": "display_data"
        }
      ]
    },
    {
      "cell_type": "markdown",
      "source": "From the plot of the lead time distributions, we observe a heavily positive skew for non-cancelled bookings, indicating that a vast majority bookings are made on the same day of arrival. This suggests that most bookings are made within 50 days of arrival, and the frequency of higher lead times decreases as the lead times increase.\n\nWe observe a similar trend for the lead times between bookings and cancellations, however without a significantly positive skew. This suggests that as more time passes from the initial booking date, it becomes less likely that a cancellation will be made.",
      "metadata": {
        "tags": [],
        "cell_id": "00063-0776c7c9-7fc4-4902-89da-afb594434de9",
        "deepnote_cell_type": "markdown"
      }
    },
    {
      "cell_type": "code",
      "source": "# train_set[\"lead_time\"]",
      "metadata": {
        "tags": [],
        "cell_id": "00063-b87bc9ca-db66-4281-9433-d00a73a70acf",
        "deepnote_cell_type": "code"
      },
      "outputs": [],
      "execution_count": null
    },
    {
      "cell_type": "markdown",
      "source": "Let us check how the ADR varies when using the market segmentation and distribution channel. ",
      "metadata": {
        "tags": [],
        "cell_id": "00063-08ce9fe2-b746-4523-8ad4-20bacaebbb31",
        "deepnote_cell_type": "markdown"
      }
    },
    {
      "cell_type": "code",
      "metadata": {
        "tags": [],
        "cell_id": "00051-a06163d2-4c95-42aa-811e-b77b6f03e0b0",
        "deepnote_to_be_reexecuted": false,
        "source_hash": "91695cd9",
        "execution_millis": 1195,
        "execution_start": 1618473360483,
        "deepnote_cell_type": "code"
      },
      "source": "plt.figure(figsize = (14,5))\nplt.subplot(2,1,1) \n\nadr_ax = sns.histplot(\n    hue='is_canceled', \n    x='adr', \n    stat='density',\n    bins=100,\n    data=train_set,\n    palette = sns.color_palette(\"Paired\",2),\n    )\nadr_ax.set(\n    xlabel='ADR')\nadr_ax.set_title(\n    'Figure 12: Average Daily Rate Distributions'\n    )\n\n#for market segment\nplt.subplot(2,2,3)\n\nmrk_ax = sns.boxplot(\n    hue = 'is_canceled', \n    x = 'market_segment', \n    y = 'adr',\n    showfliers = False,\n    data = train_set[train_set['adr'] < 5000],\n    palette = sns.color_palette(\"Paired\",2),\n    \n)\n\nmrk_ax.set(\n    ylabel='ADR', \n    xlabel='')\nmrk_ax.set_title(\n    'Market Segment'\n    )\nmrk_ax.get_legend().remove()\nplt.xticks(rotation = 90,fontsize=7)\n\n#For Distribution channel\nplt.subplot(2,2,4)\n\ndist_ax = sns.boxplot(\n    hue = 'is_canceled', \n    x = 'distribution_channel', \n    y = 'adr',\n    showfliers = False,\n    data = train_set[train_set['adr'] < 5000],\n    palette = sns.color_palette(\"Paired\",2)\n)\ndist_ax.set(\n    ylabel='ADR', \n    xlabel='')\ndist_ax.set_title(\n    'Distribution Channel'\n    )\n\ndist_ax.get_legend().remove()   \nplt.xticks(rotation = 90,fontsize=7)\nplt.subplots_adjust(hspace=0.4)\nplt.show()\n",
      "execution_count": null,
      "outputs": [
        {
          "data": {
            "text/plain": "<Figure size 1120x400 with 3 Axes>",
            "image/png": "[encoded data removed]"
          },
          "metadata": {
            "needs_background": "light"
          },
          "output_type": "display_data"
        }
      ]
    },
    {
      "cell_type": "code",
      "source": "#######\nadr_ax = sns.histplot(\n    hue='is_canceled', \n    x='adr', \n    stat='density',\n    bins=100,\n    data=train_set,\n    palette = sns.color_palette(\"Paired\",2),\n    )\nadr_ax.set(\n    xlabel='ADR')\nadr_ax.set_title(\n    'Figure 12: Average Daily Rate Distributions'\n    )",
      "metadata": {
        "tags": [],
        "cell_id": "00067-f3b2cca7-cc13-4a37-ba5b-e15d60887788",
        "deepnote_cell_type": "code"
      },
      "outputs": [],
      "execution_count": null
    },
    {
      "cell_type": "code",
      "metadata": {
        "tags": [],
        "cell_id": "00056-ce401453-6c6e-45a5-959e-4c9771ee73b3",
        "deepnote_to_be_reexecuted": false,
        "source_hash": "b4cb1d27",
        "execution_millis": 623,
        "execution_start": 1618471154552,
        "deepnote_cell_type": "code"
      },
      "source": "plt.figure(figsize = (14,5))\nplt.subplot(1,3,1)\ntotal_stay_ax = sns.boxplot(\n    x='hotel', \n    y='stays_nights_total', \n    hue='is_canceled', \n    showfliers = False,\n    data=train_set.sort_values('hotel', ascending=True),\n    palette = sns.color_palette(\"Paired\",2)\n    )\ntotal_stay_ax.set(\n    ylabel='Total Nights Booked', \n    xlabel='')\ntotal_stay_ax.set_title(\n    'Total Nights'\n    )\ntotal_stay_ax.get_legend().remove()\ntotal_stay_ax.set_title(\n    'Total nights' )\n\n\nplt.subplot(1,3,2)\nweek_stay_ax = sns.boxplot(\n    x='hotel', \n    y='stays_in_week_nights', \n    hue='is_canceled', \n    showfliers = False,\n    data=train_set.sort_values('hotel', ascending=True),\n    palette = sns.color_palette(\"Paired\",2)\n    )\nweek_stay_ax.set(\n    ylabel='Week nights booked', \n    xlabel='')\nweek_stay_ax.set_title(\n    'Week nights'\n    )\nweek_stay_ax.get_legend().remove()\n\n\nplt.subplot(1,3,3)\nweekend_stay_ax = sns.boxplot(\n    x='hotel', \n    y='stays_in_weekend_nights', \n    hue='is_canceled', \n    showfliers = False,\n    data=train_set.sort_values('hotel', ascending=True),\n    palette = sns.color_palette(\"Paired\",2)\n    )\nweekend_stay_ax.set(\n    ylabel='Week nights booked', \n    xlabel='')\nweekend_stay_ax.set_title(\n    'Weekend nights'\n    )\nweekend_stay_ax.get_legend().remove()\n\nplt.show()",
      "execution_count": null,
      "outputs": [
        {
          "data": {
            "text/plain": "<Figure size 1120x400 with 3 Axes>",
            "image/png": "[encoded data removed]"
          },
          "metadata": {
            "needs_background": "light"
          },
          "output_type": "display_data"
        }
      ]
    },
    {
      "cell_type": "code",
      "metadata": {
        "tags": [],
        "cell_id": "00059-36edb71f-3f71-4063-92bb-0c276590c26f",
        "deepnote_to_be_reexecuted": false,
        "source_hash": "697e116c",
        "execution_millis": 349,
        "execution_start": 1618471155171,
        "deepnote_cell_type": "code"
      },
      "source": "adult= train_set.groupby('adults')['is_canceled'].value_counts(\n    normalize = True).unstack('is_canceled').plot.bar(stacked = True, alpha = 0.9, color = sns.color_palette(\"Paired\",2))\n    #alpha indicates how opacity of the plot\nadult.set_title('Figure 14: Cancelation behavior based on adults' )\nadult.set(\n    xlabel = 'No. of Adults', \n    ylabel = 'Cancelation Rate'\n)\nplt.xticks(rotation = 360)\nplt.show ()",
      "execution_count": null,
      "outputs": [
        {
          "data": {
            "text/plain": "<Figure size 640x400 with 1 Axes>",
            "image/png": "[encoded data removed]"
          },
          "metadata": {
            "needs_background": "light"
          },
          "output_type": "display_data"
        }
      ]
    },
    {
      "cell_type": "code",
      "metadata": {
        "tags": [],
        "cell_id": "00060-851058c3-1c58-4a31-83ba-9ed98c2b73f5",
        "deepnote_to_be_reexecuted": false,
        "source_hash": "de1db0f0",
        "execution_millis": 228,
        "execution_start": 1618471155517,
        "deepnote_cell_type": "code"
      },
      "source": "special_request= train_set.groupby('total_of_special_requests')['is_canceled'].value_counts(\n    normalize = True).unstack('is_canceled').plot.bar(stacked = True, alpha = 0.9, color = sns.color_palette(\"Paired\",2))\n    #alpha indicates how opacity of the plot\nspecial_request.set_title('Figure 15: Cancelation behavior based on Special Requests' )\nspecial_request.set(\n    xlabel = 'No. of Special Requests', \n    ylabel = 'Cancelation Rate'\n)\nplt.xticks(rotation = 360)\nplt.show()",
      "execution_count": null,
      "outputs": [
        {
          "data": {
            "text/plain": "<Figure size 640x400 with 1 Axes>",
            "image/png": "[encoded data removed]"
          },
          "metadata": {
            "needs_background": "light"
          },
          "output_type": "display_data"
        }
      ]
    },
    {
      "cell_type": "code",
      "metadata": {
        "tags": [],
        "cell_id": "00062-0b0646d8-a86f-4014-b4c3-dd852121ba26",
        "deepnote_to_be_reexecuted": false,
        "source_hash": "811a885f",
        "execution_millis": 168,
        "execution_start": 1618471155741,
        "deepnote_cell_type": "code"
      },
      "source": "babies= train_set.groupby('binary_babes')['is_canceled'].value_counts(\n    normalize = True).unstack('is_canceled').plot.bar(stacked = True, alpha = 0.9, color = sns.color_palette(\"Paired\",2))\n    #alpha indicates how opacity of the plot\nbabies.set_title('Figure 16: Cancelation behavior based on babies' )\nbabies.set(\n    xlabel = '', \n    ylabel = 'Cancelation Rate'\n)\nbabies.set_xticklabels( ('No Babies', 'Babies') )\nplt.xticks(rotation = 360)\nplt.show()",
      "execution_count": null,
      "outputs": [
        {
          "data": {
            "text/plain": "<Figure size 640x400 with 1 Axes>",
            "image/png": "[encoded data removed]"
          },
          "metadata": {
            "needs_background": "light"
          },
          "output_type": "display_data"
        }
      ]
    },
    {
      "cell_type": "markdown",
      "source": "As we can see, having babies or not having babies, does not differ significantly in the cancelations rates, thus, we will not consider this as a feature in our model.",
      "metadata": {
        "tags": [],
        "cell_id": "00073-d7ebcdce-8c92-410a-bbf9-af72064fe4d9",
        "deepnote_cell_type": "markdown"
      }
    },
    {
      "cell_type": "code",
      "metadata": {
        "tags": [],
        "cell_id": "00064-b2da08cc-53b2-4912-9f03-5aaefcdafd83",
        "deepnote_to_be_reexecuted": false,
        "source_hash": "43d0c037",
        "execution_millis": 207,
        "execution_start": 1618471155905,
        "deepnote_cell_type": "code"
      },
      "source": "children= train_set.groupby('binary_children')['is_canceled'].value_counts(\n    normalize = True).unstack('is_canceled').plot.bar(stacked = True, alpha = 0.9, color = sns.color_palette(\"Paired\",2))\n    #alpha indicates how opacity of the plot\nchildren.set_title('Figure 17: Cancelation rate based on children' )\nchildren.set(\n    xlabel = '', \n    ylabel = 'Cancelation Rate'\n)\nchildren.set_xticklabels( ('No Children', 'Children') )\nplt.xticks(rotation = 360)\nplt.show()",
      "execution_count": null,
      "outputs": [
        {
          "data": {
            "text/plain": "<Figure size 640x400 with 1 Axes>",
            "image/png": "[encoded data removed]"
          },
          "metadata": {
            "needs_background": "light"
          },
          "output_type": "display_data"
        }
      ]
    },
    {
      "cell_type": "markdown",
      "source": "Clearly the children do not impact the cancelation at all. I recommend townsville to have as many babies as possible. It wouldn't impact your hotel stay, eva. - I am not having babies ishaan! Towsville has to wait a loooooooooooooooooooooong time.",
      "metadata": {
        "tags": [],
        "cell_id": "00066-b1f6105f-ca8a-4f56-943b-054117321e43",
        "deepnote_cell_type": "markdown"
      }
    },
    {
      "cell_type": "code",
      "metadata": {
        "tags": [],
        "cell_id": "00065-896af1e4-1f1d-4b87-ab8a-472111bff4aa",
        "deepnote_to_be_reexecuted": false,
        "source_hash": "3dce8732",
        "execution_millis": 181,
        "execution_start": 1618471156107,
        "deepnote_cell_type": "code"
      },
      "source": "car_park= train_set.groupby('binary_car_park')['is_canceled'].value_counts(\n    normalize = True).unstack('is_canceled').plot.bar( stacked = True, alpha = 0.9, color = sns.color_palette(\"Paired\",2))\n    #alpha indicates capacity of the plot\ncar_park.set_title('Figure 18: Cancelation rate based on Car Park' )\ncar_park.set(\n    xlabel = '', \n    ylabel = 'Cancelation Rate'\n)\ncar_park.set_xticklabels( ('No Car Park', 'Car Park ') )\nplt.xticks(rotation = 360)\nplt.show()",
      "execution_count": null,
      "outputs": [
        {
          "data": {
            "text/plain": "<Figure size 640x400 with 1 Axes>",
            "image/png": "[encoded data removed]"
          },
          "metadata": {
            "needs_background": "light"
          },
          "output_type": "display_data"
        }
      ]
    },
    {
      "cell_type": "code",
      "metadata": {
        "tags": [],
        "cell_id": "00066-07f9cf9a-a95c-4280-9102-92d3123e909f",
        "deepnote_to_be_reexecuted": false,
        "source_hash": "77f08c4",
        "execution_millis": 293,
        "execution_start": 1618471156278,
        "deepnote_cell_type": "code"
      },
      "source": "previous_cancelation_ax = sns.histplot(\n    hue='is_canceled', \n    x='previous_cancellation_rate', \n    stat='density',\n    bins=20,\n    data=train_set, \n    palette = sns.color_palette(\"Paired\",2)\n\n    )\nprevious_cancelation_ax.set(\n    xlabel='Previous Cancellation Rate')\nprevious_cancelation_ax.set_title(\n    'Figure 19: Cancelation rates based on previous cancelation'\n    )\nplt.show()",
      "execution_count": null,
      "outputs": [
        {
          "data": {
            "text/plain": "<Figure size 640x400 with 1 Axes>",
            "image/png": "[encoded data removed]"
          },
          "metadata": {
            "needs_background": "light"
          },
          "output_type": "display_data"
        }
      ]
    },
    {
      "cell_type": "code",
      "metadata": {
        "tags": [],
        "cell_id": "00074-65342f88-7fbc-4317-b5e6-03bf8fe70bdc",
        "deepnote_to_be_reexecuted": false,
        "source_hash": "7ca466a1",
        "execution_millis": 269,
        "execution_start": 1618471156564,
        "deepnote_cell_type": "code"
      },
      "source": "booking = train_set.groupby('binary_booking_changes')['is_canceled'].value_counts(\n    normalize = True).unstack('is_canceled').plot.bar(stacked = True, alpha = 0.9, color = sns.color_palette(\"Paired\",2))\n    #alpha indicates how opacity of the plot\nbooking.set_title('Figure 17: Cancelation rate based on children' )\nbooking.set(\n    xlabel = '', \n    ylabel = 'Cancelation Rate'\n)\nplt.xticks(rotation = 360)\nplt.show()",
      "execution_count": null,
      "outputs": [
        {
          "output_type": "error",
          "ename": "KeyError",
          "evalue": "'binary_booking_changes'",
          "traceback": [
            "\u001b[0;31m---------------------------------------------------------------------------\u001b[0m",
            "\u001b[0;31mKeyError\u001b[0m                                  Traceback (most recent call last)",
            "\u001b[0;32m<ipython-input-44-735963d933ba>\u001b[0m in \u001b[0;36m<module>\u001b[0;34m\u001b[0m\n\u001b[0;32m----> 1\u001b[0;31m booking= train_set.groupby('binary_booking_changes')['is_canceled'].value_counts(\n\u001b[0m\u001b[1;32m      2\u001b[0m     normalize = True).unstack('is_canceled').plot.bar(stacked = True, alpha = 0.9, color = sns.color_palette(\"Paired\",2))\n\u001b[1;32m      3\u001b[0m     \u001b[0;31m#alpha indicates how opacity of the plot\u001b[0m\u001b[0;34m\u001b[0m\u001b[0;34m\u001b[0m\u001b[0;34m\u001b[0m\u001b[0m\n\u001b[1;32m      4\u001b[0m \u001b[0mbooking\u001b[0m\u001b[0;34m.\u001b[0m\u001b[0mset_title\u001b[0m\u001b[0;34m(\u001b[0m\u001b[0;34m'Figure 17: Cancelation rate based on children'\u001b[0m \u001b[0;34m)\u001b[0m\u001b[0;34m\u001b[0m\u001b[0;34m\u001b[0m\u001b[0m\n\u001b[1;32m      5\u001b[0m booking.set(\n",
            "\u001b[0;32m/usr/local/lib/python3.7/site-packages/pandas/core/frame.py\u001b[0m in \u001b[0;36mgroupby\u001b[0;34m(self, by, axis, level, as_index, sort, group_keys, squeeze, observed, dropna)\u001b[0m\n\u001b[1;32m   6722\u001b[0m             \u001b[0msqueeze\u001b[0m\u001b[0;34m=\u001b[0m\u001b[0msqueeze\u001b[0m\u001b[0;34m,\u001b[0m\u001b[0;34m\u001b[0m\u001b[0;34m\u001b[0m\u001b[0m\n\u001b[1;32m   6723\u001b[0m             \u001b[0mobserved\u001b[0m\u001b[0;34m=\u001b[0m\u001b[0mobserved\u001b[0m\u001b[0;34m,\u001b[0m\u001b[0;34m\u001b[0m\u001b[0;34m\u001b[0m\u001b[0m\n\u001b[0;32m-> 6724\u001b[0;31m             \u001b[0mdropna\u001b[0m\u001b[0;34m=\u001b[0m\u001b[0mdropna\u001b[0m\u001b[0;34m,\u001b[0m\u001b[0;34m\u001b[0m\u001b[0;34m\u001b[0m\u001b[0m\n\u001b[0m\u001b[1;32m   6725\u001b[0m         )\n\u001b[1;32m   6726\u001b[0m \u001b[0;34m\u001b[0m\u001b[0m\n",
            "\u001b[0;32m/usr/local/lib/python3.7/site-packages/pandas/core/groupby/groupby.py\u001b[0m in \u001b[0;36m__init__\u001b[0;34m(self, obj, keys, axis, level, grouper, exclusions, selection, as_index, sort, group_keys, squeeze, observed, mutated, dropna)\u001b[0m\n\u001b[1;32m    566\u001b[0m                 \u001b[0mobserved\u001b[0m\u001b[0;34m=\u001b[0m\u001b[0mobserved\u001b[0m\u001b[0;34m,\u001b[0m\u001b[0;34m\u001b[0m\u001b[0;34m\u001b[0m\u001b[0m\n\u001b[1;32m    567\u001b[0m                 \u001b[0mmutated\u001b[0m\u001b[0;34m=\u001b[0m\u001b[0mself\u001b[0m\u001b[0;34m.\u001b[0m\u001b[0mmutated\u001b[0m\u001b[0;34m,\u001b[0m\u001b[0;34m\u001b[0m\u001b[0;34m\u001b[0m\u001b[0m\n\u001b[0;32m--> 568\u001b[0;31m                 \u001b[0mdropna\u001b[0m\u001b[0;34m=\u001b[0m\u001b[0mself\u001b[0m\u001b[0;34m.\u001b[0m\u001b[0mdropna\u001b[0m\u001b[0;34m,\u001b[0m\u001b[0;34m\u001b[0m\u001b[0;34m\u001b[0m\u001b[0m\n\u001b[0m\u001b[1;32m    569\u001b[0m             )\n\u001b[1;32m    570\u001b[0m \u001b[0;34m\u001b[0m\u001b[0m\n",
            "\u001b[0;32m/usr/local/lib/python3.7/site-packages/pandas/core/groupby/grouper.py\u001b[0m in \u001b[0;36mget_grouper\u001b[0;34m(obj, key, axis, level, sort, observed, mutated, validate, dropna)\u001b[0m\n\u001b[1;32m    809\u001b[0m                 \u001b[0min_axis\u001b[0m\u001b[0;34m,\u001b[0m \u001b[0mname\u001b[0m\u001b[0;34m,\u001b[0m \u001b[0mlevel\u001b[0m\u001b[0;34m,\u001b[0m \u001b[0mgpr\u001b[0m \u001b[0;34m=\u001b[0m \u001b[0;32mFalse\u001b[0m\u001b[0;34m,\u001b[0m \u001b[0;32mNone\u001b[0m\u001b[0;34m,\u001b[0m \u001b[0mgpr\u001b[0m\u001b[0;34m,\u001b[0m \u001b[0;32mNone\u001b[0m\u001b[0;34m\u001b[0m\u001b[0;34m\u001b[0m\u001b[0m\n\u001b[1;32m    810\u001b[0m             \u001b[0;32melse\u001b[0m\u001b[0;34m:\u001b[0m\u001b[0;34m\u001b[0m\u001b[0;34m\u001b[0m\u001b[0m\n\u001b[0;32m--> 811\u001b[0;31m                 \u001b[0;32mraise\u001b[0m \u001b[0mKeyError\u001b[0m\u001b[0;34m(\u001b[0m\u001b[0mgpr\u001b[0m\u001b[0;34m)\u001b[0m\u001b[0;34m\u001b[0m\u001b[0;34m\u001b[0m\u001b[0m\n\u001b[0m\u001b[1;32m    812\u001b[0m         \u001b[0;32melif\u001b[0m \u001b[0misinstance\u001b[0m\u001b[0;34m(\u001b[0m\u001b[0mgpr\u001b[0m\u001b[0;34m,\u001b[0m \u001b[0mGrouper\u001b[0m\u001b[0;34m)\u001b[0m \u001b[0;32mand\u001b[0m \u001b[0mgpr\u001b[0m\u001b[0;34m.\u001b[0m\u001b[0mkey\u001b[0m \u001b[0;32mis\u001b[0m \u001b[0;32mnot\u001b[0m \u001b[0;32mNone\u001b[0m\u001b[0;34m:\u001b[0m\u001b[0;34m\u001b[0m\u001b[0;34m\u001b[0m\u001b[0m\n\u001b[1;32m    813\u001b[0m             \u001b[0;31m# Add key to exclusions\u001b[0m\u001b[0;34m\u001b[0m\u001b[0;34m\u001b[0m\u001b[0;34m\u001b[0m\u001b[0m\n",
            "\u001b[0;31mKeyError\u001b[0m: 'binary_booking_changes'"
          ]
        }
      ]
    },
    {
      "cell_type": "markdown",
      "source": "## 3. Understanding reasons behind cancelations\nIn this section, we will summarise our findings of various reasons of cancelations. \n\n1. Couples\\Parents more likely to cancel when having babies than not\n2. Parking space seems significant\n3. People from certain countries: (try finding patters which countries, some reasoning)\n4. The more number of special requests the less likely person will cancel\n5. People always cancel if there is a booking for 5+ adults. \n6. No refundable deposits - always get canceled. ",
      "metadata": {
        "tags": [],
        "cell_id": "00078-b42d103d-b89b-4b52-bd33-2efd17b673f1",
        "deepnote_cell_type": "markdown"
      }
    },
    {
      "cell_type": "markdown",
      "source": "## One hot encoding",
      "metadata": {
        "tags": [],
        "cell_id": "00074-dcfd5736-6b7c-4089-9b29-376b39c3fa50",
        "deepnote_cell_type": "markdown"
      }
    },
    {
      "cell_type": "code",
      "metadata": {
        "tags": [],
        "cell_id": "00024-3328136f-e8de-46e6-b5b6-21787516498b",
        "deepnote_to_be_reexecuted": true,
        "source_hash": "749fcd",
        "execution_millis": 1,
        "deepnote_cell_type": "code"
      },
      "source": "#onehot_vars = [\"deposit_type\",\"market_segment\", \"hotel\"]\n\n# Create binary variables for potential features\n#d_balanced = pd.get_dummies(\n    #d_balanced,\n    #columns = onehot_vars, \n    #drop_first = True\n    #)",
      "execution_count": null,
      "outputs": []
    },
    {
      "cell_type": "markdown",
      "source": "## 4. Model Fitting and Tuning",
      "metadata": {
        "cell_id": "00009-480bb6ea-4971-4b6c-845e-e5c0f0f012e4",
        "deepnote_cell_type": "markdown"
      }
    },
    {
      "cell_type": "markdown",
      "source": "*In this section you should detail your choice of model and describe the process used to refine and fit that model. You are strongly encouraged to explore many different modeling methods (e.g. logistic regression, classification trees, SVC, etc.) but you should not include a detailed narrative of all of these attempts. At most this section should mention the methods explored and why they were rejected - most of your effort should go into describing the model you are using and your process for tuning and validatin it.*\n\n*This section should also include the full implementation of your final model, including all necessary validation. As with figures, any included code must also be addressed in the text of the document.*",
      "metadata": {
        "cell_id": "00010-b36858d7-8299-47dc-a45a-0b98d3f417cb",
        "deepnote_cell_type": "markdown"
      }
    },
    {
      "cell_type": "code",
      "metadata": {
        "tags": [],
        "cell_id": "00079-544d2bcc-8f1b-4b9e-9993-a00b7b8d2079",
        "deepnote_to_be_reexecuted": true,
        "source_hash": "e2fc1886",
        "execution_millis": 2,
        "deepnote_cell_type": "code"
      },
      "source": "#d_balanced['trip_type'] = np.where(d_balanced['company'].isnull(), 'Personal', 'Business')\n#d_balanced['binary_previous_cancellation'] = np.where(d_balanced['previous_cancellations']>0, 1,0)\n#d_balanced['binary_babes'] = np.where(d_balanced['babies'] >0, 1, 0 ) \n#d_balanced['binary_children'] = np.where(d_balanced['children']>0,1,0 )\n#d_balanced['special_requests'] = np.where(d_balanced['total_of_special_requests']>0, 1, 0)\n#d_balanced['binary_car_park'] = np.where(d_balanced['required_car_parking_spaces']>0,1,0)\n#d_balanced['binary_booking_changes'] = np.where(d_balanced['booking_changes']>0,1,0 )\n\n#Some other features that can be engineered - removed this later if not used\n\n#d_balanced['stays_nights_total'] = d_balanced['stays_in_week_nights'] + d_balanced['stays_in_weekend_nights']\n#d_balanced['previous_cancellation_rate'] = d_balanced['previous_cancellations'] / (d_balanced['previous_cancellations'] + d_balanced['previous_bookings_not_canceled'])\n",
      "execution_count": null,
      "outputs": []
    },
    {
      "cell_type": "code",
      "metadata": {
        "tags": [],
        "cell_id": "00079-d32b1a29-fee6-450d-a71e-a45a238cb0dc",
        "deepnote_to_be_reexecuted": true,
        "source_hash": "3377b5d5",
        "execution_millis": 184,
        "deepnote_cell_type": "code"
      },
      "source": "## -- data split again (find a way to get around this, cause Colin the great)\nfeatures = d_balanced[[\"deposit_type\", \"country_name\",\n\"adults\",\"binary_car_park\",\"binary_previous_cancellations\",\"special_requests\",\"adr\", \"market_segment\"]]\n\nX = pd.get_dummies( \n    features, \n    columns = [\"deposit_type\",\"market_segment\", \"country_name\"], \n    drop_first = True\n    )\n\ny =d_balanced['is_canceled'] #response\n\n# For Mariel: Test and train size need to be the same \n\nX_train, X_test = train_test_split(X, test_size=0.25, random_state = 123) #60 - 40 split \ny_train, y_test = train_test_split(y, test_size=0.25, random_state = 123) #50 - 50 split\n",
      "execution_count": null,
      "outputs": []
    },
    {
      "cell_type": "code",
      "metadata": {
        "tags": [],
        "cell_id": "00080-880f6aa0-1b77-4b0d-92ff-fc2d50354fa3",
        "deepnote_to_be_reexecuted": true,
        "source_hash": "7d1c1464",
        "execution_millis": 76,
        "deepnote_cell_type": "code"
      },
      "source": "X_train.values.shape",
      "execution_count": null,
      "outputs": [
        {
          "output_type": "execute_result",
          "execution_count": 47,
          "data": {
            "text/plain": "(66336, 171)"
          },
          "metadata": {}
        }
      ]
    },
    {
      "cell_type": "code",
      "metadata": {
        "tags": [],
        "cell_id": "00080-d5ba1939-f66a-4bf1-aad7-23a65924281e",
        "deepnote_to_be_reexecuted": true,
        "source_hash": "9cd47083",
        "execution_millis": 65,
        "deepnote_cell_type": "code"
      },
      "source": "y_train.shape",
      "execution_count": null,
      "outputs": [
        {
          "output_type": "execute_result",
          "execution_count": 48,
          "data": {
            "text/plain": "(66336,)"
          },
          "metadata": {}
        }
      ]
    },
    {
      "cell_type": "code",
      "metadata": {
        "tags": [],
        "cell_id": "00078-8438155e-b15c-46fc-8d75-17801cf9f709",
        "deepnote_to_be_reexecuted": true,
        "source_hash": "f82f5aa8",
        "execution_millis": 0,
        "deepnote_cell_type": "code"
      },
      "source": "def fit_svc(kernel, C):\n    m_svc = make_pipeline(\n        sklearn.preprocessing.StandardScaler(),\n        sklearn.svm.SVC(C=C, kernel=kernel)\n    ).fit(X,y)\n    \n    model_test_assess(m_svc)\n\n# Purpose of this function is yet to be explored.. ",
      "execution_count": null,
      "outputs": []
    },
    {
      "cell_type": "code",
      "metadata": {
        "tags": [],
        "cell_id": "00070-0db6d647-1440-4b02-bb1a-6debb061d4e1",
        "deepnote_to_be_reexecuted": true,
        "source_hash": "c346ecd2",
        "execution_millis": 25727,
        "deepnote_cell_type": "code"
      },
      "source": "m = make_pipeline(\n    LogisticRegression(solver='lbfgs',max_iter=400)\n ).fit(X_train, y_train)\n\n # https://discuss.analyticsvidhya.com/t/what-is-the-difference-between-predict-and-predict-proba/67376\n\n\nmpreds = m.predict_proba(X_test)\nmpreds = mpreds[:,1]\n\nns_probs = [0 for _ in range(len(y_test))]\n\n#scores\nlr_auc = roc_auc_score(y_test, mpreds)\nns_auc = roc_auc_score(y_test, ns_probs)\nprint('Logistic: ROC AUC=%.3f' % (lr_auc))\nprint('No Skill: ROC AUC=%.3f' % (ns_auc))\n\n#ROC curve for null and logistic\nns_fpr, ns_tpr, _ = roc_curve(y_test, ns_probs)\nlr_fpr, lr_tpr, _ = roc_curve(y_test, mpreds)\n\npyplot.plot(ns_fpr, ns_tpr, linestyle='--', label='No Skill')\npyplot.plot(lr_fpr, lr_tpr, marker='.', label='Logistic')\n\npyplot.xlabel('False Positive Rate')\npyplot.ylabel('True Positive Rate')\n# show the legend\npyplot.legend()\n# show the plot\npyplot.show()\n\n#no genius: https://machinelearningmastery.com/roc-curves-and-precision-recall-curves-for-classification-in-python/\n",
      "execution_count": null,
      "outputs": [
        {
          "name": "stdout",
          "text": "Logistic: ROC AUC=0.872\nNo Skill: ROC AUC=0.500\n",
          "output_type": "stream"
        },
        {
          "data": {
            "text/plain": "<Figure size 640x400 with 1 Axes>",
            "image/png": "[encoded data removed]"
          },
          "metadata": {
            "needs_background": "light"
          },
          "output_type": "display_data"
        }
      ]
    },
    {
      "cell_type": "markdown",
      "source": "So, we should prioritise on ROC as opposed to Precision Recall curve cause we have eliminated the antisemitism regarding the imbalanced classes and now all is smooth. ",
      "metadata": {
        "tags": [],
        "cell_id": "00082-f31803ab-2060-4f51-8adb-2d96e361a2b0",
        "deepnote_cell_type": "text-cell-p"
      }
    },
    {
      "cell_type": "markdown",
      "source": " #https://medium.com/swlh/confusion-matrix-and-classification-report-88105288d48f",
      "metadata": {
        "tags": [],
        "cell_id": "00084-7c542ce7-9421-4d85-a4ae-9d3651afdbb4",
        "deepnote_cell_type": "text-cell-p"
      }
    },
    {
      "cell_type": "markdown",
      "source": "We can also see how important is Portugal besides other countries, since it's cancelation rates are higher than all of the other countries combined(or a greater proportion of cancelation rates) we can say that we can take portugal itself as a feature and exclude other countries. If we get a high AUC then we have done something good, I guess.  ",
      "metadata": {
        "tags": [],
        "cell_id": "00082-f53e5340-eacd-4e54-8465-0ec69643c33f",
        "deepnote_cell_type": "text-cell-p"
      }
    },
    {
      "cell_type": "code",
      "metadata": {
        "tags": [],
        "cell_id": "00082-eafefef9-e2a6-4f12-bc06-60819a6160c6",
        "deepnote_to_be_reexecuted": true,
        "source_hash": "ea6b91b9",
        "execution_millis": 44,
        "deepnote_cell_type": "code"
      },
      "source": "features = d_balanced[[\"deposit_type\", \"country_name\",\n\"adults\",\"binary_car_park\",\"binary_previous_cancellations\",\"special_requests\",\"adr\", \"market_segment\"]]\n\nX = pd.get_dummies( \n    features, \n    columns = [\"deposit_type\",\"market_segment\"], \n    drop_first = True\n    )\n\ny =d_balanced['is_canceled'] #response\n\nX['portugal'] = np.where(X['country_name'] == 'Portugal', 1, 0)\n\nX = X.drop(\"country_name\", axis = 1)\n\n\nX_train1, X_test1 = train_test_split(X, test_size=0.25, random_state = 123) #60 - 40 split \ny_train1, y_test1 = train_test_split(y, test_size=0.25, random_state = 123) #50 - 50 split\n\n\n",
      "execution_count": null,
      "outputs": []
    },
    {
      "cell_type": "code",
      "metadata": {
        "tags": [],
        "cell_id": "00083-14c49b36-b566-4a50-a927-9a9f319904ac",
        "deepnote_to_be_reexecuted": true,
        "source_hash": "e1ca7644",
        "execution_millis": 12,
        "deepnote_cell_type": "code"
      },
      "source": "X_train1.shape",
      "execution_count": null,
      "outputs": [
        {
          "output_type": "execute_result",
          "execution_count": 52,
          "data": {
            "text/plain": "(66336, 15)"
          },
          "metadata": {}
        }
      ]
    },
    {
      "cell_type": "code",
      "metadata": {
        "tags": [],
        "cell_id": "00084-c889239d-1cdd-4bf3-8bc5-b413001a37a1",
        "deepnote_to_be_reexecuted": true,
        "source_hash": "b4c99f90",
        "execution_millis": 44,
        "deepnote_cell_type": "code"
      },
      "source": "y_train1.shape",
      "execution_count": null,
      "outputs": [
        {
          "output_type": "execute_result",
          "execution_count": 53,
          "data": {
            "text/plain": "(66336,)"
          },
          "metadata": {}
        }
      ]
    },
    {
      "cell_type": "code",
      "metadata": {
        "tags": [],
        "cell_id": "00084-5ca95dbf-5226-4295-a957-d257fc2be9dd",
        "deepnote_to_be_reexecuted": true,
        "source_hash": "592dc950",
        "execution_millis": 12637,
        "deepnote_cell_type": "code"
      },
      "source": "m = make_pipeline(\n    LogisticRegression(solver='lbfgs',max_iter=400)\n ).fit(X_train1, y_train1)\n\n # https://discuss.analyticsvidhya.com/t/what-is-the-difference-between-predict-and-predict-proba/67376\n\n\nmpreds = m.predict_proba(X_test1)\nmpreds = mpreds[:,1]\n\nns_probs = [0 for _ in range(len(y_test1))]\n\n#scores\nlr_auc = roc_auc_score(y_test, mpreds)\nns_auc = roc_auc_score(y_test, ns_probs)\nprint('Logistic: ROC AUC=%.3f' % (lr_auc))\nprint('No Skill: ROC AUC=%.3f' % (ns_auc))\n\n#ROC curve for null and logistic\nns_fpr, ns_tpr, _ = roc_curve(y_test1, ns_probs)\nlr_fpr, lr_tpr, _ = roc_curve(y_test1, mpreds)\n\npyplot.plot(ns_fpr, ns_tpr, linestyle='--', label='No Skill')\npyplot.plot(lr_fpr, lr_tpr, marker='.', label='Logistic')\n\npyplot.xlabel('False Positive Rate')\npyplot.ylabel('True Positive Rate')\n# show the legend\npyplot.legend()\n# show the plot\npyplot.show()\n\n",
      "execution_count": null,
      "outputs": [
        {
          "name": "stdout",
          "text": "Logistic: ROC AUC=0.867\nNo Skill: ROC AUC=0.500\n",
          "output_type": "stream"
        },
        {
          "data": {
            "text/plain": "<Figure size 640x400 with 1 Axes>",
            "image/png": "[encoded data removed]"
          },
          "metadata": {
            "needs_background": "light"
          },
          "output_type": "display_data"
        }
      ]
    },
    {
      "cell_type": "markdown",
      "source": "Portugal is important AUC originally 0.875 , AUC new: 0.871 this means Portugal is most important. ",
      "metadata": {
        "tags": [],
        "cell_id": "00086-d81fd7e8-30d8-4d20-9f2b-82480581e5d5",
        "deepnote_cell_type": "text-cell-p"
      }
    },
    {
      "cell_type": "code",
      "metadata": {
        "tags": [],
        "cell_id": "00087-9428a8f1-8378-4f4b-a32d-d97d75e4f02b",
        "deepnote_to_be_reexecuted": true,
        "source_hash": "bc52754d",
        "execution_millis": 30,
        "deepnote_cell_type": "code"
      },
      "source": "features = d_balanced[[\"deposit_type\", \"country_name\",\n\"adults\",\"binary_car_park\",\"binary_previous_cancellations\",\"special_requests\",\"adr\"]]\n\n\nX = pd.get_dummies( \n    features, \n    columns = [\"deposit_type\"], \n    drop_first = True\n    )\n\ny =d_balanced['is_canceled'] #response\n\nX['Portugal'] = np.where(X['country_name'] == 'Portugal', 1, 0)\n\nX = X.drop(\"country_name\", axis = 1)\n\n\nX_train2, X_test2 = train_test_split(X, test_size=0.25, random_state = 123) #60 - 40 split \ny_train2, y_test2 = train_test_split(y, test_size=0.25, random_state = 123) #50 - 50 split\n",
      "execution_count": null,
      "outputs": []
    },
    {
      "cell_type": "code",
      "metadata": {
        "tags": [],
        "cell_id": "00088-3b8a803f-a32b-4900-8234-a636def244b8",
        "deepnote_to_be_reexecuted": true,
        "source_hash": "36ca33e7",
        "execution_millis": 0,
        "deepnote_cell_type": "code"
      },
      "source": "from sklearn.model_selection import GridSearchCV, KFold, train_test_split",
      "execution_count": null,
      "outputs": []
    },
    {
      "cell_type": "code",
      "metadata": {
        "tags": [],
        "cell_id": "00088-880e64e3-f763-42e7-9653-3c3fa0cda294",
        "deepnote_to_be_reexecuted": true,
        "source_hash": "8fd036a4",
        "execution_millis": 8235,
        "deepnote_cell_type": "code"
      },
      "source": "m = make_pipeline(\n    LogisticRegression(solver='lbfgs',max_iter=400)\n ).fit(X_train2, y_train2)\n\n # https://discuss.analyticsvidhya.com/t/what-is-the-difference-between-predict-and-predict-proba/67376\n\n\nmpreds = m.predict_proba(X_test2)\nmpreds = mpreds[:,1]\n\nns_probs = [0 for _ in range(len(y_test2))]\n\n#scores\nlr_auc = roc_auc_score(y_test2, mpreds)\nns_auc = roc_auc_score(y_test2, ns_probs)\nprint('Logistic: ROC AUC=%.3f' % (lr_auc))\nprint('No Skill: ROC AUC=%.3f' % (ns_auc))\n\n#ROC curve for null and logistic\nns_fpr, ns_tpr, _ = roc_curve(y_test2, ns_probs)\nlr_fpr, lr_tpr, _ = roc_curve(y_test2, mpreds)\n\npyplot.plot(ns_fpr, ns_tpr, linestyle='--', label='No Skill')\npyplot.plot(lr_fpr, lr_tpr, marker='.', label='Logistic')\n\npyplot.xlabel('False Positive Rate')\npyplot.ylabel('True Positive Rate')\n# show the legend\npyplot.legend()\n# show the plot\npyplot.show()",
      "execution_count": null,
      "outputs": [
        {
          "name": "stdout",
          "text": "Logistic: ROC AUC=0.819\nNo Skill: ROC AUC=0.500\n",
          "output_type": "stream"
        },
        {
          "data": {
            "text/plain": "<Figure size 640x400 with 1 Axes>",
            "image/png": "[encoded data removed]"
          },
          "metadata": {
            "needs_background": "light"
          },
          "output_type": "display_data"
        }
      ]
    },
    {
      "cell_type": "markdown",
      "source": "We can do a feature importance through something called as permutation importance. Permutation feature importance is a model inspection technique that can be used for any fitted estimator when the data is tabular. This is especially useful for non-linear or opaque estimators.\n\nThe permutation feature importance is defined to be the decrease in a model score when a single feature value is randomly shuffled 1. This procedure breaks the relationship between the feature and the target, thus the drop in the model score is indicative of how much the model depends on the feature.\n\nhttps://scikit-learn.org/stable/modules/permutation_importance.html#:~:text=The%20permutation%20feature%20importance%20is,model%20depends%20on%20the%20feature.",
      "metadata": {
        "tags": [],
        "cell_id": "00093-32b3a7ab-9752-4af1-8735-472bf09a2386",
        "deepnote_cell_type": "markdown"
      }
    },
    {
      "cell_type": "code",
      "metadata": {
        "tags": [],
        "cell_id": "00089-3e9ae9a6-1f56-46b2-90b9-50fdc8b81b0d",
        "deepnote_to_be_reexecuted": true,
        "source_hash": "d16948d4",
        "execution_millis": 41,
        "deepnote_cell_type": "code"
      },
      "source": "from sklearn.inspection import permutation_importance",
      "execution_count": null,
      "outputs": []
    },
    {
      "cell_type": "code",
      "metadata": {
        "tags": [],
        "cell_id": "00091-75931469-0995-4735-add0-808147f08d04",
        "deepnote_to_be_reexecuted": true,
        "source_hash": "e10a01c4",
        "execution_millis": 57,
        "deepnote_cell_type": "code"
      },
      "source": "Decision_tree  = DecisionTreeClassifier(\n    criterion = 'gini',\n    random_state = 29, \n    max_depth = 6\n    ).fit(X_train1,  y_train1)",
      "execution_count": null,
      "outputs": []
    },
    {
      "cell_type": "code",
      "metadata": {
        "tags": [],
        "cell_id": "00091-9419eac0-ebd6-4c2c-9b66-7accc6ee6ca5",
        "deepnote_to_be_reexecuted": true,
        "source_hash": "406f1ed8",
        "execution_millis": 3328,
        "deepnote_cell_type": "code"
      },
      "source": "# We explore on the test set, no idea if it is right or not. \nperm_test = permutation_importance(Decision_tree, X_test1, y_test1, n_repeats=30,\n                          random_state=0)\n\n\nsorted_index = perm_test.importances_mean.argsort()\n\nfig, ax = plt.subplots()\nax.barh(X_test1.columns[sorted_index], perm_test.importances[sorted_index].mean(axis=1).T)\nax.set_title(\"Permutation Importances (test set)\")\nfig.tight_layout()\nplt.show()\n\n#Idea copied from: https://stackoverflow.com/questions/62531881/why-does-the-permutation-importance-box-plot-look-strange-how-to-plot-a-horizon\n\n",
      "execution_count": null,
      "outputs": [
        {
          "data": {
            "text/plain": "<Figure size 640x400 with 1 Axes>",
            "image/png": "[encoded data removed]"
          },
          "metadata": {
            "needs_background": "light"
          },
          "output_type": "display_data"
        }
      ]
    },
    {
      "cell_type": "code",
      "metadata": {
        "tags": [],
        "cell_id": "00094-3235923d-589a-4ef0-a90c-79e7bad989a9",
        "deepnote_to_be_reexecuted": true,
        "source_hash": "41add4a0",
        "execution_millis": 7456,
        "deepnote_cell_type": "code"
      },
      "source": "perm_test = permutation_importance(Decision_tree, X_train1, y_train1, n_repeats=30,\n                          random_state=0)\n\n\nsorted_index = perm_test.importances_mean.argsort()\n\nfig, ax = plt.subplots()\nax.barh(X_train1.columns[sorted_index], perm_test.importances[sorted_index].mean(axis=1).T)\nax.set_title(\"Permutation Importances (train set)\")\nfig.tight_layout()\nplt.show()\n",
      "execution_count": null,
      "outputs": [
        {
          "data": {
            "text/plain": "<Figure size 640x400 with 1 Axes>",
            "image/png": "[encoded data removed]"
          },
          "metadata": {
            "needs_background": "light"
          },
          "output_type": "display_data"
        }
      ]
    },
    {
      "cell_type": "code",
      "metadata": {
        "tags": [],
        "cell_id": "00082-05c69fbb-5a3d-4bbe-8cf2-6c2523f97f28",
        "deepnote_to_be_reexecuted": true,
        "source_hash": "4f8b5ba8",
        "execution_millis": 375691,
        "deepnote_cell_type": "code"
      },
      "source": "#You can python, no I cant\ngrids = GridSearchCV(\n    make_pipeline( \n    LogisticRegression(solver='lbfgs',max_iter=100)\n    ),\n    param_grid={\"logisticregression__C\":np.logspace(-3,3,7),\"logisticregression__penalty\":[\"l2\", \"none\"]},\n    cv=KFold(5, shuffle=True, random_state=1234),\n    scoring=\"recall\"\n    ).fit(X_train, y_train)",
      "execution_count": null,
      "outputs": []
    },
    {
      "cell_type": "code",
      "metadata": {
        "tags": [],
        "cell_id": "00082-07dd55c5-a79a-4f0b-adb5-f9c97a00d7e2",
        "deepnote_to_be_reexecuted": true,
        "source_hash": "99cf172f",
        "execution_millis": 6,
        "deepnote_cell_type": "code"
      },
      "source": "#Model performance metric\n#from sklearn.metrics import classification_report\n#predicts =grids.predict(X_test)\n#print(\"Logistic regression model:\")\n#print(classification_report(y_test, predicts))",
      "execution_count": null,
      "outputs": []
    },
    {
      "cell_type": "code",
      "metadata": {
        "tags": [],
        "cell_id": "00070-4f301e3d-742c-4305-89fa-a47bd2e30ef3",
        "deepnote_to_be_reexecuted": true,
        "source_hash": "4509cf30",
        "execution_millis": 18,
        "deepnote_cell_type": "code"
      },
      "source": "def hyper_search(model, params, X, y,  n_iter=150, metric=\"recall\", \n                 cv = KFold(10), random_state=29, refit=True,\n                 overwrite=False, warning=False):\n  \n    if all(type(x)==list for x in params.values()):\n        search_type = \"Gridsearch\"\n        models = GridSearchCV(model, param_grid=params, scoring=metric, cv=cv, \n                                  refit=refit, return_train_score=True)\n        n_iter = len(list(itertools.product(*list(iter(params.values())))))\n    \n    else:\n        search_type = \"Randomsearch\"\n        models = RandomizedSearchCV(model, param_distributions=params,\n                                        n_iter=n_iter, scoring=metric, cv=cv,\n                                        refit=refit, random_state=random_state,\n                                        return_train_score=True)\n      \n\n    start = time()\n    if warning:\n        models.fit(X, y)\n    else:\n        with warnings.catch_warnings():\n            warnings.simplefilter(\"ignore\")\n            models.fit(X, y)  \n\n    return models",
      "execution_count": null,
      "outputs": []
    },
    {
      "cell_type": "code",
      "metadata": {
        "tags": [],
        "cell_id": "00073-a9a17187-255d-46c2-8b2b-53f3fb3952ff",
        "deepnote_to_be_reexecuted": true,
        "source_hash": "88f817d4",
        "execution_millis": 1,
        "deepnote_cell_type": "code"
      },
      "source": "#param_grid = {\"max_depth\":list(range(4,12)), \"criterion\": [\"gini\", \"entropy\"] }\n#DT_g = DecisionTreeClassifier(random_state = 29)\n#depth_gs = hyper_search(DT_g, param_grid, X_train.values, y_train)\n\n#pd.DataFrame(depth_gs.cv_results_).sort_values(\n       # \"rank_test_score\")[[\"param_max_depth\",\n        #   \"param_criterion\", \n        #   \"mean_test_score\", \n        #   \"std_test_score\"]].head()\n#Ohhhh results woahhhhhh ",
      "execution_count": null,
      "outputs": []
    },
    {
      "cell_type": "code",
      "metadata": {
        "tags": [],
        "cell_id": "00071-a1cf321e-0eb0-4bba-85bd-e29f5cf68f57",
        "deepnote_to_be_reexecuted": true,
        "source_hash": "b623e53d",
        "execution_millis": 0,
        "deepnote_cell_type": "code"
      },
      "source": "",
      "execution_count": null,
      "outputs": []
    },
    {
      "cell_type": "code",
      "metadata": {
        "tags": [],
        "cell_id": "00087-8c18bf8a-c626-4585-9f21-1ddf290b6f9b",
        "deepnote_to_be_reexecuted": true,
        "source_hash": "900ff6a1",
        "execution_millis": 57,
        "deepnote_cell_type": "code"
      },
      "source": "from sklearn.metrics import plot_confusion_matrix",
      "execution_count": null,
      "outputs": []
    },
    {
      "cell_type": "code",
      "metadata": {
        "tags": [],
        "cell_id": "00087-a6c72f14-239f-4e4a-b703-24536118672c",
        "deepnote_to_be_reexecuted": true,
        "source_hash": "33b91937",
        "execution_millis": 380,
        "deepnote_cell_type": "code"
      },
      "source": "# Plot non-normalized confusion matrix\ntitles_options = [(\"Confusion matrix, without normalization\", None),\n                  (\"Normalized confusion matrix\", 'true')]\n\nfor title, normalize in titles_options:\n    disp = plot_confusion_matrix(Decision_tree, X_test, y_test,\n                                 display_labels=[\"not_canceled\", \"canceled\"],\n                                 include_values = True,\n                                 cmap = plt.cm.Blues,\n                                 normalize=normalize)\n    disp.ax_.set_title(title)\n\n    print(title)\n    print(disp.confusion_matrix)\n\nplt.show()",
      "execution_count": null,
      "outputs": [
        {
          "output_type": "error",
          "ename": "ValueError",
          "evalue": "X has 172 features, but DecisionTreeClassifier is expecting 16 features as input.",
          "traceback": [
            "\u001b[0;31m---------------------------------------------------------------------------\u001b[0m",
            "\u001b[0;31mValueError\u001b[0m                                Traceback (most recent call last)",
            "\u001b[0;32m<ipython-input-64-51a891993f61>\u001b[0m in \u001b[0;36m<module>\u001b[0;34m\u001b[0m\n\u001b[1;32m      8\u001b[0m                                  \u001b[0minclude_values\u001b[0m \u001b[0;34m=\u001b[0m \u001b[0;32mTrue\u001b[0m\u001b[0;34m,\u001b[0m\u001b[0;34m\u001b[0m\u001b[0;34m\u001b[0m\u001b[0m\n\u001b[1;32m      9\u001b[0m                                  \u001b[0mcmap\u001b[0m \u001b[0;34m=\u001b[0m \u001b[0mplt\u001b[0m\u001b[0;34m.\u001b[0m\u001b[0mcm\u001b[0m\u001b[0;34m.\u001b[0m\u001b[0mBlues\u001b[0m\u001b[0;34m,\u001b[0m\u001b[0;34m\u001b[0m\u001b[0;34m\u001b[0m\u001b[0m\n\u001b[0;32m---> 10\u001b[0;31m                                  normalize=normalize)\n\u001b[0m\u001b[1;32m     11\u001b[0m     \u001b[0mdisp\u001b[0m\u001b[0;34m.\u001b[0m\u001b[0max_\u001b[0m\u001b[0;34m.\u001b[0m\u001b[0mset_title\u001b[0m\u001b[0;34m(\u001b[0m\u001b[0mtitle\u001b[0m\u001b[0;34m)\u001b[0m\u001b[0;34m\u001b[0m\u001b[0;34m\u001b[0m\u001b[0m\n\u001b[1;32m     12\u001b[0m \u001b[0;34m\u001b[0m\u001b[0m\n",
            "\u001b[0;32m/shared-libs/python3.7/py/lib/python3.7/site-packages/sklearn/utils/validation.py\u001b[0m in \u001b[0;36minner_f\u001b[0;34m(*args, **kwargs)\u001b[0m\n\u001b[1;32m     61\u001b[0m             \u001b[0mextra_args\u001b[0m \u001b[0;34m=\u001b[0m \u001b[0mlen\u001b[0m\u001b[0;34m(\u001b[0m\u001b[0margs\u001b[0m\u001b[0;34m)\u001b[0m \u001b[0;34m-\u001b[0m \u001b[0mlen\u001b[0m\u001b[0;34m(\u001b[0m\u001b[0mall_args\u001b[0m\u001b[0;34m)\u001b[0m\u001b[0;34m\u001b[0m\u001b[0;34m\u001b[0m\u001b[0m\n\u001b[1;32m     62\u001b[0m             \u001b[0;32mif\u001b[0m \u001b[0mextra_args\u001b[0m \u001b[0;34m<=\u001b[0m \u001b[0;36m0\u001b[0m\u001b[0;34m:\u001b[0m\u001b[0;34m\u001b[0m\u001b[0;34m\u001b[0m\u001b[0m\n\u001b[0;32m---> 63\u001b[0;31m                 \u001b[0;32mreturn\u001b[0m \u001b[0mf\u001b[0m\u001b[0;34m(\u001b[0m\u001b[0;34m*\u001b[0m\u001b[0margs\u001b[0m\u001b[0;34m,\u001b[0m \u001b[0;34m**\u001b[0m\u001b[0mkwargs\u001b[0m\u001b[0;34m)\u001b[0m\u001b[0;34m\u001b[0m\u001b[0;34m\u001b[0m\u001b[0m\n\u001b[0m\u001b[1;32m     64\u001b[0m \u001b[0;34m\u001b[0m\u001b[0m\n\u001b[1;32m     65\u001b[0m             \u001b[0;31m# extra_args > 0\u001b[0m\u001b[0;34m\u001b[0m\u001b[0;34m\u001b[0m\u001b[0;34m\u001b[0m\u001b[0m\n",
            "\u001b[0;32m/shared-libs/python3.7/py/lib/python3.7/site-packages/sklearn/metrics/_plot/confusion_matrix.py\u001b[0m in \u001b[0;36mplot_confusion_matrix\u001b[0;34m(estimator, X, y_true, labels, sample_weight, normalize, display_labels, include_values, xticks_rotation, values_format, cmap, ax, colorbar)\u001b[0m\n\u001b[1;32m    258\u001b[0m         \u001b[0;32mraise\u001b[0m \u001b[0mValueError\u001b[0m\u001b[0;34m(\u001b[0m\u001b[0;34m\"plot_confusion_matrix only supports classifiers\"\u001b[0m\u001b[0;34m)\u001b[0m\u001b[0;34m\u001b[0m\u001b[0;34m\u001b[0m\u001b[0m\n\u001b[1;32m    259\u001b[0m \u001b[0;34m\u001b[0m\u001b[0m\n\u001b[0;32m--> 260\u001b[0;31m     \u001b[0my_pred\u001b[0m \u001b[0;34m=\u001b[0m \u001b[0mestimator\u001b[0m\u001b[0;34m.\u001b[0m\u001b[0mpredict\u001b[0m\u001b[0;34m(\u001b[0m\u001b[0mX\u001b[0m\u001b[0;34m)\u001b[0m\u001b[0;34m\u001b[0m\u001b[0;34m\u001b[0m\u001b[0m\n\u001b[0m\u001b[1;32m    261\u001b[0m     cm = confusion_matrix(y_true, y_pred, sample_weight=sample_weight,\n\u001b[1;32m    262\u001b[0m                           labels=labels, normalize=normalize)\n",
            "\u001b[0;32m/shared-libs/python3.7/py/lib/python3.7/site-packages/sklearn/tree/_classes.py\u001b[0m in \u001b[0;36mpredict\u001b[0;34m(self, X, check_input)\u001b[0m\n\u001b[1;32m    435\u001b[0m         \"\"\"\n\u001b[1;32m    436\u001b[0m         \u001b[0mcheck_is_fitted\u001b[0m\u001b[0;34m(\u001b[0m\u001b[0mself\u001b[0m\u001b[0;34m)\u001b[0m\u001b[0;34m\u001b[0m\u001b[0;34m\u001b[0m\u001b[0m\n\u001b[0;32m--> 437\u001b[0;31m         \u001b[0mX\u001b[0m \u001b[0;34m=\u001b[0m \u001b[0mself\u001b[0m\u001b[0;34m.\u001b[0m\u001b[0m_validate_X_predict\u001b[0m\u001b[0;34m(\u001b[0m\u001b[0mX\u001b[0m\u001b[0;34m,\u001b[0m \u001b[0mcheck_input\u001b[0m\u001b[0;34m)\u001b[0m\u001b[0;34m\u001b[0m\u001b[0;34m\u001b[0m\u001b[0m\n\u001b[0m\u001b[1;32m    438\u001b[0m         \u001b[0mproba\u001b[0m \u001b[0;34m=\u001b[0m \u001b[0mself\u001b[0m\u001b[0;34m.\u001b[0m\u001b[0mtree_\u001b[0m\u001b[0;34m.\u001b[0m\u001b[0mpredict\u001b[0m\u001b[0;34m(\u001b[0m\u001b[0mX\u001b[0m\u001b[0;34m)\u001b[0m\u001b[0;34m\u001b[0m\u001b[0;34m\u001b[0m\u001b[0m\n\u001b[1;32m    439\u001b[0m         \u001b[0mn_samples\u001b[0m \u001b[0;34m=\u001b[0m \u001b[0mX\u001b[0m\u001b[0;34m.\u001b[0m\u001b[0mshape\u001b[0m\u001b[0;34m[\u001b[0m\u001b[0;36m0\u001b[0m\u001b[0;34m]\u001b[0m\u001b[0;34m\u001b[0m\u001b[0;34m\u001b[0m\u001b[0m\n",
            "\u001b[0;32m/shared-libs/python3.7/py/lib/python3.7/site-packages/sklearn/tree/_classes.py\u001b[0m in \u001b[0;36m_validate_X_predict\u001b[0;34m(self, X, check_input)\u001b[0m\n\u001b[1;32m    401\u001b[0m         \u001b[0;32mif\u001b[0m \u001b[0mcheck_input\u001b[0m\u001b[0;34m:\u001b[0m\u001b[0;34m\u001b[0m\u001b[0;34m\u001b[0m\u001b[0m\n\u001b[1;32m    402\u001b[0m             X = self._validate_data(X, dtype=DTYPE, accept_sparse=\"csr\",\n\u001b[0;32m--> 403\u001b[0;31m                                     reset=False)\n\u001b[0m\u001b[1;32m    404\u001b[0m             if issparse(X) and (X.indices.dtype != np.intc or\n\u001b[1;32m    405\u001b[0m                                 X.indptr.dtype != np.intc):\n",
            "\u001b[0;32m/shared-libs/python3.7/py/lib/python3.7/site-packages/sklearn/base.py\u001b[0m in \u001b[0;36m_validate_data\u001b[0;34m(self, X, y, reset, validate_separately, **check_params)\u001b[0m\n\u001b[1;32m    435\u001b[0m \u001b[0;34m\u001b[0m\u001b[0m\n\u001b[1;32m    436\u001b[0m         \u001b[0;32mif\u001b[0m \u001b[0mcheck_params\u001b[0m\u001b[0;34m.\u001b[0m\u001b[0mget\u001b[0m\u001b[0;34m(\u001b[0m\u001b[0;34m'ensure_2d'\u001b[0m\u001b[0;34m,\u001b[0m \u001b[0;32mTrue\u001b[0m\u001b[0;34m)\u001b[0m\u001b[0;34m:\u001b[0m\u001b[0;34m\u001b[0m\u001b[0;34m\u001b[0m\u001b[0m\n\u001b[0;32m--> 437\u001b[0;31m             \u001b[0mself\u001b[0m\u001b[0;34m.\u001b[0m\u001b[0m_check_n_features\u001b[0m\u001b[0;34m(\u001b[0m\u001b[0mX\u001b[0m\u001b[0;34m,\u001b[0m \u001b[0mreset\u001b[0m\u001b[0;34m=\u001b[0m\u001b[0mreset\u001b[0m\u001b[0;34m)\u001b[0m\u001b[0;34m\u001b[0m\u001b[0;34m\u001b[0m\u001b[0m\n\u001b[0m\u001b[1;32m    438\u001b[0m \u001b[0;34m\u001b[0m\u001b[0m\n\u001b[1;32m    439\u001b[0m         \u001b[0;32mreturn\u001b[0m \u001b[0mout\u001b[0m\u001b[0;34m\u001b[0m\u001b[0;34m\u001b[0m\u001b[0m\n",
            "\u001b[0;32m/shared-libs/python3.7/py/lib/python3.7/site-packages/sklearn/base.py\u001b[0m in \u001b[0;36m_check_n_features\u001b[0;34m(self, X, reset)\u001b[0m\n\u001b[1;32m    364\u001b[0m         \u001b[0;32mif\u001b[0m \u001b[0mn_features\u001b[0m \u001b[0;34m!=\u001b[0m \u001b[0mself\u001b[0m\u001b[0;34m.\u001b[0m\u001b[0mn_features_in_\u001b[0m\u001b[0;34m:\u001b[0m\u001b[0;34m\u001b[0m\u001b[0;34m\u001b[0m\u001b[0m\n\u001b[1;32m    365\u001b[0m             raise ValueError(\n\u001b[0;32m--> 366\u001b[0;31m                 \u001b[0;34mf\"X has {n_features} features, but {self.__class__.__name__} \"\u001b[0m\u001b[0;34m\u001b[0m\u001b[0;34m\u001b[0m\u001b[0m\n\u001b[0m\u001b[1;32m    367\u001b[0m                 f\"is expecting {self.n_features_in_} features as input.\")\n\u001b[1;32m    368\u001b[0m \u001b[0;34m\u001b[0m\u001b[0m\n",
            "\u001b[0;31mValueError\u001b[0m: X has 172 features, but DecisionTreeClassifier is expecting 16 features as input."
          ]
        }
      ]
    },
    {
      "cell_type": "code",
      "metadata": {
        "tags": [],
        "cell_id": "00089-e27a406a-4662-44b2-bb31-1f9ee598c576",
        "deepnote_to_be_reexecuted": true,
        "source_hash": "8926f204",
        "execution_millis": 100,
        "deepnote_cell_type": "code"
      },
      "source": "from sklearn.svm import SVC\nfrom sklearn import svm, datasets",
      "execution_count": null,
      "outputs": []
    },
    {
      "cell_type": "code",
      "metadata": {
        "tags": [],
        "cell_id": "00091-f40d24ba-ce9a-433c-acb8-76fc0784d90e",
        "deepnote_to_be_reexecuted": true,
        "source_hash": "5333bbb6",
        "execution_millis": 6,
        "deepnote_cell_type": "code"
      },
      "source": "#sns.heatmap(confusion_matrix(y_test, y_predict), annot = True)",
      "execution_count": null,
      "outputs": []
    },
    {
      "cell_type": "code",
      "metadata": {
        "tags": [],
        "cell_id": "00093-c0206eb3-d7b7-47fa-b7e3-344be6d9c8dd",
        "deepnote_to_be_reexecuted": true,
        "source_hash": "b5728760",
        "execution_millis": 13,
        "deepnote_cell_type": "code"
      },
      "source": "classes = X_test.unique()\nn_classes = len(X_test).unique())",
      "execution_count": null,
      "outputs": [
        {
          "output_type": "error",
          "ename": "SyntaxError",
          "evalue": "invalid syntax (<ipython-input-61-26885a33e993>, line 2)",
          "traceback": [
            "\u001b[0;36m  File \u001b[0;32m\"<ipython-input-61-26885a33e993>\"\u001b[0;36m, line \u001b[0;32m2\u001b[0m\n\u001b[0;31m    n_classes = len(X_test).unique())\u001b[0m\n\u001b[0m                                    ^\u001b[0m\n\u001b[0;31mSyntaxError\u001b[0m\u001b[0;31m:\u001b[0m invalid syntax\n"
          ]
        }
      ]
    },
    {
      "cell_type": "code",
      "metadata": {
        "tags": [],
        "cell_id": "00092-e73647ac-7e92-4809-b57e-7edb9cbb9988",
        "deepnote_to_be_reexecuted": true,
        "source_hash": "16909fbb",
        "execution_millis": 0,
        "deepnote_cell_type": "code"
      },
      "source": "def ovr_roc_plot(y_true, y_pred):\n    \"\"\" \n    \n    Draw ROC curves using one-vs-rest approach\n\n    \"\"\"\n    \n    classes = y_true.unique()\n    n_classes = len(y_true.unique())\n    \n    # Convert from n x 1 categorical matrix to n x k binary matrix\n   # y_true = pd.get_dummies(y_true).to_numpy()\n    \n    #y_pred = y_pred.to_numpy()\n    \n    # Sanity Check\n    if y_true.shape[1] != y_pred.shape[1]:\n        raise ValueError(\"Truth and prediction dimensions do not match.\")\n    \n    # Compute ROC curve and ROC area for each class\n    rocs = dict() \n    aucs = dict() \n    for name, i in zip(classes, range(n_classes)):\n        aucs[i] = pd.DataFrame({ \n            'precinct': [name],\n            'auc': [sklearn.metrics.roc_auc_score(y_true[:, i], y_pred[:, i])]\n        })\n        \n        rocs[i] = pd.DataFrame(\n            data = np.c_[sklearn.metrics.roc_curve(y_true[:, i], y_pred[:, i])],\n            columns = ('fpr', 'tpr', 'threshold')\n        ).assign(\n            is_canceled = name\n        )\n\n    # Bind rows to create a single data frame for each\n    roc = pd.concat(rocs, ignore_index=True)\n    auc = pd.concat(aucs, ignore_index=True)\n    \n    # Create plot\n    fig = plt.figure(figsize=(8, 8))\n    sns.lineplot(x='fpr', y='tpr', hue='is_canceled', data=roc, ci=None)\n\n    plt.plot([0,1],[0,1], 'k--', alpha=0.5) # 0-1 line \n    plt.title(\"ROC (one-vs-rest) curves\")\n         \n    L = plt.legend()\n    for precinct, auc_val, i in zip(auc.precinct, auc.auc, range(n_classes)):\n        L.get_texts()[i].set_text(\"{} (auc {:.3f})\".format(precinct, auc_val))\n        \n    plt.show()\n    \n    # Return the AUCs as a Data Frame\n    return(auc)",
      "execution_count": null,
      "outputs": []
    },
    {
      "cell_type": "code",
      "metadata": {
        "tags": [],
        "cell_id": "00093-b720bc58-e920-420a-b51d-fefcec8f49ee",
        "deepnote_to_be_reexecuted": true,
        "source_hash": "9cd47083",
        "execution_millis": 22,
        "deepnote_cell_type": "code"
      },
      "source": "y_train.shape",
      "execution_count": null,
      "outputs": [
        {
          "output_type": "execute_result",
          "execution_count": 66,
          "data": {
            "text/plain": "(66336,)"
          },
          "metadata": {}
        }
      ]
    },
    {
      "cell_type": "code",
      "metadata": {
        "tags": [],
        "cell_id": "00094-fc5669c7-bc31-4bb0-bda8-ceca90345330",
        "deepnote_to_be_reexecuted": true,
        "source_hash": "953a8cdc",
        "execution_millis": 17,
        "deepnote_cell_type": "code"
      },
      "source": "y_test.shape",
      "execution_count": null,
      "outputs": [
        {
          "output_type": "execute_result",
          "execution_count": 67,
          "data": {
            "text/plain": "(22112,)"
          },
          "metadata": {}
        }
      ]
    },
    {
      "cell_type": "code",
      "metadata": {
        "tags": [],
        "cell_id": "00093-7205d587-d91f-4f2c-a9b9-39c23313ca25",
        "deepnote_to_be_reexecuted": true,
        "source_hash": "a55ad79f",
        "execution_millis": 34,
        "deepnote_cell_type": "code"
      },
      "source": "ovr_roc_plot(X_test, y_test)\n\n",
      "execution_count": null,
      "outputs": [
        {
          "output_type": "error",
          "ename": "AttributeError",
          "evalue": "'DataFrame' object has no attribute 'unique'",
          "traceback": [
            "\u001b[0;31m---------------------------------------------------------------------------\u001b[0m",
            "\u001b[0;31mAttributeError\u001b[0m                            Traceback (most recent call last)",
            "\u001b[0;32m<ipython-input-68-57ee6665dfb3>\u001b[0m in \u001b[0;36m<module>\u001b[0;34m\u001b[0m\n\u001b[0;32m----> 1\u001b[0;31m \u001b[0movr_roc_plot\u001b[0m\u001b[0;34m(\u001b[0m\u001b[0mX_test\u001b[0m\u001b[0;34m,\u001b[0m \u001b[0my_test\u001b[0m\u001b[0;34m)\u001b[0m\u001b[0;34m\u001b[0m\u001b[0;34m\u001b[0m\u001b[0m\n\u001b[0m\u001b[1;32m      2\u001b[0m \u001b[0;34m\u001b[0m\u001b[0m\n",
            "\u001b[0;32m<ipython-input-63-46d14a9dbdef>\u001b[0m in \u001b[0;36movr_roc_plot\u001b[0;34m(y_true, y_pred)\u001b[0m\n\u001b[1;32m      6\u001b[0m     \"\"\"\n\u001b[1;32m      7\u001b[0m \u001b[0;34m\u001b[0m\u001b[0m\n\u001b[0;32m----> 8\u001b[0;31m     \u001b[0mclasses\u001b[0m \u001b[0;34m=\u001b[0m \u001b[0my_true\u001b[0m\u001b[0;34m.\u001b[0m\u001b[0munique\u001b[0m\u001b[0;34m(\u001b[0m\u001b[0;34m)\u001b[0m\u001b[0;34m\u001b[0m\u001b[0;34m\u001b[0m\u001b[0m\n\u001b[0m\u001b[1;32m      9\u001b[0m     \u001b[0mn_classes\u001b[0m \u001b[0;34m=\u001b[0m \u001b[0mlen\u001b[0m\u001b[0;34m(\u001b[0m\u001b[0my_true\u001b[0m\u001b[0;34m.\u001b[0m\u001b[0munique\u001b[0m\u001b[0;34m(\u001b[0m\u001b[0;34m)\u001b[0m\u001b[0;34m)\u001b[0m\u001b[0;34m\u001b[0m\u001b[0;34m\u001b[0m\u001b[0m\n\u001b[1;32m     10\u001b[0m \u001b[0;34m\u001b[0m\u001b[0m\n",
            "\u001b[0;32m/usr/local/lib/python3.7/site-packages/pandas/core/generic.py\u001b[0m in \u001b[0;36m__getattr__\u001b[0;34m(self, name)\u001b[0m\n\u001b[1;32m   5460\u001b[0m             \u001b[0;32mif\u001b[0m \u001b[0mself\u001b[0m\u001b[0;34m.\u001b[0m\u001b[0m_info_axis\u001b[0m\u001b[0;34m.\u001b[0m\u001b[0m_can_hold_identifiers_and_holds_name\u001b[0m\u001b[0;34m(\u001b[0m\u001b[0mname\u001b[0m\u001b[0;34m)\u001b[0m\u001b[0;34m:\u001b[0m\u001b[0;34m\u001b[0m\u001b[0;34m\u001b[0m\u001b[0m\n\u001b[1;32m   5461\u001b[0m                 \u001b[0;32mreturn\u001b[0m \u001b[0mself\u001b[0m\u001b[0;34m[\u001b[0m\u001b[0mname\u001b[0m\u001b[0;34m]\u001b[0m\u001b[0;34m\u001b[0m\u001b[0;34m\u001b[0m\u001b[0m\n\u001b[0;32m-> 5462\u001b[0;31m             \u001b[0;32mreturn\u001b[0m \u001b[0mobject\u001b[0m\u001b[0;34m.\u001b[0m\u001b[0m__getattribute__\u001b[0m\u001b[0;34m(\u001b[0m\u001b[0mself\u001b[0m\u001b[0;34m,\u001b[0m \u001b[0mname\u001b[0m\u001b[0;34m)\u001b[0m\u001b[0;34m\u001b[0m\u001b[0;34m\u001b[0m\u001b[0m\n\u001b[0m\u001b[1;32m   5463\u001b[0m \u001b[0;34m\u001b[0m\u001b[0m\n\u001b[1;32m   5464\u001b[0m     \u001b[0;32mdef\u001b[0m \u001b[0m__setattr__\u001b[0m\u001b[0;34m(\u001b[0m\u001b[0mself\u001b[0m\u001b[0;34m,\u001b[0m \u001b[0mname\u001b[0m\u001b[0;34m:\u001b[0m \u001b[0mstr\u001b[0m\u001b[0;34m,\u001b[0m \u001b[0mvalue\u001b[0m\u001b[0;34m)\u001b[0m \u001b[0;34m->\u001b[0m \u001b[0;32mNone\u001b[0m\u001b[0;34m:\u001b[0m\u001b[0;34m\u001b[0m\u001b[0;34m\u001b[0m\u001b[0m\n",
            "\u001b[0;31mAttributeError\u001b[0m: 'DataFrame' object has no attribute 'unique'"
          ]
        }
      ]
    },
    {
      "cell_type": "markdown",
      "source": "## 5. Discussion & Conclusions\n",
      "metadata": {
        "cell_id": "00011-1948fa1a-2814-4abd-b480-8bd4a69560a9",
        "deepnote_cell_type": "markdown"
      }
    },
    {
      "cell_type": "markdown",
      "source": "*In this section you should provide a general overview of your final model, its performance, and reliability. You should discuss what the implications of your model are in terms of the included features, predictive performance, and anything else you think is relevant.*\n\n*This should be written with a target audience of the client who is with the hotel data and university level mathematics but not necessarily someone who has taken a postgraduate statistical modeling course. Your goal should be to convince this audience that your model is both accurate and useful.*\n\n*Keep in mind that a negative result, i.e. a model that does not work well predictively, that is well explained and justified in terms of why it failed will likely receive higher marks than a model with strong predictive performance but with poor or incorrect explinations / justifications.*",
      "metadata": {
        "cell_id": "00012-ead339de-4226-4984-a089-26f60dddd934",
        "deepnote_cell_type": "markdown"
      }
    },
    {
      "cell_type": "markdown",
      "source": "## References and Hints: \n1)Hotel booking demand datasets:  https://www.sciencedirect.com/science/article/pii/S2352340918315191?via%3Dihub <br>\n2)Sorting a pandas data frame by month:  https://stackoverflow.com/questions/48042915/sort-a-pandass-dataframe-series-by-month-name <br>\n3) ",
      "metadata": {
        "tags": [],
        "cell_id": "00069-ed60c1b0-5d77-43ca-a198-8af74c9b30e4",
        "deepnote_cell_type": "markdown"
      }
    },
    {
      "cell_type": "markdown",
      "source": "",
      "metadata": {
        "tags": [],
        "cell_id": "00071-931a04bd-1422-4dfc-955d-07a1707e9f80",
        "deepnote_cell_type": "text-cell-p"
      }
    },
    {
      "cell_type": "markdown",
      "source": "",
      "metadata": {
        "tags": [],
        "cell_id": "00074-d61b0186-f4e4-45aa-a2df-96011433c488",
        "deepnote_cell_type": "text-cell-p"
      }
    },
    {
      "cell_type": "markdown",
      "source": "## Convert Document",
      "metadata": {
        "cell_id": "00013-e873c336-c9c9-4fd8-bd71-40903da1c34f",
        "deepnote_cell_type": "markdown"
      }
    },
    {
      "cell_type": "code",
      "metadata": {
        "cell_id": "00014-7a2980e4-fc7d-4405-aaa8-ff8df7379d76",
        "deepnote_to_be_reexecuted": true,
        "source_hash": "22edf960",
        "execution_millis": 6423,
        "deepnote_cell_type": "code"
      },
      "source": "# Run the following to render to PDF\n!jupyter nbconvert --to pdf proj2.ipynb",
      "execution_count": null,
      "outputs": [
        {
          "name": "stdout",
          "text": "[NbConvertApp] Converting notebook proj2.ipynb to pdf\n[NbConvertApp] Support files will be in proj2_files/\n[NbConvertApp] Making directory ./proj2_files\n[NbConvertApp] Making directory ./proj2_files\n[NbConvertApp] Making directory ./proj2_files\n[NbConvertApp] Making directory ./proj2_files\n[NbConvertApp] Making directory ./proj2_files\n[NbConvertApp] Making directory ./proj2_files\n[NbConvertApp] Making directory ./proj2_files\n[NbConvertApp] Making directory ./proj2_files\n[NbConvertApp] Making directory ./proj2_files\n[NbConvertApp] Making directory ./proj2_files\n[NbConvertApp] Making directory ./proj2_files\n[NbConvertApp] Making directory ./proj2_files\n[NbConvertApp] Making directory ./proj2_files\n[NbConvertApp] Making directory ./proj2_files\n[NbConvertApp] Making directory ./proj2_files\n[NbConvertApp] Making directory ./proj2_files\n[NbConvertApp] Making directory ./proj2_files\n[NbConvertApp] Making directory ./proj2_files\n[NbConvertApp] Making directory ./proj2_files\n[NbConvertApp] Writing 185759 bytes to notebook.tex\n[NbConvertApp] Building PDF\n[NbConvertApp] Running xelatex 3 times: ['xelatex', 'notebook.tex', '-quiet']\n[NbConvertApp] CRITICAL | xelatex failed: ['xelatex', 'notebook.tex', '-quiet']\nThis is XeTeX, Version 3.14159265-2.6-0.99999 (TeX Live 2019/dev/Debian) (preloaded format=xelatex)\n restricted \\write18 enabled.\nentering extended mode\n(./notebook.tex\nLaTeX2e <2018-12-01>\n(/usr/share/texlive/texmf-dist/tex/latex/base/article.cls\nDocument Class: article 2018/09/03 v1.4i Standard LaTeX document class\n(/usr/share/texlive/texmf-dist/tex/latex/base/size11.clo))\n(/usr/share/texlive/texmf-dist/tex/latex/tcolorbox/tcolorbox.sty\n(/usr/share/texlive/texmf-dist/tex/latex/pgf/basiclayer/pgf.sty\n(/usr/share/texlive/texmf-dist/tex/latex/pgf/utilities/pgfrcs.sty\n(/usr/share/texlive/texmf-dist/tex/generic/pgf/utilities/pgfutil-common.tex\n(/usr/share/texlive/texmf-dist/tex/generic/pgf/utilities/pgfutil-common-lists.t\nex)) (/usr/share/texlive/texmf-dist/tex/generic/pgf/utilities/pgfutil-latex.def\n(/usr/share/texlive/texmf-dist/tex/latex/ms/everyshi.sty))\n(/usr/share/texlive/texmf-dist/tex/generic/pgf/utilities/pgfrcs.code.tex\n(/usr/share/texlive/texmf-dist/tex/generic/pgf/pgf.revision.tex)))\n(/usr/share/texlive/texmf-dist/tex/latex/pgf/basiclayer/pgfcore.sty\n(/usr/share/texlive/texmf-dist/tex/latex/graphics/graphicx.sty\n(/usr/share/texlive/texmf-dist/tex/latex/graphics/keyval.sty)\n(/usr/share/texlive/texmf-dist/tex/latex/graphics/graphics.sty\n(/usr/share/texlive/texmf-dist/tex/latex/graphics/trig.sty)\n(/usr/share/texlive/texmf-dist/tex/latex/graphics-cfg/graphics.cfg)\n(/usr/share/texlive/texmf-dist/tex/latex/graphics-def/xetex.def)))\n(/usr/share/texlive/texmf-dist/tex/latex/pgf/systemlayer/pgfsys.sty\n(/usr/share/texlive/texmf-dist/tex/generic/pgf/systemlayer/pgfsys.code.tex\n(/usr/share/texlive/texmf-dist/tex/generic/pgf/utilities/pgfkeys.code.tex\n(/usr/share/texlive/texmf-dist/tex/generic/pgf/utilities/pgfkeysfiltered.code.t\nex)) (/usr/share/texlive/texmf-dist/tex/generic/pgf/systemlayer/pgf.cfg)\n(/usr/share/texlive/texmf-dist/tex/generic/pgf/systemlayer/pgfsys-xetex.def\n(/usr/share/texlive/texmf-dist/tex/generic/pgf/systemlayer/pgfsys-dvipdfmx.def\n(/usr/share/texlive/texmf-dist/tex/generic/pgf/systemlayer/pgfsys-common-pdf.de\nf))))\n(/usr/share/texlive/texmf-dist/tex/generic/pgf/systemlayer/pgfsyssoftpath.code.\ntex)\n(/usr/share/texlive/texmf-dist/tex/generic/pgf/systemlayer/pgfsysprotocol.code.\ntex)) (/usr/share/texlive/texmf-dist/tex/latex/xcolor/xcolor.sty\n(/usr/share/texlive/texmf-dist/tex/latex/graphics-cfg/color.cfg))\n(/usr/share/texlive/texmf-dist/tex/generic/pgf/basiclayer/pgfcore.code.tex\n(/usr/share/texlive/texmf-dist/tex/generic/pgf/math/pgfmath.code.tex\n(/usr/share/texlive/texmf-dist/tex/generic/pgf/math/pgfmathcalc.code.tex\n(/usr/share/texlive/texmf-dist/tex/generic/pgf/math/pgfmathutil.code.tex)\n(/usr/share/texlive/texmf-dist/tex/generic/pgf/math/pgfmathparser.code.tex)\n(/usr/share/texlive/texmf-dist/tex/generic/pgf/math/pgfmathfunctions.code.tex\n(/usr/share/texlive/texmf-dist/tex/generic/pgf/math/pgfmathfunctions.basic.code\n.tex)\n(/usr/share/texlive/texmf-dist/tex/generic/pgf/math/pgfmathfunctions.trigonomet\nric.code.tex)\n(/usr/share/texlive/texmf-dist/tex/generic/pgf/math/pgfmathfunctions.random.cod\ne.tex)\n(/usr/share/texlive/texmf-dist/tex/generic/pgf/math/pgfmathfunctions.comparison\n.code.tex)\n(/usr/share/texlive/texmf-dist/tex/generic/pgf/math/pgfmathfunctions.base.code.\ntex)\n(/usr/share/texlive/texmf-dist/tex/generic/pgf/math/pgfmathfunctions.round.code\n.tex)\n(/usr/share/texlive/texmf-dist/tex/generic/pgf/math/pgfmathfunctions.misc.code.\ntex)\n(/usr/share/texlive/texmf-dist/tex/generic/pgf/math/pgfmathfunctions.integerari\nthmetics.code.tex)))\n(/usr/share/texlive/texmf-dist/tex/generic/pgf/math/pgfmathfloat.code.tex))\n(/usr/share/texlive/texmf-dist/tex/generic/pgf/basiclayer/pgfcorepoints.code.te\nx)\n(/usr/share/texlive/texmf-dist/tex/generic/pgf/basiclayer/pgfcorepathconstruct.\ncode.tex)\n(/usr/share/texlive/texmf-dist/tex/generic/pgf/basiclayer/pgfcorepathusage.code\n.tex)\n(/usr/share/texlive/texmf-dist/tex/generic/pgf/basiclayer/pgfcorescopes.code.te\nx)\n(/usr/share/texlive/texmf-dist/tex/generic/pgf/basiclayer/pgfcoregraphicstate.c\node.tex)\n(/usr/share/texlive/texmf-dist/tex/generic/pgf/basiclayer/pgfcoretransformation\ns.code.tex)\n(/usr/share/texlive/texmf-dist/tex/generic/pgf/basiclayer/pgfcorequick.code.tex\n)\n(/usr/share/texlive/texmf-dist/tex/generic/pgf/basiclayer/pgfcoreobjects.code.t\nex)\n(/usr/share/texlive/texmf-dist/tex/generic/pgf/basiclayer/pgfcorepathprocessing\n.code.tex)\n(/usr/share/texlive/texmf-dist/tex/generic/pgf/basiclayer/pgfcorearrows.code.te\nx)\n(/usr/share/texlive/texmf-dist/tex/generic/pgf/basiclayer/pgfcoreshade.code.tex\n)\n(/usr/share/texlive/texmf-dist/tex/generic/pgf/basiclayer/pgfcoreimage.code.tex\n\n(/usr/share/texlive/texmf-dist/tex/generic/pgf/basiclayer/pgfcoreexternal.code.\ntex))\n(/usr/share/texlive/texmf-dist/tex/generic/pgf/basiclayer/pgfcorelayers.code.te\nx)\n(/usr/share/texlive/texmf-dist/tex/generic/pgf/basiclayer/pgfcoretransparency.c\node.tex)\n(/usr/share/texlive/texmf-dist/tex/generic/pgf/basiclayer/pgfcorepatterns.code.\ntex)\n(/usr/share/texlive/texmf-dist/tex/generic/pgf/basiclayer/pgfcorerdf.code.tex))\n)\n(/usr/share/texlive/texmf-dist/tex/generic/pgf/modules/pgfmoduleshapes.code.tex\n) (/usr/share/texlive/texmf-dist/tex/generic/pgf/modules/pgfmoduleplot.code.tex\n)\n(/usr/share/texlive/texmf-dist/tex/latex/pgf/compatibility/pgfcomp-version-0-65\n.sty)\n(/usr/share/texlive/texmf-dist/tex/latex/pgf/compatibility/pgfcomp-version-1-18\n.sty)) (/usr/share/texlive/texmf-dist/tex/latex/tools/verbatim.sty)\n(/usr/share/texlive/texmf-dist/tex/latex/environ/environ.sty\n(/usr/share/texlive/texmf-dist/tex/latex/trimspaces/trimspaces.sty))\n(/usr/share/texlive/texmf-dist/tex/latex/etoolbox/etoolbox.sty)\n(/usr/share/texlive/texmf-dist/tex/latex/tcolorbox/tcbbreakable.code.tex\nLibrary (tcolorbox): 'tcbbreakable.code.tex' version '4.15'\n)) (/usr/share/texlive/texmf-dist/tex/latex/parskip/parskip.sty\n(/usr/share/texlive/texmf-dist/tex/latex/oberdiek/kvoptions.sty\n(/usr/share/texlive/texmf-dist/tex/generic/oberdiek/ltxcmds.sty)\n(/usr/share/texlive/texmf-dist/tex/generic/oberdiek/kvsetkeys.sty\n(/usr/share/texlive/texmf-dist/tex/generic/oberdiek/infwarerr.sty)\n(/usr/share/texlive/texmf-dist/tex/generic/oberdiek/etexcmds.sty\n(/usr/share/texlive/texmf-dist/tex/generic/oberdiek/ifluatex.sty)))))\n(/usr/share/texlive/texmf-dist/tex/generic/iftex/iftex.sty)\n(/usr/share/texlive/texmf-dist/tex/latex/fontspec/fontspec.sty\n(/usr/share/texlive/texmf-dist/tex/latex/l3packages/xparse/xparse.sty\n(/usr/share/texlive/texmf-dist/tex/latex/l3kernel/expl3.sty\n(/usr/share/texlive/texmf-dist/tex/latex/l3kernel/expl3-code.tex)\n(/usr/share/texlive/texmf-dist/tex/latex/l3kernel/l3xdvipdfmx.def)))\n(/usr/share/texlive/texmf-dist/tex/latex/fontspec/fontspec-xetex.sty\n(/usr/share/texlive/texmf-dist/tex/latex/base/fontenc.sty\n(/usr/share/texlive/texmf-dist/tex/latex/base/tuenc.def))\n(/usr/share/texlive/texmf-dist/tex/latex/fontspec/fontspec.cfg)))\n(/usr/share/texlive/texmf-dist/tex/latex/caption/caption.sty\n(/usr/share/texlive/texmf-dist/tex/latex/caption/caption3.sty))\n(/usr/share/texlive/texmf-dist/tex/latex/float/float.sty)\n(/usr/share/texlive/texmf-dist/tex/latex/tools/enumerate.sty)\n(/usr/share/texlive/texmf-dist/tex/latex/geometry/geometry.sty\n(/usr/share/texlive/texmf-dist/tex/generic/oberdiek/ifpdf.sty)\n(/usr/share/texlive/texmf-dist/tex/generic/oberdiek/ifvtex.sty)\n(/usr/share/texlive/texmf-dist/tex/generic/ifxetex/ifxetex.sty))\n(/usr/share/texlive/texmf-dist/tex/latex/amsmath/amsmath.sty\nFor additional information on amsmath, use the `?' option.\n(/usr/share/texlive/texmf-dist/tex/latex/amsmath/amstext.sty\n(/usr/share/texlive/texmf-dist/tex/latex/amsmath/amsgen.sty))\n(/usr/share/texlive/texmf-dist/tex/latex/amsmath/amsbsy.sty)\n(/usr/share/texlive/texmf-dist/tex/latex/amsmath/amsopn.sty))\n(/usr/share/texlive/texmf-dist/tex/latex/amsfonts/amssymb.sty\n(/usr/share/texlive/texmf-dist/tex/latex/amsfonts/amsfonts.sty))\n(/usr/share/texlive/texmf-dist/tex/latex/base/textcomp.sty\n(/usr/share/texlive/texmf-dist/tex/latex/base/ts1enc.def))\n(/usr/share/texlive/texmf-dist/tex/latex/upquote/upquote.sty)\n(/usr/share/texlive/texmf-dist/tex/latex/eurosym/eurosym.sty)\n(/usr/share/texlive/texmf-dist/tex/latex/ucs/ucs.sty\n(/usr/share/texlive/texmf-dist/tex/latex/ucs/data/uni-global.def))\n(/usr/share/texlive/texmf-dist/tex/latex/fancyvrb/fancyvrb.sty\nStyle option: `fancyvrb' v3.2a <2019/01/15> (tvz))\n(/usr/share/texlive/texmf-dist/tex/latex/oberdiek/grffile.sty\n(/usr/share/texlive/texmf-dist/tex/generic/oberdiek/pdftexcmds.sty))\n(/usr/share/texlive/texmf-dist/tex/latex/adjustbox/adjustbox.sty\n(/usr/share/texlive/texmf-dist/tex/latex/xkeyval/xkeyval.sty\n(/usr/share/texlive/texmf-dist/tex/generic/xkeyval/xkeyval.tex\n(/usr/share/texlive/texmf-dist/tex/generic/xkeyval/xkvutils.tex)))\n(/usr/share/texlive/texmf-dist/tex/latex/adjustbox/adjcalc.sty)\n(/usr/share/texlive/texmf-dist/tex/latex/adjustbox/trimclip.sty\n(/usr/share/texlive/texmf-dist/tex/latex/collectbox/collectbox.sty)\n(/usr/share/texlive/texmf-dist/tex/latex/adjustbox/tc-xetex.def))\n(/usr/share/texlive/texmf-dist/tex/latex/ifoddpage/ifoddpage.sty)\n(/usr/share/texlive/texmf-dist/tex/latex/varwidth/varwidth.sty))\n(/usr/share/texlive/texmf-dist/tex/latex/hyperref/hyperref.sty\n(/usr/share/texlive/texmf-dist/tex/generic/oberdiek/hobsub-hyperref.sty\n(/usr/share/texlive/texmf-dist/tex/generic/oberdiek/hobsub-generic.sty))\n(/usr/share/texlive/texmf-dist/tex/latex/oberdiek/auxhook.sty)\n(/usr/share/texlive/texmf-dist/tex/latex/hyperref/pd1enc.def)\n(/usr/share/texlive/texmf-dist/tex/latex/latexconfig/hyperref.cfg)\n(/usr/share/texlive/texmf-dist/tex/latex/url/url.sty))\n(/usr/share/texlive/texmf-dist/tex/latex/hyperref/hxetex.def\n(/usr/share/texlive/texmf-dist/tex/latex/hyperref/puenc.def)\n(/usr/share/texlive/texmf-dist/tex/generic/oberdiek/stringenc.sty)\n(/usr/share/texlive/texmf-dist/tex/latex/oberdiek/rerunfilecheck.sty))\n(/usr/share/texlive/texmf-dist/tex/latex/titling/titling.sty)\n(/usr/share/texlive/texmf-dist/tex/latex/tools/longtable.sty)\n(/usr/share/texlive/texmf-dist/tex/latex/booktabs/booktabs.sty)\n(/usr/share/texlive/texmf-dist/tex/latex/enumitem/enumitem.sty)\n(/usr/share/texlive/texmf-dist/tex/generic/ulem/ulem.sty)\n(/usr/share/texlive/texmf-dist/tex/latex/jknapltx/mathrsfs.sty)\nNo file notebook.aux.\n(/usr/share/texlive/texmf-dist/tex/latex/base/ts1cmr.fd)\nABD: EveryShipout initializing macros\n(/usr/share/texlive/texmf-dist/tex/latex/caption/ltcaption.sty)\n*geometry* driver: auto-detecting\n*geometry* detected driver: xetex\n*geometry* verbose mode - [ preamble ] result:\n* driver: xetex\n* paper: <default>\n* layout: <same size as paper>\n* layoutoffset:(h,v)=(0.0pt,0.0pt)\n* modes: \n* h-part:(L,W,R)=(72.26999pt, 469.75502pt, 72.26999pt)\n* v-part:(T,H,B)=(72.26999pt, 650.43001pt, 72.26999pt)\n* \\paperwidth=614.295pt\n* \\paperheight=794.96999pt\n* \\textwidth=469.75502pt\n* \\textheight=650.43001pt\n* \\oddsidemargin=0.0pt\n* \\evensidemargin=0.0pt\n* \\topmargin=-37.0pt\n* \\headheight=12.0pt\n* \\headsep=25.0pt\n* \\topskip=11.0pt\n* \\footskip=30.0pt\n* \\marginparwidth=59.0pt\n* \\marginparsep=10.0pt\n* \\columnsep=10.0pt\n* \\skip\\footins=10.0pt plus 4.0pt minus 2.0pt\n* \\hoffset=0.0pt\n* \\voffset=0.0pt\n* \\mag=1000\n* \\@twocolumnfalse\n* \\@twosidefalse\n* \\@mparswitchfalse\n* \\@reversemarginfalse\n* (1in=72.27pt=25.4mm, 1cm=28.453pt)\n\n(/usr/share/texlive/texmf-dist/tex/latex/ucs/ucsencs.def)\n(/usr/share/texlive/texmf-dist/tex/latex/hyperref/nameref.sty\n(/usr/share/texlive/texmf-dist/tex/generic/oberdiek/gettitlestring.sty))\n\nPackage hyperref Warning: Rerun to get /PageLabels entry.\n\n(/usr/share/texlive/texmf-dist/tex/latex/amsfonts/umsa.fd)\n(/usr/share/texlive/texmf-dist/tex/latex/amsfonts/umsb.fd)\n(/usr/share/texlive/texmf-dist/tex/latex/jknapltx/ursfs.fd)\n\nLaTeX Warning: No \\author given.\n\n(/usr/share/texlive/texmf-dist/tex/generic/oberdiek/se-ascii-print.def)\n[1] [2] [3] [4] [5] [6] [7] [8] [9]\nUnderfull \\hbox (badness 10000) in paragraph at lines 898--899\n\n[10]\nUnderfull \\hbox (badness 10000) in paragraph at lines 950--951\n\n[11] [12] [13] [14] [15] [16] [17] [18] [19]\nUnderfull \\hbox (badness 10000) in paragraph at lines 1480--1481\n\n[20] [21]\nUnderfull \\hbox (badness 10000) in paragraph at lines 1560--1561\n\n[22]\nUnderfull \\hbox (badness 10000) in paragraph at lines 1578--1579\n\n[23] [24] [25] [26]\nOverfull \\vbox (60.04668pt too high) has occurred while \\output is active\n[27]\nUnderfull \\hbox (badness 10000) in paragraph at lines 1728--1729\n\n\nUnderfull \\hbox (badness 10000) in paragraph at lines 1756--1757\n\n[28] [29] [30] [31] [32]\nUnderfull \\hbox (badness 10000) in paragraph at lines 1935--1936\n\n[33]\nUnderfull \\hbox (badness 10000) in paragraph at lines 1965--1966\n\n[34]\nUnderfull \\hbox (badness 10000) in paragraph at lines 2010--2011\n\n[35] [36]\nUnderfull \\hbox (badness 10000) in paragraph at lines 2089--2090\n\n[37]\nUnderfull \\hbox (badness 10000) in paragraph at lines 2157--2158\n\n[38]\nUnderfull \\hbox (badness 10000) in paragraph at lines 2178--2179\n\n[39]\nUnderfull \\hbox (badness 10000) in paragraph at lines 2199--2200\n\n[40]\nUnderfull \\hbox (badness 10000) in paragraph at lines 2221--2222\n\n[41]\nUnderfull \\hbox (badness 10000) in paragraph at lines 2247--2248\n\n[42]\nUnderfull \\hbox (badness 10000) in paragraph at lines 2274--2275\n\n[43]\nUnderfull \\hbox (badness 10000) in paragraph at lines 2300--2301\n\n! Undefined control sequence.\nl.2320   Couples\\Parents\n                         more likely to cancel when having babies than not\n? \n! Emergency stop.\nl.2320   Couples\\Parents\n                         more likely to cancel when having babies than not\nOutput written on notebook.pdf (43 pages).\nTranscript written on notebook.log.\n\nTraceback (most recent call last):\n  File \"/shared-libs/python3.7/py-core/bin/jupyter-nbconvert\", line 8, in <module>\n    sys.exit(main())\n  File \"/shared-libs/python3.7/py-core/lib/python3.7/site-packages/jupyter_core/application.py\", line 254, in launch_instance\n    return super(JupyterApp, cls).launch_instance(argv=argv, **kwargs)\n  File \"/shared-libs/python3.7/py-core/lib/python3.7/site-packages/traitlets/config/application.py\", line 845, in launch_instance\n    app.start()\n  File \"/shared-libs/python3.7/py-core/lib/python3.7/site-packages/nbconvert/nbconvertapp.py\", line 350, in start\n    self.convert_notebooks()\n  File \"/shared-libs/python3.7/py-core/lib/python3.7/site-packages/nbconvert/nbconvertapp.py\", line 524, in convert_notebooks\n    self.convert_single_notebook(notebook_filename)\n  File \"/shared-libs/python3.7/py-core/lib/python3.7/site-packages/nbconvert/nbconvertapp.py\", line 489, in convert_single_notebook\n    output, resources = self.export_single_notebook(notebook_filename, resources, input_buffer=input_buffer)\n  File \"/shared-libs/python3.7/py-core/lib/python3.7/site-packages/nbconvert/nbconvertapp.py\", line 418, in export_single_notebook\n    output, resources = self.exporter.from_filename(notebook_filename, resources=resources)\n  File \"/shared-libs/python3.7/py-core/lib/python3.7/site-packages/nbconvert/exporters/exporter.py\", line 181, in from_filename\n    return self.from_file(f, resources=resources, **kw)\n  File \"/shared-libs/python3.7/py-core/lib/python3.7/site-packages/nbconvert/exporters/exporter.py\", line 199, in from_file\n    return self.from_notebook_node(nbformat.read(file_stream, as_version=4), resources=resources, **kw)\n  File \"/shared-libs/python3.7/py-core/lib/python3.7/site-packages/nbconvert/exporters/pdf.py\", line 183, in from_notebook_node\n    self.run_latex(tex_file)\n  File \"/shared-libs/python3.7/py-core/lib/python3.7/site-packages/nbconvert/exporters/pdf.py\", line 154, in run_latex\n    self.latex_count, log_error, raise_on_failure)\n  File \"/shared-libs/python3.7/py-core/lib/python3.7/site-packages/nbconvert/exporters/pdf.py\", line 143, in run_command\n    command=command, output=out))\nnbconvert.exporters.pdf.LatexFailed: PDF creating failed, captured latex output:\nFailed to run \"['xelatex', 'notebook.tex', '-quiet']\" command:\nThis is XeTeX, Version 3.14159265-2.6-0.99999 (TeX Live 2019/dev/Debian) (preloaded format=xelatex)\n restricted \\write18 enabled.\nentering extended mode\n(./notebook.tex\nLaTeX2e <2018-12-01>\n(/usr/share/texlive/texmf-dist/tex/latex/base/article.cls\nDocument Class: article 2018/09/03 v1.4i Standard LaTeX document class\n(/usr/share/texlive/texmf-dist/tex/latex/base/size11.clo))\n(/usr/share/texlive/texmf-dist/tex/latex/tcolorbox/tcolorbox.sty\n(/usr/share/texlive/texmf-dist/tex/latex/pgf/basiclayer/pgf.sty\n(/usr/share/texlive/texmf-dist/tex/latex/pgf/utilities/pgfrcs.sty\n(/usr/share/texlive/texmf-dist/tex/generic/pgf/utilities/pgfutil-common.tex\n(/usr/share/texlive/texmf-dist/tex/generic/pgf/utilities/pgfutil-common-lists.t\nex)) (/usr/share/texlive/texmf-dist/tex/generic/pgf/utilities/pgfutil-latex.def\n(/usr/share/texlive/texmf-dist/tex/latex/ms/everyshi.sty))\n(/usr/share/texlive/texmf-dist/tex/generic/pgf/utilities/pgfrcs.code.tex\n(/usr/share/texlive/texmf-dist/tex/generic/pgf/pgf.revision.tex)))\n(/usr/share/texlive/texmf-dist/tex/latex/pgf/basiclayer/pgfcore.sty\n(/usr/share/texlive/texmf-dist/tex/latex/graphics/graphicx.sty\n(/usr/share/texlive/texmf-dist/tex/latex/graphics/keyval.sty)\n(/usr/share/texlive/texmf-dist/tex/latex/graphics/graphics.sty\n(/usr/share/texlive/texmf-dist/tex/latex/graphics/trig.sty)\n(/usr/share/texlive/texmf-dist/tex/latex/graphics-cfg/graphics.cfg)\n(/usr/share/texlive/texmf-dist/tex/latex/graphics-def/xetex.def)))\n(/usr/share/texlive/texmf-dist/tex/latex/pgf/systemlayer/pgfsys.sty\n(/usr/share/texlive/texmf-dist/tex/generic/pgf/systemlayer/pgfsys.code.tex\n(/usr/share/texlive/texmf-dist/tex/generic/pgf/utilities/pgfkeys.code.tex\n(/usr/share/texlive/texmf-dist/tex/generic/pgf/utilities/pgfkeysfiltered.code.t\nex)) (/usr/share/texlive/texmf-dist/tex/generic/pgf/systemlayer/pgf.cfg)\n(/usr/share/texlive/texmf-dist/tex/generic/pgf/systemlayer/pgfsys-xetex.def\n(/usr/share/texlive/texmf-dist/tex/generic/pgf/systemlayer/pgfsys-dvipdfmx.def\n(/usr/share/texlive/texmf-dist/tex/generic/pgf/systemlayer/pgfsys-common-pdf.de\nf))))\n(/usr/share/texlive/texmf-dist/tex/generic/pgf/systemlayer/pgfsyssoftpath.code.\ntex)\n(/usr/share/texlive/texmf-dist/tex/generic/pgf/systemlayer/pgfsysprotocol.code.\ntex)) (/usr/share/texlive/texmf-dist/tex/latex/xcolor/xcolor.sty\n(/usr/share/texlive/texmf-dist/tex/latex/graphics-cfg/color.cfg))\n(/usr/share/texlive/texmf-dist/tex/generic/pgf/basiclayer/pgfcore.code.tex\n(/usr/share/texlive/texmf-dist/tex/generic/pgf/math/pgfmath.code.tex\n(/usr/share/texlive/texmf-dist/tex/generic/pgf/math/pgfmathcalc.code.tex\n(/usr/share/texlive/texmf-dist/tex/generic/pgf/math/pgfmathutil.code.tex)\n(/usr/share/texlive/texmf-dist/tex/generic/pgf/math/pgfmathparser.code.tex)\n(/usr/share/texlive/texmf-dist/tex/generic/pgf/math/pgfmathfunctions.code.tex\n(/usr/share/texlive/texmf-dist/tex/generic/pgf/math/pgfmathfunctions.basic.code\n.tex)\n(/usr/share/texlive/texmf-dist/tex/generic/pgf/math/pgfmathfunctions.trigonomet\nric.code.tex)\n(/usr/share/texlive/texmf-dist/tex/generic/pgf/math/pgfmathfunctions.random.cod\ne.tex)\n(/usr/share/texlive/texmf-dist/tex/generic/pgf/math/pgfmathfunctions.comparison\n.code.tex)\n(/usr/share/texlive/texmf-dist/tex/generic/pgf/math/pgfmathfunctions.base.code.\ntex)\n(/usr/share/texlive/texmf-dist/tex/generic/pgf/math/pgfmathfunctions.round.code\n.tex)\n(/usr/share/texlive/texmf-dist/tex/generic/pgf/math/pgfmathfunctions.misc.code.\ntex)\n(/usr/share/texlive/texmf-dist/tex/generic/pgf/math/pgfmathfunctions.integerari\nthmetics.code.tex)))\n(/usr/share/texlive/texmf-dist/tex/generic/pgf/math/pgfmathfloat.code.tex))\n(/usr/share/texlive/texmf-dist/tex/generic/pgf/basiclayer/pgfcorepoints.code.te\nx)\n(/usr/share/texlive/texmf-dist/tex/generic/pgf/basiclayer/pgfcorepathconstruct.\ncode.tex)\n(/usr/share/texlive/texmf-dist/tex/generic/pgf/basiclayer/pgfcorepathusage.code\n.tex)\n(/usr/share/texlive/texmf-dist/tex/generic/pgf/basiclayer/pgfcorescopes.code.te\nx)\n(/usr/share/texlive/texmf-dist/tex/generic/pgf/basiclayer/pgfcoregraphicstate.c\node.tex)\n(/usr/share/texlive/texmf-dist/tex/generic/pgf/basiclayer/pgfcoretransformation\ns.code.tex)\n(/usr/share/texlive/texmf-dist/tex/generic/pgf/basiclayer/pgfcorequick.code.tex\n)\n(/usr/share/texlive/texmf-dist/tex/generic/pgf/basiclayer/pgfcoreobjects.code.t\nex)\n(/usr/share/texlive/texmf-dist/tex/generic/pgf/basiclayer/pgfcorepathprocessing\n.code.tex)\n(/usr/share/texlive/texmf-dist/tex/generic/pgf/basiclayer/pgfcorearrows.code.te\nx)\n(/usr/share/texlive/texmf-dist/tex/generic/pgf/basiclayer/pgfcoreshade.code.tex\n)\n(/usr/share/texlive/texmf-dist/tex/generic/pgf/basiclayer/pgfcoreimage.code.tex\n\n(/usr/share/texlive/texmf-dist/tex/generic/pgf/basiclayer/pgfcoreexternal.code.\ntex))\n(/usr/share/texlive/texmf-dist/tex/generic/pgf/basiclayer/pgfcorelayers.code.te\nx)\n(/usr/share/texlive/texmf-dist/tex/generic/pgf/basiclayer/pgfcoretransparency.c\node.tex)\n(/usr/share/texlive/texmf-dist/tex/generic/pgf/basiclayer/pgfcorepatterns.code.\ntex)\n(/usr/share/texlive/texmf-dist/tex/generic/pgf/basiclayer/pgfcorerdf.code.tex))\n)\n(/usr/share/texlive/texmf-dist/tex/generic/pgf/modules/pgfmoduleshapes.code.tex\n) (/usr/share/texlive/texmf-dist/tex/generic/pgf/modules/pgfmoduleplot.code.tex\n)\n(/usr/share/texlive/texmf-dist/tex/latex/pgf/compatibility/pgfcomp-version-0-65\n.sty)\n(/usr/share/texlive/texmf-dist/tex/latex/pgf/compatibility/pgfcomp-version-1-18\n.sty)) (/usr/share/texlive/texmf-dist/tex/latex/tools/verbatim.sty)\n(/usr/share/texlive/texmf-dist/tex/latex/environ/environ.sty\n(/usr/share/texlive/texmf-dist/tex/latex/trimspaces/trimspaces.sty))\n(/usr/share/texlive/texmf-dist/tex/latex/etoolbox/etoolbox.sty)\n(/usr/share/texlive/texmf-dist/tex/latex/tcolorbox/tcbbreakable.code.tex\nLibrary (tcolorbox): 'tcbbreakable.code.tex' version '4.15'\n)) (/usr/share/texlive/texmf-dist/tex/latex/parskip/parskip.sty\n(/usr/share/texlive/texmf-dist/tex/latex/oberdiek/kvoptions.sty\n(/usr/share/texlive/texmf-dist/tex/generic/oberdiek/ltxcmds.sty)\n(/usr/share/texlive/texmf-dist/tex/generic/oberdiek/kvsetkeys.sty\n(/usr/share/texlive/texmf-dist/tex/generic/oberdiek/infwarerr.sty)\n(/usr/share/texlive/texmf-dist/tex/generic/oberdiek/etexcmds.sty\n(/usr/share/texlive/texmf-dist/tex/generic/oberdiek/ifluatex.sty)))))\n(/usr/share/texlive/texmf-dist/tex/generic/iftex/iftex.sty)\n(/usr/share/texlive/texmf-dist/tex/latex/fontspec/fontspec.sty\n(/usr/share/texlive/texmf-dist/tex/latex/l3packages/xparse/xparse.sty\n(/usr/share/texlive/texmf-dist/tex/latex/l3kernel/expl3.sty\n(/usr/share/texlive/texmf-dist/tex/latex/l3kernel/expl3-code.tex)\n(/usr/share/texlive/texmf-dist/tex/latex/l3kernel/l3xdvipdfmx.def)))\n(/usr/share/texlive/texmf-dist/tex/latex/fontspec/fontspec-xetex.sty\n(/usr/share/texlive/texmf-dist/tex/latex/base/fontenc.sty\n(/usr/share/texlive/texmf-dist/tex/latex/base/tuenc.def))\n(/usr/share/texlive/texmf-dist/tex/latex/fontspec/fontspec.cfg)))\n(/usr/share/texlive/texmf-dist/tex/latex/caption/caption.sty\n(/usr/share/texlive/texmf-dist/tex/latex/caption/caption3.sty))\n(/usr/share/texlive/texmf-dist/tex/latex/float/float.sty)\n(/usr/share/texlive/texmf-dist/tex/latex/tools/enumerate.sty)\n(/usr/share/texlive/texmf-dist/tex/latex/geometry/geometry.sty\n(/usr/share/texlive/texmf-dist/tex/generic/oberdiek/ifpdf.sty)\n(/usr/share/texlive/texmf-dist/tex/generic/oberdiek/ifvtex.sty)\n(/usr/share/texlive/texmf-dist/tex/generic/ifxetex/ifxetex.sty))\n(/usr/share/texlive/texmf-dist/tex/latex/amsmath/amsmath.sty\nFor additional information on amsmath, use the `?' option.\n(/usr/share/texlive/texmf-dist/tex/latex/amsmath/amstext.sty\n(/usr/share/texlive/texmf-dist/tex/latex/amsmath/amsgen.sty))\n(/usr/share/texlive/texmf-dist/tex/latex/amsmath/amsbsy.sty)\n(/usr/share/texlive/texmf-dist/tex/latex/amsmath/amsopn.sty))\n(/usr/share/texlive/texmf-dist/tex/latex/amsfonts/amssymb.sty\n(/usr/share/texlive/texmf-dist/tex/latex/amsfonts/amsfonts.sty))\n(/usr/share/texlive/texmf-dist/tex/latex/base/textcomp.sty\n(/usr/share/texlive/texmf-dist/tex/latex/base/ts1enc.def))\n(/usr/share/texlive/texmf-dist/tex/latex/upquote/upquote.sty)\n(/usr/share/texlive/texmf-dist/tex/latex/eurosym/eurosym.sty)\n(/usr/share/texlive/texmf-dist/tex/latex/ucs/ucs.sty\n(/usr/share/texlive/texmf-dist/tex/latex/ucs/data/uni-global.def))\n(/usr/share/texlive/texmf-dist/tex/latex/fancyvrb/fancyvrb.sty\nStyle option: `fancyvrb' v3.2a <2019/01/15> (tvz))\n(/usr/share/texlive/texmf-dist/tex/latex/oberdiek/grffile.sty\n(/usr/share/texlive/texmf-dist/tex/generic/oberdiek/pdftexcmds.sty))\n(/usr/share/texlive/texmf-dist/tex/latex/adjustbox/adjustbox.sty\n(/usr/share/texlive/texmf-dist/tex/latex/xkeyval/xkeyval.sty\n(/usr/share/texlive/texmf-dist/tex/generic/xkeyval/xkeyval.tex\n(/usr/share/texlive/texmf-dist/tex/generic/xkeyval/xkvutils.tex)))\n(/usr/share/texlive/texmf-dist/tex/latex/adjustbox/adjcalc.sty)\n(/usr/share/texlive/texmf-dist/tex/latex/adjustbox/trimclip.sty\n(/usr/share/texlive/texmf-dist/tex/latex/collectbox/collectbox.sty)\n(/usr/share/texlive/texmf-dist/tex/latex/adjustbox/tc-xetex.def))\n(/usr/share/texlive/texmf-dist/tex/latex/ifoddpage/ifoddpage.sty)\n(/usr/share/texlive/texmf-dist/tex/latex/varwidth/varwidth.sty))\n(/usr/share/texlive/texmf-dist/tex/latex/hyperref/hyperref.sty\n(/usr/share/texlive/texmf-dist/tex/generic/oberdiek/hobsub-hyperref.sty\n(/usr/share/texlive/texmf-dist/tex/generic/oberdiek/hobsub-generic.sty))\n(/usr/share/texlive/texmf-dist/tex/latex/oberdiek/auxhook.sty)\n(/usr/share/texlive/texmf-dist/tex/latex/hyperref/pd1enc.def)\n(/usr/share/texlive/texmf-dist/tex/latex/latexconfig/hyperref.cfg)\n(/usr/share/texlive/texmf-dist/tex/latex/url/url.sty))\n(/usr/share/texlive/texmf-dist/tex/latex/hyperref/hxetex.def\n(/usr/share/texlive/texmf-dist/tex/latex/hyperref/puenc.def)\n(/usr/share/texlive/texmf-dist/tex/generic/oberdiek/stringenc.sty)\n(/usr/share/texlive/texmf-dist/tex/latex/oberdiek/rerunfilecheck.sty))\n(/usr/share/texlive/texmf-dist/tex/latex/titling/titling.sty)\n(/usr/share/texlive/texmf-dist/tex/latex/tools/longtable.sty)\n(/usr/share/texlive/texmf-dist/tex/latex/booktabs/booktabs.sty)\n(/usr/share/texlive/texmf-dist/tex/latex/enumitem/enumitem.sty)\n(/usr/share/texlive/texmf-dist/tex/generic/ulem/ulem.sty)\n(/usr/share/texlive/texmf-dist/tex/latex/jknapltx/mathrsfs.sty)\nNo file notebook.aux.\n(/usr/share/texlive/texmf-dist/tex/latex/base/ts1cmr.fd)\nABD: EveryShipout initializing macros\n(/usr/share/texlive/texmf-dist/tex/latex/caption/ltcaption.sty)\n*geometry* driver: auto-detecting\n*geometry* detected driver: xetex\n*geometry* verbose mode - [ preamble ] result:\n* driver: xetex\n* paper: <default>\n* layout: <same size as paper>\n* layoutoffset:(h,v)=(0.0pt,0.0pt)\n* modes: \n* h-part:(L,W,R)=(72.26999pt, 469.75502pt, 72.26999pt)\n* v-part:(T,H,B)=(72.26999pt, 650.43001pt, 72.26999pt)\n* \\paperwidth=614.295pt\n* \\paperheight=794.96999pt\n* \\textwidth=469.75502pt\n* \\textheight=650.43001pt\n* \\oddsidemargin=0.0pt\n* \\evensidemargin=0.0pt\n* \\topmargin=-37.0pt\n* \\headheight=12.0pt\n* \\headsep=25.0pt\n* \\topskip=11.0pt\n* \\footskip=30.0pt\n* \\marginparwidth=59.0pt\n* \\marginparsep=10.0pt\n* \\columnsep=10.0pt\n* \\skip\\footins=10.0pt plus 4.0pt minus 2.0pt\n* \\hoffset=0.0pt\n* \\voffset=0.0pt\n* \\mag=1000\n* \\@twocolumnfalse\n* \\@twosidefalse\n* \\@mparswitchfalse\n* \\@reversemarginfalse\n* (1in=72.27pt=25.4mm, 1cm=28.453pt)\n\n(/usr/share/texlive/texmf-dist/tex/latex/ucs/ucsencs.def)\n(/usr/share/texlive/texmf-dist/tex/latex/hyperref/nameref.sty\n(/usr/share/texlive/texmf-dist/tex/generic/oberdiek/gettitlestring.sty))\n\nPackage hyperref Warning: Rerun to get /PageLabels entry.\n\n(/usr/share/texlive/texmf-dist/tex/latex/amsfonts/umsa.fd)\n(/usr/share/texlive/texmf-dist/tex/latex/amsfonts/umsb.fd)\n(/usr/share/texlive/texmf-dist/tex/latex/jknapltx/ursfs.fd)\n\nLaTeX Warning: No \\author given.\n\n(/usr/share/texlive/texmf-dist/tex/generic/oberdiek/se-ascii-print.def)\n[1] [2] [3] [4] [5] [6] [7] [8] [9]\nUnderfull \\hbox (badness 10000) in paragraph at lines 898--899\n\n[10]\nUnderfull \\hbox (badness 10000) in paragraph at lines 950--951\n\n[11] [12] [13] [14] [15] [16] [17] [18] [19]\nUnderfull \\hbox (badness 10000) in paragraph at lines 1480--1481\n\n[20] [21]\nUnderfull \\hbox (badness 10000) in paragraph at lines 1560--1561\n\n[22]\nUnderfull \\hbox (badness 10000) in paragraph at lines 1578--1579\n\n[23] [24] [25] [26]\nOverfull \\vbox (60.04668pt too high) has occurred while \\output is active\n[27]\nUnderfull \\hbox (badness 10000) in paragraph at lines 1728--1729\n\n\nUnderfull \\hbox (badness 10000) in paragraph at lines 1756--1757\n\n[28] [29] [30] [31] [32]\nUnderfull \\hbox (badness 10000) in paragraph at lines 1935--1936\n\n[33]\nUnderfull \\hbox (badness 10000) in paragraph at lines 1965--1966\n\n[34]\nUnderfull \\hbox (badness 10000) in paragraph at lines 2010--2011\n\n[35] [36]\nUnderfull \\hbox (badness 10000) in paragraph at lines 2089--2090\n\n[37]\nUnderfull \\hbox (badness 10000) in paragraph at lines 2157--2158\n\n[38]\nUnderfull \\hbox (badness 10000) in paragraph at lines 2178--2179\n\n[39]\nUnderfull \\hbox (badness 10000) in paragraph at lines 2199--2200\n\n[40]\nUnderfull \\hbox (badness 10000) in paragraph at lines 2221--2222\n\n[41]\nUnderfull \\hbox (badness 10000) in paragraph at lines 2247--2248\n\n[42]\nUnderfull \\hbox (badness 10000) in paragraph at lines 2274--2275\n\n[43]\nUnderfull \\hbox (badness 10000) in paragraph at lines 2300--2301\n\n! Undefined control sequence.\nl.2320   Couples\\Parents\n                         more likely to cancel when having babies than not\n? \n! Emergency stop.\nl.2320   Couples\\Parents\n                         more likely to cancel when having babies than not\nOutput written on notebook.pdf (43 pages).\nTranscript written on notebook.log.\n\n",
          "output_type": "stream"
        }
      ]
    },
    {
      "cell_type": "code",
      "metadata": {
        "cell_id": "00015-f8eef660-838e-4040-9f48-26ee0d0a1275",
        "deepnote_to_be_reexecuted": true,
        "source_hash": "b623e53d",
        "execution_millis": 1,
        "deepnote_cell_type": "code"
      },
      "source": "",
      "execution_count": null,
      "outputs": []
    },
    {
      "cell_type": "markdown",
      "source": "<a style='text-decoration:none;line-height:16px;display:flex;color:#5B5B62;padding:10px;justify-content:end;' href='https://deepnote.com?utm_source=created-in-deepnote-cell&projectId=0ddbf15f-378d-49eb-bd9e-126b66866c79' target=\"_blank\">\n<img alt='Created in deepnote.com' style='display:inline;max-height:16px;margin:0px;margin-right:7.5px;' src='data:image/svg+xml;base64,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' > </img>\nCreated in <span style='font-weight:600;margin-left:4px;'>Deepnote</span></a>",
      "metadata": {
        "tags": [],
        "created_in_deepnote_cell": true,
        "deepnote_cell_type": "markdown"
      }
    }
  ],
  "nbformat": 4,
  "nbformat_minor": 4,
  "metadata": {
    "kernelspec": {
      "display_name": "Python 3",
      "language": "python",
      "name": "python3"
    },
    "language_info": {
      "codemirror_mode": {
        "name": "ipython",
        "version": 3
      },
      "file_extension": ".py",
      "mimetype": "text/x-python",
      "name": "python",
      "nbconvert_exporter": "python",
      "pygments_lexer": "ipython3",
      "version": "3.9.2"
    },
    "deepnote_notebook_id": "cf3edd51-f841-4bf3-a880-fc8d006536c1",
    "deepnote": {
      "is_reactive": false
    },
    "deepnote_execution_queue": []
  }
}