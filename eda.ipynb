{
 "cells": [
  {
   "cell_type": "markdown",
   "metadata": {
    "cell_id": "00000-31c179b2-6190-4870-92d4-4fcc73b377e4",
    "deepnote_cell_type": "markdown"
   },
   "source": [
    "# DME project - Exploratory data analysis section\n",
    "This notebook contains the exploratory data analysis performed on the `recipes.csv` data file from Bellosi (2011)"
   ]
  },
  {
   "cell_type": "code",
   "execution_count": null,
   "metadata": {},
   "outputs": [],
   "source": []
  },
  {
   "cell_type": "code",
   "execution_count": 51,
   "metadata": {
    "cell_id": "00002-63d053e6-e126-466a-893f-aa80e441791e",
    "deepnote_cell_type": "code",
    "output_cleared": true
   },
   "outputs": [
    {
     "output_type": "display_data",
     "data": {
      "text/html": "        <script type=\"text/javascript\">\n        window.PlotlyConfig = {MathJaxConfig: 'local'};\n        if (window.MathJax) {MathJax.Hub.Config({SVG: {font: \"STIX-Web\"}});}\n        if (typeof require !== 'undefined') {\n        require.undef(\"plotly\");\n        requirejs.config({\n            paths: {\n                'plotly': ['https://cdn.plot.ly/plotly-latest.min']\n            }\n        });\n        require(['plotly'], function(Plotly) {\n            window._Plotly = Plotly;\n        });\n        }\n        </script>\n        "
     },
     "metadata": {}
    }
   ],
   "source": [
    "# Display plots inline\n",
    "%matplotlib inline\n",
    "\n",
    "# Data libraries\n",
    "\n",
    "import pandas as pd\n",
    "import numpy as np\n",
    "import geopandas as gp\n",
    "\n",
    "# Plotting libraries\n",
    "import matplotlib.pyplot as plt\n",
    "import matplotlib.lines as mlines\n",
    "import seaborn as sns\n",
    "\n",
    "# Plotting defaults\n",
    "plt.rcParams['figure.figsize'] = (8,5)\n",
    "plt.rcParams['figure.dpi'] = 80\n",
    "\n",
    "# Misc libraries\n",
    "import os\n",
    "import time\n",
    "from datetime import date\n",
    "\n",
    "# Scipy libraries\n",
    "import scipy.stats as stats   # Imports the entire scipy.stats (all distributions)\n",
    "from scipy.stats import norm\n",
    "import statistics\n",
    "\n",
    "# sklearn modules\n",
    "from sklearn.model_selection import train_test_split\n",
    "from sklearn.linear_model import LogisticRegression, LogisticRegressionCV\n",
    "from sklearn.manifold import TSNE, Isomap, MDS\n",
    "from sklearn.preprocessing import StandardScaler\n",
    "from sklearn.decomposition import PCA, KernelPCA\n",
    "from sklearn.feature_selection import SelectKBest, VarianceThreshold\n",
    "\n",
    "# UMAP\n",
    "import umap.umap_ as umap\n",
    "\n",
    "# Heatmap \n",
    "import plotly.graph_objs as go \n",
    "from plotly.offline import init_notebook_mode,iplot\n",
    "init_notebook_mode(connected=True) \n",
    "\n",
    "# Helper script\n",
    "import get_recipe as gr"
   ]
  },
  {
   "source": [
    "## Data preparation"
   ],
   "cell_type": "markdown",
   "metadata": {}
  },
  {
   "source": [
    "# Get datasets\n",
    "recipes_df, cuisines_df = gr.get_data()"
   ],
   "cell_type": "code",
   "metadata": {},
   "execution_count": 2,
   "outputs": []
  },
  {
   "cell_type": "code",
   "execution_count": 3,
   "metadata": {},
   "outputs": [
    {
     "output_type": "execute_result",
     "data": {
      "text/plain": [
       "   acorn_squash  adobo  african_birdseye_chile_pepper  ale  aleppo_pepper  \\\n",
       "0             0      0                              0    0              0   \n",
       "1             0      0                              0    0              0   \n",
       "2             0      0                              0    0              0   \n",
       "3             0      0                              0    0              0   \n",
       "4             0      0                              0    0              0   \n",
       "\n",
       "   alfalfa_sprouts  alfredo_sauce  allspice  almond  almond_butter  ...  \\\n",
       "0                0              0         0       0              0  ...   \n",
       "1                0              0         0       0              0  ...   \n",
       "2                0              0         0       0              0  ...   \n",
       "3                0              0         0       0              0  ...   \n",
       "4                0              0         0       0              0  ...   \n",
       "\n",
       "   yellow_curry_paste  yellow_food_coloring  yellow_split_pea  yellow_squash  \\\n",
       "0                   0                     0                 0              0   \n",
       "1                   0                     0                 0              0   \n",
       "2                   0                     0                 0              0   \n",
       "3                   0                     0                 0              0   \n",
       "4                   0                     0                 0              0   \n",
       "\n",
       "   yogurt  zaatar  zest  zucchini  cuisine  cuisine_name  \n",
       "0       0       0     0         0        0       Chinese  \n",
       "1       0       0     0         0        0       Chinese  \n",
       "2       0       0     0         0        0       Chinese  \n",
       "3       0       0     0         0        0       Chinese  \n",
       "4       0       0     0         0        0       Chinese  \n",
       "\n",
       "[5 rows x 711 columns]"
      ],
      "text/html": "<div>\n<style scoped>\n    .dataframe tbody tr th:only-of-type {\n        vertical-align: middle;\n    }\n\n    .dataframe tbody tr th {\n        vertical-align: top;\n    }\n\n    .dataframe thead th {\n        text-align: right;\n    }\n</style>\n<table border=\"1\" class=\"dataframe\">\n  <thead>\n    <tr style=\"text-align: right;\">\n      <th></th>\n      <th>acorn_squash</th>\n      <th>adobo</th>\n      <th>african_birdseye_chile_pepper</th>\n      <th>ale</th>\n      <th>aleppo_pepper</th>\n      <th>alfalfa_sprouts</th>\n      <th>alfredo_sauce</th>\n      <th>allspice</th>\n      <th>almond</th>\n      <th>almond_butter</th>\n      <th>...</th>\n      <th>yellow_curry_paste</th>\n      <th>yellow_food_coloring</th>\n      <th>yellow_split_pea</th>\n      <th>yellow_squash</th>\n      <th>yogurt</th>\n      <th>zaatar</th>\n      <th>zest</th>\n      <th>zucchini</th>\n      <th>cuisine</th>\n      <th>cuisine_name</th>\n    </tr>\n  </thead>\n  <tbody>\n    <tr>\n      <th>0</th>\n      <td>0</td>\n      <td>0</td>\n      <td>0</td>\n      <td>0</td>\n      <td>0</td>\n      <td>0</td>\n      <td>0</td>\n      <td>0</td>\n      <td>0</td>\n      <td>0</td>\n      <td>...</td>\n      <td>0</td>\n      <td>0</td>\n      <td>0</td>\n      <td>0</td>\n      <td>0</td>\n      <td>0</td>\n      <td>0</td>\n      <td>0</td>\n      <td>0</td>\n      <td>Chinese</td>\n    </tr>\n    <tr>\n      <th>1</th>\n      <td>0</td>\n      <td>0</td>\n      <td>0</td>\n      <td>0</td>\n      <td>0</td>\n      <td>0</td>\n      <td>0</td>\n      <td>0</td>\n      <td>0</td>\n      <td>0</td>\n      <td>...</td>\n      <td>0</td>\n      <td>0</td>\n      <td>0</td>\n      <td>0</td>\n      <td>0</td>\n      <td>0</td>\n      <td>0</td>\n      <td>0</td>\n      <td>0</td>\n      <td>Chinese</td>\n    </tr>\n    <tr>\n      <th>2</th>\n      <td>0</td>\n      <td>0</td>\n      <td>0</td>\n      <td>0</td>\n      <td>0</td>\n      <td>0</td>\n      <td>0</td>\n      <td>0</td>\n      <td>0</td>\n      <td>0</td>\n      <td>...</td>\n      <td>0</td>\n      <td>0</td>\n      <td>0</td>\n      <td>0</td>\n      <td>0</td>\n      <td>0</td>\n      <td>0</td>\n      <td>0</td>\n      <td>0</td>\n      <td>Chinese</td>\n    </tr>\n    <tr>\n      <th>3</th>\n      <td>0</td>\n      <td>0</td>\n      <td>0</td>\n      <td>0</td>\n      <td>0</td>\n      <td>0</td>\n      <td>0</td>\n      <td>0</td>\n      <td>0</td>\n      <td>0</td>\n      <td>...</td>\n      <td>0</td>\n      <td>0</td>\n      <td>0</td>\n      <td>0</td>\n      <td>0</td>\n      <td>0</td>\n      <td>0</td>\n      <td>0</td>\n      <td>0</td>\n      <td>Chinese</td>\n    </tr>\n    <tr>\n      <th>4</th>\n      <td>0</td>\n      <td>0</td>\n      <td>0</td>\n      <td>0</td>\n      <td>0</td>\n      <td>0</td>\n      <td>0</td>\n      <td>0</td>\n      <td>0</td>\n      <td>0</td>\n      <td>...</td>\n      <td>0</td>\n      <td>0</td>\n      <td>0</td>\n      <td>0</td>\n      <td>0</td>\n      <td>0</td>\n      <td>0</td>\n      <td>0</td>\n      <td>0</td>\n      <td>Chinese</td>\n    </tr>\n  </tbody>\n</table>\n<p>5 rows × 711 columns</p>\n</div>"
     },
     "metadata": {},
     "execution_count": 3
    }
   ],
   "source": [
    "# Inner join to see the cuisine name\n",
    "recipes_cuisine = pd.merge(recipes_df, cuisines_df, on = \"cuisine\", how = \"inner\")\n",
    "recipes_cuisine.head()"
   ]
  },
  {
   "cell_type": "code",
   "execution_count": null,
   "metadata": {},
   "outputs": [],
   "source": []
  },
  {
   "cell_type": "code",
   "execution_count": null,
   "metadata": {},
   "outputs": [],
   "source": [
    "# create dense matrix\n",
    "A = array([[1, 1, 0, 1, 0, 0], [1, 0, 2, 0, 0, 1], [99, 0, 0, 2, 0, 0]])\n",
    "\n",
    "#If you have Nan\n",
    "A = np.nan_to_num(A,0)\n",
    "\n",
    "print(A)\n",
    "#[[ 1  1  0  1  0  0]\n",
    "# [ 1  0  2  0  0  1]\n",
    "# [99  0  0  2  0  0]]\n",
    "\n"
   ]
  },
  {
   "source": [
    "## Exploratory data analysis\n",
    "### Split dataset\n"
   ],
   "cell_type": "markdown",
   "metadata": {}
  },
  {
   "cell_type": "code",
   "execution_count": 4,
   "metadata": {},
   "outputs": [
    {
     "output_type": "stream",
     "name": "stdout",
     "text": [
      "2965 train examples\n847 validation examples\n424 test examples\nPercentage of train examples: 70%\nPercentage of validation examples: 20%\nPercentage of test examples: 10%\n"
     ]
    }
   ],
   "source": [
    "train, val = train_test_split(recipes_df, test_size=0.3, random_state=42, stratify=recipes_df['cuisine'])\n",
    "val, test = train_test_split(val, test_size=(1/3), random_state=42, stratify=val['cuisine'])\n",
    "print(len(train), 'train examples')\n",
    "print(len(val), 'validation examples')\n",
    "print(len(test), 'test examples')\n",
    "print(f'Percentage of train examples: {round(len(train) / len(recipes_df)*100)}%')\n",
    "print(f'Percentage of validation examples: {round(len(val) / len(recipes_df)*100)}%')\n",
    "print(f'Percentage of test examples: {round(len(test) / len(recipes_df)*100)}%')"
   ]
  },
  {
   "cell_type": "code",
   "execution_count": 39,
   "metadata": {},
   "outputs": [],
   "source": [
    "features = train.drop(columns=\"cuisine\")\n",
    "feat_matrix = features.to_numpy()\n",
    "\n"
   ]
  },
  {
   "cell_type": "code",
   "execution_count": 40,
   "metadata": {},
   "outputs": [
    {
     "output_type": "execute_result",
     "data": {
      "text/plain": [
       "2102185"
      ]
     },
     "metadata": {},
     "execution_count": 40
    }
   ],
   "source": [
    "feat_matrix.size"
   ]
  },
  {
   "cell_type": "code",
   "execution_count": 46,
   "metadata": {},
   "outputs": [
    {
     "output_type": "stream",
     "name": "stdout",
     "text": [
      "sparsity: 0.9847553854679774\n density: 0.015244614532022634\n"
     ]
    }
   ],
   "source": [
    "# calculate sparsity and density\n",
    "sparsity = 1 - (np.count_nonzero(feat_matrix) / float(feat_matrix.size))\n",
    "density  = np.count_nonzero(feat_matrix) / float(feat_matrix.size)\n",
    "print(f\"sparsity: {sparsity}\\n density: {density}\")"
   ]
  },
  {
   "cell_type": "code",
   "execution_count": 49,
   "metadata": {},
   "outputs": [
    {
     "output_type": "execute_result",
     "data": {
      "text/plain": [
       "0.9847126051002156"
      ]
     },
     "metadata": {},
     "execution_count": 49
    }
   ],
   "source": [
    "all_data = recipes_df.drop(columns = \"cuisine\")\n",
    "sparsity = 1 - (np.count_nonzero(all_data) / float(all_data.size))\n",
    "sparsity"
   ]
  },
  {
   "source": [
    "### Visualizations"
   ],
   "cell_type": "markdown",
   "metadata": {}
  },
  {
   "cell_type": "code",
   "execution_count": 5,
   "metadata": {},
   "outputs": [
    {
     "output_type": "execute_result",
     "data": {
      "text/plain": [
       "count    2965.000000\n",
       "mean       10.808432\n",
       "std         3.701733\n",
       "min         3.000000\n",
       "25%         8.000000\n",
       "50%        11.000000\n",
       "75%        13.000000\n",
       "max        26.000000\n",
       "Name: ingredient_count, dtype: float64"
      ]
     },
     "metadata": {},
     "execution_count": 5
    }
   ],
   "source": [
    "# Inner join to see the cuisine name\n",
    "recipes_vis = pd.merge(train, cuisines_df, on = \"cuisine\", how = \"inner\")\n",
    "\n",
    "# Create a new column where the ingredients used per recipe are summed\n",
    "recipes_vis[\"ingredient_count\"] =  recipes_vis.drop('cuisine', axis=1).sum(axis=1)\n",
    "\n",
    "# Descriptive statistics\n",
    "recipes_vis[\"ingredient_count\"].describe()"
   ]
  },
  {
   "source": [
    "### Cuisine analysis"
   ],
   "cell_type": "markdown",
   "metadata": {}
  },
  {
   "cell_type": "code",
   "execution_count": 6,
   "metadata": {},
   "outputs": [],
   "source": [
    "train_cuisines = pd.merge(train, cuisines_df, on = \"cuisine\", how = \"inner\")\n",
    "train_cuisines = train_cuisines.drop(columns=\"cuisine\")"
   ]
  },
  {
   "cell_type": "code",
   "execution_count": 7,
   "metadata": {},
   "outputs": [
    {
     "output_type": "execute_result",
     "data": {
      "text/plain": [
       "cuisine_name     Chinese     English      French      German       Greek  \\\n",
       "count         709.000000  709.000000  709.000000  709.000000  709.000000   \n",
       "mean            3.908322    3.214386    3.586742    3.342736    3.723554   \n",
       "std            15.873308   10.697260   13.353406   11.930337   15.241549   \n",
       "min             0.000000    0.000000    0.000000    0.000000    0.000000   \n",
       "25%             0.000000    0.000000    0.000000    0.000000    0.000000   \n",
       "50%             0.000000    0.000000    0.000000    0.000000    0.000000   \n",
       "75%             1.000000    2.000000    1.000000    1.000000    1.000000   \n",
       "max           208.000000  131.000000  132.000000  157.000000  173.000000   \n",
       "\n",
       "cuisine_name      Indian     Italian    Japanese     Mexican   Moroccan  \\\n",
       "count         709.000000  709.000000  709.000000  709.000000  709.00000   \n",
       "mean            4.562764    3.548660    3.125529    3.610719    4.54725   \n",
       "std            18.074487   14.166463   11.992101   13.341799   17.99049   \n",
       "min             0.000000    0.000000    0.000000    0.000000    0.00000   \n",
       "25%             0.000000    0.000000    0.000000    0.000000    0.00000   \n",
       "50%             0.000000    0.000000    0.000000    0.000000    0.00000   \n",
       "75%             1.000000    1.000000    1.000000    1.000000    1.00000   \n",
       "max           186.000000  155.000000  171.000000  134.000000  185.00000   \n",
       "\n",
       "cuisine_name     Spanish        Thai  \n",
       "count         709.000000  709.000000  \n",
       "mean            3.925247    4.104372  \n",
       "std            16.312063   15.090325  \n",
       "min             0.000000    0.000000  \n",
       "25%             0.000000    0.000000  \n",
       "50%             0.000000    0.000000  \n",
       "75%             1.000000    1.000000  \n",
       "max           198.000000  165.000000  "
      ],
      "text/html": "<div>\n<style scoped>\n    .dataframe tbody tr th:only-of-type {\n        vertical-align: middle;\n    }\n\n    .dataframe tbody tr th {\n        vertical-align: top;\n    }\n\n    .dataframe thead th {\n        text-align: right;\n    }\n</style>\n<table border=\"1\" class=\"dataframe\">\n  <thead>\n    <tr style=\"text-align: right;\">\n      <th>cuisine_name</th>\n      <th>Chinese</th>\n      <th>English</th>\n      <th>French</th>\n      <th>German</th>\n      <th>Greek</th>\n      <th>Indian</th>\n      <th>Italian</th>\n      <th>Japanese</th>\n      <th>Mexican</th>\n      <th>Moroccan</th>\n      <th>Spanish</th>\n      <th>Thai</th>\n    </tr>\n  </thead>\n  <tbody>\n    <tr>\n      <th>count</th>\n      <td>709.000000</td>\n      <td>709.000000</td>\n      <td>709.000000</td>\n      <td>709.000000</td>\n      <td>709.000000</td>\n      <td>709.000000</td>\n      <td>709.000000</td>\n      <td>709.000000</td>\n      <td>709.000000</td>\n      <td>709.00000</td>\n      <td>709.000000</td>\n      <td>709.000000</td>\n    </tr>\n    <tr>\n      <th>mean</th>\n      <td>3.908322</td>\n      <td>3.214386</td>\n      <td>3.586742</td>\n      <td>3.342736</td>\n      <td>3.723554</td>\n      <td>4.562764</td>\n      <td>3.548660</td>\n      <td>3.125529</td>\n      <td>3.610719</td>\n      <td>4.54725</td>\n      <td>3.925247</td>\n      <td>4.104372</td>\n    </tr>\n    <tr>\n      <th>std</th>\n      <td>15.873308</td>\n      <td>10.697260</td>\n      <td>13.353406</td>\n      <td>11.930337</td>\n      <td>15.241549</td>\n      <td>18.074487</td>\n      <td>14.166463</td>\n      <td>11.992101</td>\n      <td>13.341799</td>\n      <td>17.99049</td>\n      <td>16.312063</td>\n      <td>15.090325</td>\n    </tr>\n    <tr>\n      <th>min</th>\n      <td>0.000000</td>\n      <td>0.000000</td>\n      <td>0.000000</td>\n      <td>0.000000</td>\n      <td>0.000000</td>\n      <td>0.000000</td>\n      <td>0.000000</td>\n      <td>0.000000</td>\n      <td>0.000000</td>\n      <td>0.00000</td>\n      <td>0.000000</td>\n      <td>0.000000</td>\n    </tr>\n    <tr>\n      <th>25%</th>\n      <td>0.000000</td>\n      <td>0.000000</td>\n      <td>0.000000</td>\n      <td>0.000000</td>\n      <td>0.000000</td>\n      <td>0.000000</td>\n      <td>0.000000</td>\n      <td>0.000000</td>\n      <td>0.000000</td>\n      <td>0.00000</td>\n      <td>0.000000</td>\n      <td>0.000000</td>\n    </tr>\n    <tr>\n      <th>50%</th>\n      <td>0.000000</td>\n      <td>0.000000</td>\n      <td>0.000000</td>\n      <td>0.000000</td>\n      <td>0.000000</td>\n      <td>0.000000</td>\n      <td>0.000000</td>\n      <td>0.000000</td>\n      <td>0.000000</td>\n      <td>0.00000</td>\n      <td>0.000000</td>\n      <td>0.000000</td>\n    </tr>\n    <tr>\n      <th>75%</th>\n      <td>1.000000</td>\n      <td>2.000000</td>\n      <td>1.000000</td>\n      <td>1.000000</td>\n      <td>1.000000</td>\n      <td>1.000000</td>\n      <td>1.000000</td>\n      <td>1.000000</td>\n      <td>1.000000</td>\n      <td>1.00000</td>\n      <td>1.000000</td>\n      <td>1.000000</td>\n    </tr>\n    <tr>\n      <th>max</th>\n      <td>208.000000</td>\n      <td>131.000000</td>\n      <td>132.000000</td>\n      <td>157.000000</td>\n      <td>173.000000</td>\n      <td>186.000000</td>\n      <td>155.000000</td>\n      <td>171.000000</td>\n      <td>134.000000</td>\n      <td>185.00000</td>\n      <td>198.000000</td>\n      <td>165.000000</td>\n    </tr>\n  </tbody>\n</table>\n</div>"
     },
     "metadata": {},
     "execution_count": 7
    }
   ],
   "source": [
    "a = train_cuisines.groupby(\"cuisine_name\").sum()\n",
    "a.T.describe()"
   ]
  },
  {
   "cell_type": "code",
   "execution_count": 8,
   "metadata": {},
   "outputs": [],
   "source": [
    "# Get the most popular ingredients in recipes\n",
    "sums = pd.DataFrame(train_cuisines.drop(columns =[\"cuisine_name\"]).sum(axis = 0), columns = [\"counter\"])"
   ]
  },
  {
   "cell_type": "code",
   "execution_count": 56,
   "metadata": {},
   "outputs": [
    {
     "output_type": "execute_result",
     "data": {
      "text/plain": [
       "         garlic  onion  salt  olive_oil  chicken  pepper  tomato  water  \\\n",
       "counter    1622   1502   948        944      938     806     670    612   \n",
       "\n",
       "         ginger  butter  \n",
       "counter     596     545  "
      ],
      "text/html": "<div>\n<style scoped>\n    .dataframe tbody tr th:only-of-type {\n        vertical-align: middle;\n    }\n\n    .dataframe tbody tr th {\n        vertical-align: top;\n    }\n\n    .dataframe thead th {\n        text-align: right;\n    }\n</style>\n<table border=\"1\" class=\"dataframe\">\n  <thead>\n    <tr style=\"text-align: right;\">\n      <th></th>\n      <th>garlic</th>\n      <th>onion</th>\n      <th>salt</th>\n      <th>olive_oil</th>\n      <th>chicken</th>\n      <th>pepper</th>\n      <th>tomato</th>\n      <th>water</th>\n      <th>ginger</th>\n      <th>butter</th>\n    </tr>\n  </thead>\n  <tbody>\n    <tr>\n      <th>counter</th>\n      <td>1622</td>\n      <td>1502</td>\n      <td>948</td>\n      <td>944</td>\n      <td>938</td>\n      <td>806</td>\n      <td>670</td>\n      <td>612</td>\n      <td>596</td>\n      <td>545</td>\n    </tr>\n  </tbody>\n</table>\n</div>"
     },
     "metadata": {},
     "execution_count": 56
    }
   ],
   "source": [
    "# Top 10 ingredients\n",
    "sums.sort_values(ascending = False, by = \"counter\").head(10).T\n",
    "\n",
    "#top5 = [1622, 1502, 948, 944, 938]\n",
    "#statistics.median(top5)\n",
    "#statistics.mean(top5)"
   ]
  },
  {
   "cell_type": "code",
   "execution_count": 10,
   "metadata": {},
   "outputs": [
    {
     "output_type": "execute_result",
     "data": {
      "text/plain": [
       "         cranberry_bean  amaretti  spaetzle  togarashi  masoor_dal  argan_oil  \\\n",
       "counter               0         0         0          0           0          0   \n",
       "\n",
       "         asiago_cheese  ponzu  semolina  Italian_spices  \n",
       "counter              0      0         0               0  "
      ],
      "text/html": "<div>\n<style scoped>\n    .dataframe tbody tr th:only-of-type {\n        vertical-align: middle;\n    }\n\n    .dataframe tbody tr th {\n        vertical-align: top;\n    }\n\n    .dataframe thead th {\n        text-align: right;\n    }\n</style>\n<table border=\"1\" class=\"dataframe\">\n  <thead>\n    <tr style=\"text-align: right;\">\n      <th></th>\n      <th>cranberry_bean</th>\n      <th>amaretti</th>\n      <th>spaetzle</th>\n      <th>togarashi</th>\n      <th>masoor_dal</th>\n      <th>argan_oil</th>\n      <th>asiago_cheese</th>\n      <th>ponzu</th>\n      <th>semolina</th>\n      <th>Italian_spices</th>\n    </tr>\n  </thead>\n  <tbody>\n    <tr>\n      <th>counter</th>\n      <td>0</td>\n      <td>0</td>\n      <td>0</td>\n      <td>0</td>\n      <td>0</td>\n      <td>0</td>\n      <td>0</td>\n      <td>0</td>\n      <td>0</td>\n      <td>0</td>\n    </tr>\n  </tbody>\n</table>\n</div>"
     },
     "metadata": {},
     "execution_count": 10
    }
   ],
   "source": [
    "# Top 10 least popular ingredients\n",
    "sums.sort_values(ascending = False, by = \"counter\").tail(10).T"
   ]
  },
  {
   "source": [
    "### Cuisine analysis"
   ],
   "cell_type": "markdown",
   "metadata": {}
  },
  {
   "cell_type": "code",
   "execution_count": 11,
   "metadata": {},
   "outputs": [],
   "source": [
    "# Group by cuisine\n",
    "cuisine_recipes = pd.DataFrame({'recipes': recipes_vis.groupby\n",
    "                                ([\"cuisine\", \"cuisine_name\", \"ingredient_count\"]).\n",
    "                                size()}).reset_index()"
   ]
  },
  {
   "cell_type": "code",
   "execution_count": 12,
   "metadata": {},
   "outputs": [
    {
     "output_type": "execute_result",
     "data": {
      "text/plain": [
       "         count       mean       std  min   25%   50%    75%   max\n",
       "cuisine                                                          \n",
       "0         17.0  12.117647  5.266431  4.0  8.00  12.0  16.00  22.0\n",
       "1         17.0  11.117647  5.242642  3.0  7.00  11.0  15.00  20.0\n",
       "2         20.0  12.700000  6.308724  3.0  7.75  12.5  17.25  26.0\n",
       "3         18.0  11.666667  5.656854  3.0  7.25  11.5  15.75  23.0\n",
       "4         19.0  12.000000  5.627314  3.0  7.50  12.0  16.50  21.0\n",
       "5         18.0  13.555556  5.436502  5.0  9.25  13.5  17.75  23.0\n",
       "6         20.0  12.700000  6.241626  3.0  7.75  12.5  17.25  24.0\n",
       "7         17.0  11.352941  5.600683  3.0  7.00  11.0  15.00  22.0\n",
       "8         19.0  13.105263  5.801290  4.0  8.50  13.0  17.50  23.0\n",
       "9         21.0  14.047619  6.445744  3.0  9.00  14.0  19.00  25.0\n",
       "10        19.0  12.052632  5.720079  3.0  7.50  12.0  16.50  22.0\n",
       "11        17.0  12.000000  5.049752  4.0  8.00  12.0  16.00  20.0"
      ],
      "text/html": "<div>\n<style scoped>\n    .dataframe tbody tr th:only-of-type {\n        vertical-align: middle;\n    }\n\n    .dataframe tbody tr th {\n        vertical-align: top;\n    }\n\n    .dataframe thead th {\n        text-align: right;\n    }\n</style>\n<table border=\"1\" class=\"dataframe\">\n  <thead>\n    <tr style=\"text-align: right;\">\n      <th></th>\n      <th>count</th>\n      <th>mean</th>\n      <th>std</th>\n      <th>min</th>\n      <th>25%</th>\n      <th>50%</th>\n      <th>75%</th>\n      <th>max</th>\n    </tr>\n    <tr>\n      <th>cuisine</th>\n      <th></th>\n      <th></th>\n      <th></th>\n      <th></th>\n      <th></th>\n      <th></th>\n      <th></th>\n      <th></th>\n    </tr>\n  </thead>\n  <tbody>\n    <tr>\n      <th>0</th>\n      <td>17.0</td>\n      <td>12.117647</td>\n      <td>5.266431</td>\n      <td>4.0</td>\n      <td>8.00</td>\n      <td>12.0</td>\n      <td>16.00</td>\n      <td>22.0</td>\n    </tr>\n    <tr>\n      <th>1</th>\n      <td>17.0</td>\n      <td>11.117647</td>\n      <td>5.242642</td>\n      <td>3.0</td>\n      <td>7.00</td>\n      <td>11.0</td>\n      <td>15.00</td>\n      <td>20.0</td>\n    </tr>\n    <tr>\n      <th>2</th>\n      <td>20.0</td>\n      <td>12.700000</td>\n      <td>6.308724</td>\n      <td>3.0</td>\n      <td>7.75</td>\n      <td>12.5</td>\n      <td>17.25</td>\n      <td>26.0</td>\n    </tr>\n    <tr>\n      <th>3</th>\n      <td>18.0</td>\n      <td>11.666667</td>\n      <td>5.656854</td>\n      <td>3.0</td>\n      <td>7.25</td>\n      <td>11.5</td>\n      <td>15.75</td>\n      <td>23.0</td>\n    </tr>\n    <tr>\n      <th>4</th>\n      <td>19.0</td>\n      <td>12.000000</td>\n      <td>5.627314</td>\n      <td>3.0</td>\n      <td>7.50</td>\n      <td>12.0</td>\n      <td>16.50</td>\n      <td>21.0</td>\n    </tr>\n    <tr>\n      <th>5</th>\n      <td>18.0</td>\n      <td>13.555556</td>\n      <td>5.436502</td>\n      <td>5.0</td>\n      <td>9.25</td>\n      <td>13.5</td>\n      <td>17.75</td>\n      <td>23.0</td>\n    </tr>\n    <tr>\n      <th>6</th>\n      <td>20.0</td>\n      <td>12.700000</td>\n      <td>6.241626</td>\n      <td>3.0</td>\n      <td>7.75</td>\n      <td>12.5</td>\n      <td>17.25</td>\n      <td>24.0</td>\n    </tr>\n    <tr>\n      <th>7</th>\n      <td>17.0</td>\n      <td>11.352941</td>\n      <td>5.600683</td>\n      <td>3.0</td>\n      <td>7.00</td>\n      <td>11.0</td>\n      <td>15.00</td>\n      <td>22.0</td>\n    </tr>\n    <tr>\n      <th>8</th>\n      <td>19.0</td>\n      <td>13.105263</td>\n      <td>5.801290</td>\n      <td>4.0</td>\n      <td>8.50</td>\n      <td>13.0</td>\n      <td>17.50</td>\n      <td>23.0</td>\n    </tr>\n    <tr>\n      <th>9</th>\n      <td>21.0</td>\n      <td>14.047619</td>\n      <td>6.445744</td>\n      <td>3.0</td>\n      <td>9.00</td>\n      <td>14.0</td>\n      <td>19.00</td>\n      <td>25.0</td>\n    </tr>\n    <tr>\n      <th>10</th>\n      <td>19.0</td>\n      <td>12.052632</td>\n      <td>5.720079</td>\n      <td>3.0</td>\n      <td>7.50</td>\n      <td>12.0</td>\n      <td>16.50</td>\n      <td>22.0</td>\n    </tr>\n    <tr>\n      <th>11</th>\n      <td>17.0</td>\n      <td>12.000000</td>\n      <td>5.049752</td>\n      <td>4.0</td>\n      <td>8.00</td>\n      <td>12.0</td>\n      <td>16.00</td>\n      <td>20.0</td>\n    </tr>\n  </tbody>\n</table>\n</div>"
     },
     "metadata": {},
     "execution_count": 12
    }
   ],
   "source": [
    "# ingredient count statistics\n",
    "cuisine_recipes.groupby(\"cuisine\").ingredient_count.describe()"
   ]
  },
  {
   "cell_type": "code",
   "execution_count": 13,
   "metadata": {},
   "outputs": [
    {
     "output_type": "execute_result",
     "data": {
      "text/plain": [
       "<AxesSubplot:xlabel='cuisine_name', ylabel='ingredient_count'>"
      ]
     },
     "metadata": {},
     "execution_count": 13
    },
    {
     "output_type": "display_data",
     "data": {
      "text/plain": "<Figure size 640x400 with 1 Axes>",
      "image/svg+xml": "<?xml version=\"1.0\" encoding=\"utf-8\" standalone=\"no\"?>\r\n<!DOCTYPE svg PUBLIC \"-//W3C//DTD SVG 1.1//EN\"\r\n  \"http://www.w3.org/Graphics/SVG/1.1/DTD/svg11.dtd\">\r\n<!-- Created with matplotlib (https://matplotlib.org/) -->\r\n<svg height=\"345.561526pt\" version=\"1.1\" viewBox=\"0 0 494.48125 345.561526\" width=\"494.48125pt\" xmlns=\"http://www.w3.org/2000/svg\" xmlns:xlink=\"http://www.w3.org/1999/xlink\">\r\n <metadata>\r\n  <rdf:RDF xmlns:cc=\"http://creativecommons.org/ns#\" xmlns:dc=\"http://purl.org/dc/elements/1.1/\" xmlns:rdf=\"http://www.w3.org/1999/02/22-rdf-syntax-ns#\">\r\n   <cc:Work>\r\n    <dc:type rdf:resource=\"http://purl.org/dc/dcmitype/StillImage\"/>\r\n    <dc:date>2021-04-14T11:17:43.791380</dc:date>\r\n    <dc:format>image/svg+xml</dc:format>\r\n    <dc:creator>\r\n     <cc:Agent>\r\n      <dc:title>Matplotlib v3.3.3, https://matplotlib.org/</dc:title>\r\n     </cc:Agent>\r\n    </dc:creator>\r\n   </cc:Work>\r\n  </rdf:RDF>\r\n </metadata>\r\n <defs>\r\n  <style type=\"text/css\">*{stroke-linecap:butt;stroke-linejoin:round;}</style>\r\n </defs>\r\n <g id=\"figure_1\">\r\n  <g id=\"patch_1\">\r\n   <path d=\"M 0 345.561526 \r\nL 494.48125 345.561526 \r\nL 494.48125 0 \r\nL 0 0 \r\nz\r\n\" style=\"fill:none;\"/>\r\n  </g>\r\n  <g id=\"axes_1\">\r\n   <g id=\"patch_2\">\r\n    <path d=\"M 40.88125 279 \r\nL 487.28125 279 \r\nL 487.28125 7.2 \r\nL 40.88125 7.2 \r\nz\r\n\" style=\"fill:#ffffff;\"/>\r\n   </g>\r\n   <g id=\"patch_3\">\r\n    <path clip-path=\"url(#p5100be2007)\" d=\"M 44.60125 212.93004 \r\nL 74.36125 212.93004 \r\nL 74.36125 126.985375 \r\nL 44.60125 126.985375 \r\nL 44.60125 212.93004 \r\nz\r\n\" style=\"fill:#ea96a3;stroke:#464646;stroke-linejoin:miter;stroke-width:1.5;\"/>\r\n   </g>\r\n   <g id=\"patch_4\">\r\n    <path clip-path=\"url(#p5100be2007)\" d=\"M 81.80125 223.673123 \r\nL 111.56125 223.673123 \r\nL 111.56125 137.728458 \r\nL 81.80125 137.728458 \r\nL 81.80125 223.673123 \r\nz\r\n\" style=\"fill:#e19153;stroke:#464646;stroke-linejoin:miter;stroke-width:1.5;\"/>\r\n   </g>\r\n   <g id=\"patch_5\">\r\n    <path clip-path=\"url(#p5100be2007)\" d=\"M 119.00125 215.61581 \r\nL 148.76125 215.61581 \r\nL 148.76125 113.556522 \r\nL 119.00125 113.556522 \r\nL 119.00125 215.61581 \r\nz\r\n\" style=\"fill:#b89c49;stroke:#464646;stroke-linejoin:miter;stroke-width:1.5;\"/>\r\n   </g>\r\n   <g id=\"patch_6\">\r\n    <path clip-path=\"url(#p5100be2007)\" d=\"M 156.20125 220.987352 \r\nL 185.96125 220.987352 \r\nL 185.96125 129.671146 \r\nL 156.20125 129.671146 \r\nL 156.20125 220.987352 \r\nz\r\n\" style=\"fill:#98a246;stroke:#464646;stroke-linejoin:miter;stroke-width:1.5;\"/>\r\n   </g>\r\n   <g id=\"patch_7\">\r\n    <path clip-path=\"url(#p5100be2007)\" d=\"M 193.40125 218.301581 \r\nL 223.16125 218.301581 \r\nL 223.16125 121.613834 \r\nL 193.40125 121.613834 \r\nL 193.40125 218.301581 \r\nz\r\n\" style=\"fill:#60ae47;stroke:#464646;stroke-linejoin:miter;stroke-width:1.5;\"/>\r\n   </g>\r\n   <g id=\"patch_8\">\r\n    <path clip-path=\"url(#p5100be2007)\" d=\"M 230.60125 199.501186 \r\nL 260.36125 199.501186 \r\nL 260.36125 108.18498 \r\nL 230.60125 108.18498 \r\nL 230.60125 199.501186 \r\nz\r\n\" style=\"fill:#4aae8a;stroke:#464646;stroke-linejoin:miter;stroke-width:1.5;\"/>\r\n   </g>\r\n   <g id=\"patch_9\">\r\n    <path clip-path=\"url(#p5100be2007)\" d=\"M 267.80125 215.61581 \r\nL 297.56125 215.61581 \r\nL 297.56125 113.556522 \r\nL 267.80125 113.556522 \r\nL 267.80125 215.61581 \r\nz\r\n\" style=\"fill:#4baba4;stroke:#464646;stroke-linejoin:miter;stroke-width:1.5;\"/>\r\n   </g>\r\n   <g id=\"patch_10\">\r\n    <path clip-path=\"url(#p5100be2007)\" d=\"M 305.00125 223.673123 \r\nL 334.76125 223.673123 \r\nL 334.76125 137.728458 \r\nL 305.00125 137.728458 \r\nL 305.00125 223.673123 \r\nz\r\n\" style=\"fill:#4fabbc;stroke:#464646;stroke-linejoin:miter;stroke-width:1.5;\"/>\r\n   </g>\r\n   <g id=\"patch_11\">\r\n    <path clip-path=\"url(#p5100be2007)\" d=\"M 342.20125 207.558498 \r\nL 371.96125 207.558498 \r\nL 371.96125 110.870751 \r\nL 342.20125 110.870751 \r\nL 342.20125 207.558498 \r\nz\r\n\" style=\"fill:#6daee2;stroke:#464646;stroke-linejoin:miter;stroke-width:1.5;\"/>\r\n   </g>\r\n   <g id=\"patch_12\">\r\n    <path clip-path=\"url(#p5100be2007)\" d=\"M 379.40125 202.186957 \r\nL 409.16125 202.186957 \r\nL 409.16125 94.756126 \r\nL 379.40125 94.756126 \r\nL 379.40125 202.186957 \r\nz\r\n\" style=\"fill:#b6a8eb;stroke:#464646;stroke-linejoin:miter;stroke-width:1.5;\"/>\r\n   </g>\r\n   <g id=\"patch_13\">\r\n    <path clip-path=\"url(#p5100be2007)\" d=\"M 416.60125 218.301581 \r\nL 446.36125 218.301581 \r\nL 446.36125 121.613834 \r\nL 416.60125 121.613834 \r\nL 416.60125 218.301581 \r\nz\r\n\" style=\"fill:#df8fe7;stroke:#464646;stroke-linejoin:miter;stroke-width:1.5;\"/>\r\n   </g>\r\n   <g id=\"patch_14\">\r\n    <path clip-path=\"url(#p5100be2007)\" d=\"M 453.80125 212.93004 \r\nL 483.56125 212.93004 \r\nL 483.56125 126.985375 \r\nL 453.80125 126.985375 \r\nL 453.80125 212.93004 \r\nz\r\n\" style=\"fill:#e890c6;stroke:#464646;stroke-linejoin:miter;stroke-width:1.5;\"/>\r\n   </g>\r\n   <g id=\"matplotlib.axis_1\">\r\n    <g id=\"xtick_1\">\r\n     <g id=\"line2d_1\">\r\n      <defs>\r\n       <path d=\"M 0 0 \r\nL 0 3.5 \r\n\" id=\"m7a5d243fb3\" style=\"stroke:#000000;stroke-width:0.8;\"/>\r\n      </defs>\r\n      <g>\r\n       <use style=\"stroke:#000000;stroke-width:0.8;\" x=\"59.48125\" xlink:href=\"#m7a5d243fb3\" y=\"279\"/>\r\n      </g>\r\n     </g>\r\n     <g id=\"text_1\">\r\n      <!-- Chinese -->\r\n      <g transform=\"translate(45.952606 317.50111)rotate(-40)scale(0.1 -0.1)\">\r\n       <defs>\r\n        <path d=\"M 64.40625 67.28125 \r\nL 64.40625 56.890625 \r\nQ 59.421875 61.53125 53.78125 63.8125 \r\nQ 48.140625 66.109375 41.796875 66.109375 \r\nQ 29.296875 66.109375 22.65625 58.46875 \r\nQ 16.015625 50.828125 16.015625 36.375 \r\nQ 16.015625 21.96875 22.65625 14.328125 \r\nQ 29.296875 6.6875 41.796875 6.6875 \r\nQ 48.140625 6.6875 53.78125 8.984375 \r\nQ 59.421875 11.28125 64.40625 15.921875 \r\nL 64.40625 5.609375 \r\nQ 59.234375 2.09375 53.4375 0.328125 \r\nQ 47.65625 -1.421875 41.21875 -1.421875 \r\nQ 24.65625 -1.421875 15.125 8.703125 \r\nQ 5.609375 18.84375 5.609375 36.375 \r\nQ 5.609375 53.953125 15.125 64.078125 \r\nQ 24.65625 74.21875 41.21875 74.21875 \r\nQ 47.75 74.21875 53.53125 72.484375 \r\nQ 59.328125 70.75 64.40625 67.28125 \r\nz\r\n\" id=\"DejaVuSans-67\"/>\r\n        <path d=\"M 54.890625 33.015625 \r\nL 54.890625 0 \r\nL 45.90625 0 \r\nL 45.90625 32.71875 \r\nQ 45.90625 40.484375 42.875 44.328125 \r\nQ 39.84375 48.1875 33.796875 48.1875 \r\nQ 26.515625 48.1875 22.3125 43.546875 \r\nQ 18.109375 38.921875 18.109375 30.90625 \r\nL 18.109375 0 \r\nL 9.078125 0 \r\nL 9.078125 75.984375 \r\nL 18.109375 75.984375 \r\nL 18.109375 46.1875 \r\nQ 21.34375 51.125 25.703125 53.5625 \r\nQ 30.078125 56 35.796875 56 \r\nQ 45.21875 56 50.046875 50.171875 \r\nQ 54.890625 44.34375 54.890625 33.015625 \r\nz\r\n\" id=\"DejaVuSans-104\"/>\r\n        <path d=\"M 9.421875 54.6875 \r\nL 18.40625 54.6875 \r\nL 18.40625 0 \r\nL 9.421875 0 \r\nz\r\nM 9.421875 75.984375 \r\nL 18.40625 75.984375 \r\nL 18.40625 64.59375 \r\nL 9.421875 64.59375 \r\nz\r\n\" id=\"DejaVuSans-105\"/>\r\n        <path d=\"M 54.890625 33.015625 \r\nL 54.890625 0 \r\nL 45.90625 0 \r\nL 45.90625 32.71875 \r\nQ 45.90625 40.484375 42.875 44.328125 \r\nQ 39.84375 48.1875 33.796875 48.1875 \r\nQ 26.515625 48.1875 22.3125 43.546875 \r\nQ 18.109375 38.921875 18.109375 30.90625 \r\nL 18.109375 0 \r\nL 9.078125 0 \r\nL 9.078125 54.6875 \r\nL 18.109375 54.6875 \r\nL 18.109375 46.1875 \r\nQ 21.34375 51.125 25.703125 53.5625 \r\nQ 30.078125 56 35.796875 56 \r\nQ 45.21875 56 50.046875 50.171875 \r\nQ 54.890625 44.34375 54.890625 33.015625 \r\nz\r\n\" id=\"DejaVuSans-110\"/>\r\n        <path d=\"M 56.203125 29.59375 \r\nL 56.203125 25.203125 \r\nL 14.890625 25.203125 \r\nQ 15.484375 15.921875 20.484375 11.0625 \r\nQ 25.484375 6.203125 34.421875 6.203125 \r\nQ 39.59375 6.203125 44.453125 7.46875 \r\nQ 49.3125 8.734375 54.109375 11.28125 \r\nL 54.109375 2.78125 \r\nQ 49.265625 0.734375 44.1875 -0.34375 \r\nQ 39.109375 -1.421875 33.890625 -1.421875 \r\nQ 20.796875 -1.421875 13.15625 6.1875 \r\nQ 5.515625 13.8125 5.515625 26.8125 \r\nQ 5.515625 40.234375 12.765625 48.109375 \r\nQ 20.015625 56 32.328125 56 \r\nQ 43.359375 56 49.78125 48.890625 \r\nQ 56.203125 41.796875 56.203125 29.59375 \r\nz\r\nM 47.21875 32.234375 \r\nQ 47.125 39.59375 43.09375 43.984375 \r\nQ 39.0625 48.390625 32.421875 48.390625 \r\nQ 24.90625 48.390625 20.390625 44.140625 \r\nQ 15.875 39.890625 15.1875 32.171875 \r\nz\r\n\" id=\"DejaVuSans-101\"/>\r\n        <path d=\"M 44.28125 53.078125 \r\nL 44.28125 44.578125 \r\nQ 40.484375 46.53125 36.375 47.5 \r\nQ 32.28125 48.484375 27.875 48.484375 \r\nQ 21.1875 48.484375 17.84375 46.4375 \r\nQ 14.5 44.390625 14.5 40.28125 \r\nQ 14.5 37.15625 16.890625 35.375 \r\nQ 19.28125 33.59375 26.515625 31.984375 \r\nL 29.59375 31.296875 \r\nQ 39.15625 29.25 43.1875 25.515625 \r\nQ 47.21875 21.78125 47.21875 15.09375 \r\nQ 47.21875 7.46875 41.1875 3.015625 \r\nQ 35.15625 -1.421875 24.609375 -1.421875 \r\nQ 20.21875 -1.421875 15.453125 -0.5625 \r\nQ 10.6875 0.296875 5.421875 2 \r\nL 5.421875 11.28125 \r\nQ 10.40625 8.6875 15.234375 7.390625 \r\nQ 20.0625 6.109375 24.8125 6.109375 \r\nQ 31.15625 6.109375 34.5625 8.28125 \r\nQ 37.984375 10.453125 37.984375 14.40625 \r\nQ 37.984375 18.0625 35.515625 20.015625 \r\nQ 33.0625 21.96875 24.703125 23.78125 \r\nL 21.578125 24.515625 \r\nQ 13.234375 26.265625 9.515625 29.90625 \r\nQ 5.8125 33.546875 5.8125 39.890625 \r\nQ 5.8125 47.609375 11.28125 51.796875 \r\nQ 16.75 56 26.8125 56 \r\nQ 31.78125 56 36.171875 55.265625 \r\nQ 40.578125 54.546875 44.28125 53.078125 \r\nz\r\n\" id=\"DejaVuSans-115\"/>\r\n       </defs>\r\n       <use xlink:href=\"#DejaVuSans-67\"/>\r\n       <use x=\"69.824219\" xlink:href=\"#DejaVuSans-104\"/>\r\n       <use x=\"133.203125\" xlink:href=\"#DejaVuSans-105\"/>\r\n       <use x=\"160.986328\" xlink:href=\"#DejaVuSans-110\"/>\r\n       <use x=\"224.365234\" xlink:href=\"#DejaVuSans-101\"/>\r\n       <use x=\"285.888672\" xlink:href=\"#DejaVuSans-115\"/>\r\n       <use x=\"337.988281\" xlink:href=\"#DejaVuSans-101\"/>\r\n      </g>\r\n     </g>\r\n    </g>\r\n    <g id=\"xtick_2\">\r\n     <g id=\"line2d_2\">\r\n      <g>\r\n       <use style=\"stroke:#000000;stroke-width:0.8;\" x=\"96.68125\" xlink:href=\"#m7a5d243fb3\" y=\"279\"/>\r\n      </g>\r\n     </g>\r\n     <g id=\"text_2\">\r\n      <!-- English -->\r\n      <g transform=\"translate(84.624848 315.030395)rotate(-40)scale(0.1 -0.1)\">\r\n       <defs>\r\n        <path d=\"M 9.8125 72.90625 \r\nL 55.90625 72.90625 \r\nL 55.90625 64.59375 \r\nL 19.671875 64.59375 \r\nL 19.671875 43.015625 \r\nL 54.390625 43.015625 \r\nL 54.390625 34.71875 \r\nL 19.671875 34.71875 \r\nL 19.671875 8.296875 \r\nL 56.78125 8.296875 \r\nL 56.78125 0 \r\nL 9.8125 0 \r\nz\r\n\" id=\"DejaVuSans-69\"/>\r\n        <path d=\"M 45.40625 27.984375 \r\nQ 45.40625 37.75 41.375 43.109375 \r\nQ 37.359375 48.484375 30.078125 48.484375 \r\nQ 22.859375 48.484375 18.828125 43.109375 \r\nQ 14.796875 37.75 14.796875 27.984375 \r\nQ 14.796875 18.265625 18.828125 12.890625 \r\nQ 22.859375 7.515625 30.078125 7.515625 \r\nQ 37.359375 7.515625 41.375 12.890625 \r\nQ 45.40625 18.265625 45.40625 27.984375 \r\nz\r\nM 54.390625 6.78125 \r\nQ 54.390625 -7.171875 48.1875 -13.984375 \r\nQ 42 -20.796875 29.203125 -20.796875 \r\nQ 24.46875 -20.796875 20.265625 -20.09375 \r\nQ 16.0625 -19.390625 12.109375 -17.921875 \r\nL 12.109375 -9.1875 \r\nQ 16.0625 -11.328125 19.921875 -12.34375 \r\nQ 23.78125 -13.375 27.78125 -13.375 \r\nQ 36.625 -13.375 41.015625 -8.765625 \r\nQ 45.40625 -4.15625 45.40625 5.171875 \r\nL 45.40625 9.625 \r\nQ 42.625 4.78125 38.28125 2.390625 \r\nQ 33.9375 0 27.875 0 \r\nQ 17.828125 0 11.671875 7.65625 \r\nQ 5.515625 15.328125 5.515625 27.984375 \r\nQ 5.515625 40.671875 11.671875 48.328125 \r\nQ 17.828125 56 27.875 56 \r\nQ 33.9375 56 38.28125 53.609375 \r\nQ 42.625 51.21875 45.40625 46.390625 \r\nL 45.40625 54.6875 \r\nL 54.390625 54.6875 \r\nz\r\n\" id=\"DejaVuSans-103\"/>\r\n        <path d=\"M 9.421875 75.984375 \r\nL 18.40625 75.984375 \r\nL 18.40625 0 \r\nL 9.421875 0 \r\nz\r\n\" id=\"DejaVuSans-108\"/>\r\n       </defs>\r\n       <use xlink:href=\"#DejaVuSans-69\"/>\r\n       <use x=\"63.183594\" xlink:href=\"#DejaVuSans-110\"/>\r\n       <use x=\"126.5625\" xlink:href=\"#DejaVuSans-103\"/>\r\n       <use x=\"190.039062\" xlink:href=\"#DejaVuSans-108\"/>\r\n       <use x=\"217.822266\" xlink:href=\"#DejaVuSans-105\"/>\r\n       <use x=\"245.605469\" xlink:href=\"#DejaVuSans-115\"/>\r\n       <use x=\"297.705078\" xlink:href=\"#DejaVuSans-104\"/>\r\n      </g>\r\n     </g>\r\n    </g>\r\n    <g id=\"xtick_3\">\r\n     <g id=\"line2d_3\">\r\n      <g>\r\n       <use style=\"stroke:#000000;stroke-width:0.8;\" x=\"133.88125\" xlink:href=\"#m7a5d243fb3\" y=\"279\"/>\r\n      </g>\r\n     </g>\r\n     <g id=\"text_3\">\r\n      <!-- French -->\r\n      <g transform=\"translate(122.923642 313.186398)rotate(-40)scale(0.1 -0.1)\">\r\n       <defs>\r\n        <path d=\"M 9.8125 72.90625 \r\nL 51.703125 72.90625 \r\nL 51.703125 64.59375 \r\nL 19.671875 64.59375 \r\nL 19.671875 43.109375 \r\nL 48.578125 43.109375 \r\nL 48.578125 34.8125 \r\nL 19.671875 34.8125 \r\nL 19.671875 0 \r\nL 9.8125 0 \r\nz\r\n\" id=\"DejaVuSans-70\"/>\r\n        <path d=\"M 41.109375 46.296875 \r\nQ 39.59375 47.171875 37.8125 47.578125 \r\nQ 36.03125 48 33.890625 48 \r\nQ 26.265625 48 22.1875 43.046875 \r\nQ 18.109375 38.09375 18.109375 28.8125 \r\nL 18.109375 0 \r\nL 9.078125 0 \r\nL 9.078125 54.6875 \r\nL 18.109375 54.6875 \r\nL 18.109375 46.1875 \r\nQ 20.953125 51.171875 25.484375 53.578125 \r\nQ 30.03125 56 36.53125 56 \r\nQ 37.453125 56 38.578125 55.875 \r\nQ 39.703125 55.765625 41.0625 55.515625 \r\nz\r\n\" id=\"DejaVuSans-114\"/>\r\n        <path d=\"M 48.78125 52.59375 \r\nL 48.78125 44.1875 \r\nQ 44.96875 46.296875 41.140625 47.34375 \r\nQ 37.3125 48.390625 33.40625 48.390625 \r\nQ 24.65625 48.390625 19.8125 42.84375 \r\nQ 14.984375 37.3125 14.984375 27.296875 \r\nQ 14.984375 17.28125 19.8125 11.734375 \r\nQ 24.65625 6.203125 33.40625 6.203125 \r\nQ 37.3125 6.203125 41.140625 7.25 \r\nQ 44.96875 8.296875 48.78125 10.40625 \r\nL 48.78125 2.09375 \r\nQ 45.015625 0.34375 40.984375 -0.53125 \r\nQ 36.96875 -1.421875 32.421875 -1.421875 \r\nQ 20.0625 -1.421875 12.78125 6.34375 \r\nQ 5.515625 14.109375 5.515625 27.296875 \r\nQ 5.515625 40.671875 12.859375 48.328125 \r\nQ 20.21875 56 33.015625 56 \r\nQ 37.15625 56 41.109375 55.140625 \r\nQ 45.0625 54.296875 48.78125 52.59375 \r\nz\r\n\" id=\"DejaVuSans-99\"/>\r\n       </defs>\r\n       <use xlink:href=\"#DejaVuSans-70\"/>\r\n       <use x=\"50.269531\" xlink:href=\"#DejaVuSans-114\"/>\r\n       <use x=\"89.132812\" xlink:href=\"#DejaVuSans-101\"/>\r\n       <use x=\"150.65625\" xlink:href=\"#DejaVuSans-110\"/>\r\n       <use x=\"214.035156\" xlink:href=\"#DejaVuSans-99\"/>\r\n       <use x=\"269.015625\" xlink:href=\"#DejaVuSans-104\"/>\r\n      </g>\r\n     </g>\r\n    </g>\r\n    <g id=\"xtick_4\">\r\n     <g id=\"line2d_4\">\r\n      <g>\r\n       <use style=\"stroke:#000000;stroke-width:0.8;\" x=\"171.08125\" xlink:href=\"#m7a5d243fb3\" y=\"279\"/>\r\n      </g>\r\n     </g>\r\n     <g id=\"text_4\">\r\n      <!-- German -->\r\n      <g transform=\"translate(157.517296 317.560367)rotate(-40)scale(0.1 -0.1)\">\r\n       <defs>\r\n        <path d=\"M 59.515625 10.40625 \r\nL 59.515625 29.984375 \r\nL 43.40625 29.984375 \r\nL 43.40625 38.09375 \r\nL 69.28125 38.09375 \r\nL 69.28125 6.78125 \r\nQ 63.578125 2.734375 56.6875 0.65625 \r\nQ 49.8125 -1.421875 42 -1.421875 \r\nQ 24.90625 -1.421875 15.25 8.5625 \r\nQ 5.609375 18.5625 5.609375 36.375 \r\nQ 5.609375 54.25 15.25 64.234375 \r\nQ 24.90625 74.21875 42 74.21875 \r\nQ 49.125 74.21875 55.546875 72.453125 \r\nQ 61.96875 70.703125 67.390625 67.28125 \r\nL 67.390625 56.78125 \r\nQ 61.921875 61.421875 55.765625 63.765625 \r\nQ 49.609375 66.109375 42.828125 66.109375 \r\nQ 29.4375 66.109375 22.71875 58.640625 \r\nQ 16.015625 51.171875 16.015625 36.375 \r\nQ 16.015625 21.625 22.71875 14.15625 \r\nQ 29.4375 6.6875 42.828125 6.6875 \r\nQ 48.046875 6.6875 52.140625 7.59375 \r\nQ 56.25 8.5 59.515625 10.40625 \r\nz\r\n\" id=\"DejaVuSans-71\"/>\r\n        <path d=\"M 52 44.1875 \r\nQ 55.375 50.25 60.0625 53.125 \r\nQ 64.75 56 71.09375 56 \r\nQ 79.640625 56 84.28125 50.015625 \r\nQ 88.921875 44.046875 88.921875 33.015625 \r\nL 88.921875 0 \r\nL 79.890625 0 \r\nL 79.890625 32.71875 \r\nQ 79.890625 40.578125 77.09375 44.375 \r\nQ 74.3125 48.1875 68.609375 48.1875 \r\nQ 61.625 48.1875 57.5625 43.546875 \r\nQ 53.515625 38.921875 53.515625 30.90625 \r\nL 53.515625 0 \r\nL 44.484375 0 \r\nL 44.484375 32.71875 \r\nQ 44.484375 40.625 41.703125 44.40625 \r\nQ 38.921875 48.1875 33.109375 48.1875 \r\nQ 26.21875 48.1875 22.15625 43.53125 \r\nQ 18.109375 38.875 18.109375 30.90625 \r\nL 18.109375 0 \r\nL 9.078125 0 \r\nL 9.078125 54.6875 \r\nL 18.109375 54.6875 \r\nL 18.109375 46.1875 \r\nQ 21.1875 51.21875 25.484375 53.609375 \r\nQ 29.78125 56 35.6875 56 \r\nQ 41.65625 56 45.828125 52.96875 \r\nQ 50 49.953125 52 44.1875 \r\nz\r\n\" id=\"DejaVuSans-109\"/>\r\n        <path d=\"M 34.28125 27.484375 \r\nQ 23.390625 27.484375 19.1875 25 \r\nQ 14.984375 22.515625 14.984375 16.5 \r\nQ 14.984375 11.71875 18.140625 8.90625 \r\nQ 21.296875 6.109375 26.703125 6.109375 \r\nQ 34.1875 6.109375 38.703125 11.40625 \r\nQ 43.21875 16.703125 43.21875 25.484375 \r\nL 43.21875 27.484375 \r\nz\r\nM 52.203125 31.203125 \r\nL 52.203125 0 \r\nL 43.21875 0 \r\nL 43.21875 8.296875 \r\nQ 40.140625 3.328125 35.546875 0.953125 \r\nQ 30.953125 -1.421875 24.3125 -1.421875 \r\nQ 15.921875 -1.421875 10.953125 3.296875 \r\nQ 6 8.015625 6 15.921875 \r\nQ 6 25.140625 12.171875 29.828125 \r\nQ 18.359375 34.515625 30.609375 34.515625 \r\nL 43.21875 34.515625 \r\nL 43.21875 35.40625 \r\nQ 43.21875 41.609375 39.140625 45 \r\nQ 35.0625 48.390625 27.6875 48.390625 \r\nQ 23 48.390625 18.546875 47.265625 \r\nQ 14.109375 46.140625 10.015625 43.890625 \r\nL 10.015625 52.203125 \r\nQ 14.9375 54.109375 19.578125 55.046875 \r\nQ 24.21875 56 28.609375 56 \r\nQ 40.484375 56 46.34375 49.84375 \r\nQ 52.203125 43.703125 52.203125 31.203125 \r\nz\r\n\" id=\"DejaVuSans-97\"/>\r\n       </defs>\r\n       <use xlink:href=\"#DejaVuSans-71\"/>\r\n       <use x=\"77.490234\" xlink:href=\"#DejaVuSans-101\"/>\r\n       <use x=\"139.013672\" xlink:href=\"#DejaVuSans-114\"/>\r\n       <use x=\"178.376953\" xlink:href=\"#DejaVuSans-109\"/>\r\n       <use x=\"275.789062\" xlink:href=\"#DejaVuSans-97\"/>\r\n       <use x=\"337.068359\" xlink:href=\"#DejaVuSans-110\"/>\r\n      </g>\r\n     </g>\r\n    </g>\r\n    <g id=\"xtick_5\">\r\n     <g id=\"line2d_5\">\r\n      <g>\r\n       <use style=\"stroke:#000000;stroke-width:0.8;\" x=\"208.28125\" xlink:href=\"#m7a5d243fb3\" y=\"279\"/>\r\n      </g>\r\n     </g>\r\n     <g id=\"text_5\">\r\n      <!-- Greek -->\r\n      <g transform=\"translate(198.667213 310.93162)rotate(-40)scale(0.1 -0.1)\">\r\n       <defs>\r\n        <path d=\"M 9.078125 75.984375 \r\nL 18.109375 75.984375 \r\nL 18.109375 31.109375 \r\nL 44.921875 54.6875 \r\nL 56.390625 54.6875 \r\nL 27.390625 29.109375 \r\nL 57.625 0 \r\nL 45.90625 0 \r\nL 18.109375 26.703125 \r\nL 18.109375 0 \r\nL 9.078125 0 \r\nz\r\n\" id=\"DejaVuSans-107\"/>\r\n       </defs>\r\n       <use xlink:href=\"#DejaVuSans-71\"/>\r\n       <use x=\"77.490234\" xlink:href=\"#DejaVuSans-114\"/>\r\n       <use x=\"116.353516\" xlink:href=\"#DejaVuSans-101\"/>\r\n       <use x=\"177.876953\" xlink:href=\"#DejaVuSans-101\"/>\r\n       <use x=\"239.400391\" xlink:href=\"#DejaVuSans-107\"/>\r\n      </g>\r\n     </g>\r\n    </g>\r\n    <g id=\"xtick_6\">\r\n     <g id=\"line2d_6\">\r\n      <g>\r\n       <use style=\"stroke:#000000;stroke-width:0.8;\" x=\"245.48125\" xlink:href=\"#m7a5d243fb3\" y=\"279\"/>\r\n      </g>\r\n     </g>\r\n     <g id=\"text_6\">\r\n      <!-- Indian -->\r\n      <g transform=\"translate(235.427336 311.669821)rotate(-40)scale(0.1 -0.1)\">\r\n       <defs>\r\n        <path d=\"M 9.8125 72.90625 \r\nL 19.671875 72.90625 \r\nL 19.671875 0 \r\nL 9.8125 0 \r\nz\r\n\" id=\"DejaVuSans-73\"/>\r\n        <path d=\"M 45.40625 46.390625 \r\nL 45.40625 75.984375 \r\nL 54.390625 75.984375 \r\nL 54.390625 0 \r\nL 45.40625 0 \r\nL 45.40625 8.203125 \r\nQ 42.578125 3.328125 38.25 0.953125 \r\nQ 33.9375 -1.421875 27.875 -1.421875 \r\nQ 17.96875 -1.421875 11.734375 6.484375 \r\nQ 5.515625 14.40625 5.515625 27.296875 \r\nQ 5.515625 40.1875 11.734375 48.09375 \r\nQ 17.96875 56 27.875 56 \r\nQ 33.9375 56 38.25 53.625 \r\nQ 42.578125 51.265625 45.40625 46.390625 \r\nz\r\nM 14.796875 27.296875 \r\nQ 14.796875 17.390625 18.875 11.75 \r\nQ 22.953125 6.109375 30.078125 6.109375 \r\nQ 37.203125 6.109375 41.296875 11.75 \r\nQ 45.40625 17.390625 45.40625 27.296875 \r\nQ 45.40625 37.203125 41.296875 42.84375 \r\nQ 37.203125 48.484375 30.078125 48.484375 \r\nQ 22.953125 48.484375 18.875 42.84375 \r\nQ 14.796875 37.203125 14.796875 27.296875 \r\nz\r\n\" id=\"DejaVuSans-100\"/>\r\n       </defs>\r\n       <use xlink:href=\"#DejaVuSans-73\"/>\r\n       <use x=\"29.492188\" xlink:href=\"#DejaVuSans-110\"/>\r\n       <use x=\"92.871094\" xlink:href=\"#DejaVuSans-100\"/>\r\n       <use x=\"156.347656\" xlink:href=\"#DejaVuSans-105\"/>\r\n       <use x=\"184.130859\" xlink:href=\"#DejaVuSans-97\"/>\r\n       <use x=\"245.410156\" xlink:href=\"#DejaVuSans-110\"/>\r\n      </g>\r\n     </g>\r\n    </g>\r\n    <g id=\"xtick_7\">\r\n     <g id=\"line2d_7\">\r\n      <g>\r\n       <use style=\"stroke:#000000;stroke-width:0.8;\" x=\"282.68125\" xlink:href=\"#m7a5d243fb3\" y=\"279\"/>\r\n      </g>\r\n     </g>\r\n     <g id=\"text_7\">\r\n      <!-- Italian -->\r\n      <g transform=\"translate(272.573473 311.760213)rotate(-40)scale(0.1 -0.1)\">\r\n       <defs>\r\n        <path d=\"M 18.3125 70.21875 \r\nL 18.3125 54.6875 \r\nL 36.8125 54.6875 \r\nL 36.8125 47.703125 \r\nL 18.3125 47.703125 \r\nL 18.3125 18.015625 \r\nQ 18.3125 11.328125 20.140625 9.421875 \r\nQ 21.96875 7.515625 27.59375 7.515625 \r\nL 36.8125 7.515625 \r\nL 36.8125 0 \r\nL 27.59375 0 \r\nQ 17.1875 0 13.234375 3.875 \r\nQ 9.28125 7.765625 9.28125 18.015625 \r\nL 9.28125 47.703125 \r\nL 2.6875 47.703125 \r\nL 2.6875 54.6875 \r\nL 9.28125 54.6875 \r\nL 9.28125 70.21875 \r\nz\r\n\" id=\"DejaVuSans-116\"/>\r\n       </defs>\r\n       <use xlink:href=\"#DejaVuSans-73\"/>\r\n       <use x=\"29.492188\" xlink:href=\"#DejaVuSans-116\"/>\r\n       <use x=\"68.701172\" xlink:href=\"#DejaVuSans-97\"/>\r\n       <use x=\"129.980469\" xlink:href=\"#DejaVuSans-108\"/>\r\n       <use x=\"157.763672\" xlink:href=\"#DejaVuSans-105\"/>\r\n       <use x=\"185.546875\" xlink:href=\"#DejaVuSans-97\"/>\r\n       <use x=\"246.826172\" xlink:href=\"#DejaVuSans-110\"/>\r\n      </g>\r\n     </g>\r\n    </g>\r\n    <g id=\"xtick_8\">\r\n     <g id=\"line2d_8\">\r\n      <g>\r\n       <use style=\"stroke:#000000;stroke-width:0.8;\" x=\"319.88125\" xlink:href=\"#m7a5d243fb3\" y=\"279\"/>\r\n      </g>\r\n     </g>\r\n     <g id=\"text_8\">\r\n      <!-- Japanese -->\r\n      <g transform=\"translate(304.262741 321.00832)rotate(-40)scale(0.1 -0.1)\">\r\n       <defs>\r\n        <path d=\"M 9.8125 72.90625 \r\nL 19.671875 72.90625 \r\nL 19.671875 5.078125 \r\nQ 19.671875 -8.109375 14.671875 -14.0625 \r\nQ 9.671875 -20.015625 -1.421875 -20.015625 \r\nL -5.171875 -20.015625 \r\nL -5.171875 -11.71875 \r\nL -2.09375 -11.71875 \r\nQ 4.4375 -11.71875 7.125 -8.046875 \r\nQ 9.8125 -4.390625 9.8125 5.078125 \r\nz\r\n\" id=\"DejaVuSans-74\"/>\r\n        <path d=\"M 18.109375 8.203125 \r\nL 18.109375 -20.796875 \r\nL 9.078125 -20.796875 \r\nL 9.078125 54.6875 \r\nL 18.109375 54.6875 \r\nL 18.109375 46.390625 \r\nQ 20.953125 51.265625 25.265625 53.625 \r\nQ 29.59375 56 35.59375 56 \r\nQ 45.5625 56 51.78125 48.09375 \r\nQ 58.015625 40.1875 58.015625 27.296875 \r\nQ 58.015625 14.40625 51.78125 6.484375 \r\nQ 45.5625 -1.421875 35.59375 -1.421875 \r\nQ 29.59375 -1.421875 25.265625 0.953125 \r\nQ 20.953125 3.328125 18.109375 8.203125 \r\nz\r\nM 48.6875 27.296875 \r\nQ 48.6875 37.203125 44.609375 42.84375 \r\nQ 40.53125 48.484375 33.40625 48.484375 \r\nQ 26.265625 48.484375 22.1875 42.84375 \r\nQ 18.109375 37.203125 18.109375 27.296875 \r\nQ 18.109375 17.390625 22.1875 11.75 \r\nQ 26.265625 6.109375 33.40625 6.109375 \r\nQ 40.53125 6.109375 44.609375 11.75 \r\nQ 48.6875 17.390625 48.6875 27.296875 \r\nz\r\n\" id=\"DejaVuSans-112\"/>\r\n       </defs>\r\n       <use xlink:href=\"#DejaVuSans-74\"/>\r\n       <use x=\"29.492188\" xlink:href=\"#DejaVuSans-97\"/>\r\n       <use x=\"90.771484\" xlink:href=\"#DejaVuSans-112\"/>\r\n       <use x=\"154.248047\" xlink:href=\"#DejaVuSans-97\"/>\r\n       <use x=\"215.527344\" xlink:href=\"#DejaVuSans-110\"/>\r\n       <use x=\"278.90625\" xlink:href=\"#DejaVuSans-101\"/>\r\n       <use x=\"340.429688\" xlink:href=\"#DejaVuSans-115\"/>\r\n       <use x=\"392.529297\" xlink:href=\"#DejaVuSans-101\"/>\r\n      </g>\r\n     </g>\r\n    </g>\r\n    <g id=\"xtick_9\">\r\n     <g id=\"line2d_9\">\r\n      <g>\r\n       <use style=\"stroke:#000000;stroke-width:0.8;\" x=\"357.08125\" xlink:href=\"#m7a5d243fb3\" y=\"279\"/>\r\n      </g>\r\n     </g>\r\n     <g id=\"text_9\">\r\n      <!-- Mexican -->\r\n      <g transform=\"translate(343.048692 318.346778)rotate(-40)scale(0.1 -0.1)\">\r\n       <defs>\r\n        <path d=\"M 9.8125 72.90625 \r\nL 24.515625 72.90625 \r\nL 43.109375 23.296875 \r\nL 61.8125 72.90625 \r\nL 76.515625 72.90625 \r\nL 76.515625 0 \r\nL 66.890625 0 \r\nL 66.890625 64.015625 \r\nL 48.09375 14.015625 \r\nL 38.1875 14.015625 \r\nL 19.390625 64.015625 \r\nL 19.390625 0 \r\nL 9.8125 0 \r\nz\r\n\" id=\"DejaVuSans-77\"/>\r\n        <path d=\"M 54.890625 54.6875 \r\nL 35.109375 28.078125 \r\nL 55.90625 0 \r\nL 45.3125 0 \r\nL 29.390625 21.484375 \r\nL 13.484375 0 \r\nL 2.875 0 \r\nL 24.125 28.609375 \r\nL 4.6875 54.6875 \r\nL 15.28125 54.6875 \r\nL 29.78125 35.203125 \r\nL 44.28125 54.6875 \r\nz\r\n\" id=\"DejaVuSans-120\"/>\r\n       </defs>\r\n       <use xlink:href=\"#DejaVuSans-77\"/>\r\n       <use x=\"86.279297\" xlink:href=\"#DejaVuSans-101\"/>\r\n       <use x=\"146.052734\" xlink:href=\"#DejaVuSans-120\"/>\r\n       <use x=\"205.232422\" xlink:href=\"#DejaVuSans-105\"/>\r\n       <use x=\"233.015625\" xlink:href=\"#DejaVuSans-99\"/>\r\n       <use x=\"287.996094\" xlink:href=\"#DejaVuSans-97\"/>\r\n       <use x=\"349.275391\" xlink:href=\"#DejaVuSans-110\"/>\r\n      </g>\r\n     </g>\r\n    </g>\r\n    <g id=\"xtick_10\">\r\n     <g id=\"line2d_10\">\r\n      <g>\r\n       <use style=\"stroke:#000000;stroke-width:0.8;\" x=\"394.28125\" xlink:href=\"#m7a5d243fb3\" y=\"279\"/>\r\n      </g>\r\n     </g>\r\n     <g id=\"text_10\">\r\n      <!-- Moroccan -->\r\n      <g transform=\"translate(377.587885 322.812143)rotate(-40)scale(0.1 -0.1)\">\r\n       <defs>\r\n        <path d=\"M 30.609375 48.390625 \r\nQ 23.390625 48.390625 19.1875 42.75 \r\nQ 14.984375 37.109375 14.984375 27.296875 \r\nQ 14.984375 17.484375 19.15625 11.84375 \r\nQ 23.34375 6.203125 30.609375 6.203125 \r\nQ 37.796875 6.203125 41.984375 11.859375 \r\nQ 46.1875 17.53125 46.1875 27.296875 \r\nQ 46.1875 37.015625 41.984375 42.703125 \r\nQ 37.796875 48.390625 30.609375 48.390625 \r\nz\r\nM 30.609375 56 \r\nQ 42.328125 56 49.015625 48.375 \r\nQ 55.71875 40.765625 55.71875 27.296875 \r\nQ 55.71875 13.875 49.015625 6.21875 \r\nQ 42.328125 -1.421875 30.609375 -1.421875 \r\nQ 18.84375 -1.421875 12.171875 6.21875 \r\nQ 5.515625 13.875 5.515625 27.296875 \r\nQ 5.515625 40.765625 12.171875 48.375 \r\nQ 18.84375 56 30.609375 56 \r\nz\r\n\" id=\"DejaVuSans-111\"/>\r\n       </defs>\r\n       <use xlink:href=\"#DejaVuSans-77\"/>\r\n       <use x=\"86.279297\" xlink:href=\"#DejaVuSans-111\"/>\r\n       <use x=\"147.460938\" xlink:href=\"#DejaVuSans-114\"/>\r\n       <use x=\"186.324219\" xlink:href=\"#DejaVuSans-111\"/>\r\n       <use x=\"247.505859\" xlink:href=\"#DejaVuSans-99\"/>\r\n       <use x=\"302.486328\" xlink:href=\"#DejaVuSans-99\"/>\r\n       <use x=\"357.466797\" xlink:href=\"#DejaVuSans-97\"/>\r\n       <use x=\"418.746094\" xlink:href=\"#DejaVuSans-110\"/>\r\n      </g>\r\n     </g>\r\n    </g>\r\n    <g id=\"xtick_11\">\r\n     <g id=\"line2d_11\">\r\n      <g>\r\n       <use style=\"stroke:#000000;stroke-width:0.8;\" x=\"431.48125\" xlink:href=\"#m7a5d243fb3\" y=\"279\"/>\r\n      </g>\r\n     </g>\r\n     <g id=\"text_11\">\r\n      <!-- Spanish -->\r\n      <g transform=\"translate(418.130352 317.202817)rotate(-40)scale(0.1 -0.1)\">\r\n       <defs>\r\n        <path d=\"M 53.515625 70.515625 \r\nL 53.515625 60.890625 \r\nQ 47.90625 63.578125 42.921875 64.890625 \r\nQ 37.9375 66.21875 33.296875 66.21875 \r\nQ 25.25 66.21875 20.875 63.09375 \r\nQ 16.5 59.96875 16.5 54.203125 \r\nQ 16.5 49.359375 19.40625 46.890625 \r\nQ 22.3125 44.4375 30.421875 42.921875 \r\nL 36.375 41.703125 \r\nQ 47.40625 39.59375 52.65625 34.296875 \r\nQ 57.90625 29 57.90625 20.125 \r\nQ 57.90625 9.515625 50.796875 4.046875 \r\nQ 43.703125 -1.421875 29.984375 -1.421875 \r\nQ 24.8125 -1.421875 18.96875 -0.25 \r\nQ 13.140625 0.921875 6.890625 3.21875 \r\nL 6.890625 13.375 \r\nQ 12.890625 10.015625 18.65625 8.296875 \r\nQ 24.421875 6.59375 29.984375 6.59375 \r\nQ 38.421875 6.59375 43.015625 9.90625 \r\nQ 47.609375 13.234375 47.609375 19.390625 \r\nQ 47.609375 24.75 44.3125 27.78125 \r\nQ 41.015625 30.8125 33.5 32.328125 \r\nL 27.484375 33.5 \r\nQ 16.453125 35.6875 11.515625 40.375 \r\nQ 6.59375 45.0625 6.59375 53.421875 \r\nQ 6.59375 63.09375 13.40625 68.65625 \r\nQ 20.21875 74.21875 32.171875 74.21875 \r\nQ 37.3125 74.21875 42.625 73.28125 \r\nQ 47.953125 72.359375 53.515625 70.515625 \r\nz\r\n\" id=\"DejaVuSans-83\"/>\r\n       </defs>\r\n       <use xlink:href=\"#DejaVuSans-83\"/>\r\n       <use x=\"63.476562\" xlink:href=\"#DejaVuSans-112\"/>\r\n       <use x=\"126.953125\" xlink:href=\"#DejaVuSans-97\"/>\r\n       <use x=\"188.232422\" xlink:href=\"#DejaVuSans-110\"/>\r\n       <use x=\"251.611328\" xlink:href=\"#DejaVuSans-105\"/>\r\n       <use x=\"279.394531\" xlink:href=\"#DejaVuSans-115\"/>\r\n       <use x=\"331.494141\" xlink:href=\"#DejaVuSans-104\"/>\r\n      </g>\r\n     </g>\r\n    </g>\r\n    <g id=\"xtick_12\">\r\n     <g id=\"line2d_12\">\r\n      <g>\r\n       <use style=\"stroke:#000000;stroke-width:0.8;\" x=\"468.68125\" xlink:href=\"#m7a5d243fb3\" y=\"279\"/>\r\n      </g>\r\n     </g>\r\n     <g id=\"text_12\">\r\n      <!-- Thai -->\r\n      <g transform=\"translate(462.276819 305.545261)rotate(-40)scale(0.1 -0.1)\">\r\n       <defs>\r\n        <path d=\"M -0.296875 72.90625 \r\nL 61.375 72.90625 \r\nL 61.375 64.59375 \r\nL 35.5 64.59375 \r\nL 35.5 0 \r\nL 25.59375 0 \r\nL 25.59375 64.59375 \r\nL -0.296875 64.59375 \r\nz\r\n\" id=\"DejaVuSans-84\"/>\r\n       </defs>\r\n       <use xlink:href=\"#DejaVuSans-84\"/>\r\n       <use x=\"61.083984\" xlink:href=\"#DejaVuSans-104\"/>\r\n       <use x=\"124.462891\" xlink:href=\"#DejaVuSans-97\"/>\r\n       <use x=\"185.742188\" xlink:href=\"#DejaVuSans-105\"/>\r\n      </g>\r\n     </g>\r\n    </g>\r\n    <g id=\"text_13\">\r\n     <!-- cuisine_name -->\r\n     <g transform=\"translate(229.855469 336.003713)scale(0.1 -0.1)\">\r\n      <defs>\r\n       <path d=\"M 8.5 21.578125 \r\nL 8.5 54.6875 \r\nL 17.484375 54.6875 \r\nL 17.484375 21.921875 \r\nQ 17.484375 14.15625 20.5 10.265625 \r\nQ 23.53125 6.390625 29.59375 6.390625 \r\nQ 36.859375 6.390625 41.078125 11.03125 \r\nQ 45.3125 15.671875 45.3125 23.6875 \r\nL 45.3125 54.6875 \r\nL 54.296875 54.6875 \r\nL 54.296875 0 \r\nL 45.3125 0 \r\nL 45.3125 8.40625 \r\nQ 42.046875 3.421875 37.71875 1 \r\nQ 33.40625 -1.421875 27.6875 -1.421875 \r\nQ 18.265625 -1.421875 13.375 4.4375 \r\nQ 8.5 10.296875 8.5 21.578125 \r\nz\r\nM 31.109375 56 \r\nz\r\n\" id=\"DejaVuSans-117\"/>\r\n       <path d=\"M 50.984375 -16.609375 \r\nL 50.984375 -23.578125 \r\nL -0.984375 -23.578125 \r\nL -0.984375 -16.609375 \r\nz\r\n\" id=\"DejaVuSans-95\"/>\r\n      </defs>\r\n      <use xlink:href=\"#DejaVuSans-99\"/>\r\n      <use x=\"54.980469\" xlink:href=\"#DejaVuSans-117\"/>\r\n      <use x=\"118.359375\" xlink:href=\"#DejaVuSans-105\"/>\r\n      <use x=\"146.142578\" xlink:href=\"#DejaVuSans-115\"/>\r\n      <use x=\"198.242188\" xlink:href=\"#DejaVuSans-105\"/>\r\n      <use x=\"226.025391\" xlink:href=\"#DejaVuSans-110\"/>\r\n      <use x=\"289.404297\" xlink:href=\"#DejaVuSans-101\"/>\r\n      <use x=\"350.927734\" xlink:href=\"#DejaVuSans-95\"/>\r\n      <use x=\"400.927734\" xlink:href=\"#DejaVuSans-110\"/>\r\n      <use x=\"464.306641\" xlink:href=\"#DejaVuSans-97\"/>\r\n      <use x=\"525.585938\" xlink:href=\"#DejaVuSans-109\"/>\r\n      <use x=\"622.998047\" xlink:href=\"#DejaVuSans-101\"/>\r\n     </g>\r\n    </g>\r\n   </g>\r\n   <g id=\"matplotlib.axis_2\">\r\n    <g id=\"ytick_1\">\r\n     <g id=\"line2d_13\">\r\n      <defs>\r\n       <path d=\"M 0 0 \r\nL -3.5 0 \r\n\" id=\"me47e3e2138\" style=\"stroke:#000000;stroke-width:0.8;\"/>\r\n      </defs>\r\n      <g>\r\n       <use style=\"stroke:#000000;stroke-width:0.8;\" x=\"40.88125\" xlink:href=\"#me47e3e2138\" y=\"245.159289\"/>\r\n      </g>\r\n     </g>\r\n     <g id=\"text_14\">\r\n      <!-- 5 -->\r\n      <g transform=\"translate(27.51875 248.958507)scale(0.1 -0.1)\">\r\n       <defs>\r\n        <path d=\"M 10.796875 72.90625 \r\nL 49.515625 72.90625 \r\nL 49.515625 64.59375 \r\nL 19.828125 64.59375 \r\nL 19.828125 46.734375 \r\nQ 21.96875 47.46875 24.109375 47.828125 \r\nQ 26.265625 48.1875 28.421875 48.1875 \r\nQ 40.625 48.1875 47.75 41.5 \r\nQ 54.890625 34.8125 54.890625 23.390625 \r\nQ 54.890625 11.625 47.5625 5.09375 \r\nQ 40.234375 -1.421875 26.90625 -1.421875 \r\nQ 22.3125 -1.421875 17.546875 -0.640625 \r\nQ 12.796875 0.140625 7.71875 1.703125 \r\nL 7.71875 11.625 \r\nQ 12.109375 9.234375 16.796875 8.0625 \r\nQ 21.484375 6.890625 26.703125 6.890625 \r\nQ 35.15625 6.890625 40.078125 11.328125 \r\nQ 45.015625 15.765625 45.015625 23.390625 \r\nQ 45.015625 31 40.078125 35.4375 \r\nQ 35.15625 39.890625 26.703125 39.890625 \r\nQ 22.75 39.890625 18.8125 39.015625 \r\nQ 14.890625 38.140625 10.796875 36.28125 \r\nz\r\n\" id=\"DejaVuSans-53\"/>\r\n       </defs>\r\n       <use xlink:href=\"#DejaVuSans-53\"/>\r\n      </g>\r\n     </g>\r\n    </g>\r\n    <g id=\"ytick_2\">\r\n     <g id=\"line2d_14\">\r\n      <g>\r\n       <use style=\"stroke:#000000;stroke-width:0.8;\" x=\"40.88125\" xlink:href=\"#me47e3e2138\" y=\"191.443874\"/>\r\n      </g>\r\n     </g>\r\n     <g id=\"text_15\">\r\n      <!-- 10 -->\r\n      <g transform=\"translate(21.15625 195.243092)scale(0.1 -0.1)\">\r\n       <defs>\r\n        <path d=\"M 12.40625 8.296875 \r\nL 28.515625 8.296875 \r\nL 28.515625 63.921875 \r\nL 10.984375 60.40625 \r\nL 10.984375 69.390625 \r\nL 28.421875 72.90625 \r\nL 38.28125 72.90625 \r\nL 38.28125 8.296875 \r\nL 54.390625 8.296875 \r\nL 54.390625 0 \r\nL 12.40625 0 \r\nz\r\n\" id=\"DejaVuSans-49\"/>\r\n        <path d=\"M 31.78125 66.40625 \r\nQ 24.171875 66.40625 20.328125 58.90625 \r\nQ 16.5 51.421875 16.5 36.375 \r\nQ 16.5 21.390625 20.328125 13.890625 \r\nQ 24.171875 6.390625 31.78125 6.390625 \r\nQ 39.453125 6.390625 43.28125 13.890625 \r\nQ 47.125 21.390625 47.125 36.375 \r\nQ 47.125 51.421875 43.28125 58.90625 \r\nQ 39.453125 66.40625 31.78125 66.40625 \r\nz\r\nM 31.78125 74.21875 \r\nQ 44.046875 74.21875 50.515625 64.515625 \r\nQ 56.984375 54.828125 56.984375 36.375 \r\nQ 56.984375 17.96875 50.515625 8.265625 \r\nQ 44.046875 -1.421875 31.78125 -1.421875 \r\nQ 19.53125 -1.421875 13.0625 8.265625 \r\nQ 6.59375 17.96875 6.59375 36.375 \r\nQ 6.59375 54.828125 13.0625 64.515625 \r\nQ 19.53125 74.21875 31.78125 74.21875 \r\nz\r\n\" id=\"DejaVuSans-48\"/>\r\n       </defs>\r\n       <use xlink:href=\"#DejaVuSans-49\"/>\r\n       <use x=\"63.623047\" xlink:href=\"#DejaVuSans-48\"/>\r\n      </g>\r\n     </g>\r\n    </g>\r\n    <g id=\"ytick_3\">\r\n     <g id=\"line2d_15\">\r\n      <g>\r\n       <use style=\"stroke:#000000;stroke-width:0.8;\" x=\"40.88125\" xlink:href=\"#me47e3e2138\" y=\"137.728458\"/>\r\n      </g>\r\n     </g>\r\n     <g id=\"text_16\">\r\n      <!-- 15 -->\r\n      <g transform=\"translate(21.15625 141.527677)scale(0.1 -0.1)\">\r\n       <use xlink:href=\"#DejaVuSans-49\"/>\r\n       <use x=\"63.623047\" xlink:href=\"#DejaVuSans-53\"/>\r\n      </g>\r\n     </g>\r\n    </g>\r\n    <g id=\"ytick_4\">\r\n     <g id=\"line2d_16\">\r\n      <g>\r\n       <use style=\"stroke:#000000;stroke-width:0.8;\" x=\"40.88125\" xlink:href=\"#me47e3e2138\" y=\"84.013043\"/>\r\n      </g>\r\n     </g>\r\n     <g id=\"text_17\">\r\n      <!-- 20 -->\r\n      <g transform=\"translate(21.15625 87.812262)scale(0.1 -0.1)\">\r\n       <defs>\r\n        <path d=\"M 19.1875 8.296875 \r\nL 53.609375 8.296875 \r\nL 53.609375 0 \r\nL 7.328125 0 \r\nL 7.328125 8.296875 \r\nQ 12.9375 14.109375 22.625 23.890625 \r\nQ 32.328125 33.6875 34.8125 36.53125 \r\nQ 39.546875 41.84375 41.421875 45.53125 \r\nQ 43.3125 49.21875 43.3125 52.78125 \r\nQ 43.3125 58.59375 39.234375 62.25 \r\nQ 35.15625 65.921875 28.609375 65.921875 \r\nQ 23.96875 65.921875 18.8125 64.3125 \r\nQ 13.671875 62.703125 7.8125 59.421875 \r\nL 7.8125 69.390625 \r\nQ 13.765625 71.78125 18.9375 73 \r\nQ 24.125 74.21875 28.421875 74.21875 \r\nQ 39.75 74.21875 46.484375 68.546875 \r\nQ 53.21875 62.890625 53.21875 53.421875 \r\nQ 53.21875 48.921875 51.53125 44.890625 \r\nQ 49.859375 40.875 45.40625 35.40625 \r\nQ 44.1875 33.984375 37.640625 27.21875 \r\nQ 31.109375 20.453125 19.1875 8.296875 \r\nz\r\n\" id=\"DejaVuSans-50\"/>\r\n       </defs>\r\n       <use xlink:href=\"#DejaVuSans-50\"/>\r\n       <use x=\"63.623047\" xlink:href=\"#DejaVuSans-48\"/>\r\n      </g>\r\n     </g>\r\n    </g>\r\n    <g id=\"ytick_5\">\r\n     <g id=\"line2d_17\">\r\n      <g>\r\n       <use style=\"stroke:#000000;stroke-width:0.8;\" x=\"40.88125\" xlink:href=\"#me47e3e2138\" y=\"30.297628\"/>\r\n      </g>\r\n     </g>\r\n     <g id=\"text_18\">\r\n      <!-- 25 -->\r\n      <g transform=\"translate(21.15625 34.096847)scale(0.1 -0.1)\">\r\n       <use xlink:href=\"#DejaVuSans-50\"/>\r\n       <use x=\"63.623047\" xlink:href=\"#DejaVuSans-53\"/>\r\n      </g>\r\n     </g>\r\n    </g>\r\n    <g id=\"text_19\">\r\n     <!-- ingredient_count -->\r\n     <g transform=\"translate(14.798438 185.226562)rotate(-90)scale(0.1 -0.1)\">\r\n      <use xlink:href=\"#DejaVuSans-105\"/>\r\n      <use x=\"27.783203\" xlink:href=\"#DejaVuSans-110\"/>\r\n      <use x=\"91.162109\" xlink:href=\"#DejaVuSans-103\"/>\r\n      <use x=\"154.638672\" xlink:href=\"#DejaVuSans-114\"/>\r\n      <use x=\"193.501953\" xlink:href=\"#DejaVuSans-101\"/>\r\n      <use x=\"255.025391\" xlink:href=\"#DejaVuSans-100\"/>\r\n      <use x=\"318.501953\" xlink:href=\"#DejaVuSans-105\"/>\r\n      <use x=\"346.285156\" xlink:href=\"#DejaVuSans-101\"/>\r\n      <use x=\"407.808594\" xlink:href=\"#DejaVuSans-110\"/>\r\n      <use x=\"471.1875\" xlink:href=\"#DejaVuSans-116\"/>\r\n      <use x=\"510.396484\" xlink:href=\"#DejaVuSans-95\"/>\r\n      <use x=\"560.396484\" xlink:href=\"#DejaVuSans-99\"/>\r\n      <use x=\"615.376953\" xlink:href=\"#DejaVuSans-111\"/>\r\n      <use x=\"676.558594\" xlink:href=\"#DejaVuSans-117\"/>\r\n      <use x=\"739.9375\" xlink:href=\"#DejaVuSans-110\"/>\r\n      <use x=\"803.316406\" xlink:href=\"#DejaVuSans-116\"/>\r\n     </g>\r\n    </g>\r\n   </g>\r\n   <g id=\"line2d_18\">\r\n    <path clip-path=\"url(#p5100be2007)\" d=\"M 59.48125 212.93004 \r\nL 59.48125 255.902372 \r\n\" style=\"fill:none;stroke:#464646;stroke-linecap:square;stroke-width:1.5;\"/>\r\n   </g>\r\n   <g id=\"line2d_19\">\r\n    <path clip-path=\"url(#p5100be2007)\" d=\"M 59.48125 126.985375 \r\nL 59.48125 62.526877 \r\n\" style=\"fill:none;stroke:#464646;stroke-linecap:square;stroke-width:1.5;\"/>\r\n   </g>\r\n   <g id=\"line2d_20\">\r\n    <path clip-path=\"url(#p5100be2007)\" d=\"M 52.04125 255.902372 \r\nL 66.92125 255.902372 \r\n\" style=\"fill:none;stroke:#464646;stroke-linecap:square;stroke-width:1.5;\"/>\r\n   </g>\r\n   <g id=\"line2d_21\">\r\n    <path clip-path=\"url(#p5100be2007)\" d=\"M 52.04125 62.526877 \r\nL 66.92125 62.526877 \r\n\" style=\"fill:none;stroke:#464646;stroke-linecap:square;stroke-width:1.5;\"/>\r\n   </g>\r\n   <g id=\"line2d_22\"/>\r\n   <g id=\"line2d_23\">\r\n    <path clip-path=\"url(#p5100be2007)\" d=\"M 96.68125 223.673123 \r\nL 96.68125 266.645455 \r\n\" style=\"fill:none;stroke:#464646;stroke-linecap:square;stroke-width:1.5;\"/>\r\n   </g>\r\n   <g id=\"line2d_24\">\r\n    <path clip-path=\"url(#p5100be2007)\" d=\"M 96.68125 137.728458 \r\nL 96.68125 84.013043 \r\n\" style=\"fill:none;stroke:#464646;stroke-linecap:square;stroke-width:1.5;\"/>\r\n   </g>\r\n   <g id=\"line2d_25\">\r\n    <path clip-path=\"url(#p5100be2007)\" d=\"M 89.24125 266.645455 \r\nL 104.12125 266.645455 \r\n\" style=\"fill:none;stroke:#464646;stroke-linecap:square;stroke-width:1.5;\"/>\r\n   </g>\r\n   <g id=\"line2d_26\">\r\n    <path clip-path=\"url(#p5100be2007)\" d=\"M 89.24125 84.013043 \r\nL 104.12125 84.013043 \r\n\" style=\"fill:none;stroke:#464646;stroke-linecap:square;stroke-width:1.5;\"/>\r\n   </g>\r\n   <g id=\"line2d_27\"/>\r\n   <g id=\"line2d_28\">\r\n    <path clip-path=\"url(#p5100be2007)\" d=\"M 133.88125 215.61581 \r\nL 133.88125 266.645455 \r\n\" style=\"fill:none;stroke:#464646;stroke-linecap:square;stroke-width:1.5;\"/>\r\n   </g>\r\n   <g id=\"line2d_29\">\r\n    <path clip-path=\"url(#p5100be2007)\" d=\"M 133.88125 113.556522 \r\nL 133.88125 19.554545 \r\n\" style=\"fill:none;stroke:#464646;stroke-linecap:square;stroke-width:1.5;\"/>\r\n   </g>\r\n   <g id=\"line2d_30\">\r\n    <path clip-path=\"url(#p5100be2007)\" d=\"M 126.44125 266.645455 \r\nL 141.32125 266.645455 \r\n\" style=\"fill:none;stroke:#464646;stroke-linecap:square;stroke-width:1.5;\"/>\r\n   </g>\r\n   <g id=\"line2d_31\">\r\n    <path clip-path=\"url(#p5100be2007)\" d=\"M 126.44125 19.554545 \r\nL 141.32125 19.554545 \r\n\" style=\"fill:none;stroke:#464646;stroke-linecap:square;stroke-width:1.5;\"/>\r\n   </g>\r\n   <g id=\"line2d_32\"/>\r\n   <g id=\"line2d_33\">\r\n    <path clip-path=\"url(#p5100be2007)\" d=\"M 171.08125 220.987352 \r\nL 171.08125 266.645455 \r\n\" style=\"fill:none;stroke:#464646;stroke-linecap:square;stroke-width:1.5;\"/>\r\n   </g>\r\n   <g id=\"line2d_34\">\r\n    <path clip-path=\"url(#p5100be2007)\" d=\"M 171.08125 129.671146 \r\nL 171.08125 51.783794 \r\n\" style=\"fill:none;stroke:#464646;stroke-linecap:square;stroke-width:1.5;\"/>\r\n   </g>\r\n   <g id=\"line2d_35\">\r\n    <path clip-path=\"url(#p5100be2007)\" d=\"M 163.64125 266.645455 \r\nL 178.52125 266.645455 \r\n\" style=\"fill:none;stroke:#464646;stroke-linecap:square;stroke-width:1.5;\"/>\r\n   </g>\r\n   <g id=\"line2d_36\">\r\n    <path clip-path=\"url(#p5100be2007)\" d=\"M 163.64125 51.783794 \r\nL 178.52125 51.783794 \r\n\" style=\"fill:none;stroke:#464646;stroke-linecap:square;stroke-width:1.5;\"/>\r\n   </g>\r\n   <g id=\"line2d_37\"/>\r\n   <g id=\"line2d_38\">\r\n    <path clip-path=\"url(#p5100be2007)\" d=\"M 208.28125 218.301581 \r\nL 208.28125 266.645455 \r\n\" style=\"fill:none;stroke:#464646;stroke-linecap:square;stroke-width:1.5;\"/>\r\n   </g>\r\n   <g id=\"line2d_39\">\r\n    <path clip-path=\"url(#p5100be2007)\" d=\"M 208.28125 121.613834 \r\nL 208.28125 73.26996 \r\n\" style=\"fill:none;stroke:#464646;stroke-linecap:square;stroke-width:1.5;\"/>\r\n   </g>\r\n   <g id=\"line2d_40\">\r\n    <path clip-path=\"url(#p5100be2007)\" d=\"M 200.84125 266.645455 \r\nL 215.72125 266.645455 \r\n\" style=\"fill:none;stroke:#464646;stroke-linecap:square;stroke-width:1.5;\"/>\r\n   </g>\r\n   <g id=\"line2d_41\">\r\n    <path clip-path=\"url(#p5100be2007)\" d=\"M 200.84125 73.26996 \r\nL 215.72125 73.26996 \r\n\" style=\"fill:none;stroke:#464646;stroke-linecap:square;stroke-width:1.5;\"/>\r\n   </g>\r\n   <g id=\"line2d_42\"/>\r\n   <g id=\"line2d_43\">\r\n    <path clip-path=\"url(#p5100be2007)\" d=\"M 245.48125 199.501186 \r\nL 245.48125 245.159289 \r\n\" style=\"fill:none;stroke:#464646;stroke-linecap:square;stroke-width:1.5;\"/>\r\n   </g>\r\n   <g id=\"line2d_44\">\r\n    <path clip-path=\"url(#p5100be2007)\" d=\"M 245.48125 108.18498 \r\nL 245.48125 51.783794 \r\n\" style=\"fill:none;stroke:#464646;stroke-linecap:square;stroke-width:1.5;\"/>\r\n   </g>\r\n   <g id=\"line2d_45\">\r\n    <path clip-path=\"url(#p5100be2007)\" d=\"M 238.04125 245.159289 \r\nL 252.92125 245.159289 \r\n\" style=\"fill:none;stroke:#464646;stroke-linecap:square;stroke-width:1.5;\"/>\r\n   </g>\r\n   <g id=\"line2d_46\">\r\n    <path clip-path=\"url(#p5100be2007)\" d=\"M 238.04125 51.783794 \r\nL 252.92125 51.783794 \r\n\" style=\"fill:none;stroke:#464646;stroke-linecap:square;stroke-width:1.5;\"/>\r\n   </g>\r\n   <g id=\"line2d_47\"/>\r\n   <g id=\"line2d_48\">\r\n    <path clip-path=\"url(#p5100be2007)\" d=\"M 282.68125 215.61581 \r\nL 282.68125 266.645455 \r\n\" style=\"fill:none;stroke:#464646;stroke-linecap:square;stroke-width:1.5;\"/>\r\n   </g>\r\n   <g id=\"line2d_49\">\r\n    <path clip-path=\"url(#p5100be2007)\" d=\"M 282.68125 113.556522 \r\nL 282.68125 41.040711 \r\n\" style=\"fill:none;stroke:#464646;stroke-linecap:square;stroke-width:1.5;\"/>\r\n   </g>\r\n   <g id=\"line2d_50\">\r\n    <path clip-path=\"url(#p5100be2007)\" d=\"M 275.24125 266.645455 \r\nL 290.12125 266.645455 \r\n\" style=\"fill:none;stroke:#464646;stroke-linecap:square;stroke-width:1.5;\"/>\r\n   </g>\r\n   <g id=\"line2d_51\">\r\n    <path clip-path=\"url(#p5100be2007)\" d=\"M 275.24125 41.040711 \r\nL 290.12125 41.040711 \r\n\" style=\"fill:none;stroke:#464646;stroke-linecap:square;stroke-width:1.5;\"/>\r\n   </g>\r\n   <g id=\"line2d_52\"/>\r\n   <g id=\"line2d_53\">\r\n    <path clip-path=\"url(#p5100be2007)\" d=\"M 319.88125 223.673123 \r\nL 319.88125 266.645455 \r\n\" style=\"fill:none;stroke:#464646;stroke-linecap:square;stroke-width:1.5;\"/>\r\n   </g>\r\n   <g id=\"line2d_54\">\r\n    <path clip-path=\"url(#p5100be2007)\" d=\"M 319.88125 137.728458 \r\nL 319.88125 62.526877 \r\n\" style=\"fill:none;stroke:#464646;stroke-linecap:square;stroke-width:1.5;\"/>\r\n   </g>\r\n   <g id=\"line2d_55\">\r\n    <path clip-path=\"url(#p5100be2007)\" d=\"M 312.44125 266.645455 \r\nL 327.32125 266.645455 \r\n\" style=\"fill:none;stroke:#464646;stroke-linecap:square;stroke-width:1.5;\"/>\r\n   </g>\r\n   <g id=\"line2d_56\">\r\n    <path clip-path=\"url(#p5100be2007)\" d=\"M 312.44125 62.526877 \r\nL 327.32125 62.526877 \r\n\" style=\"fill:none;stroke:#464646;stroke-linecap:square;stroke-width:1.5;\"/>\r\n   </g>\r\n   <g id=\"line2d_57\"/>\r\n   <g id=\"line2d_58\">\r\n    <path clip-path=\"url(#p5100be2007)\" d=\"M 357.08125 207.558498 \r\nL 357.08125 255.902372 \r\n\" style=\"fill:none;stroke:#464646;stroke-linecap:square;stroke-width:1.5;\"/>\r\n   </g>\r\n   <g id=\"line2d_59\">\r\n    <path clip-path=\"url(#p5100be2007)\" d=\"M 357.08125 110.870751 \r\nL 357.08125 51.783794 \r\n\" style=\"fill:none;stroke:#464646;stroke-linecap:square;stroke-width:1.5;\"/>\r\n   </g>\r\n   <g id=\"line2d_60\">\r\n    <path clip-path=\"url(#p5100be2007)\" d=\"M 349.64125 255.902372 \r\nL 364.52125 255.902372 \r\n\" style=\"fill:none;stroke:#464646;stroke-linecap:square;stroke-width:1.5;\"/>\r\n   </g>\r\n   <g id=\"line2d_61\">\r\n    <path clip-path=\"url(#p5100be2007)\" d=\"M 349.64125 51.783794 \r\nL 364.52125 51.783794 \r\n\" style=\"fill:none;stroke:#464646;stroke-linecap:square;stroke-width:1.5;\"/>\r\n   </g>\r\n   <g id=\"line2d_62\"/>\r\n   <g id=\"line2d_63\">\r\n    <path clip-path=\"url(#p5100be2007)\" d=\"M 394.28125 202.186957 \r\nL 394.28125 266.645455 \r\n\" style=\"fill:none;stroke:#464646;stroke-linecap:square;stroke-width:1.5;\"/>\r\n   </g>\r\n   <g id=\"line2d_64\">\r\n    <path clip-path=\"url(#p5100be2007)\" d=\"M 394.28125 94.756126 \r\nL 394.28125 30.297628 \r\n\" style=\"fill:none;stroke:#464646;stroke-linecap:square;stroke-width:1.5;\"/>\r\n   </g>\r\n   <g id=\"line2d_65\">\r\n    <path clip-path=\"url(#p5100be2007)\" d=\"M 386.84125 266.645455 \r\nL 401.72125 266.645455 \r\n\" style=\"fill:none;stroke:#464646;stroke-linecap:square;stroke-width:1.5;\"/>\r\n   </g>\r\n   <g id=\"line2d_66\">\r\n    <path clip-path=\"url(#p5100be2007)\" d=\"M 386.84125 30.297628 \r\nL 401.72125 30.297628 \r\n\" style=\"fill:none;stroke:#464646;stroke-linecap:square;stroke-width:1.5;\"/>\r\n   </g>\r\n   <g id=\"line2d_67\"/>\r\n   <g id=\"line2d_68\">\r\n    <path clip-path=\"url(#p5100be2007)\" d=\"M 431.48125 218.301581 \r\nL 431.48125 266.645455 \r\n\" style=\"fill:none;stroke:#464646;stroke-linecap:square;stroke-width:1.5;\"/>\r\n   </g>\r\n   <g id=\"line2d_69\">\r\n    <path clip-path=\"url(#p5100be2007)\" d=\"M 431.48125 121.613834 \r\nL 431.48125 62.526877 \r\n\" style=\"fill:none;stroke:#464646;stroke-linecap:square;stroke-width:1.5;\"/>\r\n   </g>\r\n   <g id=\"line2d_70\">\r\n    <path clip-path=\"url(#p5100be2007)\" d=\"M 424.04125 266.645455 \r\nL 438.92125 266.645455 \r\n\" style=\"fill:none;stroke:#464646;stroke-linecap:square;stroke-width:1.5;\"/>\r\n   </g>\r\n   <g id=\"line2d_71\">\r\n    <path clip-path=\"url(#p5100be2007)\" d=\"M 424.04125 62.526877 \r\nL 438.92125 62.526877 \r\n\" style=\"fill:none;stroke:#464646;stroke-linecap:square;stroke-width:1.5;\"/>\r\n   </g>\r\n   <g id=\"line2d_72\"/>\r\n   <g id=\"line2d_73\">\r\n    <path clip-path=\"url(#p5100be2007)\" d=\"M 468.68125 212.93004 \r\nL 468.68125 255.902372 \r\n\" style=\"fill:none;stroke:#464646;stroke-linecap:square;stroke-width:1.5;\"/>\r\n   </g>\r\n   <g id=\"line2d_74\">\r\n    <path clip-path=\"url(#p5100be2007)\" d=\"M 468.68125 126.985375 \r\nL 468.68125 84.013043 \r\n\" style=\"fill:none;stroke:#464646;stroke-linecap:square;stroke-width:1.5;\"/>\r\n   </g>\r\n   <g id=\"line2d_75\">\r\n    <path clip-path=\"url(#p5100be2007)\" d=\"M 461.24125 255.902372 \r\nL 476.12125 255.902372 \r\n\" style=\"fill:none;stroke:#464646;stroke-linecap:square;stroke-width:1.5;\"/>\r\n   </g>\r\n   <g id=\"line2d_76\">\r\n    <path clip-path=\"url(#p5100be2007)\" d=\"M 461.24125 84.013043 \r\nL 476.12125 84.013043 \r\n\" style=\"fill:none;stroke:#464646;stroke-linecap:square;stroke-width:1.5;\"/>\r\n   </g>\r\n   <g id=\"line2d_77\"/>\r\n   <g id=\"line2d_78\">\r\n    <path clip-path=\"url(#p5100be2007)\" d=\"M 44.60125 169.957708 \r\nL 74.36125 169.957708 \r\n\" style=\"fill:none;stroke:#464646;stroke-linecap:square;stroke-width:1.5;\"/>\r\n   </g>\r\n   <g id=\"line2d_79\">\r\n    <path clip-path=\"url(#p5100be2007)\" d=\"M 81.80125 180.700791 \r\nL 111.56125 180.700791 \r\n\" style=\"fill:none;stroke:#464646;stroke-linecap:square;stroke-width:1.5;\"/>\r\n   </g>\r\n   <g id=\"line2d_80\">\r\n    <path clip-path=\"url(#p5100be2007)\" d=\"M 119.00125 164.586166 \r\nL 148.76125 164.586166 \r\n\" style=\"fill:none;stroke:#464646;stroke-linecap:square;stroke-width:1.5;\"/>\r\n   </g>\r\n   <g id=\"line2d_81\">\r\n    <path clip-path=\"url(#p5100be2007)\" d=\"M 156.20125 175.329249 \r\nL 185.96125 175.329249 \r\n\" style=\"fill:none;stroke:#464646;stroke-linecap:square;stroke-width:1.5;\"/>\r\n   </g>\r\n   <g id=\"line2d_82\">\r\n    <path clip-path=\"url(#p5100be2007)\" d=\"M 193.40125 169.957708 \r\nL 223.16125 169.957708 \r\n\" style=\"fill:none;stroke:#464646;stroke-linecap:square;stroke-width:1.5;\"/>\r\n   </g>\r\n   <g id=\"line2d_83\">\r\n    <path clip-path=\"url(#p5100be2007)\" d=\"M 230.60125 153.843083 \r\nL 260.36125 153.843083 \r\n\" style=\"fill:none;stroke:#464646;stroke-linecap:square;stroke-width:1.5;\"/>\r\n   </g>\r\n   <g id=\"line2d_84\">\r\n    <path clip-path=\"url(#p5100be2007)\" d=\"M 267.80125 164.586166 \r\nL 297.56125 164.586166 \r\n\" style=\"fill:none;stroke:#464646;stroke-linecap:square;stroke-width:1.5;\"/>\r\n   </g>\r\n   <g id=\"line2d_85\">\r\n    <path clip-path=\"url(#p5100be2007)\" d=\"M 305.00125 180.700791 \r\nL 334.76125 180.700791 \r\n\" style=\"fill:none;stroke:#464646;stroke-linecap:square;stroke-width:1.5;\"/>\r\n   </g>\r\n   <g id=\"line2d_86\">\r\n    <path clip-path=\"url(#p5100be2007)\" d=\"M 342.20125 159.214625 \r\nL 371.96125 159.214625 \r\n\" style=\"fill:none;stroke:#464646;stroke-linecap:square;stroke-width:1.5;\"/>\r\n   </g>\r\n   <g id=\"line2d_87\">\r\n    <path clip-path=\"url(#p5100be2007)\" d=\"M 379.40125 148.471542 \r\nL 409.16125 148.471542 \r\n\" style=\"fill:none;stroke:#464646;stroke-linecap:square;stroke-width:1.5;\"/>\r\n   </g>\r\n   <g id=\"line2d_88\">\r\n    <path clip-path=\"url(#p5100be2007)\" d=\"M 416.60125 169.957708 \r\nL 446.36125 169.957708 \r\n\" style=\"fill:none;stroke:#464646;stroke-linecap:square;stroke-width:1.5;\"/>\r\n   </g>\r\n   <g id=\"line2d_89\">\r\n    <path clip-path=\"url(#p5100be2007)\" d=\"M 453.80125 169.957708 \r\nL 483.56125 169.957708 \r\n\" style=\"fill:none;stroke:#464646;stroke-linecap:square;stroke-width:1.5;\"/>\r\n   </g>\r\n   <g id=\"patch_15\">\r\n    <path d=\"M 40.88125 279 \r\nL 40.88125 7.2 \r\n\" style=\"fill:none;stroke:#000000;stroke-linecap:square;stroke-linejoin:miter;stroke-width:0.8;\"/>\r\n   </g>\r\n   <g id=\"patch_16\">\r\n    <path d=\"M 487.28125 279 \r\nL 487.28125 7.2 \r\n\" style=\"fill:none;stroke:#000000;stroke-linecap:square;stroke-linejoin:miter;stroke-width:0.8;\"/>\r\n   </g>\r\n   <g id=\"patch_17\">\r\n    <path d=\"M 40.88125 279 \r\nL 487.28125 279 \r\n\" style=\"fill:none;stroke:#000000;stroke-linecap:square;stroke-linejoin:miter;stroke-width:0.8;\"/>\r\n   </g>\r\n   <g id=\"patch_18\">\r\n    <path d=\"M 40.88125 7.2 \r\nL 487.28125 7.2 \r\n\" style=\"fill:none;stroke:#000000;stroke-linecap:square;stroke-linejoin:miter;stroke-width:0.8;\"/>\r\n   </g>\r\n  </g>\r\n </g>\r\n <defs>\r\n  <clipPath id=\"p5100be2007\">\r\n   <rect height=\"271.8\" width=\"446.4\" x=\"40.88125\" y=\"7.2\"/>\r\n  </clipPath>\r\n </defs>\r\n</svg>\r\n",
      "image/png": "[encoded data removed]"
     },
     "metadata": {
      "needs_background": "light"
     }
    }
   ],
   "source": [
    "# Box plots for each cuisine type\n",
    "\n",
    "cuisines_bplot = sns.boxplot(x = \"cuisine_name\", y = \"ingredient_count\", data = cuisine_recipes, whis = 1.5)\n",
    "cuisines_bplot.set_xticklabels(cuisines_bplot.get_xticklabels(), rotation=40)\n",
    "cuisines_bplot"
   ]
  },
  {
   "cell_type": "code",
   "execution_count": null,
   "metadata": {},
   "outputs": [],
   "source": []
  },
  {
   "source": [
    "### Most frequent ingredients per cuisine"
   ],
   "cell_type": "markdown",
   "metadata": {}
  },
  {
   "cell_type": "code",
   "execution_count": 14,
   "metadata": {},
   "outputs": [],
   "source": [
    "# Top n ingredients per cuisine\n",
    "\n",
    "def top_ingredients(n):\n",
    "\n",
    "    grouped_recipes = recipes_df.groupby(\"cuisine\").sum()\n",
    "    number_cuisines = grouped_recipes.shape[0]\n",
    "\n",
    "    ingr_dict = {}\n",
    "\n",
    "    for i in range(0, number_cuisines):\n",
    "\n",
    "        ocurrences = grouped_recipes.loc[i].sort_values(ascending = False).reset_index().iloc[0:n]\n",
    "        ocurrences.columns = [\"ingredient\", \"ocurrence\"]\n",
    "        top = ocurrences[\"ingredient\"].to_list()\n",
    "        ingr_dict[f\"{i}\"] = top\n",
    "\n",
    "    top_ingr_df = pd.DataFrame(data = ingr_dict)\n",
    "\n",
    "    return top_ingr_df"
   ]
  },
  {
   "cell_type": "code",
   "execution_count": 15,
   "metadata": {},
   "outputs": [
    {
     "output_type": "execute_result",
     "data": {
      "text/plain": [
       "         Chinese    English     French  German        Greek         Indian  \\\n",
       "0      soy_sauce      onion     garlic   onion    olive_oil          onion   \n",
       "1         garlic     butter     butter  pepper       garlic         garlic   \n",
       "2         ginger     potato       wine    salt        onion         ginger   \n",
       "3     cornstarch     garlic      onion   flour      oregano          cumin   \n",
       "4    green_onion      flour  olive_oil   water       tomato       turmeric   \n",
       "5        chicken  olive_oil       salt  butter       pepper           salt   \n",
       "6  vegetable_oil     carrot     pepper     egg  feta_cheese      coriander   \n",
       "7          sugar       beef    chicken    pork         salt         tomato   \n",
       "8     sesame_oil    chicken      thyme   bacon  lemon_juice  vegetable_oil   \n",
       "9          water    parsley      flour    beef      parsley        chicken   \n",
       "\n",
       "           Italian       Japanese       Mexican   Moroccan       Spanish  \\\n",
       "0           garlic      soy_sauce         onion      onion        garlic   \n",
       "1        olive_oil      rice_wine      tortilla     garlic     olive_oil   \n",
       "2  parmesan_cheese          sugar        garlic  olive_oil         onion   \n",
       "3            onion         ginger         cumin      cumin        tomato   \n",
       "4            pasta         garlic          salt   cinnamon       chicken   \n",
       "5             salt    green_onion       chicken    chicken  sweet_pepper   \n",
       "6            basil          water  chili_powder       salt        pepper   \n",
       "7           tomato          onion        tomato     ginger       paprika   \n",
       "8          parsley  vegetable_oil          beef     pepper          salt   \n",
       "9           pepper        chicken  chile_pepper    parsley          rice   \n",
       "\n",
       "                    Thai  \n",
       "0                 garlic  \n",
       "1             fish_sauce  \n",
       "2                chicken  \n",
       "3  coconut_milk_or_cream  \n",
       "4                   lime  \n",
       "5                 ginger  \n",
       "6              soy_sauce  \n",
       "7               cilantro  \n",
       "8          vegetable_oil  \n",
       "9            green_onion  "
      ],
      "text/html": "<div>\n<style scoped>\n    .dataframe tbody tr th:only-of-type {\n        vertical-align: middle;\n    }\n\n    .dataframe tbody tr th {\n        vertical-align: top;\n    }\n\n    .dataframe thead th {\n        text-align: right;\n    }\n</style>\n<table border=\"1\" class=\"dataframe\">\n  <thead>\n    <tr style=\"text-align: right;\">\n      <th></th>\n      <th>Chinese</th>\n      <th>English</th>\n      <th>French</th>\n      <th>German</th>\n      <th>Greek</th>\n      <th>Indian</th>\n      <th>Italian</th>\n      <th>Japanese</th>\n      <th>Mexican</th>\n      <th>Moroccan</th>\n      <th>Spanish</th>\n      <th>Thai</th>\n    </tr>\n  </thead>\n  <tbody>\n    <tr>\n      <th>0</th>\n      <td>soy_sauce</td>\n      <td>onion</td>\n      <td>garlic</td>\n      <td>onion</td>\n      <td>olive_oil</td>\n      <td>onion</td>\n      <td>garlic</td>\n      <td>soy_sauce</td>\n      <td>onion</td>\n      <td>onion</td>\n      <td>garlic</td>\n      <td>garlic</td>\n    </tr>\n    <tr>\n      <th>1</th>\n      <td>garlic</td>\n      <td>butter</td>\n      <td>butter</td>\n      <td>pepper</td>\n      <td>garlic</td>\n      <td>garlic</td>\n      <td>olive_oil</td>\n      <td>rice_wine</td>\n      <td>tortilla</td>\n      <td>garlic</td>\n      <td>olive_oil</td>\n      <td>fish_sauce</td>\n    </tr>\n    <tr>\n      <th>2</th>\n      <td>ginger</td>\n      <td>potato</td>\n      <td>wine</td>\n      <td>salt</td>\n      <td>onion</td>\n      <td>ginger</td>\n      <td>parmesan_cheese</td>\n      <td>sugar</td>\n      <td>garlic</td>\n      <td>olive_oil</td>\n      <td>onion</td>\n      <td>chicken</td>\n    </tr>\n    <tr>\n      <th>3</th>\n      <td>cornstarch</td>\n      <td>garlic</td>\n      <td>onion</td>\n      <td>flour</td>\n      <td>oregano</td>\n      <td>cumin</td>\n      <td>onion</td>\n      <td>ginger</td>\n      <td>cumin</td>\n      <td>cumin</td>\n      <td>tomato</td>\n      <td>coconut_milk_or_cream</td>\n    </tr>\n    <tr>\n      <th>4</th>\n      <td>green_onion</td>\n      <td>flour</td>\n      <td>olive_oil</td>\n      <td>water</td>\n      <td>tomato</td>\n      <td>turmeric</td>\n      <td>pasta</td>\n      <td>garlic</td>\n      <td>salt</td>\n      <td>cinnamon</td>\n      <td>chicken</td>\n      <td>lime</td>\n    </tr>\n    <tr>\n      <th>5</th>\n      <td>chicken</td>\n      <td>olive_oil</td>\n      <td>salt</td>\n      <td>butter</td>\n      <td>pepper</td>\n      <td>salt</td>\n      <td>salt</td>\n      <td>green_onion</td>\n      <td>chicken</td>\n      <td>chicken</td>\n      <td>sweet_pepper</td>\n      <td>ginger</td>\n    </tr>\n    <tr>\n      <th>6</th>\n      <td>vegetable_oil</td>\n      <td>carrot</td>\n      <td>pepper</td>\n      <td>egg</td>\n      <td>feta_cheese</td>\n      <td>coriander</td>\n      <td>basil</td>\n      <td>water</td>\n      <td>chili_powder</td>\n      <td>salt</td>\n      <td>pepper</td>\n      <td>soy_sauce</td>\n    </tr>\n    <tr>\n      <th>7</th>\n      <td>sugar</td>\n      <td>beef</td>\n      <td>chicken</td>\n      <td>pork</td>\n      <td>salt</td>\n      <td>tomato</td>\n      <td>tomato</td>\n      <td>onion</td>\n      <td>tomato</td>\n      <td>ginger</td>\n      <td>paprika</td>\n      <td>cilantro</td>\n    </tr>\n    <tr>\n      <th>8</th>\n      <td>sesame_oil</td>\n      <td>chicken</td>\n      <td>thyme</td>\n      <td>bacon</td>\n      <td>lemon_juice</td>\n      <td>vegetable_oil</td>\n      <td>parsley</td>\n      <td>vegetable_oil</td>\n      <td>beef</td>\n      <td>pepper</td>\n      <td>salt</td>\n      <td>vegetable_oil</td>\n    </tr>\n    <tr>\n      <th>9</th>\n      <td>water</td>\n      <td>parsley</td>\n      <td>flour</td>\n      <td>beef</td>\n      <td>parsley</td>\n      <td>chicken</td>\n      <td>pepper</td>\n      <td>chicken</td>\n      <td>chile_pepper</td>\n      <td>parsley</td>\n      <td>rice</td>\n      <td>green_onion</td>\n    </tr>\n  </tbody>\n</table>\n</div>"
     },
     "metadata": {},
     "execution_count": 15
    }
   ],
   "source": [
    "test = top_ingredients(10)\n",
    "test.columns = ['Chinese', 'English', 'French', 'German', 'Greek', 'Indian', 'Italian', 'Japanese', 'Mexican', 'Moroccan', 'Spanish', 'Thai']\n",
    "test"
   ]
  },
  {
   "source": [
    "### Specific ingredients heatmap"
   ],
   "cell_type": "markdown",
   "metadata": {}
  },
  {
   "cell_type": "code",
   "execution_count": 16,
   "metadata": {},
   "outputs": [],
   "source": [
    "def specific_ingredients(df):\n",
    "\n",
    "    grouped_recipes = df.groupby(\"cuisine\").sum().reset_index()\n",
    "    recipes_feats = df.drop(columns = \"cuisine\")\n",
    "\n",
    "    ocur = []\n",
    "    spec_ingr = []\n",
    "    cuisine = []\n",
    "\n",
    "    for i in recipes_feats.columns:\n",
    "        a = grouped_recipes[[\"cuisine\", i]].where(grouped_recipes[i] >0).dropna()\n",
    "\n",
    "        if a.shape[0] == 1:\n",
    "            cuisine.append(a[\"cuisine\"].iloc[0])\n",
    "            ocur.append(a[i].iloc[0])\n",
    "            spec_ingr.append(i)\n",
    "    \n",
    "    specific_df = pd.DataFrame(data = zip(spec_ingr, cuisine, ocur), columns = [\"ingredient\", \"cuisine\", \"occurrence\"])\n",
    "\n",
    "    return specific_df"
   ]
  },
  {
   "cell_type": "code",
   "execution_count": 33,
   "metadata": {},
   "outputs": [
    {
     "output_type": "execute_result",
     "data": {
      "text/plain": [
       "           ingredient  cuisine  occurrence\n",
       "3       alfredo_sauce      6.0         3.0\n",
       "9               bagel      6.0         1.0\n",
       "49             emeril      6.0         1.0\n",
       "65      garlic_butter      6.0         1.0\n",
       "67       genoa_salami      6.0         1.0\n",
       "74         gorgonzola      6.0         2.0\n",
       "80       ground_round      6.0         1.0\n",
       "91      Italian_bread      6.0         2.0\n",
       "101         manicotti      6.0         2.0\n",
       "102    marinara_sauce      6.0         7.0\n",
       "104        mascarpone      6.0         1.0\n",
       "105      meatloaf_mix      6.0         1.0\n",
       "110   muscovado_sugar      6.0         1.0\n",
       "122   pecorino_cheese      6.0         2.0\n",
       "136         radicchio      6.0         1.0\n",
       "152  sliced_pepperoni      6.0         3.0\n",
       "187         wild_rice      6.0         1.0"
      ],
      "text/html": "<div>\n<style scoped>\n    .dataframe tbody tr th:only-of-type {\n        vertical-align: middle;\n    }\n\n    .dataframe tbody tr th {\n        vertical-align: top;\n    }\n\n    .dataframe thead th {\n        text-align: right;\n    }\n</style>\n<table border=\"1\" class=\"dataframe\">\n  <thead>\n    <tr style=\"text-align: right;\">\n      <th></th>\n      <th>ingredient</th>\n      <th>cuisine</th>\n      <th>occurrence</th>\n    </tr>\n  </thead>\n  <tbody>\n    <tr>\n      <th>3</th>\n      <td>alfredo_sauce</td>\n      <td>6.0</td>\n      <td>3.0</td>\n    </tr>\n    <tr>\n      <th>9</th>\n      <td>bagel</td>\n      <td>6.0</td>\n      <td>1.0</td>\n    </tr>\n    <tr>\n      <th>49</th>\n      <td>emeril</td>\n      <td>6.0</td>\n      <td>1.0</td>\n    </tr>\n    <tr>\n      <th>65</th>\n      <td>garlic_butter</td>\n      <td>6.0</td>\n      <td>1.0</td>\n    </tr>\n    <tr>\n      <th>67</th>\n      <td>genoa_salami</td>\n      <td>6.0</td>\n      <td>1.0</td>\n    </tr>\n    <tr>\n      <th>74</th>\n      <td>gorgonzola</td>\n      <td>6.0</td>\n      <td>2.0</td>\n    </tr>\n    <tr>\n      <th>80</th>\n      <td>ground_round</td>\n      <td>6.0</td>\n      <td>1.0</td>\n    </tr>\n    <tr>\n      <th>91</th>\n      <td>Italian_bread</td>\n      <td>6.0</td>\n      <td>2.0</td>\n    </tr>\n    <tr>\n      <th>101</th>\n      <td>manicotti</td>\n      <td>6.0</td>\n      <td>2.0</td>\n    </tr>\n    <tr>\n      <th>102</th>\n      <td>marinara_sauce</td>\n      <td>6.0</td>\n      <td>7.0</td>\n    </tr>\n    <tr>\n      <th>104</th>\n      <td>mascarpone</td>\n      <td>6.0</td>\n      <td>1.0</td>\n    </tr>\n    <tr>\n      <th>105</th>\n      <td>meatloaf_mix</td>\n      <td>6.0</td>\n      <td>1.0</td>\n    </tr>\n    <tr>\n      <th>110</th>\n      <td>muscovado_sugar</td>\n      <td>6.0</td>\n      <td>1.0</td>\n    </tr>\n    <tr>\n      <th>122</th>\n      <td>pecorino_cheese</td>\n      <td>6.0</td>\n      <td>2.0</td>\n    </tr>\n    <tr>\n      <th>136</th>\n      <td>radicchio</td>\n      <td>6.0</td>\n      <td>1.0</td>\n    </tr>\n    <tr>\n      <th>152</th>\n      <td>sliced_pepperoni</td>\n      <td>6.0</td>\n      <td>3.0</td>\n    </tr>\n    <tr>\n      <th>187</th>\n      <td>wild_rice</td>\n      <td>6.0</td>\n      <td>1.0</td>\n    </tr>\n  </tbody>\n</table>\n</div>"
     },
     "metadata": {},
     "execution_count": 33
    }
   ],
   "source": [
    "spec = gr.specific_ingredients(train)\n",
    "spec_names = pd.merge(spec, cuisines_df, on = \"cuisine\", how = \"inner\")\n",
    "spec[spec[\"cuisine\"] == 6]"
   ]
  },
  {
   "cell_type": "code",
   "execution_count": 18,
   "metadata": {},
   "outputs": [],
   "source": [
    "# Create a temporary dataframe for holding the country names for each cuisine in the dataset\n",
    "countries = ['UK', 'Greece', 'Thailand', 'Italy', 'India', 'Spain', 'Germany', 'Morocco', 'Mexico', 'Japan', 'France', 'China']\n",
    "countries_adjective = ['English', 'Greek', 'Thai', 'Italian', 'Indian', 'Spanish', 'German', 'Moroccan', 'Mexican', 'Japanese', 'French', 'Chinese']\n",
    "\n",
    "countries_df = pd.DataFrame(data= zip(countries, countries_adjective), columns = [\"country\", \"cuisine_name\"])"
   ]
  },
  {
   "cell_type": "code",
   "execution_count": 19,
   "metadata": {},
   "outputs": [],
   "source": [
    "spec_countries = pd.merge(spec_names, countries_df, how = \"inner\", on = \"cuisine_name\")\n",
    "heat_map = spec_countries.groupby(\"country\").count().reset_index()"
   ]
  },
  {
   "cell_type": "code",
   "execution_count": 20,
   "metadata": {},
   "outputs": [],
   "source": [
    "# Heatmap dictionaries \n",
    "data = dict(type='choropleth',\n",
    "           locations = heat_map['country'],\n",
    "            locationmode = \"country names\",\n",
    "           z = heat_map['occurrence'],\n",
    "           text = heat_map['country'],\n",
    "           colorbar = {'title' : 'Ingredients'},\n",
    "           colorscale = \"YlOrRd\",\n",
    "           zmax = heat_map[\"occurrence\"].max(),\n",
    "           zmin = heat_map[\"occurrence\"].min()\n",
    "           )\n",
    "layout = dict(\n",
    "    autosize=True,\n",
    "    width=1000,\n",
    "    height=700,\n",
    "    title = 'Specific ingredients per country',\n",
    "    geo = dict(\n",
    "        showframe = False,\n",
    "        projection = {'type':'natural earth'}\n",
    "    )\n",
    ")"
   ]
  },
  {
   "source": [
    "Possible projections: 'equirectangular', 'kavrayskiy7', 'miller', 'robinson', 'eckert4', 'azimuthal equal area', 'azimuthal equidistant', 'conic equal area', 'conic conformal', 'conic equidistant', 'gnomonic', 'stereographic', 'mollweide', 'hammer', 'transverse mercator', 'albers usa', 'winkel tripel', 'aitoff', 'sinusoidal'"
   ],
   "cell_type": "markdown",
   "metadata": {}
  },
  {
   "cell_type": "code",
   "execution_count": 21,
   "metadata": {},
   "outputs": [
    {
     "output_type": "display_data",
     "data": {
      "application/vnd.plotly.v1+json": {
       "config": {
        "linkText": "Export to plot.ly",
        "plotlyServerURL": "https://plot.ly",
        "showLink": false
       },
       "data": [
        {
         "colorbar": {
          "title": {
           "text": "Ingredients"
          }
         },
         "colorscale": [
          [
           0,
           "rgb(255,255,204)"
          ],
          [
           0.125,
           "rgb(255,237,160)"
          ],
          [
           0.25,
           "rgb(254,217,118)"
          ],
          [
           0.375,
           "rgb(254,178,76)"
          ],
          [
           0.5,
           "rgb(253,141,60)"
          ],
          [
           0.625,
           "rgb(252,78,42)"
          ],
          [
           0.75,
           "rgb(227,26,28)"
          ],
          [
           0.875,
           "rgb(189,0,38)"
          ],
          [
           1,
           "rgb(128,0,38)"
          ]
         ],
         "locationmode": "country names",
         "locations": [
          "China",
          "France",
          "Germany",
          "Greece",
          "India",
          "Italy",
          "Japan",
          "Mexico",
          "Morocco",
          "Spain",
          "Thailand",
          "UK"
         ],
         "text": [
          "China",
          "France",
          "Germany",
          "Greece",
          "India",
          "Italy",
          "Japan",
          "Mexico",
          "Morocco",
          "Spain",
          "Thailand",
          "UK"
         ],
         "type": "choropleth",
         "z": [
          9,
          10,
          21,
          6,
          14,
          17,
          21,
          28,
          13,
          17,
          16,
          20
         ],
         "zmax": 28,
         "zmin": 6
        }
       ],
       "layout": {
        "autosize": true,
        "geo": {
         "projection": {
          "type": "natural earth"
         },
         "showframe": false
        },
        "height": 700,
        "template": {
         "data": {
          "bar": [
           {
            "error_x": {
             "color": "#2a3f5f"
            },
            "error_y": {
             "color": "#2a3f5f"
            },
            "marker": {
             "line": {
              "color": "#E5ECF6",
              "width": 0.5
             }
            },
            "type": "bar"
           }
          ],
          "barpolar": [
           {
            "marker": {
             "line": {
              "color": "#E5ECF6",
              "width": 0.5
             }
            },
            "type": "barpolar"
           }
          ],
          "carpet": [
           {
            "aaxis": {
             "endlinecolor": "#2a3f5f",
             "gridcolor": "white",
             "linecolor": "white",
             "minorgridcolor": "white",
             "startlinecolor": "#2a3f5f"
            },
            "baxis": {
             "endlinecolor": "#2a3f5f",
             "gridcolor": "white",
             "linecolor": "white",
             "minorgridcolor": "white",
             "startlinecolor": "#2a3f5f"
            },
            "type": "carpet"
           }
          ],
          "choropleth": [
           {
            "colorbar": {
             "outlinewidth": 0,
             "ticks": ""
            },
            "type": "choropleth"
           }
          ],
          "contour": [
           {
            "colorbar": {
             "outlinewidth": 0,
             "ticks": ""
            },
            "colorscale": [
             [
              0,
              "#0d0887"
             ],
             [
              0.1111111111111111,
              "#46039f"
             ],
             [
              0.2222222222222222,
              "#7201a8"
             ],
             [
              0.3333333333333333,
              "#9c179e"
             ],
             [
              0.4444444444444444,
              "#bd3786"
             ],
             [
              0.5555555555555556,
              "#d8576b"
             ],
             [
              0.6666666666666666,
              "#ed7953"
             ],
             [
              0.7777777777777778,
              "#fb9f3a"
             ],
             [
              0.8888888888888888,
              "#fdca26"
             ],
             [
              1,
              "#f0f921"
             ]
            ],
            "type": "contour"
           }
          ],
          "contourcarpet": [
           {
            "colorbar": {
             "outlinewidth": 0,
             "ticks": ""
            },
            "type": "contourcarpet"
           }
          ],
          "heatmap": [
           {
            "colorbar": {
             "outlinewidth": 0,
             "ticks": ""
            },
            "colorscale": [
             [
              0,
              "#0d0887"
             ],
             [
              0.1111111111111111,
              "#46039f"
             ],
             [
              0.2222222222222222,
              "#7201a8"
             ],
             [
              0.3333333333333333,
              "#9c179e"
             ],
             [
              0.4444444444444444,
              "#bd3786"
             ],
             [
              0.5555555555555556,
              "#d8576b"
             ],
             [
              0.6666666666666666,
              "#ed7953"
             ],
             [
              0.7777777777777778,
              "#fb9f3a"
             ],
             [
              0.8888888888888888,
              "#fdca26"
             ],
             [
              1,
              "#f0f921"
             ]
            ],
            "type": "heatmap"
           }
          ],
          "heatmapgl": [
           {
            "colorbar": {
             "outlinewidth": 0,
             "ticks": ""
            },
            "colorscale": [
             [
              0,
              "#0d0887"
             ],
             [
              0.1111111111111111,
              "#46039f"
             ],
             [
              0.2222222222222222,
              "#7201a8"
             ],
             [
              0.3333333333333333,
              "#9c179e"
             ],
             [
              0.4444444444444444,
              "#bd3786"
             ],
             [
              0.5555555555555556,
              "#d8576b"
             ],
             [
              0.6666666666666666,
              "#ed7953"
             ],
             [
              0.7777777777777778,
              "#fb9f3a"
             ],
             [
              0.8888888888888888,
              "#fdca26"
             ],
             [
              1,
              "#f0f921"
             ]
            ],
            "type": "heatmapgl"
           }
          ],
          "histogram": [
           {
            "marker": {
             "colorbar": {
              "outlinewidth": 0,
              "ticks": ""
             }
            },
            "type": "histogram"
           }
          ],
          "histogram2d": [
           {
            "colorbar": {
             "outlinewidth": 0,
             "ticks": ""
            },
            "colorscale": [
             [
              0,
              "#0d0887"
             ],
             [
              0.1111111111111111,
              "#46039f"
             ],
             [
              0.2222222222222222,
              "#7201a8"
             ],
             [
              0.3333333333333333,
              "#9c179e"
             ],
             [
              0.4444444444444444,
              "#bd3786"
             ],
             [
              0.5555555555555556,
              "#d8576b"
             ],
             [
              0.6666666666666666,
              "#ed7953"
             ],
             [
              0.7777777777777778,
              "#fb9f3a"
             ],
             [
              0.8888888888888888,
              "#fdca26"
             ],
             [
              1,
              "#f0f921"
             ]
            ],
            "type": "histogram2d"
           }
          ],
          "histogram2dcontour": [
           {
            "colorbar": {
             "outlinewidth": 0,
             "ticks": ""
            },
            "colorscale": [
             [
              0,
              "#0d0887"
             ],
             [
              0.1111111111111111,
              "#46039f"
             ],
             [
              0.2222222222222222,
              "#7201a8"
             ],
             [
              0.3333333333333333,
              "#9c179e"
             ],
             [
              0.4444444444444444,
              "#bd3786"
             ],
             [
              0.5555555555555556,
              "#d8576b"
             ],
             [
              0.6666666666666666,
              "#ed7953"
             ],
             [
              0.7777777777777778,
              "#fb9f3a"
             ],
             [
              0.8888888888888888,
              "#fdca26"
             ],
             [
              1,
              "#f0f921"
             ]
            ],
            "type": "histogram2dcontour"
           }
          ],
          "mesh3d": [
           {
            "colorbar": {
             "outlinewidth": 0,
             "ticks": ""
            },
            "type": "mesh3d"
           }
          ],
          "parcoords": [
           {
            "line": {
             "colorbar": {
              "outlinewidth": 0,
              "ticks": ""
             }
            },
            "type": "parcoords"
           }
          ],
          "pie": [
           {
            "automargin": true,
            "type": "pie"
           }
          ],
          "scatter": [
           {
            "marker": {
             "colorbar": {
              "outlinewidth": 0,
              "ticks": ""
             }
            },
            "type": "scatter"
           }
          ],
          "scatter3d": [
           {
            "line": {
             "colorbar": {
              "outlinewidth": 0,
              "ticks": ""
             }
            },
            "marker": {
             "colorbar": {
              "outlinewidth": 0,
              "ticks": ""
             }
            },
            "type": "scatter3d"
           }
          ],
          "scattercarpet": [
           {
            "marker": {
             "colorbar": {
              "outlinewidth": 0,
              "ticks": ""
             }
            },
            "type": "scattercarpet"
           }
          ],
          "scattergeo": [
           {
            "marker": {
             "colorbar": {
              "outlinewidth": 0,
              "ticks": ""
             }
            },
            "type": "scattergeo"
           }
          ],
          "scattergl": [
           {
            "marker": {
             "colorbar": {
              "outlinewidth": 0,
              "ticks": ""
             }
            },
            "type": "scattergl"
           }
          ],
          "scattermapbox": [
           {
            "marker": {
             "colorbar": {
              "outlinewidth": 0,
              "ticks": ""
             }
            },
            "type": "scattermapbox"
           }
          ],
          "scatterpolar": [
           {
            "marker": {
             "colorbar": {
              "outlinewidth": 0,
              "ticks": ""
             }
            },
            "type": "scatterpolar"
           }
          ],
          "scatterpolargl": [
           {
            "marker": {
             "colorbar": {
              "outlinewidth": 0,
              "ticks": ""
             }
            },
            "type": "scatterpolargl"
           }
          ],
          "scatterternary": [
           {
            "marker": {
             "colorbar": {
              "outlinewidth": 0,
              "ticks": ""
             }
            },
            "type": "scatterternary"
           }
          ],
          "surface": [
           {
            "colorbar": {
             "outlinewidth": 0,
             "ticks": ""
            },
            "colorscale": [
             [
              0,
              "#0d0887"
             ],
             [
              0.1111111111111111,
              "#46039f"
             ],
             [
              0.2222222222222222,
              "#7201a8"
             ],
             [
              0.3333333333333333,
              "#9c179e"
             ],
             [
              0.4444444444444444,
              "#bd3786"
             ],
             [
              0.5555555555555556,
              "#d8576b"
             ],
             [
              0.6666666666666666,
              "#ed7953"
             ],
             [
              0.7777777777777778,
              "#fb9f3a"
             ],
             [
              0.8888888888888888,
              "#fdca26"
             ],
             [
              1,
              "#f0f921"
             ]
            ],
            "type": "surface"
           }
          ],
          "table": [
           {
            "cells": {
             "fill": {
              "color": "#EBF0F8"
             },
             "line": {
              "color": "white"
             }
            },
            "header": {
             "fill": {
              "color": "#C8D4E3"
             },
             "line": {
              "color": "white"
             }
            },
            "type": "table"
           }
          ]
         },
         "layout": {
          "annotationdefaults": {
           "arrowcolor": "#2a3f5f",
           "arrowhead": 0,
           "arrowwidth": 1
          },
          "autotypenumbers": "strict",
          "coloraxis": {
           "colorbar": {
            "outlinewidth": 0,
            "ticks": ""
           }
          },
          "colorscale": {
           "diverging": [
            [
             0,
             "#8e0152"
            ],
            [
             0.1,
             "#c51b7d"
            ],
            [
             0.2,
             "#de77ae"
            ],
            [
             0.3,
             "#f1b6da"
            ],
            [
             0.4,
             "#fde0ef"
            ],
            [
             0.5,
             "#f7f7f7"
            ],
            [
             0.6,
             "#e6f5d0"
            ],
            [
             0.7,
             "#b8e186"
            ],
            [
             0.8,
             "#7fbc41"
            ],
            [
             0.9,
             "#4d9221"
            ],
            [
             1,
             "#276419"
            ]
           ],
           "sequential": [
            [
             0,
             "#0d0887"
            ],
            [
             0.1111111111111111,
             "#46039f"
            ],
            [
             0.2222222222222222,
             "#7201a8"
            ],
            [
             0.3333333333333333,
             "#9c179e"
            ],
            [
             0.4444444444444444,
             "#bd3786"
            ],
            [
             0.5555555555555556,
             "#d8576b"
            ],
            [
             0.6666666666666666,
             "#ed7953"
            ],
            [
             0.7777777777777778,
             "#fb9f3a"
            ],
            [
             0.8888888888888888,
             "#fdca26"
            ],
            [
             1,
             "#f0f921"
            ]
           ],
           "sequentialminus": [
            [
             0,
             "#0d0887"
            ],
            [
             0.1111111111111111,
             "#46039f"
            ],
            [
             0.2222222222222222,
             "#7201a8"
            ],
            [
             0.3333333333333333,
             "#9c179e"
            ],
            [
             0.4444444444444444,
             "#bd3786"
            ],
            [
             0.5555555555555556,
             "#d8576b"
            ],
            [
             0.6666666666666666,
             "#ed7953"
            ],
            [
             0.7777777777777778,
             "#fb9f3a"
            ],
            [
             0.8888888888888888,
             "#fdca26"
            ],
            [
             1,
             "#f0f921"
            ]
           ]
          },
          "colorway": [
           "#636efa",
           "#EF553B",
           "#00cc96",
           "#ab63fa",
           "#FFA15A",
           "#19d3f3",
           "#FF6692",
           "#B6E880",
           "#FF97FF",
           "#FECB52"
          ],
          "font": {
           "color": "#2a3f5f"
          },
          "geo": {
           "bgcolor": "white",
           "lakecolor": "white",
           "landcolor": "#E5ECF6",
           "showlakes": true,
           "showland": true,
           "subunitcolor": "white"
          },
          "hoverlabel": {
           "align": "left"
          },
          "hovermode": "closest",
          "mapbox": {
           "style": "light"
          },
          "paper_bgcolor": "white",
          "plot_bgcolor": "#E5ECF6",
          "polar": {
           "angularaxis": {
            "gridcolor": "white",
            "linecolor": "white",
            "ticks": ""
           },
           "bgcolor": "#E5ECF6",
           "radialaxis": {
            "gridcolor": "white",
            "linecolor": "white",
            "ticks": ""
           }
          },
          "scene": {
           "xaxis": {
            "backgroundcolor": "#E5ECF6",
            "gridcolor": "white",
            "gridwidth": 2,
            "linecolor": "white",
            "showbackground": true,
            "ticks": "",
            "zerolinecolor": "white"
           },
           "yaxis": {
            "backgroundcolor": "#E5ECF6",
            "gridcolor": "white",
            "gridwidth": 2,
            "linecolor": "white",
            "showbackground": true,
            "ticks": "",
            "zerolinecolor": "white"
           },
           "zaxis": {
            "backgroundcolor": "#E5ECF6",
            "gridcolor": "white",
            "gridwidth": 2,
            "linecolor": "white",
            "showbackground": true,
            "ticks": "",
            "zerolinecolor": "white"
           }
          },
          "shapedefaults": {
           "line": {
            "color": "#2a3f5f"
           }
          },
          "ternary": {
           "aaxis": {
            "gridcolor": "white",
            "linecolor": "white",
            "ticks": ""
           },
           "baxis": {
            "gridcolor": "white",
            "linecolor": "white",
            "ticks": ""
           },
           "bgcolor": "#E5ECF6",
           "caxis": {
            "gridcolor": "white",
            "linecolor": "white",
            "ticks": ""
           }
          },
          "title": {
           "x": 0.05
          },
          "xaxis": {
           "automargin": true,
           "gridcolor": "white",
           "linecolor": "white",
           "ticks": "",
           "title": {
            "standoff": 15
           },
           "zerolinecolor": "white",
           "zerolinewidth": 2
          },
          "yaxis": {
           "automargin": true,
           "gridcolor": "white",
           "linecolor": "white",
           "ticks": "",
           "title": {
            "standoff": 15
           },
           "zerolinecolor": "white",
           "zerolinewidth": 2
          }
         }
        },
        "title": {
         "text": "Specific ingredients per country"
        },
        "width": 1000
       }
      },
      "text/html": "<div>                            <div id=\"cf168e86-e78a-43d7-ab7d-c9b730ccb90b\" class=\"plotly-graph-div\" style=\"height:700px; width:1000px;\"></div>            <script type=\"text/javascript\">                require([\"plotly\"], function(Plotly) {                    window.PLOTLYENV=window.PLOTLYENV || {};                                    if (document.getElementById(\"cf168e86-e78a-43d7-ab7d-c9b730ccb90b\")) {                    Plotly.newPlot(                        \"cf168e86-e78a-43d7-ab7d-c9b730ccb90b\",                        [{\"colorbar\": {\"title\": {\"text\": \"Ingredients\"}}, \"colorscale\": [[0.0, \"rgb(255,255,204)\"], [0.125, \"rgb(255,237,160)\"], [0.25, \"rgb(254,217,118)\"], [0.375, \"rgb(254,178,76)\"], [0.5, \"rgb(253,141,60)\"], [0.625, \"rgb(252,78,42)\"], [0.75, \"rgb(227,26,28)\"], [0.875, \"rgb(189,0,38)\"], [1.0, \"rgb(128,0,38)\"]], \"locationmode\": \"country names\", \"locations\": [\"China\", \"France\", \"Germany\", \"Greece\", \"India\", \"Italy\", \"Japan\", \"Mexico\", \"Morocco\", \"Spain\", \"Thailand\", \"UK\"], \"text\": [\"China\", \"France\", \"Germany\", \"Greece\", \"India\", \"Italy\", \"Japan\", \"Mexico\", \"Morocco\", \"Spain\", \"Thailand\", \"UK\"], \"type\": \"choropleth\", \"z\": [9, 10, 21, 6, 14, 17, 21, 28, 13, 17, 16, 20], \"zmax\": 28, \"zmin\": 6}],                        {\"autosize\": true, \"geo\": {\"projection\": {\"type\": \"natural earth\"}, \"showframe\": false}, \"height\": 700, \"template\": {\"data\": {\"bar\": [{\"error_x\": {\"color\": \"#2a3f5f\"}, \"error_y\": {\"color\": \"#2a3f5f\"}, \"marker\": {\"line\": {\"color\": \"#E5ECF6\", \"width\": 0.5}}, \"type\": \"bar\"}], \"barpolar\": [{\"marker\": {\"line\": {\"color\": \"#E5ECF6\", \"width\": 0.5}}, \"type\": \"barpolar\"}], \"carpet\": [{\"aaxis\": {\"endlinecolor\": \"#2a3f5f\", \"gridcolor\": \"white\", \"linecolor\": \"white\", \"minorgridcolor\": \"white\", \"startlinecolor\": \"#2a3f5f\"}, \"baxis\": {\"endlinecolor\": \"#2a3f5f\", \"gridcolor\": \"white\", \"linecolor\": \"white\", \"minorgridcolor\": \"white\", \"startlinecolor\": \"#2a3f5f\"}, \"type\": \"carpet\"}], \"choropleth\": [{\"colorbar\": {\"outlinewidth\": 0, \"ticks\": \"\"}, \"type\": \"choropleth\"}], \"contour\": [{\"colorbar\": {\"outlinewidth\": 0, \"ticks\": \"\"}, \"colorscale\": [[0.0, \"#0d0887\"], [0.1111111111111111, \"#46039f\"], [0.2222222222222222, \"#7201a8\"], [0.3333333333333333, \"#9c179e\"], [0.4444444444444444, \"#bd3786\"], [0.5555555555555556, \"#d8576b\"], [0.6666666666666666, \"#ed7953\"], [0.7777777777777778, \"#fb9f3a\"], [0.8888888888888888, \"#fdca26\"], [1.0, \"#f0f921\"]], \"type\": \"contour\"}], \"contourcarpet\": [{\"colorbar\": {\"outlinewidth\": 0, \"ticks\": \"\"}, \"type\": \"contourcarpet\"}], \"heatmap\": [{\"colorbar\": {\"outlinewidth\": 0, \"ticks\": \"\"}, \"colorscale\": [[0.0, \"#0d0887\"], [0.1111111111111111, \"#46039f\"], [0.2222222222222222, \"#7201a8\"], [0.3333333333333333, \"#9c179e\"], [0.4444444444444444, \"#bd3786\"], [0.5555555555555556, \"#d8576b\"], [0.6666666666666666, \"#ed7953\"], [0.7777777777777778, \"#fb9f3a\"], [0.8888888888888888, \"#fdca26\"], [1.0, \"#f0f921\"]], \"type\": \"heatmap\"}], \"heatmapgl\": [{\"colorbar\": {\"outlinewidth\": 0, \"ticks\": \"\"}, \"colorscale\": [[0.0, \"#0d0887\"], [0.1111111111111111, \"#46039f\"], [0.2222222222222222, \"#7201a8\"], [0.3333333333333333, \"#9c179e\"], [0.4444444444444444, \"#bd3786\"], [0.5555555555555556, \"#d8576b\"], [0.6666666666666666, \"#ed7953\"], [0.7777777777777778, \"#fb9f3a\"], [0.8888888888888888, \"#fdca26\"], [1.0, \"#f0f921\"]], \"type\": \"heatmapgl\"}], \"histogram\": [{\"marker\": {\"colorbar\": {\"outlinewidth\": 0, \"ticks\": \"\"}}, \"type\": \"histogram\"}], \"histogram2d\": [{\"colorbar\": {\"outlinewidth\": 0, \"ticks\": \"\"}, \"colorscale\": [[0.0, \"#0d0887\"], [0.1111111111111111, \"#46039f\"], [0.2222222222222222, \"#7201a8\"], [0.3333333333333333, \"#9c179e\"], [0.4444444444444444, \"#bd3786\"], [0.5555555555555556, \"#d8576b\"], [0.6666666666666666, \"#ed7953\"], [0.7777777777777778, \"#fb9f3a\"], [0.8888888888888888, \"#fdca26\"], [1.0, \"#f0f921\"]], \"type\": \"histogram2d\"}], \"histogram2dcontour\": [{\"colorbar\": {\"outlinewidth\": 0, \"ticks\": \"\"}, \"colorscale\": [[0.0, \"#0d0887\"], [0.1111111111111111, \"#46039f\"], [0.2222222222222222, \"#7201a8\"], [0.3333333333333333, \"#9c179e\"], [0.4444444444444444, \"#bd3786\"], [0.5555555555555556, \"#d8576b\"], [0.6666666666666666, \"#ed7953\"], [0.7777777777777778, \"#fb9f3a\"], [0.8888888888888888, \"#fdca26\"], [1.0, \"#f0f921\"]], \"type\": \"histogram2dcontour\"}], \"mesh3d\": [{\"colorbar\": {\"outlinewidth\": 0, \"ticks\": \"\"}, \"type\": \"mesh3d\"}], \"parcoords\": [{\"line\": {\"colorbar\": {\"outlinewidth\": 0, \"ticks\": \"\"}}, \"type\": \"parcoords\"}], \"pie\": [{\"automargin\": true, \"type\": \"pie\"}], \"scatter\": [{\"marker\": {\"colorbar\": {\"outlinewidth\": 0, \"ticks\": \"\"}}, \"type\": \"scatter\"}], \"scatter3d\": [{\"line\": {\"colorbar\": {\"outlinewidth\": 0, \"ticks\": \"\"}}, \"marker\": {\"colorbar\": {\"outlinewidth\": 0, \"ticks\": \"\"}}, \"type\": \"scatter3d\"}], \"scattercarpet\": [{\"marker\": {\"colorbar\": {\"outlinewidth\": 0, \"ticks\": \"\"}}, \"type\": \"scattercarpet\"}], \"scattergeo\": [{\"marker\": {\"colorbar\": {\"outlinewidth\": 0, \"ticks\": \"\"}}, \"type\": \"scattergeo\"}], \"scattergl\": [{\"marker\": {\"colorbar\": {\"outlinewidth\": 0, \"ticks\": \"\"}}, \"type\": \"scattergl\"}], \"scattermapbox\": [{\"marker\": {\"colorbar\": {\"outlinewidth\": 0, \"ticks\": \"\"}}, \"type\": \"scattermapbox\"}], \"scatterpolar\": [{\"marker\": {\"colorbar\": {\"outlinewidth\": 0, \"ticks\": \"\"}}, \"type\": \"scatterpolar\"}], \"scatterpolargl\": [{\"marker\": {\"colorbar\": {\"outlinewidth\": 0, \"ticks\": \"\"}}, \"type\": \"scatterpolargl\"}], \"scatterternary\": [{\"marker\": {\"colorbar\": {\"outlinewidth\": 0, \"ticks\": \"\"}}, \"type\": \"scatterternary\"}], \"surface\": [{\"colorbar\": {\"outlinewidth\": 0, \"ticks\": \"\"}, \"colorscale\": [[0.0, \"#0d0887\"], [0.1111111111111111, \"#46039f\"], [0.2222222222222222, \"#7201a8\"], [0.3333333333333333, \"#9c179e\"], [0.4444444444444444, \"#bd3786\"], [0.5555555555555556, \"#d8576b\"], [0.6666666666666666, \"#ed7953\"], [0.7777777777777778, \"#fb9f3a\"], [0.8888888888888888, \"#fdca26\"], [1.0, \"#f0f921\"]], \"type\": \"surface\"}], \"table\": [{\"cells\": {\"fill\": {\"color\": \"#EBF0F8\"}, \"line\": {\"color\": \"white\"}}, \"header\": {\"fill\": {\"color\": \"#C8D4E3\"}, \"line\": {\"color\": \"white\"}}, \"type\": \"table\"}]}, \"layout\": {\"annotationdefaults\": {\"arrowcolor\": \"#2a3f5f\", \"arrowhead\": 0, \"arrowwidth\": 1}, \"autotypenumbers\": \"strict\", \"coloraxis\": {\"colorbar\": {\"outlinewidth\": 0, \"ticks\": \"\"}}, \"colorscale\": {\"diverging\": [[0, \"#8e0152\"], [0.1, \"#c51b7d\"], [0.2, \"#de77ae\"], [0.3, \"#f1b6da\"], [0.4, \"#fde0ef\"], [0.5, \"#f7f7f7\"], [0.6, \"#e6f5d0\"], [0.7, \"#b8e186\"], [0.8, \"#7fbc41\"], [0.9, \"#4d9221\"], [1, \"#276419\"]], \"sequential\": [[0.0, \"#0d0887\"], [0.1111111111111111, \"#46039f\"], [0.2222222222222222, \"#7201a8\"], [0.3333333333333333, \"#9c179e\"], [0.4444444444444444, \"#bd3786\"], [0.5555555555555556, \"#d8576b\"], [0.6666666666666666, \"#ed7953\"], [0.7777777777777778, \"#fb9f3a\"], [0.8888888888888888, \"#fdca26\"], [1.0, \"#f0f921\"]], \"sequentialminus\": [[0.0, \"#0d0887\"], [0.1111111111111111, \"#46039f\"], [0.2222222222222222, \"#7201a8\"], [0.3333333333333333, \"#9c179e\"], [0.4444444444444444, \"#bd3786\"], [0.5555555555555556, \"#d8576b\"], [0.6666666666666666, \"#ed7953\"], [0.7777777777777778, \"#fb9f3a\"], [0.8888888888888888, \"#fdca26\"], [1.0, \"#f0f921\"]]}, \"colorway\": [\"#636efa\", \"#EF553B\", \"#00cc96\", \"#ab63fa\", \"#FFA15A\", \"#19d3f3\", \"#FF6692\", \"#B6E880\", \"#FF97FF\", \"#FECB52\"], \"font\": {\"color\": \"#2a3f5f\"}, \"geo\": {\"bgcolor\": \"white\", \"lakecolor\": \"white\", \"landcolor\": \"#E5ECF6\", \"showlakes\": true, \"showland\": true, \"subunitcolor\": \"white\"}, \"hoverlabel\": {\"align\": \"left\"}, \"hovermode\": \"closest\", \"mapbox\": {\"style\": \"light\"}, \"paper_bgcolor\": \"white\", \"plot_bgcolor\": \"#E5ECF6\", \"polar\": {\"angularaxis\": {\"gridcolor\": \"white\", \"linecolor\": \"white\", \"ticks\": \"\"}, \"bgcolor\": \"#E5ECF6\", \"radialaxis\": {\"gridcolor\": \"white\", \"linecolor\": \"white\", \"ticks\": \"\"}}, \"scene\": {\"xaxis\": {\"backgroundcolor\": \"#E5ECF6\", \"gridcolor\": \"white\", \"gridwidth\": 2, \"linecolor\": \"white\", \"showbackground\": true, \"ticks\": \"\", \"zerolinecolor\": \"white\"}, \"yaxis\": {\"backgroundcolor\": \"#E5ECF6\", \"gridcolor\": \"white\", \"gridwidth\": 2, \"linecolor\": \"white\", \"showbackground\": true, \"ticks\": \"\", \"zerolinecolor\": \"white\"}, \"zaxis\": {\"backgroundcolor\": \"#E5ECF6\", \"gridcolor\": \"white\", \"gridwidth\": 2, \"linecolor\": \"white\", \"showbackground\": true, \"ticks\": \"\", \"zerolinecolor\": \"white\"}}, \"shapedefaults\": {\"line\": {\"color\": \"#2a3f5f\"}}, \"ternary\": {\"aaxis\": {\"gridcolor\": \"white\", \"linecolor\": \"white\", \"ticks\": \"\"}, \"baxis\": {\"gridcolor\": \"white\", \"linecolor\": \"white\", \"ticks\": \"\"}, \"bgcolor\": \"#E5ECF6\", \"caxis\": {\"gridcolor\": \"white\", \"linecolor\": \"white\", \"ticks\": \"\"}}, \"title\": {\"x\": 0.05}, \"xaxis\": {\"automargin\": true, \"gridcolor\": \"white\", \"linecolor\": \"white\", \"ticks\": \"\", \"title\": {\"standoff\": 15}, \"zerolinecolor\": \"white\", \"zerolinewidth\": 2}, \"yaxis\": {\"automargin\": true, \"gridcolor\": \"white\", \"linecolor\": \"white\", \"ticks\": \"\", \"title\": {\"standoff\": 15}, \"zerolinecolor\": \"white\", \"zerolinewidth\": 2}}}, \"title\": {\"text\": \"Specific ingredients per country\"}, \"width\": 1000},                        {\"responsive\": true}                    ).then(function(){\n                            \nvar gd = document.getElementById('cf168e86-e78a-43d7-ab7d-c9b730ccb90b');\nvar x = new MutationObserver(function (mutations, observer) {{\n        var display = window.getComputedStyle(gd).display;\n        if (!display || display === 'none') {{\n            console.log([gd, 'removed!']);\n            Plotly.purge(gd);\n            observer.disconnect();\n        }}\n}});\n\n// Listen for the removal of the full notebook cells\nvar notebookContainer = gd.closest('#notebook-container');\nif (notebookContainer) {{\n    x.observe(notebookContainer, {childList: true});\n}}\n\n// Listen for the clearing of the current output cell\nvar outputEl = gd.closest('.output');\nif (outputEl) {{\n    x.observe(outputEl, {childList: true});\n}}\n\n                        })                };                });            </script>        </div>"
     },
     "metadata": {}
    }
   ],
   "source": [
    "choromap = go.Figure(data = [data],layout = layout)\n",
    "iplot(choromap,validate=False)"
   ]
  },
  {
   "source": [
    "## Dimensionality reduction\n",
    "### Remove ingredients that only appear once or twice in a recipe"
   ],
   "cell_type": "markdown",
   "metadata": {}
  },
  {
   "cell_type": "code",
   "execution_count": 22,
   "metadata": {},
   "outputs": [],
   "source": [
    "least_pop_ing = sums.loc[sums[\"counter\"] <= 2].reset_index()[\"index\"].to_list()"
   ]
  },
  {
   "cell_type": "code",
   "execution_count": 23,
   "metadata": {},
   "outputs": [],
   "source": [
    "# Remove least popular ingredients (appearing only once or twice in recipes)\n",
    "\n",
    "train_clean = train.copy().drop(columns = least_pop_ing)"
   ]
  },
  {
   "source": [
    "### PCA"
   ],
   "cell_type": "markdown",
   "metadata": {}
  },
  {
   "cell_type": "code",
   "execution_count": 24,
   "metadata": {},
   "outputs": [],
   "source": [
    "# get data ready for PCA\n",
    "\n",
    "pca_df = pd.merge(train_clean, cuisines_df, on = \"cuisine\", how = \"inner\")\n",
    "\n",
    "X = pca_df.drop(columns = [\"cuisine\", \"cuisine_name\"])\n",
    "y = pca_df[\"cuisine\"]\n",
    "y_name = pca_df[\"cuisine_name\"]"
   ]
  },
  {
   "cell_type": "code",
   "execution_count": 25,
   "metadata": {},
   "outputs": [
    {
     "output_type": "stream",
     "name": "stdout",
     "text": [
      "Explained variation per principal component: [0.05595789 0.04428001 0.03578916]\n"
     ]
    }
   ],
   "source": [
    "# PCA\n",
    "\n",
    "pca = PCA(n_components=3)\n",
    "pca_result = pca.fit_transform(X)\n",
    "pca_df['pca-one-d'] = pca_result[:,0]\n",
    "pca_df['pca-two-d'] = pca_result[:,1] \n",
    "pca_df['pca-three-d'] = pca_result[:,2]\n",
    "print(f'Explained variation per principal component: {pca.explained_variance_ratio_}')"
   ]
  },
  {
   "cell_type": "code",
   "execution_count": 26,
   "metadata": {},
   "outputs": [
    {
     "output_type": "execute_result",
     "data": {
      "text/plain": [
       "array(['English', 'Greek', 'Moroccan', 'Italian', 'Indian', 'Spanish',\n",
       "       'Mexican', 'Japanese', 'German', 'French', 'Thai', 'Chinese'],\n",
       "      dtype=object)"
      ]
     },
     "metadata": {},
     "execution_count": 26
    }
   ],
   "source": [
    "spec_names[\"cuisine_name\"].unique()"
   ]
  },
  {
   "source": [
    "## Preparing data for TD-IDF"
   ],
   "cell_type": "markdown",
   "metadata": {}
  },
  {
   "cell_type": "code",
   "execution_count": 27,
   "metadata": {},
   "outputs": [],
   "source": [
    "from sklearn.feature_extraction.text import TfidfVectorizer, CountVectorizer\n",
    "from sklearn.metrics.pairwise import cosine_similarity\n",
    " "
   ]
  },
  {
   "cell_type": "code",
   "execution_count": 28,
   "metadata": {},
   "outputs": [
    {
     "output_type": "error",
     "ename": "NameError",
     "evalue": "name 'malletFile' is not defined",
     "traceback": [
      "\u001b[1;31m---------------------------------------------------------------------------\u001b[0m",
      "\u001b[1;31mNameError\u001b[0m                                 Traceback (most recent call last)",
      "\u001b[1;32m<ipython-input-28-bafcbd054eda>\u001b[0m in \u001b[0;36m<module>\u001b[1;34m\u001b[0m\n\u001b[0;32m      3\u001b[0m \u001b[0mmallet_columns\u001b[0m\u001b[1;33m.\u001b[0m\u001b[0minsert\u001b[0m\u001b[1;33m(\u001b[0m\u001b[1;36m1\u001b[0m\u001b[1;33m,\u001b[0m \u001b[1;34m\"cuisine_id\"\u001b[0m\u001b[1;33m)\u001b[0m\u001b[1;33m\u001b[0m\u001b[1;33m\u001b[0m\u001b[0m\n\u001b[0;32m      4\u001b[0m \u001b[1;33m\u001b[0m\u001b[0m\n\u001b[1;32m----> 5\u001b[1;33m \u001b[0mmallet_df\u001b[0m \u001b[1;33m=\u001b[0m \u001b[0mpd\u001b[0m\u001b[1;33m.\u001b[0m\u001b[0mread_table\u001b[0m\u001b[1;33m(\u001b[0m\u001b[0mmalletFile\u001b[0m\u001b[1;33m,\u001b[0m \u001b[0mdelimiter\u001b[0m\u001b[1;33m=\u001b[0m\u001b[1;34m\",\"\u001b[0m\u001b[1;33m,\u001b[0m \u001b[0mheader\u001b[0m\u001b[1;33m=\u001b[0m\u001b[1;32mNone\u001b[0m\u001b[1;33m,\u001b[0m \u001b[0mnames\u001b[0m\u001b[1;33m=\u001b[0m\u001b[0mmallet_columns\u001b[0m\u001b[1;33m)\u001b[0m\u001b[1;33m\u001b[0m\u001b[1;33m\u001b[0m\u001b[0m\n\u001b[0m\u001b[0;32m      6\u001b[0m \u001b[1;33m\u001b[0m\u001b[0m\n\u001b[0;32m      7\u001b[0m \u001b[0mmallet_df\u001b[0m \u001b[1;33m=\u001b[0m \u001b[0mmallet_df\u001b[0m\u001b[1;33m.\u001b[0m\u001b[0mreplace\u001b[0m\u001b[1;33m(\u001b[0m\u001b[1;34m' '\u001b[0m\u001b[1;33m,\u001b[0m \u001b[1;34m'_'\u001b[0m\u001b[1;33m,\u001b[0m \u001b[0mregex\u001b[0m\u001b[1;33m=\u001b[0m\u001b[1;32mTrue\u001b[0m\u001b[1;33m)\u001b[0m \u001b[1;31m# remove white space and replace with underscore\u001b[0m\u001b[1;33m\u001b[0m\u001b[1;33m\u001b[0m\u001b[0m\n",
      "\u001b[1;31mNameError\u001b[0m: name 'malletFile' is not defined"
     ]
    }
   ],
   "source": [
    "mallet_columns = [f\"ingredient{i}\" for i in range(1, 32)] # found that 31 ingredients was the most in any one recipe\n",
    "mallet_columns.insert(0, \"recipe_id\")\n",
    "mallet_columns.insert(1, \"cuisine_id\")\n",
    "\n",
    "mallet_df = pd.read_table(malletFile, delimiter=\",\", header=None, names=mallet_columns)\n",
    "\n",
    "mallet_df = mallet_df.replace(' ', '_', regex=True) # remove white space and replace with underscore\n",
    "mallet_df = mallet_df.apply(lambda x: x.astype(str).str.lower()) # convert all strings to lower case \n",
    "mallet_df['recipe_id'] = pd.to_numeric(mallet_df['recipe_id']) # converting these columns back to numeric (previous stage converts them to 'object')\n",
    "mallet_df['cuisine_id'] = pd.to_numeric(mallet_df['cuisine_id'])\n",
    "\n",
    "mallet_df"
   ]
  },
  {
   "cell_type": "code",
   "execution_count": null,
   "metadata": {},
   "outputs": [],
   "source": [
    "#recipe_cuisine_dict = recipes_df[\"cuisine\"].to_dict()"
   ]
  },
  {
   "cell_type": "code",
   "execution_count": null,
   "metadata": {},
   "outputs": [],
   "source": [
    "# create dictionary for the recipes\n",
    "recipe_cuisine_dict = {}\n",
    "recipe_id_dict={}\n",
    "mallet_dict={}\n",
    "\n",
    "mallet_under = os.path.join(filePath, \"recipes-mallet-under.txt\")\n",
    "with open(mallet_under, 'r') as f:\n",
    "        for line in f:\n",
    "            splitLine = line.split(sep =\",\")\n",
    "            ingr = [\",\".join(splitLine[2:]).strip('\\n')]\n",
    "            recipe_id_dict[int(splitLine[0])] = ingr"
   ]
  },
  {
   "cell_type": "code",
   "execution_count": null,
   "metadata": {},
   "outputs": [],
   "source": [
    "mallet_id = recipes_df[[\"cuisine\"]].reset_index()\n",
    "mallet_id.columns = [\"id\", \"cuisine\"]\n",
    "mallet_id[\"id\"] = mallet_id[\"id\"]+1"
   ]
  },
  {
   "cell_type": "code",
   "execution_count": null,
   "metadata": {},
   "outputs": [],
   "source": [
    "recipes_df.reset_index()\n",
    "\n",
    "mallet = pd.DataFrame(data=((key, recipe) for key, content in recipe_id_dict.items() for recipe in content), columns =[\"id\", \"recipe\"])\n",
    "mallet = pd.merge(mallet, mallet_id, on = \"id\", how = \"inner\")\n",
    "mallet"
   ]
  },
  {
   "cell_type": "code",
   "execution_count": null,
   "metadata": {},
   "outputs": [],
   "source": [
    "# Test for chinese\n",
    "chinese = mallet[mallet.cuisine == 0]\n",
    "print(chinese)"
   ]
  },
  {
   "cell_type": "code",
   "execution_count": null,
   "metadata": {},
   "outputs": [],
   "source": [
    "vectorizer = TfidfVectorizer()\n",
    "doc_vec = vectorizer.fit_transform(chinese[\"recipe\"])"
   ]
  },
  {
   "cell_type": "code",
   "execution_count": null,
   "metadata": {},
   "outputs": [],
   "source": [
    "#doc_vec\n",
    "not_sure_df = pd.DataFrame(doc_vec.toarray().transpose(), index = vectorizer.get_feature_names())\n",
    "\n",
    "values_tfidf = not_sure_df.values.flatten()\n",
    "values_tfidf = values_tfidf[values_tfidf != 0]\n",
    "values_tfidf = np.sort(-values_tfidf)\n",
    "len(values_tfidf)"
   ]
  },
  {
   "cell_type": "code",
   "execution_count": null,
   "metadata": {},
   "outputs": [],
   "source": [
    "not_sure_df"
   ]
  },
  {
   "cell_type": "code",
   "execution_count": null,
   "metadata": {},
   "outputs": [],
   "source": [
    "cos_sim = cosine_similarity(X = not_sure_df.T, Y = not_sure_df.T)"
   ]
  },
  {
   "cell_type": "code",
   "execution_count": null,
   "metadata": {},
   "outputs": [],
   "source": [
    "cos_sim.max()"
   ]
  },
  {
   "cell_type": "code",
   "execution_count": null,
   "metadata": {},
   "outputs": [],
   "source": [
    "cos_sim_df = pd.DataFrame(data = cos_sim)\n",
    "cos_sim_df"
   ]
  }
 ],
 "metadata": {
  "deepnote": {},
  "deepnote_execution_queue": [],
  "deepnote_notebook_id": "2f82e0eb-13b2-4937-8c61-4d17582dd74b",
  "kernelspec": {
   "name": "python383jvsc74a57bd0cf35f469c63368b90b858ea105aa93302419be368e99453220c14199b638f0e4",
   "display_name": "Python 3.8.3 64-bit (conda)"
  },
  "language_info": {
   "codemirror_mode": {
    "name": "ipython",
    "version": 3
   },
   "file_extension": ".py",
   "mimetype": "text/x-python",
   "name": "python",
   "nbconvert_exporter": "python",
   "pygments_lexer": "ipython3",
   "version": "3.8.3-final"
  }
 },
 "nbformat": 4,
 "nbformat_minor": 4
}