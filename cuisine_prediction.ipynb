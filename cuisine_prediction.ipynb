{
  "nbformat": 4,
  "nbformat_minor": 0,
  "metadata": {
    "colab": {
      "name": "DME project - cuisine prediction.ipynb",
      "provenance": [],
      "collapsed_sections": [],
      "toc_visible": true
    },
    "kernelspec": {
      "name": "python3",
      "display_name": "Python 3"
    }
  },
  "cells": [
    {
      "cell_type": "code",
      "metadata": {
        "id": "LTXvV9CP6EUS"
      },
      "source": [
        "# Data libraries\n",
        "import numpy as np\n",
        "import pandas as pd\n",
        "\n",
        "# Tensorflow modules\n",
        "import tensorflow as tf\n",
        "from tensorflow.keras import layers\n",
        "\n",
        "# sklearn modules\n",
        "from sklearn.model_selection import train_test_split\n",
        "from sklearn.linear_model import LogisticRegression\n",
        "from sklearn.ensemble import RandomForestClassifier\n",
        "from sklearn.neighbors import KNeighborsClassifier\n",
        "from sklearn.svm import SVC\n",
        "from sklearn.decomposition import PCA\n",
        "\n",
        "# Plotting libraries\n",
        "import matplotlib.pyplot as plt\n",
        "import seaborn as sns\n",
        "\n",
        "# misc libraries\n",
        "import time\n",
        "import random"
      ],
      "execution_count": 2,
      "outputs": []
    },
    {
      "cell_type": "code",
      "metadata": {
        "colab": {
          "base_uri": "https://localhost:8080/"
        },
        "id": "yo4GmDd5zLv1",
        "outputId": "93aeb9eb-bea6-4c3f-dded-a94ce2b10dce"
      },
      "source": [
        "# umap\n",
        "!pip install umap-learn"
      ],
      "execution_count": 3,
      "outputs": [
        {
          "output_type": "stream",
          "text": [
            "Collecting umap-learn\n",
            "\u001b[?25l  Downloading https://files.pythonhosted.org/packages/75/69/85e7f950bb75792ad5d666d86c5f3e62eedbb942848e7e3126513af9999c/umap-learn-0.5.1.tar.gz (80kB)\n",
            "\u001b[K     |████████████████████████████████| 81kB 6.6MB/s \n",
            "\u001b[?25hRequirement already satisfied: numpy>=1.17 in /usr/local/lib/python3.7/dist-packages (from umap-learn) (1.19.5)\n",
            "Requirement already satisfied: scikit-learn>=0.22 in /usr/local/lib/python3.7/dist-packages (from umap-learn) (0.22.2.post1)\n",
            "Requirement already satisfied: scipy>=1.0 in /usr/local/lib/python3.7/dist-packages (from umap-learn) (1.4.1)\n",
            "Requirement already satisfied: numba>=0.49 in /usr/local/lib/python3.7/dist-packages (from umap-learn) (0.51.2)\n",
            "Collecting pynndescent>=0.5\n",
            "\u001b[?25l  Downloading https://files.pythonhosted.org/packages/af/65/8189298dd3a05bbad716ee8e249764ff8800e365d8dc652ad2192ca01b4a/pynndescent-0.5.2.tar.gz (1.1MB)\n",
            "\u001b[K     |████████████████████████████████| 1.2MB 21.9MB/s \n",
            "\u001b[?25hRequirement already satisfied: joblib>=0.11 in /usr/local/lib/python3.7/dist-packages (from scikit-learn>=0.22->umap-learn) (1.0.1)\n",
            "Requirement already satisfied: setuptools in /usr/local/lib/python3.7/dist-packages (from numba>=0.49->umap-learn) (54.2.0)\n",
            "Requirement already satisfied: llvmlite<0.35,>=0.34.0.dev0 in /usr/local/lib/python3.7/dist-packages (from numba>=0.49->umap-learn) (0.34.0)\n",
            "Building wheels for collected packages: umap-learn, pynndescent\n",
            "  Building wheel for umap-learn (setup.py) ... \u001b[?25l\u001b[?25hdone\n",
            "  Created wheel for umap-learn: filename=umap_learn-0.5.1-cp37-none-any.whl size=76569 sha256=36d8bf0ae72587c120ef9f85f4f869b3a389dac49897d6c4ad66dcd666d412c0\n",
            "  Stored in directory: /root/.cache/pip/wheels/ad/df/d5/a3691296ff779f25cd1cf415a3af954b987fb53111e3392cf4\n",
            "  Building wheel for pynndescent (setup.py) ... \u001b[?25l\u001b[?25hdone\n",
            "  Created wheel for pynndescent: filename=pynndescent-0.5.2-cp37-none-any.whl size=51351 sha256=e33be43aae60e28d7707d868d527a9fc04dff12632bedb4abc7725f641c33da8\n",
            "  Stored in directory: /root/.cache/pip/wheels/ba/52/4e/4c28d04d144a28f89e2575fb63628df6e6d49b56c5ddd0c74e\n",
            "Successfully built umap-learn pynndescent\n",
            "Installing collected packages: pynndescent, umap-learn\n",
            "Successfully installed pynndescent-0.5.2 umap-learn-0.5.1\n"
          ],
          "name": "stdout"
        }
      ]
    },
    {
      "cell_type": "code",
      "metadata": {
        "id": "YhB8djeP0sYA"
      },
      "source": [
        "import umap.umap_ as umap"
      ],
      "execution_count": 4,
      "outputs": []
    },
    {
      "cell_type": "markdown",
      "metadata": {
        "id": "pgNHPLjKnO_4"
      },
      "source": [
        "---\n",
        "# Data import and preparation"
      ]
    },
    {
      "cell_type": "code",
      "metadata": {
        "id": "Fq4gKwabV7vR",
        "colab": {
          "base_uri": "https://localhost:8080/",
          "height": 303
        },
        "outputId": "ab80ca86-08cb-451f-85d2-44a6fa52c908"
      },
      "source": [
        "recipes_df = pd.read_csv('data/recipes.csv')\n",
        "recipes_df.head()"
      ],
      "execution_count": 5,
      "outputs": [
        {
          "output_type": "execute_result",
          "data": {
            "text/html": [
              "<div>\n",
              "<style scoped>\n",
              "    .dataframe tbody tr th:only-of-type {\n",
              "        vertical-align: middle;\n",
              "    }\n",
              "\n",
              "    .dataframe tbody tr th {\n",
              "        vertical-align: top;\n",
              "    }\n",
              "\n",
              "    .dataframe thead th {\n",
              "        text-align: right;\n",
              "    }\n",
              "</style>\n",
              "<table border=\"1\" class=\"dataframe\">\n",
              "  <thead>\n",
              "    <tr style=\"text-align: right;\">\n",
              "      <th></th>\n",
              "      <th>'acorn squash'</th>\n",
              "      <th>adobo</th>\n",
              "      <th>'african birdseye chile pepper'</th>\n",
              "      <th>ale</th>\n",
              "      <th>'aleppo pepper'</th>\n",
              "      <th>'alfalfa sprouts'</th>\n",
              "      <th>'alfredo sauce'</th>\n",
              "      <th>allspice</th>\n",
              "      <th>almond</th>\n",
              "      <th>'almond butter'</th>\n",
              "      <th>amaretti</th>\n",
              "      <th>'amchoor powder'</th>\n",
              "      <th>'ancho chile pepper'</th>\n",
              "      <th>anchovy</th>\n",
              "      <th>'anchovy paste'</th>\n",
              "      <th>'andouille sausage'</th>\n",
              "      <th>anise</th>\n",
              "      <th>apple</th>\n",
              "      <th>'apple butter'</th>\n",
              "      <th>'apple juice'</th>\n",
              "      <th>applesauce</th>\n",
              "      <th>apricot</th>\n",
              "      <th>'arborio rice'</th>\n",
              "      <th>'argan oil'</th>\n",
              "      <th>arrowroot</th>\n",
              "      <th>artichoke</th>\n",
              "      <th>'artificial sweetener'</th>\n",
              "      <th>arugula</th>\n",
              "      <th>asadero</th>\n",
              "      <th>asafetida</th>\n",
              "      <th>'asiago cheese'</th>\n",
              "      <th>asparagus</th>\n",
              "      <th>'assorted vegetables'</th>\n",
              "      <th>avocado</th>\n",
              "      <th>'azuki bean'</th>\n",
              "      <th>'baby carrot'</th>\n",
              "      <th>'baby corn'</th>\n",
              "      <th>'baby onions'</th>\n",
              "      <th>'baby spinach'</th>\n",
              "      <th>bacon</th>\n",
              "      <th>...</th>\n",
              "      <th>vermouth</th>\n",
              "      <th>'Vidalia onion'</th>\n",
              "      <th>vinegar</th>\n",
              "      <th>'vital wheat gluten'</th>\n",
              "      <th>vodka</th>\n",
              "      <th>walnut</th>\n",
              "      <th>wasabi</th>\n",
              "      <th>'washed rind cheese'</th>\n",
              "      <th>water</th>\n",
              "      <th>'water chestnut'</th>\n",
              "      <th>watercress</th>\n",
              "      <th>watermelon</th>\n",
              "      <th>'wheat bread'</th>\n",
              "      <th>'whipping cream'</th>\n",
              "      <th>'white bean'</th>\n",
              "      <th>'white bread'</th>\n",
              "      <th>'white cheese'</th>\n",
              "      <th>'white fish'</th>\n",
              "      <th>'white onion'</th>\n",
              "      <th>'white peppercorns'</th>\n",
              "      <th>'white sesame seeds'</th>\n",
              "      <th>'whole grain mustard'</th>\n",
              "      <th>'whole milk'</th>\n",
              "      <th>'wild rice'</th>\n",
              "      <th>wine</th>\n",
              "      <th>'wine vinegar'</th>\n",
              "      <th>'winter squash'</th>\n",
              "      <th>'worcestershire sauce'</th>\n",
              "      <th>'xanthan gum'</th>\n",
              "      <th>yams</th>\n",
              "      <th>yeast</th>\n",
              "      <th>'yellow curry paste'</th>\n",
              "      <th>'yellow food coloring'</th>\n",
              "      <th>'yellow split pea'</th>\n",
              "      <th>'yellow squash'</th>\n",
              "      <th>yogurt</th>\n",
              "      <th>zaatar</th>\n",
              "      <th>zest</th>\n",
              "      <th>zucchini</th>\n",
              "      <th>cuisine</th>\n",
              "    </tr>\n",
              "  </thead>\n",
              "  <tbody>\n",
              "    <tr>\n",
              "      <th>0</th>\n",
              "      <td>0</td>\n",
              "      <td>0</td>\n",
              "      <td>0</td>\n",
              "      <td>0</td>\n",
              "      <td>0</td>\n",
              "      <td>0</td>\n",
              "      <td>0</td>\n",
              "      <td>0</td>\n",
              "      <td>0</td>\n",
              "      <td>0</td>\n",
              "      <td>0</td>\n",
              "      <td>0</td>\n",
              "      <td>0</td>\n",
              "      <td>0</td>\n",
              "      <td>0</td>\n",
              "      <td>0</td>\n",
              "      <td>0</td>\n",
              "      <td>0</td>\n",
              "      <td>0</td>\n",
              "      <td>0</td>\n",
              "      <td>0</td>\n",
              "      <td>0</td>\n",
              "      <td>0</td>\n",
              "      <td>0</td>\n",
              "      <td>0</td>\n",
              "      <td>0</td>\n",
              "      <td>0</td>\n",
              "      <td>0</td>\n",
              "      <td>0</td>\n",
              "      <td>0</td>\n",
              "      <td>0</td>\n",
              "      <td>0</td>\n",
              "      <td>0</td>\n",
              "      <td>0</td>\n",
              "      <td>0</td>\n",
              "      <td>0</td>\n",
              "      <td>0</td>\n",
              "      <td>0</td>\n",
              "      <td>0</td>\n",
              "      <td>0</td>\n",
              "      <td>...</td>\n",
              "      <td>0</td>\n",
              "      <td>0</td>\n",
              "      <td>0</td>\n",
              "      <td>0</td>\n",
              "      <td>0</td>\n",
              "      <td>0</td>\n",
              "      <td>0</td>\n",
              "      <td>0</td>\n",
              "      <td>0</td>\n",
              "      <td>1</td>\n",
              "      <td>0</td>\n",
              "      <td>0</td>\n",
              "      <td>0</td>\n",
              "      <td>0</td>\n",
              "      <td>0</td>\n",
              "      <td>0</td>\n",
              "      <td>0</td>\n",
              "      <td>0</td>\n",
              "      <td>0</td>\n",
              "      <td>0</td>\n",
              "      <td>0</td>\n",
              "      <td>0</td>\n",
              "      <td>0</td>\n",
              "      <td>0</td>\n",
              "      <td>1</td>\n",
              "      <td>0</td>\n",
              "      <td>0</td>\n",
              "      <td>0</td>\n",
              "      <td>0</td>\n",
              "      <td>0</td>\n",
              "      <td>0</td>\n",
              "      <td>0</td>\n",
              "      <td>0</td>\n",
              "      <td>0</td>\n",
              "      <td>0</td>\n",
              "      <td>0</td>\n",
              "      <td>0</td>\n",
              "      <td>0</td>\n",
              "      <td>0</td>\n",
              "      <td>0</td>\n",
              "    </tr>\n",
              "    <tr>\n",
              "      <th>1</th>\n",
              "      <td>0</td>\n",
              "      <td>0</td>\n",
              "      <td>0</td>\n",
              "      <td>0</td>\n",
              "      <td>0</td>\n",
              "      <td>0</td>\n",
              "      <td>0</td>\n",
              "      <td>0</td>\n",
              "      <td>0</td>\n",
              "      <td>0</td>\n",
              "      <td>0</td>\n",
              "      <td>0</td>\n",
              "      <td>0</td>\n",
              "      <td>0</td>\n",
              "      <td>0</td>\n",
              "      <td>0</td>\n",
              "      <td>0</td>\n",
              "      <td>0</td>\n",
              "      <td>0</td>\n",
              "      <td>0</td>\n",
              "      <td>0</td>\n",
              "      <td>0</td>\n",
              "      <td>0</td>\n",
              "      <td>0</td>\n",
              "      <td>0</td>\n",
              "      <td>0</td>\n",
              "      <td>0</td>\n",
              "      <td>0</td>\n",
              "      <td>0</td>\n",
              "      <td>0</td>\n",
              "      <td>0</td>\n",
              "      <td>0</td>\n",
              "      <td>0</td>\n",
              "      <td>0</td>\n",
              "      <td>0</td>\n",
              "      <td>0</td>\n",
              "      <td>0</td>\n",
              "      <td>0</td>\n",
              "      <td>0</td>\n",
              "      <td>0</td>\n",
              "      <td>...</td>\n",
              "      <td>0</td>\n",
              "      <td>0</td>\n",
              "      <td>0</td>\n",
              "      <td>0</td>\n",
              "      <td>0</td>\n",
              "      <td>0</td>\n",
              "      <td>0</td>\n",
              "      <td>0</td>\n",
              "      <td>0</td>\n",
              "      <td>0</td>\n",
              "      <td>0</td>\n",
              "      <td>0</td>\n",
              "      <td>0</td>\n",
              "      <td>0</td>\n",
              "      <td>0</td>\n",
              "      <td>0</td>\n",
              "      <td>0</td>\n",
              "      <td>0</td>\n",
              "      <td>0</td>\n",
              "      <td>0</td>\n",
              "      <td>0</td>\n",
              "      <td>0</td>\n",
              "      <td>0</td>\n",
              "      <td>0</td>\n",
              "      <td>0</td>\n",
              "      <td>0</td>\n",
              "      <td>0</td>\n",
              "      <td>0</td>\n",
              "      <td>0</td>\n",
              "      <td>0</td>\n",
              "      <td>0</td>\n",
              "      <td>0</td>\n",
              "      <td>0</td>\n",
              "      <td>0</td>\n",
              "      <td>0</td>\n",
              "      <td>0</td>\n",
              "      <td>0</td>\n",
              "      <td>0</td>\n",
              "      <td>0</td>\n",
              "      <td>0</td>\n",
              "    </tr>\n",
              "    <tr>\n",
              "      <th>2</th>\n",
              "      <td>0</td>\n",
              "      <td>0</td>\n",
              "      <td>0</td>\n",
              "      <td>0</td>\n",
              "      <td>0</td>\n",
              "      <td>0</td>\n",
              "      <td>0</td>\n",
              "      <td>0</td>\n",
              "      <td>0</td>\n",
              "      <td>0</td>\n",
              "      <td>0</td>\n",
              "      <td>0</td>\n",
              "      <td>0</td>\n",
              "      <td>0</td>\n",
              "      <td>0</td>\n",
              "      <td>0</td>\n",
              "      <td>0</td>\n",
              "      <td>0</td>\n",
              "      <td>0</td>\n",
              "      <td>0</td>\n",
              "      <td>0</td>\n",
              "      <td>0</td>\n",
              "      <td>0</td>\n",
              "      <td>0</td>\n",
              "      <td>0</td>\n",
              "      <td>0</td>\n",
              "      <td>0</td>\n",
              "      <td>0</td>\n",
              "      <td>0</td>\n",
              "      <td>0</td>\n",
              "      <td>0</td>\n",
              "      <td>0</td>\n",
              "      <td>0</td>\n",
              "      <td>0</td>\n",
              "      <td>0</td>\n",
              "      <td>0</td>\n",
              "      <td>0</td>\n",
              "      <td>0</td>\n",
              "      <td>0</td>\n",
              "      <td>0</td>\n",
              "      <td>...</td>\n",
              "      <td>0</td>\n",
              "      <td>0</td>\n",
              "      <td>0</td>\n",
              "      <td>0</td>\n",
              "      <td>0</td>\n",
              "      <td>0</td>\n",
              "      <td>0</td>\n",
              "      <td>0</td>\n",
              "      <td>0</td>\n",
              "      <td>0</td>\n",
              "      <td>0</td>\n",
              "      <td>0</td>\n",
              "      <td>0</td>\n",
              "      <td>0</td>\n",
              "      <td>0</td>\n",
              "      <td>0</td>\n",
              "      <td>0</td>\n",
              "      <td>0</td>\n",
              "      <td>0</td>\n",
              "      <td>0</td>\n",
              "      <td>0</td>\n",
              "      <td>0</td>\n",
              "      <td>0</td>\n",
              "      <td>0</td>\n",
              "      <td>0</td>\n",
              "      <td>0</td>\n",
              "      <td>0</td>\n",
              "      <td>0</td>\n",
              "      <td>0</td>\n",
              "      <td>0</td>\n",
              "      <td>0</td>\n",
              "      <td>0</td>\n",
              "      <td>0</td>\n",
              "      <td>0</td>\n",
              "      <td>0</td>\n",
              "      <td>0</td>\n",
              "      <td>0</td>\n",
              "      <td>0</td>\n",
              "      <td>0</td>\n",
              "      <td>0</td>\n",
              "    </tr>\n",
              "    <tr>\n",
              "      <th>3</th>\n",
              "      <td>0</td>\n",
              "      <td>0</td>\n",
              "      <td>0</td>\n",
              "      <td>0</td>\n",
              "      <td>0</td>\n",
              "      <td>0</td>\n",
              "      <td>0</td>\n",
              "      <td>0</td>\n",
              "      <td>0</td>\n",
              "      <td>0</td>\n",
              "      <td>0</td>\n",
              "      <td>0</td>\n",
              "      <td>0</td>\n",
              "      <td>0</td>\n",
              "      <td>0</td>\n",
              "      <td>0</td>\n",
              "      <td>0</td>\n",
              "      <td>0</td>\n",
              "      <td>0</td>\n",
              "      <td>0</td>\n",
              "      <td>0</td>\n",
              "      <td>0</td>\n",
              "      <td>0</td>\n",
              "      <td>0</td>\n",
              "      <td>0</td>\n",
              "      <td>0</td>\n",
              "      <td>0</td>\n",
              "      <td>0</td>\n",
              "      <td>0</td>\n",
              "      <td>0</td>\n",
              "      <td>0</td>\n",
              "      <td>0</td>\n",
              "      <td>0</td>\n",
              "      <td>0</td>\n",
              "      <td>0</td>\n",
              "      <td>0</td>\n",
              "      <td>0</td>\n",
              "      <td>0</td>\n",
              "      <td>0</td>\n",
              "      <td>0</td>\n",
              "      <td>...</td>\n",
              "      <td>0</td>\n",
              "      <td>0</td>\n",
              "      <td>0</td>\n",
              "      <td>0</td>\n",
              "      <td>0</td>\n",
              "      <td>0</td>\n",
              "      <td>0</td>\n",
              "      <td>0</td>\n",
              "      <td>0</td>\n",
              "      <td>1</td>\n",
              "      <td>0</td>\n",
              "      <td>0</td>\n",
              "      <td>0</td>\n",
              "      <td>0</td>\n",
              "      <td>0</td>\n",
              "      <td>0</td>\n",
              "      <td>0</td>\n",
              "      <td>0</td>\n",
              "      <td>0</td>\n",
              "      <td>0</td>\n",
              "      <td>0</td>\n",
              "      <td>0</td>\n",
              "      <td>0</td>\n",
              "      <td>0</td>\n",
              "      <td>0</td>\n",
              "      <td>0</td>\n",
              "      <td>0</td>\n",
              "      <td>0</td>\n",
              "      <td>0</td>\n",
              "      <td>0</td>\n",
              "      <td>0</td>\n",
              "      <td>0</td>\n",
              "      <td>0</td>\n",
              "      <td>0</td>\n",
              "      <td>0</td>\n",
              "      <td>0</td>\n",
              "      <td>0</td>\n",
              "      <td>0</td>\n",
              "      <td>0</td>\n",
              "      <td>0</td>\n",
              "    </tr>\n",
              "    <tr>\n",
              "      <th>4</th>\n",
              "      <td>0</td>\n",
              "      <td>0</td>\n",
              "      <td>0</td>\n",
              "      <td>0</td>\n",
              "      <td>0</td>\n",
              "      <td>0</td>\n",
              "      <td>0</td>\n",
              "      <td>0</td>\n",
              "      <td>0</td>\n",
              "      <td>0</td>\n",
              "      <td>0</td>\n",
              "      <td>0</td>\n",
              "      <td>0</td>\n",
              "      <td>0</td>\n",
              "      <td>0</td>\n",
              "      <td>0</td>\n",
              "      <td>0</td>\n",
              "      <td>0</td>\n",
              "      <td>0</td>\n",
              "      <td>0</td>\n",
              "      <td>0</td>\n",
              "      <td>0</td>\n",
              "      <td>0</td>\n",
              "      <td>0</td>\n",
              "      <td>0</td>\n",
              "      <td>0</td>\n",
              "      <td>0</td>\n",
              "      <td>0</td>\n",
              "      <td>0</td>\n",
              "      <td>0</td>\n",
              "      <td>0</td>\n",
              "      <td>0</td>\n",
              "      <td>0</td>\n",
              "      <td>0</td>\n",
              "      <td>0</td>\n",
              "      <td>0</td>\n",
              "      <td>0</td>\n",
              "      <td>0</td>\n",
              "      <td>0</td>\n",
              "      <td>0</td>\n",
              "      <td>...</td>\n",
              "      <td>0</td>\n",
              "      <td>0</td>\n",
              "      <td>0</td>\n",
              "      <td>0</td>\n",
              "      <td>0</td>\n",
              "      <td>0</td>\n",
              "      <td>0</td>\n",
              "      <td>0</td>\n",
              "      <td>1</td>\n",
              "      <td>0</td>\n",
              "      <td>0</td>\n",
              "      <td>0</td>\n",
              "      <td>0</td>\n",
              "      <td>0</td>\n",
              "      <td>0</td>\n",
              "      <td>0</td>\n",
              "      <td>0</td>\n",
              "      <td>0</td>\n",
              "      <td>0</td>\n",
              "      <td>0</td>\n",
              "      <td>0</td>\n",
              "      <td>0</td>\n",
              "      <td>0</td>\n",
              "      <td>0</td>\n",
              "      <td>0</td>\n",
              "      <td>0</td>\n",
              "      <td>0</td>\n",
              "      <td>0</td>\n",
              "      <td>0</td>\n",
              "      <td>0</td>\n",
              "      <td>0</td>\n",
              "      <td>0</td>\n",
              "      <td>0</td>\n",
              "      <td>0</td>\n",
              "      <td>0</td>\n",
              "      <td>0</td>\n",
              "      <td>0</td>\n",
              "      <td>0</td>\n",
              "      <td>0</td>\n",
              "      <td>0</td>\n",
              "    </tr>\n",
              "  </tbody>\n",
              "</table>\n",
              "<p>5 rows × 710 columns</p>\n",
              "</div>"
            ],
            "text/plain": [
              "   'acorn squash'  adobo  ...  zucchini  cuisine\n",
              "0               0      0  ...         0        0\n",
              "1               0      0  ...         0        0\n",
              "2               0      0  ...         0        0\n",
              "3               0      0  ...         0        0\n",
              "4               0      0  ...         0        0\n",
              "\n",
              "[5 rows x 710 columns]"
            ]
          },
          "metadata": {
            "tags": []
          },
          "execution_count": 5
        }
      ]
    },
    {
      "cell_type": "code",
      "metadata": {
        "colab": {
          "base_uri": "https://localhost:8080/"
        },
        "id": "0xnNfLznAXUl",
        "outputId": "6be4ee32-452d-487b-dbcb-0f485da293c6"
      },
      "source": [
        "recipes_df.cuisine.value_counts()"
      ],
      "execution_count": 6,
      "outputs": [
        {
          "output_type": "execute_result",
          "data": {
            "text/plain": [
              "11    353\n",
              "7     353\n",
              "3     353\n",
              "10    353\n",
              "6     353\n",
              "2     353\n",
              "9     353\n",
              "5     353\n",
              "1     353\n",
              "8     353\n",
              "4     353\n",
              "0     353\n",
              "Name: cuisine, dtype: int64"
            ]
          },
          "metadata": {
            "tags": []
          },
          "execution_count": 6
        }
      ]
    },
    {
      "cell_type": "code",
      "metadata": {
        "colab": {
          "base_uri": "https://localhost:8080/"
        },
        "id": "dpHXEOiXQpDx",
        "outputId": "6977369e-bdf6-412e-d96b-83b551fecdd9"
      },
      "source": [
        "recipes_df.info()"
      ],
      "execution_count": 7,
      "outputs": [
        {
          "output_type": "stream",
          "text": [
            "<class 'pandas.core.frame.DataFrame'>\n",
            "RangeIndex: 4236 entries, 0 to 4235\n",
            "Columns: 710 entries, 'acorn squash' to cuisine\n",
            "dtypes: int64(710)\n",
            "memory usage: 22.9 MB\n"
          ],
          "name": "stdout"
        }
      ]
    },
    {
      "cell_type": "markdown",
      "metadata": {
        "id": "V-JSHeInGbK9"
      },
      "source": [
        "### Clean column names"
      ]
    },
    {
      "cell_type": "code",
      "metadata": {
        "colab": {
          "base_uri": "https://localhost:8080/",
          "height": 251
        },
        "id": "Kzj3G97IF-Yf",
        "outputId": "46027670-273e-4721-efc5-82b058e77182"
      },
      "source": [
        "for column in recipes_df.columns:\n",
        "  recipes_df.rename(columns={column:column.replace(' ', '_').replace(\"'\", \"\")}, inplace=True)\n",
        "  recipes_df.rename(columns={column:column.lower()}, inplace=True)\n",
        "\n",
        "recipes_df.head()"
      ],
      "execution_count": 8,
      "outputs": [
        {
          "output_type": "execute_result",
          "data": {
            "text/html": [
              "<div>\n",
              "<style scoped>\n",
              "    .dataframe tbody tr th:only-of-type {\n",
              "        vertical-align: middle;\n",
              "    }\n",
              "\n",
              "    .dataframe tbody tr th {\n",
              "        vertical-align: top;\n",
              "    }\n",
              "\n",
              "    .dataframe thead th {\n",
              "        text-align: right;\n",
              "    }\n",
              "</style>\n",
              "<table border=\"1\" class=\"dataframe\">\n",
              "  <thead>\n",
              "    <tr style=\"text-align: right;\">\n",
              "      <th></th>\n",
              "      <th>acorn_squash</th>\n",
              "      <th>adobo</th>\n",
              "      <th>african_birdseye_chile_pepper</th>\n",
              "      <th>ale</th>\n",
              "      <th>aleppo_pepper</th>\n",
              "      <th>alfalfa_sprouts</th>\n",
              "      <th>alfredo_sauce</th>\n",
              "      <th>allspice</th>\n",
              "      <th>almond</th>\n",
              "      <th>almond_butter</th>\n",
              "      <th>amaretti</th>\n",
              "      <th>amchoor_powder</th>\n",
              "      <th>ancho_chile_pepper</th>\n",
              "      <th>anchovy</th>\n",
              "      <th>anchovy_paste</th>\n",
              "      <th>andouille_sausage</th>\n",
              "      <th>anise</th>\n",
              "      <th>apple</th>\n",
              "      <th>apple_butter</th>\n",
              "      <th>apple_juice</th>\n",
              "      <th>applesauce</th>\n",
              "      <th>apricot</th>\n",
              "      <th>arborio_rice</th>\n",
              "      <th>argan_oil</th>\n",
              "      <th>arrowroot</th>\n",
              "      <th>artichoke</th>\n",
              "      <th>artificial_sweetener</th>\n",
              "      <th>arugula</th>\n",
              "      <th>asadero</th>\n",
              "      <th>asafetida</th>\n",
              "      <th>asiago_cheese</th>\n",
              "      <th>asparagus</th>\n",
              "      <th>assorted_vegetables</th>\n",
              "      <th>avocado</th>\n",
              "      <th>azuki_bean</th>\n",
              "      <th>baby_carrot</th>\n",
              "      <th>baby_corn</th>\n",
              "      <th>baby_onions</th>\n",
              "      <th>baby_spinach</th>\n",
              "      <th>bacon</th>\n",
              "      <th>...</th>\n",
              "      <th>vermouth</th>\n",
              "      <th>Vidalia_onion</th>\n",
              "      <th>vinegar</th>\n",
              "      <th>vital_wheat_gluten</th>\n",
              "      <th>vodka</th>\n",
              "      <th>walnut</th>\n",
              "      <th>wasabi</th>\n",
              "      <th>washed_rind_cheese</th>\n",
              "      <th>water</th>\n",
              "      <th>water_chestnut</th>\n",
              "      <th>watercress</th>\n",
              "      <th>watermelon</th>\n",
              "      <th>wheat_bread</th>\n",
              "      <th>whipping_cream</th>\n",
              "      <th>white_bean</th>\n",
              "      <th>white_bread</th>\n",
              "      <th>white_cheese</th>\n",
              "      <th>white_fish</th>\n",
              "      <th>white_onion</th>\n",
              "      <th>white_peppercorns</th>\n",
              "      <th>white_sesame_seeds</th>\n",
              "      <th>whole_grain_mustard</th>\n",
              "      <th>whole_milk</th>\n",
              "      <th>wild_rice</th>\n",
              "      <th>wine</th>\n",
              "      <th>wine_vinegar</th>\n",
              "      <th>winter_squash</th>\n",
              "      <th>worcestershire_sauce</th>\n",
              "      <th>xanthan_gum</th>\n",
              "      <th>yams</th>\n",
              "      <th>yeast</th>\n",
              "      <th>yellow_curry_paste</th>\n",
              "      <th>yellow_food_coloring</th>\n",
              "      <th>yellow_split_pea</th>\n",
              "      <th>yellow_squash</th>\n",
              "      <th>yogurt</th>\n",
              "      <th>zaatar</th>\n",
              "      <th>zest</th>\n",
              "      <th>zucchini</th>\n",
              "      <th>cuisine</th>\n",
              "    </tr>\n",
              "  </thead>\n",
              "  <tbody>\n",
              "    <tr>\n",
              "      <th>0</th>\n",
              "      <td>0</td>\n",
              "      <td>0</td>\n",
              "      <td>0</td>\n",
              "      <td>0</td>\n",
              "      <td>0</td>\n",
              "      <td>0</td>\n",
              "      <td>0</td>\n",
              "      <td>0</td>\n",
              "      <td>0</td>\n",
              "      <td>0</td>\n",
              "      <td>0</td>\n",
              "      <td>0</td>\n",
              "      <td>0</td>\n",
              "      <td>0</td>\n",
              "      <td>0</td>\n",
              "      <td>0</td>\n",
              "      <td>0</td>\n",
              "      <td>0</td>\n",
              "      <td>0</td>\n",
              "      <td>0</td>\n",
              "      <td>0</td>\n",
              "      <td>0</td>\n",
              "      <td>0</td>\n",
              "      <td>0</td>\n",
              "      <td>0</td>\n",
              "      <td>0</td>\n",
              "      <td>0</td>\n",
              "      <td>0</td>\n",
              "      <td>0</td>\n",
              "      <td>0</td>\n",
              "      <td>0</td>\n",
              "      <td>0</td>\n",
              "      <td>0</td>\n",
              "      <td>0</td>\n",
              "      <td>0</td>\n",
              "      <td>0</td>\n",
              "      <td>0</td>\n",
              "      <td>0</td>\n",
              "      <td>0</td>\n",
              "      <td>0</td>\n",
              "      <td>...</td>\n",
              "      <td>0</td>\n",
              "      <td>0</td>\n",
              "      <td>0</td>\n",
              "      <td>0</td>\n",
              "      <td>0</td>\n",
              "      <td>0</td>\n",
              "      <td>0</td>\n",
              "      <td>0</td>\n",
              "      <td>0</td>\n",
              "      <td>1</td>\n",
              "      <td>0</td>\n",
              "      <td>0</td>\n",
              "      <td>0</td>\n",
              "      <td>0</td>\n",
              "      <td>0</td>\n",
              "      <td>0</td>\n",
              "      <td>0</td>\n",
              "      <td>0</td>\n",
              "      <td>0</td>\n",
              "      <td>0</td>\n",
              "      <td>0</td>\n",
              "      <td>0</td>\n",
              "      <td>0</td>\n",
              "      <td>0</td>\n",
              "      <td>1</td>\n",
              "      <td>0</td>\n",
              "      <td>0</td>\n",
              "      <td>0</td>\n",
              "      <td>0</td>\n",
              "      <td>0</td>\n",
              "      <td>0</td>\n",
              "      <td>0</td>\n",
              "      <td>0</td>\n",
              "      <td>0</td>\n",
              "      <td>0</td>\n",
              "      <td>0</td>\n",
              "      <td>0</td>\n",
              "      <td>0</td>\n",
              "      <td>0</td>\n",
              "      <td>0</td>\n",
              "    </tr>\n",
              "    <tr>\n",
              "      <th>1</th>\n",
              "      <td>0</td>\n",
              "      <td>0</td>\n",
              "      <td>0</td>\n",
              "      <td>0</td>\n",
              "      <td>0</td>\n",
              "      <td>0</td>\n",
              "      <td>0</td>\n",
              "      <td>0</td>\n",
              "      <td>0</td>\n",
              "      <td>0</td>\n",
              "      <td>0</td>\n",
              "      <td>0</td>\n",
              "      <td>0</td>\n",
              "      <td>0</td>\n",
              "      <td>0</td>\n",
              "      <td>0</td>\n",
              "      <td>0</td>\n",
              "      <td>0</td>\n",
              "      <td>0</td>\n",
              "      <td>0</td>\n",
              "      <td>0</td>\n",
              "      <td>0</td>\n",
              "      <td>0</td>\n",
              "      <td>0</td>\n",
              "      <td>0</td>\n",
              "      <td>0</td>\n",
              "      <td>0</td>\n",
              "      <td>0</td>\n",
              "      <td>0</td>\n",
              "      <td>0</td>\n",
              "      <td>0</td>\n",
              "      <td>0</td>\n",
              "      <td>0</td>\n",
              "      <td>0</td>\n",
              "      <td>0</td>\n",
              "      <td>0</td>\n",
              "      <td>0</td>\n",
              "      <td>0</td>\n",
              "      <td>0</td>\n",
              "      <td>0</td>\n",
              "      <td>...</td>\n",
              "      <td>0</td>\n",
              "      <td>0</td>\n",
              "      <td>0</td>\n",
              "      <td>0</td>\n",
              "      <td>0</td>\n",
              "      <td>0</td>\n",
              "      <td>0</td>\n",
              "      <td>0</td>\n",
              "      <td>0</td>\n",
              "      <td>0</td>\n",
              "      <td>0</td>\n",
              "      <td>0</td>\n",
              "      <td>0</td>\n",
              "      <td>0</td>\n",
              "      <td>0</td>\n",
              "      <td>0</td>\n",
              "      <td>0</td>\n",
              "      <td>0</td>\n",
              "      <td>0</td>\n",
              "      <td>0</td>\n",
              "      <td>0</td>\n",
              "      <td>0</td>\n",
              "      <td>0</td>\n",
              "      <td>0</td>\n",
              "      <td>0</td>\n",
              "      <td>0</td>\n",
              "      <td>0</td>\n",
              "      <td>0</td>\n",
              "      <td>0</td>\n",
              "      <td>0</td>\n",
              "      <td>0</td>\n",
              "      <td>0</td>\n",
              "      <td>0</td>\n",
              "      <td>0</td>\n",
              "      <td>0</td>\n",
              "      <td>0</td>\n",
              "      <td>0</td>\n",
              "      <td>0</td>\n",
              "      <td>0</td>\n",
              "      <td>0</td>\n",
              "    </tr>\n",
              "    <tr>\n",
              "      <th>2</th>\n",
              "      <td>0</td>\n",
              "      <td>0</td>\n",
              "      <td>0</td>\n",
              "      <td>0</td>\n",
              "      <td>0</td>\n",
              "      <td>0</td>\n",
              "      <td>0</td>\n",
              "      <td>0</td>\n",
              "      <td>0</td>\n",
              "      <td>0</td>\n",
              "      <td>0</td>\n",
              "      <td>0</td>\n",
              "      <td>0</td>\n",
              "      <td>0</td>\n",
              "      <td>0</td>\n",
              "      <td>0</td>\n",
              "      <td>0</td>\n",
              "      <td>0</td>\n",
              "      <td>0</td>\n",
              "      <td>0</td>\n",
              "      <td>0</td>\n",
              "      <td>0</td>\n",
              "      <td>0</td>\n",
              "      <td>0</td>\n",
              "      <td>0</td>\n",
              "      <td>0</td>\n",
              "      <td>0</td>\n",
              "      <td>0</td>\n",
              "      <td>0</td>\n",
              "      <td>0</td>\n",
              "      <td>0</td>\n",
              "      <td>0</td>\n",
              "      <td>0</td>\n",
              "      <td>0</td>\n",
              "      <td>0</td>\n",
              "      <td>0</td>\n",
              "      <td>0</td>\n",
              "      <td>0</td>\n",
              "      <td>0</td>\n",
              "      <td>0</td>\n",
              "      <td>...</td>\n",
              "      <td>0</td>\n",
              "      <td>0</td>\n",
              "      <td>0</td>\n",
              "      <td>0</td>\n",
              "      <td>0</td>\n",
              "      <td>0</td>\n",
              "      <td>0</td>\n",
              "      <td>0</td>\n",
              "      <td>0</td>\n",
              "      <td>0</td>\n",
              "      <td>0</td>\n",
              "      <td>0</td>\n",
              "      <td>0</td>\n",
              "      <td>0</td>\n",
              "      <td>0</td>\n",
              "      <td>0</td>\n",
              "      <td>0</td>\n",
              "      <td>0</td>\n",
              "      <td>0</td>\n",
              "      <td>0</td>\n",
              "      <td>0</td>\n",
              "      <td>0</td>\n",
              "      <td>0</td>\n",
              "      <td>0</td>\n",
              "      <td>0</td>\n",
              "      <td>0</td>\n",
              "      <td>0</td>\n",
              "      <td>0</td>\n",
              "      <td>0</td>\n",
              "      <td>0</td>\n",
              "      <td>0</td>\n",
              "      <td>0</td>\n",
              "      <td>0</td>\n",
              "      <td>0</td>\n",
              "      <td>0</td>\n",
              "      <td>0</td>\n",
              "      <td>0</td>\n",
              "      <td>0</td>\n",
              "      <td>0</td>\n",
              "      <td>0</td>\n",
              "    </tr>\n",
              "    <tr>\n",
              "      <th>3</th>\n",
              "      <td>0</td>\n",
              "      <td>0</td>\n",
              "      <td>0</td>\n",
              "      <td>0</td>\n",
              "      <td>0</td>\n",
              "      <td>0</td>\n",
              "      <td>0</td>\n",
              "      <td>0</td>\n",
              "      <td>0</td>\n",
              "      <td>0</td>\n",
              "      <td>0</td>\n",
              "      <td>0</td>\n",
              "      <td>0</td>\n",
              "      <td>0</td>\n",
              "      <td>0</td>\n",
              "      <td>0</td>\n",
              "      <td>0</td>\n",
              "      <td>0</td>\n",
              "      <td>0</td>\n",
              "      <td>0</td>\n",
              "      <td>0</td>\n",
              "      <td>0</td>\n",
              "      <td>0</td>\n",
              "      <td>0</td>\n",
              "      <td>0</td>\n",
              "      <td>0</td>\n",
              "      <td>0</td>\n",
              "      <td>0</td>\n",
              "      <td>0</td>\n",
              "      <td>0</td>\n",
              "      <td>0</td>\n",
              "      <td>0</td>\n",
              "      <td>0</td>\n",
              "      <td>0</td>\n",
              "      <td>0</td>\n",
              "      <td>0</td>\n",
              "      <td>0</td>\n",
              "      <td>0</td>\n",
              "      <td>0</td>\n",
              "      <td>0</td>\n",
              "      <td>...</td>\n",
              "      <td>0</td>\n",
              "      <td>0</td>\n",
              "      <td>0</td>\n",
              "      <td>0</td>\n",
              "      <td>0</td>\n",
              "      <td>0</td>\n",
              "      <td>0</td>\n",
              "      <td>0</td>\n",
              "      <td>0</td>\n",
              "      <td>1</td>\n",
              "      <td>0</td>\n",
              "      <td>0</td>\n",
              "      <td>0</td>\n",
              "      <td>0</td>\n",
              "      <td>0</td>\n",
              "      <td>0</td>\n",
              "      <td>0</td>\n",
              "      <td>0</td>\n",
              "      <td>0</td>\n",
              "      <td>0</td>\n",
              "      <td>0</td>\n",
              "      <td>0</td>\n",
              "      <td>0</td>\n",
              "      <td>0</td>\n",
              "      <td>0</td>\n",
              "      <td>0</td>\n",
              "      <td>0</td>\n",
              "      <td>0</td>\n",
              "      <td>0</td>\n",
              "      <td>0</td>\n",
              "      <td>0</td>\n",
              "      <td>0</td>\n",
              "      <td>0</td>\n",
              "      <td>0</td>\n",
              "      <td>0</td>\n",
              "      <td>0</td>\n",
              "      <td>0</td>\n",
              "      <td>0</td>\n",
              "      <td>0</td>\n",
              "      <td>0</td>\n",
              "    </tr>\n",
              "    <tr>\n",
              "      <th>4</th>\n",
              "      <td>0</td>\n",
              "      <td>0</td>\n",
              "      <td>0</td>\n",
              "      <td>0</td>\n",
              "      <td>0</td>\n",
              "      <td>0</td>\n",
              "      <td>0</td>\n",
              "      <td>0</td>\n",
              "      <td>0</td>\n",
              "      <td>0</td>\n",
              "      <td>0</td>\n",
              "      <td>0</td>\n",
              "      <td>0</td>\n",
              "      <td>0</td>\n",
              "      <td>0</td>\n",
              "      <td>0</td>\n",
              "      <td>0</td>\n",
              "      <td>0</td>\n",
              "      <td>0</td>\n",
              "      <td>0</td>\n",
              "      <td>0</td>\n",
              "      <td>0</td>\n",
              "      <td>0</td>\n",
              "      <td>0</td>\n",
              "      <td>0</td>\n",
              "      <td>0</td>\n",
              "      <td>0</td>\n",
              "      <td>0</td>\n",
              "      <td>0</td>\n",
              "      <td>0</td>\n",
              "      <td>0</td>\n",
              "      <td>0</td>\n",
              "      <td>0</td>\n",
              "      <td>0</td>\n",
              "      <td>0</td>\n",
              "      <td>0</td>\n",
              "      <td>0</td>\n",
              "      <td>0</td>\n",
              "      <td>0</td>\n",
              "      <td>0</td>\n",
              "      <td>...</td>\n",
              "      <td>0</td>\n",
              "      <td>0</td>\n",
              "      <td>0</td>\n",
              "      <td>0</td>\n",
              "      <td>0</td>\n",
              "      <td>0</td>\n",
              "      <td>0</td>\n",
              "      <td>0</td>\n",
              "      <td>1</td>\n",
              "      <td>0</td>\n",
              "      <td>0</td>\n",
              "      <td>0</td>\n",
              "      <td>0</td>\n",
              "      <td>0</td>\n",
              "      <td>0</td>\n",
              "      <td>0</td>\n",
              "      <td>0</td>\n",
              "      <td>0</td>\n",
              "      <td>0</td>\n",
              "      <td>0</td>\n",
              "      <td>0</td>\n",
              "      <td>0</td>\n",
              "      <td>0</td>\n",
              "      <td>0</td>\n",
              "      <td>0</td>\n",
              "      <td>0</td>\n",
              "      <td>0</td>\n",
              "      <td>0</td>\n",
              "      <td>0</td>\n",
              "      <td>0</td>\n",
              "      <td>0</td>\n",
              "      <td>0</td>\n",
              "      <td>0</td>\n",
              "      <td>0</td>\n",
              "      <td>0</td>\n",
              "      <td>0</td>\n",
              "      <td>0</td>\n",
              "      <td>0</td>\n",
              "      <td>0</td>\n",
              "      <td>0</td>\n",
              "    </tr>\n",
              "  </tbody>\n",
              "</table>\n",
              "<p>5 rows × 710 columns</p>\n",
              "</div>"
            ],
            "text/plain": [
              "   acorn_squash  adobo  african_birdseye_chile_pepper  ...  zest  zucchini  cuisine\n",
              "0             0      0                              0  ...     0         0        0\n",
              "1             0      0                              0  ...     0         0        0\n",
              "2             0      0                              0  ...     0         0        0\n",
              "3             0      0                              0  ...     0         0        0\n",
              "4             0      0                              0  ...     0         0        0\n",
              "\n",
              "[5 rows x 710 columns]"
            ]
          },
          "metadata": {
            "tags": []
          },
          "execution_count": 8
        }
      ]
    },
    {
      "cell_type": "markdown",
      "metadata": {
        "id": "vVB6tOYJGp5J"
      },
      "source": [
        "## Create train, validation and test split"
      ]
    },
    {
      "cell_type": "code",
      "metadata": {
        "colab": {
          "base_uri": "https://localhost:8080/"
        },
        "id": "1eMEY2RJPo1i",
        "outputId": "53280b9d-1c31-49ec-f571-51937d275741"
      },
      "source": [
        "train, val = train_test_split(recipes_df, test_size=0.3, random_state=42, stratify=recipes_df['cuisine'])\n",
        "val, test = train_test_split(val, test_size=(1/3), random_state=42, stratify=val['cuisine'])\n",
        "print(len(train), 'train examples')\n",
        "print(len(val), 'validation examples')\n",
        "print(len(test), 'test examples')\n",
        "print(f'Percentage of train examples: {round(len(train) / len(recipes_df)*100)}%')\n",
        "print(f'Percentage of validation examples: {round(len(val) / len(recipes_df)*100)}%')\n",
        "print(f'Percentage of test examples: {round(len(test) / len(recipes_df)*100)}%')"
      ],
      "execution_count": 24,
      "outputs": [
        {
          "output_type": "stream",
          "text": [
            "2965 train examples\n",
            "847 validation examples\n",
            "424 test examples\n",
            "Percentage of train examples: 70%\n",
            "Percentage of validation examples: 20%\n",
            "Percentage of test examples: 10%\n"
          ],
          "name": "stdout"
        }
      ]
    },
    {
      "cell_type": "markdown",
      "metadata": {
        "id": "gGn7UZ4yuy0K"
      },
      "source": [
        "## Dimensionally reduced versions of dataset"
      ]
    },
    {
      "cell_type": "code",
      "metadata": {
        "id": "jZedzUAwOm19"
      },
      "source": [
        "y_train = train.pop('cuisine')\n",
        "X_train = train\n",
        "y_val = val.pop('cuisine')\n",
        "X_val = val\n",
        "y_test = test.pop('cuisine')\n",
        "X_test = test"
      ],
      "execution_count": 17,
      "outputs": []
    },
    {
      "cell_type": "markdown",
      "metadata": {
        "id": "hfj8f2Rou2f2"
      },
      "source": [
        "### PCA"
      ]
    },
    {
      "cell_type": "code",
      "metadata": {
        "id": "mTsOgddgUTqW"
      },
      "source": [
        "# PCA reduced version of train, valid and test data\n",
        "pca = PCA(n_components=71)\n",
        "pca.fit(X_train)\n",
        "X_train_PCA = pca.transform(X_train)\n",
        "X_val_PCA = pca.transform(X_val)\n",
        "X_test_PCA = pca.transform(X_test)"
      ],
      "execution_count": 18,
      "outputs": []
    },
    {
      "cell_type": "code",
      "metadata": {
        "colab": {
          "base_uri": "https://localhost:8080/",
          "height": 279
        },
        "id": "icIdSDrM_4bj",
        "outputId": "7f74cd3f-51a2-4c50-8bc0-1bb3fd4464dc"
      },
      "source": [
        "plt.plot(np.cumsum(pca.explained_variance_ratio_))\n",
        "plt.xlabel('number of components')\n",
        "plt.ylabel('cumulative explained variance');"
      ],
      "execution_count": null,
      "outputs": [
        {
          "output_type": "display_data",
          "data": {
            "image/png": "[encoded data removed]",
            "text/plain": [
              "<Figure size 432x288 with 1 Axes>"
            ]
          },
          "metadata": {
            "tags": [],
            "needs_background": "light"
          }
        }
      ]
    },
    {
      "cell_type": "markdown",
      "metadata": {
        "id": "XUUcVgAmu6Eg"
      },
      "source": [
        "### UMAP"
      ]
    },
    {
      "cell_type": "code",
      "metadata": {
        "colab": {
          "base_uri": "https://localhost:8080/"
        },
        "id": "HOPa90IXbyjF",
        "outputId": "530ecf2f-5ce6-44df-85d9-b6ab6d247059"
      },
      "source": [
        "reducer = umap.UMAP(metric=\"braycurtis\", n_neighbors=20, random_state=26, n_components=2) # roughly 1% of the number of original features\n",
        "reducer.fit(X_train)"
      ],
      "execution_count": null,
      "outputs": [
        {
          "output_type": "execute_result",
          "data": {
            "text/plain": [
              "UMAP(a=None, angular_rp_forest=False, b=None, dens_frac=0.0, dens_lambda=0.0,\n",
              "     dens_var_shift=0.1, densmap=False, disconnection_distance=None,\n",
              "     force_approximation_algorithm=False, init='spectral', learning_rate=1.0,\n",
              "     local_connectivity=1.0, low_memory=True, metric='braycurtis',\n",
              "     metric_kwds=None, min_dist=0.1, n_components=2, n_epochs=None, n_jobs=-1,\n",
              "     n_neighbors=20, negative_sample_rate=5, output_dens=False,\n",
              "     output_metric='euclidean', output_metric_kwds=None, random_state=26,\n",
              "     repulsion_strength=1.0, set_op_mix_ratio=1.0, spread=1.0,\n",
              "     target_metric='categorical', target_metric_kwds=None, ...)"
            ]
          },
          "metadata": {
            "tags": []
          },
          "execution_count": 22
        }
      ]
    },
    {
      "cell_type": "code",
      "metadata": {
        "id": "p39IbN4bcGfd"
      },
      "source": [
        "X_train_umap = reducer.transform(X_train)\n",
        "X_val_umap = reducer.transform(X_val)\n",
        "X_test_umap = reducer.transform(X_test)"
      ],
      "execution_count": null,
      "outputs": []
    },
    {
      "cell_type": "markdown",
      "metadata": {
        "id": "Ax5jkGNPnXbM"
      },
      "source": [
        "---\n",
        "# Model training"
      ]
    },
    {
      "cell_type": "markdown",
      "metadata": {
        "id": "Esvme4Ygx0Y1"
      },
      "source": [
        "## Model 1 - simple neural network"
      ]
    },
    {
      "cell_type": "markdown",
      "metadata": {
        "id": "-4a72E8hIbqJ"
      },
      "source": [
        "### Create TensorFlow dataset"
      ]
    },
    {
      "cell_type": "markdown",
      "metadata": {
        "id": "j6OLRfR1uSmC"
      },
      "source": [
        "#### Dataset with original feature representation data"
      ]
    },
    {
      "cell_type": "code",
      "metadata": {
        "id": "Gv2e0cJK6V-L"
      },
      "source": [
        "# TensorFlow dataset from CSV\n",
        "def df_to_dataset(dataframe, shuffle=True, batch_size=64):\n",
        "  dataframe = dataframe.copy()\n",
        "  labels = dataframe.pop('cuisine')\n",
        "  ds = tf.data.Dataset.from_tensor_slices((dict(dataframe), labels))\n",
        "  if shuffle:\n",
        "    ds = ds.shuffle(buffer_size=len(dataframe), reshuffle_each_iteration=True)\n",
        "  ds = ds.batch(batch_size)\n",
        "  return ds"
      ],
      "execution_count": 30,
      "outputs": []
    },
    {
      "cell_type": "code",
      "metadata": {
        "id": "AQ7d-XH6-j3g"
      },
      "source": [
        "feature_columns = []\n",
        "\n",
        "for header in recipes_df.iloc[:,:-1].columns:\n",
        "  feature_columns.append(tf.feature_column.numeric_column(header, 1))"
      ],
      "execution_count": 31,
      "outputs": []
    },
    {
      "cell_type": "code",
      "metadata": {
        "id": "8_kSxMGq8VHP"
      },
      "source": [
        "# Creating batches of data for mini-batch stochastic gradient descent\n",
        "batch_size = 64\n",
        "train_ds = df_to_dataset(train, batch_size=batch_size)\n",
        "val_ds = df_to_dataset(val, shuffle=False, batch_size=batch_size)\n",
        "test_ds = df_to_dataset(test, shuffle=False, batch_size=batch_size)\n",
        "\n",
        "# train_ds = train_ds.shuffle(296, reshuffle_each_iteration=True)"
      ],
      "execution_count": 32,
      "outputs": []
    },
    {
      "cell_type": "markdown",
      "metadata": {
        "id": "nQgZQAjgubrI"
      },
      "source": [
        "#### Dataset with PCA/UMAP data"
      ]
    },
    {
      "cell_type": "code",
      "metadata": {
        "id": "YBOgJ8VzPaT_"
      },
      "source": [
        "SHUFFLE_BUFFER_SIZE = len(train)\n",
        "train_ds = tf.data.Dataset.from_tensor_slices((X_train_umap, tf.one_hot(y_train, 12)))\n",
        "val_ds = tf.data.Dataset.from_tensor_slices((X_val_umap, tf.one_hot(y_val, 12)))\n",
        "test_ds = tf.data.Dataset.from_tensor_slices((X_test_umap, tf.one_hot(y_test, 12)))\n",
        "\n",
        "train_ds = train_ds.shuffle(SHUFFLE_BUFFER_SIZE, reshuffle_each_iteration=True).batch(batch_size)\n",
        "val_ds = val_ds.batch(batch_size)\n",
        "test_ds = test_ds.batch(batch_size)"
      ],
      "execution_count": null,
      "outputs": []
    },
    {
      "cell_type": "markdown",
      "metadata": {
        "id": "C7pxjQ1G2AQo"
      },
      "source": [
        "### Training model on original feature representation data "
      ]
    },
    {
      "cell_type": "code",
      "metadata": {
        "id": "CmqX82eXbpAQ"
      },
      "source": [
        "early_stop_callback = tf.keras.callbacks.EarlyStopping(\n",
        "            patience=10,\n",
        "            monitor='val_loss',\n",
        "            verbose=1,\n",
        "            mode='min',\n",
        "            restore_best_weights=True)"
      ],
      "execution_count": 28,
      "outputs": []
    },
    {
      "cell_type": "code",
      "metadata": {
        "id": "BNsGwu6--ufM",
        "colab": {
          "base_uri": "https://localhost:8080/"
        },
        "outputId": "ee34aeed-24aa-4d39-ba27-b72490a8f473"
      },
      "source": [
        "feature_layer = tf.keras.layers.DenseFeatures(feature_columns)\n",
        "\n",
        "model = tf.keras.Sequential([\n",
        "  feature_layer,\n",
        "  layers.Dense(128, activation='relu', kernel_regularizer=tf.keras.regularizers.l2(l2=1e-4)),\n",
        "  layers.Dropout(0.5),\n",
        "  layers.Dense(12, kernel_regularizer=tf.keras.regularizers.l2(l2=1e-4))\n",
        "])\n",
        "\n",
        "model.compile(optimizer='adam',\n",
        "              loss=tf.keras.losses.SparseCategoricalCrossentropy(from_logits=True),\n",
        "              metrics=tf.metrics.SparseCategoricalAccuracy())\n",
        "\n",
        "# model.summary()\n",
        "\n",
        "model.fit(train_ds,\n",
        "          validation_data=val_ds,\n",
        "          callbacks=[early_stop_callback],\n",
        "          epochs=1000)"
      ],
      "execution_count": 44,
      "outputs": [
        {
          "output_type": "stream",
          "text": [
            "Epoch 1/1000\n",
            "WARNING:tensorflow:Layers in a Sequential model should only have a single input tensor, but we receive a <class 'dict'> input: {'acorn_squash': <tf.Tensor 'ExpandDims_20:0' shape=(None, 1) dtype=int64>, 'adobo': <tf.Tensor 'ExpandDims_21:0' shape=(None, 1) dtype=int64>, 'african_birdseye_chile_pepper': <tf.Tensor 'ExpandDims_22:0' shape=(None, 1) dtype=int64>, 'ale': <tf.Tensor 'ExpandDims_23:0' shape=(None, 1) dtype=int64>, 'aleppo_pepper': <tf.Tensor 'ExpandDims_24:0' shape=(None, 1) dtype=int64>, 'alfalfa_sprouts': <tf.Tensor 'ExpandDims_25:0' shape=(None, 1) dtype=int64>, 'alfredo_sauce': <tf.Tensor 'ExpandDims_26:0' shape=(None, 1) dtype=int64>, 'allspice': <tf.Tensor 'ExpandDims_27:0' shape=(None, 1) dtype=int64>, 'almond': <tf.Tensor 'ExpandDims_28:0' shape=(None, 1) dtype=int64>, 'almond_butter': <tf.Tensor 'ExpandDims_29:0' shape=(None, 1) dtype=int64>, 'amaretti': <tf.Tensor 'ExpandDims_30:0' shape=(None, 1) dtype=int64>, 'amchoor_powder': <tf.Tensor 'ExpandDims_31:0' shape=(None, 1) dtype=int64>, 'ancho_chile_pepper': <tf.Tensor 'ExpandDims_32:0' shape=(None, 1) dtype=int64>, 'anchovy': <tf.Tensor 'ExpandDims_33:0' shape=(None, 1) dtype=int64>, 'anchovy_paste': <tf.Tensor 'ExpandDims_34:0' shape=(None, 1) dtype=int64>, 'andouille_sausage': <tf.Tensor 'ExpandDims_35:0' shape=(None, 1) dtype=int64>, 'anise': <tf.Tensor 'ExpandDims_36:0' shape=(None, 1) dtype=int64>, 'apple': <tf.Tensor 'ExpandDims_37:0' shape=(None, 1) dtype=int64>, 'apple_butter': <tf.Tensor 'ExpandDims_38:0' shape=(None, 1) dtype=int64>, 'apple_juice': <tf.Tensor 'ExpandDims_39:0' shape=(None, 1) dtype=int64>, 'applesauce': <tf.Tensor 'ExpandDims_40:0' shape=(None, 1) dtype=int64>, 'apricot': <tf.Tensor 'ExpandDims_41:0' shape=(None, 1) dtype=int64>, 'arborio_rice': <tf.Tensor 'ExpandDims_42:0' shape=(None, 1) dtype=int64>, 'argan_oil': <tf.Tensor 'ExpandDims_43:0' shape=(None, 1) dtype=int64>, 'arrowroot': <tf.Tensor 'ExpandDims_44:0' shape=(None, 1) dtype=int64>, 'artichoke': <tf.Tensor 'ExpandDims_45:0' shape=(None, 1) dtype=int64>, 'artificial_sweetener': <tf.Tensor 'ExpandDims_46:0' shape=(None, 1) dtype=int64>, 'arugula': <tf.Tensor 'ExpandDims_47:0' shape=(None, 1) dtype=int64>, 'asadero': <tf.Tensor 'ExpandDims_48:0' shape=(None, 1) dtype=int64>, 'asafetida': <tf.Tensor 'ExpandDims_49:0' shape=(None, 1) dtype=int64>, 'asiago_cheese': <tf.Tensor 'ExpandDims_50:0' shape=(None, 1) dtype=int64>, 'asparagus': <tf.Tensor 'ExpandDims_51:0' shape=(None, 1) dtype=int64>, 'assorted_vegetables': <tf.Tensor 'ExpandDims_52:0' shape=(None, 1) dtype=int64>, 'avocado': <tf.Tensor 'ExpandDims_53:0' shape=(None, 1) dtype=int64>, 'azuki_bean': <tf.Tensor 'ExpandDims_54:0' shape=(None, 1) dtype=int64>, 'baby_carrot': <tf.Tensor 'ExpandDims_55:0' shape=(None, 1) dtype=int64>, 'baby_corn': <tf.Tensor 'ExpandDims_56:0' shape=(None, 1) dtype=int64>, 'baby_onions': <tf.Tensor 'ExpandDims_57:0' shape=(None, 1) dtype=int64>, 'baby_spinach': <tf.Tensor 'ExpandDims_58:0' shape=(None, 1) dtype=int64>, 'bacon': <tf.Tensor 'ExpandDims_59:0' shape=(None, 1) dtype=int64>, 'bacon_grease': <tf.Tensor 'ExpandDims_60:0' shape=(None, 1) dtype=int64>, 'bagel': <tf.Tensor 'ExpandDims_61:0' shape=(None, 1) dtype=int64>, 'baguette': <tf.Tensor 'ExpandDims_62:0' shape=(None, 1) dtype=int64>, 'baked_beans': <tf.Tensor 'ExpandDims_63:0' shape=(None, 1) dtype=int64>, 'baking_powder': <tf.Tensor 'ExpandDims_64:0' shape=(None, 1) dtype=int64>, 'baking_soda': <tf.Tensor 'ExpandDims_65:0' shape=(None, 1) dtype=int64>, 'balsamic_vinegar': <tf.Tensor 'ExpandDims_66:0' shape=(None, 1) dtype=int64>, 'bamboo_shoot': <tf.Tensor 'ExpandDims_67:0' shape=(None, 1) dtype=int64>, 'bamboo_skewers': <tf.Tensor 'ExpandDims_68:0' shape=(None, 1) dtype=int64>, 'banana': <tf.Tensor 'ExpandDims_69:0' shape=(None, 1) dtype=int64>, 'barbecue_sauce': <tf.Tensor 'ExpandDims_70:0' shape=(None, 1) dtype=int64>, 'barley': <tf.Tensor 'ExpandDims_71:0' shape=(None, 1) dtype=int64>, 'basil': <tf.Tensor 'ExpandDims_72:0' shape=(None, 1) dtype=int64>, 'basmati_rice': <tf.Tensor 'ExpandDims_73:0' shape=(None, 1) dtype=int64>, 'bass': <tf.Tensor 'ExpandDims_74:0' shape=(None, 1) dtype=int64>, 'bay_leaf': <tf.Tensor 'ExpandDims_75:0' shape=(None, 1) dtype=int64>, 'bean_sprouts': <tf.Tensor 'ExpandDims_76:0' shape=(None, 1) dtype=int64>, 'bean_thread': <tf.Tensor 'ExpandDims_77:0' shape=(None, 1) dtype=int64>, 'beans': <tf.Tensor 'ExpandDims_78:0' shape=(None, 1) dtype=int64>, 'bechamel': <tf.Tensor 'ExpandDims_79:0' shape=(None, 1) dtype=int64>, 'beef': <tf.Tensor 'ExpandDims_80:0' shape=(None, 1) dtype=int64>, 'beef_consomme': <tf.Tensor 'ExpandDims_81:0' shape=(None, 1) dtype=int64>, 'beef_gravy': <tf.Tensor 'ExpandDims_82:0' shape=(None, 1) dtype=int64>, 'beef_round_cuts': <tf.Tensor 'ExpandDims_83:0' shape=(None, 1) dtype=int64>, 'beef_stock': <tf.Tensor 'ExpandDims_84:0' shape=(None, 1) dtype=int64>, 'beer': <tf.Tensor 'ExpandDims_85:0' shape=(None, 1) dtype=int64>, 'beet': <tf.Tensor 'ExpandDims_86:0' shape=(None, 1) dtype=int64>, 'biscuit_mix': <tf.Tensor 'ExpandDims_87:0' shape=(None, 1) dtype=int64>, 'bitter_melon': <tf.Tensor 'ExpandDims_88:0' shape=(None, 1) dtype=int64>, 'black_bean': <tf.Tensor 'ExpandDims_89:0' shape=(None, 1) dtype=int64>, 'black_eyed_pea': <tf.Tensor 'ExpandDims_90:0' shape=(None, 1) dtype=int64>, 'black_forest_ham': <tf.Tensor 'ExpandDims_91:0' shape=(None, 1) dtype=int64>, 'black_mushroom': <tf.Tensor 'ExpandDims_92:0' shape=(None, 1) dtype=int64>, 'black_olive': <tf.Tensor 'ExpandDims_93:0' shape=(None, 1) dtype=int64>, 'black_truffle': <tf.Tensor 'ExpandDims_94:0' shape=(None, 1) dtype=int64>, 'blackberry': <tf.Tensor 'ExpandDims_95:0' shape=(None, 1) dtype=int64>, 'blue_cheese': <tf.Tensor 'ExpandDims_96:0' shape=(None, 1) dtype=int64>, 'bok_choy': <tf.Tensor 'ExpandDims_97:0' shape=(None, 1) dtype=int64>, 'bouillon': <tf.Tensor 'ExpandDims_98:0' shape=(None, 1) dtype=int64>, 'bouquet_garni': <tf.Tensor 'ExpandDims_99:0' shape=(None, 1) dtype=int64>, 'bourbon': <tf.Tensor 'ExpandDims_100:0' shape=(None, 1) dtype=int64>, 'brandy': <tf.Tensor 'ExpandDims_101:0' shape=(None, 1) dtype=int64>, 'bratwursts': <tf.Tensor 'ExpandDims_102:0' shape=(None, 1) dtype=int64>, 'bread': <tf.Tensor 'ExpandDims_103:0' shape=(None, 1) dtype=int64>, 'bread_bun': <tf.Tensor 'ExpandDims_104:0' shape=(None, 1) dtype=int64>, 'breadcrumb': <tf.Tensor 'ExpandDims_105:0' shape=(None, 1) dtype=int64>, 'brick_cheese': <tf.Tensor 'ExpandDims_106:0' shape=(None, 1) dtype=int64>, 'brie_cheese': <tf.Tensor 'ExpandDims_107:0' shape=(None, 1) dtype=int64>, 'broccoli': <tf.Tensor 'ExpandDims_108:0' shape=(None, 1) dtype=int64>, 'broccoli_raab': <tf.Tensor 'ExpandDims_109:0' shape=(None, 1) dtype=int64>, 'broth': <tf.Tensor 'ExpandDims_110:0' shape=(None, 1) dtype=int64>, 'brown_gravy_mix': <tf.Tensor 'ExpandDims_111:0' shape=(None, 1) dtype=int64>, 'brown_onion': <tf.Tensor 'ExpandDims_112:0' shape=(None, 1) dtype=int64>, 'brown_rice': <tf.Tensor 'ExpandDims_113:0' shape=(None, 1) dtype=int64>, 'brown_sugar': <tf.Tensor 'ExpandDims_114:0' shape=(None, 1) dtype=int64>, 'brussels_sprout': <tf.Tensor 'ExpandDims_115:0' shape=(None, 1) dtype=int64>, 'buckwheat': <tf.Tensor 'ExpandDims_116:0' shape=(None, 1) dtype=int64>, 'bulgur_wheat': <tf.Tensor 'ExpandDims_117:0' shape=(None, 1) dtype=int64>, 'burdock_root': <tf.Tensor 'ExpandDims_118:0' shape=(None, 1) dtype=int64>, 'butter': <tf.Tensor 'ExpandDims_119:0' shape=(None, 1) dtype=int64>, 'buttermilk': <tf.Tensor 'ExpandDims_120:0' shape=(None, 1) dtype=int64>, 'butternut_squash': <tf.Tensor 'ExpandDims_121:0' shape=(None, 1) dtype=int64>, 'cabbage': <tf.Tensor 'ExpandDims_122:0' shape=(None, 1) dtype=int64>, 'cajun_seasoning': <tf.Tensor 'ExpandDims_123:0' shape=(None, 1) dtype=int64>, 'calvados': <tf.Tensor 'ExpandDims_124:0' shape=(None, 1) dtype=int64>, 'campbell': <tf.Tensor 'ExpandDims_125:0' shape=(None, 1) dtype=int64>, 'canadian_bacon': <tf.Tensor 'ExpandDims_126:0' shape=(None, 1) dtype=int64>, 'cannellini_bean': <tf.Tensor 'ExpandDims_127:0' shape=(None, 1) dtype=int64>, 'canola_oil': <tf.Tensor 'ExpandDims_128:0' shape=(None, 1) dtype=int64>, 'cantaloupe': <tf.Tensor 'ExpandDims_129:0' shape=(None, 1) dtype=int64>, 'caper': <tf.Tensor 'ExpandDims_130:0' shape=(None, 1) dtype=int64>, 'capsicum': <tf.Tensor 'ExpandDims_131:0' shape=(None, 1) dtype=int64>, 'caraway_seed': <tf.Tensor 'ExpandDims_132:0' shape=(None, 1) dtype=int64>, 'cardamom': <tf.Tensor 'ExpandDims_133:0' shape=(None, 1) dtype=int64>, 'carrot': <tf.Tensor 'ExpandDims_134:0' shape=(None, 1) dtype=int64>, 'cashew_nut': <tf.Tensor 'ExpandDims_135:0' shape=(None, 1) dtype=int64>, 'catfish': <tf.Tensor 'ExpandDims_136:0' shape=(None, 1) dtype=int64>, 'caul': <tf.Tensor 'ExpandDims_137:0' shape=(None, 1) dtype=int64>, 'cauliflower': <tf.Tensor 'ExpandDims_138:0' shape=(None, 1) dtype=int64>, 'cayenne_pepper': <tf.Tensor 'ExpandDims_139:0' shape=(None, 1) dtype=int64>, 'celeriac': <tf.Tensor 'ExpandDims_140:0' shape=(None, 1) dtype=int64>, 'celery': <tf.Tensor 'ExpandDims_141:0' shape=(None, 1) dtype=int64>, 'celery_salt': <tf.Tensor 'ExpandDims_142:0' shape=(None, 1) dtype=int64>, 'celery_seed': <tf.Tensor 'ExpandDims_143:0' shape=(None, 1) dtype=int64>, 'celery_soup': <tf.Tensor 'ExpandDims_144:0' shape=(None, 1) dtype=int64>, 'chanterelle_mushroom': <tf.Tensor 'ExpandDims_145:0' shape=(None, 1) dtype=int64>, 'chard': <tf.Tensor 'ExpandDims_146:0' shape=(None, 1) dtype=int64>, 'chayote': <tf.Tensor 'ExpandDims_147:0' shape=(None, 1) dtype=int64>, 'cheddar_cheese': <tf.Tensor 'ExpandDims_148:0' shape=(None, 1) dtype=int64>, 'cheddar_cheese_soup': <tf.Tensor 'ExpandDims_149:0' shape=(None, 1) dtype=int64>, 'cheese': <tf.Tensor 'ExpandDims_150:0' shape=(None, 1) dtype=int64>, 'cherry': <tf.Tensor 'ExpandDims_151:0' shape=(None, 1) dtype=int64>, 'chervil': <tf.Tensor 'ExpandDims_152:0' shape=(None, 1) dtype=int64>, 'cheshire_cheese': <tf.Tensor 'ExpandDims_153:0' shape=(None, 1) dtype=int64>, 'chestnut': <tf.Tensor 'ExpandDims_154:0' shape=(None, 1) dtype=int64>, 'chestnut_mushroom': <tf.Tensor 'ExpandDims_155:0' shape=(None, 1) dtype=int64>, 'chicken': <tf.Tensor 'ExpandDims_156:0' shape=(None, 1) dtype=int64>, 'chicken_base': <tf.Tensor 'ExpandDims_157:0' shape=(None, 1) dtype=int64>, 'chicken_liver': <tf.Tensor 'ExpandDims_158:0' shape=(None, 1) dtype=int64>, 'chicken_sausage': <tf.Tensor 'ExpandDims_159:0' shape=(None, 1) dtype=int64>, 'chicken_soup': <tf.Tensor 'ExpandDims_160:0' shape=(None, 1) dtype=int64>, 'chicken_stock': <tf.Tensor 'ExpandDims_161:0' shape=(None, 1) dtype=int64>, 'chickpea': <tf.Tensor 'ExpandDims_162:0' shape=(None, 1) dtype=int64>, 'chile_pepper': <tf.Tensor 'ExpandDims_163:0' shape=(None, 1) dtype=int64>, 'chili_oil': <tf.Tensor 'ExpandDims_164:0' shape=(None, 1) dtype=int64>, 'chili_paste': <tf.Tensor 'ExpandDims_165:0' shape=(None, 1) dtype=int64>, 'chili_powder': <tf.Tensor 'ExpandDims_166:0' shape=(None, 1) dtype=int64>, 'chili_sauce': <tf.Tensor 'ExpandDims_167:0' shape=(None, 1) dtype=int64>, 'chinese_cabbage': <tf.Tensor 'ExpandDims_168:0' shape=(None, 1) dtype=int64>, 'chinese_chives': <tf.Tensor 'ExpandDims_169:0' shape=(None, 1) dtype=int64>, 'Chinese_mushroom': <tf.Tensor 'ExpandDims:0' shape=(None, 1) dtype=int64>, 'Chinese_noodles': <tf.Tensor 'ExpandDims_1:0' shape=(None, 1) dtype=int64>, 'chipotle_pepper': <tf.Tensor 'ExpandDims_170:0' shape=(None, 1) dtype=int64>, 'chives': <tf.Tensor 'ExpandDims_171:0' shape=(None, 1) dtype=int64>, 'chocolate': <tf.Tensor 'ExpandDims_172:0' shape=(None, 1) dtype=int64>, 'chutney': <tf.Tensor 'ExpandDims_173:0' shape=(None, 1) dtype=int64>, 'cider': <tf.Tensor 'ExpandDims_174:0' shape=(None, 1) dtype=int64>, 'cider_vinegar': <tf.Tensor 'ExpandDims_175:0' shape=(None, 1) dtype=int64>, 'cilantro': <tf.Tensor 'ExpandDims_176:0' shape=(None, 1) dtype=int64>, 'cinnamon': <tf.Tensor 'ExpandDims_177:0' shape=(None, 1) dtype=int64>, 'clam': <tf.Tensor 'ExpandDims_178:0' shape=(None, 1) dtype=int64>, 'clam_juice': <tf.Tensor 'ExpandDims_179:0' shape=(None, 1) dtype=int64>, 'clarified_butter': <tf.Tensor 'ExpandDims_180:0' shape=(None, 1) dtype=int64>, 'clove': <tf.Tensor 'ExpandDims_181:0' shape=(None, 1) dtype=int64>, 'cocoa_powder': <tf.Tensor 'ExpandDims_182:0' shape=(None, 1) dtype=int64>, 'coconut': <tf.Tensor 'ExpandDims_183:0' shape=(None, 1) dtype=int64>, 'coconut_milk_or_cream': <tf.Tensor 'ExpandDims_184:0' shape=(None, 1) dtype=int64>, 'coconut_oil': <tf.Tensor 'ExpandDims_185:0' shape=(None, 1) dtype=int64>, 'cod': <tf.Tensor 'ExpandDims_186:0' shape=(None, 1) dtype=int64>, 'colby': <tf.Tensor 'ExpandDims_187:0' shape=(None, 1) dtype=int64>, 'coleslaw_mix': <tf.Tensor 'ExpandDims_188:0' shape=(None, 1) dtype=int64>, 'confit': <tf.Tensor 'ExpandDims_189:0' shape=(None, 1) dtype=int64>, 'coriander': <tf.Tensor 'ExpandDims_190:0' shape=(None, 1) dtype=int64>, 'coriander_root': <tf.Tensor 'ExpandDims_191:0' shape=(None, 1) dtype=int64>, 'corn': <tf.Tensor 'ExpandDims_192:0' shape=(None, 1) dtype=int64>, 'corn_chips': <tf.Tensor 'ExpandDims_193:0' shape=(None, 1) dtype=int64>, 'corn_flour': <tf.Tensor 'ExpandDims_194:0' shape=(None, 1) dtype=int64>, 'corn_oil': <tf.Tensor 'ExpandDims_195:0' shape=(None, 1) dtype=int64>, 'cornbread': <tf.Tensor 'ExpandDims_196:0' shape=(None, 1) dtype=int64>, 'corned_beef': <tf.Tensor 'ExpandDims_197:0' shape=(None, 1) dtype=int64>, 'cornish_hen': <tf.Tensor 'ExpandDims_198:0' shape=(None, 1) dtype=int64>, 'cornmeal': <tf.Tensor 'ExpandDims_199:0' shape=(None, 1) dtype=int64>, 'cornstarch': <tf.Tensor 'ExpandDims_200:0' shape=(None, 1) dtype=int64>, 'cottage_cheese': <tf.Tensor 'ExpandDims_201:0' shape=(None, 1) dtype=int64>, 'couscous': <tf.Tensor 'ExpandDims_202:0' shape=(None, 1) dtype=int64>, 'crab': <tf.Tensor 'ExpandDims_203:0' shape=(None, 1) dtype=int64>, 'crab_claw': <tf.Tensor 'ExpandDims_204:0' shape=(None, 1) dtype=int64>, 'cracker': <tf.Tensor 'ExpandDims_205:0' shape=(None, 1) dtype=int64>, 'craisin': <tf.Tensor 'ExpandDims_206:0' shape=(None, 1) dtype=int64>, 'cranberry': <tf.Tensor 'ExpandDims_207:0' shape=(None, 1) dtype=int64>, 'cranberry_bean': <tf.Tensor 'ExpandDims_208:0' shape=(None, 1) dtype=int64>, 'crayfish': <tf.Tensor 'ExpandDims_209:0' shape=(None, 1) dtype=int64>, 'cream': <tf.Tensor 'ExpandDims_210:0' shape=(None, 1) dtype=int64>, 'cream_cheese': <tf.Tensor 'ExpandDims_211:0' shape=(None, 1) dtype=int64>, 'creamed_corn': <tf.Tensor 'ExpandDims_212:0' shape=(None, 1) dtype=int64>, 'creme_fraiche': <tf.Tensor 'ExpandDims_213:0' shape=(None, 1) dtype=int64>, 'cremini_mushroom': <tf.Tensor 'ExpandDims_214:0' shape=(None, 1) dtype=int64>, 'crouton': <tf.Tensor 'ExpandDims_215:0' shape=(None, 1) dtype=int64>, 'crusty_bread': <tf.Tensor 'ExpandDims_216:0' shape=(None, 1) dtype=int64>, 'crystallized_ginger': <tf.Tensor 'ExpandDims_217:0' shape=(None, 1) dtype=int64>, 'cucumber': <tf.Tensor 'ExpandDims_218:0' shape=(None, 1) dtype=int64>, 'cumin': <tf.Tensor 'ExpandDims_219:0' shape=(None, 1) dtype=int64>, 'currant': <tf.Tensor 'ExpandDims_220:0' shape=(None, 1) dtype=int64>, 'curry_leaf': <tf.Tensor 'ExpandDims_221:0' shape=(None, 1) dtype=int64>, 'curry_paste': <tf.Tensor 'ExpandDims_222:0' shape=(None, 1) dtype=int64>, 'curry_powder': <tf.Tensor 'ExpandDims_223:0' shape=(None, 1) dtype=int64>, 'curry_sauce': <tf.Tensor 'ExpandDims_224:0' shape=(None, 1) dtype=int64>, 'dashi': <tf.Tensor 'ExpandDims_225:0' shape=(None, 1) dtype=int64>, 'dashi_stock': <tf.Tensor 'ExpandDims_226:0' shape=(None, 1) dtype=int64>, 'date': <tf.Tensor 'ExpandDims_227:0' shape=(None, 1) dtype=int64>, 'dehydrated_onion': <tf.Tensor 'ExpandDims_228:0' shape=(None, 1) dtype=int64>, 'demi_glace': <tf.Tensor 'ExpandDims_229:0' shape=(None, 1) dtype=int64>, 'dill': <tf.Tensor 'ExpandDims_230:0' shape=(None, 1) dtype=int64>, 'dried_apricot': <tf.Tensor 'ExpandDims_231:0' shape=(None, 1) dtype=int64>, 'dried_chile_pepper': <tf.Tensor 'ExpandDims_232:0' shape=(None, 1) dtype=int64>, 'dripping': <tf.Tensor 'ExpandDims_233:0' shape=(None, 1) dtype=int64>, 'duck': <tf.Tensor 'ExpandDims_234:0' shape=(None, 1) dtype=int64>, 'edamame': <tf.Tensor 'ExpandDims_235:0' shape=(None, 1) dtype=int64>, 'eel': <tf.Tensor 'ExpandDims_236:0' shape=(None, 1) dtype=int64>, 'egg': <tf.Tensor 'ExpandDims_237:0' shape=(None, 1) dtype=int64>, 'egg_noodles': <tf.Tensor 'ExpandDims_238:0' shape=(None, 1) dtype=int64>, 'egg_roll_wraps': <tf.Tensor 'ExpandDims_239:0' shape=(None, 1) dtype=int64>, 'egg_substitute': <tf.Tensor 'ExpandDims_240:0' shape=(None, 1) dtype=int64>, 'eggplant': <tf.Tensor 'ExpandDims_241:0' shape=(None, 1) dtype=int64>, 'emeril': <tf.Tensor 'ExpandDims_242:0' shape=(None, 1) dtype=int64>, 'emmenthaler_cheese': <tf.Tensor 'ExpandDims_243:0' shape=(None, 1) dtype=int64>, 'enchilada_sauce': <tf.Tensor 'ExpandDims_244:0' shape=(None, 1) dtype=int64>, 'endive': <tf.Tensor 'ExpandDims_245:0' shape=(None, 1) dtype=int64>, 'english_muffin': <tf.Tensor 'ExpandDims_246:0' shape=(None, 1) dtype=int64>, 'english_mustard': <tf.Tensor 'ExpandDims_247:0' shape=(None, 1) dtype=int64>, 'enoki_mushroom': <tf.Tensor 'ExpandDims_248:0' shape=(None, 1) dtype=int64>, 'epazote': <tf.Tensor 'ExpandDims_249:0' shape=(None, 1) dtype=int64>, 'evaporated_milk': <tf.Tensor 'ExpandDims_250:0' shape=(None, 1) dtype=int64>, 'fajita_seasoning_mix': <tf.Tensor 'ExpandDims_251:0' shape=(None, 1) dtype=int64>, 'fat-free_refried_beans': <tf.Tensor 'ExpandDims_252:0' shape=(None, 1) dtype=int64>, 'fava_bean': <tf.Tensor 'ExpandDims_253:0' shape=(None, 1) dtype=int64>, 'fennel': <tf.Tensor 'ExpandDims_254:0' shape=(None, 1) dtype=int64>, 'fennel_seeds': <tf.Tensor 'ExpandDims_255:0' shape=(None, 1) dtype=int64>, 'fenugreek': <tf.Tensor 'ExpandDims_256:0' shape=(None, 1) dtype=int64>, 'fermented_black_bean': <tf.Tensor 'ExpandDims_257:0' shape=(None, 1) dtype=int64>, 'feta_cheese': <tf.Tensor 'ExpandDims_258:0' shape=(None, 1) dtype=int64>, 'fig': <tf.Tensor 'ExpandDims_259:0' shape=(None, 1) dtype=int64>, 'filet_mignon': <tf.Tensor 'ExpandDims_260:0' shape=(None, 1) dtype=int64>, 'fire_oil': <tf.Tensor 'ExpandDims_261:0' shape=(None, 1) dtype=int64>, 'fish': <tf.Tensor 'ExpandDims_262:0' shape=(None, 1) dtype=int64>, 'fish_sauce': <tf.Tensor 'ExpandDims_263:0' shape=(None, 1) dtype=int64>, 'fish_stock': <tf.Tensor 'ExpandDims_264:0' shape=(None, 1) dtype=int64>, 'five_spice_powder': <tf.Tensor 'ExpandDims_265:0' shape=(None, 1) dtype=int64>, 'flat_bread': <tf.Tensor 'ExpandDims_266:0' shape=(None, 1) dtype=int64>, 'flax_seed': <tf.Tensor 'ExpandDims_267:0' shape=(None, 1) dtype=int64>, 'flounder': <tf.Tensor 'ExpandDims_268:0' shape=(None, 1) dtype=int64>, 'flour': <tf.Tensor 'ExpandDims_269:0' shape=(None, 1) dtype=int64>, 'fontina_cheese': <tf.Tensor 'ExpandDims_270:0' shape=(None, 1) dtype=int64>, 'French_beans': <tf.Tensor 'ExpandDims_2:0' shape=(None, 1) dtype=int64>, 'French_bread': <tf.Tensor 'ExpandDims_3:0' shape=(None, 1) dtype=int64>, 'French_dressing': <tf.Tensor 'ExpandDims_4:0' shape=(None, 1) dtype=int64>, 'french_style_green_bean': <tf.Tensor 'ExpandDims_271:0' shape=(None, 1) dtype=int64>, 'fresh_button_mushroom': <tf.Tensor 'ExpandDims_272:0' shape=(None, 1) dtype=int64>, 'frozen_edamame': <tf.Tensor 'ExpandDims_273:0' shape=(None, 1) dtype=int64>, 'fusilli': <tf.Tensor 'ExpandDims_274:0' shape=(None, 1) dtype=int64>, 'galangal': <tf.Tensor 'ExpandDims_275:0' shape=(None, 1) dtype=int64>, 'garlic': <tf.Tensor 'ExpandDims_276:0' shape=(None, 1) dtype=int64>, 'garlic_butter': <tf.Tensor 'ExpandDims_277:0' shape=(None, 1) dtype=int64>, 'garlic_pepper_seasoning': <tf.Tensor 'ExpandDims_278:0' shape=(None, 1) dtype=int64>, 'garlic_powder': <tf.Tensor 'ExpandDims_279:0' shape=(None, 1) dtype=int64>, 'garlic_salt': <tf.Tensor 'ExpandDims_280:0' shape=(None, 1) dtype=int64>, 'gelatin': <tf.Tensor 'ExpandDims_281:0' shape=(None, 1) dtype=int64>, 'genoa_salami': <tf.Tensor 'ExpandDims_282:0' shape=(None, 1) dtype=int64>, 'ghee': <tf.Tensor 'ExpandDims_283:0' shape=(None, 1) dtype=int64>, 'ginger': <tf.Tensor 'ExpandDims_284:0' shape=(None, 1) dtype=int64>, 'ginger-garlic_paste': <tf.Tensor 'ExpandDims_285:0' shape=(None, 1) dtype=int64>, 'gingersnap_cookie': <tf.Tensor 'ExpandDims_286:0' shape=(None, 1) dtype=int64>, 'gingersnaps': <tf.Tensor 'ExpandDims_287:0' shape=(None, 1) dtype=int64>, 'gloucester': <tf.Tensor 'ExpandDims_288:0' shape=(None, 1) dtype=int64>, 'gluten': <tf.Tensor 'ExpandDims_289:0' shape=(None, 1) dtype=int64>, 'goat_cheese': <tf.Tensor 'ExpandDims_290:0' shape=(None, 1) dtype=int64>, 'golden_syrup': <tf.Tensor 'ExpandDims_291:0' shape=(None, 1) dtype=int64>, 'goose': <tf.Tensor 'ExpandDims_292:0' shape=(None, 1) dtype=int64>, 'gorgonzola': <tf.Tensor 'ExpandDims_293:0' shape=(None, 1) dtype=int64>, 'gouda': <tf.Tensor 'ExpandDims_294:0' shape=(None, 1) dtype=int64>, 'grand_marnier': <tf.Tensor 'ExpandDims_295:0' shape=(None, 1) dtype=int64>, 'granulated_garlic': <tf.Tensor 'ExpandDims_296:0' shape=(None, 1) dtype=int64>, 'grape': <tf.Tensor 'ExpandDims_297:0' shape=(None, 1) dtype=int64>, 'grapefruit': <tf.Tensor 'ExpandDims_298:0' shape=(None, 1) dtype=int64>, 'grapeseed_oil': <tf.Tensor 'ExpandDims_299:0' shape=(None, 1) dtype=int64>, 'grating_cheese': <tf.Tensor 'ExpandDims_300:0' shape=(None, 1) dtype=int64>, 'gravy': <tf.Tensor 'ExpandDims_301:0' shape=(None, 1) dtype=int64>, 'great_northern_bean': <tf.Tensor 'ExpandDims_302:0' shape=(None, 1) dtype=int64>, 'Greek_salad_dressing': <tf.Tensor 'ExpandDims_5:0' shape=(None, 1) dtype=int64>, 'green_bean': <tf.Tensor 'ExpandDims_303:0' shape=(None, 1) dtype=int64>, 'green_olive': <tf.Tensor 'ExpandDims_304:0' shape=(None, 1) dtype=int64>, 'green_onion': <tf.Tensor 'ExpandDims_305:0' shape=(None, 1) dtype=int64>, 'greens': <tf.Tensor 'ExpandDims_306:0' shape=(None, 1) dtype=int64>, 'ground_meat': <tf.Tensor 'ExpandDims_307:0' shape=(None, 1) dtype=int64>, 'ground_round': <tf.Tensor 'ExpandDims_308:0' shape=(None, 1) dtype=int64>, 'gruyere': <tf.Tensor 'ExpandDims_309:0' shape=(None, 1) dtype=int64>, 'guacamole': <tf.Tensor 'ExpandDims_310:0' shape=(None, 1) dtype=int64>, 'Guinness_stout': <tf.Tensor 'ExpandDims_6:0' shape=(None, 1) dtype=int64>, 'gumbo': <tf.Tensor 'ExpandDims_311:0' shape=(None, 1) dtype=int64>, 'habanero_chile': <tf.Tensor 'ExpandDims_312:0' shape=(None, 1) dtype=int64>, 'haddock': <tf.Tensor 'ExpandDims_313:0' shape=(None, 1) dtype=int64>, 'hake_fillets': <tf.Tensor 'ExpandDims_314:0' shape=(None, 1) dtype=int64>, 'half_and_half': <tf.Tensor 'ExpandDims_315:0' shape=(None, 1) dtype=int64>, 'halibut': <tf.Tensor 'ExpandDims_316:0' shape=(None, 1) dtype=int64>, 'ham': <tf.Tensor 'ExpandDims_317:0' shape=(None, 1) dtype=int64>, 'ham_hock': <tf.Tensor 'ExpandDims_318:0' shape=(None, 1) dtype=int64>, 'hamburger': <tf.Tensor 'ExpandDims_319:0' shape=(None, 1) dtype=int64>, 'harissa': <tf.Tensor 'ExpandDims_320:0' shape=(None, 1) dtype=int64>, 'hash_browns': <tf.Tensor 'ExpandDims_321:0' shape=(None, 1) dtype=int64>, 'havarti': <tf.Tensor 'ExpandDims_322:0' shape=(None, 1) dtype=int64>, 'hazelnut': <tf.Tensor 'ExpandDims_323:0' shape=(None, 1) dtype=int64>, 'heavy_cream': <tf.Tensor 'ExpandDims_324:0' shape=(None, 1) dtype=int64>, 'herb': <tf.Tensor 'ExpandDims_325:0' shape=(None, 1) dtype=int64>, 'herbes_de_provence': <tf.Tensor 'ExpandDims_326:0' shape=(None, 1) dtype=int64>, 'hoagie_rolls': <tf.Tensor 'ExpandDims_327:0' shape=(None, 1) dtype=int64>, 'hoisin_sauce': <tf.Tensor 'ExpandDims_328:0' shape=(None, 1) dtype=int64>, 'hokkien_noodles': <tf.Tensor 'ExpandDims_329:0' shape=(None, 1) dtype=int64>, 'hominy': <tf.Tensor 'ExpandDims_330:0' shape=(None, 1) dtype=int64>, 'honey': <tf.Tensor 'ExpandDims_331:0' shape=(None, 1) dtype=int64>, 'honey_mustard': <tf.Tensor 'ExpandDims_332:0' shape=(None, 1) dtype=int64>, 'horseradish': <tf.Tensor 'ExpandDims_333:0' shape=(None, 1) dtype=int64>, 'horseradish_sauce': <tf.Tensor 'ExpandDims_334:0' shape=(None, 1) dtype=int64>, 'hot_bean_paste': <tf.Tensor 'ExpandDims_335:0' shape=(None, 1) dtype=int64>, 'hot_pepper_sauce': <tf.Tensor 'ExpandDims_336:0' shape=(None, 1) dtype=int64>, 'hummus': <tf.Tensor 'ExpandDims_337:0' shape=(None, 1) dtype=int64>, 'ice_water': <tf.Tensor 'ExpandDims_338:0' shape=(None, 1) dtype=int64>, 'Italian_bread': <tf.Tensor 'ExpandDims_7:0' shape=(None, 1) dtype=int64>, 'Italian_breadcrumbs': <tf.Tensor 'ExpandDims_8:0' shape=(None, 1) dtype=int64>, 'Italian_rolls': <tf.Tensor 'ExpandDims_9:0' shape=(None, 1) dtype=int64>, 'Italian_salad_dressing': <tf.Tensor 'ExpandDims_10:0' shape=(None, 1) dtype=int64>, 'Italian_spices': <tf.Tensor 'ExpandDims_11:0' shape=(None, 1) dtype=int64>, 'jack_cheese': <tf.Tensor 'ExpandDims_339:0' shape=(None, 1) dtype=int64>, 'jaggery': <tf.Tensor 'ExpandDims_340:0' shape=(None, 1) dtype=int64>, 'jalapeno_pepper': <tf.Tensor 'ExpandDims_341:0' shape=(None, 1) dtype=int64>, 'Japanese_breadcrumbs': <tf.Tensor 'ExpandDims_12:0' shape=(None, 1) dtype=int64>, 'jasmine_rice': <tf.Tensor 'ExpandDims_342:0' shape=(None, 1) dtype=int64>, 'jicama': <tf.Tensor 'ExpandDims_343:0' shape=(None, 1) dtype=int64>, 'juniper_berries': <tf.Tensor 'ExpandDims_344:0' shape=(None, 1) dtype=int64>, 'kaffir_lime': <tf.Tensor 'ExpandDims_345:0' shape=(None, 1) dtype=int64>, 'kalamata_olive': <tf.Tensor 'ExpandDims_346:0' shape=(None, 1) dtype=int64>, 'kale': <tf.Tensor 'ExpandDims_347:0' shape=(None, 1) dtype=int64>, 'kamaboko': <tf.Tensor 'ExpandDims_348:0' shape=(None, 1) dtype=int64>, 'ketchup': <tf.Tensor 'ExpandDims_349:0' shape=(None, 1) dtype=int64>, 'ketjap_manis': <tf.Tensor 'ExpandDims_350:0' shape=(None, 1) dtype=int64>, 'kidney_bean': <tf.Tensor 'ExpandDims_351:0' shape=(None, 1) dtype=int64>, 'kielbasa': <tf.Tensor 'ExpandDims_352:0' shape=(None, 1) dtype=int64>, 'kohlrabi': <tf.Tensor 'ExpandDims_353:0' shape=(None, 1) dtype=int64>, 'kumquat': <tf.Tensor 'ExpandDims_354:0' shape=(None, 1) dtype=int64>, 'lamb': <tf.Tensor 'ExpandDims_355:0' shape=(None, 1) dtype=int64>, 'lambs_kidney': <tf.Tensor 'ExpandDims_356:0' shape=(None, 1) dtype=int64>, 'lancashire_cheese': <tf.Tensor 'ExpandDims_357:0' shape=(None, 1) dtype=int64>, 'lard': <tf.Tensor 'ExpandDims_358:0' shape=(None, 1) dtype=int64>, 'lardon': <tf.Tensor 'ExpandDims_359:0' shape=(None, 1) dtype=int64>, 'lasagna_noodles': <tf.Tensor 'ExpandDims_360:0' shape=(None, 1) dtype=int64>, 'leek': <tf.Tensor 'ExpandDims_361:0' shape=(None, 1) dtype=int64>, 'lemon': <tf.Tensor 'ExpandDims_362:0' shape=(None, 1) dtype=int64>, 'lemon_grass': <tf.Tensor 'ExpandDims_363:0' shape=(None, 1) dtype=int64>, 'lemon_juice': <tf.Tensor 'ExpandDims_364:0' shape=(None, 1) dtype=int64>, 'lentil': <tf.Tensor 'ExpandDims_365:0' shape=(None, 1) dtype=int64>, 'lettuce': <tf.Tensor 'ExpandDims_366:0' shape=(None, 1) dtype=int64>, 'lima_bean': <tf.Tensor 'ExpandDims_367:0' shape=(None, 1) dtype=int64>, 'lime': <tf.Tensor 'ExpandDims_368:0' shape=(None, 1) dtype=int64>, 'liver': <tf.Tensor 'ExpandDims_369:0' shape=(None, 1) dtype=int64>, 'lobster': <tf.Tensor 'ExpandDims_370:0' shape=(None, 1) dtype=int64>, 'long_grain_and_wild_rice_blend': <tf.Tensor 'ExpandDims_371:0' shape=(None, 1) dtype=int64>, 'lotus': <tf.Tensor 'ExpandDims_372:0' shape=(None, 1) dtype=int64>, 'macaroni': <tf.Tensor 'ExpandDims_373:0' shape=(None, 1) dtype=int64>, 'mace': <tf.Tensor 'ExpandDims_374:0' shape=(None, 1) dtype=int64>, 'mackerel': <tf.Tensor 'ExpandDims_375:0' shape=(None, 1) dtype=int64>, 'madeira': <tf.Tensor 'ExpandDims_376:0' shape=(None, 1) dtype=int64>, 'mahi_mahi': <tf.Tensor 'ExpandDims_377:0' shape=(None, 1) dtype=int64>, 'malt_vinegar': <tf.Tensor 'ExpandDims_378:0' shape=(None, 1) dtype=int64>, 'mandarin_orange': <tf.Tensor 'ExpandDims_379:0' shape=(None, 1) dtype=int64>, 'mange_tout': <tf.Tensor 'ExpandDims_380:0' shape=(None, 1) dtype=int64>, 'mango': <tf.Tensor 'ExpandDims_381:0' shape=(None, 1) dtype=int64>, 'manicotti': <tf.Tensor 'ExpandDims_382:0' shape=(None, 1) dtype=int64>, 'manzanilla_olive': <tf.Tensor 'ExpandDims_383:0' shape=(None, 1) dtype=int64>, 'maple_syrup': <tf.Tensor 'ExpandDims_384:0' shape=(None, 1) dtype=int64>, 'margarine': <tf.Tensor 'ExpandDims_385:0' shape=(None, 1) dtype=int64>, 'marinara_sauce': <tf.Tensor 'ExpandDims_386:0' shape=(None, 1) dtype=int64>, 'marjoram': <tf.Tensor 'ExpandDims_387:0' shape=(None, 1) dtype=int64>, 'marmalade': <tf.Tensor 'ExpandDims_388:0' shape=(None, 1) dtype=int64>, 'marmite': <tf.Tensor 'ExpandDims_389:0' shape=(None, 1) dtype=int64>, 'marsala': <tf.Tensor 'ExpandDims_390:0' shape=(None, 1) dtype=int64>, 'masa_harina': <tf.Tensor 'ExpandDims_391:0' shape=(None, 1) dtype=int64>, 'masala': <tf.Tensor 'ExpandDims_392:0' shape=(None, 1) dtype=int64>, 'mascarpone': <tf.Tensor 'ExpandDims_393:0' shape=(None, 1) dtype=int64>, 'masoor_dal': <tf.Tensor 'ExpandDims_394:0' shape=(None, 1) dtype=int64>, 'mayonnaise': <tf.Tensor 'ExpandDims_395:0' shape=(None, 1) dtype=int64>, 'meat_stock': <tf.Tensor 'ExpandDims_396:0' shape=(None, 1) dtype=int64>, 'meatloaf_mix': <tf.Tensor 'ExpandDims_397:0' shape=(None, 1) dtype=int64>, 'Mexican_blend_cheese': <tf.Tensor 'ExpandDims_13:0' shape=(None, 1) dtype=int64>, 'mexicorn': <tf.Tensor 'ExpandDims_398:0' shape=(None, 1) dtype=int64>, 'milk': <tf.Tensor 'ExpandDims_399:0' shape=(None, 1) dtype=int64>, 'mint': <tf.Tensor 'ExpandDims_400:0' shape=(None, 1) dtype=int64>, 'miracle_whip_dressing': <tf.Tensor 'ExpandDims_401:0' shape=(None, 1) dtype=int64>, 'miso': <tf.Tensor 'ExpandDims_402:0' shape=(None, 1) dtype=int64>, 'mixed_spice': <tf.Tensor 'ExpandDims_403:0' shape=(None, 1) dtype=int64>, 'mizithra_cheese': <tf.Tensor 'ExpandDims_404:0' shape=(None, 1) dtype=int64>, 'molasses': <tf.Tensor 'ExpandDims_405:0' shape=(None, 1) dtype=int64>, 'monosodium_glutamate': <tf.Tensor 'ExpandDims_406:0' shape=(None, 1) dtype=int64>, 'moroccan_seasoning': <tf.Tensor 'ExpandDims_407:0' shape=(None, 1) dtype=int64>, 'mortadella': <tf.Tensor 'ExpandDims_408:0' shape=(None, 1) dtype=int64>, 'mozzarella': <tf.Tensor 'ExpandDims_409:0' shape=(None, 1) dtype=int64>, 'mung_beans': <tf.Tensor 'ExpandDims_410:0' shape=(None, 1) dtype=int64>, 'muscovado_sugar': <tf.Tensor 'ExpandDims_411:0' shape=(None, 1) dtype=int64>, 'mushroom': <tf.Tensor 'ExpandDims_412:0' shape=(None, 1) dtype=int64>, 'mushroom_soup': <tf.Tensor 'ExpandDims_413:0' shape=(None, 1) dtype=int64>, 'mussel': <tf.Tensor 'ExpandDims_414:0' shape=(None, 1) dtype=int64>, 'mustard_oil': <tf.Tensor 'ExpandDims_415:0' shape=(None, 1) dtype=int64>, 'mustard_prepared': <tf.Tensor 'ExpandDims_416:0' shape=(None, 1) dtype=int64>, 'mustard_seed_and_powder': <tf.Tensor 'ExpandDims_417:0' shape=(None, 1) dtype=int64>, 'navy_bean': <tf.Tensor 'ExpandDims_418:0' shape=(None, 1) dtype=int64>, 'nectarine': <tf.Tensor 'ExpandDims_419:0' shape=(None, 1) dtype=int64>, 'nigella_seeds': <tf.Tensor 'ExpandDims_420:0' shape=(None, 1) dtype=int64>, 'nori': <tf.Tensor 'ExpandDims_421:0' shape=(None, 1) dtype=int64>, 'nutmeg': <tf.Tensor 'ExpandDims_422:0' shape=(None, 1) dtype=int64>, 'oatmeal': <tf.Tensor 'ExpandDims_423:0' shape=(None, 1) dtype=int64>, 'okra': <tf.Tensor 'ExpandDims_424:0' shape=(None, 1) dtype=int64>, 'Old_Bay_Seasoning': <tf.Tensor 'ExpandDims_14:0' shape=(None, 1) dtype=int64>, 'olive': <tf.Tensor 'ExpandDims_425:0' shape=(None, 1) dtype=int64>, 'olive_oil': <tf.Tensor 'ExpandDims_426:0' shape=(None, 1) dtype=int64>, 'onion': <tf.Tensor 'ExpandDims_427:0' shape=(None, 1) dtype=int64>, 'onion_powder': <tf.Tensor 'ExpandDims_428:0' shape=(None, 1) dtype=int64>, 'onion_soup': <tf.Tensor 'ExpandDims_429:0' shape=(None, 1) dtype=int64>, 'orange': <tf.Tensor 'ExpandDims_430:0' shape=(None, 1) dtype=int64>, 'orange_juice': <tf.Tensor 'ExpandDims_431:0' shape=(None, 1) dtype=int64>, 'orange_rind': <tf.Tensor 'ExpandDims_432:0' shape=(None, 1) dtype=int64>, 'oregano': <tf.Tensor 'ExpandDims_433:0' shape=(None, 1) dtype=int64>, 'oxtails': <tf.Tensor 'ExpandDims_434:0' shape=(None, 1) dtype=int64>, 'oyster_sauce': <tf.Tensor 'ExpandDims_435:0' shape=(None, 1) dtype=int64>, 'oysters': <tf.Tensor 'ExpandDims_436:0' shape=(None, 1) dtype=int64>, 'Pace_Picante_Sauce': <tf.Tensor 'ExpandDims_15:0' shape=(None, 1) dtype=int64>, 'palm_sugar': <tf.Tensor 'ExpandDims_437:0' shape=(None, 1) dtype=int64>, 'pancetta': <tf.Tensor 'ExpandDims_438:0' shape=(None, 1) dtype=int64>, 'panir': <tf.Tensor 'ExpandDims_439:0' shape=(None, 1) dtype=int64>, 'panko': <tf.Tensor 'ExpandDims_440:0' shape=(None, 1) dtype=int64>, 'papaya': <tf.Tensor 'ExpandDims_441:0' shape=(None, 1) dtype=int64>, 'paprika': <tf.Tensor 'ExpandDims_442:0' shape=(None, 1) dtype=int64>, 'parchment_paper': <tf.Tensor 'ExpandDims_443:0' shape=(None, 1) dtype=int64>, 'parmesan_cheese': <tf.Tensor 'ExpandDims_444:0' shape=(None, 1) dtype=int64>, 'parsley': <tf.Tensor 'ExpandDims_445:0' shape=(None, 1) dtype=int64>, 'parsnip': <tf.Tensor 'ExpandDims_446:0' shape=(None, 1) dtype=int64>, 'passata': <tf.Tensor 'ExpandDims_447:0' shape=(None, 1) dtype=int64>, 'pasta': <tf.Tensor 'ExpandDims_448:0' shape=(None, 1) dtype=int64>, 'pasta_sauce': <tf.Tensor 'ExpandDims_449:0' shape=(None, 1) dtype=int64>, 'pastis': <tf.Tensor 'ExpandDims_450:0' shape=(None, 1) dtype=int64>, 'pastry_dough': <tf.Tensor 'ExpandDims_451:0' shape=(None, 1) dtype=int64>, 'pea': <tf.Tensor 'ExpandDims_452:0' shape=(None, 1) dtype=int64>, 'peanut': <tf.Tensor 'ExpandDims_453:0' shape=(None, 1) dtype=int64>, 'peanut_butter': <tf.Tensor 'ExpandDims_454:0' shape=(None, 1) dtype=int64>, 'peanut_oil': <tf.Tensor 'ExpandDims_455:0' shape=(None, 1) dtype=int64>, 'peanut_sauce': <tf.Tensor 'ExpandDims_456:0' shape=(None, 1) dtype=int64>, 'pear': <tf.Tensor 'ExpandDims_457:0' shape=(None, 1) dtype=int64>, 'pearl_onion': <tf.Tensor 'ExpandDims_458:0' shape=(None, 1) dtype=int64>, 'pecan': <tf.Tensor 'ExpandDims_459:0' shape=(None, 1) dtype=int64>, 'pecorino_cheese': <tf.Tensor 'ExpandDims_460:0' shape=(None, 1) dtype=int64>, 'penne_rigate': <tf.Tensor 'ExpandDims_461:0' shape=(None, 1) dtype=int64>, 'pepper': <tf.Tensor 'ExpandDims_462:0' shape=(None, 1) dtype=int64>, 'pepperoncini_pepper': <tf.Tensor 'ExpandDims_463:0' shape=(None, 1) dtype=int64>, 'pepperoni': <tf.Tensor 'ExpandDims_464:0' shape=(None, 1) dtype=int64>, 'pesto': <tf.Tensor 'ExpandDims_465:0' shape=(None, 1) dtype=int64>, 'phyllo_dough': <tf.Tensor 'ExpandDims_466:0' shape=(None, 1) dtype=int64>, 'picante_sauce': <tf.Tensor 'ExpandDims_467:0' shape=(None, 1) dtype=int64>, 'pickle': <tf.Tensor 'ExpandDims_468:0' shape=(None, 1) dtype=int64>, 'pickling_spices': <tf.Tensor 'ExpandDims_469:0' shape=(None, 1) dtype=int64>, 'pie_crust': <tf.Tensor 'ExpandDims_470:0' shape=(None, 1) dtype=int64>, 'pierogi': <tf.Tensor 'ExpandDims_471:0' shape=(None, 1) dtype=int64>, 'pimiento': <tf.Tensor 'ExpandDims_472:0' shape=(None, 1) dtype=int64>, 'pine_nuts': <tf.Tensor 'ExpandDims_473:0' shape=(None, 1) dtype=int64>, 'pineapple': <tf.Tensor 'ExpandDims_474:0' shape=(None, 1) dtype=int64>, 'pink_bean': <tf.Tensor 'ExpandDims_475:0' shape=(None, 1) dtype=int64>, 'pinto_bean': <tf.Tensor 'ExpandDims_476:0' shape=(None, 1) dtype=int64>, 'piquillo_pepper': <tf.Tensor 'ExpandDims_477:0' shape=(None, 1) dtype=int64>, 'pistachio': <tf.Tensor 'ExpandDims_478:0' shape=(None, 1) dtype=int64>, 'pita_bread': <tf.Tensor 'ExpandDims_479:0' shape=(None, 1) dtype=int64>, 'pitted_prunes': <tf.Tensor 'ExpandDims_480:0' shape=(None, 1) dtype=int64>, 'pizza_crust': <tf.Tensor 'ExpandDims_481:0' shape=(None, 1) dtype=int64>, 'pizza_dough': <tf.Tensor 'ExpandDims_482:0' shape=(None, 1) dtype=int64>, 'pizza_sauce': <tf.Tensor 'ExpandDims_483:0' shape=(None, 1) dtype=int64>, 'plum': <tf.Tensor 'ExpandDims_484:0' shape=(None, 1) dtype=int64>, 'plum_tomato': <tf.Tensor 'ExpandDims_485:0' shape=(None, 1) dtype=int64>, 'poblano_pepper': <tf.Tensor 'ExpandDims_486:0' shape=(None, 1) dtype=int64>, 'polenta': <tf.Tensor 'ExpandDims_487:0' shape=(None, 1) dtype=int64>, 'pomegranate': <tf.Tensor 'ExpandDims_488:0' shape=(None, 1) dtype=int64>, 'ponzu': <tf.Tensor 'ExpandDims_489:0' shape=(None, 1) dtype=int64>, 'poppy_seed': <tf.Tensor 'ExpandDims_490:0' shape=(None, 1) dtype=int64>, 'porcino': <tf.Tensor 'ExpandDims_491:0' shape=(None, 1) dtype=int64>, 'pork': <tf.Tensor 'ExpandDims_492:0' shape=(None, 1) dtype=int64>, 'portabella': <tf.Tensor 'ExpandDims_493:0' shape=(None, 1) dtype=int64>, 'potato': <tf.Tensor 'ExpandDims_494:0' shape=(None, 1) dtype=int64>, 'potato_starch': <tf.Tensor 'ExpandDims_495:0' shape=(None, 1) dtype=int64>, 'poultry_seasoning': <tf.Tensor 'ExpandDims_496:0' shape=(None, 1) dtype=int64>, 'powdered_sugar': <tf.Tensor 'ExpandDims_497:0' shape=(None, 1) dtype=int64>, 'prawn': <tf.Tensor 'ExpandDims_498:0' shape=(None, 1) dtype=int64>, 'prepared_horseradish': <tf.Tensor 'ExpandDims_499:0' shape=(None, 1) dtype=int64>, 'preserved_lemon': <tf.Tensor 'ExpandDims_500:0' shape=(None, 1) dtype=int64>, 'processed_cheese': <tf.Tensor 'ExpandDims_501:0' shape=(None, 1) dtype=int64>, 'prosciutto': <tf.Tensor 'ExpandDims_502:0' shape=(None, 1) dtype=int64>, 'provolone': <tf.Tensor 'ExpandDims_503:0' shape=(None, 1) dtype=int64>, 'prune': <tf.Tensor 'ExpandDims_504:0' shape=(None, 1) dtype=int64>, 'puff_pastry': <tf.Tensor 'ExpandDims_505:0' shape=(None, 1) dtype=int64>, 'pumpkin': <tf.Tensor 'ExpandDims_506:0' shape=(None, 1) dtype=int64>, 'pumpkin_pie_spice': <tf.Tensor 'ExpandDims_507:0' shape=(None, 1) dtype=int64>, 'quark': <tf.Tensor 'ExpandDims_508:0' shape=(None, 1) dtype=int64>, 'queso': <tf.Tensor 'ExpandDims_509:0' shape=(None, 1) dtype=int64>, 'quinoa': <tf.Tensor 'ExpandDims_510:0' shape=(None, 1) dtype=int64>, 'rabbit': <tf.Tensor 'ExpandDims_511:0' shape=(None, 1) dtype=int64>, 'radicchio': <tf.Tensor 'ExpandDims_512:0' shape=(None, 1) dtype=int64>, 'radish': <tf.Tensor 'ExpandDims_513:0' shape=(None, 1) dtype=int64>, 'raisin': <tf.Tensor 'ExpandDims_514:0' shape=(None, 1) dtype=int64>, 'ramen_noodles': <tf.Tensor 'ExpandDims_515:0' shape=(None, 1) dtype=int64>, 'Ranch_salad_dressing': <tf.Tensor 'ExpandDims_16:0' shape=(None, 1) dtype=int64>, 'rapeseed_oil': <tf.Tensor 'ExpandDims_516:0' shape=(None, 1) dtype=int64>, 'ras_el_hanout': <tf.Tensor 'ExpandDims_517:0' shape=(None, 1) dtype=int64>, 'raw_sugar': <tf.Tensor 'ExpandDims_518:0' shape=(None, 1) dtype=int64>, 'red_beans': <tf.Tensor 'ExpandDims_519:0' shape=(None, 1) dtype=int64>, 'red_chile_powder': <tf.Tensor 'ExpandDims_520:0' shape=(None, 1) dtype=int64>, 'red_food_coloring': <tf.Tensor 'ExpandDims_521:0' shape=(None, 1) dtype=int64>, 'red_pepper_flakes': <tf.Tensor 'ExpandDims_522:0' shape=(None, 1) dtype=int64>, 'red_pepper_sauce': <tf.Tensor 'ExpandDims_523:0' shape=(None, 1) dtype=int64>, 'red_snapper': <tf.Tensor 'ExpandDims_524:0' shape=(None, 1) dtype=int64>, 'refried_beans': <tf.Tensor 'ExpandDims_525:0' shape=(None, 1) dtype=int64>, 'rhubarb': <tf.Tensor 'ExpandDims_526:0' shape=(None, 1) dtype=int64>, 'rice': <tf.Tensor 'ExpandDims_527:0' shape=(None, 1) dtype=int64>, 'rice_flour': <tf.Tensor 'ExpandDims_528:0' shape=(None, 1) dtype=int64>, 'rice_noodles': <tf.Tensor 'ExpandDims_529:0' shape=(None, 1) dtype=int64>, 'rice_vermicelli': <tf.Tensor 'ExpandDims_530:0' shape=(None, 1) dtype=int64>, 'rice_vinegar': <tf.Tensor 'ExpandDims_531:0' shape=(None, 1) dtype=int64>, 'rice_wine': <tf.Tensor 'ExpandDims_532:0' shape=(None, 1) dtype=int64>, 'ricotta_cheese': <tf.Tensor 'ExpandDims_533:0' shape=(None, 1) dtype=int64>, 'roll': <tf.Tensor 'ExpandDims_534:0' shape=(None, 1) dtype=int64>, 'romaine_lettuce': <tf.Tensor 'ExpandDims_535:0' shape=(None, 1) dtype=int64>, 'romano_cheese': <tf.Tensor 'ExpandDims_536:0' shape=(None, 1) dtype=int64>, 'rose_water': <tf.Tensor 'ExpandDims_537:0' shape=(None, 1) dtype=int64>, 'rosemary': <tf.Tensor 'ExpandDims_538:0' shape=(None, 1) dtype=int64>, 'rotel_tomatoes': <tf.Tensor 'ExpandDims_539:0' shape=(None, 1) dtype=int64>, 'rum': <tf.Tensor 'ExpandDims_540:0' shape=(None, 1) dtype=int64>, 'rutabaga': <tf.Tensor 'ExpandDims_541:0' shape=(None, 1) dtype=int64>, 'rye_bread': <tf.Tensor 'ExpandDims_542:0' shape=(None, 1) dtype=int64>, 'saffron': <tf.Tensor 'ExpandDims_543:0' shape=(None, 1) dtype=int64>, 'sage': <tf.Tensor 'ExpandDims_544:0' shape=(None, 1) dtype=int64>, 'salmon': <tf.Tensor 'ExpandDims_545:0' shape=(None, 1) dtype=int64>, 'salsa': <tf.Tensor 'ExpandDims_546:0' shape=(None, 1) dtype=int64>, 'salsify': <tf.Tensor 'ExpandDims_547:0' shape=(None, 1) dtype=int64>, 'salt': <tf.Tensor 'ExpandDims_548:0' shape=(None, 1) dtype=int64>, 'salt_pork': <tf.Tensor 'ExpandDims_549:0' shape=(None, 1) dtype=int64>, 'sambal': <tf.Tensor 'ExpandDims_550:0' shape=(None, 1) dtype=int64>, 'sardine': <tf.Tensor 'ExpandDims_551:0' shape=(None, 1) dtype=int64>, 'satay': <tf.Tensor 'ExpandDims_552:0' shape=(None, 1) dtype=int64>, 'sauerkraut': <tf.Tensor 'ExpandDims_553:0' shape=(None, 1) dtype=int64>, 'sausage': <tf.Tensor 'ExpandDims_554:0' shape=(None, 1) dtype=int64>, 'savory': <tf.Tensor 'ExpandDims_555:0' shape=(None, 1) dtype=int64>, 'sazon': <tf.Tensor 'ExpandDims_556:0' shape=(None, 1) dtype=int64>, 'sazon_goya': <tf.Tensor 'ExpandDims_557:0' shape=(None, 1) dtype=int64>, 'scallop': <tf.Tensor 'ExpandDims_558:0' shape=(None, 1) dtype=int64>, 'screwpine_leaves': <tf.Tensor 'ExpandDims_559:0' shape=(None, 1) dtype=int64>, 'sea_cucumber': <tf.Tensor 'ExpandDims_560:0' shape=(None, 1) dtype=int64>, 'seafood': <tf.Tensor 'ExpandDims_561:0' shape=(None, 1) dtype=int64>, 'seitan': <tf.Tensor 'ExpandDims_562:0' shape=(None, 1) dtype=int64>, 'semolina': <tf.Tensor 'ExpandDims_563:0' shape=(None, 1) dtype=int64>, 'serrano_pepper': <tf.Tensor 'ExpandDims_564:0' shape=(None, 1) dtype=int64>, 'sesame_oil': <tf.Tensor 'ExpandDims_565:0' shape=(None, 1) dtype=int64>, 'sesame_seed': <tf.Tensor 'ExpandDims_566:0' shape=(None, 1) dtype=int64>, 'shallot': <tf.Tensor 'ExpandDims_567:0' shape=(None, 1) dtype=int64>, 'sherry': <tf.Tensor 'ExpandDims_568:0' shape=(None, 1) dtype=int64>, 'shimeji_mushroom': <tf.Tensor 'ExpandDims_569:0' shape=(None, 1) dtype=int64>, 'shirataki_noodles': <tf.Tensor 'ExpandDims_570:0' shape=(None, 1) dtype=int64>, 'shitake': <tf.Tensor 'ExpandDims_571:0' shape=(None, 1) dtype=int64>, 'shortcrust_pastry': <tf.Tensor 'ExpandDims_572:0' shape=(None, 1) dtype=int64>, 'shortening': <tf.Tensor 'ExpandDims_573:0' shape=(None, 1) dtype=int64>, 'shoyu': <tf.Tensor 'ExpandDims_574:0' shape=(None, 1) dtype=int64>, 'shrimp': <tf.Tensor 'ExpandDims_575:0' shape=(None, 1) dtype=int64>, 'shrimp_paste': <tf.Tensor 'ExpandDims_576:0' shape=(None, 1) dtype=int64>, 'sliced_pepperoni': <tf.Tensor 'ExpandDims_577:0' shape=(None, 1) dtype=int64>, 'smen': <tf.Tensor 'ExpandDims_578:0' shape=(None, 1) dtype=int64>, 'smoke_seasoning': <tf.Tensor 'ExpandDims_579:0' shape=(None, 1) dtype=int64>, 'smoked_salmon': <tf.Tensor 'ExpandDims_580:0' shape=(None, 1) dtype=int64>, 'snap_pea': <tf.Tensor 'ExpandDims_581:0' shape=(None, 1) dtype=int64>, 'snow_pea': <tf.Tensor 'ExpandDims_582:0' shape=(None, 1) dtype=int64>, 'soba_noodles': <tf.Tensor 'ExpandDims_583:0' shape=(None, 1) dtype=int64>, 'sofrito_sauce': <tf.Tensor 'ExpandDims_584:0' shape=(None, 1) dtype=int64>, 'sole': <tf.Tensor 'ExpandDims_585:0' shape=(None, 1) dtype=int64>, 'sorrel': <tf.Tensor 'ExpandDims_586:0' shape=(None, 1) dtype=int64>, 'sour_cream': <tf.Tensor 'ExpandDims_587:0' shape=(None, 1) dtype=int64>, 'sourdough_bread': <tf.Tensor 'ExpandDims_588:0' shape=(None, 1) dtype=int64>, 'soy_sauce': <tf.Tensor 'ExpandDims_589:0' shape=(None, 1) dtype=int64>, 'soybean': <tf.Tensor 'ExpandDims_590:0' shape=(None, 1) dtype=int64>, 'soymilk': <tf.Tensor 'ExpandDims_591:0' shape=(None, 1) dtype=int64>, 'spaetzle': <tf.Tensor 'ExpandDims_592:0' shape=(None, 1) dtype=int64>, 'spaghetti_squash': <tf.Tensor 'ExpandDims_593:0' shape=(None, 1) dtype=int64>, 'spanish_cheese': <tf.Tensor 'ExpandDims_594:0' shape=(None, 1) dtype=int64>, 'spanish_chorizo': <tf.Tensor 'ExpandDims_595:0' shape=(None, 1) dtype=int64>, 'spareribs': <tf.Tensor 'ExpandDims_596:0' shape=(None, 1) dtype=int64>, 'spearmint': <tf.Tensor 'ExpandDims_597:0' shape=(None, 1) dtype=int64>, 'specialty_cheese': <tf.Tensor 'ExpandDims_598:0' shape=(None, 1) dtype=int64>, 'spinach': <tf.Tensor 'ExpandDims_599:0' shape=(None, 1) dtype=int64>, 'squash': <tf.Tensor 'ExpandDims_600:0' shape=(None, 1) dtype=int64>, 'squid': <tf.Tensor 'ExpandDims_601:0' shape=(None, 1) dtype=int64>, 'sriracha_hot_sauce': <tf.Tensor 'ExpandDims_602:0' shape=(None, 1) dtype=int64>, 'star_anise': <tf.Tensor 'ExpandDims_603:0' shape=(None, 1) dtype=int64>, 'steaks': <tf.Tensor 'ExpandDims_604:0' shape=(None, 1) dtype=int64>, 'stilton': <tf.Tensor 'ExpandDims_605:0' shape=(None, 1) dtype=int64>, 'stir_fry_vegetables': <tf.Tensor 'ExpandDims_606:0' shape=(None, 1) dtype=int64>, 'stock': <tf.Tensor 'ExpandDims_607:0' shape=(None, 1) dtype=int64>, 'straw_mushroom': <tf.Tensor 'ExpandDims_608:0' shape=(None, 1) dtype=int64>, 'strawberry': <tf.Tensor 'ExpandDims_609:0' shape=(None, 1) dtype=int64>, 'stuffing': <tf.Tensor 'ExpandDims_610:0' shape=(None, 1) dtype=int64>, 'suet': <tf.Tensor 'ExpandDims_611:0' shape=(None, 1) dtype=int64>, 'sugar': <tf.Tensor 'ExpandDims_612:0' shape=(None, 1) dtype=int64>, 'sultana': <tf.Tensor 'ExpandDims_613:0' shape=(None, 1) dtype=int64>, 'sumac': <tf.Tensor 'ExpandDims_614:0' shape=(None, 1) dtype=int64>, 'sunflower_oil': <tf.Tensor 'ExpandDims_615:0' shape=(None, 1) dtype=int64>, 'sunflower_seed': <tf.Tensor 'ExpandDims_616:0' shape=(None, 1) dtype=int64>, 'sushi_rice': <tf.Tensor 'ExpandDims_617:0' shape=(None, 1) dtype=int64>, 'sweet_pepper': <tf.Tensor 'ExpandDims_618:0' shape=(None, 1) dtype=int64>, 'sweet_potato': <tf.Tensor 'ExpandDims_619:0' shape=(None, 1) dtype=int64>, 'swiss_cheese': <tf.Tensor 'ExpandDims_620:0' shape=(None, 1) dtype=int64>, 'swordfish': <tf.Tensor 'ExpandDims_621:0' shape=(None, 1) dtype=int64>, 'szechuan_peppercorn': <tf.Tensor 'ExpandDims_622:0' shape=(None, 1) dtype=int64>, 'tabasco_sauce': <tf.Tensor 'ExpandDims_623:0' shape=(None, 1) dtype=int64>, 'taco_seasoning': <tf.Tensor 'ExpandDims_624:0' shape=(None, 1) dtype=int64>, 'tahini': <tf.Tensor 'ExpandDims_625:0' shape=(None, 1) dtype=int64>, 'tamarind': <tf.Tensor 'ExpandDims_626:0' shape=(None, 1) dtype=int64>, 'tapioca': <tf.Tensor 'ExpandDims_627:0' shape=(None, 1) dtype=int64>, 'tarragon': <tf.Tensor 'ExpandDims_628:0' shape=(None, 1) dtype=int64>, 'tatsoi': <tf.Tensor 'ExpandDims_629:0' shape=(None, 1) dtype=int64>, 'tea': <tf.Tensor 'ExpandDims_630:0' shape=(None, 1) dtype=int64>, 'tempeh': <tf.Tensor 'ExpandDims_631:0' shape=(None, 1) dtype=int64>, 'tequila': <tf.Tensor 'ExpandDims_632:0' shape=(None, 1) dtype=int64>, 'teriyaki_marinade': <tf.Tensor 'ExpandDims_633:0' shape=(None, 1) dtype=int64>, 'teriyaki_sauce': <tf.Tensor 'ExpandDims_634:0' shape=(None, 1) dtype=int64>, 'Thai_chile_pepper': <tf.Tensor 'ExpandDims_17:0' shape=(None, 1) dtype=int64>, 'Thai_curry_paste': <tf.Tensor 'ExpandDims_18:0' shape=(None, 1) dtype=int64>, 'thousand_island_dressing': <tf.Tensor 'ExpandDims_635:0' shape=(None, 1) dtype=int64>, 'thyme': <tf.Tensor 'ExpandDims_636:0' shape=(None, 1) dtype=int64>, 'tilapia_fillets': <tf.Tensor 'ExpandDims_637:0' shape=(None, 1) dtype=int64>, 'tofu': <tf.Tensor 'ExpandDims_638:0' shape=(None, 1) dtype=int64>, 'togarashi': <tf.Tensor 'ExpandDims_639:0' shape=(None, 1) dtype=int64>, 'tomatillos': <tf.Tensor 'ExpandDims_640:0' shape=(None, 1) dtype=int64>, 'tomato': <tf.Tensor 'ExpandDims_641:0' shape=(None, 1) dtype=int64>, 'tomato_juice': <tf.Tensor 'ExpandDims_642:0' shape=(None, 1) dtype=int64>, 'tomato_paste': <tf.Tensor 'ExpandDims_643:0' shape=(None, 1) dtype=int64>, 'tomato_puree': <tf.Tensor 'ExpandDims_644:0' shape=(None, 1) dtype=int64>, 'tomato_sauce': <tf.Tensor 'ExpandDims_645:0' shape=(None, 1) dtype=int64>, 'tomato_soup': <tf.Tensor 'ExpandDims_646:0' shape=(None, 1) dtype=int64>, 'toor_dal': <tf.Tensor 'ExpandDims_647:0' shape=(None, 1) dtype=int64>, 'tortilla': <tf.Tensor 'ExpandDims_648:0' shape=(None, 1) dtype=int64>, 'trout': <tf.Tensor 'ExpandDims_649:0' shape=(None, 1) dtype=int64>, 'truffle': <tf.Tensor 'ExpandDims_650:0' shape=(None, 1) dtype=int64>, 'truffle_oil': <tf.Tensor 'ExpandDims_651:0' shape=(None, 1) dtype=int64>, 'tuna': <tf.Tensor 'ExpandDims_652:0' shape=(None, 1) dtype=int64>, 'turbinado_sugar': <tf.Tensor 'ExpandDims_653:0' shape=(None, 1) dtype=int64>, 'turkey': <tf.Tensor 'ExpandDims_654:0' shape=(None, 1) dtype=int64>, 'turmeric': <tf.Tensor 'ExpandDims_655:0' shape=(None, 1) dtype=int64>, 'turnip': <tf.Tensor 'ExpandDims_656:0' shape=(None, 1) dtype=int64>, 'udon_noodles': <tf.Tensor 'ExpandDims_657:0' shape=(None, 1) dtype=int64>, 'umeboshi': <tf.Tensor 'ExpandDims_658:0' shape=(None, 1) dtype=int64>, 'unsweetened_chocolate': <tf.Tensor 'ExpandDims_659:0' shape=(None, 1) dtype=int64>, 'urad_dal': <tf.Tensor 'ExpandDims_660:0' shape=(None, 1) dtype=int64>, 'vanilla': <tf.Tensor 'ExpandDims_661:0' shape=(None, 1) dtype=int64>, 'veal': <tf.Tensor 'ExpandDims_662:0' shape=(None, 1) dtype=int64>, 'vegan_brand_names': <tf.Tensor 'ExpandDims_663:0' shape=(None, 1) dtype=int64>, 'vegetable_juice': <tf.Tensor 'ExpandDims_664:0' shape=(None, 1) dtype=int64>, 'vegetable_oil': <tf.Tensor 'ExpandDims_665:0' shape=(None, 1) dtype=int64>, 'vegetable_stock': <tf.Tensor 'ExpandDims_666:0' shape=(None, 1) dtype=int64>, 'vegetarian_brand_names': <tf.Tensor 'ExpandDims_667:0' shape=(None, 1) dtype=int64>, 'velveeta': <tf.Tensor 'ExpandDims_668:0' shape=(None, 1) dtype=int64>, 'venison': <tf.Tensor 'ExpandDims_669:0' shape=(None, 1) dtype=int64>, 'vermicelli': <tf.Tensor 'ExpandDims_670:0' shape=(None, 1) dtype=int64>, 'vermouth': <tf.Tensor 'ExpandDims_671:0' shape=(None, 1) dtype=int64>, 'Vidalia_onion': <tf.Tensor 'ExpandDims_19:0' shape=(None, 1) dtype=int64>, 'vinegar': <tf.Tensor 'ExpandDims_672:0' shape=(None, 1) dtype=int64>, 'vital_wheat_gluten': <tf.Tensor 'ExpandDims_673:0' shape=(None, 1) dtype=int64>, 'vodka': <tf.Tensor 'ExpandDims_674:0' shape=(None, 1) dtype=int64>, 'walnut': <tf.Tensor 'ExpandDims_675:0' shape=(None, 1) dtype=int64>, 'wasabi': <tf.Tensor 'ExpandDims_676:0' shape=(None, 1) dtype=int64>, 'washed_rind_cheese': <tf.Tensor 'ExpandDims_677:0' shape=(None, 1) dtype=int64>, 'water': <tf.Tensor 'ExpandDims_678:0' shape=(None, 1) dtype=int64>, 'water_chestnut': <tf.Tensor 'ExpandDims_679:0' shape=(None, 1) dtype=int64>, 'watercress': <tf.Tensor 'ExpandDims_680:0' shape=(None, 1) dtype=int64>, 'watermelon': <tf.Tensor 'ExpandDims_681:0' shape=(None, 1) dtype=int64>, 'wheat_bread': <tf.Tensor 'ExpandDims_682:0' shape=(None, 1) dtype=int64>, 'whipping_cream': <tf.Tensor 'ExpandDims_683:0' shape=(None, 1) dtype=int64>, 'white_bean': <tf.Tensor 'ExpandDims_684:0' shape=(None, 1) dtype=int64>, 'white_bread': <tf.Tensor 'ExpandDims_685:0' shape=(None, 1) dtype=int64>, 'white_cheese': <tf.Tensor 'ExpandDims_686:0' shape=(None, 1) dtype=int64>, 'white_fish': <tf.Tensor 'ExpandDims_687:0' shape=(None, 1) dtype=int64>, 'white_onion': <tf.Tensor 'ExpandDims_688:0' shape=(None, 1) dtype=int64>, 'white_peppercorns': <tf.Tensor 'ExpandDims_689:0' shape=(None, 1) dtype=int64>, 'white_sesame_seeds': <tf.Tensor 'ExpandDims_690:0' shape=(None, 1) dtype=int64>, 'whole_grain_mustard': <tf.Tensor 'ExpandDims_691:0' shape=(None, 1) dtype=int64>, 'whole_milk': <tf.Tensor 'ExpandDims_692:0' shape=(None, 1) dtype=int64>, 'wild_rice': <tf.Tensor 'ExpandDims_693:0' shape=(None, 1) dtype=int64>, 'wine': <tf.Tensor 'ExpandDims_694:0' shape=(None, 1) dtype=int64>, 'wine_vinegar': <tf.Tensor 'ExpandDims_695:0' shape=(None, 1) dtype=int64>, 'winter_squash': <tf.Tensor 'ExpandDims_696:0' shape=(None, 1) dtype=int64>, 'worcestershire_sauce': <tf.Tensor 'ExpandDims_697:0' shape=(None, 1) dtype=int64>, 'xanthan_gum': <tf.Tensor 'ExpandDims_698:0' shape=(None, 1) dtype=int64>, 'yams': <tf.Tensor 'ExpandDims_699:0' shape=(None, 1) dtype=int64>, 'yeast': <tf.Tensor 'ExpandDims_700:0' shape=(None, 1) dtype=int64>, 'yellow_curry_paste': <tf.Tensor 'ExpandDims_701:0' shape=(None, 1) dtype=int64>, 'yellow_food_coloring': <tf.Tensor 'ExpandDims_702:0' shape=(None, 1) dtype=int64>, 'yellow_split_pea': <tf.Tensor 'ExpandDims_703:0' shape=(None, 1) dtype=int64>, 'yellow_squash': <tf.Tensor 'ExpandDims_704:0' shape=(None, 1) dtype=int64>, 'yogurt': <tf.Tensor 'ExpandDims_705:0' shape=(None, 1) dtype=int64>, 'zaatar': <tf.Tensor 'ExpandDims_706:0' shape=(None, 1) dtype=int64>, 'zest': <tf.Tensor 'ExpandDims_707:0' shape=(None, 1) dtype=int64>, 'zucchini': <tf.Tensor 'ExpandDims_708:0' shape=(None, 1) dtype=int64>}\n",
            "Consider rewriting this model with the Functional API.\n",
            "WARNING:tensorflow:Layers in a Sequential model should only have a single input tensor, but we receive a <class 'dict'> input: {'acorn_squash': <tf.Tensor 'ExpandDims_20:0' shape=(None, 1) dtype=int64>, 'adobo': <tf.Tensor 'ExpandDims_21:0' shape=(None, 1) dtype=int64>, 'african_birdseye_chile_pepper': <tf.Tensor 'ExpandDims_22:0' shape=(None, 1) dtype=int64>, 'ale': <tf.Tensor 'ExpandDims_23:0' shape=(None, 1) dtype=int64>, 'aleppo_pepper': <tf.Tensor 'ExpandDims_24:0' shape=(None, 1) dtype=int64>, 'alfalfa_sprouts': <tf.Tensor 'ExpandDims_25:0' shape=(None, 1) dtype=int64>, 'alfredo_sauce': <tf.Tensor 'ExpandDims_26:0' shape=(None, 1) dtype=int64>, 'allspice': <tf.Tensor 'ExpandDims_27:0' shape=(None, 1) dtype=int64>, 'almond': <tf.Tensor 'ExpandDims_28:0' shape=(None, 1) dtype=int64>, 'almond_butter': <tf.Tensor 'ExpandDims_29:0' shape=(None, 1) dtype=int64>, 'amaretti': <tf.Tensor 'ExpandDims_30:0' shape=(None, 1) dtype=int64>, 'amchoor_powder': <tf.Tensor 'ExpandDims_31:0' shape=(None, 1) dtype=int64>, 'ancho_chile_pepper': <tf.Tensor 'ExpandDims_32:0' shape=(None, 1) dtype=int64>, 'anchovy': <tf.Tensor 'ExpandDims_33:0' shape=(None, 1) dtype=int64>, 'anchovy_paste': <tf.Tensor 'ExpandDims_34:0' shape=(None, 1) dtype=int64>, 'andouille_sausage': <tf.Tensor 'ExpandDims_35:0' shape=(None, 1) dtype=int64>, 'anise': <tf.Tensor 'ExpandDims_36:0' shape=(None, 1) dtype=int64>, 'apple': <tf.Tensor 'ExpandDims_37:0' shape=(None, 1) dtype=int64>, 'apple_butter': <tf.Tensor 'ExpandDims_38:0' shape=(None, 1) dtype=int64>, 'apple_juice': <tf.Tensor 'ExpandDims_39:0' shape=(None, 1) dtype=int64>, 'applesauce': <tf.Tensor 'ExpandDims_40:0' shape=(None, 1) dtype=int64>, 'apricot': <tf.Tensor 'ExpandDims_41:0' shape=(None, 1) dtype=int64>, 'arborio_rice': <tf.Tensor 'ExpandDims_42:0' shape=(None, 1) dtype=int64>, 'argan_oil': <tf.Tensor 'ExpandDims_43:0' shape=(None, 1) dtype=int64>, 'arrowroot': <tf.Tensor 'ExpandDims_44:0' shape=(None, 1) dtype=int64>, 'artichoke': <tf.Tensor 'ExpandDims_45:0' shape=(None, 1) dtype=int64>, 'artificial_sweetener': <tf.Tensor 'ExpandDims_46:0' shape=(None, 1) dtype=int64>, 'arugula': <tf.Tensor 'ExpandDims_47:0' shape=(None, 1) dtype=int64>, 'asadero': <tf.Tensor 'ExpandDims_48:0' shape=(None, 1) dtype=int64>, 'asafetida': <tf.Tensor 'ExpandDims_49:0' shape=(None, 1) dtype=int64>, 'asiago_cheese': <tf.Tensor 'ExpandDims_50:0' shape=(None, 1) dtype=int64>, 'asparagus': <tf.Tensor 'ExpandDims_51:0' shape=(None, 1) dtype=int64>, 'assorted_vegetables': <tf.Tensor 'ExpandDims_52:0' shape=(None, 1) dtype=int64>, 'avocado': <tf.Tensor 'ExpandDims_53:0' shape=(None, 1) dtype=int64>, 'azuki_bean': <tf.Tensor 'ExpandDims_54:0' shape=(None, 1) dtype=int64>, 'baby_carrot': <tf.Tensor 'ExpandDims_55:0' shape=(None, 1) dtype=int64>, 'baby_corn': <tf.Tensor 'ExpandDims_56:0' shape=(None, 1) dtype=int64>, 'baby_onions': <tf.Tensor 'ExpandDims_57:0' shape=(None, 1) dtype=int64>, 'baby_spinach': <tf.Tensor 'ExpandDims_58:0' shape=(None, 1) dtype=int64>, 'bacon': <tf.Tensor 'ExpandDims_59:0' shape=(None, 1) dtype=int64>, 'bacon_grease': <tf.Tensor 'ExpandDims_60:0' shape=(None, 1) dtype=int64>, 'bagel': <tf.Tensor 'ExpandDims_61:0' shape=(None, 1) dtype=int64>, 'baguette': <tf.Tensor 'ExpandDims_62:0' shape=(None, 1) dtype=int64>, 'baked_beans': <tf.Tensor 'ExpandDims_63:0' shape=(None, 1) dtype=int64>, 'baking_powder': <tf.Tensor 'ExpandDims_64:0' shape=(None, 1) dtype=int64>, 'baking_soda': <tf.Tensor 'ExpandDims_65:0' shape=(None, 1) dtype=int64>, 'balsamic_vinegar': <tf.Tensor 'ExpandDims_66:0' shape=(None, 1) dtype=int64>, 'bamboo_shoot': <tf.Tensor 'ExpandDims_67:0' shape=(None, 1) dtype=int64>, 'bamboo_skewers': <tf.Tensor 'ExpandDims_68:0' shape=(None, 1) dtype=int64>, 'banana': <tf.Tensor 'ExpandDims_69:0' shape=(None, 1) dtype=int64>, 'barbecue_sauce': <tf.Tensor 'ExpandDims_70:0' shape=(None, 1) dtype=int64>, 'barley': <tf.Tensor 'ExpandDims_71:0' shape=(None, 1) dtype=int64>, 'basil': <tf.Tensor 'ExpandDims_72:0' shape=(None, 1) dtype=int64>, 'basmati_rice': <tf.Tensor 'ExpandDims_73:0' shape=(None, 1) dtype=int64>, 'bass': <tf.Tensor 'ExpandDims_74:0' shape=(None, 1) dtype=int64>, 'bay_leaf': <tf.Tensor 'ExpandDims_75:0' shape=(None, 1) dtype=int64>, 'bean_sprouts': <tf.Tensor 'ExpandDims_76:0' shape=(None, 1) dtype=int64>, 'bean_thread': <tf.Tensor 'ExpandDims_77:0' shape=(None, 1) dtype=int64>, 'beans': <tf.Tensor 'ExpandDims_78:0' shape=(None, 1) dtype=int64>, 'bechamel': <tf.Tensor 'ExpandDims_79:0' shape=(None, 1) dtype=int64>, 'beef': <tf.Tensor 'ExpandDims_80:0' shape=(None, 1) dtype=int64>, 'beef_consomme': <tf.Tensor 'ExpandDims_81:0' shape=(None, 1) dtype=int64>, 'beef_gravy': <tf.Tensor 'ExpandDims_82:0' shape=(None, 1) dtype=int64>, 'beef_round_cuts': <tf.Tensor 'ExpandDims_83:0' shape=(None, 1) dtype=int64>, 'beef_stock': <tf.Tensor 'ExpandDims_84:0' shape=(None, 1) dtype=int64>, 'beer': <tf.Tensor 'ExpandDims_85:0' shape=(None, 1) dtype=int64>, 'beet': <tf.Tensor 'ExpandDims_86:0' shape=(None, 1) dtype=int64>, 'biscuit_mix': <tf.Tensor 'ExpandDims_87:0' shape=(None, 1) dtype=int64>, 'bitter_melon': <tf.Tensor 'ExpandDims_88:0' shape=(None, 1) dtype=int64>, 'black_bean': <tf.Tensor 'ExpandDims_89:0' shape=(None, 1) dtype=int64>, 'black_eyed_pea': <tf.Tensor 'ExpandDims_90:0' shape=(None, 1) dtype=int64>, 'black_forest_ham': <tf.Tensor 'ExpandDims_91:0' shape=(None, 1) dtype=int64>, 'black_mushroom': <tf.Tensor 'ExpandDims_92:0' shape=(None, 1) dtype=int64>, 'black_olive': <tf.Tensor 'ExpandDims_93:0' shape=(None, 1) dtype=int64>, 'black_truffle': <tf.Tensor 'ExpandDims_94:0' shape=(None, 1) dtype=int64>, 'blackberry': <tf.Tensor 'ExpandDims_95:0' shape=(None, 1) dtype=int64>, 'blue_cheese': <tf.Tensor 'ExpandDims_96:0' shape=(None, 1) dtype=int64>, 'bok_choy': <tf.Tensor 'ExpandDims_97:0' shape=(None, 1) dtype=int64>, 'bouillon': <tf.Tensor 'ExpandDims_98:0' shape=(None, 1) dtype=int64>, 'bouquet_garni': <tf.Tensor 'ExpandDims_99:0' shape=(None, 1) dtype=int64>, 'bourbon': <tf.Tensor 'ExpandDims_100:0' shape=(None, 1) dtype=int64>, 'brandy': <tf.Tensor 'ExpandDims_101:0' shape=(None, 1) dtype=int64>, 'bratwursts': <tf.Tensor 'ExpandDims_102:0' shape=(None, 1) dtype=int64>, 'bread': <tf.Tensor 'ExpandDims_103:0' shape=(None, 1) dtype=int64>, 'bread_bun': <tf.Tensor 'ExpandDims_104:0' shape=(None, 1) dtype=int64>, 'breadcrumb': <tf.Tensor 'ExpandDims_105:0' shape=(None, 1) dtype=int64>, 'brick_cheese': <tf.Tensor 'ExpandDims_106:0' shape=(None, 1) dtype=int64>, 'brie_cheese': <tf.Tensor 'ExpandDims_107:0' shape=(None, 1) dtype=int64>, 'broccoli': <tf.Tensor 'ExpandDims_108:0' shape=(None, 1) dtype=int64>, 'broccoli_raab': <tf.Tensor 'ExpandDims_109:0' shape=(None, 1) dtype=int64>, 'broth': <tf.Tensor 'ExpandDims_110:0' shape=(None, 1) dtype=int64>, 'brown_gravy_mix': <tf.Tensor 'ExpandDims_111:0' shape=(None, 1) dtype=int64>, 'brown_onion': <tf.Tensor 'ExpandDims_112:0' shape=(None, 1) dtype=int64>, 'brown_rice': <tf.Tensor 'ExpandDims_113:0' shape=(None, 1) dtype=int64>, 'brown_sugar': <tf.Tensor 'ExpandDims_114:0' shape=(None, 1) dtype=int64>, 'brussels_sprout': <tf.Tensor 'ExpandDims_115:0' shape=(None, 1) dtype=int64>, 'buckwheat': <tf.Tensor 'ExpandDims_116:0' shape=(None, 1) dtype=int64>, 'bulgur_wheat': <tf.Tensor 'ExpandDims_117:0' shape=(None, 1) dtype=int64>, 'burdock_root': <tf.Tensor 'ExpandDims_118:0' shape=(None, 1) dtype=int64>, 'butter': <tf.Tensor 'ExpandDims_119:0' shape=(None, 1) dtype=int64>, 'buttermilk': <tf.Tensor 'ExpandDims_120:0' shape=(None, 1) dtype=int64>, 'butternut_squash': <tf.Tensor 'ExpandDims_121:0' shape=(None, 1) dtype=int64>, 'cabbage': <tf.Tensor 'ExpandDims_122:0' shape=(None, 1) dtype=int64>, 'cajun_seasoning': <tf.Tensor 'ExpandDims_123:0' shape=(None, 1) dtype=int64>, 'calvados': <tf.Tensor 'ExpandDims_124:0' shape=(None, 1) dtype=int64>, 'campbell': <tf.Tensor 'ExpandDims_125:0' shape=(None, 1) dtype=int64>, 'canadian_bacon': <tf.Tensor 'ExpandDims_126:0' shape=(None, 1) dtype=int64>, 'cannellini_bean': <tf.Tensor 'ExpandDims_127:0' shape=(None, 1) dtype=int64>, 'canola_oil': <tf.Tensor 'ExpandDims_128:0' shape=(None, 1) dtype=int64>, 'cantaloupe': <tf.Tensor 'ExpandDims_129:0' shape=(None, 1) dtype=int64>, 'caper': <tf.Tensor 'ExpandDims_130:0' shape=(None, 1) dtype=int64>, 'capsicum': <tf.Tensor 'ExpandDims_131:0' shape=(None, 1) dtype=int64>, 'caraway_seed': <tf.Tensor 'ExpandDims_132:0' shape=(None, 1) dtype=int64>, 'cardamom': <tf.Tensor 'ExpandDims_133:0' shape=(None, 1) dtype=int64>, 'carrot': <tf.Tensor 'ExpandDims_134:0' shape=(None, 1) dtype=int64>, 'cashew_nut': <tf.Tensor 'ExpandDims_135:0' shape=(None, 1) dtype=int64>, 'catfish': <tf.Tensor 'ExpandDims_136:0' shape=(None, 1) dtype=int64>, 'caul': <tf.Tensor 'ExpandDims_137:0' shape=(None, 1) dtype=int64>, 'cauliflower': <tf.Tensor 'ExpandDims_138:0' shape=(None, 1) dtype=int64>, 'cayenne_pepper': <tf.Tensor 'ExpandDims_139:0' shape=(None, 1) dtype=int64>, 'celeriac': <tf.Tensor 'ExpandDims_140:0' shape=(None, 1) dtype=int64>, 'celery': <tf.Tensor 'ExpandDims_141:0' shape=(None, 1) dtype=int64>, 'celery_salt': <tf.Tensor 'ExpandDims_142:0' shape=(None, 1) dtype=int64>, 'celery_seed': <tf.Tensor 'ExpandDims_143:0' shape=(None, 1) dtype=int64>, 'celery_soup': <tf.Tensor 'ExpandDims_144:0' shape=(None, 1) dtype=int64>, 'chanterelle_mushroom': <tf.Tensor 'ExpandDims_145:0' shape=(None, 1) dtype=int64>, 'chard': <tf.Tensor 'ExpandDims_146:0' shape=(None, 1) dtype=int64>, 'chayote': <tf.Tensor 'ExpandDims_147:0' shape=(None, 1) dtype=int64>, 'cheddar_cheese': <tf.Tensor 'ExpandDims_148:0' shape=(None, 1) dtype=int64>, 'cheddar_cheese_soup': <tf.Tensor 'ExpandDims_149:0' shape=(None, 1) dtype=int64>, 'cheese': <tf.Tensor 'ExpandDims_150:0' shape=(None, 1) dtype=int64>, 'cherry': <tf.Tensor 'ExpandDims_151:0' shape=(None, 1) dtype=int64>, 'chervil': <tf.Tensor 'ExpandDims_152:0' shape=(None, 1) dtype=int64>, 'cheshire_cheese': <tf.Tensor 'ExpandDims_153:0' shape=(None, 1) dtype=int64>, 'chestnut': <tf.Tensor 'ExpandDims_154:0' shape=(None, 1) dtype=int64>, 'chestnut_mushroom': <tf.Tensor 'ExpandDims_155:0' shape=(None, 1) dtype=int64>, 'chicken': <tf.Tensor 'ExpandDims_156:0' shape=(None, 1) dtype=int64>, 'chicken_base': <tf.Tensor 'ExpandDims_157:0' shape=(None, 1) dtype=int64>, 'chicken_liver': <tf.Tensor 'ExpandDims_158:0' shape=(None, 1) dtype=int64>, 'chicken_sausage': <tf.Tensor 'ExpandDims_159:0' shape=(None, 1) dtype=int64>, 'chicken_soup': <tf.Tensor 'ExpandDims_160:0' shape=(None, 1) dtype=int64>, 'chicken_stock': <tf.Tensor 'ExpandDims_161:0' shape=(None, 1) dtype=int64>, 'chickpea': <tf.Tensor 'ExpandDims_162:0' shape=(None, 1) dtype=int64>, 'chile_pepper': <tf.Tensor 'ExpandDims_163:0' shape=(None, 1) dtype=int64>, 'chili_oil': <tf.Tensor 'ExpandDims_164:0' shape=(None, 1) dtype=int64>, 'chili_paste': <tf.Tensor 'ExpandDims_165:0' shape=(None, 1) dtype=int64>, 'chili_powder': <tf.Tensor 'ExpandDims_166:0' shape=(None, 1) dtype=int64>, 'chili_sauce': <tf.Tensor 'ExpandDims_167:0' shape=(None, 1) dtype=int64>, 'chinese_cabbage': <tf.Tensor 'ExpandDims_168:0' shape=(None, 1) dtype=int64>, 'chinese_chives': <tf.Tensor 'ExpandDims_169:0' shape=(None, 1) dtype=int64>, 'Chinese_mushroom': <tf.Tensor 'ExpandDims:0' shape=(None, 1) dtype=int64>, 'Chinese_noodles': <tf.Tensor 'ExpandDims_1:0' shape=(None, 1) dtype=int64>, 'chipotle_pepper': <tf.Tensor 'ExpandDims_170:0' shape=(None, 1) dtype=int64>, 'chives': <tf.Tensor 'ExpandDims_171:0' shape=(None, 1) dtype=int64>, 'chocolate': <tf.Tensor 'ExpandDims_172:0' shape=(None, 1) dtype=int64>, 'chutney': <tf.Tensor 'ExpandDims_173:0' shape=(None, 1) dtype=int64>, 'cider': <tf.Tensor 'ExpandDims_174:0' shape=(None, 1) dtype=int64>, 'cider_vinegar': <tf.Tensor 'ExpandDims_175:0' shape=(None, 1) dtype=int64>, 'cilantro': <tf.Tensor 'ExpandDims_176:0' shape=(None, 1) dtype=int64>, 'cinnamon': <tf.Tensor 'ExpandDims_177:0' shape=(None, 1) dtype=int64>, 'clam': <tf.Tensor 'ExpandDims_178:0' shape=(None, 1) dtype=int64>, 'clam_juice': <tf.Tensor 'ExpandDims_179:0' shape=(None, 1) dtype=int64>, 'clarified_butter': <tf.Tensor 'ExpandDims_180:0' shape=(None, 1) dtype=int64>, 'clove': <tf.Tensor 'ExpandDims_181:0' shape=(None, 1) dtype=int64>, 'cocoa_powder': <tf.Tensor 'ExpandDims_182:0' shape=(None, 1) dtype=int64>, 'coconut': <tf.Tensor 'ExpandDims_183:0' shape=(None, 1) dtype=int64>, 'coconut_milk_or_cream': <tf.Tensor 'ExpandDims_184:0' shape=(None, 1) dtype=int64>, 'coconut_oil': <tf.Tensor 'ExpandDims_185:0' shape=(None, 1) dtype=int64>, 'cod': <tf.Tensor 'ExpandDims_186:0' shape=(None, 1) dtype=int64>, 'colby': <tf.Tensor 'ExpandDims_187:0' shape=(None, 1) dtype=int64>, 'coleslaw_mix': <tf.Tensor 'ExpandDims_188:0' shape=(None, 1) dtype=int64>, 'confit': <tf.Tensor 'ExpandDims_189:0' shape=(None, 1) dtype=int64>, 'coriander': <tf.Tensor 'ExpandDims_190:0' shape=(None, 1) dtype=int64>, 'coriander_root': <tf.Tensor 'ExpandDims_191:0' shape=(None, 1) dtype=int64>, 'corn': <tf.Tensor 'ExpandDims_192:0' shape=(None, 1) dtype=int64>, 'corn_chips': <tf.Tensor 'ExpandDims_193:0' shape=(None, 1) dtype=int64>, 'corn_flour': <tf.Tensor 'ExpandDims_194:0' shape=(None, 1) dtype=int64>, 'corn_oil': <tf.Tensor 'ExpandDims_195:0' shape=(None, 1) dtype=int64>, 'cornbread': <tf.Tensor 'ExpandDims_196:0' shape=(None, 1) dtype=int64>, 'corned_beef': <tf.Tensor 'ExpandDims_197:0' shape=(None, 1) dtype=int64>, 'cornish_hen': <tf.Tensor 'ExpandDims_198:0' shape=(None, 1) dtype=int64>, 'cornmeal': <tf.Tensor 'ExpandDims_199:0' shape=(None, 1) dtype=int64>, 'cornstarch': <tf.Tensor 'ExpandDims_200:0' shape=(None, 1) dtype=int64>, 'cottage_cheese': <tf.Tensor 'ExpandDims_201:0' shape=(None, 1) dtype=int64>, 'couscous': <tf.Tensor 'ExpandDims_202:0' shape=(None, 1) dtype=int64>, 'crab': <tf.Tensor 'ExpandDims_203:0' shape=(None, 1) dtype=int64>, 'crab_claw': <tf.Tensor 'ExpandDims_204:0' shape=(None, 1) dtype=int64>, 'cracker': <tf.Tensor 'ExpandDims_205:0' shape=(None, 1) dtype=int64>, 'craisin': <tf.Tensor 'ExpandDims_206:0' shape=(None, 1) dtype=int64>, 'cranberry': <tf.Tensor 'ExpandDims_207:0' shape=(None, 1) dtype=int64>, 'cranberry_bean': <tf.Tensor 'ExpandDims_208:0' shape=(None, 1) dtype=int64>, 'crayfish': <tf.Tensor 'ExpandDims_209:0' shape=(None, 1) dtype=int64>, 'cream': <tf.Tensor 'ExpandDims_210:0' shape=(None, 1) dtype=int64>, 'cream_cheese': <tf.Tensor 'ExpandDims_211:0' shape=(None, 1) dtype=int64>, 'creamed_corn': <tf.Tensor 'ExpandDims_212:0' shape=(None, 1) dtype=int64>, 'creme_fraiche': <tf.Tensor 'ExpandDims_213:0' shape=(None, 1) dtype=int64>, 'cremini_mushroom': <tf.Tensor 'ExpandDims_214:0' shape=(None, 1) dtype=int64>, 'crouton': <tf.Tensor 'ExpandDims_215:0' shape=(None, 1) dtype=int64>, 'crusty_bread': <tf.Tensor 'ExpandDims_216:0' shape=(None, 1) dtype=int64>, 'crystallized_ginger': <tf.Tensor 'ExpandDims_217:0' shape=(None, 1) dtype=int64>, 'cucumber': <tf.Tensor 'ExpandDims_218:0' shape=(None, 1) dtype=int64>, 'cumin': <tf.Tensor 'ExpandDims_219:0' shape=(None, 1) dtype=int64>, 'currant': <tf.Tensor 'ExpandDims_220:0' shape=(None, 1) dtype=int64>, 'curry_leaf': <tf.Tensor 'ExpandDims_221:0' shape=(None, 1) dtype=int64>, 'curry_paste': <tf.Tensor 'ExpandDims_222:0' shape=(None, 1) dtype=int64>, 'curry_powder': <tf.Tensor 'ExpandDims_223:0' shape=(None, 1) dtype=int64>, 'curry_sauce': <tf.Tensor 'ExpandDims_224:0' shape=(None, 1) dtype=int64>, 'dashi': <tf.Tensor 'ExpandDims_225:0' shape=(None, 1) dtype=int64>, 'dashi_stock': <tf.Tensor 'ExpandDims_226:0' shape=(None, 1) dtype=int64>, 'date': <tf.Tensor 'ExpandDims_227:0' shape=(None, 1) dtype=int64>, 'dehydrated_onion': <tf.Tensor 'ExpandDims_228:0' shape=(None, 1) dtype=int64>, 'demi_glace': <tf.Tensor 'ExpandDims_229:0' shape=(None, 1) dtype=int64>, 'dill': <tf.Tensor 'ExpandDims_230:0' shape=(None, 1) dtype=int64>, 'dried_apricot': <tf.Tensor 'ExpandDims_231:0' shape=(None, 1) dtype=int64>, 'dried_chile_pepper': <tf.Tensor 'ExpandDims_232:0' shape=(None, 1) dtype=int64>, 'dripping': <tf.Tensor 'ExpandDims_233:0' shape=(None, 1) dtype=int64>, 'duck': <tf.Tensor 'ExpandDims_234:0' shape=(None, 1) dtype=int64>, 'edamame': <tf.Tensor 'ExpandDims_235:0' shape=(None, 1) dtype=int64>, 'eel': <tf.Tensor 'ExpandDims_236:0' shape=(None, 1) dtype=int64>, 'egg': <tf.Tensor 'ExpandDims_237:0' shape=(None, 1) dtype=int64>, 'egg_noodles': <tf.Tensor 'ExpandDims_238:0' shape=(None, 1) dtype=int64>, 'egg_roll_wraps': <tf.Tensor 'ExpandDims_239:0' shape=(None, 1) dtype=int64>, 'egg_substitute': <tf.Tensor 'ExpandDims_240:0' shape=(None, 1) dtype=int64>, 'eggplant': <tf.Tensor 'ExpandDims_241:0' shape=(None, 1) dtype=int64>, 'emeril': <tf.Tensor 'ExpandDims_242:0' shape=(None, 1) dtype=int64>, 'emmenthaler_cheese': <tf.Tensor 'ExpandDims_243:0' shape=(None, 1) dtype=int64>, 'enchilada_sauce': <tf.Tensor 'ExpandDims_244:0' shape=(None, 1) dtype=int64>, 'endive': <tf.Tensor 'ExpandDims_245:0' shape=(None, 1) dtype=int64>, 'english_muffin': <tf.Tensor 'ExpandDims_246:0' shape=(None, 1) dtype=int64>, 'english_mustard': <tf.Tensor 'ExpandDims_247:0' shape=(None, 1) dtype=int64>, 'enoki_mushroom': <tf.Tensor 'ExpandDims_248:0' shape=(None, 1) dtype=int64>, 'epazote': <tf.Tensor 'ExpandDims_249:0' shape=(None, 1) dtype=int64>, 'evaporated_milk': <tf.Tensor 'ExpandDims_250:0' shape=(None, 1) dtype=int64>, 'fajita_seasoning_mix': <tf.Tensor 'ExpandDims_251:0' shape=(None, 1) dtype=int64>, 'fat-free_refried_beans': <tf.Tensor 'ExpandDims_252:0' shape=(None, 1) dtype=int64>, 'fava_bean': <tf.Tensor 'ExpandDims_253:0' shape=(None, 1) dtype=int64>, 'fennel': <tf.Tensor 'ExpandDims_254:0' shape=(None, 1) dtype=int64>, 'fennel_seeds': <tf.Tensor 'ExpandDims_255:0' shape=(None, 1) dtype=int64>, 'fenugreek': <tf.Tensor 'ExpandDims_256:0' shape=(None, 1) dtype=int64>, 'fermented_black_bean': <tf.Tensor 'ExpandDims_257:0' shape=(None, 1) dtype=int64>, 'feta_cheese': <tf.Tensor 'ExpandDims_258:0' shape=(None, 1) dtype=int64>, 'fig': <tf.Tensor 'ExpandDims_259:0' shape=(None, 1) dtype=int64>, 'filet_mignon': <tf.Tensor 'ExpandDims_260:0' shape=(None, 1) dtype=int64>, 'fire_oil': <tf.Tensor 'ExpandDims_261:0' shape=(None, 1) dtype=int64>, 'fish': <tf.Tensor 'ExpandDims_262:0' shape=(None, 1) dtype=int64>, 'fish_sauce': <tf.Tensor 'ExpandDims_263:0' shape=(None, 1) dtype=int64>, 'fish_stock': <tf.Tensor 'ExpandDims_264:0' shape=(None, 1) dtype=int64>, 'five_spice_powder': <tf.Tensor 'ExpandDims_265:0' shape=(None, 1) dtype=int64>, 'flat_bread': <tf.Tensor 'ExpandDims_266:0' shape=(None, 1) dtype=int64>, 'flax_seed': <tf.Tensor 'ExpandDims_267:0' shape=(None, 1) dtype=int64>, 'flounder': <tf.Tensor 'ExpandDims_268:0' shape=(None, 1) dtype=int64>, 'flour': <tf.Tensor 'ExpandDims_269:0' shape=(None, 1) dtype=int64>, 'fontina_cheese': <tf.Tensor 'ExpandDims_270:0' shape=(None, 1) dtype=int64>, 'French_beans': <tf.Tensor 'ExpandDims_2:0' shape=(None, 1) dtype=int64>, 'French_bread': <tf.Tensor 'ExpandDims_3:0' shape=(None, 1) dtype=int64>, 'French_dressing': <tf.Tensor 'ExpandDims_4:0' shape=(None, 1) dtype=int64>, 'french_style_green_bean': <tf.Tensor 'ExpandDims_271:0' shape=(None, 1) dtype=int64>, 'fresh_button_mushroom': <tf.Tensor 'ExpandDims_272:0' shape=(None, 1) dtype=int64>, 'frozen_edamame': <tf.Tensor 'ExpandDims_273:0' shape=(None, 1) dtype=int64>, 'fusilli': <tf.Tensor 'ExpandDims_274:0' shape=(None, 1) dtype=int64>, 'galangal': <tf.Tensor 'ExpandDims_275:0' shape=(None, 1) dtype=int64>, 'garlic': <tf.Tensor 'ExpandDims_276:0' shape=(None, 1) dtype=int64>, 'garlic_butter': <tf.Tensor 'ExpandDims_277:0' shape=(None, 1) dtype=int64>, 'garlic_pepper_seasoning': <tf.Tensor 'ExpandDims_278:0' shape=(None, 1) dtype=int64>, 'garlic_powder': <tf.Tensor 'ExpandDims_279:0' shape=(None, 1) dtype=int64>, 'garlic_salt': <tf.Tensor 'ExpandDims_280:0' shape=(None, 1) dtype=int64>, 'gelatin': <tf.Tensor 'ExpandDims_281:0' shape=(None, 1) dtype=int64>, 'genoa_salami': <tf.Tensor 'ExpandDims_282:0' shape=(None, 1) dtype=int64>, 'ghee': <tf.Tensor 'ExpandDims_283:0' shape=(None, 1) dtype=int64>, 'ginger': <tf.Tensor 'ExpandDims_284:0' shape=(None, 1) dtype=int64>, 'ginger-garlic_paste': <tf.Tensor 'ExpandDims_285:0' shape=(None, 1) dtype=int64>, 'gingersnap_cookie': <tf.Tensor 'ExpandDims_286:0' shape=(None, 1) dtype=int64>, 'gingersnaps': <tf.Tensor 'ExpandDims_287:0' shape=(None, 1) dtype=int64>, 'gloucester': <tf.Tensor 'ExpandDims_288:0' shape=(None, 1) dtype=int64>, 'gluten': <tf.Tensor 'ExpandDims_289:0' shape=(None, 1) dtype=int64>, 'goat_cheese': <tf.Tensor 'ExpandDims_290:0' shape=(None, 1) dtype=int64>, 'golden_syrup': <tf.Tensor 'ExpandDims_291:0' shape=(None, 1) dtype=int64>, 'goose': <tf.Tensor 'ExpandDims_292:0' shape=(None, 1) dtype=int64>, 'gorgonzola': <tf.Tensor 'ExpandDims_293:0' shape=(None, 1) dtype=int64>, 'gouda': <tf.Tensor 'ExpandDims_294:0' shape=(None, 1) dtype=int64>, 'grand_marnier': <tf.Tensor 'ExpandDims_295:0' shape=(None, 1) dtype=int64>, 'granulated_garlic': <tf.Tensor 'ExpandDims_296:0' shape=(None, 1) dtype=int64>, 'grape': <tf.Tensor 'ExpandDims_297:0' shape=(None, 1) dtype=int64>, 'grapefruit': <tf.Tensor 'ExpandDims_298:0' shape=(None, 1) dtype=int64>, 'grapeseed_oil': <tf.Tensor 'ExpandDims_299:0' shape=(None, 1) dtype=int64>, 'grating_cheese': <tf.Tensor 'ExpandDims_300:0' shape=(None, 1) dtype=int64>, 'gravy': <tf.Tensor 'ExpandDims_301:0' shape=(None, 1) dtype=int64>, 'great_northern_bean': <tf.Tensor 'ExpandDims_302:0' shape=(None, 1) dtype=int64>, 'Greek_salad_dressing': <tf.Tensor 'ExpandDims_5:0' shape=(None, 1) dtype=int64>, 'green_bean': <tf.Tensor 'ExpandDims_303:0' shape=(None, 1) dtype=int64>, 'green_olive': <tf.Tensor 'ExpandDims_304:0' shape=(None, 1) dtype=int64>, 'green_onion': <tf.Tensor 'ExpandDims_305:0' shape=(None, 1) dtype=int64>, 'greens': <tf.Tensor 'ExpandDims_306:0' shape=(None, 1) dtype=int64>, 'ground_meat': <tf.Tensor 'ExpandDims_307:0' shape=(None, 1) dtype=int64>, 'ground_round': <tf.Tensor 'ExpandDims_308:0' shape=(None, 1) dtype=int64>, 'gruyere': <tf.Tensor 'ExpandDims_309:0' shape=(None, 1) dtype=int64>, 'guacamole': <tf.Tensor 'ExpandDims_310:0' shape=(None, 1) dtype=int64>, 'Guinness_stout': <tf.Tensor 'ExpandDims_6:0' shape=(None, 1) dtype=int64>, 'gumbo': <tf.Tensor 'ExpandDims_311:0' shape=(None, 1) dtype=int64>, 'habanero_chile': <tf.Tensor 'ExpandDims_312:0' shape=(None, 1) dtype=int64>, 'haddock': <tf.Tensor 'ExpandDims_313:0' shape=(None, 1) dtype=int64>, 'hake_fillets': <tf.Tensor 'ExpandDims_314:0' shape=(None, 1) dtype=int64>, 'half_and_half': <tf.Tensor 'ExpandDims_315:0' shape=(None, 1) dtype=int64>, 'halibut': <tf.Tensor 'ExpandDims_316:0' shape=(None, 1) dtype=int64>, 'ham': <tf.Tensor 'ExpandDims_317:0' shape=(None, 1) dtype=int64>, 'ham_hock': <tf.Tensor 'ExpandDims_318:0' shape=(None, 1) dtype=int64>, 'hamburger': <tf.Tensor 'ExpandDims_319:0' shape=(None, 1) dtype=int64>, 'harissa': <tf.Tensor 'ExpandDims_320:0' shape=(None, 1) dtype=int64>, 'hash_browns': <tf.Tensor 'ExpandDims_321:0' shape=(None, 1) dtype=int64>, 'havarti': <tf.Tensor 'ExpandDims_322:0' shape=(None, 1) dtype=int64>, 'hazelnut': <tf.Tensor 'ExpandDims_323:0' shape=(None, 1) dtype=int64>, 'heavy_cream': <tf.Tensor 'ExpandDims_324:0' shape=(None, 1) dtype=int64>, 'herb': <tf.Tensor 'ExpandDims_325:0' shape=(None, 1) dtype=int64>, 'herbes_de_provence': <tf.Tensor 'ExpandDims_326:0' shape=(None, 1) dtype=int64>, 'hoagie_rolls': <tf.Tensor 'ExpandDims_327:0' shape=(None, 1) dtype=int64>, 'hoisin_sauce': <tf.Tensor 'ExpandDims_328:0' shape=(None, 1) dtype=int64>, 'hokkien_noodles': <tf.Tensor 'ExpandDims_329:0' shape=(None, 1) dtype=int64>, 'hominy': <tf.Tensor 'ExpandDims_330:0' shape=(None, 1) dtype=int64>, 'honey': <tf.Tensor 'ExpandDims_331:0' shape=(None, 1) dtype=int64>, 'honey_mustard': <tf.Tensor 'ExpandDims_332:0' shape=(None, 1) dtype=int64>, 'horseradish': <tf.Tensor 'ExpandDims_333:0' shape=(None, 1) dtype=int64>, 'horseradish_sauce': <tf.Tensor 'ExpandDims_334:0' shape=(None, 1) dtype=int64>, 'hot_bean_paste': <tf.Tensor 'ExpandDims_335:0' shape=(None, 1) dtype=int64>, 'hot_pepper_sauce': <tf.Tensor 'ExpandDims_336:0' shape=(None, 1) dtype=int64>, 'hummus': <tf.Tensor 'ExpandDims_337:0' shape=(None, 1) dtype=int64>, 'ice_water': <tf.Tensor 'ExpandDims_338:0' shape=(None, 1) dtype=int64>, 'Italian_bread': <tf.Tensor 'ExpandDims_7:0' shape=(None, 1) dtype=int64>, 'Italian_breadcrumbs': <tf.Tensor 'ExpandDims_8:0' shape=(None, 1) dtype=int64>, 'Italian_rolls': <tf.Tensor 'ExpandDims_9:0' shape=(None, 1) dtype=int64>, 'Italian_salad_dressing': <tf.Tensor 'ExpandDims_10:0' shape=(None, 1) dtype=int64>, 'Italian_spices': <tf.Tensor 'ExpandDims_11:0' shape=(None, 1) dtype=int64>, 'jack_cheese': <tf.Tensor 'ExpandDims_339:0' shape=(None, 1) dtype=int64>, 'jaggery': <tf.Tensor 'ExpandDims_340:0' shape=(None, 1) dtype=int64>, 'jalapeno_pepper': <tf.Tensor 'ExpandDims_341:0' shape=(None, 1) dtype=int64>, 'Japanese_breadcrumbs': <tf.Tensor 'ExpandDims_12:0' shape=(None, 1) dtype=int64>, 'jasmine_rice': <tf.Tensor 'ExpandDims_342:0' shape=(None, 1) dtype=int64>, 'jicama': <tf.Tensor 'ExpandDims_343:0' shape=(None, 1) dtype=int64>, 'juniper_berries': <tf.Tensor 'ExpandDims_344:0' shape=(None, 1) dtype=int64>, 'kaffir_lime': <tf.Tensor 'ExpandDims_345:0' shape=(None, 1) dtype=int64>, 'kalamata_olive': <tf.Tensor 'ExpandDims_346:0' shape=(None, 1) dtype=int64>, 'kale': <tf.Tensor 'ExpandDims_347:0' shape=(None, 1) dtype=int64>, 'kamaboko': <tf.Tensor 'ExpandDims_348:0' shape=(None, 1) dtype=int64>, 'ketchup': <tf.Tensor 'ExpandDims_349:0' shape=(None, 1) dtype=int64>, 'ketjap_manis': <tf.Tensor 'ExpandDims_350:0' shape=(None, 1) dtype=int64>, 'kidney_bean': <tf.Tensor 'ExpandDims_351:0' shape=(None, 1) dtype=int64>, 'kielbasa': <tf.Tensor 'ExpandDims_352:0' shape=(None, 1) dtype=int64>, 'kohlrabi': <tf.Tensor 'ExpandDims_353:0' shape=(None, 1) dtype=int64>, 'kumquat': <tf.Tensor 'ExpandDims_354:0' shape=(None, 1) dtype=int64>, 'lamb': <tf.Tensor 'ExpandDims_355:0' shape=(None, 1) dtype=int64>, 'lambs_kidney': <tf.Tensor 'ExpandDims_356:0' shape=(None, 1) dtype=int64>, 'lancashire_cheese': <tf.Tensor 'ExpandDims_357:0' shape=(None, 1) dtype=int64>, 'lard': <tf.Tensor 'ExpandDims_358:0' shape=(None, 1) dtype=int64>, 'lardon': <tf.Tensor 'ExpandDims_359:0' shape=(None, 1) dtype=int64>, 'lasagna_noodles': <tf.Tensor 'ExpandDims_360:0' shape=(None, 1) dtype=int64>, 'leek': <tf.Tensor 'ExpandDims_361:0' shape=(None, 1) dtype=int64>, 'lemon': <tf.Tensor 'ExpandDims_362:0' shape=(None, 1) dtype=int64>, 'lemon_grass': <tf.Tensor 'ExpandDims_363:0' shape=(None, 1) dtype=int64>, 'lemon_juice': <tf.Tensor 'ExpandDims_364:0' shape=(None, 1) dtype=int64>, 'lentil': <tf.Tensor 'ExpandDims_365:0' shape=(None, 1) dtype=int64>, 'lettuce': <tf.Tensor 'ExpandDims_366:0' shape=(None, 1) dtype=int64>, 'lima_bean': <tf.Tensor 'ExpandDims_367:0' shape=(None, 1) dtype=int64>, 'lime': <tf.Tensor 'ExpandDims_368:0' shape=(None, 1) dtype=int64>, 'liver': <tf.Tensor 'ExpandDims_369:0' shape=(None, 1) dtype=int64>, 'lobster': <tf.Tensor 'ExpandDims_370:0' shape=(None, 1) dtype=int64>, 'long_grain_and_wild_rice_blend': <tf.Tensor 'ExpandDims_371:0' shape=(None, 1) dtype=int64>, 'lotus': <tf.Tensor 'ExpandDims_372:0' shape=(None, 1) dtype=int64>, 'macaroni': <tf.Tensor 'ExpandDims_373:0' shape=(None, 1) dtype=int64>, 'mace': <tf.Tensor 'ExpandDims_374:0' shape=(None, 1) dtype=int64>, 'mackerel': <tf.Tensor 'ExpandDims_375:0' shape=(None, 1) dtype=int64>, 'madeira': <tf.Tensor 'ExpandDims_376:0' shape=(None, 1) dtype=int64>, 'mahi_mahi': <tf.Tensor 'ExpandDims_377:0' shape=(None, 1) dtype=int64>, 'malt_vinegar': <tf.Tensor 'ExpandDims_378:0' shape=(None, 1) dtype=int64>, 'mandarin_orange': <tf.Tensor 'ExpandDims_379:0' shape=(None, 1) dtype=int64>, 'mange_tout': <tf.Tensor 'ExpandDims_380:0' shape=(None, 1) dtype=int64>, 'mango': <tf.Tensor 'ExpandDims_381:0' shape=(None, 1) dtype=int64>, 'manicotti': <tf.Tensor 'ExpandDims_382:0' shape=(None, 1) dtype=int64>, 'manzanilla_olive': <tf.Tensor 'ExpandDims_383:0' shape=(None, 1) dtype=int64>, 'maple_syrup': <tf.Tensor 'ExpandDims_384:0' shape=(None, 1) dtype=int64>, 'margarine': <tf.Tensor 'ExpandDims_385:0' shape=(None, 1) dtype=int64>, 'marinara_sauce': <tf.Tensor 'ExpandDims_386:0' shape=(None, 1) dtype=int64>, 'marjoram': <tf.Tensor 'ExpandDims_387:0' shape=(None, 1) dtype=int64>, 'marmalade': <tf.Tensor 'ExpandDims_388:0' shape=(None, 1) dtype=int64>, 'marmite': <tf.Tensor 'ExpandDims_389:0' shape=(None, 1) dtype=int64>, 'marsala': <tf.Tensor 'ExpandDims_390:0' shape=(None, 1) dtype=int64>, 'masa_harina': <tf.Tensor 'ExpandDims_391:0' shape=(None, 1) dtype=int64>, 'masala': <tf.Tensor 'ExpandDims_392:0' shape=(None, 1) dtype=int64>, 'mascarpone': <tf.Tensor 'ExpandDims_393:0' shape=(None, 1) dtype=int64>, 'masoor_dal': <tf.Tensor 'ExpandDims_394:0' shape=(None, 1) dtype=int64>, 'mayonnaise': <tf.Tensor 'ExpandDims_395:0' shape=(None, 1) dtype=int64>, 'meat_stock': <tf.Tensor 'ExpandDims_396:0' shape=(None, 1) dtype=int64>, 'meatloaf_mix': <tf.Tensor 'ExpandDims_397:0' shape=(None, 1) dtype=int64>, 'Mexican_blend_cheese': <tf.Tensor 'ExpandDims_13:0' shape=(None, 1) dtype=int64>, 'mexicorn': <tf.Tensor 'ExpandDims_398:0' shape=(None, 1) dtype=int64>, 'milk': <tf.Tensor 'ExpandDims_399:0' shape=(None, 1) dtype=int64>, 'mint': <tf.Tensor 'ExpandDims_400:0' shape=(None, 1) dtype=int64>, 'miracle_whip_dressing': <tf.Tensor 'ExpandDims_401:0' shape=(None, 1) dtype=int64>, 'miso': <tf.Tensor 'ExpandDims_402:0' shape=(None, 1) dtype=int64>, 'mixed_spice': <tf.Tensor 'ExpandDims_403:0' shape=(None, 1) dtype=int64>, 'mizithra_cheese': <tf.Tensor 'ExpandDims_404:0' shape=(None, 1) dtype=int64>, 'molasses': <tf.Tensor 'ExpandDims_405:0' shape=(None, 1) dtype=int64>, 'monosodium_glutamate': <tf.Tensor 'ExpandDims_406:0' shape=(None, 1) dtype=int64>, 'moroccan_seasoning': <tf.Tensor 'ExpandDims_407:0' shape=(None, 1) dtype=int64>, 'mortadella': <tf.Tensor 'ExpandDims_408:0' shape=(None, 1) dtype=int64>, 'mozzarella': <tf.Tensor 'ExpandDims_409:0' shape=(None, 1) dtype=int64>, 'mung_beans': <tf.Tensor 'ExpandDims_410:0' shape=(None, 1) dtype=int64>, 'muscovado_sugar': <tf.Tensor 'ExpandDims_411:0' shape=(None, 1) dtype=int64>, 'mushroom': <tf.Tensor 'ExpandDims_412:0' shape=(None, 1) dtype=int64>, 'mushroom_soup': <tf.Tensor 'ExpandDims_413:0' shape=(None, 1) dtype=int64>, 'mussel': <tf.Tensor 'ExpandDims_414:0' shape=(None, 1) dtype=int64>, 'mustard_oil': <tf.Tensor 'ExpandDims_415:0' shape=(None, 1) dtype=int64>, 'mustard_prepared': <tf.Tensor 'ExpandDims_416:0' shape=(None, 1) dtype=int64>, 'mustard_seed_and_powder': <tf.Tensor 'ExpandDims_417:0' shape=(None, 1) dtype=int64>, 'navy_bean': <tf.Tensor 'ExpandDims_418:0' shape=(None, 1) dtype=int64>, 'nectarine': <tf.Tensor 'ExpandDims_419:0' shape=(None, 1) dtype=int64>, 'nigella_seeds': <tf.Tensor 'ExpandDims_420:0' shape=(None, 1) dtype=int64>, 'nori': <tf.Tensor 'ExpandDims_421:0' shape=(None, 1) dtype=int64>, 'nutmeg': <tf.Tensor 'ExpandDims_422:0' shape=(None, 1) dtype=int64>, 'oatmeal': <tf.Tensor 'ExpandDims_423:0' shape=(None, 1) dtype=int64>, 'okra': <tf.Tensor 'ExpandDims_424:0' shape=(None, 1) dtype=int64>, 'Old_Bay_Seasoning': <tf.Tensor 'ExpandDims_14:0' shape=(None, 1) dtype=int64>, 'olive': <tf.Tensor 'ExpandDims_425:0' shape=(None, 1) dtype=int64>, 'olive_oil': <tf.Tensor 'ExpandDims_426:0' shape=(None, 1) dtype=int64>, 'onion': <tf.Tensor 'ExpandDims_427:0' shape=(None, 1) dtype=int64>, 'onion_powder': <tf.Tensor 'ExpandDims_428:0' shape=(None, 1) dtype=int64>, 'onion_soup': <tf.Tensor 'ExpandDims_429:0' shape=(None, 1) dtype=int64>, 'orange': <tf.Tensor 'ExpandDims_430:0' shape=(None, 1) dtype=int64>, 'orange_juice': <tf.Tensor 'ExpandDims_431:0' shape=(None, 1) dtype=int64>, 'orange_rind': <tf.Tensor 'ExpandDims_432:0' shape=(None, 1) dtype=int64>, 'oregano': <tf.Tensor 'ExpandDims_433:0' shape=(None, 1) dtype=int64>, 'oxtails': <tf.Tensor 'ExpandDims_434:0' shape=(None, 1) dtype=int64>, 'oyster_sauce': <tf.Tensor 'ExpandDims_435:0' shape=(None, 1) dtype=int64>, 'oysters': <tf.Tensor 'ExpandDims_436:0' shape=(None, 1) dtype=int64>, 'Pace_Picante_Sauce': <tf.Tensor 'ExpandDims_15:0' shape=(None, 1) dtype=int64>, 'palm_sugar': <tf.Tensor 'ExpandDims_437:0' shape=(None, 1) dtype=int64>, 'pancetta': <tf.Tensor 'ExpandDims_438:0' shape=(None, 1) dtype=int64>, 'panir': <tf.Tensor 'ExpandDims_439:0' shape=(None, 1) dtype=int64>, 'panko': <tf.Tensor 'ExpandDims_440:0' shape=(None, 1) dtype=int64>, 'papaya': <tf.Tensor 'ExpandDims_441:0' shape=(None, 1) dtype=int64>, 'paprika': <tf.Tensor 'ExpandDims_442:0' shape=(None, 1) dtype=int64>, 'parchment_paper': <tf.Tensor 'ExpandDims_443:0' shape=(None, 1) dtype=int64>, 'parmesan_cheese': <tf.Tensor 'ExpandDims_444:0' shape=(None, 1) dtype=int64>, 'parsley': <tf.Tensor 'ExpandDims_445:0' shape=(None, 1) dtype=int64>, 'parsnip': <tf.Tensor 'ExpandDims_446:0' shape=(None, 1) dtype=int64>, 'passata': <tf.Tensor 'ExpandDims_447:0' shape=(None, 1) dtype=int64>, 'pasta': <tf.Tensor 'ExpandDims_448:0' shape=(None, 1) dtype=int64>, 'pasta_sauce': <tf.Tensor 'ExpandDims_449:0' shape=(None, 1) dtype=int64>, 'pastis': <tf.Tensor 'ExpandDims_450:0' shape=(None, 1) dtype=int64>, 'pastry_dough': <tf.Tensor 'ExpandDims_451:0' shape=(None, 1) dtype=int64>, 'pea': <tf.Tensor 'ExpandDims_452:0' shape=(None, 1) dtype=int64>, 'peanut': <tf.Tensor 'ExpandDims_453:0' shape=(None, 1) dtype=int64>, 'peanut_butter': <tf.Tensor 'ExpandDims_454:0' shape=(None, 1) dtype=int64>, 'peanut_oil': <tf.Tensor 'ExpandDims_455:0' shape=(None, 1) dtype=int64>, 'peanut_sauce': <tf.Tensor 'ExpandDims_456:0' shape=(None, 1) dtype=int64>, 'pear': <tf.Tensor 'ExpandDims_457:0' shape=(None, 1) dtype=int64>, 'pearl_onion': <tf.Tensor 'ExpandDims_458:0' shape=(None, 1) dtype=int64>, 'pecan': <tf.Tensor 'ExpandDims_459:0' shape=(None, 1) dtype=int64>, 'pecorino_cheese': <tf.Tensor 'ExpandDims_460:0' shape=(None, 1) dtype=int64>, 'penne_rigate': <tf.Tensor 'ExpandDims_461:0' shape=(None, 1) dtype=int64>, 'pepper': <tf.Tensor 'ExpandDims_462:0' shape=(None, 1) dtype=int64>, 'pepperoncini_pepper': <tf.Tensor 'ExpandDims_463:0' shape=(None, 1) dtype=int64>, 'pepperoni': <tf.Tensor 'ExpandDims_464:0' shape=(None, 1) dtype=int64>, 'pesto': <tf.Tensor 'ExpandDims_465:0' shape=(None, 1) dtype=int64>, 'phyllo_dough': <tf.Tensor 'ExpandDims_466:0' shape=(None, 1) dtype=int64>, 'picante_sauce': <tf.Tensor 'ExpandDims_467:0' shape=(None, 1) dtype=int64>, 'pickle': <tf.Tensor 'ExpandDims_468:0' shape=(None, 1) dtype=int64>, 'pickling_spices': <tf.Tensor 'ExpandDims_469:0' shape=(None, 1) dtype=int64>, 'pie_crust': <tf.Tensor 'ExpandDims_470:0' shape=(None, 1) dtype=int64>, 'pierogi': <tf.Tensor 'ExpandDims_471:0' shape=(None, 1) dtype=int64>, 'pimiento': <tf.Tensor 'ExpandDims_472:0' shape=(None, 1) dtype=int64>, 'pine_nuts': <tf.Tensor 'ExpandDims_473:0' shape=(None, 1) dtype=int64>, 'pineapple': <tf.Tensor 'ExpandDims_474:0' shape=(None, 1) dtype=int64>, 'pink_bean': <tf.Tensor 'ExpandDims_475:0' shape=(None, 1) dtype=int64>, 'pinto_bean': <tf.Tensor 'ExpandDims_476:0' shape=(None, 1) dtype=int64>, 'piquillo_pepper': <tf.Tensor 'ExpandDims_477:0' shape=(None, 1) dtype=int64>, 'pistachio': <tf.Tensor 'ExpandDims_478:0' shape=(None, 1) dtype=int64>, 'pita_bread': <tf.Tensor 'ExpandDims_479:0' shape=(None, 1) dtype=int64>, 'pitted_prunes': <tf.Tensor 'ExpandDims_480:0' shape=(None, 1) dtype=int64>, 'pizza_crust': <tf.Tensor 'ExpandDims_481:0' shape=(None, 1) dtype=int64>, 'pizza_dough': <tf.Tensor 'ExpandDims_482:0' shape=(None, 1) dtype=int64>, 'pizza_sauce': <tf.Tensor 'ExpandDims_483:0' shape=(None, 1) dtype=int64>, 'plum': <tf.Tensor 'ExpandDims_484:0' shape=(None, 1) dtype=int64>, 'plum_tomato': <tf.Tensor 'ExpandDims_485:0' shape=(None, 1) dtype=int64>, 'poblano_pepper': <tf.Tensor 'ExpandDims_486:0' shape=(None, 1) dtype=int64>, 'polenta': <tf.Tensor 'ExpandDims_487:0' shape=(None, 1) dtype=int64>, 'pomegranate': <tf.Tensor 'ExpandDims_488:0' shape=(None, 1) dtype=int64>, 'ponzu': <tf.Tensor 'ExpandDims_489:0' shape=(None, 1) dtype=int64>, 'poppy_seed': <tf.Tensor 'ExpandDims_490:0' shape=(None, 1) dtype=int64>, 'porcino': <tf.Tensor 'ExpandDims_491:0' shape=(None, 1) dtype=int64>, 'pork': <tf.Tensor 'ExpandDims_492:0' shape=(None, 1) dtype=int64>, 'portabella': <tf.Tensor 'ExpandDims_493:0' shape=(None, 1) dtype=int64>, 'potato': <tf.Tensor 'ExpandDims_494:0' shape=(None, 1) dtype=int64>, 'potato_starch': <tf.Tensor 'ExpandDims_495:0' shape=(None, 1) dtype=int64>, 'poultry_seasoning': <tf.Tensor 'ExpandDims_496:0' shape=(None, 1) dtype=int64>, 'powdered_sugar': <tf.Tensor 'ExpandDims_497:0' shape=(None, 1) dtype=int64>, 'prawn': <tf.Tensor 'ExpandDims_498:0' shape=(None, 1) dtype=int64>, 'prepared_horseradish': <tf.Tensor 'ExpandDims_499:0' shape=(None, 1) dtype=int64>, 'preserved_lemon': <tf.Tensor 'ExpandDims_500:0' shape=(None, 1) dtype=int64>, 'processed_cheese': <tf.Tensor 'ExpandDims_501:0' shape=(None, 1) dtype=int64>, 'prosciutto': <tf.Tensor 'ExpandDims_502:0' shape=(None, 1) dtype=int64>, 'provolone': <tf.Tensor 'ExpandDims_503:0' shape=(None, 1) dtype=int64>, 'prune': <tf.Tensor 'ExpandDims_504:0' shape=(None, 1) dtype=int64>, 'puff_pastry': <tf.Tensor 'ExpandDims_505:0' shape=(None, 1) dtype=int64>, 'pumpkin': <tf.Tensor 'ExpandDims_506:0' shape=(None, 1) dtype=int64>, 'pumpkin_pie_spice': <tf.Tensor 'ExpandDims_507:0' shape=(None, 1) dtype=int64>, 'quark': <tf.Tensor 'ExpandDims_508:0' shape=(None, 1) dtype=int64>, 'queso': <tf.Tensor 'ExpandDims_509:0' shape=(None, 1) dtype=int64>, 'quinoa': <tf.Tensor 'ExpandDims_510:0' shape=(None, 1) dtype=int64>, 'rabbit': <tf.Tensor 'ExpandDims_511:0' shape=(None, 1) dtype=int64>, 'radicchio': <tf.Tensor 'ExpandDims_512:0' shape=(None, 1) dtype=int64>, 'radish': <tf.Tensor 'ExpandDims_513:0' shape=(None, 1) dtype=int64>, 'raisin': <tf.Tensor 'ExpandDims_514:0' shape=(None, 1) dtype=int64>, 'ramen_noodles': <tf.Tensor 'ExpandDims_515:0' shape=(None, 1) dtype=int64>, 'Ranch_salad_dressing': <tf.Tensor 'ExpandDims_16:0' shape=(None, 1) dtype=int64>, 'rapeseed_oil': <tf.Tensor 'ExpandDims_516:0' shape=(None, 1) dtype=int64>, 'ras_el_hanout': <tf.Tensor 'ExpandDims_517:0' shape=(None, 1) dtype=int64>, 'raw_sugar': <tf.Tensor 'ExpandDims_518:0' shape=(None, 1) dtype=int64>, 'red_beans': <tf.Tensor 'ExpandDims_519:0' shape=(None, 1) dtype=int64>, 'red_chile_powder': <tf.Tensor 'ExpandDims_520:0' shape=(None, 1) dtype=int64>, 'red_food_coloring': <tf.Tensor 'ExpandDims_521:0' shape=(None, 1) dtype=int64>, 'red_pepper_flakes': <tf.Tensor 'ExpandDims_522:0' shape=(None, 1) dtype=int64>, 'red_pepper_sauce': <tf.Tensor 'ExpandDims_523:0' shape=(None, 1) dtype=int64>, 'red_snapper': <tf.Tensor 'ExpandDims_524:0' shape=(None, 1) dtype=int64>, 'refried_beans': <tf.Tensor 'ExpandDims_525:0' shape=(None, 1) dtype=int64>, 'rhubarb': <tf.Tensor 'ExpandDims_526:0' shape=(None, 1) dtype=int64>, 'rice': <tf.Tensor 'ExpandDims_527:0' shape=(None, 1) dtype=int64>, 'rice_flour': <tf.Tensor 'ExpandDims_528:0' shape=(None, 1) dtype=int64>, 'rice_noodles': <tf.Tensor 'ExpandDims_529:0' shape=(None, 1) dtype=int64>, 'rice_vermicelli': <tf.Tensor 'ExpandDims_530:0' shape=(None, 1) dtype=int64>, 'rice_vinegar': <tf.Tensor 'ExpandDims_531:0' shape=(None, 1) dtype=int64>, 'rice_wine': <tf.Tensor 'ExpandDims_532:0' shape=(None, 1) dtype=int64>, 'ricotta_cheese': <tf.Tensor 'ExpandDims_533:0' shape=(None, 1) dtype=int64>, 'roll': <tf.Tensor 'ExpandDims_534:0' shape=(None, 1) dtype=int64>, 'romaine_lettuce': <tf.Tensor 'ExpandDims_535:0' shape=(None, 1) dtype=int64>, 'romano_cheese': <tf.Tensor 'ExpandDims_536:0' shape=(None, 1) dtype=int64>, 'rose_water': <tf.Tensor 'ExpandDims_537:0' shape=(None, 1) dtype=int64>, 'rosemary': <tf.Tensor 'ExpandDims_538:0' shape=(None, 1) dtype=int64>, 'rotel_tomatoes': <tf.Tensor 'ExpandDims_539:0' shape=(None, 1) dtype=int64>, 'rum': <tf.Tensor 'ExpandDims_540:0' shape=(None, 1) dtype=int64>, 'rutabaga': <tf.Tensor 'ExpandDims_541:0' shape=(None, 1) dtype=int64>, 'rye_bread': <tf.Tensor 'ExpandDims_542:0' shape=(None, 1) dtype=int64>, 'saffron': <tf.Tensor 'ExpandDims_543:0' shape=(None, 1) dtype=int64>, 'sage': <tf.Tensor 'ExpandDims_544:0' shape=(None, 1) dtype=int64>, 'salmon': <tf.Tensor 'ExpandDims_545:0' shape=(None, 1) dtype=int64>, 'salsa': <tf.Tensor 'ExpandDims_546:0' shape=(None, 1) dtype=int64>, 'salsify': <tf.Tensor 'ExpandDims_547:0' shape=(None, 1) dtype=int64>, 'salt': <tf.Tensor 'ExpandDims_548:0' shape=(None, 1) dtype=int64>, 'salt_pork': <tf.Tensor 'ExpandDims_549:0' shape=(None, 1) dtype=int64>, 'sambal': <tf.Tensor 'ExpandDims_550:0' shape=(None, 1) dtype=int64>, 'sardine': <tf.Tensor 'ExpandDims_551:0' shape=(None, 1) dtype=int64>, 'satay': <tf.Tensor 'ExpandDims_552:0' shape=(None, 1) dtype=int64>, 'sauerkraut': <tf.Tensor 'ExpandDims_553:0' shape=(None, 1) dtype=int64>, 'sausage': <tf.Tensor 'ExpandDims_554:0' shape=(None, 1) dtype=int64>, 'savory': <tf.Tensor 'ExpandDims_555:0' shape=(None, 1) dtype=int64>, 'sazon': <tf.Tensor 'ExpandDims_556:0' shape=(None, 1) dtype=int64>, 'sazon_goya': <tf.Tensor 'ExpandDims_557:0' shape=(None, 1) dtype=int64>, 'scallop': <tf.Tensor 'ExpandDims_558:0' shape=(None, 1) dtype=int64>, 'screwpine_leaves': <tf.Tensor 'ExpandDims_559:0' shape=(None, 1) dtype=int64>, 'sea_cucumber': <tf.Tensor 'ExpandDims_560:0' shape=(None, 1) dtype=int64>, 'seafood': <tf.Tensor 'ExpandDims_561:0' shape=(None, 1) dtype=int64>, 'seitan': <tf.Tensor 'ExpandDims_562:0' shape=(None, 1) dtype=int64>, 'semolina': <tf.Tensor 'ExpandDims_563:0' shape=(None, 1) dtype=int64>, 'serrano_pepper': <tf.Tensor 'ExpandDims_564:0' shape=(None, 1) dtype=int64>, 'sesame_oil': <tf.Tensor 'ExpandDims_565:0' shape=(None, 1) dtype=int64>, 'sesame_seed': <tf.Tensor 'ExpandDims_566:0' shape=(None, 1) dtype=int64>, 'shallot': <tf.Tensor 'ExpandDims_567:0' shape=(None, 1) dtype=int64>, 'sherry': <tf.Tensor 'ExpandDims_568:0' shape=(None, 1) dtype=int64>, 'shimeji_mushroom': <tf.Tensor 'ExpandDims_569:0' shape=(None, 1) dtype=int64>, 'shirataki_noodles': <tf.Tensor 'ExpandDims_570:0' shape=(None, 1) dtype=int64>, 'shitake': <tf.Tensor 'ExpandDims_571:0' shape=(None, 1) dtype=int64>, 'shortcrust_pastry': <tf.Tensor 'ExpandDims_572:0' shape=(None, 1) dtype=int64>, 'shortening': <tf.Tensor 'ExpandDims_573:0' shape=(None, 1) dtype=int64>, 'shoyu': <tf.Tensor 'ExpandDims_574:0' shape=(None, 1) dtype=int64>, 'shrimp': <tf.Tensor 'ExpandDims_575:0' shape=(None, 1) dtype=int64>, 'shrimp_paste': <tf.Tensor 'ExpandDims_576:0' shape=(None, 1) dtype=int64>, 'sliced_pepperoni': <tf.Tensor 'ExpandDims_577:0' shape=(None, 1) dtype=int64>, 'smen': <tf.Tensor 'ExpandDims_578:0' shape=(None, 1) dtype=int64>, 'smoke_seasoning': <tf.Tensor 'ExpandDims_579:0' shape=(None, 1) dtype=int64>, 'smoked_salmon': <tf.Tensor 'ExpandDims_580:0' shape=(None, 1) dtype=int64>, 'snap_pea': <tf.Tensor 'ExpandDims_581:0' shape=(None, 1) dtype=int64>, 'snow_pea': <tf.Tensor 'ExpandDims_582:0' shape=(None, 1) dtype=int64>, 'soba_noodles': <tf.Tensor 'ExpandDims_583:0' shape=(None, 1) dtype=int64>, 'sofrito_sauce': <tf.Tensor 'ExpandDims_584:0' shape=(None, 1) dtype=int64>, 'sole': <tf.Tensor 'ExpandDims_585:0' shape=(None, 1) dtype=int64>, 'sorrel': <tf.Tensor 'ExpandDims_586:0' shape=(None, 1) dtype=int64>, 'sour_cream': <tf.Tensor 'ExpandDims_587:0' shape=(None, 1) dtype=int64>, 'sourdough_bread': <tf.Tensor 'ExpandDims_588:0' shape=(None, 1) dtype=int64>, 'soy_sauce': <tf.Tensor 'ExpandDims_589:0' shape=(None, 1) dtype=int64>, 'soybean': <tf.Tensor 'ExpandDims_590:0' shape=(None, 1) dtype=int64>, 'soymilk': <tf.Tensor 'ExpandDims_591:0' shape=(None, 1) dtype=int64>, 'spaetzle': <tf.Tensor 'ExpandDims_592:0' shape=(None, 1) dtype=int64>, 'spaghetti_squash': <tf.Tensor 'ExpandDims_593:0' shape=(None, 1) dtype=int64>, 'spanish_cheese': <tf.Tensor 'ExpandDims_594:0' shape=(None, 1) dtype=int64>, 'spanish_chorizo': <tf.Tensor 'ExpandDims_595:0' shape=(None, 1) dtype=int64>, 'spareribs': <tf.Tensor 'ExpandDims_596:0' shape=(None, 1) dtype=int64>, 'spearmint': <tf.Tensor 'ExpandDims_597:0' shape=(None, 1) dtype=int64>, 'specialty_cheese': <tf.Tensor 'ExpandDims_598:0' shape=(None, 1) dtype=int64>, 'spinach': <tf.Tensor 'ExpandDims_599:0' shape=(None, 1) dtype=int64>, 'squash': <tf.Tensor 'ExpandDims_600:0' shape=(None, 1) dtype=int64>, 'squid': <tf.Tensor 'ExpandDims_601:0' shape=(None, 1) dtype=int64>, 'sriracha_hot_sauce': <tf.Tensor 'ExpandDims_602:0' shape=(None, 1) dtype=int64>, 'star_anise': <tf.Tensor 'ExpandDims_603:0' shape=(None, 1) dtype=int64>, 'steaks': <tf.Tensor 'ExpandDims_604:0' shape=(None, 1) dtype=int64>, 'stilton': <tf.Tensor 'ExpandDims_605:0' shape=(None, 1) dtype=int64>, 'stir_fry_vegetables': <tf.Tensor 'ExpandDims_606:0' shape=(None, 1) dtype=int64>, 'stock': <tf.Tensor 'ExpandDims_607:0' shape=(None, 1) dtype=int64>, 'straw_mushroom': <tf.Tensor 'ExpandDims_608:0' shape=(None, 1) dtype=int64>, 'strawberry': <tf.Tensor 'ExpandDims_609:0' shape=(None, 1) dtype=int64>, 'stuffing': <tf.Tensor 'ExpandDims_610:0' shape=(None, 1) dtype=int64>, 'suet': <tf.Tensor 'ExpandDims_611:0' shape=(None, 1) dtype=int64>, 'sugar': <tf.Tensor 'ExpandDims_612:0' shape=(None, 1) dtype=int64>, 'sultana': <tf.Tensor 'ExpandDims_613:0' shape=(None, 1) dtype=int64>, 'sumac': <tf.Tensor 'ExpandDims_614:0' shape=(None, 1) dtype=int64>, 'sunflower_oil': <tf.Tensor 'ExpandDims_615:0' shape=(None, 1) dtype=int64>, 'sunflower_seed': <tf.Tensor 'ExpandDims_616:0' shape=(None, 1) dtype=int64>, 'sushi_rice': <tf.Tensor 'ExpandDims_617:0' shape=(None, 1) dtype=int64>, 'sweet_pepper': <tf.Tensor 'ExpandDims_618:0' shape=(None, 1) dtype=int64>, 'sweet_potato': <tf.Tensor 'ExpandDims_619:0' shape=(None, 1) dtype=int64>, 'swiss_cheese': <tf.Tensor 'ExpandDims_620:0' shape=(None, 1) dtype=int64>, 'swordfish': <tf.Tensor 'ExpandDims_621:0' shape=(None, 1) dtype=int64>, 'szechuan_peppercorn': <tf.Tensor 'ExpandDims_622:0' shape=(None, 1) dtype=int64>, 'tabasco_sauce': <tf.Tensor 'ExpandDims_623:0' shape=(None, 1) dtype=int64>, 'taco_seasoning': <tf.Tensor 'ExpandDims_624:0' shape=(None, 1) dtype=int64>, 'tahini': <tf.Tensor 'ExpandDims_625:0' shape=(None, 1) dtype=int64>, 'tamarind': <tf.Tensor 'ExpandDims_626:0' shape=(None, 1) dtype=int64>, 'tapioca': <tf.Tensor 'ExpandDims_627:0' shape=(None, 1) dtype=int64>, 'tarragon': <tf.Tensor 'ExpandDims_628:0' shape=(None, 1) dtype=int64>, 'tatsoi': <tf.Tensor 'ExpandDims_629:0' shape=(None, 1) dtype=int64>, 'tea': <tf.Tensor 'ExpandDims_630:0' shape=(None, 1) dtype=int64>, 'tempeh': <tf.Tensor 'ExpandDims_631:0' shape=(None, 1) dtype=int64>, 'tequila': <tf.Tensor 'ExpandDims_632:0' shape=(None, 1) dtype=int64>, 'teriyaki_marinade': <tf.Tensor 'ExpandDims_633:0' shape=(None, 1) dtype=int64>, 'teriyaki_sauce': <tf.Tensor 'ExpandDims_634:0' shape=(None, 1) dtype=int64>, 'Thai_chile_pepper': <tf.Tensor 'ExpandDims_17:0' shape=(None, 1) dtype=int64>, 'Thai_curry_paste': <tf.Tensor 'ExpandDims_18:0' shape=(None, 1) dtype=int64>, 'thousand_island_dressing': <tf.Tensor 'ExpandDims_635:0' shape=(None, 1) dtype=int64>, 'thyme': <tf.Tensor 'ExpandDims_636:0' shape=(None, 1) dtype=int64>, 'tilapia_fillets': <tf.Tensor 'ExpandDims_637:0' shape=(None, 1) dtype=int64>, 'tofu': <tf.Tensor 'ExpandDims_638:0' shape=(None, 1) dtype=int64>, 'togarashi': <tf.Tensor 'ExpandDims_639:0' shape=(None, 1) dtype=int64>, 'tomatillos': <tf.Tensor 'ExpandDims_640:0' shape=(None, 1) dtype=int64>, 'tomato': <tf.Tensor 'ExpandDims_641:0' shape=(None, 1) dtype=int64>, 'tomato_juice': <tf.Tensor 'ExpandDims_642:0' shape=(None, 1) dtype=int64>, 'tomato_paste': <tf.Tensor 'ExpandDims_643:0' shape=(None, 1) dtype=int64>, 'tomato_puree': <tf.Tensor 'ExpandDims_644:0' shape=(None, 1) dtype=int64>, 'tomato_sauce': <tf.Tensor 'ExpandDims_645:0' shape=(None, 1) dtype=int64>, 'tomato_soup': <tf.Tensor 'ExpandDims_646:0' shape=(None, 1) dtype=int64>, 'toor_dal': <tf.Tensor 'ExpandDims_647:0' shape=(None, 1) dtype=int64>, 'tortilla': <tf.Tensor 'ExpandDims_648:0' shape=(None, 1) dtype=int64>, 'trout': <tf.Tensor 'ExpandDims_649:0' shape=(None, 1) dtype=int64>, 'truffle': <tf.Tensor 'ExpandDims_650:0' shape=(None, 1) dtype=int64>, 'truffle_oil': <tf.Tensor 'ExpandDims_651:0' shape=(None, 1) dtype=int64>, 'tuna': <tf.Tensor 'ExpandDims_652:0' shape=(None, 1) dtype=int64>, 'turbinado_sugar': <tf.Tensor 'ExpandDims_653:0' shape=(None, 1) dtype=int64>, 'turkey': <tf.Tensor 'ExpandDims_654:0' shape=(None, 1) dtype=int64>, 'turmeric': <tf.Tensor 'ExpandDims_655:0' shape=(None, 1) dtype=int64>, 'turnip': <tf.Tensor 'ExpandDims_656:0' shape=(None, 1) dtype=int64>, 'udon_noodles': <tf.Tensor 'ExpandDims_657:0' shape=(None, 1) dtype=int64>, 'umeboshi': <tf.Tensor 'ExpandDims_658:0' shape=(None, 1) dtype=int64>, 'unsweetened_chocolate': <tf.Tensor 'ExpandDims_659:0' shape=(None, 1) dtype=int64>, 'urad_dal': <tf.Tensor 'ExpandDims_660:0' shape=(None, 1) dtype=int64>, 'vanilla': <tf.Tensor 'ExpandDims_661:0' shape=(None, 1) dtype=int64>, 'veal': <tf.Tensor 'ExpandDims_662:0' shape=(None, 1) dtype=int64>, 'vegan_brand_names': <tf.Tensor 'ExpandDims_663:0' shape=(None, 1) dtype=int64>, 'vegetable_juice': <tf.Tensor 'ExpandDims_664:0' shape=(None, 1) dtype=int64>, 'vegetable_oil': <tf.Tensor 'ExpandDims_665:0' shape=(None, 1) dtype=int64>, 'vegetable_stock': <tf.Tensor 'ExpandDims_666:0' shape=(None, 1) dtype=int64>, 'vegetarian_brand_names': <tf.Tensor 'ExpandDims_667:0' shape=(None, 1) dtype=int64>, 'velveeta': <tf.Tensor 'ExpandDims_668:0' shape=(None, 1) dtype=int64>, 'venison': <tf.Tensor 'ExpandDims_669:0' shape=(None, 1) dtype=int64>, 'vermicelli': <tf.Tensor 'ExpandDims_670:0' shape=(None, 1) dtype=int64>, 'vermouth': <tf.Tensor 'ExpandDims_671:0' shape=(None, 1) dtype=int64>, 'Vidalia_onion': <tf.Tensor 'ExpandDims_19:0' shape=(None, 1) dtype=int64>, 'vinegar': <tf.Tensor 'ExpandDims_672:0' shape=(None, 1) dtype=int64>, 'vital_wheat_gluten': <tf.Tensor 'ExpandDims_673:0' shape=(None, 1) dtype=int64>, 'vodka': <tf.Tensor 'ExpandDims_674:0' shape=(None, 1) dtype=int64>, 'walnut': <tf.Tensor 'ExpandDims_675:0' shape=(None, 1) dtype=int64>, 'wasabi': <tf.Tensor 'ExpandDims_676:0' shape=(None, 1) dtype=int64>, 'washed_rind_cheese': <tf.Tensor 'ExpandDims_677:0' shape=(None, 1) dtype=int64>, 'water': <tf.Tensor 'ExpandDims_678:0' shape=(None, 1) dtype=int64>, 'water_chestnut': <tf.Tensor 'ExpandDims_679:0' shape=(None, 1) dtype=int64>, 'watercress': <tf.Tensor 'ExpandDims_680:0' shape=(None, 1) dtype=int64>, 'watermelon': <tf.Tensor 'ExpandDims_681:0' shape=(None, 1) dtype=int64>, 'wheat_bread': <tf.Tensor 'ExpandDims_682:0' shape=(None, 1) dtype=int64>, 'whipping_cream': <tf.Tensor 'ExpandDims_683:0' shape=(None, 1) dtype=int64>, 'white_bean': <tf.Tensor 'ExpandDims_684:0' shape=(None, 1) dtype=int64>, 'white_bread': <tf.Tensor 'ExpandDims_685:0' shape=(None, 1) dtype=int64>, 'white_cheese': <tf.Tensor 'ExpandDims_686:0' shape=(None, 1) dtype=int64>, 'white_fish': <tf.Tensor 'ExpandDims_687:0' shape=(None, 1) dtype=int64>, 'white_onion': <tf.Tensor 'ExpandDims_688:0' shape=(None, 1) dtype=int64>, 'white_peppercorns': <tf.Tensor 'ExpandDims_689:0' shape=(None, 1) dtype=int64>, 'white_sesame_seeds': <tf.Tensor 'ExpandDims_690:0' shape=(None, 1) dtype=int64>, 'whole_grain_mustard': <tf.Tensor 'ExpandDims_691:0' shape=(None, 1) dtype=int64>, 'whole_milk': <tf.Tensor 'ExpandDims_692:0' shape=(None, 1) dtype=int64>, 'wild_rice': <tf.Tensor 'ExpandDims_693:0' shape=(None, 1) dtype=int64>, 'wine': <tf.Tensor 'ExpandDims_694:0' shape=(None, 1) dtype=int64>, 'wine_vinegar': <tf.Tensor 'ExpandDims_695:0' shape=(None, 1) dtype=int64>, 'winter_squash': <tf.Tensor 'ExpandDims_696:0' shape=(None, 1) dtype=int64>, 'worcestershire_sauce': <tf.Tensor 'ExpandDims_697:0' shape=(None, 1) dtype=int64>, 'xanthan_gum': <tf.Tensor 'ExpandDims_698:0' shape=(None, 1) dtype=int64>, 'yams': <tf.Tensor 'ExpandDims_699:0' shape=(None, 1) dtype=int64>, 'yeast': <tf.Tensor 'ExpandDims_700:0' shape=(None, 1) dtype=int64>, 'yellow_curry_paste': <tf.Tensor 'ExpandDims_701:0' shape=(None, 1) dtype=int64>, 'yellow_food_coloring': <tf.Tensor 'ExpandDims_702:0' shape=(None, 1) dtype=int64>, 'yellow_split_pea': <tf.Tensor 'ExpandDims_703:0' shape=(None, 1) dtype=int64>, 'yellow_squash': <tf.Tensor 'ExpandDims_704:0' shape=(None, 1) dtype=int64>, 'yogurt': <tf.Tensor 'ExpandDims_705:0' shape=(None, 1) dtype=int64>, 'zaatar': <tf.Tensor 'ExpandDims_706:0' shape=(None, 1) dtype=int64>, 'zest': <tf.Tensor 'ExpandDims_707:0' shape=(None, 1) dtype=int64>, 'zucchini': <tf.Tensor 'ExpandDims_708:0' shape=(None, 1) dtype=int64>}\n",
            "Consider rewriting this model with the Functional API.\n",
            "47/47 [==============================] - ETA: 0s - loss: 2.4205 - sparse_categorical_accuracy: 0.1869WARNING:tensorflow:Layers in a Sequential model should only have a single input tensor, but we receive a <class 'dict'> input: {'acorn_squash': <tf.Tensor 'ExpandDims_20:0' shape=(None, 1) dtype=int64>, 'adobo': <tf.Tensor 'ExpandDims_21:0' shape=(None, 1) dtype=int64>, 'african_birdseye_chile_pepper': <tf.Tensor 'ExpandDims_22:0' shape=(None, 1) dtype=int64>, 'ale': <tf.Tensor 'ExpandDims_23:0' shape=(None, 1) dtype=int64>, 'aleppo_pepper': <tf.Tensor 'ExpandDims_24:0' shape=(None, 1) dtype=int64>, 'alfalfa_sprouts': <tf.Tensor 'ExpandDims_25:0' shape=(None, 1) dtype=int64>, 'alfredo_sauce': <tf.Tensor 'ExpandDims_26:0' shape=(None, 1) dtype=int64>, 'allspice': <tf.Tensor 'ExpandDims_27:0' shape=(None, 1) dtype=int64>, 'almond': <tf.Tensor 'ExpandDims_28:0' shape=(None, 1) dtype=int64>, 'almond_butter': <tf.Tensor 'ExpandDims_29:0' shape=(None, 1) dtype=int64>, 'amaretti': <tf.Tensor 'ExpandDims_30:0' shape=(None, 1) dtype=int64>, 'amchoor_powder': <tf.Tensor 'ExpandDims_31:0' shape=(None, 1) dtype=int64>, 'ancho_chile_pepper': <tf.Tensor 'ExpandDims_32:0' shape=(None, 1) dtype=int64>, 'anchovy': <tf.Tensor 'ExpandDims_33:0' shape=(None, 1) dtype=int64>, 'anchovy_paste': <tf.Tensor 'ExpandDims_34:0' shape=(None, 1) dtype=int64>, 'andouille_sausage': <tf.Tensor 'ExpandDims_35:0' shape=(None, 1) dtype=int64>, 'anise': <tf.Tensor 'ExpandDims_36:0' shape=(None, 1) dtype=int64>, 'apple': <tf.Tensor 'ExpandDims_37:0' shape=(None, 1) dtype=int64>, 'apple_butter': <tf.Tensor 'ExpandDims_38:0' shape=(None, 1) dtype=int64>, 'apple_juice': <tf.Tensor 'ExpandDims_39:0' shape=(None, 1) dtype=int64>, 'applesauce': <tf.Tensor 'ExpandDims_40:0' shape=(None, 1) dtype=int64>, 'apricot': <tf.Tensor 'ExpandDims_41:0' shape=(None, 1) dtype=int64>, 'arborio_rice': <tf.Tensor 'ExpandDims_42:0' shape=(None, 1) dtype=int64>, 'argan_oil': <tf.Tensor 'ExpandDims_43:0' shape=(None, 1) dtype=int64>, 'arrowroot': <tf.Tensor 'ExpandDims_44:0' shape=(None, 1) dtype=int64>, 'artichoke': <tf.Tensor 'ExpandDims_45:0' shape=(None, 1) dtype=int64>, 'artificial_sweetener': <tf.Tensor 'ExpandDims_46:0' shape=(None, 1) dtype=int64>, 'arugula': <tf.Tensor 'ExpandDims_47:0' shape=(None, 1) dtype=int64>, 'asadero': <tf.Tensor 'ExpandDims_48:0' shape=(None, 1) dtype=int64>, 'asafetida': <tf.Tensor 'ExpandDims_49:0' shape=(None, 1) dtype=int64>, 'asiago_cheese': <tf.Tensor 'ExpandDims_50:0' shape=(None, 1) dtype=int64>, 'asparagus': <tf.Tensor 'ExpandDims_51:0' shape=(None, 1) dtype=int64>, 'assorted_vegetables': <tf.Tensor 'ExpandDims_52:0' shape=(None, 1) dtype=int64>, 'avocado': <tf.Tensor 'ExpandDims_53:0' shape=(None, 1) dtype=int64>, 'azuki_bean': <tf.Tensor 'ExpandDims_54:0' shape=(None, 1) dtype=int64>, 'baby_carrot': <tf.Tensor 'ExpandDims_55:0' shape=(None, 1) dtype=int64>, 'baby_corn': <tf.Tensor 'ExpandDims_56:0' shape=(None, 1) dtype=int64>, 'baby_onions': <tf.Tensor 'ExpandDims_57:0' shape=(None, 1) dtype=int64>, 'baby_spinach': <tf.Tensor 'ExpandDims_58:0' shape=(None, 1) dtype=int64>, 'bacon': <tf.Tensor 'ExpandDims_59:0' shape=(None, 1) dtype=int64>, 'bacon_grease': <tf.Tensor 'ExpandDims_60:0' shape=(None, 1) dtype=int64>, 'bagel': <tf.Tensor 'ExpandDims_61:0' shape=(None, 1) dtype=int64>, 'baguette': <tf.Tensor 'ExpandDims_62:0' shape=(None, 1) dtype=int64>, 'baked_beans': <tf.Tensor 'ExpandDims_63:0' shape=(None, 1) dtype=int64>, 'baking_powder': <tf.Tensor 'ExpandDims_64:0' shape=(None, 1) dtype=int64>, 'baking_soda': <tf.Tensor 'ExpandDims_65:0' shape=(None, 1) dtype=int64>, 'balsamic_vinegar': <tf.Tensor 'ExpandDims_66:0' shape=(None, 1) dtype=int64>, 'bamboo_shoot': <tf.Tensor 'ExpandDims_67:0' shape=(None, 1) dtype=int64>, 'bamboo_skewers': <tf.Tensor 'ExpandDims_68:0' shape=(None, 1) dtype=int64>, 'banana': <tf.Tensor 'ExpandDims_69:0' shape=(None, 1) dtype=int64>, 'barbecue_sauce': <tf.Tensor 'ExpandDims_70:0' shape=(None, 1) dtype=int64>, 'barley': <tf.Tensor 'ExpandDims_71:0' shape=(None, 1) dtype=int64>, 'basil': <tf.Tensor 'ExpandDims_72:0' shape=(None, 1) dtype=int64>, 'basmati_rice': <tf.Tensor 'ExpandDims_73:0' shape=(None, 1) dtype=int64>, 'bass': <tf.Tensor 'ExpandDims_74:0' shape=(None, 1) dtype=int64>, 'bay_leaf': <tf.Tensor 'ExpandDims_75:0' shape=(None, 1) dtype=int64>, 'bean_sprouts': <tf.Tensor 'ExpandDims_76:0' shape=(None, 1) dtype=int64>, 'bean_thread': <tf.Tensor 'ExpandDims_77:0' shape=(None, 1) dtype=int64>, 'beans': <tf.Tensor 'ExpandDims_78:0' shape=(None, 1) dtype=int64>, 'bechamel': <tf.Tensor 'ExpandDims_79:0' shape=(None, 1) dtype=int64>, 'beef': <tf.Tensor 'ExpandDims_80:0' shape=(None, 1) dtype=int64>, 'beef_consomme': <tf.Tensor 'ExpandDims_81:0' shape=(None, 1) dtype=int64>, 'beef_gravy': <tf.Tensor 'ExpandDims_82:0' shape=(None, 1) dtype=int64>, 'beef_round_cuts': <tf.Tensor 'ExpandDims_83:0' shape=(None, 1) dtype=int64>, 'beef_stock': <tf.Tensor 'ExpandDims_84:0' shape=(None, 1) dtype=int64>, 'beer': <tf.Tensor 'ExpandDims_85:0' shape=(None, 1) dtype=int64>, 'beet': <tf.Tensor 'ExpandDims_86:0' shape=(None, 1) dtype=int64>, 'biscuit_mix': <tf.Tensor 'ExpandDims_87:0' shape=(None, 1) dtype=int64>, 'bitter_melon': <tf.Tensor 'ExpandDims_88:0' shape=(None, 1) dtype=int64>, 'black_bean': <tf.Tensor 'ExpandDims_89:0' shape=(None, 1) dtype=int64>, 'black_eyed_pea': <tf.Tensor 'ExpandDims_90:0' shape=(None, 1) dtype=int64>, 'black_forest_ham': <tf.Tensor 'ExpandDims_91:0' shape=(None, 1) dtype=int64>, 'black_mushroom': <tf.Tensor 'ExpandDims_92:0' shape=(None, 1) dtype=int64>, 'black_olive': <tf.Tensor 'ExpandDims_93:0' shape=(None, 1) dtype=int64>, 'black_truffle': <tf.Tensor 'ExpandDims_94:0' shape=(None, 1) dtype=int64>, 'blackberry': <tf.Tensor 'ExpandDims_95:0' shape=(None, 1) dtype=int64>, 'blue_cheese': <tf.Tensor 'ExpandDims_96:0' shape=(None, 1) dtype=int64>, 'bok_choy': <tf.Tensor 'ExpandDims_97:0' shape=(None, 1) dtype=int64>, 'bouillon': <tf.Tensor 'ExpandDims_98:0' shape=(None, 1) dtype=int64>, 'bouquet_garni': <tf.Tensor 'ExpandDims_99:0' shape=(None, 1) dtype=int64>, 'bourbon': <tf.Tensor 'ExpandDims_100:0' shape=(None, 1) dtype=int64>, 'brandy': <tf.Tensor 'ExpandDims_101:0' shape=(None, 1) dtype=int64>, 'bratwursts': <tf.Tensor 'ExpandDims_102:0' shape=(None, 1) dtype=int64>, 'bread': <tf.Tensor 'ExpandDims_103:0' shape=(None, 1) dtype=int64>, 'bread_bun': <tf.Tensor 'ExpandDims_104:0' shape=(None, 1) dtype=int64>, 'breadcrumb': <tf.Tensor 'ExpandDims_105:0' shape=(None, 1) dtype=int64>, 'brick_cheese': <tf.Tensor 'ExpandDims_106:0' shape=(None, 1) dtype=int64>, 'brie_cheese': <tf.Tensor 'ExpandDims_107:0' shape=(None, 1) dtype=int64>, 'broccoli': <tf.Tensor 'ExpandDims_108:0' shape=(None, 1) dtype=int64>, 'broccoli_raab': <tf.Tensor 'ExpandDims_109:0' shape=(None, 1) dtype=int64>, 'broth': <tf.Tensor 'ExpandDims_110:0' shape=(None, 1) dtype=int64>, 'brown_gravy_mix': <tf.Tensor 'ExpandDims_111:0' shape=(None, 1) dtype=int64>, 'brown_onion': <tf.Tensor 'ExpandDims_112:0' shape=(None, 1) dtype=int64>, 'brown_rice': <tf.Tensor 'ExpandDims_113:0' shape=(None, 1) dtype=int64>, 'brown_sugar': <tf.Tensor 'ExpandDims_114:0' shape=(None, 1) dtype=int64>, 'brussels_sprout': <tf.Tensor 'ExpandDims_115:0' shape=(None, 1) dtype=int64>, 'buckwheat': <tf.Tensor 'ExpandDims_116:0' shape=(None, 1) dtype=int64>, 'bulgur_wheat': <tf.Tensor 'ExpandDims_117:0' shape=(None, 1) dtype=int64>, 'burdock_root': <tf.Tensor 'ExpandDims_118:0' shape=(None, 1) dtype=int64>, 'butter': <tf.Tensor 'ExpandDims_119:0' shape=(None, 1) dtype=int64>, 'buttermilk': <tf.Tensor 'ExpandDims_120:0' shape=(None, 1) dtype=int64>, 'butternut_squash': <tf.Tensor 'ExpandDims_121:0' shape=(None, 1) dtype=int64>, 'cabbage': <tf.Tensor 'ExpandDims_122:0' shape=(None, 1) dtype=int64>, 'cajun_seasoning': <tf.Tensor 'ExpandDims_123:0' shape=(None, 1) dtype=int64>, 'calvados': <tf.Tensor 'ExpandDims_124:0' shape=(None, 1) dtype=int64>, 'campbell': <tf.Tensor 'ExpandDims_125:0' shape=(None, 1) dtype=int64>, 'canadian_bacon': <tf.Tensor 'ExpandDims_126:0' shape=(None, 1) dtype=int64>, 'cannellini_bean': <tf.Tensor 'ExpandDims_127:0' shape=(None, 1) dtype=int64>, 'canola_oil': <tf.Tensor 'ExpandDims_128:0' shape=(None, 1) dtype=int64>, 'cantaloupe': <tf.Tensor 'ExpandDims_129:0' shape=(None, 1) dtype=int64>, 'caper': <tf.Tensor 'ExpandDims_130:0' shape=(None, 1) dtype=int64>, 'capsicum': <tf.Tensor 'ExpandDims_131:0' shape=(None, 1) dtype=int64>, 'caraway_seed': <tf.Tensor 'ExpandDims_132:0' shape=(None, 1) dtype=int64>, 'cardamom': <tf.Tensor 'ExpandDims_133:0' shape=(None, 1) dtype=int64>, 'carrot': <tf.Tensor 'ExpandDims_134:0' shape=(None, 1) dtype=int64>, 'cashew_nut': <tf.Tensor 'ExpandDims_135:0' shape=(None, 1) dtype=int64>, 'catfish': <tf.Tensor 'ExpandDims_136:0' shape=(None, 1) dtype=int64>, 'caul': <tf.Tensor 'ExpandDims_137:0' shape=(None, 1) dtype=int64>, 'cauliflower': <tf.Tensor 'ExpandDims_138:0' shape=(None, 1) dtype=int64>, 'cayenne_pepper': <tf.Tensor 'ExpandDims_139:0' shape=(None, 1) dtype=int64>, 'celeriac': <tf.Tensor 'ExpandDims_140:0' shape=(None, 1) dtype=int64>, 'celery': <tf.Tensor 'ExpandDims_141:0' shape=(None, 1) dtype=int64>, 'celery_salt': <tf.Tensor 'ExpandDims_142:0' shape=(None, 1) dtype=int64>, 'celery_seed': <tf.Tensor 'ExpandDims_143:0' shape=(None, 1) dtype=int64>, 'celery_soup': <tf.Tensor 'ExpandDims_144:0' shape=(None, 1) dtype=int64>, 'chanterelle_mushroom': <tf.Tensor 'ExpandDims_145:0' shape=(None, 1) dtype=int64>, 'chard': <tf.Tensor 'ExpandDims_146:0' shape=(None, 1) dtype=int64>, 'chayote': <tf.Tensor 'ExpandDims_147:0' shape=(None, 1) dtype=int64>, 'cheddar_cheese': <tf.Tensor 'ExpandDims_148:0' shape=(None, 1) dtype=int64>, 'cheddar_cheese_soup': <tf.Tensor 'ExpandDims_149:0' shape=(None, 1) dtype=int64>, 'cheese': <tf.Tensor 'ExpandDims_150:0' shape=(None, 1) dtype=int64>, 'cherry': <tf.Tensor 'ExpandDims_151:0' shape=(None, 1) dtype=int64>, 'chervil': <tf.Tensor 'ExpandDims_152:0' shape=(None, 1) dtype=int64>, 'cheshire_cheese': <tf.Tensor 'ExpandDims_153:0' shape=(None, 1) dtype=int64>, 'chestnut': <tf.Tensor 'ExpandDims_154:0' shape=(None, 1) dtype=int64>, 'chestnut_mushroom': <tf.Tensor 'ExpandDims_155:0' shape=(None, 1) dtype=int64>, 'chicken': <tf.Tensor 'ExpandDims_156:0' shape=(None, 1) dtype=int64>, 'chicken_base': <tf.Tensor 'ExpandDims_157:0' shape=(None, 1) dtype=int64>, 'chicken_liver': <tf.Tensor 'ExpandDims_158:0' shape=(None, 1) dtype=int64>, 'chicken_sausage': <tf.Tensor 'ExpandDims_159:0' shape=(None, 1) dtype=int64>, 'chicken_soup': <tf.Tensor 'ExpandDims_160:0' shape=(None, 1) dtype=int64>, 'chicken_stock': <tf.Tensor 'ExpandDims_161:0' shape=(None, 1) dtype=int64>, 'chickpea': <tf.Tensor 'ExpandDims_162:0' shape=(None, 1) dtype=int64>, 'chile_pepper': <tf.Tensor 'ExpandDims_163:0' shape=(None, 1) dtype=int64>, 'chili_oil': <tf.Tensor 'ExpandDims_164:0' shape=(None, 1) dtype=int64>, 'chili_paste': <tf.Tensor 'ExpandDims_165:0' shape=(None, 1) dtype=int64>, 'chili_powder': <tf.Tensor 'ExpandDims_166:0' shape=(None, 1) dtype=int64>, 'chili_sauce': <tf.Tensor 'ExpandDims_167:0' shape=(None, 1) dtype=int64>, 'chinese_cabbage': <tf.Tensor 'ExpandDims_168:0' shape=(None, 1) dtype=int64>, 'chinese_chives': <tf.Tensor 'ExpandDims_169:0' shape=(None, 1) dtype=int64>, 'Chinese_mushroom': <tf.Tensor 'ExpandDims:0' shape=(None, 1) dtype=int64>, 'Chinese_noodles': <tf.Tensor 'ExpandDims_1:0' shape=(None, 1) dtype=int64>, 'chipotle_pepper': <tf.Tensor 'ExpandDims_170:0' shape=(None, 1) dtype=int64>, 'chives': <tf.Tensor 'ExpandDims_171:0' shape=(None, 1) dtype=int64>, 'chocolate': <tf.Tensor 'ExpandDims_172:0' shape=(None, 1) dtype=int64>, 'chutney': <tf.Tensor 'ExpandDims_173:0' shape=(None, 1) dtype=int64>, 'cider': <tf.Tensor 'ExpandDims_174:0' shape=(None, 1) dtype=int64>, 'cider_vinegar': <tf.Tensor 'ExpandDims_175:0' shape=(None, 1) dtype=int64>, 'cilantro': <tf.Tensor 'ExpandDims_176:0' shape=(None, 1) dtype=int64>, 'cinnamon': <tf.Tensor 'ExpandDims_177:0' shape=(None, 1) dtype=int64>, 'clam': <tf.Tensor 'ExpandDims_178:0' shape=(None, 1) dtype=int64>, 'clam_juice': <tf.Tensor 'ExpandDims_179:0' shape=(None, 1) dtype=int64>, 'clarified_butter': <tf.Tensor 'ExpandDims_180:0' shape=(None, 1) dtype=int64>, 'clove': <tf.Tensor 'ExpandDims_181:0' shape=(None, 1) dtype=int64>, 'cocoa_powder': <tf.Tensor 'ExpandDims_182:0' shape=(None, 1) dtype=int64>, 'coconut': <tf.Tensor 'ExpandDims_183:0' shape=(None, 1) dtype=int64>, 'coconut_milk_or_cream': <tf.Tensor 'ExpandDims_184:0' shape=(None, 1) dtype=int64>, 'coconut_oil': <tf.Tensor 'ExpandDims_185:0' shape=(None, 1) dtype=int64>, 'cod': <tf.Tensor 'ExpandDims_186:0' shape=(None, 1) dtype=int64>, 'colby': <tf.Tensor 'ExpandDims_187:0' shape=(None, 1) dtype=int64>, 'coleslaw_mix': <tf.Tensor 'ExpandDims_188:0' shape=(None, 1) dtype=int64>, 'confit': <tf.Tensor 'ExpandDims_189:0' shape=(None, 1) dtype=int64>, 'coriander': <tf.Tensor 'ExpandDims_190:0' shape=(None, 1) dtype=int64>, 'coriander_root': <tf.Tensor 'ExpandDims_191:0' shape=(None, 1) dtype=int64>, 'corn': <tf.Tensor 'ExpandDims_192:0' shape=(None, 1) dtype=int64>, 'corn_chips': <tf.Tensor 'ExpandDims_193:0' shape=(None, 1) dtype=int64>, 'corn_flour': <tf.Tensor 'ExpandDims_194:0' shape=(None, 1) dtype=int64>, 'corn_oil': <tf.Tensor 'ExpandDims_195:0' shape=(None, 1) dtype=int64>, 'cornbread': <tf.Tensor 'ExpandDims_196:0' shape=(None, 1) dtype=int64>, 'corned_beef': <tf.Tensor 'ExpandDims_197:0' shape=(None, 1) dtype=int64>, 'cornish_hen': <tf.Tensor 'ExpandDims_198:0' shape=(None, 1) dtype=int64>, 'cornmeal': <tf.Tensor 'ExpandDims_199:0' shape=(None, 1) dtype=int64>, 'cornstarch': <tf.Tensor 'ExpandDims_200:0' shape=(None, 1) dtype=int64>, 'cottage_cheese': <tf.Tensor 'ExpandDims_201:0' shape=(None, 1) dtype=int64>, 'couscous': <tf.Tensor 'ExpandDims_202:0' shape=(None, 1) dtype=int64>, 'crab': <tf.Tensor 'ExpandDims_203:0' shape=(None, 1) dtype=int64>, 'crab_claw': <tf.Tensor 'ExpandDims_204:0' shape=(None, 1) dtype=int64>, 'cracker': <tf.Tensor 'ExpandDims_205:0' shape=(None, 1) dtype=int64>, 'craisin': <tf.Tensor 'ExpandDims_206:0' shape=(None, 1) dtype=int64>, 'cranberry': <tf.Tensor 'ExpandDims_207:0' shape=(None, 1) dtype=int64>, 'cranberry_bean': <tf.Tensor 'ExpandDims_208:0' shape=(None, 1) dtype=int64>, 'crayfish': <tf.Tensor 'ExpandDims_209:0' shape=(None, 1) dtype=int64>, 'cream': <tf.Tensor 'ExpandDims_210:0' shape=(None, 1) dtype=int64>, 'cream_cheese': <tf.Tensor 'ExpandDims_211:0' shape=(None, 1) dtype=int64>, 'creamed_corn': <tf.Tensor 'ExpandDims_212:0' shape=(None, 1) dtype=int64>, 'creme_fraiche': <tf.Tensor 'ExpandDims_213:0' shape=(None, 1) dtype=int64>, 'cremini_mushroom': <tf.Tensor 'ExpandDims_214:0' shape=(None, 1) dtype=int64>, 'crouton': <tf.Tensor 'ExpandDims_215:0' shape=(None, 1) dtype=int64>, 'crusty_bread': <tf.Tensor 'ExpandDims_216:0' shape=(None, 1) dtype=int64>, 'crystallized_ginger': <tf.Tensor 'ExpandDims_217:0' shape=(None, 1) dtype=int64>, 'cucumber': <tf.Tensor 'ExpandDims_218:0' shape=(None, 1) dtype=int64>, 'cumin': <tf.Tensor 'ExpandDims_219:0' shape=(None, 1) dtype=int64>, 'currant': <tf.Tensor 'ExpandDims_220:0' shape=(None, 1) dtype=int64>, 'curry_leaf': <tf.Tensor 'ExpandDims_221:0' shape=(None, 1) dtype=int64>, 'curry_paste': <tf.Tensor 'ExpandDims_222:0' shape=(None, 1) dtype=int64>, 'curry_powder': <tf.Tensor 'ExpandDims_223:0' shape=(None, 1) dtype=int64>, 'curry_sauce': <tf.Tensor 'ExpandDims_224:0' shape=(None, 1) dtype=int64>, 'dashi': <tf.Tensor 'ExpandDims_225:0' shape=(None, 1) dtype=int64>, 'dashi_stock': <tf.Tensor 'ExpandDims_226:0' shape=(None, 1) dtype=int64>, 'date': <tf.Tensor 'ExpandDims_227:0' shape=(None, 1) dtype=int64>, 'dehydrated_onion': <tf.Tensor 'ExpandDims_228:0' shape=(None, 1) dtype=int64>, 'demi_glace': <tf.Tensor 'ExpandDims_229:0' shape=(None, 1) dtype=int64>, 'dill': <tf.Tensor 'ExpandDims_230:0' shape=(None, 1) dtype=int64>, 'dried_apricot': <tf.Tensor 'ExpandDims_231:0' shape=(None, 1) dtype=int64>, 'dried_chile_pepper': <tf.Tensor 'ExpandDims_232:0' shape=(None, 1) dtype=int64>, 'dripping': <tf.Tensor 'ExpandDims_233:0' shape=(None, 1) dtype=int64>, 'duck': <tf.Tensor 'ExpandDims_234:0' shape=(None, 1) dtype=int64>, 'edamame': <tf.Tensor 'ExpandDims_235:0' shape=(None, 1) dtype=int64>, 'eel': <tf.Tensor 'ExpandDims_236:0' shape=(None, 1) dtype=int64>, 'egg': <tf.Tensor 'ExpandDims_237:0' shape=(None, 1) dtype=int64>, 'egg_noodles': <tf.Tensor 'ExpandDims_238:0' shape=(None, 1) dtype=int64>, 'egg_roll_wraps': <tf.Tensor 'ExpandDims_239:0' shape=(None, 1) dtype=int64>, 'egg_substitute': <tf.Tensor 'ExpandDims_240:0' shape=(None, 1) dtype=int64>, 'eggplant': <tf.Tensor 'ExpandDims_241:0' shape=(None, 1) dtype=int64>, 'emeril': <tf.Tensor 'ExpandDims_242:0' shape=(None, 1) dtype=int64>, 'emmenthaler_cheese': <tf.Tensor 'ExpandDims_243:0' shape=(None, 1) dtype=int64>, 'enchilada_sauce': <tf.Tensor 'ExpandDims_244:0' shape=(None, 1) dtype=int64>, 'endive': <tf.Tensor 'ExpandDims_245:0' shape=(None, 1) dtype=int64>, 'english_muffin': <tf.Tensor 'ExpandDims_246:0' shape=(None, 1) dtype=int64>, 'english_mustard': <tf.Tensor 'ExpandDims_247:0' shape=(None, 1) dtype=int64>, 'enoki_mushroom': <tf.Tensor 'ExpandDims_248:0' shape=(None, 1) dtype=int64>, 'epazote': <tf.Tensor 'ExpandDims_249:0' shape=(None, 1) dtype=int64>, 'evaporated_milk': <tf.Tensor 'ExpandDims_250:0' shape=(None, 1) dtype=int64>, 'fajita_seasoning_mix': <tf.Tensor 'ExpandDims_251:0' shape=(None, 1) dtype=int64>, 'fat-free_refried_beans': <tf.Tensor 'ExpandDims_252:0' shape=(None, 1) dtype=int64>, 'fava_bean': <tf.Tensor 'ExpandDims_253:0' shape=(None, 1) dtype=int64>, 'fennel': <tf.Tensor 'ExpandDims_254:0' shape=(None, 1) dtype=int64>, 'fennel_seeds': <tf.Tensor 'ExpandDims_255:0' shape=(None, 1) dtype=int64>, 'fenugreek': <tf.Tensor 'ExpandDims_256:0' shape=(None, 1) dtype=int64>, 'fermented_black_bean': <tf.Tensor 'ExpandDims_257:0' shape=(None, 1) dtype=int64>, 'feta_cheese': <tf.Tensor 'ExpandDims_258:0' shape=(None, 1) dtype=int64>, 'fig': <tf.Tensor 'ExpandDims_259:0' shape=(None, 1) dtype=int64>, 'filet_mignon': <tf.Tensor 'ExpandDims_260:0' shape=(None, 1) dtype=int64>, 'fire_oil': <tf.Tensor 'ExpandDims_261:0' shape=(None, 1) dtype=int64>, 'fish': <tf.Tensor 'ExpandDims_262:0' shape=(None, 1) dtype=int64>, 'fish_sauce': <tf.Tensor 'ExpandDims_263:0' shape=(None, 1) dtype=int64>, 'fish_stock': <tf.Tensor 'ExpandDims_264:0' shape=(None, 1) dtype=int64>, 'five_spice_powder': <tf.Tensor 'ExpandDims_265:0' shape=(None, 1) dtype=int64>, 'flat_bread': <tf.Tensor 'ExpandDims_266:0' shape=(None, 1) dtype=int64>, 'flax_seed': <tf.Tensor 'ExpandDims_267:0' shape=(None, 1) dtype=int64>, 'flounder': <tf.Tensor 'ExpandDims_268:0' shape=(None, 1) dtype=int64>, 'flour': <tf.Tensor 'ExpandDims_269:0' shape=(None, 1) dtype=int64>, 'fontina_cheese': <tf.Tensor 'ExpandDims_270:0' shape=(None, 1) dtype=int64>, 'French_beans': <tf.Tensor 'ExpandDims_2:0' shape=(None, 1) dtype=int64>, 'French_bread': <tf.Tensor 'ExpandDims_3:0' shape=(None, 1) dtype=int64>, 'French_dressing': <tf.Tensor 'ExpandDims_4:0' shape=(None, 1) dtype=int64>, 'french_style_green_bean': <tf.Tensor 'ExpandDims_271:0' shape=(None, 1) dtype=int64>, 'fresh_button_mushroom': <tf.Tensor 'ExpandDims_272:0' shape=(None, 1) dtype=int64>, 'frozen_edamame': <tf.Tensor 'ExpandDims_273:0' shape=(None, 1) dtype=int64>, 'fusilli': <tf.Tensor 'ExpandDims_274:0' shape=(None, 1) dtype=int64>, 'galangal': <tf.Tensor 'ExpandDims_275:0' shape=(None, 1) dtype=int64>, 'garlic': <tf.Tensor 'ExpandDims_276:0' shape=(None, 1) dtype=int64>, 'garlic_butter': <tf.Tensor 'ExpandDims_277:0' shape=(None, 1) dtype=int64>, 'garlic_pepper_seasoning': <tf.Tensor 'ExpandDims_278:0' shape=(None, 1) dtype=int64>, 'garlic_powder': <tf.Tensor 'ExpandDims_279:0' shape=(None, 1) dtype=int64>, 'garlic_salt': <tf.Tensor 'ExpandDims_280:0' shape=(None, 1) dtype=int64>, 'gelatin': <tf.Tensor 'ExpandDims_281:0' shape=(None, 1) dtype=int64>, 'genoa_salami': <tf.Tensor 'ExpandDims_282:0' shape=(None, 1) dtype=int64>, 'ghee': <tf.Tensor 'ExpandDims_283:0' shape=(None, 1) dtype=int64>, 'ginger': <tf.Tensor 'ExpandDims_284:0' shape=(None, 1) dtype=int64>, 'ginger-garlic_paste': <tf.Tensor 'ExpandDims_285:0' shape=(None, 1) dtype=int64>, 'gingersnap_cookie': <tf.Tensor 'ExpandDims_286:0' shape=(None, 1) dtype=int64>, 'gingersnaps': <tf.Tensor 'ExpandDims_287:0' shape=(None, 1) dtype=int64>, 'gloucester': <tf.Tensor 'ExpandDims_288:0' shape=(None, 1) dtype=int64>, 'gluten': <tf.Tensor 'ExpandDims_289:0' shape=(None, 1) dtype=int64>, 'goat_cheese': <tf.Tensor 'ExpandDims_290:0' shape=(None, 1) dtype=int64>, 'golden_syrup': <tf.Tensor 'ExpandDims_291:0' shape=(None, 1) dtype=int64>, 'goose': <tf.Tensor 'ExpandDims_292:0' shape=(None, 1) dtype=int64>, 'gorgonzola': <tf.Tensor 'ExpandDims_293:0' shape=(None, 1) dtype=int64>, 'gouda': <tf.Tensor 'ExpandDims_294:0' shape=(None, 1) dtype=int64>, 'grand_marnier': <tf.Tensor 'ExpandDims_295:0' shape=(None, 1) dtype=int64>, 'granulated_garlic': <tf.Tensor 'ExpandDims_296:0' shape=(None, 1) dtype=int64>, 'grape': <tf.Tensor 'ExpandDims_297:0' shape=(None, 1) dtype=int64>, 'grapefruit': <tf.Tensor 'ExpandDims_298:0' shape=(None, 1) dtype=int64>, 'grapeseed_oil': <tf.Tensor 'ExpandDims_299:0' shape=(None, 1) dtype=int64>, 'grating_cheese': <tf.Tensor 'ExpandDims_300:0' shape=(None, 1) dtype=int64>, 'gravy': <tf.Tensor 'ExpandDims_301:0' shape=(None, 1) dtype=int64>, 'great_northern_bean': <tf.Tensor 'ExpandDims_302:0' shape=(None, 1) dtype=int64>, 'Greek_salad_dressing': <tf.Tensor 'ExpandDims_5:0' shape=(None, 1) dtype=int64>, 'green_bean': <tf.Tensor 'ExpandDims_303:0' shape=(None, 1) dtype=int64>, 'green_olive': <tf.Tensor 'ExpandDims_304:0' shape=(None, 1) dtype=int64>, 'green_onion': <tf.Tensor 'ExpandDims_305:0' shape=(None, 1) dtype=int64>, 'greens': <tf.Tensor 'ExpandDims_306:0' shape=(None, 1) dtype=int64>, 'ground_meat': <tf.Tensor 'ExpandDims_307:0' shape=(None, 1) dtype=int64>, 'ground_round': <tf.Tensor 'ExpandDims_308:0' shape=(None, 1) dtype=int64>, 'gruyere': <tf.Tensor 'ExpandDims_309:0' shape=(None, 1) dtype=int64>, 'guacamole': <tf.Tensor 'ExpandDims_310:0' shape=(None, 1) dtype=int64>, 'Guinness_stout': <tf.Tensor 'ExpandDims_6:0' shape=(None, 1) dtype=int64>, 'gumbo': <tf.Tensor 'ExpandDims_311:0' shape=(None, 1) dtype=int64>, 'habanero_chile': <tf.Tensor 'ExpandDims_312:0' shape=(None, 1) dtype=int64>, 'haddock': <tf.Tensor 'ExpandDims_313:0' shape=(None, 1) dtype=int64>, 'hake_fillets': <tf.Tensor 'ExpandDims_314:0' shape=(None, 1) dtype=int64>, 'half_and_half': <tf.Tensor 'ExpandDims_315:0' shape=(None, 1) dtype=int64>, 'halibut': <tf.Tensor 'ExpandDims_316:0' shape=(None, 1) dtype=int64>, 'ham': <tf.Tensor 'ExpandDims_317:0' shape=(None, 1) dtype=int64>, 'ham_hock': <tf.Tensor 'ExpandDims_318:0' shape=(None, 1) dtype=int64>, 'hamburger': <tf.Tensor 'ExpandDims_319:0' shape=(None, 1) dtype=int64>, 'harissa': <tf.Tensor 'ExpandDims_320:0' shape=(None, 1) dtype=int64>, 'hash_browns': <tf.Tensor 'ExpandDims_321:0' shape=(None, 1) dtype=int64>, 'havarti': <tf.Tensor 'ExpandDims_322:0' shape=(None, 1) dtype=int64>, 'hazelnut': <tf.Tensor 'ExpandDims_323:0' shape=(None, 1) dtype=int64>, 'heavy_cream': <tf.Tensor 'ExpandDims_324:0' shape=(None, 1) dtype=int64>, 'herb': <tf.Tensor 'ExpandDims_325:0' shape=(None, 1) dtype=int64>, 'herbes_de_provence': <tf.Tensor 'ExpandDims_326:0' shape=(None, 1) dtype=int64>, 'hoagie_rolls': <tf.Tensor 'ExpandDims_327:0' shape=(None, 1) dtype=int64>, 'hoisin_sauce': <tf.Tensor 'ExpandDims_328:0' shape=(None, 1) dtype=int64>, 'hokkien_noodles': <tf.Tensor 'ExpandDims_329:0' shape=(None, 1) dtype=int64>, 'hominy': <tf.Tensor 'ExpandDims_330:0' shape=(None, 1) dtype=int64>, 'honey': <tf.Tensor 'ExpandDims_331:0' shape=(None, 1) dtype=int64>, 'honey_mustard': <tf.Tensor 'ExpandDims_332:0' shape=(None, 1) dtype=int64>, 'horseradish': <tf.Tensor 'ExpandDims_333:0' shape=(None, 1) dtype=int64>, 'horseradish_sauce': <tf.Tensor 'ExpandDims_334:0' shape=(None, 1) dtype=int64>, 'hot_bean_paste': <tf.Tensor 'ExpandDims_335:0' shape=(None, 1) dtype=int64>, 'hot_pepper_sauce': <tf.Tensor 'ExpandDims_336:0' shape=(None, 1) dtype=int64>, 'hummus': <tf.Tensor 'ExpandDims_337:0' shape=(None, 1) dtype=int64>, 'ice_water': <tf.Tensor 'ExpandDims_338:0' shape=(None, 1) dtype=int64>, 'Italian_bread': <tf.Tensor 'ExpandDims_7:0' shape=(None, 1) dtype=int64>, 'Italian_breadcrumbs': <tf.Tensor 'ExpandDims_8:0' shape=(None, 1) dtype=int64>, 'Italian_rolls': <tf.Tensor 'ExpandDims_9:0' shape=(None, 1) dtype=int64>, 'Italian_salad_dressing': <tf.Tensor 'ExpandDims_10:0' shape=(None, 1) dtype=int64>, 'Italian_spices': <tf.Tensor 'ExpandDims_11:0' shape=(None, 1) dtype=int64>, 'jack_cheese': <tf.Tensor 'ExpandDims_339:0' shape=(None, 1) dtype=int64>, 'jaggery': <tf.Tensor 'ExpandDims_340:0' shape=(None, 1) dtype=int64>, 'jalapeno_pepper': <tf.Tensor 'ExpandDims_341:0' shape=(None, 1) dtype=int64>, 'Japanese_breadcrumbs': <tf.Tensor 'ExpandDims_12:0' shape=(None, 1) dtype=int64>, 'jasmine_rice': <tf.Tensor 'ExpandDims_342:0' shape=(None, 1) dtype=int64>, 'jicama': <tf.Tensor 'ExpandDims_343:0' shape=(None, 1) dtype=int64>, 'juniper_berries': <tf.Tensor 'ExpandDims_344:0' shape=(None, 1) dtype=int64>, 'kaffir_lime': <tf.Tensor 'ExpandDims_345:0' shape=(None, 1) dtype=int64>, 'kalamata_olive': <tf.Tensor 'ExpandDims_346:0' shape=(None, 1) dtype=int64>, 'kale': <tf.Tensor 'ExpandDims_347:0' shape=(None, 1) dtype=int64>, 'kamaboko': <tf.Tensor 'ExpandDims_348:0' shape=(None, 1) dtype=int64>, 'ketchup': <tf.Tensor 'ExpandDims_349:0' shape=(None, 1) dtype=int64>, 'ketjap_manis': <tf.Tensor 'ExpandDims_350:0' shape=(None, 1) dtype=int64>, 'kidney_bean': <tf.Tensor 'ExpandDims_351:0' shape=(None, 1) dtype=int64>, 'kielbasa': <tf.Tensor 'ExpandDims_352:0' shape=(None, 1) dtype=int64>, 'kohlrabi': <tf.Tensor 'ExpandDims_353:0' shape=(None, 1) dtype=int64>, 'kumquat': <tf.Tensor 'ExpandDims_354:0' shape=(None, 1) dtype=int64>, 'lamb': <tf.Tensor 'ExpandDims_355:0' shape=(None, 1) dtype=int64>, 'lambs_kidney': <tf.Tensor 'ExpandDims_356:0' shape=(None, 1) dtype=int64>, 'lancashire_cheese': <tf.Tensor 'ExpandDims_357:0' shape=(None, 1) dtype=int64>, 'lard': <tf.Tensor 'ExpandDims_358:0' shape=(None, 1) dtype=int64>, 'lardon': <tf.Tensor 'ExpandDims_359:0' shape=(None, 1) dtype=int64>, 'lasagna_noodles': <tf.Tensor 'ExpandDims_360:0' shape=(None, 1) dtype=int64>, 'leek': <tf.Tensor 'ExpandDims_361:0' shape=(None, 1) dtype=int64>, 'lemon': <tf.Tensor 'ExpandDims_362:0' shape=(None, 1) dtype=int64>, 'lemon_grass': <tf.Tensor 'ExpandDims_363:0' shape=(None, 1) dtype=int64>, 'lemon_juice': <tf.Tensor 'ExpandDims_364:0' shape=(None, 1) dtype=int64>, 'lentil': <tf.Tensor 'ExpandDims_365:0' shape=(None, 1) dtype=int64>, 'lettuce': <tf.Tensor 'ExpandDims_366:0' shape=(None, 1) dtype=int64>, 'lima_bean': <tf.Tensor 'ExpandDims_367:0' shape=(None, 1) dtype=int64>, 'lime': <tf.Tensor 'ExpandDims_368:0' shape=(None, 1) dtype=int64>, 'liver': <tf.Tensor 'ExpandDims_369:0' shape=(None, 1) dtype=int64>, 'lobster': <tf.Tensor 'ExpandDims_370:0' shape=(None, 1) dtype=int64>, 'long_grain_and_wild_rice_blend': <tf.Tensor 'ExpandDims_371:0' shape=(None, 1) dtype=int64>, 'lotus': <tf.Tensor 'ExpandDims_372:0' shape=(None, 1) dtype=int64>, 'macaroni': <tf.Tensor 'ExpandDims_373:0' shape=(None, 1) dtype=int64>, 'mace': <tf.Tensor 'ExpandDims_374:0' shape=(None, 1) dtype=int64>, 'mackerel': <tf.Tensor 'ExpandDims_375:0' shape=(None, 1) dtype=int64>, 'madeira': <tf.Tensor 'ExpandDims_376:0' shape=(None, 1) dtype=int64>, 'mahi_mahi': <tf.Tensor 'ExpandDims_377:0' shape=(None, 1) dtype=int64>, 'malt_vinegar': <tf.Tensor 'ExpandDims_378:0' shape=(None, 1) dtype=int64>, 'mandarin_orange': <tf.Tensor 'ExpandDims_379:0' shape=(None, 1) dtype=int64>, 'mange_tout': <tf.Tensor 'ExpandDims_380:0' shape=(None, 1) dtype=int64>, 'mango': <tf.Tensor 'ExpandDims_381:0' shape=(None, 1) dtype=int64>, 'manicotti': <tf.Tensor 'ExpandDims_382:0' shape=(None, 1) dtype=int64>, 'manzanilla_olive': <tf.Tensor 'ExpandDims_383:0' shape=(None, 1) dtype=int64>, 'maple_syrup': <tf.Tensor 'ExpandDims_384:0' shape=(None, 1) dtype=int64>, 'margarine': <tf.Tensor 'ExpandDims_385:0' shape=(None, 1) dtype=int64>, 'marinara_sauce': <tf.Tensor 'ExpandDims_386:0' shape=(None, 1) dtype=int64>, 'marjoram': <tf.Tensor 'ExpandDims_387:0' shape=(None, 1) dtype=int64>, 'marmalade': <tf.Tensor 'ExpandDims_388:0' shape=(None, 1) dtype=int64>, 'marmite': <tf.Tensor 'ExpandDims_389:0' shape=(None, 1) dtype=int64>, 'marsala': <tf.Tensor 'ExpandDims_390:0' shape=(None, 1) dtype=int64>, 'masa_harina': <tf.Tensor 'ExpandDims_391:0' shape=(None, 1) dtype=int64>, 'masala': <tf.Tensor 'ExpandDims_392:0' shape=(None, 1) dtype=int64>, 'mascarpone': <tf.Tensor 'ExpandDims_393:0' shape=(None, 1) dtype=int64>, 'masoor_dal': <tf.Tensor 'ExpandDims_394:0' shape=(None, 1) dtype=int64>, 'mayonnaise': <tf.Tensor 'ExpandDims_395:0' shape=(None, 1) dtype=int64>, 'meat_stock': <tf.Tensor 'ExpandDims_396:0' shape=(None, 1) dtype=int64>, 'meatloaf_mix': <tf.Tensor 'ExpandDims_397:0' shape=(None, 1) dtype=int64>, 'Mexican_blend_cheese': <tf.Tensor 'ExpandDims_13:0' shape=(None, 1) dtype=int64>, 'mexicorn': <tf.Tensor 'ExpandDims_398:0' shape=(None, 1) dtype=int64>, 'milk': <tf.Tensor 'ExpandDims_399:0' shape=(None, 1) dtype=int64>, 'mint': <tf.Tensor 'ExpandDims_400:0' shape=(None, 1) dtype=int64>, 'miracle_whip_dressing': <tf.Tensor 'ExpandDims_401:0' shape=(None, 1) dtype=int64>, 'miso': <tf.Tensor 'ExpandDims_402:0' shape=(None, 1) dtype=int64>, 'mixed_spice': <tf.Tensor 'ExpandDims_403:0' shape=(None, 1) dtype=int64>, 'mizithra_cheese': <tf.Tensor 'ExpandDims_404:0' shape=(None, 1) dtype=int64>, 'molasses': <tf.Tensor 'ExpandDims_405:0' shape=(None, 1) dtype=int64>, 'monosodium_glutamate': <tf.Tensor 'ExpandDims_406:0' shape=(None, 1) dtype=int64>, 'moroccan_seasoning': <tf.Tensor 'ExpandDims_407:0' shape=(None, 1) dtype=int64>, 'mortadella': <tf.Tensor 'ExpandDims_408:0' shape=(None, 1) dtype=int64>, 'mozzarella': <tf.Tensor 'ExpandDims_409:0' shape=(None, 1) dtype=int64>, 'mung_beans': <tf.Tensor 'ExpandDims_410:0' shape=(None, 1) dtype=int64>, 'muscovado_sugar': <tf.Tensor 'ExpandDims_411:0' shape=(None, 1) dtype=int64>, 'mushroom': <tf.Tensor 'ExpandDims_412:0' shape=(None, 1) dtype=int64>, 'mushroom_soup': <tf.Tensor 'ExpandDims_413:0' shape=(None, 1) dtype=int64>, 'mussel': <tf.Tensor 'ExpandDims_414:0' shape=(None, 1) dtype=int64>, 'mustard_oil': <tf.Tensor 'ExpandDims_415:0' shape=(None, 1) dtype=int64>, 'mustard_prepared': <tf.Tensor 'ExpandDims_416:0' shape=(None, 1) dtype=int64>, 'mustard_seed_and_powder': <tf.Tensor 'ExpandDims_417:0' shape=(None, 1) dtype=int64>, 'navy_bean': <tf.Tensor 'ExpandDims_418:0' shape=(None, 1) dtype=int64>, 'nectarine': <tf.Tensor 'ExpandDims_419:0' shape=(None, 1) dtype=int64>, 'nigella_seeds': <tf.Tensor 'ExpandDims_420:0' shape=(None, 1) dtype=int64>, 'nori': <tf.Tensor 'ExpandDims_421:0' shape=(None, 1) dtype=int64>, 'nutmeg': <tf.Tensor 'ExpandDims_422:0' shape=(None, 1) dtype=int64>, 'oatmeal': <tf.Tensor 'ExpandDims_423:0' shape=(None, 1) dtype=int64>, 'okra': <tf.Tensor 'ExpandDims_424:0' shape=(None, 1) dtype=int64>, 'Old_Bay_Seasoning': <tf.Tensor 'ExpandDims_14:0' shape=(None, 1) dtype=int64>, 'olive': <tf.Tensor 'ExpandDims_425:0' shape=(None, 1) dtype=int64>, 'olive_oil': <tf.Tensor 'ExpandDims_426:0' shape=(None, 1) dtype=int64>, 'onion': <tf.Tensor 'ExpandDims_427:0' shape=(None, 1) dtype=int64>, 'onion_powder': <tf.Tensor 'ExpandDims_428:0' shape=(None, 1) dtype=int64>, 'onion_soup': <tf.Tensor 'ExpandDims_429:0' shape=(None, 1) dtype=int64>, 'orange': <tf.Tensor 'ExpandDims_430:0' shape=(None, 1) dtype=int64>, 'orange_juice': <tf.Tensor 'ExpandDims_431:0' shape=(None, 1) dtype=int64>, 'orange_rind': <tf.Tensor 'ExpandDims_432:0' shape=(None, 1) dtype=int64>, 'oregano': <tf.Tensor 'ExpandDims_433:0' shape=(None, 1) dtype=int64>, 'oxtails': <tf.Tensor 'ExpandDims_434:0' shape=(None, 1) dtype=int64>, 'oyster_sauce': <tf.Tensor 'ExpandDims_435:0' shape=(None, 1) dtype=int64>, 'oysters': <tf.Tensor 'ExpandDims_436:0' shape=(None, 1) dtype=int64>, 'Pace_Picante_Sauce': <tf.Tensor 'ExpandDims_15:0' shape=(None, 1) dtype=int64>, 'palm_sugar': <tf.Tensor 'ExpandDims_437:0' shape=(None, 1) dtype=int64>, 'pancetta': <tf.Tensor 'ExpandDims_438:0' shape=(None, 1) dtype=int64>, 'panir': <tf.Tensor 'ExpandDims_439:0' shape=(None, 1) dtype=int64>, 'panko': <tf.Tensor 'ExpandDims_440:0' shape=(None, 1) dtype=int64>, 'papaya': <tf.Tensor 'ExpandDims_441:0' shape=(None, 1) dtype=int64>, 'paprika': <tf.Tensor 'ExpandDims_442:0' shape=(None, 1) dtype=int64>, 'parchment_paper': <tf.Tensor 'ExpandDims_443:0' shape=(None, 1) dtype=int64>, 'parmesan_cheese': <tf.Tensor 'ExpandDims_444:0' shape=(None, 1) dtype=int64>, 'parsley': <tf.Tensor 'ExpandDims_445:0' shape=(None, 1) dtype=int64>, 'parsnip': <tf.Tensor 'ExpandDims_446:0' shape=(None, 1) dtype=int64>, 'passata': <tf.Tensor 'ExpandDims_447:0' shape=(None, 1) dtype=int64>, 'pasta': <tf.Tensor 'ExpandDims_448:0' shape=(None, 1) dtype=int64>, 'pasta_sauce': <tf.Tensor 'ExpandDims_449:0' shape=(None, 1) dtype=int64>, 'pastis': <tf.Tensor 'ExpandDims_450:0' shape=(None, 1) dtype=int64>, 'pastry_dough': <tf.Tensor 'ExpandDims_451:0' shape=(None, 1) dtype=int64>, 'pea': <tf.Tensor 'ExpandDims_452:0' shape=(None, 1) dtype=int64>, 'peanut': <tf.Tensor 'ExpandDims_453:0' shape=(None, 1) dtype=int64>, 'peanut_butter': <tf.Tensor 'ExpandDims_454:0' shape=(None, 1) dtype=int64>, 'peanut_oil': <tf.Tensor 'ExpandDims_455:0' shape=(None, 1) dtype=int64>, 'peanut_sauce': <tf.Tensor 'ExpandDims_456:0' shape=(None, 1) dtype=int64>, 'pear': <tf.Tensor 'ExpandDims_457:0' shape=(None, 1) dtype=int64>, 'pearl_onion': <tf.Tensor 'ExpandDims_458:0' shape=(None, 1) dtype=int64>, 'pecan': <tf.Tensor 'ExpandDims_459:0' shape=(None, 1) dtype=int64>, 'pecorino_cheese': <tf.Tensor 'ExpandDims_460:0' shape=(None, 1) dtype=int64>, 'penne_rigate': <tf.Tensor 'ExpandDims_461:0' shape=(None, 1) dtype=int64>, 'pepper': <tf.Tensor 'ExpandDims_462:0' shape=(None, 1) dtype=int64>, 'pepperoncini_pepper': <tf.Tensor 'ExpandDims_463:0' shape=(None, 1) dtype=int64>, 'pepperoni': <tf.Tensor 'ExpandDims_464:0' shape=(None, 1) dtype=int64>, 'pesto': <tf.Tensor 'ExpandDims_465:0' shape=(None, 1) dtype=int64>, 'phyllo_dough': <tf.Tensor 'ExpandDims_466:0' shape=(None, 1) dtype=int64>, 'picante_sauce': <tf.Tensor 'ExpandDims_467:0' shape=(None, 1) dtype=int64>, 'pickle': <tf.Tensor 'ExpandDims_468:0' shape=(None, 1) dtype=int64>, 'pickling_spices': <tf.Tensor 'ExpandDims_469:0' shape=(None, 1) dtype=int64>, 'pie_crust': <tf.Tensor 'ExpandDims_470:0' shape=(None, 1) dtype=int64>, 'pierogi': <tf.Tensor 'ExpandDims_471:0' shape=(None, 1) dtype=int64>, 'pimiento': <tf.Tensor 'ExpandDims_472:0' shape=(None, 1) dtype=int64>, 'pine_nuts': <tf.Tensor 'ExpandDims_473:0' shape=(None, 1) dtype=int64>, 'pineapple': <tf.Tensor 'ExpandDims_474:0' shape=(None, 1) dtype=int64>, 'pink_bean': <tf.Tensor 'ExpandDims_475:0' shape=(None, 1) dtype=int64>, 'pinto_bean': <tf.Tensor 'ExpandDims_476:0' shape=(None, 1) dtype=int64>, 'piquillo_pepper': <tf.Tensor 'ExpandDims_477:0' shape=(None, 1) dtype=int64>, 'pistachio': <tf.Tensor 'ExpandDims_478:0' shape=(None, 1) dtype=int64>, 'pita_bread': <tf.Tensor 'ExpandDims_479:0' shape=(None, 1) dtype=int64>, 'pitted_prunes': <tf.Tensor 'ExpandDims_480:0' shape=(None, 1) dtype=int64>, 'pizza_crust': <tf.Tensor 'ExpandDims_481:0' shape=(None, 1) dtype=int64>, 'pizza_dough': <tf.Tensor 'ExpandDims_482:0' shape=(None, 1) dtype=int64>, 'pizza_sauce': <tf.Tensor 'ExpandDims_483:0' shape=(None, 1) dtype=int64>, 'plum': <tf.Tensor 'ExpandDims_484:0' shape=(None, 1) dtype=int64>, 'plum_tomato': <tf.Tensor 'ExpandDims_485:0' shape=(None, 1) dtype=int64>, 'poblano_pepper': <tf.Tensor 'ExpandDims_486:0' shape=(None, 1) dtype=int64>, 'polenta': <tf.Tensor 'ExpandDims_487:0' shape=(None, 1) dtype=int64>, 'pomegranate': <tf.Tensor 'ExpandDims_488:0' shape=(None, 1) dtype=int64>, 'ponzu': <tf.Tensor 'ExpandDims_489:0' shape=(None, 1) dtype=int64>, 'poppy_seed': <tf.Tensor 'ExpandDims_490:0' shape=(None, 1) dtype=int64>, 'porcino': <tf.Tensor 'ExpandDims_491:0' shape=(None, 1) dtype=int64>, 'pork': <tf.Tensor 'ExpandDims_492:0' shape=(None, 1) dtype=int64>, 'portabella': <tf.Tensor 'ExpandDims_493:0' shape=(None, 1) dtype=int64>, 'potato': <tf.Tensor 'ExpandDims_494:0' shape=(None, 1) dtype=int64>, 'potato_starch': <tf.Tensor 'ExpandDims_495:0' shape=(None, 1) dtype=int64>, 'poultry_seasoning': <tf.Tensor 'ExpandDims_496:0' shape=(None, 1) dtype=int64>, 'powdered_sugar': <tf.Tensor 'ExpandDims_497:0' shape=(None, 1) dtype=int64>, 'prawn': <tf.Tensor 'ExpandDims_498:0' shape=(None, 1) dtype=int64>, 'prepared_horseradish': <tf.Tensor 'ExpandDims_499:0' shape=(None, 1) dtype=int64>, 'preserved_lemon': <tf.Tensor 'ExpandDims_500:0' shape=(None, 1) dtype=int64>, 'processed_cheese': <tf.Tensor 'ExpandDims_501:0' shape=(None, 1) dtype=int64>, 'prosciutto': <tf.Tensor 'ExpandDims_502:0' shape=(None, 1) dtype=int64>, 'provolone': <tf.Tensor 'ExpandDims_503:0' shape=(None, 1) dtype=int64>, 'prune': <tf.Tensor 'ExpandDims_504:0' shape=(None, 1) dtype=int64>, 'puff_pastry': <tf.Tensor 'ExpandDims_505:0' shape=(None, 1) dtype=int64>, 'pumpkin': <tf.Tensor 'ExpandDims_506:0' shape=(None, 1) dtype=int64>, 'pumpkin_pie_spice': <tf.Tensor 'ExpandDims_507:0' shape=(None, 1) dtype=int64>, 'quark': <tf.Tensor 'ExpandDims_508:0' shape=(None, 1) dtype=int64>, 'queso': <tf.Tensor 'ExpandDims_509:0' shape=(None, 1) dtype=int64>, 'quinoa': <tf.Tensor 'ExpandDims_510:0' shape=(None, 1) dtype=int64>, 'rabbit': <tf.Tensor 'ExpandDims_511:0' shape=(None, 1) dtype=int64>, 'radicchio': <tf.Tensor 'ExpandDims_512:0' shape=(None, 1) dtype=int64>, 'radish': <tf.Tensor 'ExpandDims_513:0' shape=(None, 1) dtype=int64>, 'raisin': <tf.Tensor 'ExpandDims_514:0' shape=(None, 1) dtype=int64>, 'ramen_noodles': <tf.Tensor 'ExpandDims_515:0' shape=(None, 1) dtype=int64>, 'Ranch_salad_dressing': <tf.Tensor 'ExpandDims_16:0' shape=(None, 1) dtype=int64>, 'rapeseed_oil': <tf.Tensor 'ExpandDims_516:0' shape=(None, 1) dtype=int64>, 'ras_el_hanout': <tf.Tensor 'ExpandDims_517:0' shape=(None, 1) dtype=int64>, 'raw_sugar': <tf.Tensor 'ExpandDims_518:0' shape=(None, 1) dtype=int64>, 'red_beans': <tf.Tensor 'ExpandDims_519:0' shape=(None, 1) dtype=int64>, 'red_chile_powder': <tf.Tensor 'ExpandDims_520:0' shape=(None, 1) dtype=int64>, 'red_food_coloring': <tf.Tensor 'ExpandDims_521:0' shape=(None, 1) dtype=int64>, 'red_pepper_flakes': <tf.Tensor 'ExpandDims_522:0' shape=(None, 1) dtype=int64>, 'red_pepper_sauce': <tf.Tensor 'ExpandDims_523:0' shape=(None, 1) dtype=int64>, 'red_snapper': <tf.Tensor 'ExpandDims_524:0' shape=(None, 1) dtype=int64>, 'refried_beans': <tf.Tensor 'ExpandDims_525:0' shape=(None, 1) dtype=int64>, 'rhubarb': <tf.Tensor 'ExpandDims_526:0' shape=(None, 1) dtype=int64>, 'rice': <tf.Tensor 'ExpandDims_527:0' shape=(None, 1) dtype=int64>, 'rice_flour': <tf.Tensor 'ExpandDims_528:0' shape=(None, 1) dtype=int64>, 'rice_noodles': <tf.Tensor 'ExpandDims_529:0' shape=(None, 1) dtype=int64>, 'rice_vermicelli': <tf.Tensor 'ExpandDims_530:0' shape=(None, 1) dtype=int64>, 'rice_vinegar': <tf.Tensor 'ExpandDims_531:0' shape=(None, 1) dtype=int64>, 'rice_wine': <tf.Tensor 'ExpandDims_532:0' shape=(None, 1) dtype=int64>, 'ricotta_cheese': <tf.Tensor 'ExpandDims_533:0' shape=(None, 1) dtype=int64>, 'roll': <tf.Tensor 'ExpandDims_534:0' shape=(None, 1) dtype=int64>, 'romaine_lettuce': <tf.Tensor 'ExpandDims_535:0' shape=(None, 1) dtype=int64>, 'romano_cheese': <tf.Tensor 'ExpandDims_536:0' shape=(None, 1) dtype=int64>, 'rose_water': <tf.Tensor 'ExpandDims_537:0' shape=(None, 1) dtype=int64>, 'rosemary': <tf.Tensor 'ExpandDims_538:0' shape=(None, 1) dtype=int64>, 'rotel_tomatoes': <tf.Tensor 'ExpandDims_539:0' shape=(None, 1) dtype=int64>, 'rum': <tf.Tensor 'ExpandDims_540:0' shape=(None, 1) dtype=int64>, 'rutabaga': <tf.Tensor 'ExpandDims_541:0' shape=(None, 1) dtype=int64>, 'rye_bread': <tf.Tensor 'ExpandDims_542:0' shape=(None, 1) dtype=int64>, 'saffron': <tf.Tensor 'ExpandDims_543:0' shape=(None, 1) dtype=int64>, 'sage': <tf.Tensor 'ExpandDims_544:0' shape=(None, 1) dtype=int64>, 'salmon': <tf.Tensor 'ExpandDims_545:0' shape=(None, 1) dtype=int64>, 'salsa': <tf.Tensor 'ExpandDims_546:0' shape=(None, 1) dtype=int64>, 'salsify': <tf.Tensor 'ExpandDims_547:0' shape=(None, 1) dtype=int64>, 'salt': <tf.Tensor 'ExpandDims_548:0' shape=(None, 1) dtype=int64>, 'salt_pork': <tf.Tensor 'ExpandDims_549:0' shape=(None, 1) dtype=int64>, 'sambal': <tf.Tensor 'ExpandDims_550:0' shape=(None, 1) dtype=int64>, 'sardine': <tf.Tensor 'ExpandDims_551:0' shape=(None, 1) dtype=int64>, 'satay': <tf.Tensor 'ExpandDims_552:0' shape=(None, 1) dtype=int64>, 'sauerkraut': <tf.Tensor 'ExpandDims_553:0' shape=(None, 1) dtype=int64>, 'sausage': <tf.Tensor 'ExpandDims_554:0' shape=(None, 1) dtype=int64>, 'savory': <tf.Tensor 'ExpandDims_555:0' shape=(None, 1) dtype=int64>, 'sazon': <tf.Tensor 'ExpandDims_556:0' shape=(None, 1) dtype=int64>, 'sazon_goya': <tf.Tensor 'ExpandDims_557:0' shape=(None, 1) dtype=int64>, 'scallop': <tf.Tensor 'ExpandDims_558:0' shape=(None, 1) dtype=int64>, 'screwpine_leaves': <tf.Tensor 'ExpandDims_559:0' shape=(None, 1) dtype=int64>, 'sea_cucumber': <tf.Tensor 'ExpandDims_560:0' shape=(None, 1) dtype=int64>, 'seafood': <tf.Tensor 'ExpandDims_561:0' shape=(None, 1) dtype=int64>, 'seitan': <tf.Tensor 'ExpandDims_562:0' shape=(None, 1) dtype=int64>, 'semolina': <tf.Tensor 'ExpandDims_563:0' shape=(None, 1) dtype=int64>, 'serrano_pepper': <tf.Tensor 'ExpandDims_564:0' shape=(None, 1) dtype=int64>, 'sesame_oil': <tf.Tensor 'ExpandDims_565:0' shape=(None, 1) dtype=int64>, 'sesame_seed': <tf.Tensor 'ExpandDims_566:0' shape=(None, 1) dtype=int64>, 'shallot': <tf.Tensor 'ExpandDims_567:0' shape=(None, 1) dtype=int64>, 'sherry': <tf.Tensor 'ExpandDims_568:0' shape=(None, 1) dtype=int64>, 'shimeji_mushroom': <tf.Tensor 'ExpandDims_569:0' shape=(None, 1) dtype=int64>, 'shirataki_noodles': <tf.Tensor 'ExpandDims_570:0' shape=(None, 1) dtype=int64>, 'shitake': <tf.Tensor 'ExpandDims_571:0' shape=(None, 1) dtype=int64>, 'shortcrust_pastry': <tf.Tensor 'ExpandDims_572:0' shape=(None, 1) dtype=int64>, 'shortening': <tf.Tensor 'ExpandDims_573:0' shape=(None, 1) dtype=int64>, 'shoyu': <tf.Tensor 'ExpandDims_574:0' shape=(None, 1) dtype=int64>, 'shrimp': <tf.Tensor 'ExpandDims_575:0' shape=(None, 1) dtype=int64>, 'shrimp_paste': <tf.Tensor 'ExpandDims_576:0' shape=(None, 1) dtype=int64>, 'sliced_pepperoni': <tf.Tensor 'ExpandDims_577:0' shape=(None, 1) dtype=int64>, 'smen': <tf.Tensor 'ExpandDims_578:0' shape=(None, 1) dtype=int64>, 'smoke_seasoning': <tf.Tensor 'ExpandDims_579:0' shape=(None, 1) dtype=int64>, 'smoked_salmon': <tf.Tensor 'ExpandDims_580:0' shape=(None, 1) dtype=int64>, 'snap_pea': <tf.Tensor 'ExpandDims_581:0' shape=(None, 1) dtype=int64>, 'snow_pea': <tf.Tensor 'ExpandDims_582:0' shape=(None, 1) dtype=int64>, 'soba_noodles': <tf.Tensor 'ExpandDims_583:0' shape=(None, 1) dtype=int64>, 'sofrito_sauce': <tf.Tensor 'ExpandDims_584:0' shape=(None, 1) dtype=int64>, 'sole': <tf.Tensor 'ExpandDims_585:0' shape=(None, 1) dtype=int64>, 'sorrel': <tf.Tensor 'ExpandDims_586:0' shape=(None, 1) dtype=int64>, 'sour_cream': <tf.Tensor 'ExpandDims_587:0' shape=(None, 1) dtype=int64>, 'sourdough_bread': <tf.Tensor 'ExpandDims_588:0' shape=(None, 1) dtype=int64>, 'soy_sauce': <tf.Tensor 'ExpandDims_589:0' shape=(None, 1) dtype=int64>, 'soybean': <tf.Tensor 'ExpandDims_590:0' shape=(None, 1) dtype=int64>, 'soymilk': <tf.Tensor 'ExpandDims_591:0' shape=(None, 1) dtype=int64>, 'spaetzle': <tf.Tensor 'ExpandDims_592:0' shape=(None, 1) dtype=int64>, 'spaghetti_squash': <tf.Tensor 'ExpandDims_593:0' shape=(None, 1) dtype=int64>, 'spanish_cheese': <tf.Tensor 'ExpandDims_594:0' shape=(None, 1) dtype=int64>, 'spanish_chorizo': <tf.Tensor 'ExpandDims_595:0' shape=(None, 1) dtype=int64>, 'spareribs': <tf.Tensor 'ExpandDims_596:0' shape=(None, 1) dtype=int64>, 'spearmint': <tf.Tensor 'ExpandDims_597:0' shape=(None, 1) dtype=int64>, 'specialty_cheese': <tf.Tensor 'ExpandDims_598:0' shape=(None, 1) dtype=int64>, 'spinach': <tf.Tensor 'ExpandDims_599:0' shape=(None, 1) dtype=int64>, 'squash': <tf.Tensor 'ExpandDims_600:0' shape=(None, 1) dtype=int64>, 'squid': <tf.Tensor 'ExpandDims_601:0' shape=(None, 1) dtype=int64>, 'sriracha_hot_sauce': <tf.Tensor 'ExpandDims_602:0' shape=(None, 1) dtype=int64>, 'star_anise': <tf.Tensor 'ExpandDims_603:0' shape=(None, 1) dtype=int64>, 'steaks': <tf.Tensor 'ExpandDims_604:0' shape=(None, 1) dtype=int64>, 'stilton': <tf.Tensor 'ExpandDims_605:0' shape=(None, 1) dtype=int64>, 'stir_fry_vegetables': <tf.Tensor 'ExpandDims_606:0' shape=(None, 1) dtype=int64>, 'stock': <tf.Tensor 'ExpandDims_607:0' shape=(None, 1) dtype=int64>, 'straw_mushroom': <tf.Tensor 'ExpandDims_608:0' shape=(None, 1) dtype=int64>, 'strawberry': <tf.Tensor 'ExpandDims_609:0' shape=(None, 1) dtype=int64>, 'stuffing': <tf.Tensor 'ExpandDims_610:0' shape=(None, 1) dtype=int64>, 'suet': <tf.Tensor 'ExpandDims_611:0' shape=(None, 1) dtype=int64>, 'sugar': <tf.Tensor 'ExpandDims_612:0' shape=(None, 1) dtype=int64>, 'sultana': <tf.Tensor 'ExpandDims_613:0' shape=(None, 1) dtype=int64>, 'sumac': <tf.Tensor 'ExpandDims_614:0' shape=(None, 1) dtype=int64>, 'sunflower_oil': <tf.Tensor 'ExpandDims_615:0' shape=(None, 1) dtype=int64>, 'sunflower_seed': <tf.Tensor 'ExpandDims_616:0' shape=(None, 1) dtype=int64>, 'sushi_rice': <tf.Tensor 'ExpandDims_617:0' shape=(None, 1) dtype=int64>, 'sweet_pepper': <tf.Tensor 'ExpandDims_618:0' shape=(None, 1) dtype=int64>, 'sweet_potato': <tf.Tensor 'ExpandDims_619:0' shape=(None, 1) dtype=int64>, 'swiss_cheese': <tf.Tensor 'ExpandDims_620:0' shape=(None, 1) dtype=int64>, 'swordfish': <tf.Tensor 'ExpandDims_621:0' shape=(None, 1) dtype=int64>, 'szechuan_peppercorn': <tf.Tensor 'ExpandDims_622:0' shape=(None, 1) dtype=int64>, 'tabasco_sauce': <tf.Tensor 'ExpandDims_623:0' shape=(None, 1) dtype=int64>, 'taco_seasoning': <tf.Tensor 'ExpandDims_624:0' shape=(None, 1) dtype=int64>, 'tahini': <tf.Tensor 'ExpandDims_625:0' shape=(None, 1) dtype=int64>, 'tamarind': <tf.Tensor 'ExpandDims_626:0' shape=(None, 1) dtype=int64>, 'tapioca': <tf.Tensor 'ExpandDims_627:0' shape=(None, 1) dtype=int64>, 'tarragon': <tf.Tensor 'ExpandDims_628:0' shape=(None, 1) dtype=int64>, 'tatsoi': <tf.Tensor 'ExpandDims_629:0' shape=(None, 1) dtype=int64>, 'tea': <tf.Tensor 'ExpandDims_630:0' shape=(None, 1) dtype=int64>, 'tempeh': <tf.Tensor 'ExpandDims_631:0' shape=(None, 1) dtype=int64>, 'tequila': <tf.Tensor 'ExpandDims_632:0' shape=(None, 1) dtype=int64>, 'teriyaki_marinade': <tf.Tensor 'ExpandDims_633:0' shape=(None, 1) dtype=int64>, 'teriyaki_sauce': <tf.Tensor 'ExpandDims_634:0' shape=(None, 1) dtype=int64>, 'Thai_chile_pepper': <tf.Tensor 'ExpandDims_17:0' shape=(None, 1) dtype=int64>, 'Thai_curry_paste': <tf.Tensor 'ExpandDims_18:0' shape=(None, 1) dtype=int64>, 'thousand_island_dressing': <tf.Tensor 'ExpandDims_635:0' shape=(None, 1) dtype=int64>, 'thyme': <tf.Tensor 'ExpandDims_636:0' shape=(None, 1) dtype=int64>, 'tilapia_fillets': <tf.Tensor 'ExpandDims_637:0' shape=(None, 1) dtype=int64>, 'tofu': <tf.Tensor 'ExpandDims_638:0' shape=(None, 1) dtype=int64>, 'togarashi': <tf.Tensor 'ExpandDims_639:0' shape=(None, 1) dtype=int64>, 'tomatillos': <tf.Tensor 'ExpandDims_640:0' shape=(None, 1) dtype=int64>, 'tomato': <tf.Tensor 'ExpandDims_641:0' shape=(None, 1) dtype=int64>, 'tomato_juice': <tf.Tensor 'ExpandDims_642:0' shape=(None, 1) dtype=int64>, 'tomato_paste': <tf.Tensor 'ExpandDims_643:0' shape=(None, 1) dtype=int64>, 'tomato_puree': <tf.Tensor 'ExpandDims_644:0' shape=(None, 1) dtype=int64>, 'tomato_sauce': <tf.Tensor 'ExpandDims_645:0' shape=(None, 1) dtype=int64>, 'tomato_soup': <tf.Tensor 'ExpandDims_646:0' shape=(None, 1) dtype=int64>, 'toor_dal': <tf.Tensor 'ExpandDims_647:0' shape=(None, 1) dtype=int64>, 'tortilla': <tf.Tensor 'ExpandDims_648:0' shape=(None, 1) dtype=int64>, 'trout': <tf.Tensor 'ExpandDims_649:0' shape=(None, 1) dtype=int64>, 'truffle': <tf.Tensor 'ExpandDims_650:0' shape=(None, 1) dtype=int64>, 'truffle_oil': <tf.Tensor 'ExpandDims_651:0' shape=(None, 1) dtype=int64>, 'tuna': <tf.Tensor 'ExpandDims_652:0' shape=(None, 1) dtype=int64>, 'turbinado_sugar': <tf.Tensor 'ExpandDims_653:0' shape=(None, 1) dtype=int64>, 'turkey': <tf.Tensor 'ExpandDims_654:0' shape=(None, 1) dtype=int64>, 'turmeric': <tf.Tensor 'ExpandDims_655:0' shape=(None, 1) dtype=int64>, 'turnip': <tf.Tensor 'ExpandDims_656:0' shape=(None, 1) dtype=int64>, 'udon_noodles': <tf.Tensor 'ExpandDims_657:0' shape=(None, 1) dtype=int64>, 'umeboshi': <tf.Tensor 'ExpandDims_658:0' shape=(None, 1) dtype=int64>, 'unsweetened_chocolate': <tf.Tensor 'ExpandDims_659:0' shape=(None, 1) dtype=int64>, 'urad_dal': <tf.Tensor 'ExpandDims_660:0' shape=(None, 1) dtype=int64>, 'vanilla': <tf.Tensor 'ExpandDims_661:0' shape=(None, 1) dtype=int64>, 'veal': <tf.Tensor 'ExpandDims_662:0' shape=(None, 1) dtype=int64>, 'vegan_brand_names': <tf.Tensor 'ExpandDims_663:0' shape=(None, 1) dtype=int64>, 'vegetable_juice': <tf.Tensor 'ExpandDims_664:0' shape=(None, 1) dtype=int64>, 'vegetable_oil': <tf.Tensor 'ExpandDims_665:0' shape=(None, 1) dtype=int64>, 'vegetable_stock': <tf.Tensor 'ExpandDims_666:0' shape=(None, 1) dtype=int64>, 'vegetarian_brand_names': <tf.Tensor 'ExpandDims_667:0' shape=(None, 1) dtype=int64>, 'velveeta': <tf.Tensor 'ExpandDims_668:0' shape=(None, 1) dtype=int64>, 'venison': <tf.Tensor 'ExpandDims_669:0' shape=(None, 1) dtype=int64>, 'vermicelli': <tf.Tensor 'ExpandDims_670:0' shape=(None, 1) dtype=int64>, 'vermouth': <tf.Tensor 'ExpandDims_671:0' shape=(None, 1) dtype=int64>, 'Vidalia_onion': <tf.Tensor 'ExpandDims_19:0' shape=(None, 1) dtype=int64>, 'vinegar': <tf.Tensor 'ExpandDims_672:0' shape=(None, 1) dtype=int64>, 'vital_wheat_gluten': <tf.Tensor 'ExpandDims_673:0' shape=(None, 1) dtype=int64>, 'vodka': <tf.Tensor 'ExpandDims_674:0' shape=(None, 1) dtype=int64>, 'walnut': <tf.Tensor 'ExpandDims_675:0' shape=(None, 1) dtype=int64>, 'wasabi': <tf.Tensor 'ExpandDims_676:0' shape=(None, 1) dtype=int64>, 'washed_rind_cheese': <tf.Tensor 'ExpandDims_677:0' shape=(None, 1) dtype=int64>, 'water': <tf.Tensor 'ExpandDims_678:0' shape=(None, 1) dtype=int64>, 'water_chestnut': <tf.Tensor 'ExpandDims_679:0' shape=(None, 1) dtype=int64>, 'watercress': <tf.Tensor 'ExpandDims_680:0' shape=(None, 1) dtype=int64>, 'watermelon': <tf.Tensor 'ExpandDims_681:0' shape=(None, 1) dtype=int64>, 'wheat_bread': <tf.Tensor 'ExpandDims_682:0' shape=(None, 1) dtype=int64>, 'whipping_cream': <tf.Tensor 'ExpandDims_683:0' shape=(None, 1) dtype=int64>, 'white_bean': <tf.Tensor 'ExpandDims_684:0' shape=(None, 1) dtype=int64>, 'white_bread': <tf.Tensor 'ExpandDims_685:0' shape=(None, 1) dtype=int64>, 'white_cheese': <tf.Tensor 'ExpandDims_686:0' shape=(None, 1) dtype=int64>, 'white_fish': <tf.Tensor 'ExpandDims_687:0' shape=(None, 1) dtype=int64>, 'white_onion': <tf.Tensor 'ExpandDims_688:0' shape=(None, 1) dtype=int64>, 'white_peppercorns': <tf.Tensor 'ExpandDims_689:0' shape=(None, 1) dtype=int64>, 'white_sesame_seeds': <tf.Tensor 'ExpandDims_690:0' shape=(None, 1) dtype=int64>, 'whole_grain_mustard': <tf.Tensor 'ExpandDims_691:0' shape=(None, 1) dtype=int64>, 'whole_milk': <tf.Tensor 'ExpandDims_692:0' shape=(None, 1) dtype=int64>, 'wild_rice': <tf.Tensor 'ExpandDims_693:0' shape=(None, 1) dtype=int64>, 'wine': <tf.Tensor 'ExpandDims_694:0' shape=(None, 1) dtype=int64>, 'wine_vinegar': <tf.Tensor 'ExpandDims_695:0' shape=(None, 1) dtype=int64>, 'winter_squash': <tf.Tensor 'ExpandDims_696:0' shape=(None, 1) dtype=int64>, 'worcestershire_sauce': <tf.Tensor 'ExpandDims_697:0' shape=(None, 1) dtype=int64>, 'xanthan_gum': <tf.Tensor 'ExpandDims_698:0' shape=(None, 1) dtype=int64>, 'yams': <tf.Tensor 'ExpandDims_699:0' shape=(None, 1) dtype=int64>, 'yeast': <tf.Tensor 'ExpandDims_700:0' shape=(None, 1) dtype=int64>, 'yellow_curry_paste': <tf.Tensor 'ExpandDims_701:0' shape=(None, 1) dtype=int64>, 'yellow_food_coloring': <tf.Tensor 'ExpandDims_702:0' shape=(None, 1) dtype=int64>, 'yellow_split_pea': <tf.Tensor 'ExpandDims_703:0' shape=(None, 1) dtype=int64>, 'yellow_squash': <tf.Tensor 'ExpandDims_704:0' shape=(None, 1) dtype=int64>, 'yogurt': <tf.Tensor 'ExpandDims_705:0' shape=(None, 1) dtype=int64>, 'zaatar': <tf.Tensor 'ExpandDims_706:0' shape=(None, 1) dtype=int64>, 'zest': <tf.Tensor 'ExpandDims_707:0' shape=(None, 1) dtype=int64>, 'zucchini': <tf.Tensor 'ExpandDims_708:0' shape=(None, 1) dtype=int64>}\n",
            "Consider rewriting this model with the Functional API.\n",
            "47/47 [==============================] - 28s 246ms/step - loss: 2.4183 - sparse_categorical_accuracy: 0.1892 - val_loss: 2.0062 - val_sparse_categorical_accuracy: 0.6411\n",
            "Epoch 2/1000\n",
            "47/47 [==============================] - 4s 73ms/step - loss: 1.8562 - sparse_categorical_accuracy: 0.6147 - val_loss: 1.3536 - val_sparse_categorical_accuracy: 0.7509\n",
            "Epoch 3/1000\n",
            "47/47 [==============================] - 4s 74ms/step - loss: 1.2940 - sparse_categorical_accuracy: 0.6877 - val_loss: 1.0090 - val_sparse_categorical_accuracy: 0.7686\n",
            "Epoch 4/1000\n",
            "47/47 [==============================] - 4s 73ms/step - loss: 1.0017 - sparse_categorical_accuracy: 0.7415 - val_loss: 0.8618 - val_sparse_categorical_accuracy: 0.7698\n",
            "Epoch 5/1000\n",
            "47/47 [==============================] - 4s 73ms/step - loss: 0.8550 - sparse_categorical_accuracy: 0.7694 - val_loss: 0.7880 - val_sparse_categorical_accuracy: 0.7721\n",
            "Epoch 6/1000\n",
            "47/47 [==============================] - 4s 74ms/step - loss: 0.7756 - sparse_categorical_accuracy: 0.7873 - val_loss: 0.7494 - val_sparse_categorical_accuracy: 0.7804\n",
            "Epoch 7/1000\n",
            "47/47 [==============================] - 4s 74ms/step - loss: 0.6843 - sparse_categorical_accuracy: 0.8058 - val_loss: 0.7247 - val_sparse_categorical_accuracy: 0.7922\n",
            "Epoch 8/1000\n",
            "47/47 [==============================] - 4s 74ms/step - loss: 0.6548 - sparse_categorical_accuracy: 0.8135 - val_loss: 0.7110 - val_sparse_categorical_accuracy: 0.7910\n",
            "Epoch 9/1000\n",
            "47/47 [==============================] - 4s 72ms/step - loss: 0.5938 - sparse_categorical_accuracy: 0.8263 - val_loss: 0.7021 - val_sparse_categorical_accuracy: 0.7922\n",
            "Epoch 10/1000\n",
            "47/47 [==============================] - 4s 73ms/step - loss: 0.6069 - sparse_categorical_accuracy: 0.8297 - val_loss: 0.6964 - val_sparse_categorical_accuracy: 0.7875\n",
            "Epoch 11/1000\n",
            "47/47 [==============================] - 4s 76ms/step - loss: 0.5533 - sparse_categorical_accuracy: 0.8470 - val_loss: 0.6945 - val_sparse_categorical_accuracy: 0.7898\n",
            "Epoch 12/1000\n",
            "47/47 [==============================] - 4s 75ms/step - loss: 0.5390 - sparse_categorical_accuracy: 0.8440 - val_loss: 0.6939 - val_sparse_categorical_accuracy: 0.7887\n",
            "Epoch 13/1000\n",
            "47/47 [==============================] - 4s 73ms/step - loss: 0.5211 - sparse_categorical_accuracy: 0.8593 - val_loss: 0.6948 - val_sparse_categorical_accuracy: 0.7934\n",
            "Epoch 14/1000\n",
            "47/47 [==============================] - 4s 72ms/step - loss: 0.5201 - sparse_categorical_accuracy: 0.8519 - val_loss: 0.6968 - val_sparse_categorical_accuracy: 0.7851\n",
            "Epoch 15/1000\n",
            "47/47 [==============================] - 4s 73ms/step - loss: 0.4661 - sparse_categorical_accuracy: 0.8877 - val_loss: 0.6965 - val_sparse_categorical_accuracy: 0.7839\n",
            "Epoch 16/1000\n",
            "47/47 [==============================] - 4s 71ms/step - loss: 0.4332 - sparse_categorical_accuracy: 0.8897 - val_loss: 0.6995 - val_sparse_categorical_accuracy: 0.7851\n",
            "Epoch 17/1000\n",
            "47/47 [==============================] - 4s 74ms/step - loss: 0.4556 - sparse_categorical_accuracy: 0.8818 - val_loss: 0.7030 - val_sparse_categorical_accuracy: 0.7816\n",
            "Epoch 18/1000\n",
            "47/47 [==============================] - 4s 73ms/step - loss: 0.4277 - sparse_categorical_accuracy: 0.8961 - val_loss: 0.7067 - val_sparse_categorical_accuracy: 0.7851\n",
            "Epoch 19/1000\n",
            "47/47 [==============================] - 4s 77ms/step - loss: 0.4103 - sparse_categorical_accuracy: 0.8896 - val_loss: 0.7123 - val_sparse_categorical_accuracy: 0.7792\n",
            "Epoch 20/1000\n",
            "47/47 [==============================] - 4s 77ms/step - loss: 0.4026 - sparse_categorical_accuracy: 0.8941 - val_loss: 0.7166 - val_sparse_categorical_accuracy: 0.7757\n",
            "Epoch 21/1000\n",
            "47/47 [==============================] - 4s 77ms/step - loss: 0.4079 - sparse_categorical_accuracy: 0.8987 - val_loss: 0.7187 - val_sparse_categorical_accuracy: 0.7839\n",
            "Epoch 22/1000\n",
            "47/47 [==============================] - 4s 72ms/step - loss: 0.3812 - sparse_categorical_accuracy: 0.9065 - val_loss: 0.7231 - val_sparse_categorical_accuracy: 0.7828\n",
            "Restoring model weights from the end of the best epoch.\n",
            "Epoch 00022: early stopping\n"
          ],
          "name": "stdout"
        },
        {
          "output_type": "execute_result",
          "data": {
            "text/plain": [
              "<tensorflow.python.keras.callbacks.History at 0x7f9f4c3317d0>"
            ]
          },
          "metadata": {
            "tags": []
          },
          "execution_count": 44
        }
      ]
    },
    {
      "cell_type": "code",
      "metadata": {
        "colab": {
          "base_uri": "https://localhost:8080/"
        },
        "id": "iZQWmo0AEEZi",
        "outputId": "b5915e06-f33d-4dda-df13-c20777549e12"
      },
      "source": [
        "test_losss, test_accuracy = model.evaluate(test_ds)\n",
        "print(test_accuracy)"
      ],
      "execution_count": null,
      "outputs": [
        {
          "output_type": "stream",
          "text": [
            "7/7 [==============================] - 1s 45ms/step - loss: 0.7165 - sparse_categorical_accuracy: 0.7925\n",
            "0.7924528121948242\n"
          ],
          "name": "stdout"
        }
      ]
    },
    {
      "cell_type": "markdown",
      "metadata": {
        "id": "IsPQV5QD2hqm"
      },
      "source": [
        "#### Confusion matrix for original feature representation data"
      ]
    },
    {
      "cell_type": "code",
      "metadata": {
        "id": "30NWqpe14uvm"
      },
      "source": [
        "test_results = model.predict(test_ds)\n",
        "test_results = [np.argmax(x) for x in test_results]"
      ],
      "execution_count": 42,
      "outputs": []
    },
    {
      "cell_type": "code",
      "metadata": {
        "id": "ogaZBB3yUZTJ",
        "colab": {
          "base_uri": "https://localhost:8080/",
          "height": 237
        },
        "outputId": "17cfbfd0-7634-4f2c-a6bb-ccd26a9a3005"
      },
      "source": [
        "# Import cuisine labels\n",
        "cuisines_df = pd.read_csv('data/Cuisines.csv', header=None)\n",
        "cuisine_labels = cuisines_df[1].values\n",
        "print(cuisine_labels)\n",
        "cuisines_df.head()"
      ],
      "execution_count": 37,
      "outputs": [
        {
          "output_type": "stream",
          "text": [
            "['Chinese' 'English' 'French' 'German' 'Greek' 'Indian' 'Italian'\n",
            " 'Japanese' 'Mexican' 'Moroccan' 'Spanish' 'Thai']\n"
          ],
          "name": "stdout"
        },
        {
          "output_type": "execute_result",
          "data": {
            "text/html": [
              "<div>\n",
              "<style scoped>\n",
              "    .dataframe tbody tr th:only-of-type {\n",
              "        vertical-align: middle;\n",
              "    }\n",
              "\n",
              "    .dataframe tbody tr th {\n",
              "        vertical-align: top;\n",
              "    }\n",
              "\n",
              "    .dataframe thead th {\n",
              "        text-align: right;\n",
              "    }\n",
              "</style>\n",
              "<table border=\"1\" class=\"dataframe\">\n",
              "  <thead>\n",
              "    <tr style=\"text-align: right;\">\n",
              "      <th></th>\n",
              "      <th>0</th>\n",
              "      <th>1</th>\n",
              "    </tr>\n",
              "  </thead>\n",
              "  <tbody>\n",
              "    <tr>\n",
              "      <th>0</th>\n",
              "      <td>1</td>\n",
              "      <td>Chinese</td>\n",
              "    </tr>\n",
              "    <tr>\n",
              "      <th>1</th>\n",
              "      <td>2</td>\n",
              "      <td>English</td>\n",
              "    </tr>\n",
              "    <tr>\n",
              "      <th>2</th>\n",
              "      <td>3</td>\n",
              "      <td>French</td>\n",
              "    </tr>\n",
              "    <tr>\n",
              "      <th>3</th>\n",
              "      <td>4</td>\n",
              "      <td>German</td>\n",
              "    </tr>\n",
              "    <tr>\n",
              "      <th>4</th>\n",
              "      <td>5</td>\n",
              "      <td>Greek</td>\n",
              "    </tr>\n",
              "  </tbody>\n",
              "</table>\n",
              "</div>"
            ],
            "text/plain": [
              "   0        1\n",
              "0  1  Chinese\n",
              "1  2  English\n",
              "2  3   French\n",
              "3  4   German\n",
              "4  5    Greek"
            ]
          },
          "metadata": {
            "tags": []
          },
          "execution_count": 37
        }
      ]
    },
    {
      "cell_type": "code",
      "metadata": {
        "id": "9cG-x_LoTflk",
        "colab": {
          "base_uri": "https://localhost:8080/",
          "height": 535
        },
        "outputId": "3e65d3b8-0e5b-4768-ba68-ca72173c63c3"
      },
      "source": [
        "# Plot confusion matrix\n",
        "confusion_mtx = tf.math.confusion_matrix(test.cuisine.values, test_results) \n",
        "plt.figure(figsize=(10, 8))\n",
        "sns.heatmap(confusion_mtx, xticklabels=cuisine_labels, yticklabels=cuisine_labels, \n",
        "            annot=True, fmt='g')\n",
        "plt.xlabel('Prediction')\n",
        "plt.ylabel('Label')\n",
        "plt.savefig('confusion_matrix.pdf', pad_inches=0)\n",
        "plt.show()"
      ],
      "execution_count": null,
      "outputs": [
        {
          "output_type": "display_data",
          "data": {
            "image/png": "[encoded data removed]",
            "text/plain": [
              "<Figure size 720x576 with 2 Axes>"
            ]
          },
          "metadata": {
            "tags": [],
            "needs_background": "light"
          }
        }
      ]
    },
    {
      "cell_type": "markdown",
      "metadata": {
        "id": "jaWSjWAW2YV0"
      },
      "source": [
        "### Training model on PCA/UMAP data"
      ]
    },
    {
      "cell_type": "code",
      "metadata": {
        "colab": {
          "base_uri": "https://localhost:8080/"
        },
        "id": "2GZEhmKDPrU-",
        "outputId": "e3fed80a-0f66-4432-9958-c09a0ccfe57c"
      },
      "source": [
        "model = tf.keras.Sequential([\n",
        "  layers.Dense(128, activation='relu', kernel_regularizer=tf.keras.regularizers.l2(l2=1e-4)),\n",
        "  layers.Dropout(0.5),\n",
        "  layers.Dense(12, kernel_regularizer=tf.keras.regularizers.l2(l2=1e-4))\n",
        "])\n",
        "\n",
        "model.compile(optimizer='adam',\n",
        "              loss=tf.keras.losses.CategoricalCrossentropy(from_logits=True),\n",
        "              metrics=tf.metrics.CategoricalAccuracy())\n",
        "\n",
        "model.fit(train_ds,\n",
        "          validation_data=val_ds,\n",
        "          callbacks=[early_stop_callback],\n",
        "          batch_size=64,\n",
        "          epochs=1000)"
      ],
      "execution_count": null,
      "outputs": [
        {
          "output_type": "stream",
          "text": [
            "Epoch 1/1000\n",
            "47/47 [==============================] - 1s 5ms/step - loss: 3.0407 - categorical_accuracy: 0.1048 - val_loss: 2.1540 - val_categorical_accuracy: 0.2078\n",
            "Epoch 2/1000\n",
            "47/47 [==============================] - 0s 2ms/step - loss: 2.3806 - categorical_accuracy: 0.1647 - val_loss: 1.9962 - val_categorical_accuracy: 0.2361\n",
            "Epoch 3/1000\n",
            "47/47 [==============================] - 0s 2ms/step - loss: 2.1653 - categorical_accuracy: 0.2147 - val_loss: 1.9272 - val_categorical_accuracy: 0.2538\n",
            "Epoch 4/1000\n",
            "47/47 [==============================] - 0s 2ms/step - loss: 2.0432 - categorical_accuracy: 0.2298 - val_loss: 1.8831 - val_categorical_accuracy: 0.2810\n",
            "Epoch 5/1000\n",
            "47/47 [==============================] - 0s 2ms/step - loss: 1.9488 - categorical_accuracy: 0.2729 - val_loss: 1.8536 - val_categorical_accuracy: 0.2940\n",
            "Epoch 6/1000\n",
            "47/47 [==============================] - 0s 2ms/step - loss: 1.9101 - categorical_accuracy: 0.2718 - val_loss: 1.8309 - val_categorical_accuracy: 0.3058\n",
            "Epoch 7/1000\n",
            "47/47 [==============================] - 0s 2ms/step - loss: 1.8574 - categorical_accuracy: 0.2988 - val_loss: 1.8152 - val_categorical_accuracy: 0.3223\n",
            "Epoch 8/1000\n",
            "47/47 [==============================] - 0s 2ms/step - loss: 1.8463 - categorical_accuracy: 0.3149 - val_loss: 1.7982 - val_categorical_accuracy: 0.3424\n",
            "Epoch 9/1000\n",
            "47/47 [==============================] - 0s 2ms/step - loss: 1.8170 - categorical_accuracy: 0.3221 - val_loss: 1.7898 - val_categorical_accuracy: 0.3259\n",
            "Epoch 10/1000\n",
            "47/47 [==============================] - 0s 3ms/step - loss: 1.7901 - categorical_accuracy: 0.3262 - val_loss: 1.7788 - val_categorical_accuracy: 0.3388\n",
            "Epoch 11/1000\n",
            "47/47 [==============================] - 0s 2ms/step - loss: 1.7773 - categorical_accuracy: 0.3307 - val_loss: 1.7655 - val_categorical_accuracy: 0.4050\n",
            "Epoch 12/1000\n",
            "47/47 [==============================] - 0s 2ms/step - loss: 1.7803 - categorical_accuracy: 0.3395 - val_loss: 1.7557 - val_categorical_accuracy: 0.3731\n",
            "Epoch 13/1000\n",
            "47/47 [==============================] - 0s 2ms/step - loss: 1.7439 - categorical_accuracy: 0.3447 - val_loss: 1.7500 - val_categorical_accuracy: 0.3672\n",
            "Epoch 14/1000\n",
            "47/47 [==============================] - 0s 2ms/step - loss: 1.7313 - categorical_accuracy: 0.3636 - val_loss: 1.7475 - val_categorical_accuracy: 0.4333\n",
            "Epoch 15/1000\n",
            "47/47 [==============================] - 0s 2ms/step - loss: 1.7079 - categorical_accuracy: 0.3783 - val_loss: 1.7383 - val_categorical_accuracy: 0.4498\n",
            "Epoch 16/1000\n",
            "47/47 [==============================] - 0s 2ms/step - loss: 1.6899 - categorical_accuracy: 0.3957 - val_loss: 1.7296 - val_categorical_accuracy: 0.4357\n",
            "Epoch 17/1000\n",
            "47/47 [==============================] - 0s 2ms/step - loss: 1.6821 - categorical_accuracy: 0.3956 - val_loss: 1.7232 - val_categorical_accuracy: 0.4581\n",
            "Epoch 18/1000\n",
            "47/47 [==============================] - 0s 2ms/step - loss: 1.6661 - categorical_accuracy: 0.4020 - val_loss: 1.7126 - val_categorical_accuracy: 0.4699\n",
            "Epoch 19/1000\n",
            "47/47 [==============================] - 0s 2ms/step - loss: 1.6618 - categorical_accuracy: 0.4184 - val_loss: 1.7059 - val_categorical_accuracy: 0.4923\n",
            "Epoch 20/1000\n",
            "47/47 [==============================] - 0s 2ms/step - loss: 1.6527 - categorical_accuracy: 0.4337 - val_loss: 1.6967 - val_categorical_accuracy: 0.5030\n",
            "Epoch 21/1000\n",
            "47/47 [==============================] - 0s 2ms/step - loss: 1.6248 - categorical_accuracy: 0.4357 - val_loss: 1.6891 - val_categorical_accuracy: 0.4770\n",
            "Epoch 22/1000\n",
            "47/47 [==============================] - 0s 2ms/step - loss: 1.6161 - categorical_accuracy: 0.4555 - val_loss: 1.6761 - val_categorical_accuracy: 0.4805\n",
            "Epoch 23/1000\n",
            "47/47 [==============================] - 0s 2ms/step - loss: 1.5969 - categorical_accuracy: 0.4718 - val_loss: 1.6758 - val_categorical_accuracy: 0.4900\n",
            "Epoch 24/1000\n",
            "47/47 [==============================] - 0s 2ms/step - loss: 1.5771 - categorical_accuracy: 0.4665 - val_loss: 1.6672 - val_categorical_accuracy: 0.5136\n",
            "Epoch 25/1000\n",
            "47/47 [==============================] - 0s 2ms/step - loss: 1.5734 - categorical_accuracy: 0.4784 - val_loss: 1.6567 - val_categorical_accuracy: 0.5301\n",
            "Epoch 26/1000\n",
            "47/47 [==============================] - 0s 2ms/step - loss: 1.5542 - categorical_accuracy: 0.4720 - val_loss: 1.6481 - val_categorical_accuracy: 0.4970\n",
            "Epoch 27/1000\n",
            "47/47 [==============================] - 0s 2ms/step - loss: 1.5543 - categorical_accuracy: 0.4756 - val_loss: 1.6412 - val_categorical_accuracy: 0.5254\n",
            "Epoch 28/1000\n",
            "47/47 [==============================] - 0s 2ms/step - loss: 1.5342 - categorical_accuracy: 0.4834 - val_loss: 1.6411 - val_categorical_accuracy: 0.5360\n",
            "Epoch 29/1000\n",
            "47/47 [==============================] - 0s 2ms/step - loss: 1.5088 - categorical_accuracy: 0.5039 - val_loss: 1.6329 - val_categorical_accuracy: 0.5230\n",
            "Epoch 30/1000\n",
            "47/47 [==============================] - 0s 2ms/step - loss: 1.5055 - categorical_accuracy: 0.5007 - val_loss: 1.6314 - val_categorical_accuracy: 0.5289\n",
            "Epoch 31/1000\n",
            "47/47 [==============================] - 0s 2ms/step - loss: 1.4848 - categorical_accuracy: 0.5182 - val_loss: 1.6210 - val_categorical_accuracy: 0.5455\n",
            "Epoch 32/1000\n",
            "47/47 [==============================] - 0s 2ms/step - loss: 1.5033 - categorical_accuracy: 0.5090 - val_loss: 1.6146 - val_categorical_accuracy: 0.5443\n",
            "Epoch 33/1000\n",
            "47/47 [==============================] - 0s 2ms/step - loss: 1.4742 - categorical_accuracy: 0.4953 - val_loss: 1.6106 - val_categorical_accuracy: 0.5443\n",
            "Epoch 34/1000\n",
            "47/47 [==============================] - 0s 2ms/step - loss: 1.4751 - categorical_accuracy: 0.5003 - val_loss: 1.6045 - val_categorical_accuracy: 0.5514\n",
            "Epoch 35/1000\n",
            "47/47 [==============================] - 0s 2ms/step - loss: 1.4740 - categorical_accuracy: 0.5355 - val_loss: 1.5986 - val_categorical_accuracy: 0.5773\n",
            "Epoch 36/1000\n",
            "47/47 [==============================] - 0s 2ms/step - loss: 1.4472 - categorical_accuracy: 0.5276 - val_loss: 1.5994 - val_categorical_accuracy: 0.5702\n",
            "Epoch 37/1000\n",
            "47/47 [==============================] - 0s 2ms/step - loss: 1.4526 - categorical_accuracy: 0.5274 - val_loss: 1.5980 - val_categorical_accuracy: 0.5561\n",
            "Epoch 38/1000\n",
            "47/47 [==============================] - 0s 2ms/step - loss: 1.4344 - categorical_accuracy: 0.5350 - val_loss: 1.5884 - val_categorical_accuracy: 0.5762\n",
            "Epoch 39/1000\n",
            "47/47 [==============================] - 0s 2ms/step - loss: 1.4350 - categorical_accuracy: 0.5343 - val_loss: 1.5809 - val_categorical_accuracy: 0.5797\n",
            "Epoch 40/1000\n",
            "47/47 [==============================] - 0s 2ms/step - loss: 1.4272 - categorical_accuracy: 0.5499 - val_loss: 1.5835 - val_categorical_accuracy: 0.5797\n",
            "Epoch 41/1000\n",
            "47/47 [==============================] - 0s 2ms/step - loss: 1.4220 - categorical_accuracy: 0.5325 - val_loss: 1.5879 - val_categorical_accuracy: 0.5702\n",
            "Epoch 42/1000\n",
            "47/47 [==============================] - 0s 2ms/step - loss: 1.4027 - categorical_accuracy: 0.5431 - val_loss: 1.5804 - val_categorical_accuracy: 0.5596\n",
            "Epoch 43/1000\n",
            "47/47 [==============================] - 0s 2ms/step - loss: 1.3956 - categorical_accuracy: 0.5393 - val_loss: 1.5808 - val_categorical_accuracy: 0.5773\n",
            "Epoch 44/1000\n",
            "47/47 [==============================] - 0s 2ms/step - loss: 1.3892 - categorical_accuracy: 0.5590 - val_loss: 1.5781 - val_categorical_accuracy: 0.5785\n",
            "Epoch 45/1000\n",
            "47/47 [==============================] - 0s 2ms/step - loss: 1.3876 - categorical_accuracy: 0.5453 - val_loss: 1.5722 - val_categorical_accuracy: 0.5868\n",
            "Epoch 46/1000\n",
            "47/47 [==============================] - 0s 2ms/step - loss: 1.3864 - categorical_accuracy: 0.5592 - val_loss: 1.5716 - val_categorical_accuracy: 0.5868\n",
            "Epoch 47/1000\n",
            "47/47 [==============================] - 0s 2ms/step - loss: 1.3855 - categorical_accuracy: 0.5510 - val_loss: 1.5698 - val_categorical_accuracy: 0.5762\n",
            "Epoch 48/1000\n",
            "47/47 [==============================] - 0s 2ms/step - loss: 1.3768 - categorical_accuracy: 0.5595 - val_loss: 1.5694 - val_categorical_accuracy: 0.5809\n",
            "Epoch 49/1000\n",
            "47/47 [==============================] - 0s 2ms/step - loss: 1.3942 - categorical_accuracy: 0.5546 - val_loss: 1.5688 - val_categorical_accuracy: 0.5773\n",
            "Epoch 50/1000\n",
            "47/47 [==============================] - 0s 2ms/step - loss: 1.3680 - categorical_accuracy: 0.5553 - val_loss: 1.5637 - val_categorical_accuracy: 0.5797\n",
            "Epoch 51/1000\n",
            "47/47 [==============================] - 0s 2ms/step - loss: 1.3807 - categorical_accuracy: 0.5496 - val_loss: 1.5646 - val_categorical_accuracy: 0.5762\n",
            "Epoch 52/1000\n",
            "47/47 [==============================] - 0s 2ms/step - loss: 1.3563 - categorical_accuracy: 0.5613 - val_loss: 1.5670 - val_categorical_accuracy: 0.5868\n",
            "Epoch 53/1000\n",
            "47/47 [==============================] - 0s 2ms/step - loss: 1.3520 - categorical_accuracy: 0.5819 - val_loss: 1.5590 - val_categorical_accuracy: 0.5915\n",
            "Epoch 54/1000\n",
            "47/47 [==============================] - 0s 2ms/step - loss: 1.3486 - categorical_accuracy: 0.5766 - val_loss: 1.5718 - val_categorical_accuracy: 0.5868\n",
            "Epoch 55/1000\n",
            "47/47 [==============================] - 0s 2ms/step - loss: 1.3475 - categorical_accuracy: 0.5834 - val_loss: 1.5699 - val_categorical_accuracy: 0.5832\n",
            "Epoch 56/1000\n",
            "47/47 [==============================] - 0s 2ms/step - loss: 1.3502 - categorical_accuracy: 0.5815 - val_loss: 1.5713 - val_categorical_accuracy: 0.5880\n",
            "Epoch 57/1000\n",
            "47/47 [==============================] - 0s 2ms/step - loss: 1.3387 - categorical_accuracy: 0.5699 - val_loss: 1.5688 - val_categorical_accuracy: 0.5797\n",
            "Epoch 58/1000\n",
            "47/47 [==============================] - 0s 2ms/step - loss: 1.3435 - categorical_accuracy: 0.5677 - val_loss: 1.5677 - val_categorical_accuracy: 0.5868\n",
            "Epoch 59/1000\n",
            "47/47 [==============================] - 0s 2ms/step - loss: 1.3452 - categorical_accuracy: 0.5692 - val_loss: 1.5710 - val_categorical_accuracy: 0.5832\n",
            "Epoch 60/1000\n",
            "47/47 [==============================] - 0s 2ms/step - loss: 1.3315 - categorical_accuracy: 0.5620 - val_loss: 1.5654 - val_categorical_accuracy: 0.5915\n",
            "Epoch 61/1000\n",
            "47/47 [==============================] - 0s 2ms/step - loss: 1.3341 - categorical_accuracy: 0.5752 - val_loss: 1.5670 - val_categorical_accuracy: 0.5856\n",
            "Epoch 62/1000\n",
            "47/47 [==============================] - 0s 2ms/step - loss: 1.3292 - categorical_accuracy: 0.5751 - val_loss: 1.5631 - val_categorical_accuracy: 0.5927\n",
            "Epoch 63/1000\n",
            "47/47 [==============================] - 0s 2ms/step - loss: 1.3272 - categorical_accuracy: 0.5813 - val_loss: 1.5652 - val_categorical_accuracy: 0.5903\n",
            "Restoring model weights from the end of the best epoch.\n",
            "Epoch 00063: early stopping\n"
          ],
          "name": "stdout"
        },
        {
          "output_type": "execute_result",
          "data": {
            "text/plain": [
              "<tensorflow.python.keras.callbacks.History at 0x7f26fb90e490>"
            ]
          },
          "metadata": {
            "tags": []
          },
          "execution_count": 222
        }
      ]
    },
    {
      "cell_type": "code",
      "metadata": {
        "colab": {
          "base_uri": "https://localhost:8080/"
        },
        "id": "6jJrzpUaTXdn",
        "outputId": "de9c0fa6-7ff8-4ac4-f6f9-4b160a3b29fb"
      },
      "source": [
        "# PCA\n",
        "test_losss, test_accuracy = model.evaluate(test_ds)\n",
        "print(test_accuracy)"
      ],
      "execution_count": null,
      "outputs": [
        {
          "output_type": "stream",
          "text": [
            "7/7 [==============================] - 0s 2ms/step - loss: 0.8669 - categorical_accuracy: 0.7146\n",
            "0.7146226167678833\n"
          ],
          "name": "stdout"
        }
      ]
    },
    {
      "cell_type": "code",
      "metadata": {
        "colab": {
          "base_uri": "https://localhost:8080/"
        },
        "id": "0S-yPJWuU2xm",
        "outputId": "e3d3d89d-fa63-4734-b087-e183f692e748"
      },
      "source": [
        "# UMAP\n",
        "test_losss, test_accuracy = model.evaluate(test_ds)\n",
        "print(test_accuracy)"
      ],
      "execution_count": null,
      "outputs": [
        {
          "output_type": "stream",
          "text": [
            "7/7 [==============================] - 0s 1ms/step - loss: 1.5682 - categorical_accuracy: 0.5896\n",
            "0.5896226167678833\n"
          ],
          "name": "stdout"
        }
      ]
    },
    {
      "cell_type": "markdown",
      "metadata": {
        "id": "E3hWwcpUnyOY"
      },
      "source": [
        "## Model 2 - Logistic Regression"
      ]
    },
    {
      "cell_type": "code",
      "metadata": {
        "id": "dy6-87WRM37h",
        "colab": {
          "base_uri": "https://localhost:8080/"
        },
        "outputId": "cd4527c6-2ed7-4b2b-826c-98a172dd85a6"
      },
      "source": [
        "clf = LogisticRegression(random_state=0, max_iter=300, C=0.8).fit(X_train, y_train)\n",
        "clf.predict(X_val)\n",
        "clf.score(X_val, y_val)"
      ],
      "execution_count": null,
      "outputs": [
        {
          "output_type": "execute_result",
          "data": {
            "text/plain": [
              "0.7756788665879575"
            ]
          },
          "metadata": {
            "tags": []
          },
          "execution_count": 301
        }
      ]
    },
    {
      "cell_type": "code",
      "metadata": {
        "colab": {
          "base_uri": "https://localhost:8080/"
        },
        "id": "Sd6ijdKGmxoy",
        "outputId": "9d192fc5-1f19-421e-8e36-cfac3f06851e"
      },
      "source": [
        "clf.score(X_test, y_test)"
      ],
      "execution_count": null,
      "outputs": [
        {
          "output_type": "execute_result",
          "data": {
            "text/plain": [
              "0.7665094339622641"
            ]
          },
          "metadata": {
            "tags": []
          },
          "execution_count": 302
        }
      ]
    },
    {
      "cell_type": "code",
      "metadata": {
        "colab": {
          "base_uri": "https://localhost:8080/"
        },
        "id": "oYd_PVZcaRbW",
        "outputId": "530d82d7-02b7-4274-b8fd-c08a2ae94d05"
      },
      "source": [
        "# With dimensionally reduced data\n",
        "clf = LogisticRegression(random_state=0, max_iter=300, C=0.4).fit(X_train_PCA, y_train)\n",
        "clf.predict(X_val_PCA)\n",
        "clf.score(X_val_PCA, y_val)"
      ],
      "execution_count": null,
      "outputs": [
        {
          "output_type": "execute_result",
          "data": {
            "text/plain": [
              "0.7367178276269185"
            ]
          },
          "metadata": {
            "tags": []
          },
          "execution_count": 104
        }
      ]
    },
    {
      "cell_type": "code",
      "metadata": {
        "colab": {
          "base_uri": "https://localhost:8080/"
        },
        "id": "8HQaEG4Xm2C8",
        "outputId": "272b51b5-8269-47b0-d99b-56bfad05a26e"
      },
      "source": [
        "clf.score(X_test_PCA, y_test)"
      ],
      "execution_count": null,
      "outputs": [
        {
          "output_type": "execute_result",
          "data": {
            "text/plain": [
              "0.7169811320754716"
            ]
          },
          "metadata": {
            "tags": []
          },
          "execution_count": 105
        }
      ]
    },
    {
      "cell_type": "code",
      "metadata": {
        "colab": {
          "base_uri": "https://localhost:8080/"
        },
        "id": "DNubV2h7siPF",
        "outputId": "46c16974-2e6f-465b-c0a5-badbe73e6a6e"
      },
      "source": [
        "# with UMAP data\n",
        "clf = LogisticRegression(random_state=0, max_iter=500, C=0.5)\n",
        "clf.fit(X_train_umap, y_train)\n",
        "clf.score(X_val_umap, y_val)"
      ],
      "execution_count": null,
      "outputs": [
        {
          "output_type": "execute_result",
          "data": {
            "text/plain": [
              "0.5501770956316411"
            ]
          },
          "metadata": {
            "tags": []
          },
          "execution_count": 113
        }
      ]
    },
    {
      "cell_type": "code",
      "metadata": {
        "colab": {
          "base_uri": "https://localhost:8080/"
        },
        "id": "D_X2sSmIsxZW",
        "outputId": "89acd81d-bc91-41cd-dea3-dfae5102bfa7"
      },
      "source": [
        "clf.score(X_test_umap, y_test)"
      ],
      "execution_count": null,
      "outputs": [
        {
          "output_type": "execute_result",
          "data": {
            "text/plain": [
              "0.5754716981132075"
            ]
          },
          "metadata": {
            "tags": []
          },
          "execution_count": 114
        }
      ]
    },
    {
      "cell_type": "markdown",
      "metadata": {
        "id": "gn2oEc4un1PC"
      },
      "source": [
        "## Model 3 - Random Forest"
      ]
    },
    {
      "cell_type": "code",
      "metadata": {
        "id": "5ctXvnJfU5cg",
        "colab": {
          "base_uri": "https://localhost:8080/"
        },
        "outputId": "7db51f13-9802-4d91-e509-ab23aad73aaa"
      },
      "source": [
        "from sklearn.ensemble import RandomForestClassifier\n",
        "clf = RandomForestClassifier(n_estimators=300, max_depth=50, random_state=0, min_samples_split=3)\n",
        "clf.fit(X_train, y_train)\n",
        "clf.predict(X_val)\n",
        "clf.score(X_val, y_val)"
      ],
      "execution_count": null,
      "outputs": [
        {
          "output_type": "execute_result",
          "data": {
            "text/plain": [
              "0.781582054309327"
            ]
          },
          "metadata": {
            "tags": []
          },
          "execution_count": 45
        }
      ]
    },
    {
      "cell_type": "code",
      "metadata": {
        "colab": {
          "base_uri": "https://localhost:8080/"
        },
        "id": "5GNySQ08cI3J",
        "outputId": "460c8d7a-5ced-418c-86c2-a871edb25556"
      },
      "source": [
        "clf.score(X_test, y_test)"
      ],
      "execution_count": null,
      "outputs": [
        {
          "output_type": "execute_result",
          "data": {
            "text/plain": [
              "0.7311320754716981"
            ]
          },
          "metadata": {
            "tags": []
          },
          "execution_count": 307
        }
      ]
    },
    {
      "cell_type": "code",
      "metadata": {
        "colab": {
          "base_uri": "https://localhost:8080/"
        },
        "id": "oRs5kn7pZygB",
        "outputId": "ec0cb3e6-667d-4afc-a03a-1758edd8142f"
      },
      "source": [
        "# With dimensionally reduced data\n",
        "clf = RandomForestClassifier(n_estimators=300, max_depth=30, random_state=0, min_samples_split=5)\n",
        "clf.fit(X_train_PCA, y_train)\n",
        "clf.score(X_val_PCA, y_val)"
      ],
      "execution_count": null,
      "outputs": [
        {
          "output_type": "execute_result",
          "data": {
            "text/plain": [
              "0.7284533648170012"
            ]
          },
          "metadata": {
            "tags": []
          },
          "execution_count": 119
        }
      ]
    },
    {
      "cell_type": "code",
      "metadata": {
        "colab": {
          "base_uri": "https://localhost:8080/"
        },
        "id": "bm5U17UlnB5b",
        "outputId": "489f3fed-75bd-4b97-a2db-36e0d56ea753"
      },
      "source": [
        "clf.score(X_test_PCA, y_test)"
      ],
      "execution_count": null,
      "outputs": [
        {
          "output_type": "execute_result",
          "data": {
            "text/plain": [
              "0.6698113207547169"
            ]
          },
          "metadata": {
            "tags": []
          },
          "execution_count": 120
        }
      ]
    },
    {
      "cell_type": "code",
      "metadata": {
        "colab": {
          "base_uri": "https://localhost:8080/"
        },
        "id": "KNsyGKlus9VG",
        "outputId": "bcb8823f-5a94-411e-86ec-94a46a8783e1"
      },
      "source": [
        "# with UMAP data\n",
        "clf = RandomForestClassifier(n_estimators=300, max_depth=10, random_state=0, min_samples_split=10)\n",
        "clf.fit(X_train_umap, y_train)\n",
        "clf.score(X_val_umap, y_val)"
      ],
      "execution_count": null,
      "outputs": [
        {
          "output_type": "execute_result",
          "data": {
            "text/plain": [
              "0.6210153482880756"
            ]
          },
          "metadata": {
            "tags": []
          },
          "execution_count": 57
        }
      ]
    },
    {
      "cell_type": "code",
      "metadata": {
        "colab": {
          "base_uri": "https://localhost:8080/"
        },
        "id": "FKuwl7RUtWlf",
        "outputId": "fdb7147b-c53d-4eba-c111-c27ae35d1167"
      },
      "source": [
        "clf.score(X_test_umap, y_test)"
      ],
      "execution_count": null,
      "outputs": [
        {
          "output_type": "execute_result",
          "data": {
            "text/plain": [
              "0.5966981132075472"
            ]
          },
          "metadata": {
            "tags": []
          },
          "execution_count": 58
        }
      ]
    },
    {
      "cell_type": "markdown",
      "metadata": {
        "id": "aZUurUxrn28m"
      },
      "source": [
        "## Model 4 - K Nearest Neighbors"
      ]
    },
    {
      "cell_type": "code",
      "metadata": {
        "id": "7bb2RNBIVV8a",
        "colab": {
          "base_uri": "https://localhost:8080/"
        },
        "outputId": "ff4b1a46-cc97-46c0-85c8-0c5f29689f3f"
      },
      "source": [
        "\n",
        "neigh = KNeighborsClassifier(n_neighbors=12, n_jobs=-1, algorithm='ball_tree', leaf_size=30)\n",
        "neigh.fit(X_train, y_train)\n",
        "neigh.score(X_val, y_val)"
      ],
      "execution_count": null,
      "outputs": [
        {
          "output_type": "execute_result",
          "data": {
            "text/plain": [
              "0.667060212514758"
            ]
          },
          "metadata": {
            "tags": []
          },
          "execution_count": 156
        }
      ]
    },
    {
      "cell_type": "code",
      "metadata": {
        "colab": {
          "base_uri": "https://localhost:8080/"
        },
        "id": "pQkGbGTmmq5n",
        "outputId": "5c2466f9-5117-4ca4-aea4-43776f702728"
      },
      "source": [
        "neigh.score(X_test, y_test)"
      ],
      "execution_count": null,
      "outputs": [
        {
          "output_type": "execute_result",
          "data": {
            "text/plain": [
              "0.6155660377358491"
            ]
          },
          "metadata": {
            "tags": []
          },
          "execution_count": 157
        }
      ]
    },
    {
      "cell_type": "code",
      "metadata": {
        "colab": {
          "base_uri": "https://localhost:8080/"
        },
        "id": "0SzPqUYDgfaC",
        "outputId": "8b6dd01e-3f91-471c-dc00-e55b1e74d30e"
      },
      "source": [
        "# With dimensionally reduced data\n",
        "neigh = KNeighborsClassifier(n_neighbors=15, n_jobs=-1, algorithm='ball_tree', leaf_size=30)\n",
        "neigh.fit(X_train_PCA, y_train)\n",
        "neigh.score(X_val_PCA, y_val)"
      ],
      "execution_count": null,
      "outputs": [
        {
          "output_type": "execute_result",
          "data": {
            "text/plain": [
              "0.6611570247933884"
            ]
          },
          "metadata": {
            "tags": []
          },
          "execution_count": 158
        }
      ]
    },
    {
      "cell_type": "code",
      "metadata": {
        "colab": {
          "base_uri": "https://localhost:8080/"
        },
        "id": "pimwxi6OnIO-",
        "outputId": "f1408f12-2a69-446e-d34b-148dde3096c6"
      },
      "source": [
        "neigh.score(X_test_PCA, y_test)"
      ],
      "execution_count": null,
      "outputs": [
        {
          "output_type": "execute_result",
          "data": {
            "text/plain": [
              "0.6132075471698113"
            ]
          },
          "metadata": {
            "tags": []
          },
          "execution_count": 159
        }
      ]
    },
    {
      "cell_type": "code",
      "metadata": {
        "colab": {
          "base_uri": "https://localhost:8080/"
        },
        "id": "d9BrIrE2rHwn",
        "outputId": "ada51bfe-e1aa-493d-c8d6-2a11cee5c266"
      },
      "source": [
        "# with UMAP data\n",
        "neigh = KNeighborsClassifier(n_neighbors=20, n_jobs=-1, algorithm='ball_tree', leaf_size=30)\n",
        "neigh.fit(X_train_umap, y_train)\n",
        "neigh.score(X_val_umap, y_val)"
      ],
      "execution_count": null,
      "outputs": [
        {
          "output_type": "execute_result",
          "data": {
            "text/plain": [
              "0.6245572609208973"
            ]
          },
          "metadata": {
            "tags": []
          },
          "execution_count": 152
        }
      ]
    },
    {
      "cell_type": "code",
      "metadata": {
        "colab": {
          "base_uri": "https://localhost:8080/"
        },
        "id": "00i3gAaOLxxT",
        "outputId": "12255723-e435-410b-b011-218987281886"
      },
      "source": [
        "neigh.score(X_test_umap, y_test)"
      ],
      "execution_count": null,
      "outputs": [
        {
          "output_type": "execute_result",
          "data": {
            "text/plain": [
              "0.6037735849056604"
            ]
          },
          "metadata": {
            "tags": []
          },
          "execution_count": 153
        }
      ]
    },
    {
      "cell_type": "markdown",
      "metadata": {
        "id": "8vM2YFBClccx"
      },
      "source": [
        "## Model 5 - Support Vector Machine"
      ]
    },
    {
      "cell_type": "code",
      "metadata": {
        "colab": {
          "base_uri": "https://localhost:8080/"
        },
        "id": "7mlCtUH6iB_z",
        "outputId": "d83d9b24-3a94-404b-ade7-596bc5131a8a"
      },
      "source": [
        "svc_clf = SVC() #C=1, degree=5 same as default\n",
        "svc_clf.fit(X_train, y_train)\n",
        "svc_clf.score(X_val, y_val)"
      ],
      "execution_count": null,
      "outputs": [
        {
          "output_type": "execute_result",
          "data": {
            "text/plain": [
              "0.7768595041322314"
            ]
          },
          "metadata": {
            "tags": []
          },
          "execution_count": 298
        }
      ]
    },
    {
      "cell_type": "code",
      "metadata": {
        "colab": {
          "base_uri": "https://localhost:8080/"
        },
        "id": "rj1PcYDtmnSC",
        "outputId": "d825dc42-877b-424c-ea74-fa0915e7e680"
      },
      "source": [
        "svc_clf.score(X_test, y_test)"
      ],
      "execution_count": null,
      "outputs": [
        {
          "output_type": "execute_result",
          "data": {
            "text/plain": [
              "0.7452830188679245"
            ]
          },
          "metadata": {
            "tags": []
          },
          "execution_count": 315
        }
      ]
    },
    {
      "cell_type": "code",
      "metadata": {
        "colab": {
          "base_uri": "https://localhost:8080/"
        },
        "id": "Ebf0eaQonTXd",
        "outputId": "993b71c4-3ea8-4034-ee96-9ac1166d24e7"
      },
      "source": [
        "svc_clf = SVC() #C=1, degree=5 same as default\n",
        "svc_clf.fit(X_train_PCA, y_train)\n",
        "svc_clf.score(X_val_PCA, y_val)"
      ],
      "execution_count": null,
      "outputs": [
        {
          "output_type": "execute_result",
          "data": {
            "text/plain": [
              "0.7485242030696576"
            ]
          },
          "metadata": {
            "tags": []
          },
          "execution_count": 59
        }
      ]
    },
    {
      "cell_type": "code",
      "metadata": {
        "colab": {
          "base_uri": "https://localhost:8080/"
        },
        "id": "qL9AUXDbnWcm",
        "outputId": "d4b9df50-2490-4cf8-bf6a-963bcb8512ad"
      },
      "source": [
        "svc_clf.score(X_test_PCA, y_test)"
      ],
      "execution_count": null,
      "outputs": [
        {
          "output_type": "execute_result",
          "data": {
            "text/plain": [
              "0.7099056603773585"
            ]
          },
          "metadata": {
            "tags": []
          },
          "execution_count": 317
        }
      ]
    },
    {
      "cell_type": "code",
      "metadata": {
        "colab": {
          "base_uri": "https://localhost:8080/"
        },
        "id": "f6zvByjeuAJL",
        "outputId": "0e560ebc-74e5-47a8-8a5c-dc4a4187e564"
      },
      "source": [
        "svc_clf.fit(X_train_umap, y_train)\n",
        "svc_clf.score(X_val_umap, y_val)"
      ],
      "execution_count": null,
      "outputs": [
        {
          "output_type": "execute_result",
          "data": {
            "text/plain": [
              "0.6174734356552538"
            ]
          },
          "metadata": {
            "tags": []
          },
          "execution_count": 60
        }
      ]
    },
    {
      "cell_type": "code",
      "metadata": {
        "colab": {
          "base_uri": "https://localhost:8080/"
        },
        "id": "S5ueqUdTuJIx",
        "outputId": "a8b8a155-46a9-4cb5-e095-9c8633bb159c"
      },
      "source": [
        "svc_clf.score(X_test_umap, y_test)"
      ],
      "execution_count": null,
      "outputs": [
        {
          "output_type": "execute_result",
          "data": {
            "text/plain": [
              "0.5990566037735849"
            ]
          },
          "metadata": {
            "tags": []
          },
          "execution_count": 61
        }
      ]
    }
  ]
}
