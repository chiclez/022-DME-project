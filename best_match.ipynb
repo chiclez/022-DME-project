{
  "nbformat": 4,
  "nbformat_minor": 0,
  "metadata": {
    "colab": {
      "name": "cvae.ipynb",
      "provenance": [],
      "collapsed_sections": [],
      "toc_visible": true
    },
    "kernelspec": {
      "name": "python383jvsc74a57bd0cf35f469c63368b90b858ea105aa93302419be368e99453220c14199b638f0e4",
      "display_name": "Python 3.8.3 64-bit (conda)"
    },
    "language_info": {
      "name": "python",
      "version": "3.8.3-final"
    }
  },
  "cells": [
    {
      "source": [
        "# DME project - Best match\n",
        "This notebook contains the best match function developed for suggesting ingredients using the `recipes.csv` data file from Bellosi (2011)"
      ],
      "cell_type": "markdown",
      "metadata": {}
    },
    {
      "cell_type": "code",
      "execution_count": 1,
      "metadata": {},
      "outputs": [],
      "source": [
        "# Install required packages\n",
        "!pip install -q -r requirements.txt"
      ]
    },
    {
      "cell_type": "code",
      "metadata": {
        "id": "A6bSZy0EdQHd",
        "colab": {
          "base_uri": "https://localhost:8080/"
        },
        "outputId": "9813dd1d-7585-47a3-e1fa-1498f795da67"
      },
      "source": [
        "# Display plots inline\n",
        "%matplotlib inline\n",
        "\n",
        "# Data libraries\n",
        "\n",
        "import pandas as pd\n",
        "import numpy as np\n",
        "import geopandas as gp\n",
        "\n",
        "# Plotting libraries\n",
        "import matplotlib.pyplot as plt\n",
        "import matplotlib.lines as mlines\n",
        "import seaborn as sns\n",
        "\n",
        "# Plotting defaults\n",
        "plt.rcParams['figure.figsize'] = (8,5)\n",
        "plt.rcParams['figure.dpi'] = 80\n",
        "\n",
        "# Misc libraries\n",
        "import os\n",
        "import time\n",
        "from datetime import date\n",
        "\n",
        "# sklearn modules\n",
        "from sklearn.model_selection import train_test_split\n",
        "\n",
        "# Helper script\n",
        "import get_recipe as gr"
      ],
      "execution_count": 2,
      "outputs": []
    },
    {
      "cell_type": "markdown",
      "metadata": {
        "id": "IiaZOshEe3VT"
      },
      "source": [
        "## Import datasets"
      ]
    },
    {
      "cell_type": "markdown",
      "metadata": {
        "id": "VkHOuWX9a1La"
      },
      "source": []
    },
    {
      "cell_type": "code",
      "execution_count": 11,
      "metadata": {},
      "outputs": [],
      "source": [
        "# Get datasets\n",
        "\n",
        "recipes_df, cuisines_df = gr.get_data()"
      ]
    },
    {
      "cell_type": "code",
      "execution_count": 16,
      "metadata": {},
      "outputs": [],
      "source": [
        "cuisine_names = cuisines_df[\"cuisine_name\"].to_list()"
      ]
    },
    {
      "cell_type": "code",
      "metadata": {
        "id": "FDng2VDHfhPw"
      },
      "source": [
        "# Split data\n",
        "train, val = train_test_split(recipes_df, test_size=0.3, random_state=42, stratify=recipes_df['cuisine'])\n",
        "val, test = train_test_split(val, test_size=(1/3), random_state=42, stratify=val['cuisine'])"
      ],
      "execution_count": 5,
      "outputs": []
    },
    {
      "source": [
        "## Best match function"
      ],
      "cell_type": "markdown",
      "metadata": {}
    },
    {
      "cell_type": "code",
      "metadata": {
        "id": "vYbfnU62wcfe"
      },
      "source": [
        "df_to_use = train # choice of the dataframe to use, full data or train set\n",
        "occurrence_dict = {}\n",
        "for c, names in enumerate(cuisine_names): #for each cuisine we create a matrix of occurrence (called corr_matrix)\n",
        "  only_one_cuisine = df_to_use[df_to_use['cuisine']==c]\n",
        "  only_one_cuisine.columns = df_to_use.columns\n",
        "  only_one_cuisine=only_one_cuisine.drop('cuisine', axis=1) \n",
        "  \n",
        "  corr_matrix = pd.DataFrame(np.zeros((only_one_cuisine.shape[1], only_one_cuisine.shape[1]+1)))\n",
        "  corr_matrix.columns = df_to_use.columns\n",
        "  corr_matrix.columns = [*corr_matrix.columns[:-1], 'occurrence']\n",
        "  for i in range(0,only_one_cuisine.shape[1]): #for each ingredient we compute the total occurrence of all the other ingredients\n",
        "    this_ingredient = only_one_cuisine.columns[i]\n",
        "    where_is_used = np.where(only_one_cuisine[this_ingredient]==1)\n",
        "    if(np.size(where_is_used)==0):  # it does not contain this ingredient in any of the recipes\n",
        "      continue\n",
        "\n",
        "    corr_matrix.iloc[i,:-1]=corr_matrix.iloc[i,:-1] + only_one_cuisine.iloc[where_is_used].sum(axis=0)\n",
        "    corr_matrix.iloc[i,i] = 0\n",
        "    corr_matrix.iloc[i,:-1]=corr_matrix.iloc[i,:-1]/np.size(where_is_used)\n",
        "    corr_matrix.iloc[i,-1:] = np.size(where_is_used)\n",
        "  occurrence_dict[names] = corr_matrix"
      ],
      "execution_count": 13,
      "outputs": []
    },
    {
      "cell_type": "code",
      "metadata": {
        "id": "tAJ2ga9iBzq_"
      },
      "source": [
        "# for each cuisine, for each ingredient we will consider the most common match\n",
        "from collections import defaultdict\n",
        "\n",
        "best_match = defaultdict(dict)\n",
        "\n",
        "for c, names in enumerate(cuisine_names): #for each cuisine\n",
        "  corr_matrix = occurrence_dict[names]\n",
        "  for i in range(corr_matrix.shape[0]): #for each ingredient\n",
        "    ingredient_matches = corr_matrix.columns[i]\n",
        "    my_max = np.max(corr_matrix.iloc[i,:corr_matrix.shape[0]])    \n",
        "    if my_max==0:\n",
        "      best_match[names][ingredient_matches] = -1\n",
        "    else:\n",
        "      matches = corr_matrix.columns[np.where(corr_matrix.iloc[i,:corr_matrix.shape[0]]==my_max)].tolist()\n",
        "      best_match[names][ingredient_matches] = {\"matches\":matches,\n",
        "                                           \"power\":int(my_max),\n",
        "                                           \"relative\":int(corr_matrix.iloc[[i]]['occurrence'])}"
      ],
      "execution_count": 14,
      "outputs": []
    },
    {
      "cell_type": "code",
      "metadata": {
        "colab": {
          "base_uri": "https://localhost:8080/"
        },
        "id": "iFB41T6_Ri7v",
        "outputId": "18ffe209-fdaf-4cd1-8200-ceff7bdb7171"
      },
      "source": [
        "example_matches = defaultdict(dict)\n",
        "\n",
        "list_of_common_ingredients = ['salt'] # in this list we can insert the ingredients that we exclude from the matches\n",
        "threshold = 11 # minimum number of recipes that ingredients should appear \n",
        "for c, names in enumerate(cuisine_names): #for each cuisine\n",
        "  for i,ing in enumerate(best_match[names]):\n",
        "    if best_match[names][ing] != -1 and best_match[names][ing]['relative'] >= threshold:\n",
        "      no_common = [x for x in best_match[names][ing]['matches'] if x not in list_of_common_ingredients]\n",
        "      if(len(no_common) != 0):\n",
        "        example_matches[names][ing] = no_common\n",
        "\n",
        "for c,names in enumerate(cuisine_names): # we show the most common matches of each cuisine \n",
        "  print(names)\n",
        "  print(example_matches[names])"
      ],
      "execution_count": 15,
      "outputs": [
        {
          "output_type": "stream",
          "name": "stdout",
          "text": [
            "Chinese\n{'bean_sprouts': ['soy_sauce'], 'beef': ['soy_sauce'], 'broccoli': ['soy_sauce'], 'broth': ['soy_sauce'], 'brown_sugar': ['soy_sauce'], 'canola_oil': ['soy_sauce'], 'carrot': ['soy_sauce'], 'cashew_nut': ['soy_sauce'], 'celery': ['soy_sauce'], 'chicken': ['soy_sauce'], 'chicken_stock': ['green_onion'], 'chile_pepper': ['soy_sauce'], 'chili_sauce': ['garlic'], 'cilantro': ['garlic'], 'cornstarch': ['soy_sauce'], 'egg': ['soy_sauce'], 'five_spice_powder': ['soy_sauce'], 'flour': ['soy_sauce'], 'garlic': ['soy_sauce'], 'garlic_powder': ['soy_sauce'], 'ginger': ['soy_sauce'], 'green_onion': ['soy_sauce'], 'hoisin_sauce': ['soy_sauce'], 'honey': ['soy_sauce'], 'ketchup': ['soy_sauce'], 'lemon_juice': ['soy_sauce'], 'mushroom': ['soy_sauce'], 'olive_oil': ['soy_sauce'], 'onion': ['soy_sauce'], 'orange_juice': ['soy_sauce'], 'oyster_sauce': ['soy_sauce'], 'pea': ['soy_sauce'], 'peanut_oil': ['soy_sauce'], 'pepper': ['soy_sauce'], 'pineapple': ['soy_sauce'], 'pork': ['soy_sauce'], 'red_pepper_flakes': ['soy_sauce'], 'rice': ['soy_sauce'], 'rice_vinegar': ['soy_sauce'], 'rice_wine': ['soy_sauce'], 'salt': ['soy_sauce'], 'sesame_oil': ['soy_sauce'], 'sesame_seed': ['soy_sauce'], 'sherry': ['soy_sauce'], 'shrimp': ['garlic', 'soy_sauce'], 'snow_pea': ['soy_sauce'], 'soy_sauce': ['garlic'], 'sugar': ['soy_sauce'], 'sweet_pepper': ['soy_sauce'], 'tofu': ['soy_sauce'], 'vegetable_oil': ['soy_sauce'], 'vinegar': ['soy_sauce'], 'water': ['soy_sauce'], 'water_chestnut': ['soy_sauce'], 'wine': ['soy_sauce'], 'wine_vinegar': ['soy_sauce']}\nEnglish\n{'apple': ['onion'], 'bacon': ['onion'], 'bay_leaf': ['onion'], 'beef': ['onion'], 'beef_stock': ['beef'], 'breadcrumb': ['onion'], 'broth': ['onion'], 'butter': ['onion'], 'carrot': ['onion'], 'celery': ['onion'], 'cheddar_cheese': ['potato'], 'chicken': ['onion'], 'chicken_stock': ['onion'], 'chives': ['potato'], 'egg': ['flour', 'onion'], 'flour': ['onion'], 'garlic': ['onion'], 'ginger': ['onion'], 'green_onion': ['butter'], 'lamb': ['carrot', 'onion'], 'leek': ['potato'], 'lemon': ['olive_oil'], 'lemon_juice': ['onion'], 'milk': ['flour'], 'mushroom': ['onion'], 'mustard_prepared': ['butter'], 'olive_oil': ['onion'], 'onion': ['potato'], 'parsley': ['onion'], 'pea': ['potato'], 'pork': ['onion'], 'potato': ['onion'], 'rosemary': ['garlic'], 'sage': ['onion'], 'salt': ['pepper'], 'sausage': ['onion'], 'shallot': ['chicken'], 'sugar': ['butter'], 'thyme': ['onion'], 'tomato': ['onion'], 'tomato_paste': ['onion'], 'vegetable_oil': ['onion'], 'water': ['onion'], 'wine': ['onion'], 'wine_vinegar': ['onion'], 'worcestershire_sauce': ['onion']}\nFrench\n{'bacon': ['garlic'], 'balsamic_vinegar': ['olive_oil'], 'basil': ['garlic'], 'bay_leaf': ['garlic'], 'beef': ['butter', 'wine'], 'beef_stock': ['beef', 'butter', 'garlic'], 'brandy': ['butter'], 'breadcrumb': ['olive_oil'], 'broth': ['wine'], 'butter': ['wine'], 'carrot': ['onion'], 'celery': ['carrot'], 'chicken': ['wine'], 'chicken_stock': ['wine'], 'egg': ['butter'], 'eggplant': ['garlic', 'olive_oil'], 'flour': ['wine'], 'garlic': ['onion'], 'green_onion': ['garlic'], 'gruyere': ['butter'], 'ham': ['chicken'], 'heavy_cream': ['butter'], 'lemon': ['butter'], 'lemon_juice': ['wine'], 'milk': ['egg'], 'mushroom': ['garlic', 'wine'], 'mustard_prepared': ['olive_oil'], 'nutmeg': ['egg'], 'olive_oil': ['garlic'], 'onion': ['garlic'], 'parmesan_cheese': ['garlic'], 'parsley': ['garlic', 'wine'], 'pearl_onion': ['wine'], 'pork': ['butter'], 'potato': ['garlic'], 'rosemary': ['thyme'], 'salt': ['pepper'], 'shallot': ['butter'], 'sugar': ['onion', 'wine'], 'sweet_pepper': ['garlic', 'olive_oil', 'onion'], 'swiss_cheese': ['egg'], 'tarragon': ['chicken'], 'thyme': ['garlic'], 'tomato': ['garlic'], 'tomato_paste': ['garlic'], 'vegetable_oil': ['chicken'], 'water': ['onion'], 'whipping_cream': ['butter', 'chicken'], 'wine': ['garlic'], 'zucchini': ['garlic', 'onion']}\nGerman\n{'apple': ['onion'], 'bacon': ['onion'], 'bay_leaf': ['onion'], 'beef': ['onion'], 'beef_round_cuts': ['onion'], 'beef_stock': ['onion'], 'beer': ['onion'], 'bratwursts': ['onion'], 'breadcrumb': ['egg'], 'broth': ['onion'], 'brown_sugar': ['onion'], 'butter': ['onion'], 'cabbage': ['onion'], 'canola_oil': ['flour'], 'caraway_seed': ['onion'], 'carrot': ['onion'], 'celery': ['onion'], 'clove': ['bay_leaf', 'onion', 'pepper'], 'cornstarch': ['onion', 'water'], 'flour': ['onion'], 'garlic': ['onion'], 'lemon': ['butter'], 'lemon_juice': ['onion'], 'milk': ['egg', 'flour'], 'mushroom': ['onion'], 'mustard_prepared': ['onion'], 'mustard_seed_and_powder': ['onion'], 'nutmeg': ['pepper'], 'olive_oil': ['butter', 'onion'], 'onion': ['pepper'], 'paprika': ['onion'], 'parsley': ['onion'], 'pickle': ['mustard_prepared', 'onion'], 'pork': ['onion'], 'potato': ['onion'], 'salt': ['pepper'], 'sauerkraut': ['onion'], 'sausage': ['onion'], 'sour_cream': ['onion'], 'sugar': ['onion'], 'sweet_pepper': ['onion'], 'thyme': ['butter', 'garlic', 'onion', 'pepper'], 'tomato': ['onion'], 'vegetable_oil': ['onion'], 'water': ['onion'], 'wine': ['onion'], 'wine_vinegar': ['onion']}\nGreek\n{'artichoke': ['tomato'], 'basil': ['garlic'], 'bay_leaf': ['olive_oil', 'onion'], 'beef': ['garlic'], 'black_olive': ['feta_cheese'], 'broth': ['olive_oil'], 'butter': ['garlic'], 'carrot': ['onion'], 'celery': ['onion'], 'chicken': ['olive_oil'], 'cinnamon': ['onion'], 'cucumber': ['oregano', 'yogurt'], 'cumin': ['garlic'], 'dill': ['onion'], 'egg': ['onion'], 'eggplant': ['onion'], 'feta_cheese': ['olive_oil'], 'flour': ['garlic'], 'garlic': ['olive_oil'], 'garlic_powder': ['oregano'], 'green_onion': ['garlic'], 'kalamata_olive': ['olive_oil'], 'lamb': ['garlic'], 'lemon': ['olive_oil'], 'lemon_juice': ['olive_oil'], 'milk': ['onion'], 'mint': ['garlic'], 'mushroom': ['garlic', 'onion'], 'nutmeg': ['onion'], 'olive_oil': ['garlic'], 'onion': ['garlic'], 'oregano': ['garlic'], 'parmesan_cheese': ['garlic'], 'parsley': ['garlic'], 'pasta': ['garlic'], 'pepper': ['garlic'], 'phyllo_dough': ['feta_cheese'], 'pita_bread': ['onion', 'oregano'], 'potato': ['olive_oil'], 'rosemary': ['garlic'], 'salt': ['pepper'], 'spinach': ['feta_cheese'], 'sugar': ['tomato'], 'sweet_pepper': ['garlic', 'olive_oil', 'onion'], 'thyme': ['garlic', 'oregano'], 'tomato': ['garlic', 'olive_oil'], 'tomato_paste': ['onion'], 'tomato_sauce': ['onion'], 'water': ['olive_oil'], 'wine': ['garlic'], 'wine_vinegar': ['onion'], 'yogurt': ['garlic'], 'zucchini': ['olive_oil']}\nIndian\n{'almond': ['garlic'], 'basmati_rice': ['onion'], 'bay_leaf': ['garlic', 'onion'], 'beef': ['onion'], 'broth': ['onion'], 'butter': ['ginger'], 'canola_oil': ['onion'], 'cardamom': ['garlic'], 'carrot': ['onion'], 'cashew_nut': ['onion'], 'cauliflower': ['cumin', 'turmeric'], 'cayenne_pepper': ['garlic'], 'chicken': ['garlic'], 'chickpea': ['onion'], 'chile_pepper': ['garlic'], 'chili_powder': ['garlic'], 'cilantro': ['onion'], 'cinnamon': ['garlic'], 'clove': ['garlic'], 'coconut': ['cumin', 'onion', 'turmeric'], 'coconut_milk_or_cream': ['garlic'], 'coriander': ['cumin'], 'cumin': ['garlic'], 'curry_leaf': ['turmeric'], 'curry_paste': ['onion'], 'curry_powder': ['onion'], 'dried_chile_pepper': ['cumin', 'turmeric'], 'fenugreek': ['garlic'], 'flour': ['onion'], 'garlic': ['onion'], 'ghee': ['garlic', 'onion'], 'ginger': ['garlic'], 'lamb': ['garlic', 'onion'], 'lemon': ['garlic'], 'lemon_juice': ['garlic'], 'lentil': ['onion'], 'lime': ['garlic'], 'masala': ['garlic'], 'mustard_seed_and_powder': ['turmeric'], 'olive_oil': ['onion'], 'onion': ['garlic'], 'paprika': ['garlic'], 'pea': ['onion'], 'pepper': ['garlic'], 'potato': ['onion'], 'red_chile_powder': ['onion'], 'rice': ['onion'], 'salt': ['garlic'], 'spinach': ['onion'], 'sugar': ['onion'], 'sweet_pepper': ['onion'], 'tomato': ['onion'], 'tomato_paste': ['garlic'], 'tomato_puree': ['garlic'], 'tomato_sauce': ['onion'], 'turmeric': ['garlic', 'onion'], 'vegetable_oil': ['onion'], 'water': ['onion'], 'yogurt': ['garlic']}\nItalian\n{'basil': ['garlic'], 'bay_leaf': ['onion'], 'beef': ['mozzarella', 'onion', 'parmesan_cheese'], 'breadcrumb': ['egg'], 'broth': ['garlic'], 'butter': ['garlic'], 'carrot': ['garlic'], 'chicken': ['garlic'], 'cottage_cheese': ['mozzarella'], 'egg': ['parmesan_cheese'], 'eggplant': ['garlic'], 'flour': ['olive_oil'], 'garlic': ['olive_oil', 'onion'], 'garlic_powder': ['oregano'], 'heavy_cream': ['parmesan_cheese', 'pasta'], 'Italian_breadcrumbs': ['parmesan_cheese'], 'lasagna_noodles': ['mozzarella'], 'lemon': ['butter', 'olive_oil'], 'lemon_juice': ['olive_oil'], 'milk': ['garlic'], 'mozzarella': ['parmesan_cheese'], 'mushroom': ['garlic'], 'olive_oil': ['garlic'], 'onion': ['garlic'], 'oregano': ['garlic'], 'parmesan_cheese': ['garlic'], 'parsley': ['garlic'], 'pasta': ['garlic'], 'pasta_sauce': ['mozzarella'], 'pork': ['garlic'], 'red_pepper_flakes': ['garlic'], 'ricotta_cheese': ['mozzarella'], 'rosemary': ['garlic'], 'salt': ['garlic'], 'sausage': ['garlic'], 'shallot': ['garlic'], 'spinach': ['mozzarella'], 'sugar': ['basil'], 'sweet_pepper': ['onion'], 'thyme': ['garlic'], 'tomato': ['garlic'], 'tomato_paste': ['garlic'], 'tomato_sauce': ['garlic'], 'vegetable_oil': ['garlic'], 'water': ['garlic'], 'wine': ['garlic']}\nJapanese\n{'beef': ['soy_sauce'], 'broth': ['soy_sauce'], 'brown_sugar': ['soy_sauce'], 'butter': ['garlic'], 'cabbage': ['soy_sauce'], 'carrot': ['soy_sauce'], 'chicken': ['soy_sauce'], 'chinese_cabbage': ['soy_sauce'], 'cornstarch': ['soy_sauce'], 'cucumber': ['sesame_seed', 'soy_sauce'], 'dashi': ['soy_sauce'], 'egg': ['soy_sauce'], 'flour': ['egg'], 'garlic': ['soy_sauce'], 'ginger': ['soy_sauce'], 'green_onion': ['soy_sauce'], 'honey': ['soy_sauce'], 'ketchup': ['soy_sauce', 'worcestershire_sauce'], 'lemon_juice': ['soy_sauce'], 'miso': ['rice_wine'], 'mushroom': ['soy_sauce'], 'nori': ['cucumber', 'sushi_rice'], 'olive_oil': ['garlic'], 'onion': ['soy_sauce'], 'pepper': ['soy_sauce'], 'pork': ['soy_sauce'], 'potato': ['sugar'], 'rice': ['soy_sauce'], 'rice_vinegar': ['soy_sauce'], 'rice_wine': ['soy_sauce'], 'salmon': ['soy_sauce'], 'salt': ['soy_sauce'], 'sesame_oil': ['soy_sauce'], 'sesame_seed': ['soy_sauce'], 'shitake': ['soy_sauce'], 'soy_sauce': ['ginger'], 'sugar': ['soy_sauce'], 'sweet_pepper': ['soy_sauce'], 'tofu': ['soy_sauce'], 'tuna': ['soy_sauce'], 'vegetable_oil': ['soy_sauce'], 'wasabi': ['ginger', 'soy_sauce'], 'water': ['soy_sauce'], 'worcestershire_sauce': ['soy_sauce']}\nMexican\n{'beef': ['onion'], 'black_bean': ['onion'], 'black_olive': ['onion', 'sour_cream', 'tortilla'], 'broth': ['garlic'], 'butter': ['onion'], 'cayenne_pepper': ['cumin'], 'cheddar_cheese': ['tortilla'], 'cheese': ['salsa', 'tortilla'], 'chicken': ['tortilla'], 'chicken_soup': ['tortilla'], 'chile_pepper': ['tortilla'], 'chili_powder': ['cumin'], 'chipotle_pepper': ['garlic'], 'cilantro': ['cumin', 'garlic'], 'coriander': ['cumin', 'garlic'], 'corn': ['onion'], 'cumin': ['onion'], 'egg': ['flour', 'onion'], 'enchilada_sauce': ['tortilla'], 'garlic': ['onion'], 'garlic_powder': ['chili_powder'], 'green_onion': ['cilantro'], 'jack_cheese': ['tortilla'], 'jalapeno_pepper': ['garlic'], 'lime': ['garlic'], 'Mexican_blend_cheese': ['tortilla'], 'olive_oil': ['garlic'], 'onion': ['garlic'], 'oregano': ['cumin'], 'paprika': ['cumin'], 'pasta': ['cheddar_cheese', 'corn', 'salsa', 'sour_cream', 'sweet_pepper', 'taco_seasoning'], 'pinto_bean': ['tomato'], 'pork': ['garlic'], 'refried_beans': ['beef', 'tortilla'], 'rice': ['onion'], 'salsa': ['onion'], 'salt': ['cumin'], 'sour_cream': ['tortilla'], 'sugar': ['cumin'], 'sweet_pepper': ['onion'], 'taco_seasoning': ['onion'], 'tomato': ['onion'], 'tomato_sauce': ['onion'], 'tortilla': ['onion'], 'vegetable_oil': ['onion'], 'water': ['onion'], 'white_onion': ['garlic', 'tortilla']}\nMoroccan\n{'allspice': ['onion'], 'almond': ['cinnamon'], 'beef': ['onion'], 'bouillon': ['onion'], 'broth': ['onion'], 'butter': ['onion'], 'butternut_squash': ['onion'], 'carrot': ['onion'], 'cayenne_pepper': ['cumin'], 'chicken': ['onion'], 'chicken_stock': ['onion'], 'chickpea': ['onion'], 'chile_pepper': ['onion'], 'cilantro': ['onion'], 'cinnamon': ['onion'], 'clove': ['cumin'], 'coriander': ['cumin'], 'couscous': ['olive_oil'], 'cumin': ['onion'], 'dried_apricot': ['onion'], 'egg': ['onion'], 'flour': ['olive_oil', 'onion'], 'garlic': ['onion'], 'ginger': ['onion'], 'harissa': ['olive_oil'], 'honey': ['cinnamon'], 'lamb': ['garlic'], 'lemon': ['olive_oil'], 'lemon_juice': ['garlic'], 'lentil': ['onion'], 'manzanilla_olive': ['garlic'], 'mint': ['garlic'], 'olive_oil': ['onion'], 'onion': ['garlic'], 'orange_juice': ['cinnamon'], 'paprika': ['cumin'], 'parsley': ['onion'], 'pepper': ['onion'], 'potato': ['onion'], 'preserved_lemon': ['onion'], 'prune': ['cinnamon'], 'raisin': ['onion'], 'ras_el_hanout': ['onion'], 'red_pepper_flakes': ['onion'], 'saffron': ['onion'], 'salt': ['onion'], 'sweet_pepper': ['cumin', 'garlic', 'onion'], 'sweet_potato': ['onion'], 'tomato': ['onion'], 'tomato_paste': ['onion'], 'turmeric': ['onion'], 'vegetable_oil': ['garlic', 'onion'], 'water': ['onion'], 'zucchini': ['onion']}\nSpanish\n{'arborio_rice': ['olive_oil', 'onion'], 'artichoke': ['garlic'], 'bacon': ['garlic'], 'basil': ['olive_oil'], 'bay_leaf': ['garlic'], 'beef': ['olive_oil'], 'broth': ['garlic'], 'butter': ['garlic'], 'carrot': ['onion'], 'cayenne_pepper': ['onion', 'tomato'], 'chicken': ['garlic'], 'chicken_stock': ['garlic', 'olive_oil'], 'chickpea': ['garlic'], 'chile_pepper': ['garlic'], 'cilantro': ['garlic'], 'clam': ['garlic'], 'cumin': ['onion'], 'egg': ['onion'], 'flour': ['garlic'], 'garlic': ['olive_oil'], 'green_bean': ['garlic'], 'green_onion': ['garlic'], 'ham': ['onion'], 'lemon': ['garlic'], 'manzanilla_olive': ['garlic'], 'mushroom': ['garlic', 'onion'], 'mussel': ['garlic', 'saffron'], 'olive_oil': ['garlic'], 'onion': ['garlic'], 'oregano': ['garlic'], 'paprika': ['garlic'], 'parsley': ['garlic'], 'pea': ['garlic'], 'pepper': ['garlic'], 'pork': ['olive_oil'], 'potato': ['onion'], 'red_pepper_flakes': ['garlic'], 'rice': ['garlic'], 'rosemary': ['olive_oil'], 'saffron': ['garlic'], 'salt': ['garlic'], 'sausage': ['garlic'], 'sherry': ['garlic', 'olive_oil'], 'shrimp': ['garlic'], 'sugar': ['olive_oil'], 'sweet_pepper': ['garlic', 'onion'], 'thyme': ['garlic'], 'tomato': ['garlic'], 'tomato_sauce': ['garlic', 'olive_oil', 'onion'], 'turmeric': ['onion'], 'vegetable_oil': ['garlic'], 'water': ['garlic', 'onion'], 'wine': ['garlic'], 'wine_vinegar': ['garlic', 'olive_oil']}\nThai\n{'basil': ['fish_sauce'], 'bean_sprouts': ['garlic'], 'beef': ['garlic'], 'broccoli': ['soy_sauce'], 'broth': ['garlic'], 'brown_sugar': ['fish_sauce'], 'canola_oil': ['garlic'], 'carrot': ['garlic'], 'cayenne_pepper': ['garlic'], 'chicken': ['garlic'], 'chicken_stock': ['coconut_milk_or_cream'], 'chile_pepper': ['garlic'], 'chili_sauce': ['garlic'], 'cilantro': ['garlic'], 'coconut_milk_or_cream': ['curry_paste', 'fish_sauce'], 'coriander': ['garlic'], 'cornstarch': ['garlic'], 'cucumber': ['garlic', 'lime'], 'cumin': ['garlic', 'ginger'], 'curry_paste': ['coconut_milk_or_cream'], 'curry_powder': ['coconut_milk_or_cream', 'garlic'], 'egg': ['garlic'], 'fish_sauce': ['garlic'], 'garlic': ['fish_sauce'], 'ginger': ['garlic'], 'green_onion': ['garlic'], 'honey': ['soy_sauce'], 'jalapeno_pepper': ['ginger'], 'kaffir_lime': ['coconut_milk_or_cream'], 'lemon_grass': ['garlic'], 'lime': ['garlic'], 'mint': ['green_onion'], 'mushroom': ['coconut_milk_or_cream', 'fish_sauce'], 'olive_oil': ['garlic'], 'onion': ['garlic'], 'oyster_sauce': ['garlic'], 'palm_sugar': ['fish_sauce'], 'pasta': ['soy_sauce'], 'peanut': ['garlic'], 'peanut_butter': ['soy_sauce'], 'peanut_oil': ['fish_sauce'], 'pepper': ['garlic'], 'pork': ['garlic'], 'red_pepper_flakes': ['garlic'], 'rice': ['garlic'], 'rice_noodles': ['garlic'], 'rice_vinegar': ['garlic'], 'salt': ['garlic'], 'sesame_oil': ['soy_sauce'], 'shallot': ['garlic'], 'shrimp': ['garlic'], 'snow_pea': ['garlic'], 'soy_sauce': ['garlic'], 'sugar': ['garlic'], 'sweet_pepper': ['garlic'], 'tamarind': ['fish_sauce'], 'tofu': ['garlic'], 'turmeric': ['garlic'], 'vegetable_oil': ['garlic'], 'water': ['garlic']}\n"
          ]
        }
      ]
    }
  ]
}